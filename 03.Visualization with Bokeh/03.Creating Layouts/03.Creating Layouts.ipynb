{
 "cells": [
  {
   "cell_type": "code",
   "execution_count": 21,
   "metadata": {},
   "outputs": [],
   "source": [
    "import numpy as np\n",
    "import pandas as pd\n",
    "from bokeh.io import output_notebook,show\n",
    "from bokeh.plotting import figure\n",
    "from bokeh.layouts import column , row"
   ]
  },
  {
   "cell_type": "code",
   "execution_count": 7,
   "metadata": {},
   "outputs": [
    {
     "data": {
      "text/html": [
       "\n",
       "    <div class=\"bk-root\">\n",
       "        <a href=\"https://bokeh.org\" target=\"_blank\" class=\"bk-logo bk-logo-small bk-logo-notebook\"></a>\n",
       "        <span id=\"1715\">Loading BokehJS ...</span>\n",
       "    </div>"
      ]
     },
     "metadata": {},
     "output_type": "display_data"
    },
    {
     "data": {
      "application/javascript": [
       "\n",
       "(function(root) {\n",
       "  function now() {\n",
       "    return new Date();\n",
       "  }\n",
       "\n",
       "  var force = true;\n",
       "\n",
       "  if (typeof root._bokeh_onload_callbacks === \"undefined\" || force === true) {\n",
       "    root._bokeh_onload_callbacks = [];\n",
       "    root._bokeh_is_loading = undefined;\n",
       "  }\n",
       "\n",
       "  var JS_MIME_TYPE = 'application/javascript';\n",
       "  var HTML_MIME_TYPE = 'text/html';\n",
       "  var EXEC_MIME_TYPE = 'application/vnd.bokehjs_exec.v0+json';\n",
       "  var CLASS_NAME = 'output_bokeh rendered_html';\n",
       "\n",
       "  /**\n",
       "   * Render data to the DOM node\n",
       "   */\n",
       "  function render(props, node) {\n",
       "    var script = document.createElement(\"script\");\n",
       "    node.appendChild(script);\n",
       "  }\n",
       "\n",
       "  /**\n",
       "   * Handle when an output is cleared or removed\n",
       "   */\n",
       "  function handleClearOutput(event, handle) {\n",
       "    var cell = handle.cell;\n",
       "\n",
       "    var id = cell.output_area._bokeh_element_id;\n",
       "    var server_id = cell.output_area._bokeh_server_id;\n",
       "    // Clean up Bokeh references\n",
       "    if (id != null && id in Bokeh.index) {\n",
       "      Bokeh.index[id].model.document.clear();\n",
       "      delete Bokeh.index[id];\n",
       "    }\n",
       "\n",
       "    if (server_id !== undefined) {\n",
       "      // Clean up Bokeh references\n",
       "      var cmd = \"from bokeh.io.state import curstate; print(curstate().uuid_to_server['\" + server_id + \"'].get_sessions()[0].document.roots[0]._id)\";\n",
       "      cell.notebook.kernel.execute(cmd, {\n",
       "        iopub: {\n",
       "          output: function(msg) {\n",
       "            var id = msg.content.text.trim();\n",
       "            if (id in Bokeh.index) {\n",
       "              Bokeh.index[id].model.document.clear();\n",
       "              delete Bokeh.index[id];\n",
       "            }\n",
       "          }\n",
       "        }\n",
       "      });\n",
       "      // Destroy server and session\n",
       "      var cmd = \"import bokeh.io.notebook as ion; ion.destroy_server('\" + server_id + \"')\";\n",
       "      cell.notebook.kernel.execute(cmd);\n",
       "    }\n",
       "  }\n",
       "\n",
       "  /**\n",
       "   * Handle when a new output is added\n",
       "   */\n",
       "  function handleAddOutput(event, handle) {\n",
       "    var output_area = handle.output_area;\n",
       "    var output = handle.output;\n",
       "\n",
       "    // limit handleAddOutput to display_data with EXEC_MIME_TYPE content only\n",
       "    if ((output.output_type != \"display_data\") || (!output.data.hasOwnProperty(EXEC_MIME_TYPE))) {\n",
       "      return\n",
       "    }\n",
       "\n",
       "    var toinsert = output_area.element.find(\".\" + CLASS_NAME.split(' ')[0]);\n",
       "\n",
       "    if (output.metadata[EXEC_MIME_TYPE][\"id\"] !== undefined) {\n",
       "      toinsert[toinsert.length - 1].firstChild.textContent = output.data[JS_MIME_TYPE];\n",
       "      // store reference to embed id on output_area\n",
       "      output_area._bokeh_element_id = output.metadata[EXEC_MIME_TYPE][\"id\"];\n",
       "    }\n",
       "    if (output.metadata[EXEC_MIME_TYPE][\"server_id\"] !== undefined) {\n",
       "      var bk_div = document.createElement(\"div\");\n",
       "      bk_div.innerHTML = output.data[HTML_MIME_TYPE];\n",
       "      var script_attrs = bk_div.children[0].attributes;\n",
       "      for (var i = 0; i < script_attrs.length; i++) {\n",
       "        toinsert[toinsert.length - 1].firstChild.setAttribute(script_attrs[i].name, script_attrs[i].value);\n",
       "      }\n",
       "      // store reference to server id on output_area\n",
       "      output_area._bokeh_server_id = output.metadata[EXEC_MIME_TYPE][\"server_id\"];\n",
       "    }\n",
       "  }\n",
       "\n",
       "  function register_renderer(events, OutputArea) {\n",
       "\n",
       "    function append_mime(data, metadata, element) {\n",
       "      // create a DOM node to render to\n",
       "      var toinsert = this.create_output_subarea(\n",
       "        metadata,\n",
       "        CLASS_NAME,\n",
       "        EXEC_MIME_TYPE\n",
       "      );\n",
       "      this.keyboard_manager.register_events(toinsert);\n",
       "      // Render to node\n",
       "      var props = {data: data, metadata: metadata[EXEC_MIME_TYPE]};\n",
       "      render(props, toinsert[toinsert.length - 1]);\n",
       "      element.append(toinsert);\n",
       "      return toinsert\n",
       "    }\n",
       "\n",
       "    /* Handle when an output is cleared or removed */\n",
       "    events.on('clear_output.CodeCell', handleClearOutput);\n",
       "    events.on('delete.Cell', handleClearOutput);\n",
       "\n",
       "    /* Handle when a new output is added */\n",
       "    events.on('output_added.OutputArea', handleAddOutput);\n",
       "\n",
       "    /**\n",
       "     * Register the mime type and append_mime function with output_area\n",
       "     */\n",
       "    OutputArea.prototype.register_mime_type(EXEC_MIME_TYPE, append_mime, {\n",
       "      /* Is output safe? */\n",
       "      safe: true,\n",
       "      /* Index of renderer in `output_area.display_order` */\n",
       "      index: 0\n",
       "    });\n",
       "  }\n",
       "\n",
       "  // register the mime type if in Jupyter Notebook environment and previously unregistered\n",
       "  if (root.Jupyter !== undefined) {\n",
       "    var events = require('base/js/events');\n",
       "    var OutputArea = require('notebook/js/outputarea').OutputArea;\n",
       "\n",
       "    if (OutputArea.prototype.mime_types().indexOf(EXEC_MIME_TYPE) == -1) {\n",
       "      register_renderer(events, OutputArea);\n",
       "    }\n",
       "  }\n",
       "\n",
       "  \n",
       "  if (typeof (root._bokeh_timeout) === \"undefined\" || force === true) {\n",
       "    root._bokeh_timeout = Date.now() + 5000;\n",
       "    root._bokeh_failed_load = false;\n",
       "  }\n",
       "\n",
       "  var NB_LOAD_WARNING = {'data': {'text/html':\n",
       "     \"<div style='background-color: #fdd'>\\n\"+\n",
       "     \"<p>\\n\"+\n",
       "     \"BokehJS does not appear to have successfully loaded. If loading BokehJS from CDN, this \\n\"+\n",
       "     \"may be due to a slow or bad network connection. Possible fixes:\\n\"+\n",
       "     \"</p>\\n\"+\n",
       "     \"<ul>\\n\"+\n",
       "     \"<li>re-rerun `output_notebook()` to attempt to load from CDN again, or</li>\\n\"+\n",
       "     \"<li>use INLINE resources instead, as so:</li>\\n\"+\n",
       "     \"</ul>\\n\"+\n",
       "     \"<code>\\n\"+\n",
       "     \"from bokeh.resources import INLINE\\n\"+\n",
       "     \"output_notebook(resources=INLINE)\\n\"+\n",
       "     \"</code>\\n\"+\n",
       "     \"</div>\"}};\n",
       "\n",
       "  function display_loaded() {\n",
       "    var el = document.getElementById(\"1715\");\n",
       "    if (el != null) {\n",
       "      el.textContent = \"BokehJS is loading...\";\n",
       "    }\n",
       "    if (root.Bokeh !== undefined) {\n",
       "      if (el != null) {\n",
       "        el.textContent = \"BokehJS \" + root.Bokeh.version + \" successfully loaded.\";\n",
       "      }\n",
       "    } else if (Date.now() < root._bokeh_timeout) {\n",
       "      setTimeout(display_loaded, 100)\n",
       "    }\n",
       "  }\n",
       "\n",
       "\n",
       "  function run_callbacks() {\n",
       "    try {\n",
       "      root._bokeh_onload_callbacks.forEach(function(callback) {\n",
       "        if (callback != null)\n",
       "          callback();\n",
       "      });\n",
       "    } finally {\n",
       "      delete root._bokeh_onload_callbacks\n",
       "    }\n",
       "    console.debug(\"Bokeh: all callbacks have finished\");\n",
       "  }\n",
       "\n",
       "  function load_libs(css_urls, js_urls, callback) {\n",
       "    if (css_urls == null) css_urls = [];\n",
       "    if (js_urls == null) js_urls = [];\n",
       "\n",
       "    root._bokeh_onload_callbacks.push(callback);\n",
       "    if (root._bokeh_is_loading > 0) {\n",
       "      console.debug(\"Bokeh: BokehJS is being loaded, scheduling callback at\", now());\n",
       "      return null;\n",
       "    }\n",
       "    if (js_urls == null || js_urls.length === 0) {\n",
       "      run_callbacks();\n",
       "      return null;\n",
       "    }\n",
       "    console.debug(\"Bokeh: BokehJS not loaded, scheduling load and callback at\", now());\n",
       "    root._bokeh_is_loading = css_urls.length + js_urls.length;\n",
       "\n",
       "    function on_load() {\n",
       "      root._bokeh_is_loading--;\n",
       "      if (root._bokeh_is_loading === 0) {\n",
       "        console.debug(\"Bokeh: all BokehJS libraries/stylesheets loaded\");\n",
       "        run_callbacks()\n",
       "      }\n",
       "    }\n",
       "\n",
       "    function on_error() {\n",
       "      console.error(\"failed to load \" + url);\n",
       "    }\n",
       "\n",
       "    for (var i = 0; i < css_urls.length; i++) {\n",
       "      var url = css_urls[i];\n",
       "      const element = document.createElement(\"link\");\n",
       "      element.onload = on_load;\n",
       "      element.onerror = on_error;\n",
       "      element.rel = \"stylesheet\";\n",
       "      element.type = \"text/css\";\n",
       "      element.href = url;\n",
       "      console.debug(\"Bokeh: injecting link tag for BokehJS stylesheet: \", url);\n",
       "      document.body.appendChild(element);\n",
       "    }\n",
       "\n",
       "    for (var i = 0; i < js_urls.length; i++) {\n",
       "      var url = js_urls[i];\n",
       "      var element = document.createElement('script');\n",
       "      element.onload = on_load;\n",
       "      element.onerror = on_error;\n",
       "      element.async = false;\n",
       "      element.src = url;\n",
       "      console.debug(\"Bokeh: injecting script tag for BokehJS library: \", url);\n",
       "      document.head.appendChild(element);\n",
       "    }\n",
       "  };var element = document.getElementById(\"1715\");\n",
       "  if (element == null) {\n",
       "    console.error(\"Bokeh: ERROR: autoload.js configured with elementid '1715' but no matching script tag was found. \")\n",
       "    return false;\n",
       "  }\n",
       "\n",
       "  function inject_raw_css(css) {\n",
       "    const element = document.createElement(\"style\");\n",
       "    element.appendChild(document.createTextNode(css));\n",
       "    document.body.appendChild(element);\n",
       "  }\n",
       "\n",
       "  \n",
       "  var js_urls = [\"https://cdn.pydata.org/bokeh/release/bokeh-1.4.0.min.js\", \"https://cdn.pydata.org/bokeh/release/bokeh-widgets-1.4.0.min.js\", \"https://cdn.pydata.org/bokeh/release/bokeh-tables-1.4.0.min.js\", \"https://cdn.pydata.org/bokeh/release/bokeh-gl-1.4.0.min.js\"];\n",
       "  var css_urls = [];\n",
       "  \n",
       "\n",
       "  var inline_js = [\n",
       "    function(Bokeh) {\n",
       "      Bokeh.set_log_level(\"info\");\n",
       "    },\n",
       "    function(Bokeh) {\n",
       "    \n",
       "    \n",
       "    }\n",
       "  ];\n",
       "\n",
       "  function run_inline_js() {\n",
       "    \n",
       "    if (root.Bokeh !== undefined || force === true) {\n",
       "      \n",
       "    for (var i = 0; i < inline_js.length; i++) {\n",
       "      inline_js[i].call(root, root.Bokeh);\n",
       "    }\n",
       "    if (force === true) {\n",
       "        display_loaded();\n",
       "      }} else if (Date.now() < root._bokeh_timeout) {\n",
       "      setTimeout(run_inline_js, 100);\n",
       "    } else if (!root._bokeh_failed_load) {\n",
       "      console.log(\"Bokeh: BokehJS failed to load within specified timeout.\");\n",
       "      root._bokeh_failed_load = true;\n",
       "    } else if (force !== true) {\n",
       "      var cell = $(document.getElementById(\"1715\")).parents('.cell').data().cell;\n",
       "      cell.output_area.append_execute_result(NB_LOAD_WARNING)\n",
       "    }\n",
       "\n",
       "  }\n",
       "\n",
       "  if (root._bokeh_is_loading === 0) {\n",
       "    console.debug(\"Bokeh: BokehJS loaded, going straight to plotting\");\n",
       "    run_inline_js();\n",
       "  } else {\n",
       "    load_libs(css_urls, js_urls, function() {\n",
       "      console.debug(\"Bokeh: BokehJS plotting callback run at\", now());\n",
       "      run_inline_js();\n",
       "    });\n",
       "  }\n",
       "}(window));"
      ],
      "application/vnd.bokehjs_load.v0+json": "\n(function(root) {\n  function now() {\n    return new Date();\n  }\n\n  var force = true;\n\n  if (typeof root._bokeh_onload_callbacks === \"undefined\" || force === true) {\n    root._bokeh_onload_callbacks = [];\n    root._bokeh_is_loading = undefined;\n  }\n\n  \n\n  \n  if (typeof (root._bokeh_timeout) === \"undefined\" || force === true) {\n    root._bokeh_timeout = Date.now() + 5000;\n    root._bokeh_failed_load = false;\n  }\n\n  var NB_LOAD_WARNING = {'data': {'text/html':\n     \"<div style='background-color: #fdd'>\\n\"+\n     \"<p>\\n\"+\n     \"BokehJS does not appear to have successfully loaded. If loading BokehJS from CDN, this \\n\"+\n     \"may be due to a slow or bad network connection. Possible fixes:\\n\"+\n     \"</p>\\n\"+\n     \"<ul>\\n\"+\n     \"<li>re-rerun `output_notebook()` to attempt to load from CDN again, or</li>\\n\"+\n     \"<li>use INLINE resources instead, as so:</li>\\n\"+\n     \"</ul>\\n\"+\n     \"<code>\\n\"+\n     \"from bokeh.resources import INLINE\\n\"+\n     \"output_notebook(resources=INLINE)\\n\"+\n     \"</code>\\n\"+\n     \"</div>\"}};\n\n  function display_loaded() {\n    var el = document.getElementById(\"1715\");\n    if (el != null) {\n      el.textContent = \"BokehJS is loading...\";\n    }\n    if (root.Bokeh !== undefined) {\n      if (el != null) {\n        el.textContent = \"BokehJS \" + root.Bokeh.version + \" successfully loaded.\";\n      }\n    } else if (Date.now() < root._bokeh_timeout) {\n      setTimeout(display_loaded, 100)\n    }\n  }\n\n\n  function run_callbacks() {\n    try {\n      root._bokeh_onload_callbacks.forEach(function(callback) {\n        if (callback != null)\n          callback();\n      });\n    } finally {\n      delete root._bokeh_onload_callbacks\n    }\n    console.debug(\"Bokeh: all callbacks have finished\");\n  }\n\n  function load_libs(css_urls, js_urls, callback) {\n    if (css_urls == null) css_urls = [];\n    if (js_urls == null) js_urls = [];\n\n    root._bokeh_onload_callbacks.push(callback);\n    if (root._bokeh_is_loading > 0) {\n      console.debug(\"Bokeh: BokehJS is being loaded, scheduling callback at\", now());\n      return null;\n    }\n    if (js_urls == null || js_urls.length === 0) {\n      run_callbacks();\n      return null;\n    }\n    console.debug(\"Bokeh: BokehJS not loaded, scheduling load and callback at\", now());\n    root._bokeh_is_loading = css_urls.length + js_urls.length;\n\n    function on_load() {\n      root._bokeh_is_loading--;\n      if (root._bokeh_is_loading === 0) {\n        console.debug(\"Bokeh: all BokehJS libraries/stylesheets loaded\");\n        run_callbacks()\n      }\n    }\n\n    function on_error() {\n      console.error(\"failed to load \" + url);\n    }\n\n    for (var i = 0; i < css_urls.length; i++) {\n      var url = css_urls[i];\n      const element = document.createElement(\"link\");\n      element.onload = on_load;\n      element.onerror = on_error;\n      element.rel = \"stylesheet\";\n      element.type = \"text/css\";\n      element.href = url;\n      console.debug(\"Bokeh: injecting link tag for BokehJS stylesheet: \", url);\n      document.body.appendChild(element);\n    }\n\n    for (var i = 0; i < js_urls.length; i++) {\n      var url = js_urls[i];\n      var element = document.createElement('script');\n      element.onload = on_load;\n      element.onerror = on_error;\n      element.async = false;\n      element.src = url;\n      console.debug(\"Bokeh: injecting script tag for BokehJS library: \", url);\n      document.head.appendChild(element);\n    }\n  };var element = document.getElementById(\"1715\");\n  if (element == null) {\n    console.error(\"Bokeh: ERROR: autoload.js configured with elementid '1715' but no matching script tag was found. \")\n    return false;\n  }\n\n  function inject_raw_css(css) {\n    const element = document.createElement(\"style\");\n    element.appendChild(document.createTextNode(css));\n    document.body.appendChild(element);\n  }\n\n  \n  var js_urls = [\"https://cdn.pydata.org/bokeh/release/bokeh-1.4.0.min.js\", \"https://cdn.pydata.org/bokeh/release/bokeh-widgets-1.4.0.min.js\", \"https://cdn.pydata.org/bokeh/release/bokeh-tables-1.4.0.min.js\", \"https://cdn.pydata.org/bokeh/release/bokeh-gl-1.4.0.min.js\"];\n  var css_urls = [];\n  \n\n  var inline_js = [\n    function(Bokeh) {\n      Bokeh.set_log_level(\"info\");\n    },\n    function(Bokeh) {\n    \n    \n    }\n  ];\n\n  function run_inline_js() {\n    \n    if (root.Bokeh !== undefined || force === true) {\n      \n    for (var i = 0; i < inline_js.length; i++) {\n      inline_js[i].call(root, root.Bokeh);\n    }\n    if (force === true) {\n        display_loaded();\n      }} else if (Date.now() < root._bokeh_timeout) {\n      setTimeout(run_inline_js, 100);\n    } else if (!root._bokeh_failed_load) {\n      console.log(\"Bokeh: BokehJS failed to load within specified timeout.\");\n      root._bokeh_failed_load = true;\n    } else if (force !== true) {\n      var cell = $(document.getElementById(\"1715\")).parents('.cell').data().cell;\n      cell.output_area.append_execute_result(NB_LOAD_WARNING)\n    }\n\n  }\n\n  if (root._bokeh_is_loading === 0) {\n    console.debug(\"Bokeh: BokehJS loaded, going straight to plotting\");\n    run_inline_js();\n  } else {\n    load_libs(css_urls, js_urls, function() {\n      console.debug(\"Bokeh: BokehJS plotting callback run at\", now());\n      run_inline_js();\n    });\n  }\n}(window));"
     },
     "metadata": {},
     "output_type": "display_data"
    }
   ],
   "source": [
    "output_notebook()"
   ]
  },
  {
   "cell_type": "markdown",
   "metadata": {},
   "source": [
    "### Column Layout"
   ]
  },
  {
   "cell_type": "code",
   "execution_count": 8,
   "metadata": {},
   "outputs": [
    {
     "data": {
      "text/html": [
       "\n",
       "\n",
       "\n",
       "\n",
       "\n",
       "\n",
       "  <div class=\"bk-root\" id=\"ff55ef6e-5eeb-41a8-958c-461ed2dfbc7e\" data-root-id=\"1833\"></div>\n"
      ]
     },
     "metadata": {},
     "output_type": "display_data"
    },
    {
     "data": {
      "application/javascript": [
       "(function(root) {\n",
       "  function embed_document(root) {\n",
       "    \n",
       "  var docs_json = {\"58372540-710a-487c-b08d-f879926ab1bf\":{\"roots\":{\"references\":[{\"attributes\":{\"children\":[{\"id\":\"1716\",\"subtype\":\"Figure\",\"type\":\"Plot\"},{\"id\":\"1755\",\"subtype\":\"Figure\",\"type\":\"Plot\"},{\"id\":\"1794\",\"subtype\":\"Figure\",\"type\":\"Plot\"}]},\"id\":\"1833\",\"type\":\"Column\"},{\"attributes\":{},\"id\":\"1803\",\"type\":\"LinearScale\"},{\"attributes\":{\"formatter\":{\"id\":\"1896\",\"type\":\"BasicTickFormatter\"},\"ticker\":{\"id\":\"1806\",\"type\":\"BasicTicker\"}},\"id\":\"1805\",\"type\":\"LinearAxis\"},{\"attributes\":{},\"id\":\"1811\",\"type\":\"BasicTicker\"},{\"attributes\":{},\"id\":\"1806\",\"type\":\"BasicTicker\"},{\"attributes\":{\"ticker\":{\"id\":\"1806\",\"type\":\"BasicTicker\"}},\"id\":\"1809\",\"type\":\"Grid\"},{\"attributes\":{\"dimension\":1,\"ticker\":{\"id\":\"1811\",\"type\":\"BasicTicker\"}},\"id\":\"1814\",\"type\":\"Grid\"},{\"attributes\":{\"formatter\":{\"id\":\"1894\",\"type\":\"BasicTickFormatter\"},\"ticker\":{\"id\":\"1811\",\"type\":\"BasicTicker\"}},\"id\":\"1810\",\"type\":\"LinearAxis\"},{\"attributes\":{\"active_drag\":\"auto\",\"active_inspect\":\"auto\",\"active_multi\":null,\"active_scroll\":\"auto\",\"active_tap\":\"auto\",\"tools\":[{\"id\":\"1815\",\"type\":\"PanTool\"},{\"id\":\"1816\",\"type\":\"WheelZoomTool\"},{\"id\":\"1817\",\"type\":\"BoxZoomTool\"},{\"id\":\"1818\",\"type\":\"SaveTool\"},{\"id\":\"1819\",\"type\":\"ResetTool\"},{\"id\":\"1820\",\"type\":\"HelpTool\"}]},\"id\":\"1821\",\"type\":\"Toolbar\"},{\"attributes\":{},\"id\":\"1815\",\"type\":\"PanTool\"},{\"attributes\":{},\"id\":\"1816\",\"type\":\"WheelZoomTool\"},{\"attributes\":{\"overlay\":{\"id\":\"1903\",\"type\":\"BoxAnnotation\"}},\"id\":\"1817\",\"type\":\"BoxZoomTool\"},{\"attributes\":{},\"id\":\"1818\",\"type\":\"SaveTool\"},{\"attributes\":{},\"id\":\"1819\",\"type\":\"ResetTool\"},{\"attributes\":{\"fill_alpha\":{\"value\":0.1},\"fill_color\":{\"value\":\"#1f77b4\"},\"line_alpha\":{\"value\":0.1},\"line_color\":{\"value\":\"#1f77b4\"},\"size\":{\"units\":\"screen\",\"value\":12},\"x\":{\"field\":\"x\"},\"y\":{\"field\":\"y\"}},\"id\":\"1830\",\"type\":\"Square\"},{\"attributes\":{},\"id\":\"1820\",\"type\":\"HelpTool\"},{\"attributes\":{\"data_source\":{\"id\":\"1828\",\"type\":\"ColumnDataSource\"},\"glyph\":{\"id\":\"1829\",\"type\":\"Square\"},\"hover_glyph\":null,\"muted_glyph\":null,\"nonselection_glyph\":{\"id\":\"1830\",\"type\":\"Square\"},\"selection_glyph\":null,\"view\":{\"id\":\"1832\",\"type\":\"CDSView\"}},\"id\":\"1831\",\"type\":\"GlyphRenderer\"},{\"attributes\":{\"source\":{\"id\":\"1828\",\"type\":\"ColumnDataSource\"}},\"id\":\"1832\",\"type\":\"CDSView\"},{\"attributes\":{},\"id\":\"1896\",\"type\":\"BasicTickFormatter\"},{\"attributes\":{},\"id\":\"1892\",\"type\":\"BasicTickFormatter\"},{\"attributes\":{},\"id\":\"1886\",\"type\":\"BasicTickFormatter\"},{\"attributes\":{\"background_fill_color\":{\"value\":\"#fafafa\"},\"below\":[{\"id\":\"1805\",\"type\":\"LinearAxis\"}],\"center\":[{\"id\":\"1809\",\"type\":\"Grid\"},{\"id\":\"1814\",\"type\":\"Grid\"}],\"left\":[{\"id\":\"1810\",\"type\":\"LinearAxis\"}],\"plot_height\":250,\"plot_width\":500,\"renderers\":[{\"id\":\"1831\",\"type\":\"GlyphRenderer\"}],\"title\":{\"id\":\"1795\",\"type\":\"Title\"},\"toolbar\":{\"id\":\"1821\",\"type\":\"Toolbar\"},\"x_range\":{\"id\":\"1797\",\"type\":\"DataRange1d\"},\"x_scale\":{\"id\":\"1801\",\"type\":\"LinearScale\"},\"y_range\":{\"id\":\"1799\",\"type\":\"DataRange1d\"},\"y_scale\":{\"id\":\"1803\",\"type\":\"LinearScale\"}},\"id\":\"1794\",\"subtype\":\"Figure\",\"type\":\"Plot\"},{\"attributes\":{},\"id\":\"1894\",\"type\":\"BasicTickFormatter\"},{\"attributes\":{\"bottom_units\":\"screen\",\"fill_alpha\":{\"value\":0.5},\"fill_color\":{\"value\":\"lightgrey\"},\"left_units\":\"screen\",\"level\":\"overlay\",\"line_alpha\":{\"value\":1.0},\"line_color\":{\"value\":\"black\"},\"line_dash\":[4,4],\"line_width\":{\"value\":2},\"render_mode\":\"css\",\"right_units\":\"screen\",\"top_units\":\"screen\"},\"id\":\"1897\",\"type\":\"BoxAnnotation\"},{\"attributes\":{},\"id\":\"1898\",\"type\":\"UnionRenderers\"},{\"attributes\":{},\"id\":\"1899\",\"type\":\"Selection\"},{\"attributes\":{\"bottom_units\":\"screen\",\"fill_alpha\":{\"value\":0.5},\"fill_color\":{\"value\":\"lightgrey\"},\"left_units\":\"screen\",\"level\":\"overlay\",\"line_alpha\":{\"value\":1.0},\"line_color\":{\"value\":\"black\"},\"line_dash\":[4,4],\"line_width\":{\"value\":2},\"render_mode\":\"css\",\"right_units\":\"screen\",\"top_units\":\"screen\"},\"id\":\"1900\",\"type\":\"BoxAnnotation\"},{\"attributes\":{},\"id\":\"1901\",\"type\":\"UnionRenderers\"},{\"attributes\":{},\"id\":\"1902\",\"type\":\"Selection\"},{\"attributes\":{\"bottom_units\":\"screen\",\"fill_alpha\":{\"value\":0.5},\"fill_color\":{\"value\":\"lightgrey\"},\"left_units\":\"screen\",\"level\":\"overlay\",\"line_alpha\":{\"value\":1.0},\"line_color\":{\"value\":\"black\"},\"line_dash\":[4,4],\"line_width\":{\"value\":2},\"render_mode\":\"css\",\"right_units\":\"screen\",\"top_units\":\"screen\"},\"id\":\"1903\",\"type\":\"BoxAnnotation\"},{\"attributes\":{},\"id\":\"1904\",\"type\":\"UnionRenderers\"},{\"attributes\":{},\"id\":\"1905\",\"type\":\"Selection\"},{\"attributes\":{},\"id\":\"1779\",\"type\":\"SaveTool\"},{\"attributes\":{\"active_drag\":\"auto\",\"active_inspect\":\"auto\",\"active_multi\":null,\"active_scroll\":\"auto\",\"active_tap\":\"auto\",\"tools\":[{\"id\":\"1776\",\"type\":\"PanTool\"},{\"id\":\"1777\",\"type\":\"WheelZoomTool\"},{\"id\":\"1778\",\"type\":\"BoxZoomTool\"},{\"id\":\"1779\",\"type\":\"SaveTool\"},{\"id\":\"1780\",\"type\":\"ResetTool\"},{\"id\":\"1781\",\"type\":\"HelpTool\"}]},\"id\":\"1782\",\"type\":\"Toolbar\"},{\"attributes\":{},\"id\":\"1781\",\"type\":\"HelpTool\"},{\"attributes\":{\"fill_alpha\":{\"value\":0.8},\"fill_color\":{\"value\":\"#53777a\"},\"line_alpha\":{\"value\":0.8},\"line_color\":{\"value\":\"#53777a\"},\"size\":{\"units\":\"screen\",\"value\":12},\"x\":{\"field\":\"x\"},\"y\":{\"field\":\"y\"}},\"id\":\"1751\",\"type\":\"Circle\"},{\"attributes\":{\"background_fill_color\":{\"value\":\"#fafafa\"},\"below\":[{\"id\":\"1727\",\"type\":\"LinearAxis\"}],\"center\":[{\"id\":\"1731\",\"type\":\"Grid\"},{\"id\":\"1736\",\"type\":\"Grid\"}],\"left\":[{\"id\":\"1732\",\"type\":\"LinearAxis\"}],\"plot_height\":250,\"plot_width\":500,\"renderers\":[{\"id\":\"1753\",\"type\":\"GlyphRenderer\"}],\"title\":{\"id\":\"1717\",\"type\":\"Title\"},\"toolbar\":{\"id\":\"1743\",\"type\":\"Toolbar\"},\"x_range\":{\"id\":\"1719\",\"type\":\"DataRange1d\"},\"x_scale\":{\"id\":\"1723\",\"type\":\"LinearScale\"},\"y_range\":{\"id\":\"1721\",\"type\":\"DataRange1d\"},\"y_scale\":{\"id\":\"1725\",\"type\":\"LinearScale\"}},\"id\":\"1716\",\"subtype\":\"Figure\",\"type\":\"Plot\"},{\"attributes\":{\"text\":\"2nd Plot\"},\"id\":\"1756\",\"type\":\"Title\"},{\"attributes\":{\"text\":\"1st Plot\"},\"id\":\"1717\",\"type\":\"Title\"},{\"attributes\":{\"callback\":null,\"data\":{\"x\":[0,1,2,3,4,5,6,7,8,9,10],\"y\":[5,4,3,2,1,0,1,2,3,4,5]},\"selected\":{\"id\":\"1905\",\"type\":\"Selection\"},\"selection_policy\":{\"id\":\"1904\",\"type\":\"UnionRenderers\"}},\"id\":\"1828\",\"type\":\"ColumnDataSource\"},{\"attributes\":{\"callback\":null},\"id\":\"1719\",\"type\":\"DataRange1d\"},{\"attributes\":{},\"id\":\"1723\",\"type\":\"LinearScale\"},{\"attributes\":{\"callback\":null},\"id\":\"1721\",\"type\":\"DataRange1d\"},{\"attributes\":{},\"id\":\"1725\",\"type\":\"LinearScale\"},{\"attributes\":{\"formatter\":{\"id\":\"1888\",\"type\":\"BasicTickFormatter\"},\"ticker\":{\"id\":\"1728\",\"type\":\"BasicTicker\"}},\"id\":\"1727\",\"type\":\"LinearAxis\"},{\"attributes\":{},\"id\":\"1733\",\"type\":\"BasicTicker\"},{\"attributes\":{},\"id\":\"1728\",\"type\":\"BasicTicker\"},{\"attributes\":{\"ticker\":{\"id\":\"1728\",\"type\":\"BasicTicker\"}},\"id\":\"1731\",\"type\":\"Grid\"},{\"attributes\":{},\"id\":\"1776\",\"type\":\"PanTool\"},{\"attributes\":{},\"id\":\"1890\",\"type\":\"BasicTickFormatter\"},{\"attributes\":{\"formatter\":{\"id\":\"1886\",\"type\":\"BasicTickFormatter\"},\"ticker\":{\"id\":\"1733\",\"type\":\"BasicTicker\"}},\"id\":\"1732\",\"type\":\"LinearAxis\"},{\"attributes\":{\"dimension\":1,\"ticker\":{\"id\":\"1733\",\"type\":\"BasicTicker\"}},\"id\":\"1736\",\"type\":\"Grid\"},{\"attributes\":{\"callback\":null,\"data\":{\"x\":[0,1,2,3,4,5,6,7,8,9,10],\"y\":[0,1,2,3,4,5,6,7,8,9,10]},\"selected\":{\"id\":\"1899\",\"type\":\"Selection\"},\"selection_policy\":{\"id\":\"1898\",\"type\":\"UnionRenderers\"}},\"id\":\"1750\",\"type\":\"ColumnDataSource\"},{\"attributes\":{\"fill_alpha\":{\"value\":0.1},\"fill_color\":{\"value\":\"#1f77b4\"},\"line_alpha\":{\"value\":0.1},\"line_color\":{\"value\":\"#1f77b4\"},\"size\":{\"units\":\"screen\",\"value\":12},\"x\":{\"field\":\"x\"},\"y\":{\"field\":\"y\"}},\"id\":\"1791\",\"type\":\"Triangle\"},{\"attributes\":{\"active_drag\":\"auto\",\"active_inspect\":\"auto\",\"active_multi\":null,\"active_scroll\":\"auto\",\"active_tap\":\"auto\",\"tools\":[{\"id\":\"1737\",\"type\":\"PanTool\"},{\"id\":\"1738\",\"type\":\"WheelZoomTool\"},{\"id\":\"1739\",\"type\":\"BoxZoomTool\"},{\"id\":\"1740\",\"type\":\"SaveTool\"},{\"id\":\"1741\",\"type\":\"ResetTool\"},{\"id\":\"1742\",\"type\":\"HelpTool\"}]},\"id\":\"1743\",\"type\":\"Toolbar\"},{\"attributes\":{\"background_fill_color\":{\"value\":\"#fafafa\"},\"below\":[{\"id\":\"1766\",\"type\":\"LinearAxis\"}],\"center\":[{\"id\":\"1770\",\"type\":\"Grid\"},{\"id\":\"1775\",\"type\":\"Grid\"}],\"left\":[{\"id\":\"1771\",\"type\":\"LinearAxis\"}],\"plot_height\":250,\"plot_width\":500,\"renderers\":[{\"id\":\"1792\",\"type\":\"GlyphRenderer\"}],\"title\":{\"id\":\"1756\",\"type\":\"Title\"},\"toolbar\":{\"id\":\"1782\",\"type\":\"Toolbar\"},\"x_range\":{\"id\":\"1758\",\"type\":\"DataRange1d\"},\"x_scale\":{\"id\":\"1762\",\"type\":\"LinearScale\"},\"y_range\":{\"id\":\"1760\",\"type\":\"DataRange1d\"},\"y_scale\":{\"id\":\"1764\",\"type\":\"LinearScale\"}},\"id\":\"1755\",\"subtype\":\"Figure\",\"type\":\"Plot\"},{\"attributes\":{},\"id\":\"1737\",\"type\":\"PanTool\"},{\"attributes\":{},\"id\":\"1777\",\"type\":\"WheelZoomTool\"},{\"attributes\":{},\"id\":\"1738\",\"type\":\"WheelZoomTool\"},{\"attributes\":{},\"id\":\"1780\",\"type\":\"ResetTool\"},{\"attributes\":{\"overlay\":{\"id\":\"1897\",\"type\":\"BoxAnnotation\"}},\"id\":\"1739\",\"type\":\"BoxZoomTool\"},{\"attributes\":{},\"id\":\"1740\",\"type\":\"SaveTool\"},{\"attributes\":{},\"id\":\"1741\",\"type\":\"ResetTool\"},{\"attributes\":{},\"id\":\"1742\",\"type\":\"HelpTool\"},{\"attributes\":{\"fill_alpha\":{\"value\":0.1},\"fill_color\":{\"value\":\"#1f77b4\"},\"line_alpha\":{\"value\":0.1},\"line_color\":{\"value\":\"#1f77b4\"},\"size\":{\"units\":\"screen\",\"value\":12},\"x\":{\"field\":\"x\"},\"y\":{\"field\":\"y\"}},\"id\":\"1752\",\"type\":\"Circle\"},{\"attributes\":{\"source\":{\"id\":\"1750\",\"type\":\"ColumnDataSource\"}},\"id\":\"1754\",\"type\":\"CDSView\"},{\"attributes\":{\"data_source\":{\"id\":\"1750\",\"type\":\"ColumnDataSource\"},\"glyph\":{\"id\":\"1751\",\"type\":\"Circle\"},\"hover_glyph\":null,\"muted_glyph\":null,\"nonselection_glyph\":{\"id\":\"1752\",\"type\":\"Circle\"},\"selection_glyph\":null,\"view\":{\"id\":\"1754\",\"type\":\"CDSView\"}},\"id\":\"1753\",\"type\":\"GlyphRenderer\"},{\"attributes\":{\"callback\":null},\"id\":\"1758\",\"type\":\"DataRange1d\"},{\"attributes\":{},\"id\":\"1762\",\"type\":\"LinearScale\"},{\"attributes\":{\"callback\":null},\"id\":\"1760\",\"type\":\"DataRange1d\"},{\"attributes\":{},\"id\":\"1764\",\"type\":\"LinearScale\"},{\"attributes\":{\"formatter\":{\"id\":\"1892\",\"type\":\"BasicTickFormatter\"},\"ticker\":{\"id\":\"1767\",\"type\":\"BasicTicker\"}},\"id\":\"1766\",\"type\":\"LinearAxis\"},{\"attributes\":{},\"id\":\"1772\",\"type\":\"BasicTicker\"},{\"attributes\":{},\"id\":\"1767\",\"type\":\"BasicTicker\"},{\"attributes\":{\"ticker\":{\"id\":\"1767\",\"type\":\"BasicTicker\"}},\"id\":\"1770\",\"type\":\"Grid\"},{\"attributes\":{},\"id\":\"1888\",\"type\":\"BasicTickFormatter\"},{\"attributes\":{\"text\":\"3rd Plot\"},\"id\":\"1795\",\"type\":\"Title\"},{\"attributes\":{\"overlay\":{\"id\":\"1900\",\"type\":\"BoxAnnotation\"}},\"id\":\"1778\",\"type\":\"BoxZoomTool\"},{\"attributes\":{\"dimension\":1,\"ticker\":{\"id\":\"1772\",\"type\":\"BasicTicker\"}},\"id\":\"1775\",\"type\":\"Grid\"},{\"attributes\":{\"formatter\":{\"id\":\"1890\",\"type\":\"BasicTickFormatter\"},\"ticker\":{\"id\":\"1772\",\"type\":\"BasicTicker\"}},\"id\":\"1771\",\"type\":\"LinearAxis\"},{\"attributes\":{\"fill_alpha\":{\"value\":0.8},\"fill_color\":{\"value\":\"#d95b43\"},\"line_alpha\":{\"value\":0.8},\"line_color\":{\"value\":\"#d95b43\"},\"size\":{\"units\":\"screen\",\"value\":12},\"x\":{\"field\":\"x\"},\"y\":{\"field\":\"y\"}},\"id\":\"1829\",\"type\":\"Square\"},{\"attributes\":{\"data_source\":{\"id\":\"1789\",\"type\":\"ColumnDataSource\"},\"glyph\":{\"id\":\"1790\",\"type\":\"Triangle\"},\"hover_glyph\":null,\"muted_glyph\":null,\"nonselection_glyph\":{\"id\":\"1791\",\"type\":\"Triangle\"},\"selection_glyph\":null,\"view\":{\"id\":\"1793\",\"type\":\"CDSView\"}},\"id\":\"1792\",\"type\":\"GlyphRenderer\"},{\"attributes\":{\"fill_alpha\":{\"value\":0.8},\"fill_color\":{\"value\":\"#c02942\"},\"line_alpha\":{\"value\":0.8},\"line_color\":{\"value\":\"#c02942\"},\"size\":{\"units\":\"screen\",\"value\":12},\"x\":{\"field\":\"x\"},\"y\":{\"field\":\"y\"}},\"id\":\"1790\",\"type\":\"Triangle\"},{\"attributes\":{\"source\":{\"id\":\"1789\",\"type\":\"ColumnDataSource\"}},\"id\":\"1793\",\"type\":\"CDSView\"},{\"attributes\":{\"callback\":null,\"data\":{\"x\":[0,1,2,3,4,5,6,7,8,9,10],\"y\":[10,9,8,7,6,5,4,3,2,1,0]},\"selected\":{\"id\":\"1902\",\"type\":\"Selection\"},\"selection_policy\":{\"id\":\"1901\",\"type\":\"UnionRenderers\"}},\"id\":\"1789\",\"type\":\"ColumnDataSource\"},{\"attributes\":{\"callback\":null},\"id\":\"1797\",\"type\":\"DataRange1d\"},{\"attributes\":{\"callback\":null},\"id\":\"1799\",\"type\":\"DataRange1d\"},{\"attributes\":{},\"id\":\"1801\",\"type\":\"LinearScale\"}],\"root_ids\":[\"1833\"]},\"title\":\"Bokeh Application\",\"version\":\"1.4.0\"}};\n",
       "  var render_items = [{\"docid\":\"58372540-710a-487c-b08d-f879926ab1bf\",\"roots\":{\"1833\":\"ff55ef6e-5eeb-41a8-958c-461ed2dfbc7e\"}}];\n",
       "  root.Bokeh.embed.embed_items_notebook(docs_json, render_items);\n",
       "\n",
       "  }\n",
       "  if (root.Bokeh !== undefined) {\n",
       "    embed_document(root);\n",
       "  } else {\n",
       "    var attempts = 0;\n",
       "    var timer = setInterval(function(root) {\n",
       "      if (root.Bokeh !== undefined) {\n",
       "        clearInterval(timer);\n",
       "        embed_document(root);\n",
       "      } else {\n",
       "        attempts++;\n",
       "        if (attempts > 100) {\n",
       "          clearInterval(timer);\n",
       "          console.log(\"Bokeh: ERROR: Unable to run BokehJS code because BokehJS library is missing\");\n",
       "        }\n",
       "      }\n",
       "    }, 10, root)\n",
       "  }\n",
       "})(window);"
      ],
      "application/vnd.bokehjs_exec.v0+json": ""
     },
     "metadata": {
      "application/vnd.bokehjs_exec.v0+json": {
       "id": "1833"
      }
     },
     "output_type": "display_data"
    }
   ],
   "source": [
    "x = list(range(11))\n",
    "y0 = x\n",
    "y1 = [10 - i for i in x]\n",
    "y2 = [abs(i - 5) for i in x]\n",
    "\n",
    "# create three plots\n",
    "s1 = figure(plot_width=500, plot_height=250, background_fill_color=\"#fafafa\",title='1st Plot')\n",
    "s1.circle(x, y0, size=12, color=\"#53777a\", alpha=0.8)\n",
    "\n",
    "s2 = figure(plot_width=500, plot_height=250, background_fill_color=\"#fafafa\",title='2nd Plot')\n",
    "s2.triangle(x, y1, size=12, color=\"#c02942\", alpha=0.8)\n",
    "\n",
    "s3 = figure(plot_width=500, plot_height=250, background_fill_color=\"#fafafa\",title='3rd Plot')\n",
    "s3.square(x, y2, size=12, color=\"#d95b43\", alpha=0.8)\n",
    "\n",
    "# put the results in a column and show\n",
    "show(column(s1, s2, s3))"
   ]
  },
  {
   "cell_type": "markdown",
   "metadata": {},
   "source": [
    "### Row Layout"
   ]
  },
  {
   "cell_type": "code",
   "execution_count": 10,
   "metadata": {
    "scrolled": true
   },
   "outputs": [
    {
     "data": {
      "text/html": [
       "\n",
       "\n",
       "\n",
       "\n",
       "\n",
       "\n",
       "  <div class=\"bk-root\" id=\"4f3abc7b-e125-4cbb-88a5-ae0b19cba58e\" data-root-id=\"2525\"></div>\n"
      ]
     },
     "metadata": {},
     "output_type": "display_data"
    },
    {
     "data": {
      "application/javascript": [
       "(function(root) {\n",
       "  function embed_document(root) {\n",
       "    \n",
       "  var docs_json = {\"8e7b7c9b-021b-4bd4-a257-c895a9216ba8\":{\"roots\":{\"references\":[{\"attributes\":{\"children\":[{\"id\":\"2408\",\"subtype\":\"Figure\",\"type\":\"Plot\"},{\"id\":\"2447\",\"subtype\":\"Figure\",\"type\":\"Plot\"},{\"id\":\"2486\",\"subtype\":\"Figure\",\"type\":\"Plot\"}]},\"id\":\"2525\",\"type\":\"Row\"},{\"attributes\":{\"formatter\":{\"id\":\"2634\",\"type\":\"BasicTickFormatter\"},\"ticker\":{\"id\":\"2503\",\"type\":\"BasicTicker\"}},\"id\":\"2502\",\"type\":\"LinearAxis\"},{\"attributes\":{},\"id\":\"2503\",\"type\":\"BasicTicker\"},{\"attributes\":{\"dimension\":1,\"ticker\":{\"id\":\"2503\",\"type\":\"BasicTicker\"}},\"id\":\"2506\",\"type\":\"Grid\"},{\"attributes\":{},\"id\":\"2495\",\"type\":\"LinearScale\"},{\"attributes\":{\"fill_alpha\":{\"value\":0.1},\"fill_color\":{\"value\":\"#1f77b4\"},\"line_alpha\":{\"value\":0.1},\"line_color\":{\"value\":\"#1f77b4\"},\"size\":{\"units\":\"screen\",\"value\":12},\"x\":{\"field\":\"x\"},\"y\":{\"field\":\"y\"}},\"id\":\"2522\",\"type\":\"Square\"},{\"attributes\":{\"callback\":null,\"data\":{\"x\":[0,1,2,3,4,5,6,7,8,9,10],\"y\":[5,4,3,2,1,0,1,2,3,4,5]},\"selected\":{\"id\":\"2645\",\"type\":\"Selection\"},\"selection_policy\":{\"id\":\"2644\",\"type\":\"UnionRenderers\"}},\"id\":\"2520\",\"type\":\"ColumnDataSource\"},{\"attributes\":{\"ticker\":{\"id\":\"2498\",\"type\":\"BasicTicker\"}},\"id\":\"2501\",\"type\":\"Grid\"},{\"attributes\":{},\"id\":\"2417\",\"type\":\"LinearScale\"},{\"attributes\":{},\"id\":\"2415\",\"type\":\"LinearScale\"},{\"attributes\":{},\"id\":\"2493\",\"type\":\"LinearScale\"},{\"attributes\":{\"formatter\":{\"id\":\"2626\",\"type\":\"BasicTickFormatter\"},\"ticker\":{\"id\":\"2425\",\"type\":\"BasicTicker\"}},\"id\":\"2424\",\"type\":\"LinearAxis\"},{\"attributes\":{\"dimension\":1,\"ticker\":{\"id\":\"2425\",\"type\":\"BasicTicker\"}},\"id\":\"2428\",\"type\":\"Grid\"},{\"attributes\":{\"ticker\":{\"id\":\"2420\",\"type\":\"BasicTicker\"}},\"id\":\"2423\",\"type\":\"Grid\"},{\"attributes\":{},\"id\":\"2420\",\"type\":\"BasicTicker\"},{\"attributes\":{},\"id\":\"2425\",\"type\":\"BasicTicker\"},{\"attributes\":{\"formatter\":{\"id\":\"2628\",\"type\":\"BasicTickFormatter\"},\"ticker\":{\"id\":\"2420\",\"type\":\"BasicTicker\"}},\"id\":\"2419\",\"type\":\"LinearAxis\"},{\"attributes\":{\"callback\":null,\"data\":{\"x\":[0,1,2,3,4,5,6,7,8,9,10],\"y\":[0,1,2,3,4,5,6,7,8,9,10]},\"selected\":{\"id\":\"2639\",\"type\":\"Selection\"},\"selection_policy\":{\"id\":\"2638\",\"type\":\"UnionRenderers\"}},\"id\":\"2442\",\"type\":\"ColumnDataSource\"},{\"attributes\":{\"active_drag\":\"auto\",\"active_inspect\":\"auto\",\"active_multi\":null,\"active_scroll\":\"auto\",\"active_tap\":\"auto\",\"tools\":[{\"id\":\"2429\",\"type\":\"PanTool\"},{\"id\":\"2430\",\"type\":\"WheelZoomTool\"},{\"id\":\"2431\",\"type\":\"BoxZoomTool\"},{\"id\":\"2432\",\"type\":\"SaveTool\"},{\"id\":\"2433\",\"type\":\"ResetTool\"},{\"id\":\"2434\",\"type\":\"HelpTool\"}]},\"id\":\"2435\",\"type\":\"Toolbar\"},{\"attributes\":{},\"id\":\"2432\",\"type\":\"SaveTool\"},{\"attributes\":{\"overlay\":{\"id\":\"2637\",\"type\":\"BoxAnnotation\"}},\"id\":\"2431\",\"type\":\"BoxZoomTool\"},{\"attributes\":{},\"id\":\"2430\",\"type\":\"WheelZoomTool\"},{\"attributes\":{},\"id\":\"2429\",\"type\":\"PanTool\"},{\"attributes\":{},\"id\":\"2626\",\"type\":\"BasicTickFormatter\"},{\"attributes\":{\"formatter\":{\"id\":\"2636\",\"type\":\"BasicTickFormatter\"},\"ticker\":{\"id\":\"2498\",\"type\":\"BasicTicker\"}},\"id\":\"2497\",\"type\":\"LinearAxis\"},{\"attributes\":{},\"id\":\"2434\",\"type\":\"HelpTool\"},{\"attributes\":{\"text\":\"2nd Plot\"},\"id\":\"2448\",\"type\":\"Title\"},{\"attributes\":{\"fill_alpha\":{\"value\":0.8},\"fill_color\":{\"value\":\"#c02942\"},\"line_alpha\":{\"value\":0.8},\"line_color\":{\"value\":\"#c02942\"},\"size\":{\"units\":\"screen\",\"value\":12},\"x\":{\"field\":\"x\"},\"y\":{\"field\":\"y\"}},\"id\":\"2482\",\"type\":\"Triangle\"},{\"attributes\":{\"fill_alpha\":{\"value\":0.1},\"fill_color\":{\"value\":\"#1f77b4\"},\"line_alpha\":{\"value\":0.1},\"line_color\":{\"value\":\"#1f77b4\"},\"size\":{\"units\":\"screen\",\"value\":12},\"x\":{\"field\":\"x\"},\"y\":{\"field\":\"y\"}},\"id\":\"2444\",\"type\":\"Circle\"},{\"attributes\":{},\"id\":\"2433\",\"type\":\"ResetTool\"},{\"attributes\":{\"callback\":null},\"id\":\"2450\",\"type\":\"DataRange1d\"},{\"attributes\":{\"source\":{\"id\":\"2442\",\"type\":\"ColumnDataSource\"}},\"id\":\"2446\",\"type\":\"CDSView\"},{\"attributes\":{\"data_source\":{\"id\":\"2442\",\"type\":\"ColumnDataSource\"},\"glyph\":{\"id\":\"2443\",\"type\":\"Circle\"},\"hover_glyph\":null,\"muted_glyph\":null,\"nonselection_glyph\":{\"id\":\"2444\",\"type\":\"Circle\"},\"selection_glyph\":null,\"view\":{\"id\":\"2446\",\"type\":\"CDSView\"}},\"id\":\"2445\",\"type\":\"GlyphRenderer\"},{\"attributes\":{},\"id\":\"2454\",\"type\":\"LinearScale\"},{\"attributes\":{\"callback\":null},\"id\":\"2452\",\"type\":\"DataRange1d\"},{\"attributes\":{},\"id\":\"2456\",\"type\":\"LinearScale\"},{\"attributes\":{\"callback\":null},\"id\":\"2413\",\"type\":\"DataRange1d\"},{\"attributes\":{\"text\":\"1st Plot\"},\"id\":\"2409\",\"type\":\"Title\"},{\"attributes\":{\"background_fill_color\":{\"value\":\"#fafafa\"},\"below\":[{\"id\":\"2419\",\"type\":\"LinearAxis\"}],\"center\":[{\"id\":\"2423\",\"type\":\"Grid\"},{\"id\":\"2428\",\"type\":\"Grid\"}],\"left\":[{\"id\":\"2424\",\"type\":\"LinearAxis\"}],\"plot_height\":250,\"plot_width\":250,\"renderers\":[{\"id\":\"2445\",\"type\":\"GlyphRenderer\"}],\"title\":{\"id\":\"2409\",\"type\":\"Title\"},\"toolbar\":{\"id\":\"2435\",\"type\":\"Toolbar\"},\"x_range\":{\"id\":\"2411\",\"type\":\"DataRange1d\"},\"x_scale\":{\"id\":\"2415\",\"type\":\"LinearScale\"},\"y_range\":{\"id\":\"2413\",\"type\":\"DataRange1d\"},\"y_scale\":{\"id\":\"2417\",\"type\":\"LinearScale\"}},\"id\":\"2408\",\"subtype\":\"Figure\",\"type\":\"Plot\"},{\"attributes\":{\"fill_alpha\":{\"value\":0.8},\"fill_color\":{\"value\":\"#53777a\"},\"line_alpha\":{\"value\":0.8},\"line_color\":{\"value\":\"#53777a\"},\"size\":{\"units\":\"screen\",\"value\":12},\"x\":{\"field\":\"x\"},\"y\":{\"field\":\"y\"}},\"id\":\"2443\",\"type\":\"Circle\"},{\"attributes\":{\"callback\":null},\"id\":\"2411\",\"type\":\"DataRange1d\"},{\"attributes\":{},\"id\":\"2459\",\"type\":\"BasicTicker\"},{\"attributes\":{},\"id\":\"2469\",\"type\":\"WheelZoomTool\"},{\"attributes\":{\"background_fill_color\":{\"value\":\"#fafafa\"},\"below\":[{\"id\":\"2497\",\"type\":\"LinearAxis\"}],\"center\":[{\"id\":\"2501\",\"type\":\"Grid\"},{\"id\":\"2506\",\"type\":\"Grid\"}],\"left\":[{\"id\":\"2502\",\"type\":\"LinearAxis\"}],\"plot_height\":250,\"plot_width\":250,\"renderers\":[{\"id\":\"2523\",\"type\":\"GlyphRenderer\"}],\"title\":{\"id\":\"2487\",\"type\":\"Title\"},\"toolbar\":{\"id\":\"2513\",\"type\":\"Toolbar\"},\"x_range\":{\"id\":\"2489\",\"type\":\"DataRange1d\"},\"x_scale\":{\"id\":\"2493\",\"type\":\"LinearScale\"},\"y_range\":{\"id\":\"2491\",\"type\":\"DataRange1d\"},\"y_scale\":{\"id\":\"2495\",\"type\":\"LinearScale\"}},\"id\":\"2486\",\"subtype\":\"Figure\",\"type\":\"Plot\"},{\"attributes\":{},\"id\":\"2464\",\"type\":\"BasicTicker\"},{\"attributes\":{\"formatter\":{\"id\":\"2632\",\"type\":\"BasicTickFormatter\"},\"ticker\":{\"id\":\"2459\",\"type\":\"BasicTicker\"}},\"id\":\"2458\",\"type\":\"LinearAxis\"},{\"attributes\":{\"background_fill_color\":{\"value\":\"#fafafa\"},\"below\":[{\"id\":\"2458\",\"type\":\"LinearAxis\"}],\"center\":[{\"id\":\"2462\",\"type\":\"Grid\"},{\"id\":\"2467\",\"type\":\"Grid\"}],\"left\":[{\"id\":\"2463\",\"type\":\"LinearAxis\"}],\"plot_height\":250,\"plot_width\":250,\"renderers\":[{\"id\":\"2484\",\"type\":\"GlyphRenderer\"}],\"title\":{\"id\":\"2448\",\"type\":\"Title\"},\"toolbar\":{\"id\":\"2474\",\"type\":\"Toolbar\"},\"x_range\":{\"id\":\"2450\",\"type\":\"DataRange1d\"},\"x_scale\":{\"id\":\"2454\",\"type\":\"LinearScale\"},\"y_range\":{\"id\":\"2452\",\"type\":\"DataRange1d\"},\"y_scale\":{\"id\":\"2456\",\"type\":\"LinearScale\"}},\"id\":\"2447\",\"subtype\":\"Figure\",\"type\":\"Plot\"},{\"attributes\":{\"fill_alpha\":{\"value\":0.1},\"fill_color\":{\"value\":\"#1f77b4\"},\"line_alpha\":{\"value\":0.1},\"line_color\":{\"value\":\"#1f77b4\"},\"size\":{\"units\":\"screen\",\"value\":12},\"x\":{\"field\":\"x\"},\"y\":{\"field\":\"y\"}},\"id\":\"2483\",\"type\":\"Triangle\"},{\"attributes\":{\"callback\":null,\"data\":{\"x\":[0,1,2,3,4,5,6,7,8,9,10],\"y\":[10,9,8,7,6,5,4,3,2,1,0]},\"selected\":{\"id\":\"2642\",\"type\":\"Selection\"},\"selection_policy\":{\"id\":\"2641\",\"type\":\"UnionRenderers\"}},\"id\":\"2481\",\"type\":\"ColumnDataSource\"},{\"attributes\":{\"formatter\":{\"id\":\"2630\",\"type\":\"BasicTickFormatter\"},\"ticker\":{\"id\":\"2464\",\"type\":\"BasicTicker\"}},\"id\":\"2463\",\"type\":\"LinearAxis\"},{\"attributes\":{\"dimension\":1,\"ticker\":{\"id\":\"2464\",\"type\":\"BasicTicker\"}},\"id\":\"2467\",\"type\":\"Grid\"},{\"attributes\":{\"ticker\":{\"id\":\"2459\",\"type\":\"BasicTicker\"}},\"id\":\"2462\",\"type\":\"Grid\"},{\"attributes\":{\"overlay\":{\"id\":\"2640\",\"type\":\"BoxAnnotation\"}},\"id\":\"2470\",\"type\":\"BoxZoomTool\"},{\"attributes\":{},\"id\":\"2468\",\"type\":\"PanTool\"},{\"attributes\":{\"data_source\":{\"id\":\"2481\",\"type\":\"ColumnDataSource\"},\"glyph\":{\"id\":\"2482\",\"type\":\"Triangle\"},\"hover_glyph\":null,\"muted_glyph\":null,\"nonselection_glyph\":{\"id\":\"2483\",\"type\":\"Triangle\"},\"selection_glyph\":null,\"view\":{\"id\":\"2485\",\"type\":\"CDSView\"}},\"id\":\"2484\",\"type\":\"GlyphRenderer\"},{\"attributes\":{\"callback\":null},\"id\":\"2491\",\"type\":\"DataRange1d\"},{\"attributes\":{},\"id\":\"2628\",\"type\":\"BasicTickFormatter\"},{\"attributes\":{},\"id\":\"2630\",\"type\":\"BasicTickFormatter\"},{\"attributes\":{},\"id\":\"2632\",\"type\":\"BasicTickFormatter\"},{\"attributes\":{\"text\":\"3rd Plot\"},\"id\":\"2487\",\"type\":\"Title\"},{\"attributes\":{},\"id\":\"2634\",\"type\":\"BasicTickFormatter\"},{\"attributes\":{\"fill_alpha\":{\"value\":0.8},\"fill_color\":{\"value\":\"#d95b43\"},\"line_alpha\":{\"value\":0.8},\"line_color\":{\"value\":\"#d95b43\"},\"size\":{\"units\":\"screen\",\"value\":12},\"x\":{\"field\":\"x\"},\"y\":{\"field\":\"y\"}},\"id\":\"2521\",\"type\":\"Square\"},{\"attributes\":{},\"id\":\"2636\",\"type\":\"BasicTickFormatter\"},{\"attributes\":{\"bottom_units\":\"screen\",\"fill_alpha\":{\"value\":0.5},\"fill_color\":{\"value\":\"lightgrey\"},\"left_units\":\"screen\",\"level\":\"overlay\",\"line_alpha\":{\"value\":1.0},\"line_color\":{\"value\":\"black\"},\"line_dash\":[4,4],\"line_width\":{\"value\":2},\"render_mode\":\"css\",\"right_units\":\"screen\",\"top_units\":\"screen\"},\"id\":\"2637\",\"type\":\"BoxAnnotation\"},{\"attributes\":{},\"id\":\"2638\",\"type\":\"UnionRenderers\"},{\"attributes\":{},\"id\":\"2639\",\"type\":\"Selection\"},{\"attributes\":{},\"id\":\"2498\",\"type\":\"BasicTicker\"},{\"attributes\":{\"bottom_units\":\"screen\",\"fill_alpha\":{\"value\":0.5},\"fill_color\":{\"value\":\"lightgrey\"},\"left_units\":\"screen\",\"level\":\"overlay\",\"line_alpha\":{\"value\":1.0},\"line_color\":{\"value\":\"black\"},\"line_dash\":[4,4],\"line_width\":{\"value\":2},\"render_mode\":\"css\",\"right_units\":\"screen\",\"top_units\":\"screen\"},\"id\":\"2640\",\"type\":\"BoxAnnotation\"},{\"attributes\":{},\"id\":\"2641\",\"type\":\"UnionRenderers\"},{\"attributes\":{},\"id\":\"2642\",\"type\":\"Selection\"},{\"attributes\":{\"active_drag\":\"auto\",\"active_inspect\":\"auto\",\"active_multi\":null,\"active_scroll\":\"auto\",\"active_tap\":\"auto\",\"tools\":[{\"id\":\"2468\",\"type\":\"PanTool\"},{\"id\":\"2469\",\"type\":\"WheelZoomTool\"},{\"id\":\"2470\",\"type\":\"BoxZoomTool\"},{\"id\":\"2471\",\"type\":\"SaveTool\"},{\"id\":\"2472\",\"type\":\"ResetTool\"},{\"id\":\"2473\",\"type\":\"HelpTool\"}]},\"id\":\"2474\",\"type\":\"Toolbar\"},{\"attributes\":{\"bottom_units\":\"screen\",\"fill_alpha\":{\"value\":0.5},\"fill_color\":{\"value\":\"lightgrey\"},\"left_units\":\"screen\",\"level\":\"overlay\",\"line_alpha\":{\"value\":1.0},\"line_color\":{\"value\":\"black\"},\"line_dash\":[4,4],\"line_width\":{\"value\":2},\"render_mode\":\"css\",\"right_units\":\"screen\",\"top_units\":\"screen\"},\"id\":\"2643\",\"type\":\"BoxAnnotation\"},{\"attributes\":{},\"id\":\"2644\",\"type\":\"UnionRenderers\"},{\"attributes\":{},\"id\":\"2472\",\"type\":\"ResetTool\"},{\"attributes\":{},\"id\":\"2645\",\"type\":\"Selection\"},{\"attributes\":{},\"id\":\"2473\",\"type\":\"HelpTool\"},{\"attributes\":{\"source\":{\"id\":\"2481\",\"type\":\"ColumnDataSource\"}},\"id\":\"2485\",\"type\":\"CDSView\"},{\"attributes\":{\"callback\":null},\"id\":\"2489\",\"type\":\"DataRange1d\"},{\"attributes\":{},\"id\":\"2511\",\"type\":\"ResetTool\"},{\"attributes\":{\"data_source\":{\"id\":\"2520\",\"type\":\"ColumnDataSource\"},\"glyph\":{\"id\":\"2521\",\"type\":\"Square\"},\"hover_glyph\":null,\"muted_glyph\":null,\"nonselection_glyph\":{\"id\":\"2522\",\"type\":\"Square\"},\"selection_glyph\":null,\"view\":{\"id\":\"2524\",\"type\":\"CDSView\"}},\"id\":\"2523\",\"type\":\"GlyphRenderer\"},{\"attributes\":{},\"id\":\"2471\",\"type\":\"SaveTool\"},{\"attributes\":{},\"id\":\"2508\",\"type\":\"WheelZoomTool\"},{\"attributes\":{},\"id\":\"2510\",\"type\":\"SaveTool\"},{\"attributes\":{\"active_drag\":\"auto\",\"active_inspect\":\"auto\",\"active_multi\":null,\"active_scroll\":\"auto\",\"active_tap\":\"auto\",\"tools\":[{\"id\":\"2507\",\"type\":\"PanTool\"},{\"id\":\"2508\",\"type\":\"WheelZoomTool\"},{\"id\":\"2509\",\"type\":\"BoxZoomTool\"},{\"id\":\"2510\",\"type\":\"SaveTool\"},{\"id\":\"2511\",\"type\":\"ResetTool\"},{\"id\":\"2512\",\"type\":\"HelpTool\"}]},\"id\":\"2513\",\"type\":\"Toolbar\"},{\"attributes\":{\"source\":{\"id\":\"2520\",\"type\":\"ColumnDataSource\"}},\"id\":\"2524\",\"type\":\"CDSView\"},{\"attributes\":{\"overlay\":{\"id\":\"2643\",\"type\":\"BoxAnnotation\"}},\"id\":\"2509\",\"type\":\"BoxZoomTool\"},{\"attributes\":{},\"id\":\"2512\",\"type\":\"HelpTool\"},{\"attributes\":{},\"id\":\"2507\",\"type\":\"PanTool\"}],\"root_ids\":[\"2525\"]},\"title\":\"Bokeh Application\",\"version\":\"1.4.0\"}};\n",
       "  var render_items = [{\"docid\":\"8e7b7c9b-021b-4bd4-a257-c895a9216ba8\",\"roots\":{\"2525\":\"4f3abc7b-e125-4cbb-88a5-ae0b19cba58e\"}}];\n",
       "  root.Bokeh.embed.embed_items_notebook(docs_json, render_items);\n",
       "\n",
       "  }\n",
       "  if (root.Bokeh !== undefined) {\n",
       "    embed_document(root);\n",
       "  } else {\n",
       "    var attempts = 0;\n",
       "    var timer = setInterval(function(root) {\n",
       "      if (root.Bokeh !== undefined) {\n",
       "        clearInterval(timer);\n",
       "        embed_document(root);\n",
       "      } else {\n",
       "        attempts++;\n",
       "        if (attempts > 100) {\n",
       "          clearInterval(timer);\n",
       "          console.log(\"Bokeh: ERROR: Unable to run BokehJS code because BokehJS library is missing\");\n",
       "        }\n",
       "      }\n",
       "    }, 10, root)\n",
       "  }\n",
       "})(window);"
      ],
      "application/vnd.bokehjs_exec.v0+json": ""
     },
     "metadata": {
      "application/vnd.bokehjs_exec.v0+json": {
       "id": "2525"
      }
     },
     "output_type": "display_data"
    }
   ],
   "source": [
    "x = list(range(11))\n",
    "y0 = x\n",
    "y1 = [10 - i for i in x]\n",
    "y2 = [abs(i - 5) for i in x]\n",
    "\n",
    "# create three plots\n",
    "s1 = figure(plot_width=250, plot_height=250, background_fill_color=\"#fafafa\",title='1st Plot')\n",
    "s1.circle(x, y0, size=12, color=\"#53777a\", alpha=0.8)\n",
    "\n",
    "s2 = figure(plot_width=250, plot_height=250, background_fill_color=\"#fafafa\",title='2nd Plot')\n",
    "s2.triangle(x, y1, size=12, color=\"#c02942\", alpha=0.8)\n",
    "\n",
    "s3 = figure(plot_width=250, plot_height=250, background_fill_color=\"#fafafa\",title='3rd Plot')\n",
    "s3.square(x, y2, size=12, color=\"#d95b43\", alpha=0.8)\n",
    "\n",
    "# put the results in a column and show\n",
    "show(row(s1, s2, s3))"
   ]
  },
  {
   "cell_type": "markdown",
   "metadata": {},
   "source": [
    "### Grids Layout for Plots"
   ]
  },
  {
   "cell_type": "code",
   "execution_count": 16,
   "metadata": {},
   "outputs": [],
   "source": [
    "from bokeh.layouts import gridplot"
   ]
  },
  {
   "cell_type": "code",
   "execution_count": 17,
   "metadata": {},
   "outputs": [
    {
     "data": {
      "text/html": [
       "\n",
       "\n",
       "\n",
       "\n",
       "\n",
       "\n",
       "  <div class=\"bk-root\" id=\"e76a7144-9230-47b8-a687-e4da58bc65cc\" data-root-id=\"4825\"></div>\n"
      ]
     },
     "metadata": {},
     "output_type": "display_data"
    },
    {
     "data": {
      "application/javascript": [
       "(function(root) {\n",
       "  function embed_document(root) {\n",
       "    \n",
       "  var docs_json = {\"f6165db3-69da-4fb1-8581-5014724f93d7\":{\"roots\":{\"references\":[{\"attributes\":{\"children\":[{\"id\":\"4824\",\"type\":\"ToolbarBox\"},{\"id\":\"4822\",\"type\":\"GridBox\"}]},\"id\":\"4825\",\"type\":\"Column\"},{\"attributes\":{},\"id\":\"4724\",\"type\":\"LinearScale\"},{\"attributes\":{},\"id\":\"4726\",\"type\":\"LinearScale\"},{\"attributes\":{\"formatter\":{\"id\":\"4808\",\"type\":\"BasicTickFormatter\"},\"ticker\":{\"id\":\"4729\",\"type\":\"BasicTicker\"}},\"id\":\"4728\",\"type\":\"LinearAxis\"},{\"attributes\":{},\"id\":\"4734\",\"type\":\"BasicTicker\"},{\"attributes\":{},\"id\":\"4729\",\"type\":\"BasicTicker\"},{\"attributes\":{\"ticker\":{\"id\":\"4729\",\"type\":\"BasicTicker\"}},\"id\":\"4732\",\"type\":\"Grid\"},{\"attributes\":{\"dimension\":1,\"ticker\":{\"id\":\"4734\",\"type\":\"BasicTicker\"}},\"id\":\"4737\",\"type\":\"Grid\"},{\"attributes\":{\"formatter\":{\"id\":\"4806\",\"type\":\"BasicTickFormatter\"},\"ticker\":{\"id\":\"4734\",\"type\":\"BasicTicker\"}},\"id\":\"4733\",\"type\":\"LinearAxis\"},{\"attributes\":{\"text\":\"3rd Plot\"},\"id\":\"4757\",\"type\":\"Title\"},{\"attributes\":{\"active_drag\":\"auto\",\"active_inspect\":\"auto\",\"active_multi\":null,\"active_scroll\":\"auto\",\"active_tap\":\"auto\",\"tools\":[{\"id\":\"4738\",\"type\":\"PanTool\"},{\"id\":\"4739\",\"type\":\"WheelZoomTool\"},{\"id\":\"4740\",\"type\":\"BoxZoomTool\"},{\"id\":\"4741\",\"type\":\"SaveTool\"},{\"id\":\"4742\",\"type\":\"ResetTool\"},{\"id\":\"4743\",\"type\":\"HelpTool\"}]},\"id\":\"4744\",\"type\":\"Toolbar\"},{\"attributes\":{\"callback\":null},\"id\":\"4759\",\"type\":\"DataRange1d\"},{\"attributes\":{},\"id\":\"4738\",\"type\":\"PanTool\"},{\"attributes\":{},\"id\":\"4739\",\"type\":\"WheelZoomTool\"},{\"attributes\":{\"overlay\":{\"id\":\"4809\",\"type\":\"BoxAnnotation\"}},\"id\":\"4740\",\"type\":\"BoxZoomTool\"},{\"attributes\":{},\"id\":\"4741\",\"type\":\"SaveTool\"},{\"attributes\":{},\"id\":\"4742\",\"type\":\"ResetTool\"},{\"attributes\":{\"callback\":null},\"id\":\"4761\",\"type\":\"DataRange1d\"},{\"attributes\":{},\"id\":\"4743\",\"type\":\"HelpTool\"},{\"attributes\":{},\"id\":\"4763\",\"type\":\"LinearScale\"},{\"attributes\":{},\"id\":\"4765\",\"type\":\"LinearScale\"},{\"attributes\":{\"formatter\":{\"id\":\"4817\",\"type\":\"BasicTickFormatter\"},\"ticker\":{\"id\":\"4768\",\"type\":\"BasicTicker\"}},\"id\":\"4767\",\"type\":\"LinearAxis\"},{\"attributes\":{},\"id\":\"4773\",\"type\":\"BasicTicker\"},{\"attributes\":{},\"id\":\"4768\",\"type\":\"BasicTicker\"},{\"attributes\":{\"ticker\":{\"id\":\"4768\",\"type\":\"BasicTicker\"}},\"id\":\"4771\",\"type\":\"Grid\"},{\"attributes\":{\"dimension\":1,\"ticker\":{\"id\":\"4773\",\"type\":\"BasicTicker\"}},\"id\":\"4776\",\"type\":\"Grid\"},{\"attributes\":{\"formatter\":{\"id\":\"4815\",\"type\":\"BasicTickFormatter\"},\"ticker\":{\"id\":\"4773\",\"type\":\"BasicTicker\"}},\"id\":\"4772\",\"type\":\"LinearAxis\"},{\"attributes\":{\"active_drag\":\"auto\",\"active_inspect\":\"auto\",\"active_multi\":null,\"active_scroll\":\"auto\",\"active_tap\":\"auto\",\"tools\":[{\"id\":\"4777\",\"type\":\"PanTool\"},{\"id\":\"4778\",\"type\":\"WheelZoomTool\"},{\"id\":\"4779\",\"type\":\"BoxZoomTool\"},{\"id\":\"4780\",\"type\":\"SaveTool\"},{\"id\":\"4781\",\"type\":\"ResetTool\"},{\"id\":\"4782\",\"type\":\"HelpTool\"}]},\"id\":\"4783\",\"type\":\"Toolbar\"},{\"attributes\":{\"callback\":null,\"data\":{\"x\":[0,1,2,3,4,5,6,7,8,9,10],\"y\":[5,4,3,2,1,0,1,2,3,4,5]},\"selected\":{\"id\":\"4820\",\"type\":\"Selection\"},\"selection_policy\":{\"id\":\"4819\",\"type\":\"UnionRenderers\"}},\"id\":\"4790\",\"type\":\"ColumnDataSource\"},{\"attributes\":{},\"id\":\"4777\",\"type\":\"PanTool\"},{\"attributes\":{},\"id\":\"4778\",\"type\":\"WheelZoomTool\"},{\"attributes\":{\"overlay\":{\"id\":\"4818\",\"type\":\"BoxAnnotation\"}},\"id\":\"4779\",\"type\":\"BoxZoomTool\"},{\"attributes\":{},\"id\":\"4780\",\"type\":\"SaveTool\"},{\"attributes\":{},\"id\":\"4781\",\"type\":\"ResetTool\"},{\"attributes\":{},\"id\":\"4782\",\"type\":\"HelpTool\"},{\"attributes\":{\"fill_alpha\":{\"value\":0.1},\"fill_color\":{\"value\":\"#1f77b4\"},\"line_alpha\":{\"value\":0.1},\"line_color\":{\"value\":\"#1f77b4\"},\"size\":{\"units\":\"screen\",\"value\":12},\"x\":{\"field\":\"x\"},\"y\":{\"field\":\"y\"}},\"id\":\"4792\",\"type\":\"Square\"},{\"attributes\":{\"source\":{\"id\":\"4790\",\"type\":\"ColumnDataSource\"}},\"id\":\"4794\",\"type\":\"CDSView\"},{\"attributes\":{\"data_source\":{\"id\":\"4790\",\"type\":\"ColumnDataSource\"},\"glyph\":{\"id\":\"4791\",\"type\":\"Square\"},\"hover_glyph\":null,\"muted_glyph\":null,\"nonselection_glyph\":{\"id\":\"4792\",\"type\":\"Square\"},\"selection_glyph\":null,\"view\":{\"id\":\"4794\",\"type\":\"CDSView\"}},\"id\":\"4793\",\"type\":\"GlyphRenderer\"},{\"attributes\":{\"bottom_units\":\"screen\",\"fill_alpha\":{\"value\":0.5},\"fill_color\":{\"value\":\"lightgrey\"},\"left_units\":\"screen\",\"level\":\"overlay\",\"line_alpha\":{\"value\":1.0},\"line_color\":{\"value\":\"black\"},\"line_dash\":[4,4],\"line_width\":{\"value\":2},\"render_mode\":\"css\",\"right_units\":\"screen\",\"top_units\":\"screen\"},\"id\":\"4809\",\"type\":\"BoxAnnotation\"},{\"attributes\":{},\"id\":\"4797\",\"type\":\"BasicTickFormatter\"},{\"attributes\":{},\"id\":\"4799\",\"type\":\"BasicTickFormatter\"},{\"attributes\":{},\"id\":\"4802\",\"type\":\"Selection\"},{\"attributes\":{},\"id\":\"4808\",\"type\":\"BasicTickFormatter\"},{\"attributes\":{\"bottom_units\":\"screen\",\"fill_alpha\":{\"value\":0.5},\"fill_color\":{\"value\":\"lightgrey\"},\"left_units\":\"screen\",\"level\":\"overlay\",\"line_alpha\":{\"value\":1.0},\"line_color\":{\"value\":\"black\"},\"line_dash\":[4,4],\"line_width\":{\"value\":2},\"render_mode\":\"css\",\"right_units\":\"screen\",\"top_units\":\"screen\"},\"id\":\"4818\",\"type\":\"BoxAnnotation\"},{\"attributes\":{\"toolbar\":{\"id\":\"4823\",\"type\":\"ProxyToolbar\"},\"toolbar_location\":\"above\"},\"id\":\"4824\",\"type\":\"ToolbarBox\"},{\"attributes\":{},\"id\":\"4806\",\"type\":\"BasicTickFormatter\"},{\"attributes\":{},\"id\":\"4810\",\"type\":\"UnionRenderers\"},{\"attributes\":{},\"id\":\"4811\",\"type\":\"Selection\"},{\"attributes\":{},\"id\":\"4817\",\"type\":\"BasicTickFormatter\"},{\"attributes\":{\"tools\":[{\"id\":\"4699\",\"type\":\"PanTool\"},{\"id\":\"4700\",\"type\":\"WheelZoomTool\"},{\"id\":\"4701\",\"type\":\"BoxZoomTool\"},{\"id\":\"4702\",\"type\":\"SaveTool\"},{\"id\":\"4703\",\"type\":\"ResetTool\"},{\"id\":\"4704\",\"type\":\"HelpTool\"},{\"id\":\"4738\",\"type\":\"PanTool\"},{\"id\":\"4739\",\"type\":\"WheelZoomTool\"},{\"id\":\"4740\",\"type\":\"BoxZoomTool\"},{\"id\":\"4741\",\"type\":\"SaveTool\"},{\"id\":\"4742\",\"type\":\"ResetTool\"},{\"id\":\"4743\",\"type\":\"HelpTool\"},{\"id\":\"4777\",\"type\":\"PanTool\"},{\"id\":\"4778\",\"type\":\"WheelZoomTool\"},{\"id\":\"4779\",\"type\":\"BoxZoomTool\"},{\"id\":\"4780\",\"type\":\"SaveTool\"},{\"id\":\"4781\",\"type\":\"ResetTool\"},{\"id\":\"4782\",\"type\":\"HelpTool\"}]},\"id\":\"4823\",\"type\":\"ProxyToolbar\"},{\"attributes\":{},\"id\":\"4815\",\"type\":\"BasicTickFormatter\"},{\"attributes\":{},\"id\":\"4820\",\"type\":\"Selection\"},{\"attributes\":{\"callback\":null,\"data\":{\"x\":[0,1,2,3,4,5,6,7,8,9,10],\"y\":[10,9,8,7,6,5,4,3,2,1,0]},\"selected\":{\"id\":\"4811\",\"type\":\"Selection\"},\"selection_policy\":{\"id\":\"4810\",\"type\":\"UnionRenderers\"}},\"id\":\"4751\",\"type\":\"ColumnDataSource\"},{\"attributes\":{\"data_source\":{\"id\":\"4751\",\"type\":\"ColumnDataSource\"},\"glyph\":{\"id\":\"4752\",\"type\":\"Triangle\"},\"hover_glyph\":null,\"muted_glyph\":null,\"nonselection_glyph\":{\"id\":\"4753\",\"type\":\"Triangle\"},\"selection_glyph\":null,\"view\":{\"id\":\"4755\",\"type\":\"CDSView\"}},\"id\":\"4754\",\"type\":\"GlyphRenderer\"},{\"attributes\":{\"callback\":null},\"id\":\"4722\",\"type\":\"DataRange1d\"},{\"attributes\":{\"fill_alpha\":{\"value\":0.1},\"fill_color\":{\"value\":\"#1f77b4\"},\"line_alpha\":{\"value\":0.1},\"line_color\":{\"value\":\"#1f77b4\"},\"size\":{\"units\":\"screen\",\"value\":12},\"x\":{\"field\":\"x\"},\"y\":{\"field\":\"y\"}},\"id\":\"4753\",\"type\":\"Triangle\"},{\"attributes\":{\"fill_alpha\":{\"value\":0.8},\"fill_color\":{\"value\":\"#d95b43\"},\"line_alpha\":{\"value\":0.8},\"line_color\":{\"value\":\"#d95b43\"},\"size\":{\"units\":\"screen\",\"value\":12},\"x\":{\"field\":\"x\"},\"y\":{\"field\":\"y\"}},\"id\":\"4791\",\"type\":\"Square\"},{\"attributes\":{\"callback\":null},\"id\":\"4720\",\"type\":\"DataRange1d\"},{\"attributes\":{\"source\":{\"id\":\"4751\",\"type\":\"ColumnDataSource\"}},\"id\":\"4755\",\"type\":\"CDSView\"},{\"attributes\":{\"bottom_units\":\"screen\",\"fill_alpha\":{\"value\":0.5},\"fill_color\":{\"value\":\"lightgrey\"},\"left_units\":\"screen\",\"level\":\"overlay\",\"line_alpha\":{\"value\":1.0},\"line_color\":{\"value\":\"black\"},\"line_dash\":[4,4],\"line_width\":{\"value\":2},\"render_mode\":\"css\",\"right_units\":\"screen\",\"top_units\":\"screen\"},\"id\":\"4800\",\"type\":\"BoxAnnotation\"},{\"attributes\":{},\"id\":\"4819\",\"type\":\"UnionRenderers\"},{\"attributes\":{\"children\":[[{\"id\":\"4678\",\"subtype\":\"Figure\",\"type\":\"Plot\"},0,0],[{\"id\":\"4717\",\"subtype\":\"Figure\",\"type\":\"Plot\"},0,1],[{\"id\":\"4756\",\"subtype\":\"Figure\",\"type\":\"Plot\"},1,1]]},\"id\":\"4822\",\"type\":\"GridBox\"},{\"attributes\":{\"background_fill_color\":{\"value\":\"#fafafa\"},\"below\":[{\"id\":\"4689\",\"type\":\"LinearAxis\"}],\"center\":[{\"id\":\"4693\",\"type\":\"Grid\"},{\"id\":\"4698\",\"type\":\"Grid\"}],\"left\":[{\"id\":\"4694\",\"type\":\"LinearAxis\"}],\"plot_height\":250,\"plot_width\":400,\"renderers\":[{\"id\":\"4715\",\"type\":\"GlyphRenderer\"}],\"title\":{\"id\":\"4679\",\"type\":\"Title\"},\"toolbar\":{\"id\":\"4705\",\"type\":\"Toolbar\"},\"toolbar_location\":null,\"x_range\":{\"id\":\"4681\",\"type\":\"DataRange1d\"},\"x_scale\":{\"id\":\"4685\",\"type\":\"LinearScale\"},\"y_range\":{\"id\":\"4683\",\"type\":\"DataRange1d\"},\"y_scale\":{\"id\":\"4687\",\"type\":\"LinearScale\"}},\"id\":\"4678\",\"subtype\":\"Figure\",\"type\":\"Plot\"},{\"attributes\":{\"fill_alpha\":{\"value\":0.8},\"fill_color\":{\"value\":\"#53777a\"},\"line_alpha\":{\"value\":0.8},\"line_color\":{\"value\":\"#53777a\"},\"size\":{\"units\":\"screen\",\"value\":12},\"x\":{\"field\":\"x\"},\"y\":{\"field\":\"y\"}},\"id\":\"4713\",\"type\":\"Circle\"},{\"attributes\":{},\"id\":\"4687\",\"type\":\"LinearScale\"},{\"attributes\":{\"callback\":null},\"id\":\"4681\",\"type\":\"DataRange1d\"},{\"attributes\":{\"callback\":null},\"id\":\"4683\",\"type\":\"DataRange1d\"},{\"attributes\":{},\"id\":\"4685\",\"type\":\"LinearScale\"},{\"attributes\":{},\"id\":\"4690\",\"type\":\"BasicTicker\"},{\"attributes\":{\"text\":\"1st Plot\"},\"id\":\"4679\",\"type\":\"Title\"},{\"attributes\":{\"text\":\"2nd Plot\"},\"id\":\"4718\",\"type\":\"Title\"},{\"attributes\":{},\"id\":\"4695\",\"type\":\"BasicTicker\"},{\"attributes\":{\"formatter\":{\"id\":\"4799\",\"type\":\"BasicTickFormatter\"},\"ticker\":{\"id\":\"4690\",\"type\":\"BasicTicker\"}},\"id\":\"4689\",\"type\":\"LinearAxis\"},{\"attributes\":{\"formatter\":{\"id\":\"4797\",\"type\":\"BasicTickFormatter\"},\"ticker\":{\"id\":\"4695\",\"type\":\"BasicTicker\"}},\"id\":\"4694\",\"type\":\"LinearAxis\"},{\"attributes\":{\"ticker\":{\"id\":\"4690\",\"type\":\"BasicTicker\"}},\"id\":\"4693\",\"type\":\"Grid\"},{\"attributes\":{\"dimension\":1,\"ticker\":{\"id\":\"4695\",\"type\":\"BasicTicker\"}},\"id\":\"4698\",\"type\":\"Grid\"},{\"attributes\":{\"callback\":null,\"data\":{\"x\":[0,1,2,3,4,5,6,7,8,9,10],\"y\":[0,1,2,3,4,5,6,7,8,9,10]},\"selected\":{\"id\":\"4802\",\"type\":\"Selection\"},\"selection_policy\":{\"id\":\"4801\",\"type\":\"UnionRenderers\"}},\"id\":\"4712\",\"type\":\"ColumnDataSource\"},{\"attributes\":{\"active_drag\":\"auto\",\"active_inspect\":\"auto\",\"active_multi\":null,\"active_scroll\":\"auto\",\"active_tap\":\"auto\",\"tools\":[{\"id\":\"4699\",\"type\":\"PanTool\"},{\"id\":\"4700\",\"type\":\"WheelZoomTool\"},{\"id\":\"4701\",\"type\":\"BoxZoomTool\"},{\"id\":\"4702\",\"type\":\"SaveTool\"},{\"id\":\"4703\",\"type\":\"ResetTool\"},{\"id\":\"4704\",\"type\":\"HelpTool\"}]},\"id\":\"4705\",\"type\":\"Toolbar\"},{\"attributes\":{\"background_fill_color\":{\"value\":\"#fafafa\"},\"below\":[{\"id\":\"4728\",\"type\":\"LinearAxis\"}],\"center\":[{\"id\":\"4732\",\"type\":\"Grid\"},{\"id\":\"4737\",\"type\":\"Grid\"}],\"left\":[{\"id\":\"4733\",\"type\":\"LinearAxis\"}],\"plot_height\":250,\"plot_width\":400,\"renderers\":[{\"id\":\"4754\",\"type\":\"GlyphRenderer\"}],\"title\":{\"id\":\"4718\",\"type\":\"Title\"},\"toolbar\":{\"id\":\"4744\",\"type\":\"Toolbar\"},\"toolbar_location\":null,\"x_range\":{\"id\":\"4720\",\"type\":\"DataRange1d\"},\"x_scale\":{\"id\":\"4724\",\"type\":\"LinearScale\"},\"y_range\":{\"id\":\"4722\",\"type\":\"DataRange1d\"},\"y_scale\":{\"id\":\"4726\",\"type\":\"LinearScale\"}},\"id\":\"4717\",\"subtype\":\"Figure\",\"type\":\"Plot\"},{\"attributes\":{},\"id\":\"4699\",\"type\":\"PanTool\"},{\"attributes\":{},\"id\":\"4703\",\"type\":\"ResetTool\"},{\"attributes\":{},\"id\":\"4702\",\"type\":\"SaveTool\"},{\"attributes\":{\"overlay\":{\"id\":\"4800\",\"type\":\"BoxAnnotation\"}},\"id\":\"4701\",\"type\":\"BoxZoomTool\"},{\"attributes\":{},\"id\":\"4700\",\"type\":\"WheelZoomTool\"},{\"attributes\":{\"data_source\":{\"id\":\"4712\",\"type\":\"ColumnDataSource\"},\"glyph\":{\"id\":\"4713\",\"type\":\"Circle\"},\"hover_glyph\":null,\"muted_glyph\":null,\"nonselection_glyph\":{\"id\":\"4714\",\"type\":\"Circle\"},\"selection_glyph\":null,\"view\":{\"id\":\"4716\",\"type\":\"CDSView\"}},\"id\":\"4715\",\"type\":\"GlyphRenderer\"},{\"attributes\":{\"fill_alpha\":{\"value\":0.1},\"fill_color\":{\"value\":\"#1f77b4\"},\"line_alpha\":{\"value\":0.1},\"line_color\":{\"value\":\"#1f77b4\"},\"size\":{\"units\":\"screen\",\"value\":12},\"x\":{\"field\":\"x\"},\"y\":{\"field\":\"y\"}},\"id\":\"4714\",\"type\":\"Circle\"},{\"attributes\":{},\"id\":\"4704\",\"type\":\"HelpTool\"},{\"attributes\":{\"background_fill_color\":{\"value\":\"#fafafa\"},\"below\":[{\"id\":\"4767\",\"type\":\"LinearAxis\"}],\"center\":[{\"id\":\"4771\",\"type\":\"Grid\"},{\"id\":\"4776\",\"type\":\"Grid\"}],\"left\":[{\"id\":\"4772\",\"type\":\"LinearAxis\"}],\"plot_height\":250,\"plot_width\":400,\"renderers\":[{\"id\":\"4793\",\"type\":\"GlyphRenderer\"}],\"title\":{\"id\":\"4757\",\"type\":\"Title\"},\"toolbar\":{\"id\":\"4783\",\"type\":\"Toolbar\"},\"toolbar_location\":null,\"x_range\":{\"id\":\"4759\",\"type\":\"DataRange1d\"},\"x_scale\":{\"id\":\"4763\",\"type\":\"LinearScale\"},\"y_range\":{\"id\":\"4761\",\"type\":\"DataRange1d\"},\"y_scale\":{\"id\":\"4765\",\"type\":\"LinearScale\"}},\"id\":\"4756\",\"subtype\":\"Figure\",\"type\":\"Plot\"},{\"attributes\":{\"source\":{\"id\":\"4712\",\"type\":\"ColumnDataSource\"}},\"id\":\"4716\",\"type\":\"CDSView\"},{\"attributes\":{\"fill_alpha\":{\"value\":0.8},\"fill_color\":{\"value\":\"#c02942\"},\"line_alpha\":{\"value\":0.8},\"line_color\":{\"value\":\"#c02942\"},\"size\":{\"units\":\"screen\",\"value\":12},\"x\":{\"field\":\"x\"},\"y\":{\"field\":\"y\"}},\"id\":\"4752\",\"type\":\"Triangle\"},{\"attributes\":{},\"id\":\"4801\",\"type\":\"UnionRenderers\"}],\"root_ids\":[\"4825\"]},\"title\":\"Bokeh Application\",\"version\":\"1.4.0\"}};\n",
       "  var render_items = [{\"docid\":\"f6165db3-69da-4fb1-8581-5014724f93d7\",\"roots\":{\"4825\":\"e76a7144-9230-47b8-a687-e4da58bc65cc\"}}];\n",
       "  root.Bokeh.embed.embed_items_notebook(docs_json, render_items);\n",
       "\n",
       "  }\n",
       "  if (root.Bokeh !== undefined) {\n",
       "    embed_document(root);\n",
       "  } else {\n",
       "    var attempts = 0;\n",
       "    var timer = setInterval(function(root) {\n",
       "      if (root.Bokeh !== undefined) {\n",
       "        clearInterval(timer);\n",
       "        embed_document(root);\n",
       "      } else {\n",
       "        attempts++;\n",
       "        if (attempts > 100) {\n",
       "          clearInterval(timer);\n",
       "          console.log(\"Bokeh: ERROR: Unable to run BokehJS code because BokehJS library is missing\");\n",
       "        }\n",
       "      }\n",
       "    }, 10, root)\n",
       "  }\n",
       "})(window);"
      ],
      "application/vnd.bokehjs_exec.v0+json": ""
     },
     "metadata": {
      "application/vnd.bokehjs_exec.v0+json": {
       "id": "4825"
      }
     },
     "output_type": "display_data"
    }
   ],
   "source": [
    "x = list(range(11))\n",
    "y0 = x\n",
    "y1 = [10 - i for i in x]\n",
    "y2 = [abs(i - 5) for i in x]\n",
    "\n",
    "# create three plots\n",
    "s1 = figure(background_fill_color=\"#fafafa\",title='1st Plot')\n",
    "s1.circle(x, y0, size=12, color=\"#53777a\", alpha=0.8)\n",
    "\n",
    "s2 = figure(background_fill_color=\"#fafafa\",title='2nd Plot')\n",
    "s2.triangle(x, y1, size=12, color=\"#c02942\", alpha=0.8)\n",
    "\n",
    "s3 = figure(background_fill_color=\"#fafafa\",title='3rd Plot')\n",
    "s3.square(x, y2, size=12, color=\"#d95b43\", alpha=0.8)\n",
    "\n",
    "# make a grid\n",
    "grid = gridplot([[s1, s2], [None, s3]], plot_width=400, plot_height=250)\n",
    "\n",
    "show(grid)"
   ]
  },
  {
   "cell_type": "code",
   "execution_count": 19,
   "metadata": {
    "scrolled": true
   },
   "outputs": [
    {
     "data": {
      "text/html": [
       "\n",
       "\n",
       "\n",
       "\n",
       "\n",
       "\n",
       "  <div class=\"bk-root\" id=\"082d278c-452a-47a5-98a0-e1a2ccb0d221\" data-root-id=\"5357\"></div>\n"
      ]
     },
     "metadata": {},
     "output_type": "display_data"
    },
    {
     "data": {
      "application/javascript": [
       "(function(root) {\n",
       "  function embed_document(root) {\n",
       "    \n",
       "  var docs_json = {\"846c9d39-194e-4b78-b88c-58647a71f5d9\":{\"roots\":{\"references\":[{\"attributes\":{\"children\":[{\"id\":\"5356\",\"type\":\"ToolbarBox\"},{\"id\":\"5354\",\"type\":\"GridBox\"}]},\"id\":\"5357\",\"type\":\"Column\"},{\"attributes\":{\"background_fill_color\":{\"value\":\"#fafafa\"},\"below\":[{\"id\":\"5260\",\"type\":\"LinearAxis\"}],\"center\":[{\"id\":\"5264\",\"type\":\"Grid\"},{\"id\":\"5269\",\"type\":\"Grid\"}],\"left\":[{\"id\":\"5265\",\"type\":\"LinearAxis\"}],\"plot_height\":250,\"plot_width\":400,\"renderers\":[{\"id\":\"5286\",\"type\":\"GlyphRenderer\"}],\"title\":{\"id\":\"5250\",\"type\":\"Title\"},\"toolbar\":{\"id\":\"5276\",\"type\":\"Toolbar\"},\"toolbar_location\":null,\"x_range\":{\"id\":\"5252\",\"type\":\"DataRange1d\"},\"x_scale\":{\"id\":\"5256\",\"type\":\"LinearScale\"},\"y_range\":{\"id\":\"5254\",\"type\":\"DataRange1d\"},\"y_scale\":{\"id\":\"5258\",\"type\":\"LinearScale\"}},\"id\":\"5249\",\"subtype\":\"Figure\",\"type\":\"Plot\"},{\"attributes\":{\"bottom_units\":\"screen\",\"fill_alpha\":{\"value\":0.5},\"fill_color\":{\"value\":\"lightgrey\"},\"left_units\":\"screen\",\"level\":\"overlay\",\"line_alpha\":{\"value\":1.0},\"line_color\":{\"value\":\"black\"},\"line_dash\":[4,4],\"line_width\":{\"value\":2},\"render_mode\":\"css\",\"right_units\":\"screen\",\"top_units\":\"screen\"},\"id\":\"5350\",\"type\":\"BoxAnnotation\"},{\"attributes\":{\"fill_alpha\":{\"value\":0.8},\"fill_color\":{\"value\":\"#53777a\"},\"line_alpha\":{\"value\":0.8},\"line_color\":{\"value\":\"#53777a\"},\"size\":{\"units\":\"screen\",\"value\":12},\"x\":{\"field\":\"x\"},\"y\":{\"field\":\"y\"}},\"id\":\"5245\",\"type\":\"Circle\"},{\"attributes\":{},\"id\":\"5351\",\"type\":\"UnionRenderers\"},{\"attributes\":{\"active_drag\":\"auto\",\"active_inspect\":\"auto\",\"active_multi\":null,\"active_scroll\":\"auto\",\"active_tap\":\"auto\",\"tools\":[{\"id\":\"5309\",\"type\":\"PanTool\"},{\"id\":\"5310\",\"type\":\"WheelZoomTool\"},{\"id\":\"5311\",\"type\":\"BoxZoomTool\"},{\"id\":\"5312\",\"type\":\"SaveTool\"},{\"id\":\"5313\",\"type\":\"ResetTool\"},{\"id\":\"5314\",\"type\":\"HelpTool\"}]},\"id\":\"5315\",\"type\":\"Toolbar\"},{\"attributes\":{},\"id\":\"5309\",\"type\":\"PanTool\"},{\"attributes\":{},\"id\":\"5310\",\"type\":\"WheelZoomTool\"},{\"attributes\":{\"overlay\":{\"id\":\"5350\",\"type\":\"BoxAnnotation\"}},\"id\":\"5311\",\"type\":\"BoxZoomTool\"},{\"attributes\":{},\"id\":\"5312\",\"type\":\"SaveTool\"},{\"attributes\":{\"source\":{\"id\":\"5244\",\"type\":\"ColumnDataSource\"}},\"id\":\"5248\",\"type\":\"CDSView\"},{\"attributes\":{\"text\":\"2nd Plot\"},\"id\":\"5250\",\"type\":\"Title\"},{\"attributes\":{},\"id\":\"5313\",\"type\":\"ResetTool\"},{\"attributes\":{\"callback\":null},\"id\":\"5252\",\"type\":\"DataRange1d\"},{\"attributes\":{\"background_fill_color\":{\"value\":\"#fafafa\"},\"below\":[{\"id\":\"5221\",\"type\":\"LinearAxis\"}],\"center\":[{\"id\":\"5225\",\"type\":\"Grid\"},{\"id\":\"5230\",\"type\":\"Grid\"}],\"left\":[{\"id\":\"5226\",\"type\":\"LinearAxis\"}],\"plot_height\":250,\"plot_width\":400,\"renderers\":[{\"id\":\"5247\",\"type\":\"GlyphRenderer\"}],\"title\":{\"id\":\"5211\",\"type\":\"Title\"},\"toolbar\":{\"id\":\"5237\",\"type\":\"Toolbar\"},\"toolbar_location\":null,\"x_range\":{\"id\":\"5213\",\"type\":\"DataRange1d\"},\"x_scale\":{\"id\":\"5217\",\"type\":\"LinearScale\"},\"y_range\":{\"id\":\"5215\",\"type\":\"DataRange1d\"},\"y_scale\":{\"id\":\"5219\",\"type\":\"LinearScale\"}},\"id\":\"5210\",\"subtype\":\"Figure\",\"type\":\"Plot\"},{\"attributes\":{},\"id\":\"5314\",\"type\":\"HelpTool\"},{\"attributes\":{\"text\":\"1st Plot\"},\"id\":\"5211\",\"type\":\"Title\"},{\"attributes\":{\"background_fill_color\":{\"value\":\"#fafafa\"},\"below\":[{\"id\":\"5299\",\"type\":\"LinearAxis\"}],\"center\":[{\"id\":\"5303\",\"type\":\"Grid\"},{\"id\":\"5308\",\"type\":\"Grid\"}],\"left\":[{\"id\":\"5304\",\"type\":\"LinearAxis\"}],\"plot_height\":250,\"plot_width\":400,\"renderers\":[{\"id\":\"5325\",\"type\":\"GlyphRenderer\"}],\"title\":{\"id\":\"5289\",\"type\":\"Title\"},\"toolbar\":{\"id\":\"5315\",\"type\":\"Toolbar\"},\"toolbar_location\":null,\"x_range\":{\"id\":\"5291\",\"type\":\"DataRange1d\"},\"x_scale\":{\"id\":\"5295\",\"type\":\"LinearScale\"},\"y_range\":{\"id\":\"5293\",\"type\":\"DataRange1d\"},\"y_scale\":{\"id\":\"5297\",\"type\":\"LinearScale\"}},\"id\":\"5288\",\"subtype\":\"Figure\",\"type\":\"Plot\"},{\"attributes\":{\"callback\":null},\"id\":\"5213\",\"type\":\"DataRange1d\"},{\"attributes\":{\"callback\":null},\"id\":\"5215\",\"type\":\"DataRange1d\"},{\"attributes\":{},\"id\":\"5217\",\"type\":\"LinearScale\"},{\"attributes\":{\"source\":{\"id\":\"5322\",\"type\":\"ColumnDataSource\"}},\"id\":\"5326\",\"type\":\"CDSView\"},{\"attributes\":{\"data_source\":{\"id\":\"5322\",\"type\":\"ColumnDataSource\"},\"glyph\":{\"id\":\"5323\",\"type\":\"Square\"},\"hover_glyph\":null,\"muted_glyph\":null,\"nonselection_glyph\":{\"id\":\"5324\",\"type\":\"Square\"},\"selection_glyph\":null,\"view\":{\"id\":\"5326\",\"type\":\"CDSView\"}},\"id\":\"5325\",\"type\":\"GlyphRenderer\"},{\"attributes\":{\"bottom_units\":\"screen\",\"fill_alpha\":{\"value\":0.5},\"fill_color\":{\"value\":\"lightgrey\"},\"left_units\":\"screen\",\"level\":\"overlay\",\"line_alpha\":{\"value\":1.0},\"line_color\":{\"value\":\"black\"},\"line_dash\":[4,4],\"line_width\":{\"value\":2},\"render_mode\":\"css\",\"right_units\":\"screen\",\"top_units\":\"screen\"},\"id\":\"5341\",\"type\":\"BoxAnnotation\"},{\"attributes\":{\"bottom_units\":\"screen\",\"fill_alpha\":{\"value\":0.5},\"fill_color\":{\"value\":\"lightgrey\"},\"left_units\":\"screen\",\"level\":\"overlay\",\"line_alpha\":{\"value\":1.0},\"line_color\":{\"value\":\"black\"},\"line_dash\":[4,4],\"line_width\":{\"value\":2},\"render_mode\":\"css\",\"right_units\":\"screen\",\"top_units\":\"screen\"},\"id\":\"5332\",\"type\":\"BoxAnnotation\"},{\"attributes\":{},\"id\":\"5219\",\"type\":\"LinearScale\"},{\"attributes\":{},\"id\":\"5329\",\"type\":\"BasicTickFormatter\"},{\"attributes\":{\"formatter\":{\"id\":\"5331\",\"type\":\"BasicTickFormatter\"},\"ticker\":{\"id\":\"5222\",\"type\":\"BasicTicker\"}},\"id\":\"5221\",\"type\":\"LinearAxis\"},{\"attributes\":{},\"id\":\"5331\",\"type\":\"BasicTickFormatter\"},{\"attributes\":{},\"id\":\"5227\",\"type\":\"BasicTicker\"},{\"attributes\":{},\"id\":\"5222\",\"type\":\"BasicTicker\"},{\"attributes\":{\"ticker\":{\"id\":\"5222\",\"type\":\"BasicTicker\"}},\"id\":\"5225\",\"type\":\"Grid\"},{\"attributes\":{},\"id\":\"5334\",\"type\":\"Selection\"},{\"attributes\":{\"dimension\":1,\"ticker\":{\"id\":\"5227\",\"type\":\"BasicTicker\"}},\"id\":\"5230\",\"type\":\"Grid\"},{\"attributes\":{},\"id\":\"5340\",\"type\":\"BasicTickFormatter\"},{\"attributes\":{\"formatter\":{\"id\":\"5329\",\"type\":\"BasicTickFormatter\"},\"ticker\":{\"id\":\"5227\",\"type\":\"BasicTicker\"}},\"id\":\"5226\",\"type\":\"LinearAxis\"},{\"attributes\":{},\"id\":\"5352\",\"type\":\"Selection\"},{\"attributes\":{\"toolbar\":{\"id\":\"5355\",\"type\":\"ProxyToolbar\"},\"toolbar_location\":\"above\"},\"id\":\"5356\",\"type\":\"ToolbarBox\"},{\"attributes\":{\"callback\":null},\"id\":\"5254\",\"type\":\"DataRange1d\"},{\"attributes\":{},\"id\":\"5338\",\"type\":\"BasicTickFormatter\"},{\"attributes\":{\"active_drag\":\"auto\",\"active_inspect\":\"auto\",\"active_multi\":null,\"active_scroll\":\"auto\",\"active_tap\":\"auto\",\"tools\":[{\"id\":\"5231\",\"type\":\"PanTool\"},{\"id\":\"5232\",\"type\":\"WheelZoomTool\"},{\"id\":\"5233\",\"type\":\"BoxZoomTool\"},{\"id\":\"5234\",\"type\":\"SaveTool\"},{\"id\":\"5235\",\"type\":\"ResetTool\"},{\"id\":\"5236\",\"type\":\"HelpTool\"}]},\"id\":\"5237\",\"type\":\"Toolbar\"},{\"attributes\":{},\"id\":\"5342\",\"type\":\"UnionRenderers\"},{\"attributes\":{},\"id\":\"5256\",\"type\":\"LinearScale\"},{\"attributes\":{},\"id\":\"5343\",\"type\":\"Selection\"},{\"attributes\":{},\"id\":\"5231\",\"type\":\"PanTool\"},{\"attributes\":{},\"id\":\"5349\",\"type\":\"BasicTickFormatter\"},{\"attributes\":{},\"id\":\"5232\",\"type\":\"WheelZoomTool\"},{\"attributes\":{\"tools\":[{\"id\":\"5231\",\"type\":\"PanTool\"},{\"id\":\"5232\",\"type\":\"WheelZoomTool\"},{\"id\":\"5233\",\"type\":\"BoxZoomTool\"},{\"id\":\"5234\",\"type\":\"SaveTool\"},{\"id\":\"5235\",\"type\":\"ResetTool\"},{\"id\":\"5236\",\"type\":\"HelpTool\"},{\"id\":\"5270\",\"type\":\"PanTool\"},{\"id\":\"5271\",\"type\":\"WheelZoomTool\"},{\"id\":\"5272\",\"type\":\"BoxZoomTool\"},{\"id\":\"5273\",\"type\":\"SaveTool\"},{\"id\":\"5274\",\"type\":\"ResetTool\"},{\"id\":\"5275\",\"type\":\"HelpTool\"},{\"id\":\"5309\",\"type\":\"PanTool\"},{\"id\":\"5310\",\"type\":\"WheelZoomTool\"},{\"id\":\"5311\",\"type\":\"BoxZoomTool\"},{\"id\":\"5312\",\"type\":\"SaveTool\"},{\"id\":\"5313\",\"type\":\"ResetTool\"},{\"id\":\"5314\",\"type\":\"HelpTool\"}]},\"id\":\"5355\",\"type\":\"ProxyToolbar\"},{\"attributes\":{\"overlay\":{\"id\":\"5332\",\"type\":\"BoxAnnotation\"}},\"id\":\"5233\",\"type\":\"BoxZoomTool\"},{\"attributes\":{},\"id\":\"5347\",\"type\":\"BasicTickFormatter\"},{\"attributes\":{},\"id\":\"5234\",\"type\":\"SaveTool\"},{\"attributes\":{},\"id\":\"5235\",\"type\":\"ResetTool\"},{\"attributes\":{},\"id\":\"5236\",\"type\":\"HelpTool\"},{\"attributes\":{},\"id\":\"5258\",\"type\":\"LinearScale\"},{\"attributes\":{\"fill_alpha\":{\"value\":0.8},\"fill_color\":{\"value\":\"#c02942\"},\"line_alpha\":{\"value\":0.8},\"line_color\":{\"value\":\"#c02942\"},\"size\":{\"units\":\"screen\",\"value\":12},\"x\":{\"field\":\"x\"},\"y\":{\"field\":\"y\"}},\"id\":\"5284\",\"type\":\"Triangle\"},{\"attributes\":{},\"id\":\"5333\",\"type\":\"UnionRenderers\"},{\"attributes\":{\"formatter\":{\"id\":\"5340\",\"type\":\"BasicTickFormatter\"},\"ticker\":{\"id\":\"5261\",\"type\":\"BasicTicker\"}},\"id\":\"5260\",\"type\":\"LinearAxis\"},{\"attributes\":{},\"id\":\"5266\",\"type\":\"BasicTicker\"},{\"attributes\":{},\"id\":\"5261\",\"type\":\"BasicTicker\"},{\"attributes\":{\"ticker\":{\"id\":\"5261\",\"type\":\"BasicTicker\"}},\"id\":\"5264\",\"type\":\"Grid\"},{\"attributes\":{\"dimension\":1,\"ticker\":{\"id\":\"5266\",\"type\":\"BasicTicker\"}},\"id\":\"5269\",\"type\":\"Grid\"},{\"attributes\":{\"formatter\":{\"id\":\"5338\",\"type\":\"BasicTickFormatter\"},\"ticker\":{\"id\":\"5266\",\"type\":\"BasicTicker\"}},\"id\":\"5265\",\"type\":\"LinearAxis\"},{\"attributes\":{\"active_drag\":\"auto\",\"active_inspect\":\"auto\",\"active_multi\":null,\"active_scroll\":\"auto\",\"active_tap\":\"auto\",\"tools\":[{\"id\":\"5270\",\"type\":\"PanTool\"},{\"id\":\"5271\",\"type\":\"WheelZoomTool\"},{\"id\":\"5272\",\"type\":\"BoxZoomTool\"},{\"id\":\"5273\",\"type\":\"SaveTool\"},{\"id\":\"5274\",\"type\":\"ResetTool\"},{\"id\":\"5275\",\"type\":\"HelpTool\"}]},\"id\":\"5276\",\"type\":\"Toolbar\"},{\"attributes\":{\"callback\":null,\"data\":{\"x\":[0,1,2,3,4,5,6,7,8,9,10],\"y\":[10,9,8,7,6,5,4,3,2,1,0]},\"selected\":{\"id\":\"5343\",\"type\":\"Selection\"},\"selection_policy\":{\"id\":\"5342\",\"type\":\"UnionRenderers\"}},\"id\":\"5283\",\"type\":\"ColumnDataSource\"},{\"attributes\":{\"text\":\"3rd Plot\"},\"id\":\"5289\",\"type\":\"Title\"},{\"attributes\":{},\"id\":\"5270\",\"type\":\"PanTool\"},{\"attributes\":{},\"id\":\"5271\",\"type\":\"WheelZoomTool\"},{\"attributes\":{\"overlay\":{\"id\":\"5341\",\"type\":\"BoxAnnotation\"}},\"id\":\"5272\",\"type\":\"BoxZoomTool\"},{\"attributes\":{},\"id\":\"5273\",\"type\":\"SaveTool\"},{\"attributes\":{},\"id\":\"5274\",\"type\":\"ResetTool\"},{\"attributes\":{},\"id\":\"5275\",\"type\":\"HelpTool\"},{\"attributes\":{\"fill_alpha\":{\"value\":0.1},\"fill_color\":{\"value\":\"#1f77b4\"},\"line_alpha\":{\"value\":0.1},\"line_color\":{\"value\":\"#1f77b4\"},\"size\":{\"units\":\"screen\",\"value\":12},\"x\":{\"field\":\"x\"},\"y\":{\"field\":\"y\"}},\"id\":\"5285\",\"type\":\"Triangle\"},{\"attributes\":{\"source\":{\"id\":\"5283\",\"type\":\"ColumnDataSource\"}},\"id\":\"5287\",\"type\":\"CDSView\"},{\"attributes\":{\"fill_alpha\":{\"value\":0.8},\"fill_color\":{\"value\":\"#d95b43\"},\"line_alpha\":{\"value\":0.8},\"line_color\":{\"value\":\"#d95b43\"},\"size\":{\"units\":\"screen\",\"value\":12},\"x\":{\"field\":\"x\"},\"y\":{\"field\":\"y\"}},\"id\":\"5323\",\"type\":\"Square\"},{\"attributes\":{\"data_source\":{\"id\":\"5283\",\"type\":\"ColumnDataSource\"},\"glyph\":{\"id\":\"5284\",\"type\":\"Triangle\"},\"hover_glyph\":null,\"muted_glyph\":null,\"nonselection_glyph\":{\"id\":\"5285\",\"type\":\"Triangle\"},\"selection_glyph\":null,\"view\":{\"id\":\"5287\",\"type\":\"CDSView\"}},\"id\":\"5286\",\"type\":\"GlyphRenderer\"},{\"attributes\":{\"callback\":null,\"data\":{\"x\":[0,1,2,3,4,5,6,7,8,9,10],\"y\":[0,1,2,3,4,5,6,7,8,9,10]},\"selected\":{\"id\":\"5334\",\"type\":\"Selection\"},\"selection_policy\":{\"id\":\"5333\",\"type\":\"UnionRenderers\"}},\"id\":\"5244\",\"type\":\"ColumnDataSource\"},{\"attributes\":{\"callback\":null},\"id\":\"5291\",\"type\":\"DataRange1d\"},{\"attributes\":{\"callback\":null},\"id\":\"5293\",\"type\":\"DataRange1d\"},{\"attributes\":{},\"id\":\"5295\",\"type\":\"LinearScale\"},{\"attributes\":{\"fill_alpha\":{\"value\":0.1},\"fill_color\":{\"value\":\"#1f77b4\"},\"line_alpha\":{\"value\":0.1},\"line_color\":{\"value\":\"#1f77b4\"},\"size\":{\"units\":\"screen\",\"value\":12},\"x\":{\"field\":\"x\"},\"y\":{\"field\":\"y\"}},\"id\":\"5246\",\"type\":\"Circle\"},{\"attributes\":{},\"id\":\"5297\",\"type\":\"LinearScale\"},{\"attributes\":{\"formatter\":{\"id\":\"5349\",\"type\":\"BasicTickFormatter\"},\"ticker\":{\"id\":\"5300\",\"type\":\"BasicTicker\"}},\"id\":\"5299\",\"type\":\"LinearAxis\"},{\"attributes\":{},\"id\":\"5305\",\"type\":\"BasicTicker\"},{\"attributes\":{},\"id\":\"5300\",\"type\":\"BasicTicker\"},{\"attributes\":{\"ticker\":{\"id\":\"5300\",\"type\":\"BasicTicker\"}},\"id\":\"5303\",\"type\":\"Grid\"},{\"attributes\":{\"data_source\":{\"id\":\"5244\",\"type\":\"ColumnDataSource\"},\"glyph\":{\"id\":\"5245\",\"type\":\"Circle\"},\"hover_glyph\":null,\"muted_glyph\":null,\"nonselection_glyph\":{\"id\":\"5246\",\"type\":\"Circle\"},\"selection_glyph\":null,\"view\":{\"id\":\"5248\",\"type\":\"CDSView\"}},\"id\":\"5247\",\"type\":\"GlyphRenderer\"},{\"attributes\":{\"fill_alpha\":{\"value\":0.1},\"fill_color\":{\"value\":\"#1f77b4\"},\"line_alpha\":{\"value\":0.1},\"line_color\":{\"value\":\"#1f77b4\"},\"size\":{\"units\":\"screen\",\"value\":12},\"x\":{\"field\":\"x\"},\"y\":{\"field\":\"y\"}},\"id\":\"5324\",\"type\":\"Square\"},{\"attributes\":{\"dimension\":1,\"ticker\":{\"id\":\"5305\",\"type\":\"BasicTicker\"}},\"id\":\"5308\",\"type\":\"Grid\"},{\"attributes\":{\"formatter\":{\"id\":\"5347\",\"type\":\"BasicTickFormatter\"},\"ticker\":{\"id\":\"5305\",\"type\":\"BasicTicker\"}},\"id\":\"5304\",\"type\":\"LinearAxis\"},{\"attributes\":{\"callback\":null,\"data\":{\"x\":[0,1,2,3,4,5,6,7,8,9,10],\"y\":[5,4,3,2,1,0,1,2,3,4,5]},\"selected\":{\"id\":\"5352\",\"type\":\"Selection\"},\"selection_policy\":{\"id\":\"5351\",\"type\":\"UnionRenderers\"}},\"id\":\"5322\",\"type\":\"ColumnDataSource\"},{\"attributes\":{\"children\":[[{\"id\":\"5210\",\"subtype\":\"Figure\",\"type\":\"Plot\"},0,0],[{\"id\":\"5249\",\"subtype\":\"Figure\",\"type\":\"Plot\"},0,1],[{\"id\":\"5288\",\"subtype\":\"Figure\",\"type\":\"Plot\"},1,0]]},\"id\":\"5354\",\"type\":\"GridBox\"}],\"root_ids\":[\"5357\"]},\"title\":\"Bokeh Application\",\"version\":\"1.4.0\"}};\n",
       "  var render_items = [{\"docid\":\"846c9d39-194e-4b78-b88c-58647a71f5d9\",\"roots\":{\"5357\":\"082d278c-452a-47a5-98a0-e1a2ccb0d221\"}}];\n",
       "  root.Bokeh.embed.embed_items_notebook(docs_json, render_items);\n",
       "\n",
       "  }\n",
       "  if (root.Bokeh !== undefined) {\n",
       "    embed_document(root);\n",
       "  } else {\n",
       "    var attempts = 0;\n",
       "    var timer = setInterval(function(root) {\n",
       "      if (root.Bokeh !== undefined) {\n",
       "        clearInterval(timer);\n",
       "        embed_document(root);\n",
       "      } else {\n",
       "        attempts++;\n",
       "        if (attempts > 100) {\n",
       "          clearInterval(timer);\n",
       "          console.log(\"Bokeh: ERROR: Unable to run BokehJS code because BokehJS library is missing\");\n",
       "        }\n",
       "      }\n",
       "    }, 10, root)\n",
       "  }\n",
       "})(window);"
      ],
      "application/vnd.bokehjs_exec.v0+json": ""
     },
     "metadata": {
      "application/vnd.bokehjs_exec.v0+json": {
       "id": "5357"
      }
     },
     "output_type": "display_data"
    }
   ],
   "source": [
    "x = list(range(11))\n",
    "y0 = x\n",
    "y1 = [10 - i for i in x]\n",
    "y2 = [abs(i - 5) for i in x]\n",
    "\n",
    "# create three plots\n",
    "s1 = figure(background_fill_color=\"#fafafa\",title='1st Plot')\n",
    "s1.circle(x, y0, size=12, color=\"#53777a\", alpha=0.8)\n",
    "\n",
    "s2 = figure(background_fill_color=\"#fafafa\",title='2nd Plot')\n",
    "s2.triangle(x, y1, size=12, color=\"#c02942\", alpha=0.8)\n",
    "\n",
    "s3 = figure(background_fill_color=\"#fafafa\",title='3rd Plot')\n",
    "s3.square(x, y2, size=12, color=\"#d95b43\", alpha=0.8)\n",
    "\n",
    "# make a grid\n",
    "grid = gridplot([s1, s2, s3], ncols=2, plot_width=400, plot_height=250)\n",
    "\n",
    "show(grid)"
   ]
  },
  {
   "cell_type": "markdown",
   "metadata": {},
   "source": [
    "### Adding Annotations"
   ]
  },
  {
   "cell_type": "code",
   "execution_count": 22,
   "metadata": {},
   "outputs": [
    {
     "data": {
      "text/html": [
       "\n",
       "\n",
       "\n",
       "\n",
       "\n",
       "\n",
       "  <div class=\"bk-root\" id=\"2f0a90bd-c7c8-45fe-bb6d-38eac7033aa7\" data-root-id=\"6132\"></div>\n"
      ]
     },
     "metadata": {},
     "output_type": "display_data"
    },
    {
     "data": {
      "application/javascript": [
       "(function(root) {\n",
       "  function embed_document(root) {\n",
       "    \n",
       "  var docs_json = {\"f0f900d7-4518-4f0f-a21f-d92c53080475\":{\"roots\":{\"references\":[{\"attributes\":{\"below\":[{\"id\":\"6141\",\"type\":\"LinearAxis\"}],\"center\":[{\"id\":\"6145\",\"type\":\"Grid\"},{\"id\":\"6150\",\"type\":\"Grid\"},{\"id\":\"6169\",\"type\":\"Span\"},{\"id\":\"6170\",\"type\":\"Span\"}],\"left\":[{\"id\":\"6146\",\"type\":\"LinearAxis\"}],\"renderers\":[{\"id\":\"6167\",\"type\":\"GlyphRenderer\"}],\"title\":{\"id\":\"6445\",\"type\":\"Title\"},\"toolbar\":{\"id\":\"6157\",\"type\":\"Toolbar\"},\"x_range\":{\"id\":\"6133\",\"type\":\"DataRange1d\"},\"x_scale\":{\"id\":\"6137\",\"type\":\"LinearScale\"},\"y_range\":{\"id\":\"6135\",\"type\":\"Range1d\"},\"y_scale\":{\"id\":\"6139\",\"type\":\"LinearScale\"}},\"id\":\"6132\",\"subtype\":\"Figure\",\"type\":\"Plot\"},{\"attributes\":{},\"id\":\"6139\",\"type\":\"LinearScale\"},{\"attributes\":{},\"id\":\"6137\",\"type\":\"LinearScale\"},{\"attributes\":{},\"id\":\"6147\",\"type\":\"BasicTicker\"},{\"attributes\":{},\"id\":\"6447\",\"type\":\"BasicTickFormatter\"},{\"attributes\":{\"ticker\":{\"id\":\"6142\",\"type\":\"BasicTicker\"}},\"id\":\"6145\",\"type\":\"Grid\"},{\"attributes\":{\"source\":{\"id\":\"6164\",\"type\":\"ColumnDataSource\"}},\"id\":\"6168\",\"type\":\"CDSView\"},{\"attributes\":{\"bottom_units\":\"screen\",\"fill_alpha\":{\"value\":0.5},\"fill_color\":{\"value\":\"lightgrey\"},\"left_units\":\"screen\",\"level\":\"overlay\",\"line_alpha\":{\"value\":1.0},\"line_color\":{\"value\":\"black\"},\"line_dash\":[4,4],\"line_width\":{\"value\":2},\"render_mode\":\"css\",\"right_units\":\"screen\",\"top_units\":\"screen\"},\"id\":\"6450\",\"type\":\"BoxAnnotation\"},{\"attributes\":{\"dimension\":1,\"ticker\":{\"id\":\"6147\",\"type\":\"BasicTicker\"}},\"id\":\"6150\",\"type\":\"Grid\"},{\"attributes\":{\"formatter\":{\"id\":\"6447\",\"type\":\"BasicTickFormatter\"},\"ticker\":{\"id\":\"6147\",\"type\":\"BasicTicker\"}},\"id\":\"6146\",\"type\":\"LinearAxis\"},{\"attributes\":{\"active_drag\":\"auto\",\"active_inspect\":\"auto\",\"active_multi\":null,\"active_scroll\":\"auto\",\"active_tap\":\"auto\",\"tools\":[{\"id\":\"6151\",\"type\":\"PanTool\"},{\"id\":\"6152\",\"type\":\"WheelZoomTool\"},{\"id\":\"6153\",\"type\":\"BoxZoomTool\"},{\"id\":\"6154\",\"type\":\"SaveTool\"},{\"id\":\"6155\",\"type\":\"ResetTool\"},{\"id\":\"6156\",\"type\":\"HelpTool\"}]},\"id\":\"6157\",\"type\":\"Toolbar\"},{\"attributes\":{\"text\":\"\"},\"id\":\"6445\",\"type\":\"Title\"},{\"attributes\":{},\"id\":\"6151\",\"type\":\"PanTool\"},{\"attributes\":{},\"id\":\"6152\",\"type\":\"WheelZoomTool\"},{\"attributes\":{\"overlay\":{\"id\":\"6450\",\"type\":\"BoxAnnotation\"}},\"id\":\"6153\",\"type\":\"BoxZoomTool\"},{\"attributes\":{},\"id\":\"6154\",\"type\":\"SaveTool\"},{\"attributes\":{},\"id\":\"6155\",\"type\":\"ResetTool\"},{\"attributes\":{\"line_alpha\":0.1,\"line_color\":\"#1f77b4\",\"x\":{\"field\":\"x\"},\"y\":{\"field\":\"y\"}},\"id\":\"6166\",\"type\":\"Line\"},{\"attributes\":{},\"id\":\"6156\",\"type\":\"HelpTool\"},{\"attributes\":{\"line_color\":\"#1f77b4\",\"x\":{\"field\":\"x\"},\"y\":{\"field\":\"y\"}},\"id\":\"6165\",\"type\":\"Line\"},{\"attributes\":{\"line_color\":{\"value\":\"firebrick\"},\"line_width\":{\"value\":4},\"location\":-1},\"id\":\"6170\",\"type\":\"Span\"},{\"attributes\":{\"data_source\":{\"id\":\"6164\",\"type\":\"ColumnDataSource\"},\"glyph\":{\"id\":\"6165\",\"type\":\"Line\"},\"hover_glyph\":null,\"muted_glyph\":null,\"nonselection_glyph\":{\"id\":\"6166\",\"type\":\"Line\"},\"selection_glyph\":null,\"view\":{\"id\":\"6168\",\"type\":\"CDSView\"}},\"id\":\"6167\",\"type\":\"GlyphRenderer\"},{\"attributes\":{},\"id\":\"6451\",\"type\":\"UnionRenderers\"},{\"attributes\":{},\"id\":\"6452\",\"type\":\"Selection\"},{\"attributes\":{},\"id\":\"6449\",\"type\":\"BasicTickFormatter\"},{\"attributes\":{\"line_color\":{\"value\":\"olive\"},\"line_width\":{\"value\":4},\"location\":1},\"id\":\"6169\",\"type\":\"Span\"},{\"attributes\":{\"callback\":null,\"end\":2,\"start\":-2},\"id\":\"6135\",\"type\":\"Range1d\"},{\"attributes\":{\"callback\":null,\"data\":{\"x\":{\"__ndarray__\":\"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\",\"dtype\":\"float64\",\"shape\":[200]},\"y\":{\"__ndarray__\":\"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\",\"dtype\":\"float64\",\"shape\":[200]}},\"selected\":{\"id\":\"6452\",\"type\":\"Selection\"},\"selection_policy\":{\"id\":\"6451\",\"type\":\"UnionRenderers\"}},\"id\":\"6164\",\"type\":\"ColumnDataSource\"},{\"attributes\":{\"callback\":null},\"id\":\"6133\",\"type\":\"DataRange1d\"},{\"attributes\":{},\"id\":\"6142\",\"type\":\"BasicTicker\"},{\"attributes\":{\"formatter\":{\"id\":\"6449\",\"type\":\"BasicTickFormatter\"},\"ticker\":{\"id\":\"6142\",\"type\":\"BasicTicker\"}},\"id\":\"6141\",\"type\":\"LinearAxis\"}],\"root_ids\":[\"6132\"]},\"title\":\"Bokeh Application\",\"version\":\"1.4.0\"}};\n",
       "  var render_items = [{\"docid\":\"f0f900d7-4518-4f0f-a21f-d92c53080475\",\"roots\":{\"6132\":\"2f0a90bd-c7c8-45fe-bb6d-38eac7033aa7\"}}];\n",
       "  root.Bokeh.embed.embed_items_notebook(docs_json, render_items);\n",
       "\n",
       "  }\n",
       "  if (root.Bokeh !== undefined) {\n",
       "    embed_document(root);\n",
       "  } else {\n",
       "    var attempts = 0;\n",
       "    var timer = setInterval(function(root) {\n",
       "      if (root.Bokeh !== undefined) {\n",
       "        clearInterval(timer);\n",
       "        embed_document(root);\n",
       "      } else {\n",
       "        attempts++;\n",
       "        if (attempts > 100) {\n",
       "          clearInterval(timer);\n",
       "          console.log(\"Bokeh: ERROR: Unable to run BokehJS code because BokehJS library is missing\");\n",
       "        }\n",
       "      }\n",
       "    }, 10, root)\n",
       "  }\n",
       "})(window);"
      ],
      "application/vnd.bokehjs_exec.v0+json": ""
     },
     "metadata": {
      "application/vnd.bokehjs_exec.v0+json": {
       "id": "6132"
      }
     },
     "output_type": "display_data"
    }
   ],
   "source": [
    "from bokeh.models.annotations import Span\n",
    "\n",
    "x = np.linspace(0, 20, 200)\n",
    "y = np.sin(x)\n",
    "\n",
    "p = figure(y_range=(-2, 2))\n",
    "p.line(x, y)\n",
    "\n",
    "upper = Span(location=1, dimension='width', line_color='olive', line_width=4)\n",
    "p.add_layout(upper)\n",
    "\n",
    "lower = Span(location=-1, dimension='width', line_color='firebrick', line_width=4)\n",
    "p.add_layout(lower)\n",
    "\n",
    "show(p)"
   ]
  },
  {
   "cell_type": "code",
   "execution_count": null,
   "metadata": {},
   "outputs": [],
   "source": []
  }
 ],
 "metadata": {
  "kernelspec": {
   "display_name": "Python 3",
   "language": "python",
   "name": "python3"
  },
  "language_info": {
   "codemirror_mode": {
    "name": "ipython",
    "version": 3
   },
   "file_extension": ".py",
   "mimetype": "text/x-python",
   "name": "python",
   "nbconvert_exporter": "python",
   "pygments_lexer": "ipython3",
   "version": "3.7.2"
  }
 },
 "nbformat": 4,
 "nbformat_minor": 2
}
