{
 "cells": [
  {
   "cell_type": "markdown",
   "metadata": {},
   "source": [
    "### Scatter Markers"
   ]
  },
  {
   "cell_type": "code",
   "execution_count": 2,
   "metadata": {},
   "outputs": [],
   "source": [
    "from bokeh.plotting import figure\n",
    "from bokeh.io import output_notebook,show"
   ]
  },
  {
   "cell_type": "code",
   "execution_count": 4,
   "metadata": {},
   "outputs": [
    {
     "data": {
      "text/html": [
       "\n",
       "    <div class=\"bk-root\">\n",
       "        <a href=\"https://bokeh.org\" target=\"_blank\" class=\"bk-logo bk-logo-small bk-logo-notebook\"></a>\n",
       "        <span id=\"1001\">Loading BokehJS ...</span>\n",
       "    </div>"
      ]
     },
     "metadata": {},
     "output_type": "display_data"
    },
    {
     "data": {
      "application/javascript": [
       "\n",
       "(function(root) {\n",
       "  function now() {\n",
       "    return new Date();\n",
       "  }\n",
       "\n",
       "  var force = true;\n",
       "\n",
       "  if (typeof root._bokeh_onload_callbacks === \"undefined\" || force === true) {\n",
       "    root._bokeh_onload_callbacks = [];\n",
       "    root._bokeh_is_loading = undefined;\n",
       "  }\n",
       "\n",
       "  var JS_MIME_TYPE = 'application/javascript';\n",
       "  var HTML_MIME_TYPE = 'text/html';\n",
       "  var EXEC_MIME_TYPE = 'application/vnd.bokehjs_exec.v0+json';\n",
       "  var CLASS_NAME = 'output_bokeh rendered_html';\n",
       "\n",
       "  /**\n",
       "   * Render data to the DOM node\n",
       "   */\n",
       "  function render(props, node) {\n",
       "    var script = document.createElement(\"script\");\n",
       "    node.appendChild(script);\n",
       "  }\n",
       "\n",
       "  /**\n",
       "   * Handle when an output is cleared or removed\n",
       "   */\n",
       "  function handleClearOutput(event, handle) {\n",
       "    var cell = handle.cell;\n",
       "\n",
       "    var id = cell.output_area._bokeh_element_id;\n",
       "    var server_id = cell.output_area._bokeh_server_id;\n",
       "    // Clean up Bokeh references\n",
       "    if (id != null && id in Bokeh.index) {\n",
       "      Bokeh.index[id].model.document.clear();\n",
       "      delete Bokeh.index[id];\n",
       "    }\n",
       "\n",
       "    if (server_id !== undefined) {\n",
       "      // Clean up Bokeh references\n",
       "      var cmd = \"from bokeh.io.state import curstate; print(curstate().uuid_to_server['\" + server_id + \"'].get_sessions()[0].document.roots[0]._id)\";\n",
       "      cell.notebook.kernel.execute(cmd, {\n",
       "        iopub: {\n",
       "          output: function(msg) {\n",
       "            var id = msg.content.text.trim();\n",
       "            if (id in Bokeh.index) {\n",
       "              Bokeh.index[id].model.document.clear();\n",
       "              delete Bokeh.index[id];\n",
       "            }\n",
       "          }\n",
       "        }\n",
       "      });\n",
       "      // Destroy server and session\n",
       "      var cmd = \"import bokeh.io.notebook as ion; ion.destroy_server('\" + server_id + \"')\";\n",
       "      cell.notebook.kernel.execute(cmd);\n",
       "    }\n",
       "  }\n",
       "\n",
       "  /**\n",
       "   * Handle when a new output is added\n",
       "   */\n",
       "  function handleAddOutput(event, handle) {\n",
       "    var output_area = handle.output_area;\n",
       "    var output = handle.output;\n",
       "\n",
       "    // limit handleAddOutput to display_data with EXEC_MIME_TYPE content only\n",
       "    if ((output.output_type != \"display_data\") || (!output.data.hasOwnProperty(EXEC_MIME_TYPE))) {\n",
       "      return\n",
       "    }\n",
       "\n",
       "    var toinsert = output_area.element.find(\".\" + CLASS_NAME.split(' ')[0]);\n",
       "\n",
       "    if (output.metadata[EXEC_MIME_TYPE][\"id\"] !== undefined) {\n",
       "      toinsert[toinsert.length - 1].firstChild.textContent = output.data[JS_MIME_TYPE];\n",
       "      // store reference to embed id on output_area\n",
       "      output_area._bokeh_element_id = output.metadata[EXEC_MIME_TYPE][\"id\"];\n",
       "    }\n",
       "    if (output.metadata[EXEC_MIME_TYPE][\"server_id\"] !== undefined) {\n",
       "      var bk_div = document.createElement(\"div\");\n",
       "      bk_div.innerHTML = output.data[HTML_MIME_TYPE];\n",
       "      var script_attrs = bk_div.children[0].attributes;\n",
       "      for (var i = 0; i < script_attrs.length; i++) {\n",
       "        toinsert[toinsert.length - 1].firstChild.setAttribute(script_attrs[i].name, script_attrs[i].value);\n",
       "      }\n",
       "      // store reference to server id on output_area\n",
       "      output_area._bokeh_server_id = output.metadata[EXEC_MIME_TYPE][\"server_id\"];\n",
       "    }\n",
       "  }\n",
       "\n",
       "  function register_renderer(events, OutputArea) {\n",
       "\n",
       "    function append_mime(data, metadata, element) {\n",
       "      // create a DOM node to render to\n",
       "      var toinsert = this.create_output_subarea(\n",
       "        metadata,\n",
       "        CLASS_NAME,\n",
       "        EXEC_MIME_TYPE\n",
       "      );\n",
       "      this.keyboard_manager.register_events(toinsert);\n",
       "      // Render to node\n",
       "      var props = {data: data, metadata: metadata[EXEC_MIME_TYPE]};\n",
       "      render(props, toinsert[toinsert.length - 1]);\n",
       "      element.append(toinsert);\n",
       "      return toinsert\n",
       "    }\n",
       "\n",
       "    /* Handle when an output is cleared or removed */\n",
       "    events.on('clear_output.CodeCell', handleClearOutput);\n",
       "    events.on('delete.Cell', handleClearOutput);\n",
       "\n",
       "    /* Handle when a new output is added */\n",
       "    events.on('output_added.OutputArea', handleAddOutput);\n",
       "\n",
       "    /**\n",
       "     * Register the mime type and append_mime function with output_area\n",
       "     */\n",
       "    OutputArea.prototype.register_mime_type(EXEC_MIME_TYPE, append_mime, {\n",
       "      /* Is output safe? */\n",
       "      safe: true,\n",
       "      /* Index of renderer in `output_area.display_order` */\n",
       "      index: 0\n",
       "    });\n",
       "  }\n",
       "\n",
       "  // register the mime type if in Jupyter Notebook environment and previously unregistered\n",
       "  if (root.Jupyter !== undefined) {\n",
       "    var events = require('base/js/events');\n",
       "    var OutputArea = require('notebook/js/outputarea').OutputArea;\n",
       "\n",
       "    if (OutputArea.prototype.mime_types().indexOf(EXEC_MIME_TYPE) == -1) {\n",
       "      register_renderer(events, OutputArea);\n",
       "    }\n",
       "  }\n",
       "\n",
       "  \n",
       "  if (typeof (root._bokeh_timeout) === \"undefined\" || force === true) {\n",
       "    root._bokeh_timeout = Date.now() + 5000;\n",
       "    root._bokeh_failed_load = false;\n",
       "  }\n",
       "\n",
       "  var NB_LOAD_WARNING = {'data': {'text/html':\n",
       "     \"<div style='background-color: #fdd'>\\n\"+\n",
       "     \"<p>\\n\"+\n",
       "     \"BokehJS does not appear to have successfully loaded. If loading BokehJS from CDN, this \\n\"+\n",
       "     \"may be due to a slow or bad network connection. Possible fixes:\\n\"+\n",
       "     \"</p>\\n\"+\n",
       "     \"<ul>\\n\"+\n",
       "     \"<li>re-rerun `output_notebook()` to attempt to load from CDN again, or</li>\\n\"+\n",
       "     \"<li>use INLINE resources instead, as so:</li>\\n\"+\n",
       "     \"</ul>\\n\"+\n",
       "     \"<code>\\n\"+\n",
       "     \"from bokeh.resources import INLINE\\n\"+\n",
       "     \"output_notebook(resources=INLINE)\\n\"+\n",
       "     \"</code>\\n\"+\n",
       "     \"</div>\"}};\n",
       "\n",
       "  function display_loaded() {\n",
       "    var el = document.getElementById(\"1001\");\n",
       "    if (el != null) {\n",
       "      el.textContent = \"BokehJS is loading...\";\n",
       "    }\n",
       "    if (root.Bokeh !== undefined) {\n",
       "      if (el != null) {\n",
       "        el.textContent = \"BokehJS \" + root.Bokeh.version + \" successfully loaded.\";\n",
       "      }\n",
       "    } else if (Date.now() < root._bokeh_timeout) {\n",
       "      setTimeout(display_loaded, 100)\n",
       "    }\n",
       "  }\n",
       "\n",
       "\n",
       "  function run_callbacks() {\n",
       "    try {\n",
       "      root._bokeh_onload_callbacks.forEach(function(callback) {\n",
       "        if (callback != null)\n",
       "          callback();\n",
       "      });\n",
       "    } finally {\n",
       "      delete root._bokeh_onload_callbacks\n",
       "    }\n",
       "    console.debug(\"Bokeh: all callbacks have finished\");\n",
       "  }\n",
       "\n",
       "  function load_libs(css_urls, js_urls, callback) {\n",
       "    if (css_urls == null) css_urls = [];\n",
       "    if (js_urls == null) js_urls = [];\n",
       "\n",
       "    root._bokeh_onload_callbacks.push(callback);\n",
       "    if (root._bokeh_is_loading > 0) {\n",
       "      console.debug(\"Bokeh: BokehJS is being loaded, scheduling callback at\", now());\n",
       "      return null;\n",
       "    }\n",
       "    if (js_urls == null || js_urls.length === 0) {\n",
       "      run_callbacks();\n",
       "      return null;\n",
       "    }\n",
       "    console.debug(\"Bokeh: BokehJS not loaded, scheduling load and callback at\", now());\n",
       "    root._bokeh_is_loading = css_urls.length + js_urls.length;\n",
       "\n",
       "    function on_load() {\n",
       "      root._bokeh_is_loading--;\n",
       "      if (root._bokeh_is_loading === 0) {\n",
       "        console.debug(\"Bokeh: all BokehJS libraries/stylesheets loaded\");\n",
       "        run_callbacks()\n",
       "      }\n",
       "    }\n",
       "\n",
       "    function on_error() {\n",
       "      console.error(\"failed to load \" + url);\n",
       "    }\n",
       "\n",
       "    for (var i = 0; i < css_urls.length; i++) {\n",
       "      var url = css_urls[i];\n",
       "      const element = document.createElement(\"link\");\n",
       "      element.onload = on_load;\n",
       "      element.onerror = on_error;\n",
       "      element.rel = \"stylesheet\";\n",
       "      element.type = \"text/css\";\n",
       "      element.href = url;\n",
       "      console.debug(\"Bokeh: injecting link tag for BokehJS stylesheet: \", url);\n",
       "      document.body.appendChild(element);\n",
       "    }\n",
       "\n",
       "    for (var i = 0; i < js_urls.length; i++) {\n",
       "      var url = js_urls[i];\n",
       "      var element = document.createElement('script');\n",
       "      element.onload = on_load;\n",
       "      element.onerror = on_error;\n",
       "      element.async = false;\n",
       "      element.src = url;\n",
       "      console.debug(\"Bokeh: injecting script tag for BokehJS library: \", url);\n",
       "      document.head.appendChild(element);\n",
       "    }\n",
       "  };var element = document.getElementById(\"1001\");\n",
       "  if (element == null) {\n",
       "    console.error(\"Bokeh: ERROR: autoload.js configured with elementid '1001' but no matching script tag was found. \")\n",
       "    return false;\n",
       "  }\n",
       "\n",
       "  function inject_raw_css(css) {\n",
       "    const element = document.createElement(\"style\");\n",
       "    element.appendChild(document.createTextNode(css));\n",
       "    document.body.appendChild(element);\n",
       "  }\n",
       "\n",
       "  \n",
       "  var js_urls = [\"https://cdn.pydata.org/bokeh/release/bokeh-1.4.0.min.js\", \"https://cdn.pydata.org/bokeh/release/bokeh-widgets-1.4.0.min.js\", \"https://cdn.pydata.org/bokeh/release/bokeh-tables-1.4.0.min.js\", \"https://cdn.pydata.org/bokeh/release/bokeh-gl-1.4.0.min.js\"];\n",
       "  var css_urls = [];\n",
       "  \n",
       "\n",
       "  var inline_js = [\n",
       "    function(Bokeh) {\n",
       "      Bokeh.set_log_level(\"info\");\n",
       "    },\n",
       "    function(Bokeh) {\n",
       "    \n",
       "    \n",
       "    }\n",
       "  ];\n",
       "\n",
       "  function run_inline_js() {\n",
       "    \n",
       "    if (root.Bokeh !== undefined || force === true) {\n",
       "      \n",
       "    for (var i = 0; i < inline_js.length; i++) {\n",
       "      inline_js[i].call(root, root.Bokeh);\n",
       "    }\n",
       "    if (force === true) {\n",
       "        display_loaded();\n",
       "      }} else if (Date.now() < root._bokeh_timeout) {\n",
       "      setTimeout(run_inline_js, 100);\n",
       "    } else if (!root._bokeh_failed_load) {\n",
       "      console.log(\"Bokeh: BokehJS failed to load within specified timeout.\");\n",
       "      root._bokeh_failed_load = true;\n",
       "    } else if (force !== true) {\n",
       "      var cell = $(document.getElementById(\"1001\")).parents('.cell').data().cell;\n",
       "      cell.output_area.append_execute_result(NB_LOAD_WARNING)\n",
       "    }\n",
       "\n",
       "  }\n",
       "\n",
       "  if (root._bokeh_is_loading === 0) {\n",
       "    console.debug(\"Bokeh: BokehJS loaded, going straight to plotting\");\n",
       "    run_inline_js();\n",
       "  } else {\n",
       "    load_libs(css_urls, js_urls, function() {\n",
       "      console.debug(\"Bokeh: BokehJS plotting callback run at\", now());\n",
       "      run_inline_js();\n",
       "    });\n",
       "  }\n",
       "}(window));"
      ],
      "application/vnd.bokehjs_load.v0+json": "\n(function(root) {\n  function now() {\n    return new Date();\n  }\n\n  var force = true;\n\n  if (typeof root._bokeh_onload_callbacks === \"undefined\" || force === true) {\n    root._bokeh_onload_callbacks = [];\n    root._bokeh_is_loading = undefined;\n  }\n\n  \n\n  \n  if (typeof (root._bokeh_timeout) === \"undefined\" || force === true) {\n    root._bokeh_timeout = Date.now() + 5000;\n    root._bokeh_failed_load = false;\n  }\n\n  var NB_LOAD_WARNING = {'data': {'text/html':\n     \"<div style='background-color: #fdd'>\\n\"+\n     \"<p>\\n\"+\n     \"BokehJS does not appear to have successfully loaded. If loading BokehJS from CDN, this \\n\"+\n     \"may be due to a slow or bad network connection. Possible fixes:\\n\"+\n     \"</p>\\n\"+\n     \"<ul>\\n\"+\n     \"<li>re-rerun `output_notebook()` to attempt to load from CDN again, or</li>\\n\"+\n     \"<li>use INLINE resources instead, as so:</li>\\n\"+\n     \"</ul>\\n\"+\n     \"<code>\\n\"+\n     \"from bokeh.resources import INLINE\\n\"+\n     \"output_notebook(resources=INLINE)\\n\"+\n     \"</code>\\n\"+\n     \"</div>\"}};\n\n  function display_loaded() {\n    var el = document.getElementById(\"1001\");\n    if (el != null) {\n      el.textContent = \"BokehJS is loading...\";\n    }\n    if (root.Bokeh !== undefined) {\n      if (el != null) {\n        el.textContent = \"BokehJS \" + root.Bokeh.version + \" successfully loaded.\";\n      }\n    } else if (Date.now() < root._bokeh_timeout) {\n      setTimeout(display_loaded, 100)\n    }\n  }\n\n\n  function run_callbacks() {\n    try {\n      root._bokeh_onload_callbacks.forEach(function(callback) {\n        if (callback != null)\n          callback();\n      });\n    } finally {\n      delete root._bokeh_onload_callbacks\n    }\n    console.debug(\"Bokeh: all callbacks have finished\");\n  }\n\n  function load_libs(css_urls, js_urls, callback) {\n    if (css_urls == null) css_urls = [];\n    if (js_urls == null) js_urls = [];\n\n    root._bokeh_onload_callbacks.push(callback);\n    if (root._bokeh_is_loading > 0) {\n      console.debug(\"Bokeh: BokehJS is being loaded, scheduling callback at\", now());\n      return null;\n    }\n    if (js_urls == null || js_urls.length === 0) {\n      run_callbacks();\n      return null;\n    }\n    console.debug(\"Bokeh: BokehJS not loaded, scheduling load and callback at\", now());\n    root._bokeh_is_loading = css_urls.length + js_urls.length;\n\n    function on_load() {\n      root._bokeh_is_loading--;\n      if (root._bokeh_is_loading === 0) {\n        console.debug(\"Bokeh: all BokehJS libraries/stylesheets loaded\");\n        run_callbacks()\n      }\n    }\n\n    function on_error() {\n      console.error(\"failed to load \" + url);\n    }\n\n    for (var i = 0; i < css_urls.length; i++) {\n      var url = css_urls[i];\n      const element = document.createElement(\"link\");\n      element.onload = on_load;\n      element.onerror = on_error;\n      element.rel = \"stylesheet\";\n      element.type = \"text/css\";\n      element.href = url;\n      console.debug(\"Bokeh: injecting link tag for BokehJS stylesheet: \", url);\n      document.body.appendChild(element);\n    }\n\n    for (var i = 0; i < js_urls.length; i++) {\n      var url = js_urls[i];\n      var element = document.createElement('script');\n      element.onload = on_load;\n      element.onerror = on_error;\n      element.async = false;\n      element.src = url;\n      console.debug(\"Bokeh: injecting script tag for BokehJS library: \", url);\n      document.head.appendChild(element);\n    }\n  };var element = document.getElementById(\"1001\");\n  if (element == null) {\n    console.error(\"Bokeh: ERROR: autoload.js configured with elementid '1001' but no matching script tag was found. \")\n    return false;\n  }\n\n  function inject_raw_css(css) {\n    const element = document.createElement(\"style\");\n    element.appendChild(document.createTextNode(css));\n    document.body.appendChild(element);\n  }\n\n  \n  var js_urls = [\"https://cdn.pydata.org/bokeh/release/bokeh-1.4.0.min.js\", \"https://cdn.pydata.org/bokeh/release/bokeh-widgets-1.4.0.min.js\", \"https://cdn.pydata.org/bokeh/release/bokeh-tables-1.4.0.min.js\", \"https://cdn.pydata.org/bokeh/release/bokeh-gl-1.4.0.min.js\"];\n  var css_urls = [];\n  \n\n  var inline_js = [\n    function(Bokeh) {\n      Bokeh.set_log_level(\"info\");\n    },\n    function(Bokeh) {\n    \n    \n    }\n  ];\n\n  function run_inline_js() {\n    \n    if (root.Bokeh !== undefined || force === true) {\n      \n    for (var i = 0; i < inline_js.length; i++) {\n      inline_js[i].call(root, root.Bokeh);\n    }\n    if (force === true) {\n        display_loaded();\n      }} else if (Date.now() < root._bokeh_timeout) {\n      setTimeout(run_inline_js, 100);\n    } else if (!root._bokeh_failed_load) {\n      console.log(\"Bokeh: BokehJS failed to load within specified timeout.\");\n      root._bokeh_failed_load = true;\n    } else if (force !== true) {\n      var cell = $(document.getElementById(\"1001\")).parents('.cell').data().cell;\n      cell.output_area.append_execute_result(NB_LOAD_WARNING)\n    }\n\n  }\n\n  if (root._bokeh_is_loading === 0) {\n    console.debug(\"Bokeh: BokehJS loaded, going straight to plotting\");\n    run_inline_js();\n  } else {\n    load_libs(css_urls, js_urls, function() {\n      console.debug(\"Bokeh: BokehJS plotting callback run at\", now());\n      run_inline_js();\n    });\n  }\n}(window));"
     },
     "metadata": {},
     "output_type": "display_data"
    }
   ],
   "source": [
    "output_notebook()"
   ]
  },
  {
   "cell_type": "code",
   "execution_count": 14,
   "metadata": {},
   "outputs": [
    {
     "data": {
      "text/html": [
       "\n",
       "\n",
       "\n",
       "\n",
       "\n",
       "\n",
       "  <div class=\"bk-root\" id=\"bdd92a5b-9998-4c3b-8114-e8822856bae6\" data-root-id=\"2086\"></div>\n"
      ]
     },
     "metadata": {},
     "output_type": "display_data"
    },
    {
     "data": {
      "application/javascript": [
       "(function(root) {\n",
       "  function embed_document(root) {\n",
       "    \n",
       "  var docs_json = {\"55088ea2-1c93-45de-b4a1-d28a258f9fcf\":{\"roots\":{\"references\":[{\"attributes\":{\"below\":[{\"id\":\"2095\",\"type\":\"LinearAxis\"}],\"center\":[{\"id\":\"2099\",\"type\":\"Grid\"},{\"id\":\"2104\",\"type\":\"Grid\"}],\"left\":[{\"id\":\"2100\",\"type\":\"LinearAxis\"}],\"renderers\":[{\"id\":\"2121\",\"type\":\"GlyphRenderer\"}],\"title\":{\"id\":\"2195\",\"type\":\"Title\"},\"toolbar\":{\"id\":\"2111\",\"type\":\"Toolbar\"},\"x_range\":{\"id\":\"2087\",\"type\":\"DataRange1d\"},\"x_scale\":{\"id\":\"2091\",\"type\":\"LinearScale\"},\"y_range\":{\"id\":\"2089\",\"type\":\"DataRange1d\"},\"y_scale\":{\"id\":\"2093\",\"type\":\"LinearScale\"}},\"id\":\"2086\",\"subtype\":\"Figure\",\"type\":\"Plot\"},{\"attributes\":{\"overlay\":{\"id\":\"2201\",\"type\":\"BoxAnnotation\"}},\"id\":\"2107\",\"type\":\"BoxZoomTool\"},{\"attributes\":{},\"id\":\"2108\",\"type\":\"SaveTool\"},{\"attributes\":{},\"id\":\"2109\",\"type\":\"ResetTool\"},{\"attributes\":{},\"id\":\"2200\",\"type\":\"BasicTickFormatter\"},{\"attributes\":{},\"id\":\"2110\",\"type\":\"HelpTool\"},{\"attributes\":{},\"id\":\"2198\",\"type\":\"BasicTickFormatter\"},{\"attributes\":{\"active_drag\":\"auto\",\"active_inspect\":\"auto\",\"active_multi\":null,\"active_scroll\":\"auto\",\"active_tap\":\"auto\",\"tools\":[{\"id\":\"2105\",\"type\":\"PanTool\"},{\"id\":\"2106\",\"type\":\"WheelZoomTool\"},{\"id\":\"2107\",\"type\":\"BoxZoomTool\"},{\"id\":\"2108\",\"type\":\"SaveTool\"},{\"id\":\"2109\",\"type\":\"ResetTool\"},{\"id\":\"2110\",\"type\":\"HelpTool\"}]},\"id\":\"2111\",\"type\":\"Toolbar\"},{\"attributes\":{\"text\":\"\"},\"id\":\"2195\",\"type\":\"Title\"},{\"attributes\":{\"fill_color\":{\"value\":\"#1f77b4\"},\"line_color\":{\"value\":\"#1f77b4\"},\"size\":{\"units\":\"screen\",\"value\":15},\"x\":{\"field\":\"x\"},\"y\":{\"field\":\"y\"}},\"id\":\"2119\",\"type\":\"Circle\"},{\"attributes\":{\"data_source\":{\"id\":\"2118\",\"type\":\"ColumnDataSource\"},\"glyph\":{\"id\":\"2119\",\"type\":\"Circle\"},\"hover_glyph\":null,\"muted_glyph\":null,\"nonselection_glyph\":{\"id\":\"2120\",\"type\":\"Circle\"},\"selection_glyph\":null,\"view\":{\"id\":\"2122\",\"type\":\"CDSView\"}},\"id\":\"2121\",\"type\":\"GlyphRenderer\"},{\"attributes\":{\"callback\":null},\"id\":\"2087\",\"type\":\"DataRange1d\"},{\"attributes\":{},\"id\":\"2091\",\"type\":\"LinearScale\"},{\"attributes\":{\"source\":{\"id\":\"2118\",\"type\":\"ColumnDataSource\"}},\"id\":\"2122\",\"type\":\"CDSView\"},{\"attributes\":{\"formatter\":{\"id\":\"2200\",\"type\":\"BasicTickFormatter\"},\"ticker\":{\"id\":\"2096\",\"type\":\"BasicTicker\"}},\"id\":\"2095\",\"type\":\"LinearAxis\"},{\"attributes\":{\"callback\":null},\"id\":\"2089\",\"type\":\"DataRange1d\"},{\"attributes\":{},\"id\":\"2203\",\"type\":\"Selection\"},{\"attributes\":{},\"id\":\"2093\",\"type\":\"LinearScale\"},{\"attributes\":{},\"id\":\"2202\",\"type\":\"UnionRenderers\"},{\"attributes\":{\"formatter\":{\"id\":\"2198\",\"type\":\"BasicTickFormatter\"},\"ticker\":{\"id\":\"2101\",\"type\":\"BasicTicker\"}},\"id\":\"2100\",\"type\":\"LinearAxis\"},{\"attributes\":{\"dimension\":1,\"ticker\":{\"id\":\"2101\",\"type\":\"BasicTicker\"}},\"id\":\"2104\",\"type\":\"Grid\"},{\"attributes\":{\"ticker\":{\"id\":\"2096\",\"type\":\"BasicTicker\"}},\"id\":\"2099\",\"type\":\"Grid\"},{\"attributes\":{},\"id\":\"2096\",\"type\":\"BasicTicker\"},{\"attributes\":{},\"id\":\"2101\",\"type\":\"BasicTicker\"},{\"attributes\":{},\"id\":\"2105\",\"type\":\"PanTool\"},{\"attributes\":{},\"id\":\"2106\",\"type\":\"WheelZoomTool\"},{\"attributes\":{\"callback\":null,\"data\":{\"x\":[2,5,3,8,12,13,10,5],\"y\":[12,3,9,1,10,5,8,11]},\"selected\":{\"id\":\"2203\",\"type\":\"Selection\"},\"selection_policy\":{\"id\":\"2202\",\"type\":\"UnionRenderers\"}},\"id\":\"2118\",\"type\":\"ColumnDataSource\"},{\"attributes\":{\"fill_alpha\":{\"value\":0.1},\"fill_color\":{\"value\":\"#1f77b4\"},\"line_alpha\":{\"value\":0.1},\"line_color\":{\"value\":\"#1f77b4\"},\"size\":{\"units\":\"screen\",\"value\":15},\"x\":{\"field\":\"x\"},\"y\":{\"field\":\"y\"}},\"id\":\"2120\",\"type\":\"Circle\"},{\"attributes\":{\"bottom_units\":\"screen\",\"fill_alpha\":{\"value\":0.5},\"fill_color\":{\"value\":\"lightgrey\"},\"left_units\":\"screen\",\"level\":\"overlay\",\"line_alpha\":{\"value\":1.0},\"line_color\":{\"value\":\"black\"},\"line_dash\":[4,4],\"line_width\":{\"value\":2},\"render_mode\":\"css\",\"right_units\":\"screen\",\"top_units\":\"screen\"},\"id\":\"2201\",\"type\":\"BoxAnnotation\"}],\"root_ids\":[\"2086\"]},\"title\":\"Bokeh Application\",\"version\":\"1.4.0\"}};\n",
       "  var render_items = [{\"docid\":\"55088ea2-1c93-45de-b4a1-d28a258f9fcf\",\"roots\":{\"2086\":\"bdd92a5b-9998-4c3b-8114-e8822856bae6\"}}];\n",
       "  root.Bokeh.embed.embed_items_notebook(docs_json, render_items);\n",
       "\n",
       "  }\n",
       "  if (root.Bokeh !== undefined) {\n",
       "    embed_document(root);\n",
       "  } else {\n",
       "    var attempts = 0;\n",
       "    var timer = setInterval(function(root) {\n",
       "      if (root.Bokeh !== undefined) {\n",
       "        clearInterval(timer);\n",
       "        embed_document(root);\n",
       "      } else {\n",
       "        attempts++;\n",
       "        if (attempts > 100) {\n",
       "          clearInterval(timer);\n",
       "          console.log(\"Bokeh: ERROR: Unable to run BokehJS code because BokehJS library is missing\");\n",
       "        }\n",
       "      }\n",
       "    }, 10, root)\n",
       "  }\n",
       "})(window);"
      ],
      "application/vnd.bokehjs_exec.v0+json": ""
     },
     "metadata": {
      "application/vnd.bokehjs_exec.v0+json": {
       "id": "2086"
      }
     },
     "output_type": "display_data"
    }
   ],
   "source": [
    "p = figure()\n",
    "p.circle(x =[2,5,3,8,12,13,10,5],y=[12,3,9,1,10,5,8,11],size=15)\n",
    "show(p)"
   ]
  },
  {
   "cell_type": "code",
   "execution_count": 10,
   "metadata": {},
   "outputs": [
    {
     "data": {
      "text/html": [
       "\n",
       "\n",
       "\n",
       "\n",
       "\n",
       "\n",
       "  <div class=\"bk-root\" id=\"0d67c6cd-0992-4283-8b0e-086ebe5aafc7\" data-root-id=\"1488\"></div>\n"
      ]
     },
     "metadata": {},
     "output_type": "display_data"
    },
    {
     "data": {
      "application/javascript": [
       "(function(root) {\n",
       "  function embed_document(root) {\n",
       "    \n",
       "  var docs_json = {\"a37f89ca-19d9-4e59-871b-6ca23f1fbacb\":{\"roots\":{\"references\":[{\"attributes\":{\"below\":[{\"id\":\"1497\",\"type\":\"LinearAxis\"}],\"center\":[{\"id\":\"1501\",\"type\":\"Grid\"},{\"id\":\"1506\",\"type\":\"Grid\"}],\"left\":[{\"id\":\"1502\",\"type\":\"LinearAxis\"}],\"plot_height\":200,\"plot_width\":500,\"renderers\":[{\"id\":\"1523\",\"type\":\"GlyphRenderer\"}],\"title\":{\"id\":\"1561\",\"type\":\"Title\"},\"toolbar\":{\"id\":\"1513\",\"type\":\"Toolbar\"},\"x_range\":{\"id\":\"1489\",\"type\":\"DataRange1d\"},\"x_scale\":{\"id\":\"1493\",\"type\":\"LinearScale\"},\"y_range\":{\"id\":\"1491\",\"type\":\"DataRange1d\"},\"y_scale\":{\"id\":\"1495\",\"type\":\"LinearScale\"}},\"id\":\"1488\",\"subtype\":\"Figure\",\"type\":\"Plot\"},{\"attributes\":{},\"id\":\"1510\",\"type\":\"SaveTool\"},{\"attributes\":{},\"id\":\"1507\",\"type\":\"PanTool\"},{\"attributes\":{},\"id\":\"1511\",\"type\":\"ResetTool\"},{\"attributes\":{},\"id\":\"1512\",\"type\":\"HelpTool\"},{\"attributes\":{\"ticker\":{\"id\":\"1498\",\"type\":\"BasicTicker\"}},\"id\":\"1501\",\"type\":\"Grid\"},{\"attributes\":{\"active_drag\":\"auto\",\"active_inspect\":\"auto\",\"active_multi\":null,\"active_scroll\":\"auto\",\"active_tap\":\"auto\",\"tools\":[{\"id\":\"1507\",\"type\":\"PanTool\"},{\"id\":\"1508\",\"type\":\"WheelZoomTool\"},{\"id\":\"1509\",\"type\":\"BoxZoomTool\"},{\"id\":\"1510\",\"type\":\"SaveTool\"},{\"id\":\"1511\",\"type\":\"ResetTool\"},{\"id\":\"1512\",\"type\":\"HelpTool\"}]},\"id\":\"1513\",\"type\":\"Toolbar\"},{\"attributes\":{\"bottom_units\":\"screen\",\"fill_alpha\":{\"value\":0.5},\"fill_color\":{\"value\":\"lightgrey\"},\"left_units\":\"screen\",\"level\":\"overlay\",\"line_alpha\":{\"value\":1.0},\"line_color\":{\"value\":\"black\"},\"line_dash\":[4,4],\"line_width\":{\"value\":2},\"render_mode\":\"css\",\"right_units\":\"screen\",\"top_units\":\"screen\"},\"id\":\"1567\",\"type\":\"BoxAnnotation\"},{\"attributes\":{\"data_source\":{\"id\":\"1520\",\"type\":\"ColumnDataSource\"},\"glyph\":{\"id\":\"1521\",\"type\":\"Square\"},\"hover_glyph\":null,\"muted_glyph\":null,\"nonselection_glyph\":{\"id\":\"1522\",\"type\":\"Square\"},\"selection_glyph\":null,\"view\":{\"id\":\"1524\",\"type\":\"CDSView\"}},\"id\":\"1523\",\"type\":\"GlyphRenderer\"},{\"attributes\":{\"fill_color\":{\"value\":\"#1f77b4\"},\"line_color\":{\"value\":\"#1f77b4\"},\"size\":{\"units\":\"screen\",\"value\":20},\"x\":{\"field\":\"x\"},\"y\":{\"field\":\"y\"}},\"id\":\"1521\",\"type\":\"Square\"},{\"attributes\":{\"formatter\":{\"id\":\"1566\",\"type\":\"BasicTickFormatter\"},\"ticker\":{\"id\":\"1498\",\"type\":\"BasicTicker\"}},\"id\":\"1497\",\"type\":\"LinearAxis\"},{\"attributes\":{},\"id\":\"1495\",\"type\":\"LinearScale\"},{\"attributes\":{\"source\":{\"id\":\"1520\",\"type\":\"ColumnDataSource\"}},\"id\":\"1524\",\"type\":\"CDSView\"},{\"attributes\":{},\"id\":\"1503\",\"type\":\"BasicTicker\"},{\"attributes\":{\"text\":\"\"},\"id\":\"1561\",\"type\":\"Title\"},{\"attributes\":{\"overlay\":{\"id\":\"1567\",\"type\":\"BoxAnnotation\"}},\"id\":\"1509\",\"type\":\"BoxZoomTool\"},{\"attributes\":{},\"id\":\"1498\",\"type\":\"BasicTicker\"},{\"attributes\":{},\"id\":\"1566\",\"type\":\"BasicTickFormatter\"},{\"attributes\":{\"formatter\":{\"id\":\"1564\",\"type\":\"BasicTickFormatter\"},\"ticker\":{\"id\":\"1503\",\"type\":\"BasicTicker\"}},\"id\":\"1502\",\"type\":\"LinearAxis\"},{\"attributes\":{},\"id\":\"1508\",\"type\":\"WheelZoomTool\"},{\"attributes\":{},\"id\":\"1569\",\"type\":\"Selection\"},{\"attributes\":{\"callback\":null},\"id\":\"1491\",\"type\":\"DataRange1d\"},{\"attributes\":{},\"id\":\"1568\",\"type\":\"UnionRenderers\"},{\"attributes\":{\"fill_alpha\":{\"value\":0.1},\"fill_color\":{\"value\":\"#1f77b4\"},\"line_alpha\":{\"value\":0.1},\"line_color\":{\"value\":\"#1f77b4\"},\"size\":{\"units\":\"screen\",\"value\":20},\"x\":{\"field\":\"x\"},\"y\":{\"field\":\"y\"}},\"id\":\"1522\",\"type\":\"Square\"},{\"attributes\":{\"callback\":null,\"data\":{\"x\":[2,5,3,8,12,23,10,5],\"y\":[12,3,9,1,10,34,8,11]},\"selected\":{\"id\":\"1569\",\"type\":\"Selection\"},\"selection_policy\":{\"id\":\"1568\",\"type\":\"UnionRenderers\"}},\"id\":\"1520\",\"type\":\"ColumnDataSource\"},{\"attributes\":{},\"id\":\"1493\",\"type\":\"LinearScale\"},{\"attributes\":{\"callback\":null},\"id\":\"1489\",\"type\":\"DataRange1d\"},{\"attributes\":{\"dimension\":1,\"ticker\":{\"id\":\"1503\",\"type\":\"BasicTicker\"}},\"id\":\"1506\",\"type\":\"Grid\"},{\"attributes\":{},\"id\":\"1564\",\"type\":\"BasicTickFormatter\"}],\"root_ids\":[\"1488\"]},\"title\":\"Bokeh Application\",\"version\":\"1.4.0\"}};\n",
       "  var render_items = [{\"docid\":\"a37f89ca-19d9-4e59-871b-6ca23f1fbacb\",\"roots\":{\"1488\":\"0d67c6cd-0992-4283-8b0e-086ebe5aafc7\"}}];\n",
       "  root.Bokeh.embed.embed_items_notebook(docs_json, render_items);\n",
       "\n",
       "  }\n",
       "  if (root.Bokeh !== undefined) {\n",
       "    embed_document(root);\n",
       "  } else {\n",
       "    var attempts = 0;\n",
       "    var timer = setInterval(function(root) {\n",
       "      if (root.Bokeh !== undefined) {\n",
       "        clearInterval(timer);\n",
       "        embed_document(root);\n",
       "      } else {\n",
       "        attempts++;\n",
       "        if (attempts > 100) {\n",
       "          clearInterval(timer);\n",
       "          console.log(\"Bokeh: ERROR: Unable to run BokehJS code because BokehJS library is missing\");\n",
       "        }\n",
       "      }\n",
       "    }, 10, root)\n",
       "  }\n",
       "})(window);"
      ],
      "application/vnd.bokehjs_exec.v0+json": ""
     },
     "metadata": {
      "application/vnd.bokehjs_exec.v0+json": {
       "id": "1488"
      }
     },
     "output_type": "display_data"
    }
   ],
   "source": [
    "p = figure(plot_width=500,plot_height=200)\n",
    "p.square(x =[2,5,3,8,12,23,10,5],y=[12,3,9,1,10,34,8,11],size=20)\n",
    "show(p)"
   ]
  },
  {
   "cell_type": "code",
   "execution_count": 11,
   "metadata": {},
   "outputs": [
    {
     "data": {
      "text/html": [
       "\n",
       "\n",
       "\n",
       "\n",
       "\n",
       "\n",
       "  <div class=\"bk-root\" id=\"df669f25-9022-425d-91ab-36b82926546c\" data-root-id=\"1624\"></div>\n"
      ]
     },
     "metadata": {},
     "output_type": "display_data"
    },
    {
     "data": {
      "application/javascript": [
       "(function(root) {\n",
       "  function embed_document(root) {\n",
       "    \n",
       "  var docs_json = {\"715af85d-479a-4d4c-b427-27d61bef4a67\":{\"roots\":{\"references\":[{\"attributes\":{\"below\":[{\"id\":\"1633\",\"type\":\"LinearAxis\"}],\"center\":[{\"id\":\"1637\",\"type\":\"Grid\"},{\"id\":\"1642\",\"type\":\"Grid\"}],\"left\":[{\"id\":\"1638\",\"type\":\"LinearAxis\"}],\"plot_height\":200,\"plot_width\":500,\"renderers\":[{\"id\":\"1659\",\"type\":\"GlyphRenderer\"}],\"title\":{\"id\":\"1706\",\"type\":\"Title\"},\"toolbar\":{\"id\":\"1649\",\"type\":\"Toolbar\"},\"x_range\":{\"id\":\"1625\",\"type\":\"DataRange1d\"},\"x_scale\":{\"id\":\"1629\",\"type\":\"LinearScale\"},\"y_range\":{\"id\":\"1627\",\"type\":\"DataRange1d\"},\"y_scale\":{\"id\":\"1631\",\"type\":\"LinearScale\"}},\"id\":\"1624\",\"subtype\":\"Figure\",\"type\":\"Plot\"},{\"attributes\":{},\"id\":\"1713\",\"type\":\"UnionRenderers\"},{\"attributes\":{\"source\":{\"id\":\"1656\",\"type\":\"ColumnDataSource\"}},\"id\":\"1660\",\"type\":\"CDSView\"},{\"attributes\":{},\"id\":\"1643\",\"type\":\"PanTool\"},{\"attributes\":{},\"id\":\"1709\",\"type\":\"BasicTickFormatter\"},{\"attributes\":{\"fill_alpha\":{\"value\":0.5},\"fill_color\":{\"value\":\"olive\"},\"line_alpha\":{\"value\":0.5},\"line_color\":{\"value\":\"olive\"},\"size\":{\"units\":\"screen\",\"value\":20},\"x\":{\"field\":\"x\"},\"y\":{\"field\":\"y\"}},\"id\":\"1657\",\"type\":\"Diamond\"},{\"attributes\":{},\"id\":\"1647\",\"type\":\"ResetTool\"},{\"attributes\":{\"active_drag\":\"auto\",\"active_inspect\":\"auto\",\"active_multi\":null,\"active_scroll\":\"auto\",\"active_tap\":\"auto\",\"tools\":[{\"id\":\"1643\",\"type\":\"PanTool\"},{\"id\":\"1644\",\"type\":\"WheelZoomTool\"},{\"id\":\"1645\",\"type\":\"BoxZoomTool\"},{\"id\":\"1646\",\"type\":\"SaveTool\"},{\"id\":\"1647\",\"type\":\"ResetTool\"},{\"id\":\"1648\",\"type\":\"HelpTool\"}]},\"id\":\"1649\",\"type\":\"Toolbar\"},{\"attributes\":{\"formatter\":{\"id\":\"1709\",\"type\":\"BasicTickFormatter\"},\"ticker\":{\"id\":\"1639\",\"type\":\"BasicTicker\"}},\"id\":\"1638\",\"type\":\"LinearAxis\"},{\"attributes\":{},\"id\":\"1648\",\"type\":\"HelpTool\"},{\"attributes\":{\"formatter\":{\"id\":\"1711\",\"type\":\"BasicTickFormatter\"},\"ticker\":{\"id\":\"1634\",\"type\":\"BasicTicker\"}},\"id\":\"1633\",\"type\":\"LinearAxis\"},{\"attributes\":{\"data_source\":{\"id\":\"1656\",\"type\":\"ColumnDataSource\"},\"glyph\":{\"id\":\"1657\",\"type\":\"Diamond\"},\"hover_glyph\":null,\"muted_glyph\":null,\"nonselection_glyph\":{\"id\":\"1658\",\"type\":\"Diamond\"},\"selection_glyph\":null,\"view\":{\"id\":\"1660\",\"type\":\"CDSView\"}},\"id\":\"1659\",\"type\":\"GlyphRenderer\"},{\"attributes\":{\"overlay\":{\"id\":\"1712\",\"type\":\"BoxAnnotation\"}},\"id\":\"1645\",\"type\":\"BoxZoomTool\"},{\"attributes\":{},\"id\":\"1644\",\"type\":\"WheelZoomTool\"},{\"attributes\":{},\"id\":\"1646\",\"type\":\"SaveTool\"},{\"attributes\":{\"bottom_units\":\"screen\",\"fill_alpha\":{\"value\":0.5},\"fill_color\":{\"value\":\"lightgrey\"},\"left_units\":\"screen\",\"level\":\"overlay\",\"line_alpha\":{\"value\":1.0},\"line_color\":{\"value\":\"black\"},\"line_dash\":[4,4],\"line_width\":{\"value\":2},\"render_mode\":\"css\",\"right_units\":\"screen\",\"top_units\":\"screen\"},\"id\":\"1712\",\"type\":\"BoxAnnotation\"},{\"attributes\":{\"callback\":null},\"id\":\"1627\",\"type\":\"DataRange1d\"},{\"attributes\":{},\"id\":\"1714\",\"type\":\"Selection\"},{\"attributes\":{\"fill_alpha\":{\"value\":0.1},\"fill_color\":{\"value\":\"#1f77b4\"},\"line_alpha\":{\"value\":0.1},\"line_color\":{\"value\":\"#1f77b4\"},\"size\":{\"units\":\"screen\",\"value\":20},\"x\":{\"field\":\"x\"},\"y\":{\"field\":\"y\"}},\"id\":\"1658\",\"type\":\"Diamond\"},{\"attributes\":{\"callback\":null},\"id\":\"1625\",\"type\":\"DataRange1d\"},{\"attributes\":{},\"id\":\"1629\",\"type\":\"LinearScale\"},{\"attributes\":{\"ticker\":{\"id\":\"1634\",\"type\":\"BasicTicker\"}},\"id\":\"1637\",\"type\":\"Grid\"},{\"attributes\":{},\"id\":\"1631\",\"type\":\"LinearScale\"},{\"attributes\":{},\"id\":\"1634\",\"type\":\"BasicTicker\"},{\"attributes\":{\"text\":\"\"},\"id\":\"1706\",\"type\":\"Title\"},{\"attributes\":{},\"id\":\"1711\",\"type\":\"BasicTickFormatter\"},{\"attributes\":{\"callback\":null,\"data\":{\"x\":[2,5,3,8,12,23,10,5],\"y\":[12,3,9,1,10,34,8,11]},\"selected\":{\"id\":\"1714\",\"type\":\"Selection\"},\"selection_policy\":{\"id\":\"1713\",\"type\":\"UnionRenderers\"}},\"id\":\"1656\",\"type\":\"ColumnDataSource\"},{\"attributes\":{},\"id\":\"1639\",\"type\":\"BasicTicker\"},{\"attributes\":{\"dimension\":1,\"ticker\":{\"id\":\"1639\",\"type\":\"BasicTicker\"}},\"id\":\"1642\",\"type\":\"Grid\"}],\"root_ids\":[\"1624\"]},\"title\":\"Bokeh Application\",\"version\":\"1.4.0\"}};\n",
       "  var render_items = [{\"docid\":\"715af85d-479a-4d4c-b427-27d61bef4a67\",\"roots\":{\"1624\":\"df669f25-9022-425d-91ab-36b82926546c\"}}];\n",
       "  root.Bokeh.embed.embed_items_notebook(docs_json, render_items);\n",
       "\n",
       "  }\n",
       "  if (root.Bokeh !== undefined) {\n",
       "    embed_document(root);\n",
       "  } else {\n",
       "    var attempts = 0;\n",
       "    var timer = setInterval(function(root) {\n",
       "      if (root.Bokeh !== undefined) {\n",
       "        clearInterval(timer);\n",
       "        embed_document(root);\n",
       "      } else {\n",
       "        attempts++;\n",
       "        if (attempts > 100) {\n",
       "          clearInterval(timer);\n",
       "          console.log(\"Bokeh: ERROR: Unable to run BokehJS code because BokehJS library is missing\");\n",
       "        }\n",
       "      }\n",
       "    }, 10, root)\n",
       "  }\n",
       "})(window);"
      ],
      "application/vnd.bokehjs_exec.v0+json": ""
     },
     "metadata": {
      "application/vnd.bokehjs_exec.v0+json": {
       "id": "1624"
      }
     },
     "output_type": "display_data"
    }
   ],
   "source": [
    "p = figure(plot_width=500,plot_height=200)\n",
    "p.diamond(x =[2,5,3,8,12,23,10,5],y=[12,3,9,1,10,34,8,11],size=20,color='olive',alpha=0.5)\n",
    "show(p)"
   ]
  },
  {
   "cell_type": "code",
   "execution_count": 15,
   "metadata": {},
   "outputs": [
    {
     "data": {
      "text/html": [
       "\n",
       "\n",
       "\n",
       "\n",
       "\n",
       "\n",
       "  <div class=\"bk-root\" id=\"358b3946-a687-44b1-acec-5f9aa3cd06b9\" data-root-id=\"2258\"></div>\n"
      ]
     },
     "metadata": {},
     "output_type": "display_data"
    },
    {
     "data": {
      "application/javascript": [
       "(function(root) {\n",
       "  function embed_document(root) {\n",
       "    \n",
       "  var docs_json = {\"6cfb930b-79e0-4e04-a9fd-95674eef51ed\":{\"roots\":{\"references\":[{\"attributes\":{\"below\":[{\"id\":\"2267\",\"type\":\"LinearAxis\"}],\"center\":[{\"id\":\"2271\",\"type\":\"Grid\"},{\"id\":\"2276\",\"type\":\"Grid\"}],\"left\":[{\"id\":\"2272\",\"type\":\"LinearAxis\"}],\"plot_height\":200,\"plot_width\":500,\"renderers\":[{\"id\":\"2293\",\"type\":\"GlyphRenderer\"}],\"title\":{\"id\":\"2376\",\"type\":\"Title\"},\"toolbar\":{\"id\":\"2283\",\"type\":\"Toolbar\"},\"x_range\":{\"id\":\"2259\",\"type\":\"DataRange1d\"},\"x_scale\":{\"id\":\"2263\",\"type\":\"LinearScale\"},\"y_range\":{\"id\":\"2261\",\"type\":\"DataRange1d\"},\"y_scale\":{\"id\":\"2265\",\"type\":\"LinearScale\"}},\"id\":\"2258\",\"subtype\":\"Figure\",\"type\":\"Plot\"},{\"attributes\":{\"callback\":null},\"id\":\"2261\",\"type\":\"DataRange1d\"},{\"attributes\":{},\"id\":\"2384\",\"type\":\"Selection\"},{\"attributes\":{\"callback\":null},\"id\":\"2259\",\"type\":\"DataRange1d\"},{\"attributes\":{\"text\":\"\"},\"id\":\"2376\",\"type\":\"Title\"},{\"attributes\":{},\"id\":\"2263\",\"type\":\"LinearScale\"},{\"attributes\":{\"ticker\":{\"id\":\"2268\",\"type\":\"BasicTicker\"}},\"id\":\"2271\",\"type\":\"Grid\"},{\"attributes\":{},\"id\":\"2268\",\"type\":\"BasicTicker\"},{\"attributes\":{},\"id\":\"2273\",\"type\":\"BasicTicker\"},{\"attributes\":{\"formatter\":{\"id\":\"2381\",\"type\":\"BasicTickFormatter\"},\"ticker\":{\"id\":\"2268\",\"type\":\"BasicTicker\"}},\"id\":\"2267\",\"type\":\"LinearAxis\"},{\"attributes\":{},\"id\":\"2265\",\"type\":\"LinearScale\"},{\"attributes\":{},\"id\":\"2383\",\"type\":\"UnionRenderers\"},{\"attributes\":{\"fill_alpha\":{\"value\":0.8},\"fill_color\":{\"value\":\"#1f77b4\"},\"line_alpha\":{\"value\":0.8},\"line_color\":{\"value\":\"#1f77b4\"},\"size\":{\"units\":\"screen\",\"value\":20},\"x\":{\"field\":\"x\"},\"y\":{\"field\":\"y\"}},\"id\":\"2291\",\"type\":\"Triangle\"},{\"attributes\":{\"active_drag\":\"auto\",\"active_inspect\":\"auto\",\"active_multi\":null,\"active_scroll\":\"auto\",\"active_tap\":\"auto\",\"tools\":[{\"id\":\"2277\",\"type\":\"PanTool\"},{\"id\":\"2278\",\"type\":\"WheelZoomTool\"},{\"id\":\"2279\",\"type\":\"BoxZoomTool\"},{\"id\":\"2280\",\"type\":\"SaveTool\"},{\"id\":\"2281\",\"type\":\"ResetTool\"},{\"id\":\"2282\",\"type\":\"HelpTool\"}]},\"id\":\"2283\",\"type\":\"Toolbar\"},{\"attributes\":{\"formatter\":{\"id\":\"2379\",\"type\":\"BasicTickFormatter\"},\"ticker\":{\"id\":\"2273\",\"type\":\"BasicTicker\"}},\"id\":\"2272\",\"type\":\"LinearAxis\"},{\"attributes\":{\"fill_alpha\":{\"value\":0.1},\"fill_color\":{\"value\":\"#1f77b4\"},\"line_alpha\":{\"value\":0.1},\"line_color\":{\"value\":\"#1f77b4\"},\"size\":{\"units\":\"screen\",\"value\":20},\"x\":{\"field\":\"x\"},\"y\":{\"field\":\"y\"}},\"id\":\"2292\",\"type\":\"Triangle\"},{\"attributes\":{\"dimension\":1,\"ticker\":{\"id\":\"2273\",\"type\":\"BasicTicker\"}},\"id\":\"2276\",\"type\":\"Grid\"},{\"attributes\":{\"callback\":null,\"data\":{\"x\":[2,5,3,8,12,23,10,5],\"y\":[12,3,9,1,10,34,8,11]},\"selected\":{\"id\":\"2384\",\"type\":\"Selection\"},\"selection_policy\":{\"id\":\"2383\",\"type\":\"UnionRenderers\"}},\"id\":\"2290\",\"type\":\"ColumnDataSource\"},{\"attributes\":{},\"id\":\"2277\",\"type\":\"PanTool\"},{\"attributes\":{\"overlay\":{\"id\":\"2382\",\"type\":\"BoxAnnotation\"}},\"id\":\"2279\",\"type\":\"BoxZoomTool\"},{\"attributes\":{},\"id\":\"2278\",\"type\":\"WheelZoomTool\"},{\"attributes\":{},\"id\":\"2281\",\"type\":\"ResetTool\"},{\"attributes\":{},\"id\":\"2280\",\"type\":\"SaveTool\"},{\"attributes\":{},\"id\":\"2282\",\"type\":\"HelpTool\"},{\"attributes\":{\"data_source\":{\"id\":\"2290\",\"type\":\"ColumnDataSource\"},\"glyph\":{\"id\":\"2291\",\"type\":\"Triangle\"},\"hover_glyph\":null,\"muted_glyph\":null,\"nonselection_glyph\":{\"id\":\"2292\",\"type\":\"Triangle\"},\"selection_glyph\":null,\"view\":{\"id\":\"2294\",\"type\":\"CDSView\"}},\"id\":\"2293\",\"type\":\"GlyphRenderer\"},{\"attributes\":{\"source\":{\"id\":\"2290\",\"type\":\"ColumnDataSource\"}},\"id\":\"2294\",\"type\":\"CDSView\"},{\"attributes\":{},\"id\":\"2379\",\"type\":\"BasicTickFormatter\"},{\"attributes\":{\"bottom_units\":\"screen\",\"fill_alpha\":{\"value\":0.5},\"fill_color\":{\"value\":\"lightgrey\"},\"left_units\":\"screen\",\"level\":\"overlay\",\"line_alpha\":{\"value\":1.0},\"line_color\":{\"value\":\"black\"},\"line_dash\":[4,4],\"line_width\":{\"value\":2},\"render_mode\":\"css\",\"right_units\":\"screen\",\"top_units\":\"screen\"},\"id\":\"2382\",\"type\":\"BoxAnnotation\"},{\"attributes\":{},\"id\":\"2381\",\"type\":\"BasicTickFormatter\"}],\"root_ids\":[\"2258\"]},\"title\":\"Bokeh Application\",\"version\":\"1.4.0\"}};\n",
       "  var render_items = [{\"docid\":\"6cfb930b-79e0-4e04-a9fd-95674eef51ed\",\"roots\":{\"2258\":\"358b3946-a687-44b1-acec-5f9aa3cd06b9\"}}];\n",
       "  root.Bokeh.embed.embed_items_notebook(docs_json, render_items);\n",
       "\n",
       "  }\n",
       "  if (root.Bokeh !== undefined) {\n",
       "    embed_document(root);\n",
       "  } else {\n",
       "    var attempts = 0;\n",
       "    var timer = setInterval(function(root) {\n",
       "      if (root.Bokeh !== undefined) {\n",
       "        clearInterval(timer);\n",
       "        embed_document(root);\n",
       "      } else {\n",
       "        attempts++;\n",
       "        if (attempts > 100) {\n",
       "          clearInterval(timer);\n",
       "          console.log(\"Bokeh: ERROR: Unable to run BokehJS code because BokehJS library is missing\");\n",
       "        }\n",
       "      }\n",
       "    }, 10, root)\n",
       "  }\n",
       "})(window);"
      ],
      "application/vnd.bokehjs_exec.v0+json": ""
     },
     "metadata": {
      "application/vnd.bokehjs_exec.v0+json": {
       "id": "2258"
      }
     },
     "output_type": "display_data"
    }
   ],
   "source": [
    "p = figure(plot_width=500,plot_height=200)\n",
    "p.triangle(x =[2,5,3,8,12,23,10,5],y=[12,3,9,1,10,34,8,11],size=20,alpha=0.8)\n",
    "show(p)"
   ]
  },
  {
   "cell_type": "code",
   "execution_count": 16,
   "metadata": {},
   "outputs": [
    {
     "data": {
      "text/html": [
       "\n",
       "\n",
       "\n",
       "\n",
       "\n",
       "\n",
       "  <div class=\"bk-root\" id=\"1b974659-8274-4407-86ca-74cb81d7e529\" data-root-id=\"2439\"></div>\n"
      ]
     },
     "metadata": {},
     "output_type": "display_data"
    },
    {
     "data": {
      "application/javascript": [
       "(function(root) {\n",
       "  function embed_document(root) {\n",
       "    \n",
       "  var docs_json = {\"1edf33ef-8acd-4f84-b233-d85d4d2496b2\":{\"roots\":{\"references\":[{\"attributes\":{\"below\":[{\"id\":\"2448\",\"type\":\"LinearAxis\"}],\"center\":[{\"id\":\"2452\",\"type\":\"Grid\"},{\"id\":\"2457\",\"type\":\"Grid\"}],\"left\":[{\"id\":\"2453\",\"type\":\"LinearAxis\"}],\"plot_height\":200,\"plot_width\":500,\"renderers\":[{\"id\":\"2474\",\"type\":\"GlyphRenderer\"}],\"title\":{\"id\":\"2566\",\"type\":\"Title\"},\"toolbar\":{\"id\":\"2464\",\"type\":\"Toolbar\"},\"x_range\":{\"id\":\"2440\",\"type\":\"DataRange1d\"},\"x_scale\":{\"id\":\"2444\",\"type\":\"LinearScale\"},\"y_range\":{\"id\":\"2442\",\"type\":\"DataRange1d\"},\"y_scale\":{\"id\":\"2446\",\"type\":\"LinearScale\"}},\"id\":\"2439\",\"subtype\":\"Figure\",\"type\":\"Plot\"},{\"attributes\":{},\"id\":\"2454\",\"type\":\"BasicTicker\"},{\"attributes\":{},\"id\":\"2459\",\"type\":\"WheelZoomTool\"},{\"attributes\":{\"text\":\"\"},\"id\":\"2566\",\"type\":\"Title\"},{\"attributes\":{\"overlay\":{\"id\":\"2572\",\"type\":\"BoxAnnotation\"}},\"id\":\"2460\",\"type\":\"BoxZoomTool\"},{\"attributes\":{},\"id\":\"2461\",\"type\":\"SaveTool\"},{\"attributes\":{\"formatter\":{\"id\":\"2569\",\"type\":\"BasicTickFormatter\"},\"ticker\":{\"id\":\"2454\",\"type\":\"BasicTicker\"}},\"id\":\"2453\",\"type\":\"LinearAxis\"},{\"attributes\":{},\"id\":\"2573\",\"type\":\"UnionRenderers\"},{\"attributes\":{},\"id\":\"2462\",\"type\":\"ResetTool\"},{\"attributes\":{},\"id\":\"2463\",\"type\":\"HelpTool\"},{\"attributes\":{\"active_drag\":\"auto\",\"active_inspect\":\"auto\",\"active_multi\":null,\"active_scroll\":\"auto\",\"active_tap\":\"auto\",\"tools\":[{\"id\":\"2458\",\"type\":\"PanTool\"},{\"id\":\"2459\",\"type\":\"WheelZoomTool\"},{\"id\":\"2460\",\"type\":\"BoxZoomTool\"},{\"id\":\"2461\",\"type\":\"SaveTool\"},{\"id\":\"2462\",\"type\":\"ResetTool\"},{\"id\":\"2463\",\"type\":\"HelpTool\"}]},\"id\":\"2464\",\"type\":\"Toolbar\"},{\"attributes\":{\"formatter\":{\"id\":\"2571\",\"type\":\"BasicTickFormatter\"},\"ticker\":{\"id\":\"2449\",\"type\":\"BasicTicker\"}},\"id\":\"2448\",\"type\":\"LinearAxis\"},{\"attributes\":{},\"id\":\"2446\",\"type\":\"LinearScale\"},{\"attributes\":{},\"id\":\"2571\",\"type\":\"BasicTickFormatter\"},{\"attributes\":{},\"id\":\"2569\",\"type\":\"BasicTickFormatter\"},{\"attributes\":{\"callback\":null,\"data\":{\"x\":[2,5,3,8,12,23,10,5],\"y\":[12,3,9,1,10,34,8,11]},\"selected\":{\"id\":\"2574\",\"type\":\"Selection\"},\"selection_policy\":{\"id\":\"2573\",\"type\":\"UnionRenderers\"}},\"id\":\"2471\",\"type\":\"ColumnDataSource\"},{\"attributes\":{\"data_source\":{\"id\":\"2471\",\"type\":\"ColumnDataSource\"},\"glyph\":{\"id\":\"2472\",\"type\":\"Asterisk\"},\"hover_glyph\":null,\"muted_glyph\":null,\"nonselection_glyph\":{\"id\":\"2473\",\"type\":\"Asterisk\"},\"selection_glyph\":null,\"view\":{\"id\":\"2475\",\"type\":\"CDSView\"}},\"id\":\"2474\",\"type\":\"GlyphRenderer\"},{\"attributes\":{\"fill_alpha\":{\"value\":0.1},\"fill_color\":{\"value\":\"#1f77b4\"},\"line_alpha\":{\"value\":0.1},\"line_color\":{\"value\":\"#1f77b4\"},\"size\":{\"units\":\"screen\",\"value\":20},\"x\":{\"field\":\"x\"},\"y\":{\"field\":\"y\"}},\"id\":\"2473\",\"type\":\"Asterisk\"},{\"attributes\":{\"source\":{\"id\":\"2471\",\"type\":\"ColumnDataSource\"}},\"id\":\"2475\",\"type\":\"CDSView\"},{\"attributes\":{\"ticker\":{\"id\":\"2449\",\"type\":\"BasicTicker\"}},\"id\":\"2452\",\"type\":\"Grid\"},{\"attributes\":{},\"id\":\"2574\",\"type\":\"Selection\"},{\"attributes\":{\"fill_alpha\":{\"value\":0.8},\"fill_color\":{\"value\":\"#1f77b4\"},\"line_alpha\":{\"value\":0.8},\"line_color\":{\"value\":\"#1f77b4\"},\"size\":{\"units\":\"screen\",\"value\":20},\"x\":{\"field\":\"x\"},\"y\":{\"field\":\"y\"}},\"id\":\"2472\",\"type\":\"Asterisk\"},{\"attributes\":{\"dimension\":1,\"ticker\":{\"id\":\"2454\",\"type\":\"BasicTicker\"}},\"id\":\"2457\",\"type\":\"Grid\"},{\"attributes\":{},\"id\":\"2458\",\"type\":\"PanTool\"},{\"attributes\":{\"bottom_units\":\"screen\",\"fill_alpha\":{\"value\":0.5},\"fill_color\":{\"value\":\"lightgrey\"},\"left_units\":\"screen\",\"level\":\"overlay\",\"line_alpha\":{\"value\":1.0},\"line_color\":{\"value\":\"black\"},\"line_dash\":[4,4],\"line_width\":{\"value\":2},\"render_mode\":\"css\",\"right_units\":\"screen\",\"top_units\":\"screen\"},\"id\":\"2572\",\"type\":\"BoxAnnotation\"},{\"attributes\":{},\"id\":\"2449\",\"type\":\"BasicTicker\"},{\"attributes\":{\"callback\":null},\"id\":\"2442\",\"type\":\"DataRange1d\"},{\"attributes\":{\"callback\":null},\"id\":\"2440\",\"type\":\"DataRange1d\"},{\"attributes\":{},\"id\":\"2444\",\"type\":\"LinearScale\"}],\"root_ids\":[\"2439\"]},\"title\":\"Bokeh Application\",\"version\":\"1.4.0\"}};\n",
       "  var render_items = [{\"docid\":\"1edf33ef-8acd-4f84-b233-d85d4d2496b2\",\"roots\":{\"2439\":\"1b974659-8274-4407-86ca-74cb81d7e529\"}}];\n",
       "  root.Bokeh.embed.embed_items_notebook(docs_json, render_items);\n",
       "\n",
       "  }\n",
       "  if (root.Bokeh !== undefined) {\n",
       "    embed_document(root);\n",
       "  } else {\n",
       "    var attempts = 0;\n",
       "    var timer = setInterval(function(root) {\n",
       "      if (root.Bokeh !== undefined) {\n",
       "        clearInterval(timer);\n",
       "        embed_document(root);\n",
       "      } else {\n",
       "        attempts++;\n",
       "        if (attempts > 100) {\n",
       "          clearInterval(timer);\n",
       "          console.log(\"Bokeh: ERROR: Unable to run BokehJS code because BokehJS library is missing\");\n",
       "        }\n",
       "      }\n",
       "    }, 10, root)\n",
       "  }\n",
       "})(window);"
      ],
      "application/vnd.bokehjs_exec.v0+json": ""
     },
     "metadata": {
      "application/vnd.bokehjs_exec.v0+json": {
       "id": "2439"
      }
     },
     "output_type": "display_data"
    }
   ],
   "source": [
    "p = figure(plot_width=500,plot_height=200)\n",
    "p.asterisk(x =[2,5,3,8,12,23,10,5],y=[12,3,9,1,10,34,8,11],size=20,alpha=0.8)\n",
    "show(p)"
   ]
  },
  {
   "cell_type": "raw",
   "metadata": {},
   "source": [
    "There are lots of marker types available in Bokeh,list below:\n",
    "\n",
    "dash()\n",
    "square_cross()\n",
    "square_x()\n",
    "circle_x()\n",
    "inverted_triangle()\n",
    "diamond_cross()\n",
    "circle_cross()\n",
    "cross()"
   ]
  },
  {
   "cell_type": "markdown",
   "metadata": {},
   "source": [
    "### Line Glyphs"
   ]
  },
  {
   "cell_type": "code",
   "execution_count": 19,
   "metadata": {},
   "outputs": [
    {
     "data": {
      "text/html": [
       "\n",
       "\n",
       "\n",
       "\n",
       "\n",
       "\n",
       "  <div class=\"bk-root\" id=\"03c914b7-2811-4561-94cd-691319669f1e\" data-root-id=\"3036\"></div>\n"
      ]
     },
     "metadata": {},
     "output_type": "display_data"
    },
    {
     "data": {
      "application/javascript": [
       "(function(root) {\n",
       "  function embed_document(root) {\n",
       "    \n",
       "  var docs_json = {\"a373abc1-7f22-474e-9ad0-81909e8d3f20\":{\"roots\":{\"references\":[{\"attributes\":{\"below\":[{\"id\":\"3045\",\"type\":\"LinearAxis\"}],\"center\":[{\"id\":\"3049\",\"type\":\"Grid\"},{\"id\":\"3054\",\"type\":\"Grid\"}],\"left\":[{\"id\":\"3050\",\"type\":\"LinearAxis\"}],\"plot_height\":200,\"plot_width\":400,\"renderers\":[{\"id\":\"3071\",\"type\":\"GlyphRenderer\"}],\"title\":{\"id\":\"3190\",\"type\":\"Title\"},\"toolbar\":{\"id\":\"3061\",\"type\":\"Toolbar\"},\"x_range\":{\"id\":\"3037\",\"type\":\"DataRange1d\"},\"x_scale\":{\"id\":\"3041\",\"type\":\"LinearScale\"},\"y_range\":{\"id\":\"3039\",\"type\":\"DataRange1d\"},\"y_scale\":{\"id\":\"3043\",\"type\":\"LinearScale\"}},\"id\":\"3036\",\"subtype\":\"Figure\",\"type\":\"Plot\"},{\"attributes\":{\"callback\":null},\"id\":\"3037\",\"type\":\"DataRange1d\"},{\"attributes\":{},\"id\":\"3043\",\"type\":\"LinearScale\"},{\"attributes\":{},\"id\":\"3198\",\"type\":\"Selection\"},{\"attributes\":{\"dimension\":1,\"ticker\":{\"id\":\"3051\",\"type\":\"BasicTicker\"}},\"id\":\"3054\",\"type\":\"Grid\"},{\"attributes\":{},\"id\":\"3051\",\"type\":\"BasicTicker\"},{\"attributes\":{},\"id\":\"3046\",\"type\":\"BasicTicker\"},{\"attributes\":{\"ticker\":{\"id\":\"3046\",\"type\":\"BasicTicker\"}},\"id\":\"3049\",\"type\":\"Grid\"},{\"attributes\":{},\"id\":\"3193\",\"type\":\"BasicTickFormatter\"},{\"attributes\":{\"formatter\":{\"id\":\"3193\",\"type\":\"BasicTickFormatter\"},\"ticker\":{\"id\":\"3051\",\"type\":\"BasicTicker\"}},\"id\":\"3050\",\"type\":\"LinearAxis\"},{\"attributes\":{\"line_color\":\"#1f77b4\",\"line_width\":3,\"x\":{\"field\":\"x\"},\"y\":{\"field\":\"y\"}},\"id\":\"3069\",\"type\":\"Line\"},{\"attributes\":{},\"id\":\"3059\",\"type\":\"ResetTool\"},{\"attributes\":{\"callback\":null,\"data\":{\"x\":[2,5,3,8,12,23,10,5],\"y\":[12,3,9,1,10,34,8,11]},\"selected\":{\"id\":\"3198\",\"type\":\"Selection\"},\"selection_policy\":{\"id\":\"3197\",\"type\":\"UnionRenderers\"}},\"id\":\"3068\",\"type\":\"ColumnDataSource\"},{\"attributes\":{},\"id\":\"3197\",\"type\":\"UnionRenderers\"},{\"attributes\":{\"overlay\":{\"id\":\"3196\",\"type\":\"BoxAnnotation\"}},\"id\":\"3057\",\"type\":\"BoxZoomTool\"},{\"attributes\":{\"active_drag\":\"auto\",\"active_inspect\":\"auto\",\"active_multi\":null,\"active_scroll\":\"auto\",\"active_tap\":\"auto\",\"tools\":[{\"id\":\"3055\",\"type\":\"PanTool\"},{\"id\":\"3056\",\"type\":\"WheelZoomTool\"},{\"id\":\"3057\",\"type\":\"BoxZoomTool\"},{\"id\":\"3058\",\"type\":\"SaveTool\"},{\"id\":\"3059\",\"type\":\"ResetTool\"},{\"id\":\"3060\",\"type\":\"HelpTool\"}]},\"id\":\"3061\",\"type\":\"Toolbar\"},{\"attributes\":{},\"id\":\"3055\",\"type\":\"PanTool\"},{\"attributes\":{},\"id\":\"3056\",\"type\":\"WheelZoomTool\"},{\"attributes\":{\"text\":\"\"},\"id\":\"3190\",\"type\":\"Title\"},{\"attributes\":{},\"id\":\"3058\",\"type\":\"SaveTool\"},{\"attributes\":{},\"id\":\"3060\",\"type\":\"HelpTool\"},{\"attributes\":{\"data_source\":{\"id\":\"3068\",\"type\":\"ColumnDataSource\"},\"glyph\":{\"id\":\"3069\",\"type\":\"Line\"},\"hover_glyph\":null,\"muted_glyph\":null,\"nonselection_glyph\":{\"id\":\"3070\",\"type\":\"Line\"},\"selection_glyph\":null,\"view\":{\"id\":\"3072\",\"type\":\"CDSView\"}},\"id\":\"3071\",\"type\":\"GlyphRenderer\"},{\"attributes\":{},\"id\":\"3195\",\"type\":\"BasicTickFormatter\"},{\"attributes\":{\"line_alpha\":0.1,\"line_color\":\"#1f77b4\",\"line_width\":3,\"x\":{\"field\":\"x\"},\"y\":{\"field\":\"y\"}},\"id\":\"3070\",\"type\":\"Line\"},{\"attributes\":{\"source\":{\"id\":\"3068\",\"type\":\"ColumnDataSource\"}},\"id\":\"3072\",\"type\":\"CDSView\"},{\"attributes\":{\"formatter\":{\"id\":\"3195\",\"type\":\"BasicTickFormatter\"},\"ticker\":{\"id\":\"3046\",\"type\":\"BasicTicker\"}},\"id\":\"3045\",\"type\":\"LinearAxis\"},{\"attributes\":{\"bottom_units\":\"screen\",\"fill_alpha\":{\"value\":0.5},\"fill_color\":{\"value\":\"lightgrey\"},\"left_units\":\"screen\",\"level\":\"overlay\",\"line_alpha\":{\"value\":1.0},\"line_color\":{\"value\":\"black\"},\"line_dash\":[4,4],\"line_width\":{\"value\":2},\"render_mode\":\"css\",\"right_units\":\"screen\",\"top_units\":\"screen\"},\"id\":\"3196\",\"type\":\"BoxAnnotation\"},{\"attributes\":{\"callback\":null},\"id\":\"3039\",\"type\":\"DataRange1d\"},{\"attributes\":{},\"id\":\"3041\",\"type\":\"LinearScale\"}],\"root_ids\":[\"3036\"]},\"title\":\"Bokeh Application\",\"version\":\"1.4.0\"}};\n",
       "  var render_items = [{\"docid\":\"a373abc1-7f22-474e-9ad0-81909e8d3f20\",\"roots\":{\"3036\":\"03c914b7-2811-4561-94cd-691319669f1e\"}}];\n",
       "  root.Bokeh.embed.embed_items_notebook(docs_json, render_items);\n",
       "\n",
       "  }\n",
       "  if (root.Bokeh !== undefined) {\n",
       "    embed_document(root);\n",
       "  } else {\n",
       "    var attempts = 0;\n",
       "    var timer = setInterval(function(root) {\n",
       "      if (root.Bokeh !== undefined) {\n",
       "        clearInterval(timer);\n",
       "        embed_document(root);\n",
       "      } else {\n",
       "        attempts++;\n",
       "        if (attempts > 100) {\n",
       "          clearInterval(timer);\n",
       "          console.log(\"Bokeh: ERROR: Unable to run BokehJS code because BokehJS library is missing\");\n",
       "        }\n",
       "      }\n",
       "    }, 10, root)\n",
       "  }\n",
       "})(window);"
      ],
      "application/vnd.bokehjs_exec.v0+json": ""
     },
     "metadata": {
      "application/vnd.bokehjs_exec.v0+json": {
       "id": "3036"
      }
     },
     "output_type": "display_data"
    }
   ],
   "source": [
    "p = figure(plot_height=200,plot_width=400)\n",
    "p.line(x =[2,5,3,8,12,23,10,5],y=[12,3,9,1,10,34,8,11],line_width=3)\n",
    "show(p)"
   ]
  },
  {
   "cell_type": "code",
   "execution_count": 21,
   "metadata": {},
   "outputs": [
    {
     "data": {
      "text/html": [
       "\n",
       "\n",
       "\n",
       "\n",
       "\n",
       "\n",
       "  <div class=\"bk-root\" id=\"94b22d1e-744d-4f47-a453-c07a0040b241\" data-root-id=\"3479\"></div>\n"
      ]
     },
     "metadata": {},
     "output_type": "display_data"
    },
    {
     "data": {
      "application/javascript": [
       "(function(root) {\n",
       "  function embed_document(root) {\n",
       "    \n",
       "  var docs_json = {\"bc4acfb3-7dab-4f14-9048-cf6f8b5962f1\":{\"roots\":{\"references\":[{\"attributes\":{\"below\":[{\"id\":\"3488\",\"type\":\"LinearAxis\"}],\"center\":[{\"id\":\"3492\",\"type\":\"Grid\"},{\"id\":\"3497\",\"type\":\"Grid\"}],\"left\":[{\"id\":\"3493\",\"type\":\"LinearAxis\"}],\"plot_height\":200,\"plot_width\":400,\"renderers\":[{\"id\":\"3514\",\"type\":\"GlyphRenderer\"}],\"title\":{\"id\":\"3651\",\"type\":\"Title\"},\"toolbar\":{\"id\":\"3504\",\"type\":\"Toolbar\"},\"x_range\":{\"id\":\"3480\",\"type\":\"DataRange1d\"},\"x_scale\":{\"id\":\"3484\",\"type\":\"LinearScale\"},\"y_range\":{\"id\":\"3482\",\"type\":\"DataRange1d\"},\"y_scale\":{\"id\":\"3486\",\"type\":\"LinearScale\"}},\"id\":\"3479\",\"subtype\":\"Figure\",\"type\":\"Plot\"},{\"attributes\":{\"active_drag\":\"auto\",\"active_inspect\":\"auto\",\"active_multi\":null,\"active_scroll\":\"auto\",\"active_tap\":\"auto\",\"tools\":[{\"id\":\"3498\",\"type\":\"PanTool\"},{\"id\":\"3499\",\"type\":\"WheelZoomTool\"},{\"id\":\"3500\",\"type\":\"BoxZoomTool\"},{\"id\":\"3501\",\"type\":\"SaveTool\"},{\"id\":\"3502\",\"type\":\"ResetTool\"},{\"id\":\"3503\",\"type\":\"HelpTool\"}]},\"id\":\"3504\",\"type\":\"Toolbar\"},{\"attributes\":{},\"id\":\"3498\",\"type\":\"PanTool\"},{\"attributes\":{},\"id\":\"3499\",\"type\":\"WheelZoomTool\"},{\"attributes\":{\"source\":{\"id\":\"3511\",\"type\":\"ColumnDataSource\"}},\"id\":\"3515\",\"type\":\"CDSView\"},{\"attributes\":{},\"id\":\"3501\",\"type\":\"SaveTool\"},{\"attributes\":{},\"id\":\"3502\",\"type\":\"ResetTool\"},{\"attributes\":{},\"id\":\"3484\",\"type\":\"LinearScale\"},{\"attributes\":{\"callback\":null},\"id\":\"3482\",\"type\":\"DataRange1d\"},{\"attributes\":{\"overlay\":{\"id\":\"3657\",\"type\":\"BoxAnnotation\"}},\"id\":\"3500\",\"type\":\"BoxZoomTool\"},{\"attributes\":{\"line_alpha\":{\"value\":0.1},\"line_color\":{\"value\":\"#1f77b4\"},\"line_width\":{\"value\":2},\"mode\":\"center\",\"x\":{\"field\":\"x\"},\"y\":{\"field\":\"y\"}},\"id\":\"3513\",\"type\":\"Step\"},{\"attributes\":{\"bottom_units\":\"screen\",\"fill_alpha\":{\"value\":0.5},\"fill_color\":{\"value\":\"lightgrey\"},\"left_units\":\"screen\",\"level\":\"overlay\",\"line_alpha\":{\"value\":1.0},\"line_color\":{\"value\":\"black\"},\"line_dash\":[4,4],\"line_width\":{\"value\":2},\"render_mode\":\"css\",\"right_units\":\"screen\",\"top_units\":\"screen\"},\"id\":\"3657\",\"type\":\"BoxAnnotation\"},{\"attributes\":{},\"id\":\"3656\",\"type\":\"BasicTickFormatter\"},{\"attributes\":{\"callback\":null},\"id\":\"3480\",\"type\":\"DataRange1d\"},{\"attributes\":{},\"id\":\"3659\",\"type\":\"Selection\"},{\"attributes\":{},\"id\":\"3654\",\"type\":\"BasicTickFormatter\"},{\"attributes\":{},\"id\":\"3658\",\"type\":\"UnionRenderers\"},{\"attributes\":{\"formatter\":{\"id\":\"3654\",\"type\":\"BasicTickFormatter\"},\"ticker\":{\"id\":\"3494\",\"type\":\"BasicTicker\"}},\"id\":\"3493\",\"type\":\"LinearAxis\"},{\"attributes\":{\"ticker\":{\"id\":\"3489\",\"type\":\"BasicTicker\"}},\"id\":\"3492\",\"type\":\"Grid\"},{\"attributes\":{\"text\":\"\"},\"id\":\"3651\",\"type\":\"Title\"},{\"attributes\":{},\"id\":\"3489\",\"type\":\"BasicTicker\"},{\"attributes\":{},\"id\":\"3494\",\"type\":\"BasicTicker\"},{\"attributes\":{\"formatter\":{\"id\":\"3656\",\"type\":\"BasicTickFormatter\"},\"ticker\":{\"id\":\"3489\",\"type\":\"BasicTicker\"}},\"id\":\"3488\",\"type\":\"LinearAxis\"},{\"attributes\":{},\"id\":\"3486\",\"type\":\"LinearScale\"},{\"attributes\":{\"dimension\":1,\"ticker\":{\"id\":\"3494\",\"type\":\"BasicTicker\"}},\"id\":\"3497\",\"type\":\"Grid\"},{\"attributes\":{\"callback\":null,\"data\":{\"x\":[2,5,3,8,12,23,10,5],\"y\":[12,3,9,1,10,34,8,11]},\"selected\":{\"id\":\"3659\",\"type\":\"Selection\"},\"selection_policy\":{\"id\":\"3658\",\"type\":\"UnionRenderers\"}},\"id\":\"3511\",\"type\":\"ColumnDataSource\"},{\"attributes\":{\"data_source\":{\"id\":\"3511\",\"type\":\"ColumnDataSource\"},\"glyph\":{\"id\":\"3512\",\"type\":\"Step\"},\"hover_glyph\":null,\"muted_glyph\":null,\"nonselection_glyph\":{\"id\":\"3513\",\"type\":\"Step\"},\"selection_glyph\":null,\"view\":{\"id\":\"3515\",\"type\":\"CDSView\"}},\"id\":\"3514\",\"type\":\"GlyphRenderer\"},{\"attributes\":{\"line_color\":{\"value\":\"#1f77b4\"},\"line_width\":{\"value\":2},\"mode\":\"center\",\"x\":{\"field\":\"x\"},\"y\":{\"field\":\"y\"}},\"id\":\"3512\",\"type\":\"Step\"},{\"attributes\":{},\"id\":\"3503\",\"type\":\"HelpTool\"}],\"root_ids\":[\"3479\"]},\"title\":\"Bokeh Application\",\"version\":\"1.4.0\"}};\n",
       "  var render_items = [{\"docid\":\"bc4acfb3-7dab-4f14-9048-cf6f8b5962f1\",\"roots\":{\"3479\":\"94b22d1e-744d-4f47-a453-c07a0040b241\"}}];\n",
       "  root.Bokeh.embed.embed_items_notebook(docs_json, render_items);\n",
       "\n",
       "  }\n",
       "  if (root.Bokeh !== undefined) {\n",
       "    embed_document(root);\n",
       "  } else {\n",
       "    var attempts = 0;\n",
       "    var timer = setInterval(function(root) {\n",
       "      if (root.Bokeh !== undefined) {\n",
       "        clearInterval(timer);\n",
       "        embed_document(root);\n",
       "      } else {\n",
       "        attempts++;\n",
       "        if (attempts > 100) {\n",
       "          clearInterval(timer);\n",
       "          console.log(\"Bokeh: ERROR: Unable to run BokehJS code because BokehJS library is missing\");\n",
       "        }\n",
       "      }\n",
       "    }, 10, root)\n",
       "  }\n",
       "})(window);"
      ],
      "application/vnd.bokehjs_exec.v0+json": ""
     },
     "metadata": {
      "application/vnd.bokehjs_exec.v0+json": {
       "id": "3479"
      }
     },
     "output_type": "display_data"
    }
   ],
   "source": [
    "p = figure(plot_height=200,plot_width=400)\n",
    "p.step(x =[2,5,3,8,12,23,10,5],y=[12,3,9,1,10,34,8,11],line_width=2,mode='center')\n",
    "show(p)"
   ]
  },
  {
   "cell_type": "code",
   "execution_count": 24,
   "metadata": {},
   "outputs": [
    {
     "data": {
      "text/html": [
       "\n",
       "\n",
       "\n",
       "\n",
       "\n",
       "\n",
       "  <div class=\"bk-root\" id=\"71f2f2ee-a579-460e-90a8-427b2e950729\" data-root-id=\"3990\"></div>\n"
      ]
     },
     "metadata": {},
     "output_type": "display_data"
    },
    {
     "data": {
      "application/javascript": [
       "(function(root) {\n",
       "  function embed_document(root) {\n",
       "    \n",
       "  var docs_json = {\"3425338e-e76c-498d-bd15-84b118ca4264\":{\"roots\":{\"references\":[{\"attributes\":{\"below\":[{\"id\":\"3999\",\"type\":\"LinearAxis\"}],\"center\":[{\"id\":\"4003\",\"type\":\"Grid\"},{\"id\":\"4008\",\"type\":\"Grid\"}],\"left\":[{\"id\":\"4004\",\"type\":\"LinearAxis\"}],\"plot_height\":300,\"plot_width\":400,\"renderers\":[{\"id\":\"4025\",\"type\":\"GlyphRenderer\"}],\"title\":{\"id\":\"4180\",\"type\":\"Title\"},\"toolbar\":{\"id\":\"4015\",\"type\":\"Toolbar\"},\"x_range\":{\"id\":\"3991\",\"type\":\"DataRange1d\"},\"x_scale\":{\"id\":\"3995\",\"type\":\"LinearScale\"},\"y_range\":{\"id\":\"3993\",\"type\":\"DataRange1d\"},\"y_scale\":{\"id\":\"3997\",\"type\":\"LinearScale\"}},\"id\":\"3990\",\"subtype\":\"Figure\",\"type\":\"Plot\"},{\"attributes\":{},\"id\":\"4009\",\"type\":\"PanTool\"},{\"attributes\":{},\"id\":\"4185\",\"type\":\"BasicTickFormatter\"},{\"attributes\":{},\"id\":\"4013\",\"type\":\"ResetTool\"},{\"attributes\":{\"line_alpha\":{\"field\":\"line_alpha\"},\"line_color\":{\"field\":\"line_color\"},\"line_width\":{\"value\":4},\"xs\":{\"field\":\"xs\"},\"ys\":{\"field\":\"ys\"}},\"id\":\"4023\",\"type\":\"MultiLine\"},{\"attributes\":{\"bottom_units\":\"screen\",\"fill_alpha\":{\"value\":0.5},\"fill_color\":{\"value\":\"lightgrey\"},\"left_units\":\"screen\",\"level\":\"overlay\",\"line_alpha\":{\"value\":1.0},\"line_color\":{\"value\":\"black\"},\"line_dash\":[4,4],\"line_width\":{\"value\":2},\"render_mode\":\"css\",\"right_units\":\"screen\",\"top_units\":\"screen\"},\"id\":\"4186\",\"type\":\"BoxAnnotation\"},{\"attributes\":{\"overlay\":{\"id\":\"4186\",\"type\":\"BoxAnnotation\"}},\"id\":\"4011\",\"type\":\"BoxZoomTool\"},{\"attributes\":{},\"id\":\"4005\",\"type\":\"BasicTicker\"},{\"attributes\":{\"callback\":null},\"id\":\"3993\",\"type\":\"DataRange1d\"},{\"attributes\":{},\"id\":\"4183\",\"type\":\"BasicTickFormatter\"},{\"attributes\":{},\"id\":\"3997\",\"type\":\"LinearScale\"},{\"attributes\":{\"formatter\":{\"id\":\"4183\",\"type\":\"BasicTickFormatter\"},\"ticker\":{\"id\":\"4005\",\"type\":\"BasicTicker\"}},\"id\":\"4004\",\"type\":\"LinearAxis\"},{\"attributes\":{},\"id\":\"4187\",\"type\":\"UnionRenderers\"},{\"attributes\":{},\"id\":\"4010\",\"type\":\"WheelZoomTool\"},{\"attributes\":{\"callback\":null,\"data\":{\"line_alpha\":[0.8,0.3],\"line_color\":[\"firebrick\",\"navy\"],\"xs\":[[1,3,2],[3,4,6,6]],\"ys\":[[2,1,4],[4,7,8,5]]},\"selected\":{\"id\":\"4188\",\"type\":\"Selection\"},\"selection_policy\":{\"id\":\"4187\",\"type\":\"UnionRenderers\"}},\"id\":\"4022\",\"type\":\"ColumnDataSource\"},{\"attributes\":{\"text\":\"\"},\"id\":\"4180\",\"type\":\"Title\"},{\"attributes\":{\"line_alpha\":{\"value\":0.1},\"line_color\":{\"value\":\"#1f77b4\"},\"line_width\":{\"value\":4},\"xs\":{\"field\":\"xs\"},\"ys\":{\"field\":\"ys\"}},\"id\":\"4024\",\"type\":\"MultiLine\"},{\"attributes\":{},\"id\":\"4014\",\"type\":\"HelpTool\"},{\"attributes\":{},\"id\":\"3995\",\"type\":\"LinearScale\"},{\"attributes\":{},\"id\":\"4012\",\"type\":\"SaveTool\"},{\"attributes\":{\"source\":{\"id\":\"4022\",\"type\":\"ColumnDataSource\"}},\"id\":\"4026\",\"type\":\"CDSView\"},{\"attributes\":{\"dimension\":1,\"ticker\":{\"id\":\"4005\",\"type\":\"BasicTicker\"}},\"id\":\"4008\",\"type\":\"Grid\"},{\"attributes\":{\"callback\":null},\"id\":\"3991\",\"type\":\"DataRange1d\"},{\"attributes\":{\"data_source\":{\"id\":\"4022\",\"type\":\"ColumnDataSource\"},\"glyph\":{\"id\":\"4023\",\"type\":\"MultiLine\"},\"hover_glyph\":null,\"muted_glyph\":null,\"nonselection_glyph\":{\"id\":\"4024\",\"type\":\"MultiLine\"},\"selection_glyph\":null,\"view\":{\"id\":\"4026\",\"type\":\"CDSView\"}},\"id\":\"4025\",\"type\":\"GlyphRenderer\"},{\"attributes\":{\"formatter\":{\"id\":\"4185\",\"type\":\"BasicTickFormatter\"},\"ticker\":{\"id\":\"4000\",\"type\":\"BasicTicker\"}},\"id\":\"3999\",\"type\":\"LinearAxis\"},{\"attributes\":{\"ticker\":{\"id\":\"4000\",\"type\":\"BasicTicker\"}},\"id\":\"4003\",\"type\":\"Grid\"},{\"attributes\":{},\"id\":\"4188\",\"type\":\"Selection\"},{\"attributes\":{},\"id\":\"4000\",\"type\":\"BasicTicker\"},{\"attributes\":{\"active_drag\":\"auto\",\"active_inspect\":\"auto\",\"active_multi\":null,\"active_scroll\":\"auto\",\"active_tap\":\"auto\",\"tools\":[{\"id\":\"4009\",\"type\":\"PanTool\"},{\"id\":\"4010\",\"type\":\"WheelZoomTool\"},{\"id\":\"4011\",\"type\":\"BoxZoomTool\"},{\"id\":\"4012\",\"type\":\"SaveTool\"},{\"id\":\"4013\",\"type\":\"ResetTool\"},{\"id\":\"4014\",\"type\":\"HelpTool\"}]},\"id\":\"4015\",\"type\":\"Toolbar\"}],\"root_ids\":[\"3990\"]},\"title\":\"Bokeh Application\",\"version\":\"1.4.0\"}};\n",
       "  var render_items = [{\"docid\":\"3425338e-e76c-498d-bd15-84b118ca4264\",\"roots\":{\"3990\":\"71f2f2ee-a579-460e-90a8-427b2e950729\"}}];\n",
       "  root.Bokeh.embed.embed_items_notebook(docs_json, render_items);\n",
       "\n",
       "  }\n",
       "  if (root.Bokeh !== undefined) {\n",
       "    embed_document(root);\n",
       "  } else {\n",
       "    var attempts = 0;\n",
       "    var timer = setInterval(function(root) {\n",
       "      if (root.Bokeh !== undefined) {\n",
       "        clearInterval(timer);\n",
       "        embed_document(root);\n",
       "      } else {\n",
       "        attempts++;\n",
       "        if (attempts > 100) {\n",
       "          clearInterval(timer);\n",
       "          console.log(\"Bokeh: ERROR: Unable to run BokehJS code because BokehJS library is missing\");\n",
       "        }\n",
       "      }\n",
       "    }, 10, root)\n",
       "  }\n",
       "})(window);"
      ],
      "application/vnd.bokehjs_exec.v0+json": ""
     },
     "metadata": {
      "application/vnd.bokehjs_exec.v0+json": {
       "id": "3990"
      }
     },
     "output_type": "display_data"
    }
   ],
   "source": [
    "p = figure(plot_width=400, plot_height=300)\n",
    "p.multi_line([[1, 3, 2], [3, 4, 6, 6]], [[2, 1, 4], [4, 7, 8, 5]], color=[\"firebrick\", \"navy\"],\n",
    "               alpha=[0.8, 0.3], line_width=4)\n",
    "show(p)"
   ]
  },
  {
   "cell_type": "markdown",
   "metadata": {},
   "source": [
    "### Bars and Rectangles"
   ]
  },
  {
   "cell_type": "code",
   "execution_count": 34,
   "metadata": {},
   "outputs": [
    {
     "data": {
      "text/html": [
       "\n",
       "\n",
       "\n",
       "\n",
       "\n",
       "\n",
       "  <div class=\"bk-root\" id=\"6b08ec2f-1638-4d97-8602-531e06371f89\" data-root-id=\"6046\"></div>\n"
      ]
     },
     "metadata": {},
     "output_type": "display_data"
    },
    {
     "data": {
      "application/javascript": [
       "(function(root) {\n",
       "  function embed_document(root) {\n",
       "    \n",
       "  var docs_json = {\"ee16d053-379a-48d8-8b74-aa00d4ac31f3\":{\"roots\":{\"references\":[{\"attributes\":{\"below\":[{\"id\":\"6055\",\"type\":\"LinearAxis\"}],\"center\":[{\"id\":\"6059\",\"type\":\"Grid\"},{\"id\":\"6064\",\"type\":\"Grid\"}],\"left\":[{\"id\":\"6060\",\"type\":\"LinearAxis\"}],\"plot_height\":400,\"plot_width\":500,\"renderers\":[{\"id\":\"6081\",\"type\":\"GlyphRenderer\"}],\"title\":{\"id\":\"6299\",\"type\":\"Title\"},\"toolbar\":{\"id\":\"6071\",\"type\":\"Toolbar\"},\"x_range\":{\"id\":\"6047\",\"type\":\"DataRange1d\"},\"x_scale\":{\"id\":\"6051\",\"type\":\"LinearScale\"},\"y_range\":{\"id\":\"6049\",\"type\":\"DataRange1d\"},\"y_scale\":{\"id\":\"6053\",\"type\":\"LinearScale\"}},\"id\":\"6046\",\"subtype\":\"Figure\",\"type\":\"Plot\"},{\"attributes\":{\"active_drag\":\"auto\",\"active_inspect\":\"auto\",\"active_multi\":null,\"active_scroll\":\"auto\",\"active_tap\":\"auto\",\"tools\":[{\"id\":\"6065\",\"type\":\"PanTool\"},{\"id\":\"6066\",\"type\":\"WheelZoomTool\"},{\"id\":\"6067\",\"type\":\"BoxZoomTool\"},{\"id\":\"6068\",\"type\":\"SaveTool\"},{\"id\":\"6069\",\"type\":\"ResetTool\"},{\"id\":\"6070\",\"type\":\"HelpTool\"}]},\"id\":\"6071\",\"type\":\"Toolbar\"},{\"attributes\":{\"ticker\":{\"id\":\"6056\",\"type\":\"BasicTicker\"}},\"id\":\"6059\",\"type\":\"Grid\"},{\"attributes\":{\"callback\":null},\"id\":\"6047\",\"type\":\"DataRange1d\"},{\"attributes\":{\"callback\":null,\"data\":{\"top\":[1.2,2.5,3.7],\"x\":[1,2,3]},\"selected\":{\"id\":\"6307\",\"type\":\"Selection\"},\"selection_policy\":{\"id\":\"6306\",\"type\":\"UnionRenderers\"}},\"id\":\"6078\",\"type\":\"ColumnDataSource\"},{\"attributes\":{},\"id\":\"6061\",\"type\":\"BasicTicker\"},{\"attributes\":{\"overlay\":{\"id\":\"6305\",\"type\":\"BoxAnnotation\"}},\"id\":\"6067\",\"type\":\"BoxZoomTool\"},{\"attributes\":{\"formatter\":{\"id\":\"6302\",\"type\":\"BasicTickFormatter\"},\"ticker\":{\"id\":\"6061\",\"type\":\"BasicTicker\"}},\"id\":\"6060\",\"type\":\"LinearAxis\"},{\"attributes\":{\"text\":\"\"},\"id\":\"6299\",\"type\":\"Title\"},{\"attributes\":{},\"id\":\"6302\",\"type\":\"BasicTickFormatter\"},{\"attributes\":{\"bottom_units\":\"screen\",\"fill_alpha\":{\"value\":0.5},\"fill_color\":{\"value\":\"lightgrey\"},\"left_units\":\"screen\",\"level\":\"overlay\",\"line_alpha\":{\"value\":1.0},\"line_color\":{\"value\":\"black\"},\"line_dash\":[4,4],\"line_width\":{\"value\":2},\"render_mode\":\"css\",\"right_units\":\"screen\",\"top_units\":\"screen\"},\"id\":\"6305\",\"type\":\"BoxAnnotation\"},{\"attributes\":{},\"id\":\"6065\",\"type\":\"PanTool\"},{\"attributes\":{},\"id\":\"6304\",\"type\":\"BasicTickFormatter\"},{\"attributes\":{},\"id\":\"6066\",\"type\":\"WheelZoomTool\"},{\"attributes\":{},\"id\":\"6069\",\"type\":\"ResetTool\"},{\"attributes\":{\"source\":{\"id\":\"6078\",\"type\":\"ColumnDataSource\"}},\"id\":\"6082\",\"type\":\"CDSView\"},{\"attributes\":{\"fill_alpha\":{\"value\":0.1},\"fill_color\":{\"value\":\"#1f77b4\"},\"line_alpha\":{\"value\":0.1},\"line_color\":{\"value\":\"#1f77b4\"},\"top\":{\"field\":\"top\"},\"width\":{\"value\":0.5},\"x\":{\"field\":\"x\"}},\"id\":\"6080\",\"type\":\"VBar\"},{\"attributes\":{},\"id\":\"6051\",\"type\":\"LinearScale\"},{\"attributes\":{},\"id\":\"6070\",\"type\":\"HelpTool\"},{\"attributes\":{\"callback\":null},\"id\":\"6049\",\"type\":\"DataRange1d\"},{\"attributes\":{},\"id\":\"6307\",\"type\":\"Selection\"},{\"attributes\":{\"fill_color\":{\"value\":\"firebrick\"},\"line_color\":{\"value\":\"firebrick\"},\"top\":{\"field\":\"top\"},\"width\":{\"value\":0.5},\"x\":{\"field\":\"x\"}},\"id\":\"6079\",\"type\":\"VBar\"},{\"attributes\":{\"data_source\":{\"id\":\"6078\",\"type\":\"ColumnDataSource\"},\"glyph\":{\"id\":\"6079\",\"type\":\"VBar\"},\"hover_glyph\":null,\"muted_glyph\":null,\"nonselection_glyph\":{\"id\":\"6080\",\"type\":\"VBar\"},\"selection_glyph\":null,\"view\":{\"id\":\"6082\",\"type\":\"CDSView\"}},\"id\":\"6081\",\"type\":\"GlyphRenderer\"},{\"attributes\":{},\"id\":\"6056\",\"type\":\"BasicTicker\"},{\"attributes\":{},\"id\":\"6306\",\"type\":\"UnionRenderers\"},{\"attributes\":{\"dimension\":1,\"ticker\":{\"id\":\"6061\",\"type\":\"BasicTicker\"}},\"id\":\"6064\",\"type\":\"Grid\"},{\"attributes\":{\"formatter\":{\"id\":\"6304\",\"type\":\"BasicTickFormatter\"},\"ticker\":{\"id\":\"6056\",\"type\":\"BasicTicker\"}},\"id\":\"6055\",\"type\":\"LinearAxis\"},{\"attributes\":{},\"id\":\"6068\",\"type\":\"SaveTool\"},{\"attributes\":{},\"id\":\"6053\",\"type\":\"LinearScale\"}],\"root_ids\":[\"6046\"]},\"title\":\"Bokeh Application\",\"version\":\"1.4.0\"}};\n",
       "  var render_items = [{\"docid\":\"ee16d053-379a-48d8-8b74-aa00d4ac31f3\",\"roots\":{\"6046\":\"6b08ec2f-1638-4d97-8602-531e06371f89\"}}];\n",
       "  root.Bokeh.embed.embed_items_notebook(docs_json, render_items);\n",
       "\n",
       "  }\n",
       "  if (root.Bokeh !== undefined) {\n",
       "    embed_document(root);\n",
       "  } else {\n",
       "    var attempts = 0;\n",
       "    var timer = setInterval(function(root) {\n",
       "      if (root.Bokeh !== undefined) {\n",
       "        clearInterval(timer);\n",
       "        embed_document(root);\n",
       "      } else {\n",
       "        attempts++;\n",
       "        if (attempts > 100) {\n",
       "          clearInterval(timer);\n",
       "          console.log(\"Bokeh: ERROR: Unable to run BokehJS code because BokehJS library is missing\");\n",
       "        }\n",
       "      }\n",
       "    }, 10, root)\n",
       "  }\n",
       "})(window);"
      ],
      "application/vnd.bokehjs_exec.v0+json": ""
     },
     "metadata": {
      "application/vnd.bokehjs_exec.v0+json": {
       "id": "6046"
      }
     },
     "output_type": "display_data"
    }
   ],
   "source": [
    "p = figure(plot_width=500,plot_height=400)\n",
    "p.vbar(x=[1, 2, 3], width=0.5,top=[1.2, 2.5, 3.7],bottom=0, color=\"firebrick\")\n",
    "show(p)"
   ]
  },
  {
   "cell_type": "code",
   "execution_count": 33,
   "metadata": {},
   "outputs": [
    {
     "data": {
      "text/html": [
       "\n",
       "\n",
       "\n",
       "\n",
       "\n",
       "\n",
       "  <div class=\"bk-root\" id=\"8dc811d3-5eb5-43e0-897e-3fbed35613a0\" data-root-id=\"5739\"></div>\n"
      ]
     },
     "metadata": {},
     "output_type": "display_data"
    },
    {
     "data": {
      "application/javascript": [
       "(function(root) {\n",
       "  function embed_document(root) {\n",
       "    \n",
       "  var docs_json = {\"08f307ff-c7fb-4b93-9e02-59f7dd54c859\":{\"roots\":{\"references\":[{\"attributes\":{\"below\":[{\"id\":\"5748\",\"type\":\"LinearAxis\"}],\"center\":[{\"id\":\"5752\",\"type\":\"Grid\"},{\"id\":\"5757\",\"type\":\"Grid\"}],\"left\":[{\"id\":\"5753\",\"type\":\"LinearAxis\"}],\"plot_height\":400,\"plot_width\":400,\"renderers\":[{\"id\":\"5774\",\"type\":\"GlyphRenderer\"}],\"title\":{\"id\":\"5983\",\"type\":\"Title\"},\"toolbar\":{\"id\":\"5764\",\"type\":\"Toolbar\"},\"x_range\":{\"id\":\"5740\",\"type\":\"DataRange1d\"},\"x_scale\":{\"id\":\"5744\",\"type\":\"LinearScale\"},\"y_range\":{\"id\":\"5742\",\"type\":\"DataRange1d\"},\"y_scale\":{\"id\":\"5746\",\"type\":\"LinearScale\"}},\"id\":\"5739\",\"subtype\":\"Figure\",\"type\":\"Plot\"},{\"attributes\":{},\"id\":\"5754\",\"type\":\"BasicTicker\"},{\"attributes\":{},\"id\":\"5988\",\"type\":\"BasicTickFormatter\"},{\"attributes\":{},\"id\":\"5761\",\"type\":\"SaveTool\"},{\"attributes\":{\"overlay\":{\"id\":\"5989\",\"type\":\"BoxAnnotation\"}},\"id\":\"5760\",\"type\":\"BoxZoomTool\"},{\"attributes\":{},\"id\":\"5762\",\"type\":\"ResetTool\"},{\"attributes\":{\"text\":\"\"},\"id\":\"5983\",\"type\":\"Title\"},{\"attributes\":{},\"id\":\"5746\",\"type\":\"LinearScale\"},{\"attributes\":{\"data_source\":{\"id\":\"5771\",\"type\":\"ColumnDataSource\"},\"glyph\":{\"id\":\"5772\",\"type\":\"HBar\"},\"hover_glyph\":null,\"muted_glyph\":null,\"nonselection_glyph\":{\"id\":\"5773\",\"type\":\"HBar\"},\"selection_glyph\":null,\"view\":{\"id\":\"5775\",\"type\":\"CDSView\"}},\"id\":\"5774\",\"type\":\"GlyphRenderer\"},{\"attributes\":{\"bottom_units\":\"screen\",\"fill_alpha\":{\"value\":0.5},\"fill_color\":{\"value\":\"lightgrey\"},\"left_units\":\"screen\",\"level\":\"overlay\",\"line_alpha\":{\"value\":1.0},\"line_color\":{\"value\":\"black\"},\"line_dash\":[4,4],\"line_width\":{\"value\":2},\"render_mode\":\"css\",\"right_units\":\"screen\",\"top_units\":\"screen\"},\"id\":\"5989\",\"type\":\"BoxAnnotation\"},{\"attributes\":{},\"id\":\"5758\",\"type\":\"PanTool\"},{\"attributes\":{},\"id\":\"5991\",\"type\":\"Selection\"},{\"attributes\":{},\"id\":\"5990\",\"type\":\"UnionRenderers\"},{\"attributes\":{\"fill_alpha\":{\"value\":0.1},\"fill_color\":{\"value\":\"#1f77b4\"},\"height\":{\"value\":0.5},\"line_alpha\":{\"value\":0.1},\"line_color\":{\"value\":\"#1f77b4\"},\"right\":{\"field\":\"right\"},\"y\":{\"field\":\"y\"}},\"id\":\"5773\",\"type\":\"HBar\"},{\"attributes\":{\"fill_color\":{\"value\":\"navy\"},\"height\":{\"value\":0.5},\"line_color\":{\"value\":\"navy\"},\"right\":{\"field\":\"right\"},\"y\":{\"field\":\"y\"}},\"id\":\"5772\",\"type\":\"HBar\"},{\"attributes\":{\"ticker\":{\"id\":\"5749\",\"type\":\"BasicTicker\"}},\"id\":\"5752\",\"type\":\"Grid\"},{\"attributes\":{\"source\":{\"id\":\"5771\",\"type\":\"ColumnDataSource\"}},\"id\":\"5775\",\"type\":\"CDSView\"},{\"attributes\":{\"formatter\":{\"id\":\"5988\",\"type\":\"BasicTickFormatter\"},\"ticker\":{\"id\":\"5749\",\"type\":\"BasicTicker\"}},\"id\":\"5748\",\"type\":\"LinearAxis\"},{\"attributes\":{},\"id\":\"5744\",\"type\":\"LinearScale\"},{\"attributes\":{},\"id\":\"5986\",\"type\":\"BasicTickFormatter\"},{\"attributes\":{\"callback\":null},\"id\":\"5740\",\"type\":\"DataRange1d\"},{\"attributes\":{},\"id\":\"5749\",\"type\":\"BasicTicker\"},{\"attributes\":{\"callback\":null},\"id\":\"5742\",\"type\":\"DataRange1d\"},{\"attributes\":{\"dimension\":1,\"ticker\":{\"id\":\"5754\",\"type\":\"BasicTicker\"}},\"id\":\"5757\",\"type\":\"Grid\"},{\"attributes\":{\"formatter\":{\"id\":\"5986\",\"type\":\"BasicTickFormatter\"},\"ticker\":{\"id\":\"5754\",\"type\":\"BasicTicker\"}},\"id\":\"5753\",\"type\":\"LinearAxis\"},{\"attributes\":{\"callback\":null,\"data\":{\"right\":[1.2,2.5,3.7],\"y\":[1,2,3]},\"selected\":{\"id\":\"5991\",\"type\":\"Selection\"},\"selection_policy\":{\"id\":\"5990\",\"type\":\"UnionRenderers\"}},\"id\":\"5771\",\"type\":\"ColumnDataSource\"},{\"attributes\":{},\"id\":\"5759\",\"type\":\"WheelZoomTool\"},{\"attributes\":{},\"id\":\"5763\",\"type\":\"HelpTool\"},{\"attributes\":{\"active_drag\":\"auto\",\"active_inspect\":\"auto\",\"active_multi\":null,\"active_scroll\":\"auto\",\"active_tap\":\"auto\",\"tools\":[{\"id\":\"5758\",\"type\":\"PanTool\"},{\"id\":\"5759\",\"type\":\"WheelZoomTool\"},{\"id\":\"5760\",\"type\":\"BoxZoomTool\"},{\"id\":\"5761\",\"type\":\"SaveTool\"},{\"id\":\"5762\",\"type\":\"ResetTool\"},{\"id\":\"5763\",\"type\":\"HelpTool\"}]},\"id\":\"5764\",\"type\":\"Toolbar\"}],\"root_ids\":[\"5739\"]},\"title\":\"Bokeh Application\",\"version\":\"1.4.0\"}};\n",
       "  var render_items = [{\"docid\":\"08f307ff-c7fb-4b93-9e02-59f7dd54c859\",\"roots\":{\"5739\":\"8dc811d3-5eb5-43e0-897e-3fbed35613a0\"}}];\n",
       "  root.Bokeh.embed.embed_items_notebook(docs_json, render_items);\n",
       "\n",
       "  }\n",
       "  if (root.Bokeh !== undefined) {\n",
       "    embed_document(root);\n",
       "  } else {\n",
       "    var attempts = 0;\n",
       "    var timer = setInterval(function(root) {\n",
       "      if (root.Bokeh !== undefined) {\n",
       "        clearInterval(timer);\n",
       "        embed_document(root);\n",
       "      } else {\n",
       "        attempts++;\n",
       "        if (attempts > 100) {\n",
       "          clearInterval(timer);\n",
       "          console.log(\"Bokeh: ERROR: Unable to run BokehJS code because BokehJS library is missing\");\n",
       "        }\n",
       "      }\n",
       "    }, 10, root)\n",
       "  }\n",
       "})(window);"
      ],
      "application/vnd.bokehjs_exec.v0+json": ""
     },
     "metadata": {
      "application/vnd.bokehjs_exec.v0+json": {
       "id": "5739"
      }
     },
     "output_type": "display_data"
    }
   ],
   "source": [
    "p = figure(plot_width=400, plot_height=400)\n",
    "p.hbar(y=[1, 2, 3], height=0.5, left=0, right=[1.2, 2.5, 3.7], color=\"navy\")\n",
    "show(p)"
   ]
  },
  {
   "cell_type": "code",
   "execution_count": 39,
   "metadata": {},
   "outputs": [
    {
     "data": {
      "text/html": [
       "\n",
       "\n",
       "\n",
       "\n",
       "\n",
       "\n",
       "  <div class=\"bk-root\" id=\"8e7ce62d-0e04-4733-8c7f-425bf7fce82e\" data-root-id=\"6751\"></div>\n"
      ]
     },
     "metadata": {},
     "output_type": "display_data"
    },
    {
     "data": {
      "application/javascript": [
       "(function(root) {\n",
       "  function embed_document(root) {\n",
       "    \n",
       "  var docs_json = {\"bee84be5-8daa-4c2e-8ca2-cec0874b4ae0\":{\"roots\":{\"references\":[{\"attributes\":{\"below\":[{\"id\":\"6760\",\"type\":\"LinearAxis\"}],\"center\":[{\"id\":\"6764\",\"type\":\"Grid\"},{\"id\":\"6769\",\"type\":\"Grid\"}],\"left\":[{\"id\":\"6765\",\"type\":\"LinearAxis\"}],\"plot_height\":300,\"plot_width\":400,\"renderers\":[{\"id\":\"6786\",\"type\":\"GlyphRenderer\"}],\"title\":{\"id\":\"7022\",\"type\":\"Title\"},\"toolbar\":{\"id\":\"6776\",\"type\":\"Toolbar\"},\"x_range\":{\"id\":\"6752\",\"type\":\"DataRange1d\"},\"x_scale\":{\"id\":\"6756\",\"type\":\"LinearScale\"},\"y_range\":{\"id\":\"6754\",\"type\":\"DataRange1d\"},\"y_scale\":{\"id\":\"6758\",\"type\":\"LinearScale\"}},\"id\":\"6751\",\"subtype\":\"Figure\",\"type\":\"Plot\"},{\"attributes\":{\"source\":{\"id\":\"6783\",\"type\":\"ColumnDataSource\"}},\"id\":\"6787\",\"type\":\"CDSView\"},{\"attributes\":{},\"id\":\"7029\",\"type\":\"UnionRenderers\"},{\"attributes\":{\"bottom\":{\"field\":\"bottom\"},\"fill_color\":{\"value\":\"#B3DE69\"},\"left\":{\"field\":\"left\"},\"line_color\":{\"value\":\"#B3DE69\"},\"right\":{\"field\":\"right\"},\"top\":{\"field\":\"top\"}},\"id\":\"6784\",\"type\":\"Quad\"},{\"attributes\":{},\"id\":\"6758\",\"type\":\"LinearScale\"},{\"attributes\":{},\"id\":\"6756\",\"type\":\"LinearScale\"},{\"attributes\":{\"callback\":null},\"id\":\"6754\",\"type\":\"DataRange1d\"},{\"attributes\":{\"overlay\":{\"id\":\"7028\",\"type\":\"BoxAnnotation\"}},\"id\":\"6772\",\"type\":\"BoxZoomTool\"},{\"attributes\":{\"formatter\":{\"id\":\"7027\",\"type\":\"BasicTickFormatter\"},\"ticker\":{\"id\":\"6761\",\"type\":\"BasicTicker\"}},\"id\":\"6760\",\"type\":\"LinearAxis\"},{\"attributes\":{\"bottom\":{\"field\":\"bottom\"},\"fill_alpha\":{\"value\":0.1},\"fill_color\":{\"value\":\"#1f77b4\"},\"left\":{\"field\":\"left\"},\"line_alpha\":{\"value\":0.1},\"line_color\":{\"value\":\"#1f77b4\"},\"right\":{\"field\":\"right\"},\"top\":{\"field\":\"top\"}},\"id\":\"6785\",\"type\":\"Quad\"},{\"attributes\":{\"callback\":null,\"data\":{\"bottom\":[1,2,3],\"left\":[1,2,3],\"right\":[1.2,2.5,3.7],\"top\":[2,3,4]},\"selected\":{\"id\":\"7030\",\"type\":\"Selection\"},\"selection_policy\":{\"id\":\"7029\",\"type\":\"UnionRenderers\"}},\"id\":\"6783\",\"type\":\"ColumnDataSource\"},{\"attributes\":{\"formatter\":{\"id\":\"7025\",\"type\":\"BasicTickFormatter\"},\"ticker\":{\"id\":\"6766\",\"type\":\"BasicTicker\"}},\"id\":\"6765\",\"type\":\"LinearAxis\"},{\"attributes\":{\"callback\":null},\"id\":\"6752\",\"type\":\"DataRange1d\"},{\"attributes\":{\"dimension\":1,\"ticker\":{\"id\":\"6766\",\"type\":\"BasicTicker\"}},\"id\":\"6769\",\"type\":\"Grid\"},{\"attributes\":{\"data_source\":{\"id\":\"6783\",\"type\":\"ColumnDataSource\"},\"glyph\":{\"id\":\"6784\",\"type\":\"Quad\"},\"hover_glyph\":null,\"muted_glyph\":null,\"nonselection_glyph\":{\"id\":\"6785\",\"type\":\"Quad\"},\"selection_glyph\":null,\"view\":{\"id\":\"6787\",\"type\":\"CDSView\"}},\"id\":\"6786\",\"type\":\"GlyphRenderer\"},{\"attributes\":{\"ticker\":{\"id\":\"6761\",\"type\":\"BasicTicker\"}},\"id\":\"6764\",\"type\":\"Grid\"},{\"attributes\":{},\"id\":\"6775\",\"type\":\"HelpTool\"},{\"attributes\":{},\"id\":\"6761\",\"type\":\"BasicTicker\"},{\"attributes\":{\"text\":\"\"},\"id\":\"7022\",\"type\":\"Title\"},{\"attributes\":{},\"id\":\"6766\",\"type\":\"BasicTicker\"},{\"attributes\":{\"active_drag\":\"auto\",\"active_inspect\":\"auto\",\"active_multi\":null,\"active_scroll\":\"auto\",\"active_tap\":\"auto\",\"tools\":[{\"id\":\"6770\",\"type\":\"PanTool\"},{\"id\":\"6771\",\"type\":\"WheelZoomTool\"},{\"id\":\"6772\",\"type\":\"BoxZoomTool\"},{\"id\":\"6773\",\"type\":\"SaveTool\"},{\"id\":\"6774\",\"type\":\"ResetTool\"},{\"id\":\"6775\",\"type\":\"HelpTool\"}]},\"id\":\"6776\",\"type\":\"Toolbar\"},{\"attributes\":{},\"id\":\"6771\",\"type\":\"WheelZoomTool\"},{\"attributes\":{\"bottom_units\":\"screen\",\"fill_alpha\":{\"value\":0.5},\"fill_color\":{\"value\":\"lightgrey\"},\"left_units\":\"screen\",\"level\":\"overlay\",\"line_alpha\":{\"value\":1.0},\"line_color\":{\"value\":\"black\"},\"line_dash\":[4,4],\"line_width\":{\"value\":2},\"render_mode\":\"css\",\"right_units\":\"screen\",\"top_units\":\"screen\"},\"id\":\"7028\",\"type\":\"BoxAnnotation\"},{\"attributes\":{},\"id\":\"6770\",\"type\":\"PanTool\"},{\"attributes\":{},\"id\":\"6773\",\"type\":\"SaveTool\"},{\"attributes\":{},\"id\":\"7027\",\"type\":\"BasicTickFormatter\"},{\"attributes\":{},\"id\":\"7025\",\"type\":\"BasicTickFormatter\"},{\"attributes\":{},\"id\":\"7030\",\"type\":\"Selection\"},{\"attributes\":{},\"id\":\"6774\",\"type\":\"ResetTool\"}],\"root_ids\":[\"6751\"]},\"title\":\"Bokeh Application\",\"version\":\"1.4.0\"}};\n",
       "  var render_items = [{\"docid\":\"bee84be5-8daa-4c2e-8ca2-cec0874b4ae0\",\"roots\":{\"6751\":\"8e7ce62d-0e04-4733-8c7f-425bf7fce82e\"}}];\n",
       "  root.Bokeh.embed.embed_items_notebook(docs_json, render_items);\n",
       "\n",
       "  }\n",
       "  if (root.Bokeh !== undefined) {\n",
       "    embed_document(root);\n",
       "  } else {\n",
       "    var attempts = 0;\n",
       "    var timer = setInterval(function(root) {\n",
       "      if (root.Bokeh !== undefined) {\n",
       "        clearInterval(timer);\n",
       "        embed_document(root);\n",
       "      } else {\n",
       "        attempts++;\n",
       "        if (attempts > 100) {\n",
       "          clearInterval(timer);\n",
       "          console.log(\"Bokeh: ERROR: Unable to run BokehJS code because BokehJS library is missing\");\n",
       "        }\n",
       "      }\n",
       "    }, 10, root)\n",
       "  }\n",
       "})(window);"
      ],
      "application/vnd.bokehjs_exec.v0+json": ""
     },
     "metadata": {
      "application/vnd.bokehjs_exec.v0+json": {
       "id": "6751"
      }
     },
     "output_type": "display_data"
    }
   ],
   "source": [
    "p = figure(plot_width=400, plot_height=300)\n",
    "p.quad(top=[2, 3, 4], bottom=[1, 2, 3], left=[1, 2, 3],right=[1.2, 2.5, 3.7], color=\"#B3DE69\")\n",
    "show(p)"
   ]
  },
  {
   "cell_type": "code",
   "execution_count": 45,
   "metadata": {},
   "outputs": [
    {
     "data": {
      "text/html": [
       "\n",
       "\n",
       "\n",
       "\n",
       "\n",
       "\n",
       "  <div class=\"bk-root\" id=\"cf746c5d-eb70-416d-af0a-6bc659805b44\" data-root-id=\"8890\"></div>\n"
      ]
     },
     "metadata": {},
     "output_type": "display_data"
    },
    {
     "data": {
      "application/javascript": [
       "(function(root) {\n",
       "  function embed_document(root) {\n",
       "    \n",
       "  var docs_json = {\"5da39c55-164c-49b8-a7b8-bcf52de2a8a0\":{\"roots\":{\"references\":[{\"attributes\":{\"below\":[{\"id\":\"8899\",\"type\":\"LinearAxis\"}],\"center\":[{\"id\":\"8903\",\"type\":\"Grid\"},{\"id\":\"8908\",\"type\":\"Grid\"}],\"left\":[{\"id\":\"8904\",\"type\":\"LinearAxis\"}],\"plot_height\":300,\"plot_width\":400,\"renderers\":[{\"id\":\"8925\",\"type\":\"GlyphRenderer\"}],\"title\":{\"id\":\"9215\",\"type\":\"Title\"},\"toolbar\":{\"id\":\"8915\",\"type\":\"Toolbar\"},\"x_range\":{\"id\":\"8891\",\"type\":\"DataRange1d\"},\"x_scale\":{\"id\":\"8895\",\"type\":\"LinearScale\"},\"y_range\":{\"id\":\"8893\",\"type\":\"DataRange1d\"},\"y_scale\":{\"id\":\"8897\",\"type\":\"LinearScale\"}},\"id\":\"8890\",\"subtype\":\"Figure\",\"type\":\"Plot\"},{\"attributes\":{\"bottom_units\":\"screen\",\"fill_alpha\":{\"value\":0.5},\"fill_color\":{\"value\":\"lightgrey\"},\"left_units\":\"screen\",\"level\":\"overlay\",\"line_alpha\":{\"value\":1.0},\"line_color\":{\"value\":\"black\"},\"line_dash\":[4,4],\"line_width\":{\"value\":2},\"render_mode\":\"css\",\"right_units\":\"screen\",\"top_units\":\"screen\"},\"id\":\"9221\",\"type\":\"BoxAnnotation\"},{\"attributes\":{},\"id\":\"8912\",\"type\":\"SaveTool\"},{\"attributes\":{},\"id\":\"8914\",\"type\":\"HelpTool\"},{\"attributes\":{\"text\":\"\"},\"id\":\"9215\",\"type\":\"Title\"},{\"attributes\":{},\"id\":\"8913\",\"type\":\"ResetTool\"},{\"attributes\":{\"overlay\":{\"id\":\"9221\",\"type\":\"BoxAnnotation\"}},\"id\":\"8911\",\"type\":\"BoxZoomTool\"},{\"attributes\":{},\"id\":\"9223\",\"type\":\"Selection\"},{\"attributes\":{},\"id\":\"8910\",\"type\":\"WheelZoomTool\"},{\"attributes\":{},\"id\":\"8909\",\"type\":\"PanTool\"},{\"attributes\":{\"source\":{\"id\":\"8922\",\"type\":\"ColumnDataSource\"}},\"id\":\"8926\",\"type\":\"CDSView\"},{\"attributes\":{\"active_drag\":\"auto\",\"active_inspect\":\"auto\",\"active_multi\":null,\"active_scroll\":\"auto\",\"active_tap\":\"auto\",\"tools\":[{\"id\":\"8909\",\"type\":\"PanTool\"},{\"id\":\"8910\",\"type\":\"WheelZoomTool\"},{\"id\":\"8911\",\"type\":\"BoxZoomTool\"},{\"id\":\"8912\",\"type\":\"SaveTool\"},{\"id\":\"8913\",\"type\":\"ResetTool\"},{\"id\":\"8914\",\"type\":\"HelpTool\"}]},\"id\":\"8915\",\"type\":\"Toolbar\"},{\"attributes\":{\"data_source\":{\"id\":\"8922\",\"type\":\"ColumnDataSource\"},\"glyph\":{\"id\":\"8923\",\"type\":\"Rect\"},\"hover_glyph\":null,\"muted_glyph\":null,\"nonselection_glyph\":{\"id\":\"8924\",\"type\":\"Rect\"},\"selection_glyph\":null,\"view\":{\"id\":\"8926\",\"type\":\"CDSView\"}},\"id\":\"8925\",\"type\":\"GlyphRenderer\"},{\"attributes\":{\"formatter\":{\"id\":\"9220\",\"type\":\"BasicTickFormatter\"},\"ticker\":{\"id\":\"8900\",\"type\":\"BasicTicker\"}},\"id\":\"8899\",\"type\":\"LinearAxis\"},{\"attributes\":{\"formatter\":{\"id\":\"9218\",\"type\":\"BasicTickFormatter\"},\"ticker\":{\"id\":\"8905\",\"type\":\"BasicTicker\"}},\"id\":\"8904\",\"type\":\"LinearAxis\"},{\"attributes\":{\"callback\":null},\"id\":\"8891\",\"type\":\"DataRange1d\"},{\"attributes\":{},\"id\":\"8895\",\"type\":\"LinearScale\"},{\"attributes\":{},\"id\":\"9218\",\"type\":\"BasicTickFormatter\"},{\"attributes\":{\"dimension\":1,\"ticker\":{\"id\":\"8905\",\"type\":\"BasicTicker\"}},\"id\":\"8908\",\"type\":\"Grid\"},{\"attributes\":{\"angle\":{\"units\":\"rad\",\"value\":1.0471975511965976},\"fill_color\":{\"value\":\"#CAB2D6\"},\"height\":{\"units\":\"screen\",\"value\":50},\"line_color\":{\"value\":\"#CAB2D6\"},\"width\":{\"units\":\"data\",\"value\":0.2},\"x\":{\"field\":\"x\"},\"y\":{\"field\":\"y\"}},\"id\":\"8923\",\"type\":\"Rect\"},{\"attributes\":{},\"id\":\"9222\",\"type\":\"UnionRenderers\"},{\"attributes\":{\"callback\":null,\"data\":{\"x\":[1,2,3],\"y\":[1,2,3]},\"selected\":{\"id\":\"9223\",\"type\":\"Selection\"},\"selection_policy\":{\"id\":\"9222\",\"type\":\"UnionRenderers\"}},\"id\":\"8922\",\"type\":\"ColumnDataSource\"},{\"attributes\":{\"callback\":null},\"id\":\"8893\",\"type\":\"DataRange1d\"},{\"attributes\":{},\"id\":\"8905\",\"type\":\"BasicTicker\"},{\"attributes\":{},\"id\":\"8897\",\"type\":\"LinearScale\"},{\"attributes\":{\"angle\":{\"units\":\"rad\",\"value\":1.0471975511965976},\"fill_alpha\":{\"value\":0.1},\"fill_color\":{\"value\":\"#1f77b4\"},\"height\":{\"units\":\"screen\",\"value\":50},\"line_alpha\":{\"value\":0.1},\"line_color\":{\"value\":\"#1f77b4\"},\"width\":{\"units\":\"data\",\"value\":0.2},\"x\":{\"field\":\"x\"},\"y\":{\"field\":\"y\"}},\"id\":\"8924\",\"type\":\"Rect\"},{\"attributes\":{},\"id\":\"9220\",\"type\":\"BasicTickFormatter\"},{\"attributes\":{},\"id\":\"8900\",\"type\":\"BasicTicker\"},{\"attributes\":{\"ticker\":{\"id\":\"8900\",\"type\":\"BasicTicker\"}},\"id\":\"8903\",\"type\":\"Grid\"}],\"root_ids\":[\"8890\"]},\"title\":\"Bokeh Application\",\"version\":\"1.4.0\"}};\n",
       "  var render_items = [{\"docid\":\"5da39c55-164c-49b8-a7b8-bcf52de2a8a0\",\"roots\":{\"8890\":\"cf746c5d-eb70-416d-af0a-6bc659805b44\"}}];\n",
       "  root.Bokeh.embed.embed_items_notebook(docs_json, render_items);\n",
       "\n",
       "  }\n",
       "  if (root.Bokeh !== undefined) {\n",
       "    embed_document(root);\n",
       "  } else {\n",
       "    var attempts = 0;\n",
       "    var timer = setInterval(function(root) {\n",
       "      if (root.Bokeh !== undefined) {\n",
       "        clearInterval(timer);\n",
       "        embed_document(root);\n",
       "      } else {\n",
       "        attempts++;\n",
       "        if (attempts > 100) {\n",
       "          clearInterval(timer);\n",
       "          console.log(\"Bokeh: ERROR: Unable to run BokehJS code because BokehJS library is missing\");\n",
       "        }\n",
       "      }\n",
       "    }, 10, root)\n",
       "  }\n",
       "})(window);"
      ],
      "application/vnd.bokehjs_exec.v0+json": ""
     },
     "metadata": {
      "application/vnd.bokehjs_exec.v0+json": {
       "id": "8890"
      }
     },
     "output_type": "display_data"
    }
   ],
   "source": [
    "from math import pi\n",
    "p = figure(plot_width=400, plot_height=300)\n",
    "p.rect(x=[1, 2, 3], y=[1, 2, 3], width=0.2, height=50, color=\"#CAB2D6\",\n",
    "       angle=pi/3, height_units=\"screen\")\n",
    "show(p)"
   ]
  },
  {
   "cell_type": "markdown",
   "metadata": {},
   "source": [
    "### Hex Tiles"
   ]
  },
  {
   "cell_type": "code",
   "execution_count": 46,
   "metadata": {
    "scrolled": true
   },
   "outputs": [
    {
     "data": {
      "text/html": [
       "\n",
       "\n",
       "\n",
       "\n",
       "\n",
       "\n",
       "  <div class=\"bk-root\" id=\"5ea16e1b-07cc-4155-9c84-7545e73dd7d7\" data-root-id=\"9278\"></div>\n"
      ]
     },
     "metadata": {},
     "output_type": "display_data"
    },
    {
     "data": {
      "application/javascript": [
       "(function(root) {\n",
       "  function embed_document(root) {\n",
       "    \n",
       "  var docs_json = {\"3b1f4490-8a80-4f7b-a8b7-76055dba921c\":{\"roots\":{\"references\":[{\"attributes\":{\"below\":[{\"id\":\"9287\",\"type\":\"LinearAxis\"}],\"center\":[{\"id\":\"9291\",\"type\":\"Grid\"},{\"id\":\"9296\",\"type\":\"Grid\"}],\"left\":[{\"id\":\"9292\",\"type\":\"LinearAxis\"}],\"plot_height\":300,\"plot_width\":400,\"renderers\":[{\"id\":\"9313\",\"type\":\"GlyphRenderer\"}],\"title\":{\"id\":\"9612\",\"type\":\"Title\"},\"toolbar\":{\"id\":\"9303\",\"type\":\"Toolbar\"},\"x_range\":{\"id\":\"9279\",\"type\":\"DataRange1d\"},\"x_scale\":{\"id\":\"9283\",\"type\":\"LinearScale\"},\"y_range\":{\"id\":\"9281\",\"type\":\"DataRange1d\"},\"y_scale\":{\"id\":\"9285\",\"type\":\"LinearScale\"}},\"id\":\"9278\",\"subtype\":\"Figure\",\"type\":\"Plot\"},{\"attributes\":{},\"id\":\"9293\",\"type\":\"BasicTicker\"},{\"attributes\":{\"ticker\":{\"id\":\"9288\",\"type\":\"BasicTicker\"}},\"id\":\"9291\",\"type\":\"Grid\"},{\"attributes\":{},\"id\":\"9615\",\"type\":\"BasicTickFormatter\"},{\"attributes\":{\"dimension\":1,\"ticker\":{\"id\":\"9293\",\"type\":\"BasicTicker\"}},\"id\":\"9296\",\"type\":\"Grid\"},{\"attributes\":{\"formatter\":{\"id\":\"9615\",\"type\":\"BasicTickFormatter\"},\"ticker\":{\"id\":\"9293\",\"type\":\"BasicTicker\"}},\"id\":\"9292\",\"type\":\"LinearAxis\"},{\"attributes\":{\"text\":\"\"},\"id\":\"9612\",\"type\":\"Title\"},{\"attributes\":{\"callback\":null,\"data\":{\"fill_color\":[\"firebrick\",\"firebrick\",\"firebrick\",\"navy\",\"navy\",\"navy\",\"navy\"],\"q\":{\"__ndarray__\":\"AAAAAAAAAAAAAAAA//////////8BAAAAAQAAAA==\",\"dtype\":\"int32\",\"shape\":[7]},\"r\":{\"__ndarray__\":\"AAAAAP////8BAAAAAAAAAAEAAAD/////AAAAAA==\",\"dtype\":\"int32\",\"shape\":[7]}},\"selected\":{\"id\":\"9620\",\"type\":\"Selection\"},\"selection_policy\":{\"id\":\"9619\",\"type\":\"UnionRenderers\"}},\"id\":\"9310\",\"type\":\"ColumnDataSource\"},{\"attributes\":{\"active_drag\":\"auto\",\"active_inspect\":\"auto\",\"active_multi\":null,\"active_scroll\":\"auto\",\"active_tap\":\"auto\",\"tools\":[{\"id\":\"9297\",\"type\":\"PanTool\"},{\"id\":\"9298\",\"type\":\"WheelZoomTool\"},{\"id\":\"9299\",\"type\":\"BoxZoomTool\"},{\"id\":\"9300\",\"type\":\"SaveTool\"},{\"id\":\"9301\",\"type\":\"ResetTool\"},{\"id\":\"9302\",\"type\":\"HelpTool\"}]},\"id\":\"9303\",\"type\":\"Toolbar\"},{\"attributes\":{\"fill_alpha\":{\"value\":0.5},\"fill_color\":{\"field\":\"fill_color\"},\"line_alpha\":{\"value\":0.5},\"line_color\":{\"value\":\"white\"},\"q\":{\"field\":\"q\"},\"r\":{\"field\":\"r\"}},\"id\":\"9311\",\"type\":\"HexTile\"},{\"attributes\":{},\"id\":\"9297\",\"type\":\"PanTool\"},{\"attributes\":{\"callback\":null},\"id\":\"9279\",\"type\":\"DataRange1d\"},{\"attributes\":{},\"id\":\"9298\",\"type\":\"WheelZoomTool\"},{\"attributes\":{},\"id\":\"9283\",\"type\":\"LinearScale\"},{\"attributes\":{\"overlay\":{\"id\":\"9618\",\"type\":\"BoxAnnotation\"}},\"id\":\"9299\",\"type\":\"BoxZoomTool\"},{\"attributes\":{},\"id\":\"9300\",\"type\":\"SaveTool\"},{\"attributes\":{},\"id\":\"9301\",\"type\":\"ResetTool\"},{\"attributes\":{\"formatter\":{\"id\":\"9617\",\"type\":\"BasicTickFormatter\"},\"ticker\":{\"id\":\"9288\",\"type\":\"BasicTicker\"}},\"id\":\"9287\",\"type\":\"LinearAxis\"},{\"attributes\":{\"fill_alpha\":{\"value\":0.1},\"fill_color\":{\"value\":\"#1f77b4\"},\"line_alpha\":{\"value\":0.1},\"line_color\":{\"value\":\"#1f77b4\"},\"q\":{\"field\":\"q\"},\"r\":{\"field\":\"r\"}},\"id\":\"9312\",\"type\":\"HexTile\"},{\"attributes\":{},\"id\":\"9302\",\"type\":\"HelpTool\"},{\"attributes\":{\"source\":{\"id\":\"9310\",\"type\":\"ColumnDataSource\"}},\"id\":\"9314\",\"type\":\"CDSView\"},{\"attributes\":{},\"id\":\"9620\",\"type\":\"Selection\"},{\"attributes\":{\"data_source\":{\"id\":\"9310\",\"type\":\"ColumnDataSource\"},\"glyph\":{\"id\":\"9311\",\"type\":\"HexTile\"},\"hover_glyph\":null,\"muted_glyph\":null,\"nonselection_glyph\":{\"id\":\"9312\",\"type\":\"HexTile\"},\"selection_glyph\":null,\"view\":{\"id\":\"9314\",\"type\":\"CDSView\"}},\"id\":\"9313\",\"type\":\"GlyphRenderer\"},{\"attributes\":{},\"id\":\"9285\",\"type\":\"LinearScale\"},{\"attributes\":{},\"id\":\"9619\",\"type\":\"UnionRenderers\"},{\"attributes\":{},\"id\":\"9617\",\"type\":\"BasicTickFormatter\"},{\"attributes\":{},\"id\":\"9288\",\"type\":\"BasicTicker\"},{\"attributes\":{\"callback\":null},\"id\":\"9281\",\"type\":\"DataRange1d\"},{\"attributes\":{\"bottom_units\":\"screen\",\"fill_alpha\":{\"value\":0.5},\"fill_color\":{\"value\":\"lightgrey\"},\"left_units\":\"screen\",\"level\":\"overlay\",\"line_alpha\":{\"value\":1.0},\"line_color\":{\"value\":\"black\"},\"line_dash\":[4,4],\"line_width\":{\"value\":2},\"render_mode\":\"css\",\"right_units\":\"screen\",\"top_units\":\"screen\"},\"id\":\"9618\",\"type\":\"BoxAnnotation\"}],\"root_ids\":[\"9278\"]},\"title\":\"Bokeh Application\",\"version\":\"1.4.0\"}};\n",
       "  var render_items = [{\"docid\":\"3b1f4490-8a80-4f7b-a8b7-76055dba921c\",\"roots\":{\"9278\":\"5ea16e1b-07cc-4155-9c84-7545e73dd7d7\"}}];\n",
       "  root.Bokeh.embed.embed_items_notebook(docs_json, render_items);\n",
       "\n",
       "  }\n",
       "  if (root.Bokeh !== undefined) {\n",
       "    embed_document(root);\n",
       "  } else {\n",
       "    var attempts = 0;\n",
       "    var timer = setInterval(function(root) {\n",
       "      if (root.Bokeh !== undefined) {\n",
       "        clearInterval(timer);\n",
       "        embed_document(root);\n",
       "      } else {\n",
       "        attempts++;\n",
       "        if (attempts > 100) {\n",
       "          clearInterval(timer);\n",
       "          console.log(\"Bokeh: ERROR: Unable to run BokehJS code because BokehJS library is missing\");\n",
       "        }\n",
       "      }\n",
       "    }, 10, root)\n",
       "  }\n",
       "})(window);"
      ],
      "application/vnd.bokehjs_exec.v0+json": ""
     },
     "metadata": {
      "application/vnd.bokehjs_exec.v0+json": {
       "id": "9278"
      }
     },
     "output_type": "display_data"
    }
   ],
   "source": [
    "import numpy as np\n",
    "q = np.array([0,  0, 0, -1, -1,  1, 1])\n",
    "r = np.array([0, -1, 1,  0,  1, -1, 0])\n",
    "p = figure(plot_width=400, plot_height=300)\n",
    "p.hex_tile(q, r, size=1, fill_color=[\"firebrick\"]*3 + [\"navy\"]*4,\n",
    "           line_color=\"white\", alpha=0.5)\n",
    "show(p)"
   ]
  },
  {
   "cell_type": "code",
   "execution_count": 53,
   "metadata": {},
   "outputs": [
    {
     "data": {
      "text/html": [
       "\n",
       "\n",
       "\n",
       "\n",
       "\n",
       "\n",
       "  <div class=\"bk-root\" id=\"aee3f38c-a8c8-4df0-93da-6937668fa4db\" data-root-id=\"11366\"></div>\n"
      ]
     },
     "metadata": {},
     "output_type": "display_data"
    },
    {
     "data": {
      "application/javascript": [
       "(function(root) {\n",
       "  function embed_document(root) {\n",
       "    \n",
       "  var docs_json = {\"82189024-2bfd-47c1-ae4d-8ce9136cb631\":{\"roots\":{\"references\":[{\"attributes\":{\"background_fill_color\":{\"value\":\"#440154\"},\"below\":[{\"id\":\"11375\",\"type\":\"LinearAxis\"}],\"center\":[{\"id\":\"11379\",\"type\":\"Grid\"},{\"id\":\"11384\",\"type\":\"Grid\"}],\"left\":[{\"id\":\"11380\",\"type\":\"LinearAxis\"}],\"plot_height\":300,\"plot_width\":500,\"renderers\":[{\"id\":\"11401\",\"type\":\"GlyphRenderer\"}],\"title\":{\"id\":\"11743\",\"type\":\"Title\"},\"toolbar\":{\"id\":\"11391\",\"type\":\"Toolbar\"},\"x_range\":{\"id\":\"11367\",\"type\":\"DataRange1d\"},\"x_scale\":{\"id\":\"11371\",\"type\":\"LinearScale\"},\"y_range\":{\"id\":\"11369\",\"type\":\"DataRange1d\"},\"y_scale\":{\"id\":\"11373\",\"type\":\"LinearScale\"}},\"id\":\"11366\",\"subtype\":\"Figure\",\"type\":\"Plot\"},{\"attributes\":{},\"id\":\"11748\",\"type\":\"BasicTickFormatter\"},{\"attributes\":{},\"id\":\"11371\",\"type\":\"LinearScale\"},{\"attributes\":{},\"id\":\"11751\",\"type\":\"Selection\"},{\"attributes\":{},\"id\":\"11376\",\"type\":\"BasicTicker\"},{\"attributes\":{},\"id\":\"11381\",\"type\":\"BasicTicker\"},{\"attributes\":{\"formatter\":{\"id\":\"11748\",\"type\":\"BasicTickFormatter\"},\"ticker\":{\"id\":\"11376\",\"type\":\"BasicTicker\"}},\"id\":\"11375\",\"type\":\"LinearAxis\"},{\"attributes\":{\"callback\":null},\"id\":\"11369\",\"type\":\"DataRange1d\"},{\"attributes\":{},\"id\":\"11373\",\"type\":\"LinearScale\"},{\"attributes\":{},\"id\":\"11746\",\"type\":\"BasicTickFormatter\"},{\"attributes\":{\"bottom_units\":\"screen\",\"fill_alpha\":{\"value\":0.5},\"fill_color\":{\"value\":\"lightgrey\"},\"left_units\":\"screen\",\"level\":\"overlay\",\"line_alpha\":{\"value\":1.0},\"line_color\":{\"value\":\"black\"},\"line_dash\":[4,4],\"line_width\":{\"value\":2},\"render_mode\":\"css\",\"right_units\":\"screen\",\"top_units\":\"screen\"},\"id\":\"11749\",\"type\":\"BoxAnnotation\"},{\"attributes\":{\"active_drag\":\"auto\",\"active_inspect\":\"auto\",\"active_multi\":null,\"active_scroll\":\"auto\",\"active_tap\":\"auto\",\"tools\":[{\"id\":\"11385\",\"type\":\"PanTool\"},{\"id\":\"11386\",\"type\":\"WheelZoomTool\"},{\"id\":\"11387\",\"type\":\"BoxZoomTool\"},{\"id\":\"11388\",\"type\":\"SaveTool\"},{\"id\":\"11389\",\"type\":\"ResetTool\"},{\"id\":\"11390\",\"type\":\"HelpTool\"}]},\"id\":\"11391\",\"type\":\"Toolbar\"},{\"attributes\":{\"formatter\":{\"id\":\"11746\",\"type\":\"BasicTickFormatter\"},\"ticker\":{\"id\":\"11381\",\"type\":\"BasicTicker\"}},\"id\":\"11380\",\"type\":\"LinearAxis\"},{\"attributes\":{\"callback\":null},\"id\":\"11367\",\"type\":\"DataRange1d\"},{\"attributes\":{\"dimension\":1,\"ticker\":{\"id\":\"11381\",\"type\":\"BasicTicker\"},\"visible\":false},\"id\":\"11384\",\"type\":\"Grid\"},{\"attributes\":{\"callback\":null,\"data\":{\"q\":{\"__ndarray__\":\"AAAAAAAAAAAAAAAA//////////8BAAAAAQAAAA==\",\"dtype\":\"int32\",\"shape\":[7]},\"r\":{\"__ndarray__\":\"AAAAAP////8BAAAAAAAAAAEAAAD/////AAAAAA==\",\"dtype\":\"int32\",\"shape\":[7]}},\"selected\":{\"id\":\"11751\",\"type\":\"Selection\"},\"selection_policy\":{\"id\":\"11750\",\"type\":\"UnionRenderers\"}},\"id\":\"11398\",\"type\":\"ColumnDataSource\"},{\"attributes\":{\"ticker\":{\"id\":\"11376\",\"type\":\"BasicTicker\"},\"visible\":false},\"id\":\"11379\",\"type\":\"Grid\"},{\"attributes\":{\"overlay\":{\"id\":\"11749\",\"type\":\"BoxAnnotation\"}},\"id\":\"11387\",\"type\":\"BoxZoomTool\"},{\"attributes\":{},\"id\":\"11386\",\"type\":\"WheelZoomTool\"},{\"attributes\":{},\"id\":\"11385\",\"type\":\"PanTool\"},{\"attributes\":{\"fill_alpha\":{\"value\":0.1},\"fill_color\":{\"value\":\"#1f77b4\"},\"line_alpha\":{\"value\":0.1},\"line_color\":{\"value\":\"#1f77b4\"},\"q\":{\"field\":\"q\"},\"r\":{\"field\":\"r\"},\"size\":0.1},\"id\":\"11400\",\"type\":\"HexTile\"},{\"attributes\":{},\"id\":\"11390\",\"type\":\"HelpTool\"},{\"attributes\":{},\"id\":\"11389\",\"type\":\"ResetTool\"},{\"attributes\":{},\"id\":\"11388\",\"type\":\"SaveTool\"},{\"attributes\":{\"fill_color\":{\"value\":\"#1f77b4\"},\"q\":{\"field\":\"q\"},\"r\":{\"field\":\"r\"},\"size\":0.1},\"id\":\"11399\",\"type\":\"HexTile\"},{\"attributes\":{\"text\":\"\"},\"id\":\"11743\",\"type\":\"Title\"},{\"attributes\":{},\"id\":\"11750\",\"type\":\"UnionRenderers\"},{\"attributes\":{\"data_source\":{\"id\":\"11398\",\"type\":\"ColumnDataSource\"},\"glyph\":{\"id\":\"11399\",\"type\":\"HexTile\"},\"hover_glyph\":null,\"muted_glyph\":null,\"nonselection_glyph\":{\"id\":\"11400\",\"type\":\"HexTile\"},\"selection_glyph\":null,\"view\":{\"id\":\"11402\",\"type\":\"CDSView\"}},\"id\":\"11401\",\"type\":\"GlyphRenderer\"},{\"attributes\":{\"source\":{\"id\":\"11398\",\"type\":\"ColumnDataSource\"}},\"id\":\"11402\",\"type\":\"CDSView\"}],\"root_ids\":[\"11366\"]},\"title\":\"Bokeh Application\",\"version\":\"1.4.0\"}};\n",
       "  var render_items = [{\"docid\":\"82189024-2bfd-47c1-ae4d-8ce9136cb631\",\"roots\":{\"11366\":\"aee3f38c-a8c8-4df0-93da-6937668fa4db\"}}];\n",
       "  root.Bokeh.embed.embed_items_notebook(docs_json, render_items);\n",
       "\n",
       "  }\n",
       "  if (root.Bokeh !== undefined) {\n",
       "    embed_document(root);\n",
       "  } else {\n",
       "    var attempts = 0;\n",
       "    var timer = setInterval(function(root) {\n",
       "      if (root.Bokeh !== undefined) {\n",
       "        clearInterval(timer);\n",
       "        embed_document(root);\n",
       "      } else {\n",
       "        attempts++;\n",
       "        if (attempts > 100) {\n",
       "          clearInterval(timer);\n",
       "          console.log(\"Bokeh: ERROR: Unable to run BokehJS code because BokehJS library is missing\");\n",
       "        }\n",
       "      }\n",
       "    }, 10, root)\n",
       "  }\n",
       "})(window);"
      ],
      "application/vnd.bokehjs_exec.v0+json": ""
     },
     "metadata": {
      "application/vnd.bokehjs_exec.v0+json": {
       "id": "11366"
      }
     },
     "output_type": "display_data"
    }
   ],
   "source": [
    "n = 50000\n",
    "x = np.random.standard_normal(n)\n",
    "y = np.random.standard_normal(n)\n",
    "\n",
    "\n",
    "p = figure(plot_height=300,plot_width=500, background_fill_color='#440154')\n",
    "p.grid.visible = False\n",
    "\n",
    "p.hex_tile(q, r, size=0.1, line_color=None)\n",
    "        \n",
    "show(p)"
   ]
  },
  {
   "cell_type": "markdown",
   "metadata": {},
   "source": [
    "### Directed Areas"
   ]
  },
  {
   "cell_type": "code",
   "execution_count": 56,
   "metadata": {},
   "outputs": [
    {
     "data": {
      "text/html": [
       "\n",
       "\n",
       "\n",
       "\n",
       "\n",
       "\n",
       "  <div class=\"bk-root\" id=\"462d05d1-b5a5-448e-8963-15f9032af80f\" data-root-id=\"12287\"></div>\n"
      ]
     },
     "metadata": {},
     "output_type": "display_data"
    },
    {
     "data": {
      "application/javascript": [
       "(function(root) {\n",
       "  function embed_document(root) {\n",
       "    \n",
       "  var docs_json = {\"6704f777-6f00-47dd-a555-16dfaf07716f\":{\"roots\":{\"references\":[{\"attributes\":{\"below\":[{\"id\":\"12296\",\"type\":\"LinearAxis\"}],\"center\":[{\"id\":\"12300\",\"type\":\"Grid\"},{\"id\":\"12305\",\"type\":\"Grid\"}],\"left\":[{\"id\":\"12301\",\"type\":\"LinearAxis\"}],\"plot_height\":300,\"plot_width\":500,\"renderers\":[{\"id\":\"12322\",\"type\":\"GlyphRenderer\"}],\"title\":{\"id\":\"12682\",\"type\":\"Title\"},\"toolbar\":{\"id\":\"12312\",\"type\":\"Toolbar\"},\"x_range\":{\"id\":\"12288\",\"type\":\"DataRange1d\"},\"x_scale\":{\"id\":\"12292\",\"type\":\"LinearScale\"},\"y_range\":{\"id\":\"12290\",\"type\":\"DataRange1d\"},\"y_scale\":{\"id\":\"12294\",\"type\":\"LinearScale\"}},\"id\":\"12287\",\"subtype\":\"Figure\",\"type\":\"Plot\"},{\"attributes\":{\"callback\":null},\"id\":\"12290\",\"type\":\"DataRange1d\"},{\"attributes\":{\"callback\":null},\"id\":\"12288\",\"type\":\"DataRange1d\"},{\"attributes\":{\"bottom_units\":\"screen\",\"fill_alpha\":{\"value\":0.5},\"fill_color\":{\"value\":\"lightgrey\"},\"left_units\":\"screen\",\"level\":\"overlay\",\"line_alpha\":{\"value\":1.0},\"line_color\":{\"value\":\"black\"},\"line_dash\":[4,4],\"line_width\":{\"value\":2},\"render_mode\":\"css\",\"right_units\":\"screen\",\"top_units\":\"screen\"},\"id\":\"12688\",\"type\":\"BoxAnnotation\"},{\"attributes\":{\"fill_color\":\"#1f77b4\",\"x\":{\"field\":\"x\"},\"y1\":{\"field\":\"y1\"},\"y2\":{\"field\":\"y2\"}},\"id\":\"12320\",\"type\":\"VArea\"},{\"attributes\":{},\"id\":\"12292\",\"type\":\"LinearScale\"},{\"attributes\":{\"fill_alpha\":0.1,\"fill_color\":\"#1f77b4\",\"x\":{\"field\":\"x\"},\"y1\":{\"field\":\"y1\"},\"y2\":{\"field\":\"y2\"}},\"id\":\"12321\",\"type\":\"VArea\"},{\"attributes\":{},\"id\":\"12297\",\"type\":\"BasicTicker\"},{\"attributes\":{},\"id\":\"12689\",\"type\":\"UnionRenderers\"},{\"attributes\":{},\"id\":\"12302\",\"type\":\"BasicTicker\"},{\"attributes\":{\"source\":{\"id\":\"12319\",\"type\":\"ColumnDataSource\"}},\"id\":\"12323\",\"type\":\"CDSView\"},{\"attributes\":{},\"id\":\"12294\",\"type\":\"LinearScale\"},{\"attributes\":{\"formatter\":{\"id\":\"12687\",\"type\":\"BasicTickFormatter\"},\"ticker\":{\"id\":\"12297\",\"type\":\"BasicTicker\"}},\"id\":\"12296\",\"type\":\"LinearAxis\"},{\"attributes\":{},\"id\":\"12685\",\"type\":\"BasicTickFormatter\"},{\"attributes\":{},\"id\":\"12307\",\"type\":\"WheelZoomTool\"},{\"attributes\":{},\"id\":\"12306\",\"type\":\"PanTool\"},{\"attributes\":{\"data_source\":{\"id\":\"12319\",\"type\":\"ColumnDataSource\"},\"glyph\":{\"id\":\"12320\",\"type\":\"VArea\"},\"hover_glyph\":null,\"muted_glyph\":null,\"nonselection_glyph\":{\"id\":\"12321\",\"type\":\"VArea\"},\"selection_glyph\":null,\"view\":{\"id\":\"12323\",\"type\":\"CDSView\"}},\"id\":\"12322\",\"type\":\"GlyphRenderer\"},{\"attributes\":{\"formatter\":{\"id\":\"12685\",\"type\":\"BasicTickFormatter\"},\"ticker\":{\"id\":\"12302\",\"type\":\"BasicTicker\"}},\"id\":\"12301\",\"type\":\"LinearAxis\"},{\"attributes\":{\"callback\":null,\"data\":{\"x\":[1,2,3,4,5],\"y1\":[2,6,4,3,5],\"y2\":[1,4,2,2,3]},\"selected\":{\"id\":\"12690\",\"type\":\"Selection\"},\"selection_policy\":{\"id\":\"12689\",\"type\":\"UnionRenderers\"}},\"id\":\"12319\",\"type\":\"ColumnDataSource\"},{\"attributes\":{\"active_drag\":\"auto\",\"active_inspect\":\"auto\",\"active_multi\":null,\"active_scroll\":\"auto\",\"active_tap\":\"auto\",\"tools\":[{\"id\":\"12306\",\"type\":\"PanTool\"},{\"id\":\"12307\",\"type\":\"WheelZoomTool\"},{\"id\":\"12308\",\"type\":\"BoxZoomTool\"},{\"id\":\"12309\",\"type\":\"SaveTool\"},{\"id\":\"12310\",\"type\":\"ResetTool\"},{\"id\":\"12311\",\"type\":\"HelpTool\"}]},\"id\":\"12312\",\"type\":\"Toolbar\"},{\"attributes\":{\"dimension\":1,\"ticker\":{\"id\":\"12302\",\"type\":\"BasicTicker\"}},\"id\":\"12305\",\"type\":\"Grid\"},{\"attributes\":{\"ticker\":{\"id\":\"12297\",\"type\":\"BasicTicker\"}},\"id\":\"12300\",\"type\":\"Grid\"},{\"attributes\":{},\"id\":\"12690\",\"type\":\"Selection\"},{\"attributes\":{},\"id\":\"12687\",\"type\":\"BasicTickFormatter\"},{\"attributes\":{\"overlay\":{\"id\":\"12688\",\"type\":\"BoxAnnotation\"}},\"id\":\"12308\",\"type\":\"BoxZoomTool\"},{\"attributes\":{\"text\":\"\"},\"id\":\"12682\",\"type\":\"Title\"},{\"attributes\":{},\"id\":\"12310\",\"type\":\"ResetTool\"},{\"attributes\":{},\"id\":\"12311\",\"type\":\"HelpTool\"},{\"attributes\":{},\"id\":\"12309\",\"type\":\"SaveTool\"}],\"root_ids\":[\"12287\"]},\"title\":\"Bokeh Application\",\"version\":\"1.4.0\"}};\n",
       "  var render_items = [{\"docid\":\"6704f777-6f00-47dd-a555-16dfaf07716f\",\"roots\":{\"12287\":\"462d05d1-b5a5-448e-8963-15f9032af80f\"}}];\n",
       "  root.Bokeh.embed.embed_items_notebook(docs_json, render_items);\n",
       "\n",
       "  }\n",
       "  if (root.Bokeh !== undefined) {\n",
       "    embed_document(root);\n",
       "  } else {\n",
       "    var attempts = 0;\n",
       "    var timer = setInterval(function(root) {\n",
       "      if (root.Bokeh !== undefined) {\n",
       "        clearInterval(timer);\n",
       "        embed_document(root);\n",
       "      } else {\n",
       "        attempts++;\n",
       "        if (attempts > 100) {\n",
       "          clearInterval(timer);\n",
       "          console.log(\"Bokeh: ERROR: Unable to run BokehJS code because BokehJS library is missing\");\n",
       "        }\n",
       "      }\n",
       "    }, 10, root)\n",
       "  }\n",
       "})(window);"
      ],
      "application/vnd.bokehjs_exec.v0+json": ""
     },
     "metadata": {
      "application/vnd.bokehjs_exec.v0+json": {
       "id": "12287"
      }
     },
     "output_type": "display_data"
    }
   ],
   "source": [
    "p = figure(plot_width=500,plot_height=300)\n",
    "p.varea(x=[1, 2, 3, 4, 5],\n",
    "        y1=[2, 6, 4, 3, 5],\n",
    "        y2=[1, 4, 2, 2, 3])\n",
    "show(p)"
   ]
  },
  {
   "cell_type": "markdown",
   "metadata": {},
   "source": [
    "### Patches and Polygons"
   ]
  },
  {
   "cell_type": "code",
   "execution_count": 58,
   "metadata": {},
   "outputs": [
    {
     "data": {
      "text/html": [
       "\n",
       "\n",
       "\n",
       "\n",
       "\n",
       "\n",
       "  <div class=\"bk-root\" id=\"584a85dd-553c-46bf-bc2d-784989823013\" data-root-id=\"13212\"></div>\n"
      ]
     },
     "metadata": {},
     "output_type": "display_data"
    },
    {
     "data": {
      "application/javascript": [
       "(function(root) {\n",
       "  function embed_document(root) {\n",
       "    \n",
       "  var docs_json = {\"8364173f-c7d7-45fc-9646-fa8e2ff3c0d8\":{\"roots\":{\"references\":[{\"attributes\":{\"below\":[{\"id\":\"13221\",\"type\":\"LinearAxis\"}],\"center\":[{\"id\":\"13225\",\"type\":\"Grid\"},{\"id\":\"13230\",\"type\":\"Grid\"}],\"left\":[{\"id\":\"13226\",\"type\":\"LinearAxis\"}],\"plot_height\":400,\"plot_width\":500,\"renderers\":[{\"id\":\"13247\",\"type\":\"GlyphRenderer\"}],\"title\":{\"id\":\"13625\",\"type\":\"Title\"},\"toolbar\":{\"id\":\"13237\",\"type\":\"Toolbar\"},\"x_range\":{\"id\":\"13213\",\"type\":\"DataRange1d\"},\"x_scale\":{\"id\":\"13217\",\"type\":\"LinearScale\"},\"y_range\":{\"id\":\"13215\",\"type\":\"DataRange1d\"},\"y_scale\":{\"id\":\"13219\",\"type\":\"LinearScale\"}},\"id\":\"13212\",\"subtype\":\"Figure\",\"type\":\"Plot\"},{\"attributes\":{},\"id\":\"13632\",\"type\":\"UnionRenderers\"},{\"attributes\":{\"source\":{\"id\":\"13244\",\"type\":\"ColumnDataSource\"}},\"id\":\"13248\",\"type\":\"CDSView\"},{\"attributes\":{},\"id\":\"13217\",\"type\":\"LinearScale\"},{\"attributes\":{},\"id\":\"13628\",\"type\":\"BasicTickFormatter\"},{\"attributes\":{},\"id\":\"13633\",\"type\":\"Selection\"},{\"attributes\":{\"fill_alpha\":0.5,\"fill_color\":\"#1f77b4\",\"line_alpha\":0.5,\"line_color\":\"#1f77b4\",\"line_width\":2,\"x\":{\"field\":\"x\"},\"y\":{\"field\":\"y\"}},\"id\":\"13245\",\"type\":\"Patch\"},{\"attributes\":{\"callback\":null},\"id\":\"13213\",\"type\":\"DataRange1d\"},{\"attributes\":{\"text\":\"\"},\"id\":\"13625\",\"type\":\"Title\"},{\"attributes\":{\"callback\":null},\"id\":\"13215\",\"type\":\"DataRange1d\"},{\"attributes\":{\"formatter\":{\"id\":\"13628\",\"type\":\"BasicTickFormatter\"},\"ticker\":{\"id\":\"13227\",\"type\":\"BasicTicker\"}},\"id\":\"13226\",\"type\":\"LinearAxis\"},{\"attributes\":{\"dimension\":1,\"ticker\":{\"id\":\"13227\",\"type\":\"BasicTicker\"}},\"id\":\"13230\",\"type\":\"Grid\"},{\"attributes\":{\"data_source\":{\"id\":\"13244\",\"type\":\"ColumnDataSource\"},\"glyph\":{\"id\":\"13245\",\"type\":\"Patch\"},\"hover_glyph\":null,\"muted_glyph\":null,\"nonselection_glyph\":{\"id\":\"13246\",\"type\":\"Patch\"},\"selection_glyph\":null,\"view\":{\"id\":\"13248\",\"type\":\"CDSView\"}},\"id\":\"13247\",\"type\":\"GlyphRenderer\"},{\"attributes\":{\"ticker\":{\"id\":\"13222\",\"type\":\"BasicTicker\"}},\"id\":\"13225\",\"type\":\"Grid\"},{\"attributes\":{},\"id\":\"13219\",\"type\":\"LinearScale\"},{\"attributes\":{\"formatter\":{\"id\":\"13630\",\"type\":\"BasicTickFormatter\"},\"ticker\":{\"id\":\"13222\",\"type\":\"BasicTicker\"}},\"id\":\"13221\",\"type\":\"LinearAxis\"},{\"attributes\":{},\"id\":\"13227\",\"type\":\"BasicTicker\"},{\"attributes\":{\"bottom_units\":\"screen\",\"fill_alpha\":{\"value\":0.5},\"fill_color\":{\"value\":\"lightgrey\"},\"left_units\":\"screen\",\"level\":\"overlay\",\"line_alpha\":{\"value\":1.0},\"line_color\":{\"value\":\"black\"},\"line_dash\":[4,4],\"line_width\":{\"value\":2},\"render_mode\":\"css\",\"right_units\":\"screen\",\"top_units\":\"screen\"},\"id\":\"13631\",\"type\":\"BoxAnnotation\"},{\"attributes\":{},\"id\":\"13222\",\"type\":\"BasicTicker\"},{\"attributes\":{\"fill_alpha\":0.1,\"fill_color\":\"#1f77b4\",\"line_alpha\":0.1,\"line_color\":\"#1f77b4\",\"line_width\":2,\"x\":{\"field\":\"x\"},\"y\":{\"field\":\"y\"}},\"id\":\"13246\",\"type\":\"Patch\"},{\"attributes\":{},\"id\":\"13630\",\"type\":\"BasicTickFormatter\"},{\"attributes\":{\"active_drag\":\"auto\",\"active_inspect\":\"auto\",\"active_multi\":null,\"active_scroll\":\"auto\",\"active_tap\":\"auto\",\"tools\":[{\"id\":\"13231\",\"type\":\"PanTool\"},{\"id\":\"13232\",\"type\":\"WheelZoomTool\"},{\"id\":\"13233\",\"type\":\"BoxZoomTool\"},{\"id\":\"13234\",\"type\":\"SaveTool\"},{\"id\":\"13235\",\"type\":\"ResetTool\"},{\"id\":\"13236\",\"type\":\"HelpTool\"}]},\"id\":\"13237\",\"type\":\"Toolbar\"},{\"attributes\":{},\"id\":\"13236\",\"type\":\"HelpTool\"},{\"attributes\":{\"callback\":null,\"data\":{\"x\":[1,2,3,4,5],\"y\":[6,7,8,7,3]},\"selected\":{\"id\":\"13633\",\"type\":\"Selection\"},\"selection_policy\":{\"id\":\"13632\",\"type\":\"UnionRenderers\"}},\"id\":\"13244\",\"type\":\"ColumnDataSource\"},{\"attributes\":{},\"id\":\"13231\",\"type\":\"PanTool\"},{\"attributes\":{},\"id\":\"13234\",\"type\":\"SaveTool\"},{\"attributes\":{},\"id\":\"13232\",\"type\":\"WheelZoomTool\"},{\"attributes\":{\"overlay\":{\"id\":\"13631\",\"type\":\"BoxAnnotation\"}},\"id\":\"13233\",\"type\":\"BoxZoomTool\"},{\"attributes\":{},\"id\":\"13235\",\"type\":\"ResetTool\"}],\"root_ids\":[\"13212\"]},\"title\":\"Bokeh Application\",\"version\":\"1.4.0\"}};\n",
       "  var render_items = [{\"docid\":\"8364173f-c7d7-45fc-9646-fa8e2ff3c0d8\",\"roots\":{\"13212\":\"584a85dd-553c-46bf-bc2d-784989823013\"}}];\n",
       "  root.Bokeh.embed.embed_items_notebook(docs_json, render_items);\n",
       "\n",
       "  }\n",
       "  if (root.Bokeh !== undefined) {\n",
       "    embed_document(root);\n",
       "  } else {\n",
       "    var attempts = 0;\n",
       "    var timer = setInterval(function(root) {\n",
       "      if (root.Bokeh !== undefined) {\n",
       "        clearInterval(timer);\n",
       "        embed_document(root);\n",
       "      } else {\n",
       "        attempts++;\n",
       "        if (attempts > 100) {\n",
       "          clearInterval(timer);\n",
       "          console.log(\"Bokeh: ERROR: Unable to run BokehJS code because BokehJS library is missing\");\n",
       "        }\n",
       "      }\n",
       "    }, 10, root)\n",
       "  }\n",
       "})(window);"
      ],
      "application/vnd.bokehjs_exec.v0+json": ""
     },
     "metadata": {
      "application/vnd.bokehjs_exec.v0+json": {
       "id": "13212"
      }
     },
     "output_type": "display_data"
    }
   ],
   "source": [
    "p = figure(plot_width=500, plot_height=400)\n",
    "\n",
    "# add a patch renderer with an alpha an line width\n",
    "p.patch([1, 2, 3, 4, 5], [6, 7, 8, 7, 3], alpha=0.5, line_width=2)\n",
    "show(p)"
   ]
  },
  {
   "cell_type": "code",
   "execution_count": 60,
   "metadata": {},
   "outputs": [
    {
     "data": {
      "text/html": [
       "\n",
       "\n",
       "\n",
       "\n",
       "\n",
       "\n",
       "  <div class=\"bk-root\" id=\"508f1f0f-c6c2-4088-b403-c0fb4962595b\" data-root-id=\"14173\"></div>\n"
      ]
     },
     "metadata": {},
     "output_type": "display_data"
    },
    {
     "data": {
      "application/javascript": [
       "(function(root) {\n",
       "  function embed_document(root) {\n",
       "    \n",
       "  var docs_json = {\"f097e575-bc5b-4800-b798-a359bb8a5bdf\":{\"roots\":{\"references\":[{\"attributes\":{\"below\":[{\"id\":\"14182\",\"type\":\"LinearAxis\"}],\"center\":[{\"id\":\"14186\",\"type\":\"Grid\"},{\"id\":\"14191\",\"type\":\"Grid\"}],\"left\":[{\"id\":\"14187\",\"type\":\"LinearAxis\"}],\"plot_height\":400,\"plot_width\":500,\"renderers\":[{\"id\":\"14208\",\"type\":\"GlyphRenderer\"}],\"title\":{\"id\":\"14604\",\"type\":\"Title\"},\"toolbar\":{\"id\":\"14198\",\"type\":\"Toolbar\"},\"x_range\":{\"id\":\"14174\",\"type\":\"DataRange1d\"},\"x_scale\":{\"id\":\"14178\",\"type\":\"LinearScale\"},\"y_range\":{\"id\":\"14176\",\"type\":\"DataRange1d\"},\"y_scale\":{\"id\":\"14180\",\"type\":\"LinearScale\"}},\"id\":\"14173\",\"subtype\":\"Figure\",\"type\":\"Plot\"},{\"attributes\":{},\"id\":\"14612\",\"type\":\"Selection\"},{\"attributes\":{},\"id\":\"14609\",\"type\":\"BasicTickFormatter\"},{\"attributes\":{},\"id\":\"14188\",\"type\":\"BasicTicker\"},{\"attributes\":{\"dimension\":1,\"ticker\":{\"id\":\"14188\",\"type\":\"BasicTicker\"}},\"id\":\"14191\",\"type\":\"Grid\"},{\"attributes\":{\"active_drag\":\"auto\",\"active_inspect\":\"auto\",\"active_multi\":null,\"active_scroll\":\"auto\",\"active_tap\":\"auto\",\"tools\":[{\"id\":\"14192\",\"type\":\"PanTool\"},{\"id\":\"14193\",\"type\":\"WheelZoomTool\"},{\"id\":\"14194\",\"type\":\"BoxZoomTool\"},{\"id\":\"14195\",\"type\":\"SaveTool\"},{\"id\":\"14196\",\"type\":\"ResetTool\"},{\"id\":\"14197\",\"type\":\"HelpTool\"}]},\"id\":\"14198\",\"type\":\"Toolbar\"},{\"attributes\":{\"callback\":null,\"data\":{\"fill_alpha\":[0.8,0.3],\"fill_color\":[\"firebrick\",\"navy\"],\"line_alpha\":[0.8,0.3],\"line_color\":[\"firebrick\",\"navy\"],\"xs\":[[1,3,2],[3,4,6,6]],\"ys\":[[2,1,4],[4,7,8,5]]},\"selected\":{\"id\":\"14612\",\"type\":\"Selection\"},\"selection_policy\":{\"id\":\"14611\",\"type\":\"UnionRenderers\"}},\"id\":\"14205\",\"type\":\"ColumnDataSource\"},{\"attributes\":{},\"id\":\"14192\",\"type\":\"PanTool\"},{\"attributes\":{\"callback\":null},\"id\":\"14174\",\"type\":\"DataRange1d\"},{\"attributes\":{},\"id\":\"14193\",\"type\":\"WheelZoomTool\"},{\"attributes\":{},\"id\":\"14183\",\"type\":\"BasicTicker\"},{\"attributes\":{\"text\":\"\"},\"id\":\"14604\",\"type\":\"Title\"},{\"attributes\":{\"overlay\":{\"id\":\"14610\",\"type\":\"BoxAnnotation\"}},\"id\":\"14194\",\"type\":\"BoxZoomTool\"},{\"attributes\":{},\"id\":\"14195\",\"type\":\"SaveTool\"},{\"attributes\":{},\"id\":\"14196\",\"type\":\"ResetTool\"},{\"attributes\":{},\"id\":\"14197\",\"type\":\"HelpTool\"},{\"attributes\":{},\"id\":\"14180\",\"type\":\"LinearScale\"},{\"attributes\":{\"fill_alpha\":{\"value\":0.1},\"fill_color\":{\"value\":\"#1f77b4\"},\"line_alpha\":{\"value\":0.1},\"line_color\":{\"value\":\"#1f77b4\"},\"line_width\":{\"value\":2},\"xs\":{\"field\":\"xs\"},\"ys\":{\"field\":\"ys\"}},\"id\":\"14207\",\"type\":\"Patches\"},{\"attributes\":{\"bottom_units\":\"screen\",\"fill_alpha\":{\"value\":0.5},\"fill_color\":{\"value\":\"lightgrey\"},\"left_units\":\"screen\",\"level\":\"overlay\",\"line_alpha\":{\"value\":1.0},\"line_color\":{\"value\":\"black\"},\"line_dash\":[4,4],\"line_width\":{\"value\":2},\"render_mode\":\"css\",\"right_units\":\"screen\",\"top_units\":\"screen\"},\"id\":\"14610\",\"type\":\"BoxAnnotation\"},{\"attributes\":{\"formatter\":{\"id\":\"14607\",\"type\":\"BasicTickFormatter\"},\"ticker\":{\"id\":\"14188\",\"type\":\"BasicTicker\"}},\"id\":\"14187\",\"type\":\"LinearAxis\"},{\"attributes\":{\"source\":{\"id\":\"14205\",\"type\":\"ColumnDataSource\"}},\"id\":\"14209\",\"type\":\"CDSView\"},{\"attributes\":{\"data_source\":{\"id\":\"14205\",\"type\":\"ColumnDataSource\"},\"glyph\":{\"id\":\"14206\",\"type\":\"Patches\"},\"hover_glyph\":null,\"muted_glyph\":null,\"nonselection_glyph\":{\"id\":\"14207\",\"type\":\"Patches\"},\"selection_glyph\":null,\"view\":{\"id\":\"14209\",\"type\":\"CDSView\"}},\"id\":\"14208\",\"type\":\"GlyphRenderer\"},{\"attributes\":{},\"id\":\"14611\",\"type\":\"UnionRenderers\"},{\"attributes\":{\"fill_alpha\":{\"field\":\"fill_alpha\"},\"fill_color\":{\"field\":\"fill_color\"},\"line_alpha\":{\"field\":\"line_alpha\"},\"line_color\":{\"field\":\"line_color\"},\"line_width\":{\"value\":2},\"xs\":{\"field\":\"xs\"},\"ys\":{\"field\":\"ys\"}},\"id\":\"14206\",\"type\":\"Patches\"},{\"attributes\":{\"callback\":null},\"id\":\"14176\",\"type\":\"DataRange1d\"},{\"attributes\":{\"ticker\":{\"id\":\"14183\",\"type\":\"BasicTicker\"}},\"id\":\"14186\",\"type\":\"Grid\"},{\"attributes\":{},\"id\":\"14607\",\"type\":\"BasicTickFormatter\"},{\"attributes\":{\"formatter\":{\"id\":\"14609\",\"type\":\"BasicTickFormatter\"},\"ticker\":{\"id\":\"14183\",\"type\":\"BasicTicker\"}},\"id\":\"14182\",\"type\":\"LinearAxis\"},{\"attributes\":{},\"id\":\"14178\",\"type\":\"LinearScale\"}],\"root_ids\":[\"14173\"]},\"title\":\"Bokeh Application\",\"version\":\"1.4.0\"}};\n",
       "  var render_items = [{\"docid\":\"f097e575-bc5b-4800-b798-a359bb8a5bdf\",\"roots\":{\"14173\":\"508f1f0f-c6c2-4088-b403-c0fb4962595b\"}}];\n",
       "  root.Bokeh.embed.embed_items_notebook(docs_json, render_items);\n",
       "\n",
       "  }\n",
       "  if (root.Bokeh !== undefined) {\n",
       "    embed_document(root);\n",
       "  } else {\n",
       "    var attempts = 0;\n",
       "    var timer = setInterval(function(root) {\n",
       "      if (root.Bokeh !== undefined) {\n",
       "        clearInterval(timer);\n",
       "        embed_document(root);\n",
       "      } else {\n",
       "        attempts++;\n",
       "        if (attempts > 100) {\n",
       "          clearInterval(timer);\n",
       "          console.log(\"Bokeh: ERROR: Unable to run BokehJS code because BokehJS library is missing\");\n",
       "        }\n",
       "      }\n",
       "    }, 10, root)\n",
       "  }\n",
       "})(window);"
      ],
      "application/vnd.bokehjs_exec.v0+json": ""
     },
     "metadata": {
      "application/vnd.bokehjs_exec.v0+json": {
       "id": "14173"
      }
     },
     "output_type": "display_data"
    }
   ],
   "source": [
    "p = figure(plot_width=500, plot_height=400)\n",
    "\n",
    "p.patches([[1, 3, 2], [3, 4, 6, 6]], [[2, 1, 4], [4, 7, 8, 5]],\n",
    "          color=[\"firebrick\", \"navy\"], alpha=[0.8, 0.3], line_width=2)\n",
    "\n",
    "show(p)"
   ]
  },
  {
   "cell_type": "code",
   "execution_count": 61,
   "metadata": {},
   "outputs": [
    {
     "data": {
      "text/html": [
       "\n",
       "\n",
       "\n",
       "\n",
       "\n",
       "\n",
       "  <div class=\"bk-root\" id=\"04561c1e-7cad-433c-a90e-da85dffbec69\" data-root-id=\"14667\"></div>\n"
      ]
     },
     "metadata": {},
     "output_type": "display_data"
    },
    {
     "data": {
      "application/javascript": [
       "(function(root) {\n",
       "  function embed_document(root) {\n",
       "    \n",
       "  var docs_json = {\"ed0f195c-3889-4271-953c-b10aee8c7a2b\":{\"roots\":{\"references\":[{\"attributes\":{\"below\":[{\"id\":\"14676\",\"type\":\"LinearAxis\"}],\"center\":[{\"id\":\"14680\",\"type\":\"Grid\"},{\"id\":\"14685\",\"type\":\"Grid\"}],\"left\":[{\"id\":\"14681\",\"type\":\"LinearAxis\"}],\"plot_height\":400,\"plot_width\":500,\"renderers\":[{\"id\":\"14702\",\"type\":\"GlyphRenderer\"}],\"title\":{\"id\":\"15107\",\"type\":\"Title\"},\"toolbar\":{\"id\":\"14692\",\"type\":\"Toolbar\"},\"x_range\":{\"id\":\"14668\",\"type\":\"DataRange1d\"},\"x_scale\":{\"id\":\"14672\",\"type\":\"LinearScale\"},\"y_range\":{\"id\":\"14670\",\"type\":\"DataRange1d\"},\"y_scale\":{\"id\":\"14674\",\"type\":\"LinearScale\"}},\"id\":\"14667\",\"subtype\":\"Figure\",\"type\":\"Plot\"},{\"attributes\":{},\"id\":\"15110\",\"type\":\"BasicTickFormatter\"},{\"attributes\":{},\"id\":\"14672\",\"type\":\"LinearScale\"},{\"attributes\":{},\"id\":\"14674\",\"type\":\"LinearScale\"},{\"attributes\":{\"fill_alpha\":0.5,\"fill_color\":\"#1f77b4\",\"line_alpha\":0.5,\"line_color\":\"#1f77b4\",\"line_width\":2,\"x\":{\"field\":\"x\"},\"y\":{\"field\":\"y\"}},\"id\":\"14700\",\"type\":\"Patch\"},{\"attributes\":{\"formatter\":{\"id\":\"15110\",\"type\":\"BasicTickFormatter\"},\"ticker\":{\"id\":\"14682\",\"type\":\"BasicTicker\"}},\"id\":\"14681\",\"type\":\"LinearAxis\"},{\"attributes\":{\"dimension\":1,\"ticker\":{\"id\":\"14682\",\"type\":\"BasicTicker\"}},\"id\":\"14685\",\"type\":\"Grid\"},{\"attributes\":{\"ticker\":{\"id\":\"14677\",\"type\":\"BasicTicker\"}},\"id\":\"14680\",\"type\":\"Grid\"},{\"attributes\":{},\"id\":\"14677\",\"type\":\"BasicTicker\"},{\"attributes\":{},\"id\":\"14682\",\"type\":\"BasicTicker\"},{\"attributes\":{},\"id\":\"15115\",\"type\":\"Selection\"},{\"attributes\":{\"formatter\":{\"id\":\"15112\",\"type\":\"BasicTickFormatter\"},\"ticker\":{\"id\":\"14677\",\"type\":\"BasicTicker\"}},\"id\":\"14676\",\"type\":\"LinearAxis\"},{\"attributes\":{},\"id\":\"14686\",\"type\":\"PanTool\"},{\"attributes\":{},\"id\":\"15114\",\"type\":\"UnionRenderers\"},{\"attributes\":{},\"id\":\"14687\",\"type\":\"WheelZoomTool\"},{\"attributes\":{\"callback\":null,\"data\":{\"x\":[1,2,3,\"NaN\",4,5,6],\"y\":[6,7,5,\"NaN\",7,3,6]},\"selected\":{\"id\":\"15115\",\"type\":\"Selection\"},\"selection_policy\":{\"id\":\"15114\",\"type\":\"UnionRenderers\"}},\"id\":\"14699\",\"type\":\"ColumnDataSource\"},{\"attributes\":{\"active_drag\":\"auto\",\"active_inspect\":\"auto\",\"active_multi\":null,\"active_scroll\":\"auto\",\"active_tap\":\"auto\",\"tools\":[{\"id\":\"14686\",\"type\":\"PanTool\"},{\"id\":\"14687\",\"type\":\"WheelZoomTool\"},{\"id\":\"14688\",\"type\":\"BoxZoomTool\"},{\"id\":\"14689\",\"type\":\"SaveTool\"},{\"id\":\"14690\",\"type\":\"ResetTool\"},{\"id\":\"14691\",\"type\":\"HelpTool\"}]},\"id\":\"14692\",\"type\":\"Toolbar\"},{\"attributes\":{},\"id\":\"15112\",\"type\":\"BasicTickFormatter\"},{\"attributes\":{\"overlay\":{\"id\":\"15113\",\"type\":\"BoxAnnotation\"}},\"id\":\"14688\",\"type\":\"BoxZoomTool\"},{\"attributes\":{\"callback\":null},\"id\":\"14668\",\"type\":\"DataRange1d\"},{\"attributes\":{},\"id\":\"14689\",\"type\":\"SaveTool\"},{\"attributes\":{},\"id\":\"14690\",\"type\":\"ResetTool\"},{\"attributes\":{\"callback\":null},\"id\":\"14670\",\"type\":\"DataRange1d\"},{\"attributes\":{},\"id\":\"14691\",\"type\":\"HelpTool\"},{\"attributes\":{\"data_source\":{\"id\":\"14699\",\"type\":\"ColumnDataSource\"},\"glyph\":{\"id\":\"14700\",\"type\":\"Patch\"},\"hover_glyph\":null,\"muted_glyph\":null,\"nonselection_glyph\":{\"id\":\"14701\",\"type\":\"Patch\"},\"selection_glyph\":null,\"view\":{\"id\":\"14703\",\"type\":\"CDSView\"}},\"id\":\"14702\",\"type\":\"GlyphRenderer\"},{\"attributes\":{\"bottom_units\":\"screen\",\"fill_alpha\":{\"value\":0.5},\"fill_color\":{\"value\":\"lightgrey\"},\"left_units\":\"screen\",\"level\":\"overlay\",\"line_alpha\":{\"value\":1.0},\"line_color\":{\"value\":\"black\"},\"line_dash\":[4,4],\"line_width\":{\"value\":2},\"render_mode\":\"css\",\"right_units\":\"screen\",\"top_units\":\"screen\"},\"id\":\"15113\",\"type\":\"BoxAnnotation\"},{\"attributes\":{\"source\":{\"id\":\"14699\",\"type\":\"ColumnDataSource\"}},\"id\":\"14703\",\"type\":\"CDSView\"},{\"attributes\":{\"text\":\"\"},\"id\":\"15107\",\"type\":\"Title\"},{\"attributes\":{\"fill_alpha\":0.1,\"fill_color\":\"#1f77b4\",\"line_alpha\":0.1,\"line_color\":\"#1f77b4\",\"line_width\":2,\"x\":{\"field\":\"x\"},\"y\":{\"field\":\"y\"}},\"id\":\"14701\",\"type\":\"Patch\"}],\"root_ids\":[\"14667\"]},\"title\":\"Bokeh Application\",\"version\":\"1.4.0\"}};\n",
       "  var render_items = [{\"docid\":\"ed0f195c-3889-4271-953c-b10aee8c7a2b\",\"roots\":{\"14667\":\"04561c1e-7cad-433c-a90e-da85dffbec69\"}}];\n",
       "  root.Bokeh.embed.embed_items_notebook(docs_json, render_items);\n",
       "\n",
       "  }\n",
       "  if (root.Bokeh !== undefined) {\n",
       "    embed_document(root);\n",
       "  } else {\n",
       "    var attempts = 0;\n",
       "    var timer = setInterval(function(root) {\n",
       "      if (root.Bokeh !== undefined) {\n",
       "        clearInterval(timer);\n",
       "        embed_document(root);\n",
       "      } else {\n",
       "        attempts++;\n",
       "        if (attempts > 100) {\n",
       "          clearInterval(timer);\n",
       "          console.log(\"Bokeh: ERROR: Unable to run BokehJS code because BokehJS library is missing\");\n",
       "        }\n",
       "      }\n",
       "    }, 10, root)\n",
       "  }\n",
       "})(window);"
      ],
      "application/vnd.bokehjs_exec.v0+json": ""
     },
     "metadata": {
      "application/vnd.bokehjs_exec.v0+json": {
       "id": "14667"
      }
     },
     "output_type": "display_data"
    }
   ],
   "source": [
    "p = figure(plot_width=500, plot_height=400)\n",
    "\n",
    "# add a patch renderer with a NaN value\n",
    "nan = float('nan')\n",
    "p.patch([1, 2, 3, nan, 4, 5, 6], [6, 7, 5, nan, 7, 3, 6], alpha=0.5, line_width=2)\n",
    "\n",
    "show(p)"
   ]
  },
  {
   "cell_type": "markdown",
   "metadata": {},
   "source": [
    "### Ovals and Ellipses"
   ]
  },
  {
   "cell_type": "code",
   "execution_count": 62,
   "metadata": {},
   "outputs": [
    {
     "data": {
      "text/html": [
       "\n",
       "\n",
       "\n",
       "\n",
       "\n",
       "\n",
       "  <div class=\"bk-root\" id=\"79cc76a9-30f4-483c-b384-80441a0e778c\" data-root-id=\"15170\"></div>\n"
      ]
     },
     "metadata": {},
     "output_type": "display_data"
    },
    {
     "data": {
      "application/javascript": [
       "(function(root) {\n",
       "  function embed_document(root) {\n",
       "    \n",
       "  var docs_json = {\"112daf37-862b-41e3-8754-db974e6ad4cf\":{\"roots\":{\"references\":[{\"attributes\":{\"below\":[{\"id\":\"15179\",\"type\":\"LinearAxis\"}],\"center\":[{\"id\":\"15183\",\"type\":\"Grid\"},{\"id\":\"15188\",\"type\":\"Grid\"}],\"left\":[{\"id\":\"15184\",\"type\":\"LinearAxis\"}],\"plot_height\":400,\"renderers\":[{\"id\":\"15205\",\"type\":\"GlyphRenderer\"}],\"title\":{\"id\":\"15619\",\"type\":\"Title\"},\"toolbar\":{\"id\":\"15195\",\"type\":\"Toolbar\"},\"x_range\":{\"id\":\"15171\",\"type\":\"DataRange1d\"},\"x_scale\":{\"id\":\"15175\",\"type\":\"LinearScale\"},\"y_range\":{\"id\":\"15173\",\"type\":\"DataRange1d\"},\"y_scale\":{\"id\":\"15177\",\"type\":\"LinearScale\"}},\"id\":\"15170\",\"subtype\":\"Figure\",\"type\":\"Plot\"},{\"attributes\":{\"angle\":{\"units\":\"rad\",\"value\":1.0471975511965976},\"fill_color\":{\"value\":\"#CAB2D6\"},\"height\":{\"units\":\"screen\",\"value\":40},\"line_color\":{\"value\":\"#CAB2D6\"},\"width\":{\"units\":\"data\",\"value\":0.2},\"x\":{\"field\":\"x\"},\"y\":{\"field\":\"y\"}},\"id\":\"15203\",\"type\":\"Oval\"},{\"attributes\":{\"source\":{\"id\":\"15202\",\"type\":\"ColumnDataSource\"}},\"id\":\"15206\",\"type\":\"CDSView\"},{\"attributes\":{\"active_drag\":\"auto\",\"active_inspect\":\"auto\",\"active_multi\":null,\"active_scroll\":\"auto\",\"active_tap\":\"auto\",\"tools\":[{\"id\":\"15189\",\"type\":\"PanTool\"},{\"id\":\"15190\",\"type\":\"WheelZoomTool\"},{\"id\":\"15191\",\"type\":\"BoxZoomTool\"},{\"id\":\"15192\",\"type\":\"SaveTool\"},{\"id\":\"15193\",\"type\":\"ResetTool\"},{\"id\":\"15194\",\"type\":\"HelpTool\"}]},\"id\":\"15195\",\"type\":\"Toolbar\"},{\"attributes\":{},\"id\":\"15622\",\"type\":\"BasicTickFormatter\"},{\"attributes\":{},\"id\":\"15189\",\"type\":\"PanTool\"},{\"attributes\":{},\"id\":\"15190\",\"type\":\"WheelZoomTool\"},{\"attributes\":{\"overlay\":{\"id\":\"15625\",\"type\":\"BoxAnnotation\"}},\"id\":\"15191\",\"type\":\"BoxZoomTool\"},{\"attributes\":{},\"id\":\"15192\",\"type\":\"SaveTool\"},{\"attributes\":{\"formatter\":{\"id\":\"15622\",\"type\":\"BasicTickFormatter\"},\"ticker\":{\"id\":\"15185\",\"type\":\"BasicTicker\"}},\"id\":\"15184\",\"type\":\"LinearAxis\"},{\"attributes\":{},\"id\":\"15193\",\"type\":\"ResetTool\"},{\"attributes\":{},\"id\":\"15194\",\"type\":\"HelpTool\"},{\"attributes\":{\"angle\":{\"units\":\"rad\",\"value\":1.0471975511965976},\"fill_alpha\":{\"value\":0.1},\"fill_color\":{\"value\":\"#1f77b4\"},\"height\":{\"units\":\"screen\",\"value\":40},\"line_alpha\":{\"value\":0.1},\"line_color\":{\"value\":\"#1f77b4\"},\"width\":{\"units\":\"data\",\"value\":0.2},\"x\":{\"field\":\"x\"},\"y\":{\"field\":\"y\"}},\"id\":\"15204\",\"type\":\"Oval\"},{\"attributes\":{},\"id\":\"15185\",\"type\":\"BasicTicker\"},{\"attributes\":{\"ticker\":{\"id\":\"15180\",\"type\":\"BasicTicker\"}},\"id\":\"15183\",\"type\":\"Grid\"},{\"attributes\":{},\"id\":\"15627\",\"type\":\"Selection\"},{\"attributes\":{\"data_source\":{\"id\":\"15202\",\"type\":\"ColumnDataSource\"},\"glyph\":{\"id\":\"15203\",\"type\":\"Oval\"},\"hover_glyph\":null,\"muted_glyph\":null,\"nonselection_glyph\":{\"id\":\"15204\",\"type\":\"Oval\"},\"selection_glyph\":null,\"view\":{\"id\":\"15206\",\"type\":\"CDSView\"}},\"id\":\"15205\",\"type\":\"GlyphRenderer\"},{\"attributes\":{},\"id\":\"15626\",\"type\":\"UnionRenderers\"},{\"attributes\":{\"dimension\":1,\"ticker\":{\"id\":\"15185\",\"type\":\"BasicTicker\"}},\"id\":\"15188\",\"type\":\"Grid\"},{\"attributes\":{},\"id\":\"15624\",\"type\":\"BasicTickFormatter\"},{\"attributes\":{\"formatter\":{\"id\":\"15624\",\"type\":\"BasicTickFormatter\"},\"ticker\":{\"id\":\"15180\",\"type\":\"BasicTicker\"}},\"id\":\"15179\",\"type\":\"LinearAxis\"},{\"attributes\":{},\"id\":\"15177\",\"type\":\"LinearScale\"},{\"attributes\":{},\"id\":\"15175\",\"type\":\"LinearScale\"},{\"attributes\":{\"callback\":null,\"data\":{\"x\":[1,2,3],\"y\":[1,2,3]},\"selected\":{\"id\":\"15627\",\"type\":\"Selection\"},\"selection_policy\":{\"id\":\"15626\",\"type\":\"UnionRenderers\"}},\"id\":\"15202\",\"type\":\"ColumnDataSource\"},{\"attributes\":{\"callback\":null},\"id\":\"15173\",\"type\":\"DataRange1d\"},{\"attributes\":{\"text\":\"\"},\"id\":\"15619\",\"type\":\"Title\"},{\"attributes\":{\"bottom_units\":\"screen\",\"fill_alpha\":{\"value\":0.5},\"fill_color\":{\"value\":\"lightgrey\"},\"left_units\":\"screen\",\"level\":\"overlay\",\"line_alpha\":{\"value\":1.0},\"line_color\":{\"value\":\"black\"},\"line_dash\":[4,4],\"line_width\":{\"value\":2},\"render_mode\":\"css\",\"right_units\":\"screen\",\"top_units\":\"screen\"},\"id\":\"15625\",\"type\":\"BoxAnnotation\"},{\"attributes\":{\"callback\":null},\"id\":\"15171\",\"type\":\"DataRange1d\"},{\"attributes\":{},\"id\":\"15180\",\"type\":\"BasicTicker\"}],\"root_ids\":[\"15170\"]},\"title\":\"Bokeh Application\",\"version\":\"1.4.0\"}};\n",
       "  var render_items = [{\"docid\":\"112daf37-862b-41e3-8754-db974e6ad4cf\",\"roots\":{\"15170\":\"79cc76a9-30f4-483c-b384-80441a0e778c\"}}];\n",
       "  root.Bokeh.embed.embed_items_notebook(docs_json, render_items);\n",
       "\n",
       "  }\n",
       "  if (root.Bokeh !== undefined) {\n",
       "    embed_document(root);\n",
       "  } else {\n",
       "    var attempts = 0;\n",
       "    var timer = setInterval(function(root) {\n",
       "      if (root.Bokeh !== undefined) {\n",
       "        clearInterval(timer);\n",
       "        embed_document(root);\n",
       "      } else {\n",
       "        attempts++;\n",
       "        if (attempts > 100) {\n",
       "          clearInterval(timer);\n",
       "          console.log(\"Bokeh: ERROR: Unable to run BokehJS code because BokehJS library is missing\");\n",
       "        }\n",
       "      }\n",
       "    }, 10, root)\n",
       "  }\n",
       "})(window);"
      ],
      "application/vnd.bokehjs_exec.v0+json": ""
     },
     "metadata": {
      "application/vnd.bokehjs_exec.v0+json": {
       "id": "15170"
      }
     },
     "output_type": "display_data"
    }
   ],
   "source": [
    "p = figure(plot_width=600, plot_height=400)\n",
    "p.oval(x=[1, 2, 3], y=[1, 2, 3], width=0.2, height=40, color=\"#CAB2D6\",\n",
    "       angle=pi/3, height_units=\"screen\")\n",
    "\n",
    "show(p)"
   ]
  },
  {
   "cell_type": "code",
   "execution_count": 63,
   "metadata": {
    "scrolled": true
   },
   "outputs": [
    {
     "data": {
      "text/html": [
       "\n",
       "\n",
       "\n",
       "\n",
       "\n",
       "\n",
       "  <div class=\"bk-root\" id=\"5a4ab5f3-1dd3-4823-b42c-3caf0e76a86f\" data-root-id=\"15682\"></div>\n"
      ]
     },
     "metadata": {},
     "output_type": "display_data"
    },
    {
     "data": {
      "application/javascript": [
       "(function(root) {\n",
       "  function embed_document(root) {\n",
       "    \n",
       "  var docs_json = {\"2afd376a-5ea0-4b24-8e3f-d27030f3d3c3\":{\"roots\":{\"references\":[{\"attributes\":{\"below\":[{\"id\":\"15691\",\"type\":\"LinearAxis\"}],\"center\":[{\"id\":\"15695\",\"type\":\"Grid\"},{\"id\":\"15700\",\"type\":\"Grid\"}],\"left\":[{\"id\":\"15696\",\"type\":\"LinearAxis\"}],\"plot_height\":400,\"plot_width\":400,\"renderers\":[{\"id\":\"15717\",\"type\":\"GlyphRenderer\"}],\"title\":{\"id\":\"16140\",\"type\":\"Title\"},\"toolbar\":{\"id\":\"15707\",\"type\":\"Toolbar\"},\"x_range\":{\"id\":\"15683\",\"type\":\"DataRange1d\"},\"x_scale\":{\"id\":\"15687\",\"type\":\"LinearScale\"},\"y_range\":{\"id\":\"15685\",\"type\":\"DataRange1d\"},\"y_scale\":{\"id\":\"15689\",\"type\":\"LinearScale\"}},\"id\":\"15682\",\"subtype\":\"Figure\",\"type\":\"Plot\"},{\"attributes\":{},\"id\":\"15692\",\"type\":\"BasicTicker\"},{\"attributes\":{\"text\":\"\"},\"id\":\"16140\",\"type\":\"Title\"},{\"attributes\":{\"formatter\":{\"id\":\"16145\",\"type\":\"BasicTickFormatter\"},\"ticker\":{\"id\":\"15692\",\"type\":\"BasicTicker\"}},\"id\":\"15691\",\"type\":\"LinearAxis\"},{\"attributes\":{},\"id\":\"15689\",\"type\":\"LinearScale\"},{\"attributes\":{\"bottom_units\":\"screen\",\"fill_alpha\":{\"value\":0.5},\"fill_color\":{\"value\":\"lightgrey\"},\"left_units\":\"screen\",\"level\":\"overlay\",\"line_alpha\":{\"value\":1.0},\"line_color\":{\"value\":\"black\"},\"line_dash\":[4,4],\"line_width\":{\"value\":2},\"render_mode\":\"css\",\"right_units\":\"screen\",\"top_units\":\"screen\"},\"id\":\"16146\",\"type\":\"BoxAnnotation\"},{\"attributes\":{},\"id\":\"15687\",\"type\":\"LinearScale\"},{\"attributes\":{\"callback\":null},\"id\":\"15685\",\"type\":\"DataRange1d\"},{\"attributes\":{},\"id\":\"16145\",\"type\":\"BasicTickFormatter\"},{\"attributes\":{\"callback\":null,\"data\":{\"width\":[0.2,0.3,0.1],\"x\":[1,2,3],\"y\":[1,2,3]},\"selected\":{\"id\":\"16148\",\"type\":\"Selection\"},\"selection_policy\":{\"id\":\"16147\",\"type\":\"UnionRenderers\"}},\"id\":\"15714\",\"type\":\"ColumnDataSource\"},{\"attributes\":{},\"id\":\"15697\",\"type\":\"BasicTicker\"},{\"attributes\":{\"ticker\":{\"id\":\"15692\",\"type\":\"BasicTicker\"}},\"id\":\"15695\",\"type\":\"Grid\"},{\"attributes\":{},\"id\":\"16143\",\"type\":\"BasicTickFormatter\"},{\"attributes\":{\"overlay\":{\"id\":\"16146\",\"type\":\"BoxAnnotation\"}},\"id\":\"15703\",\"type\":\"BoxZoomTool\"},{\"attributes\":{},\"id\":\"15702\",\"type\":\"WheelZoomTool\"},{\"attributes\":{},\"id\":\"15701\",\"type\":\"PanTool\"},{\"attributes\":{\"active_drag\":\"auto\",\"active_inspect\":\"auto\",\"active_multi\":null,\"active_scroll\":\"auto\",\"active_tap\":\"auto\",\"tools\":[{\"id\":\"15701\",\"type\":\"PanTool\"},{\"id\":\"15702\",\"type\":\"WheelZoomTool\"},{\"id\":\"15703\",\"type\":\"BoxZoomTool\"},{\"id\":\"15704\",\"type\":\"SaveTool\"},{\"id\":\"15705\",\"type\":\"ResetTool\"},{\"id\":\"15706\",\"type\":\"HelpTool\"}]},\"id\":\"15707\",\"type\":\"Toolbar\"},{\"attributes\":{\"dimension\":1,\"ticker\":{\"id\":\"15697\",\"type\":\"BasicTicker\"}},\"id\":\"15700\",\"type\":\"Grid\"},{\"attributes\":{\"formatter\":{\"id\":\"16143\",\"type\":\"BasicTickFormatter\"},\"ticker\":{\"id\":\"15697\",\"type\":\"BasicTicker\"}},\"id\":\"15696\",\"type\":\"LinearAxis\"},{\"attributes\":{\"data_source\":{\"id\":\"15714\",\"type\":\"ColumnDataSource\"},\"glyph\":{\"id\":\"15715\",\"type\":\"Ellipse\"},\"hover_glyph\":null,\"muted_glyph\":null,\"nonselection_glyph\":{\"id\":\"15716\",\"type\":\"Ellipse\"},\"selection_glyph\":null,\"view\":{\"id\":\"15718\",\"type\":\"CDSView\"}},\"id\":\"15717\",\"type\":\"GlyphRenderer\"},{\"attributes\":{},\"id\":\"15704\",\"type\":\"SaveTool\"},{\"attributes\":{},\"id\":\"15705\",\"type\":\"ResetTool\"},{\"attributes\":{\"callback\":null},\"id\":\"15683\",\"type\":\"DataRange1d\"},{\"attributes\":{},\"id\":\"15706\",\"type\":\"HelpTool\"},{\"attributes\":{\"angle\":{\"units\":\"rad\",\"value\":1.0471975511965976},\"fill_alpha\":{\"value\":0.1},\"fill_color\":{\"value\":\"#1f77b4\"},\"height\":{\"units\":\"screen\",\"value\":40},\"line_alpha\":{\"value\":0.1},\"line_color\":{\"value\":\"#1f77b4\"},\"width\":{\"field\":\"width\",\"units\":\"data\"},\"x\":{\"field\":\"x\"},\"y\":{\"field\":\"y\"}},\"id\":\"15716\",\"type\":\"Ellipse\"},{\"attributes\":{\"angle\":{\"units\":\"rad\",\"value\":1.0471975511965976},\"fill_color\":{\"value\":\"#CAB2D6\"},\"height\":{\"units\":\"screen\",\"value\":40},\"line_color\":{\"value\":\"#CAB2D6\"},\"width\":{\"field\":\"width\",\"units\":\"data\"},\"x\":{\"field\":\"x\"},\"y\":{\"field\":\"y\"}},\"id\":\"15715\",\"type\":\"Ellipse\"},{\"attributes\":{\"source\":{\"id\":\"15714\",\"type\":\"ColumnDataSource\"}},\"id\":\"15718\",\"type\":\"CDSView\"},{\"attributes\":{},\"id\":\"16147\",\"type\":\"UnionRenderers\"},{\"attributes\":{},\"id\":\"16148\",\"type\":\"Selection\"}],\"root_ids\":[\"15682\"]},\"title\":\"Bokeh Application\",\"version\":\"1.4.0\"}};\n",
       "  var render_items = [{\"docid\":\"2afd376a-5ea0-4b24-8e3f-d27030f3d3c3\",\"roots\":{\"15682\":\"5a4ab5f3-1dd3-4823-b42c-3caf0e76a86f\"}}];\n",
       "  root.Bokeh.embed.embed_items_notebook(docs_json, render_items);\n",
       "\n",
       "  }\n",
       "  if (root.Bokeh !== undefined) {\n",
       "    embed_document(root);\n",
       "  } else {\n",
       "    var attempts = 0;\n",
       "    var timer = setInterval(function(root) {\n",
       "      if (root.Bokeh !== undefined) {\n",
       "        clearInterval(timer);\n",
       "        embed_document(root);\n",
       "      } else {\n",
       "        attempts++;\n",
       "        if (attempts > 100) {\n",
       "          clearInterval(timer);\n",
       "          console.log(\"Bokeh: ERROR: Unable to run BokehJS code because BokehJS library is missing\");\n",
       "        }\n",
       "      }\n",
       "    }, 10, root)\n",
       "  }\n",
       "})(window);"
      ],
      "application/vnd.bokehjs_exec.v0+json": ""
     },
     "metadata": {
      "application/vnd.bokehjs_exec.v0+json": {
       "id": "15682"
      }
     },
     "output_type": "display_data"
    }
   ],
   "source": [
    "p = figure(plot_width=400, plot_height=400)\n",
    "p.ellipse(x=[1, 2, 3], y=[1, 2, 3],width=[0.2, 0.3, 0.1], height=40, color=\"#CAB2D6\",\n",
    "       angle=pi/3, height_units=\"screen\")\n",
    "\n",
    "show(p)"
   ]
  },
  {
   "cell_type": "markdown",
   "metadata": {},
   "source": [
    "### Wedge"
   ]
  },
  {
   "cell_type": "code",
   "execution_count": 64,
   "metadata": {},
   "outputs": [
    {
     "data": {
      "text/html": [
       "\n",
       "\n",
       "\n",
       "\n",
       "\n",
       "\n",
       "  <div class=\"bk-root\" id=\"8ab47acf-4976-4c82-9f5e-480ff8b0ad76\" data-root-id=\"16203\"></div>\n"
      ]
     },
     "metadata": {},
     "output_type": "display_data"
    },
    {
     "data": {
      "application/javascript": [
       "(function(root) {\n",
       "  function embed_document(root) {\n",
       "    \n",
       "  var docs_json = {\"644fd2fc-adb3-491e-a47a-9ab7662ce404\":{\"roots\":{\"references\":[{\"attributes\":{\"below\":[{\"id\":\"16212\",\"type\":\"LinearAxis\"}],\"center\":[{\"id\":\"16216\",\"type\":\"Grid\"},{\"id\":\"16221\",\"type\":\"Grid\"}],\"left\":[{\"id\":\"16217\",\"type\":\"LinearAxis\"}],\"plot_height\":400,\"plot_width\":500,\"renderers\":[{\"id\":\"16238\",\"type\":\"GlyphRenderer\"}],\"title\":{\"id\":\"16670\",\"type\":\"Title\"},\"toolbar\":{\"id\":\"16228\",\"type\":\"Toolbar\"},\"x_range\":{\"id\":\"16204\",\"type\":\"DataRange1d\"},\"x_scale\":{\"id\":\"16208\",\"type\":\"LinearScale\"},\"y_range\":{\"id\":\"16206\",\"type\":\"DataRange1d\"},\"y_scale\":{\"id\":\"16210\",\"type\":\"LinearScale\"}},\"id\":\"16203\",\"subtype\":\"Figure\",\"type\":\"Plot\"},{\"attributes\":{\"dimension\":1,\"ticker\":{\"id\":\"16218\",\"type\":\"BasicTicker\"}},\"id\":\"16221\",\"type\":\"Grid\"},{\"attributes\":{},\"id\":\"16673\",\"type\":\"BasicTickFormatter\"},{\"attributes\":{\"formatter\":{\"id\":\"16673\",\"type\":\"BasicTickFormatter\"},\"ticker\":{\"id\":\"16218\",\"type\":\"BasicTicker\"}},\"id\":\"16217\",\"type\":\"LinearAxis\"},{\"attributes\":{\"bottom_units\":\"screen\",\"fill_alpha\":{\"value\":0.5},\"fill_color\":{\"value\":\"lightgrey\"},\"left_units\":\"screen\",\"level\":\"overlay\",\"line_alpha\":{\"value\":1.0},\"line_color\":{\"value\":\"black\"},\"line_dash\":[4,4],\"line_width\":{\"value\":2},\"render_mode\":\"css\",\"right_units\":\"screen\",\"top_units\":\"screen\"},\"id\":\"16676\",\"type\":\"BoxAnnotation\"},{\"attributes\":{\"active_drag\":\"auto\",\"active_inspect\":\"auto\",\"active_multi\":null,\"active_scroll\":\"auto\",\"active_tap\":\"auto\",\"tools\":[{\"id\":\"16222\",\"type\":\"PanTool\"},{\"id\":\"16223\",\"type\":\"WheelZoomTool\"},{\"id\":\"16224\",\"type\":\"BoxZoomTool\"},{\"id\":\"16225\",\"type\":\"SaveTool\"},{\"id\":\"16226\",\"type\":\"ResetTool\"},{\"id\":\"16227\",\"type\":\"HelpTool\"}]},\"id\":\"16228\",\"type\":\"Toolbar\"},{\"attributes\":{},\"id\":\"16218\",\"type\":\"BasicTicker\"},{\"attributes\":{},\"id\":\"16213\",\"type\":\"BasicTicker\"},{\"attributes\":{\"source\":{\"id\":\"16235\",\"type\":\"ColumnDataSource\"}},\"id\":\"16239\",\"type\":\"CDSView\"},{\"attributes\":{\"callback\":null,\"data\":{\"x\":[1,2,3],\"y\":[1,2,3]},\"selected\":{\"id\":\"16678\",\"type\":\"Selection\"},\"selection_policy\":{\"id\":\"16677\",\"type\":\"UnionRenderers\"}},\"id\":\"16235\",\"type\":\"ColumnDataSource\"},{\"attributes\":{},\"id\":\"16222\",\"type\":\"PanTool\"},{\"attributes\":{\"formatter\":{\"id\":\"16675\",\"type\":\"BasicTickFormatter\"},\"ticker\":{\"id\":\"16213\",\"type\":\"BasicTicker\"}},\"id\":\"16212\",\"type\":\"LinearAxis\"},{\"attributes\":{},\"id\":\"16223\",\"type\":\"WheelZoomTool\"},{\"attributes\":{\"overlay\":{\"id\":\"16676\",\"type\":\"BoxAnnotation\"}},\"id\":\"16224\",\"type\":\"BoxZoomTool\"},{\"attributes\":{},\"id\":\"16225\",\"type\":\"SaveTool\"},{\"attributes\":{},\"id\":\"16226\",\"type\":\"ResetTool\"},{\"attributes\":{},\"id\":\"16227\",\"type\":\"HelpTool\"},{\"attributes\":{\"direction\":\"clock\",\"end_angle\":{\"units\":\"rad\",\"value\":4.8},\"fill_alpha\":{\"value\":0.1},\"fill_color\":{\"value\":\"#1f77b4\"},\"line_alpha\":{\"value\":0.1},\"line_color\":{\"value\":\"#1f77b4\"},\"radius\":{\"units\":\"data\",\"value\":0.2},\"start_angle\":{\"units\":\"rad\",\"value\":0.4},\"x\":{\"field\":\"x\"},\"y\":{\"field\":\"y\"}},\"id\":\"16237\",\"type\":\"Wedge\"},{\"attributes\":{\"data_source\":{\"id\":\"16235\",\"type\":\"ColumnDataSource\"},\"glyph\":{\"id\":\"16236\",\"type\":\"Wedge\"},\"hover_glyph\":null,\"muted_glyph\":null,\"nonselection_glyph\":{\"id\":\"16237\",\"type\":\"Wedge\"},\"selection_glyph\":null,\"view\":{\"id\":\"16239\",\"type\":\"CDSView\"}},\"id\":\"16238\",\"type\":\"GlyphRenderer\"},{\"attributes\":{},\"id\":\"16677\",\"type\":\"UnionRenderers\"},{\"attributes\":{},\"id\":\"16208\",\"type\":\"LinearScale\"},{\"attributes\":{},\"id\":\"16678\",\"type\":\"Selection\"},{\"attributes\":{\"callback\":null},\"id\":\"16206\",\"type\":\"DataRange1d\"},{\"attributes\":{},\"id\":\"16675\",\"type\":\"BasicTickFormatter\"},{\"attributes\":{\"callback\":null},\"id\":\"16204\",\"type\":\"DataRange1d\"},{\"attributes\":{},\"id\":\"16210\",\"type\":\"LinearScale\"},{\"attributes\":{\"direction\":\"clock\",\"end_angle\":{\"units\":\"rad\",\"value\":4.8},\"fill_alpha\":{\"value\":0.6},\"fill_color\":{\"value\":\"firebrick\"},\"line_alpha\":{\"value\":0.6},\"line_color\":{\"value\":\"firebrick\"},\"radius\":{\"units\":\"data\",\"value\":0.2},\"start_angle\":{\"units\":\"rad\",\"value\":0.4},\"x\":{\"field\":\"x\"},\"y\":{\"field\":\"y\"}},\"id\":\"16236\",\"type\":\"Wedge\"},{\"attributes\":{\"ticker\":{\"id\":\"16213\",\"type\":\"BasicTicker\"}},\"id\":\"16216\",\"type\":\"Grid\"},{\"attributes\":{\"text\":\"\"},\"id\":\"16670\",\"type\":\"Title\"}],\"root_ids\":[\"16203\"]},\"title\":\"Bokeh Application\",\"version\":\"1.4.0\"}};\n",
       "  var render_items = [{\"docid\":\"644fd2fc-adb3-491e-a47a-9ab7662ce404\",\"roots\":{\"16203\":\"8ab47acf-4976-4c82-9f5e-480ff8b0ad76\"}}];\n",
       "  root.Bokeh.embed.embed_items_notebook(docs_json, render_items);\n",
       "\n",
       "  }\n",
       "  if (root.Bokeh !== undefined) {\n",
       "    embed_document(root);\n",
       "  } else {\n",
       "    var attempts = 0;\n",
       "    var timer = setInterval(function(root) {\n",
       "      if (root.Bokeh !== undefined) {\n",
       "        clearInterval(timer);\n",
       "        embed_document(root);\n",
       "      } else {\n",
       "        attempts++;\n",
       "        if (attempts > 100) {\n",
       "          clearInterval(timer);\n",
       "          console.log(\"Bokeh: ERROR: Unable to run BokehJS code because BokehJS library is missing\");\n",
       "        }\n",
       "      }\n",
       "    }, 10, root)\n",
       "  }\n",
       "})(window);"
      ],
      "application/vnd.bokehjs_exec.v0+json": ""
     },
     "metadata": {
      "application/vnd.bokehjs_exec.v0+json": {
       "id": "16203"
      }
     },
     "output_type": "display_data"
    }
   ],
   "source": [
    "p = figure(plot_width=500, plot_height=400)\n",
    "p.wedge(x=[1, 2, 3], y=[1, 2, 3], radius=0.2, start_angle=0.4, end_angle=4.8,\n",
    "        color=\"firebrick\", alpha=0.6, direction=\"clock\")\n",
    "\n",
    "show(p)"
   ]
  },
  {
   "cell_type": "code",
   "execution_count": 65,
   "metadata": {},
   "outputs": [
    {
     "data": {
      "text/html": [
       "\n",
       "\n",
       "\n",
       "\n",
       "\n",
       "\n",
       "  <div class=\"bk-root\" id=\"3b24844d-70c6-461b-8912-510a96a776f4\" data-root-id=\"16733\"></div>\n"
      ]
     },
     "metadata": {},
     "output_type": "display_data"
    },
    {
     "data": {
      "application/javascript": [
       "(function(root) {\n",
       "  function embed_document(root) {\n",
       "    \n",
       "  var docs_json = {\"7d08ec73-e5e4-4948-af83-3f024a3b93e6\":{\"roots\":{\"references\":[{\"attributes\":{\"below\":[{\"id\":\"16742\",\"type\":\"LinearAxis\"}],\"center\":[{\"id\":\"16746\",\"type\":\"Grid\"},{\"id\":\"16751\",\"type\":\"Grid\"}],\"left\":[{\"id\":\"16747\",\"type\":\"LinearAxis\"}],\"plot_height\":400,\"plot_width\":400,\"renderers\":[{\"id\":\"16768\",\"type\":\"GlyphRenderer\"}],\"title\":{\"id\":\"17209\",\"type\":\"Title\"},\"toolbar\":{\"id\":\"16758\",\"type\":\"Toolbar\"},\"x_range\":{\"id\":\"16734\",\"type\":\"DataRange1d\"},\"x_scale\":{\"id\":\"16738\",\"type\":\"LinearScale\"},\"y_range\":{\"id\":\"16736\",\"type\":\"DataRange1d\"},\"y_scale\":{\"id\":\"16740\",\"type\":\"LinearScale\"}},\"id\":\"16733\",\"subtype\":\"Figure\",\"type\":\"Plot\"},{\"attributes\":{\"end_angle\":{\"units\":\"rad\",\"value\":4.8},\"fill_alpha\":{\"value\":0.6},\"fill_color\":{\"value\":\"green\"},\"inner_radius\":{\"units\":\"data\",\"value\":0.1},\"line_alpha\":{\"value\":0.6},\"line_color\":{\"value\":\"green\"},\"outer_radius\":{\"units\":\"data\",\"value\":0.25},\"start_angle\":{\"units\":\"rad\",\"value\":0.4},\"x\":{\"field\":\"x\"},\"y\":{\"field\":\"y\"}},\"id\":\"16766\",\"type\":\"AnnularWedge\"},{\"attributes\":{\"callback\":null},\"id\":\"16734\",\"type\":\"DataRange1d\"},{\"attributes\":{\"formatter\":{\"id\":\"17214\",\"type\":\"BasicTickFormatter\"},\"ticker\":{\"id\":\"16743\",\"type\":\"BasicTicker\"}},\"id\":\"16742\",\"type\":\"LinearAxis\"},{\"attributes\":{},\"id\":\"17212\",\"type\":\"BasicTickFormatter\"},{\"attributes\":{},\"id\":\"16740\",\"type\":\"LinearScale\"},{\"attributes\":{\"callback\":null},\"id\":\"16736\",\"type\":\"DataRange1d\"},{\"attributes\":{},\"id\":\"16738\",\"type\":\"LinearScale\"},{\"attributes\":{\"active_drag\":\"auto\",\"active_inspect\":\"auto\",\"active_multi\":null,\"active_scroll\":\"auto\",\"active_tap\":\"auto\",\"tools\":[{\"id\":\"16752\",\"type\":\"PanTool\"},{\"id\":\"16753\",\"type\":\"WheelZoomTool\"},{\"id\":\"16754\",\"type\":\"BoxZoomTool\"},{\"id\":\"16755\",\"type\":\"SaveTool\"},{\"id\":\"16756\",\"type\":\"ResetTool\"},{\"id\":\"16757\",\"type\":\"HelpTool\"}]},\"id\":\"16758\",\"type\":\"Toolbar\"},{\"attributes\":{\"callback\":null,\"data\":{\"x\":[1,2,3],\"y\":[1,2,3]},\"selected\":{\"id\":\"17217\",\"type\":\"Selection\"},\"selection_policy\":{\"id\":\"17216\",\"type\":\"UnionRenderers\"}},\"id\":\"16765\",\"type\":\"ColumnDataSource\"},{\"attributes\":{\"dimension\":1,\"ticker\":{\"id\":\"16748\",\"type\":\"BasicTicker\"}},\"id\":\"16751\",\"type\":\"Grid\"},{\"attributes\":{},\"id\":\"16748\",\"type\":\"BasicTicker\"},{\"attributes\":{\"ticker\":{\"id\":\"16743\",\"type\":\"BasicTicker\"}},\"id\":\"16746\",\"type\":\"Grid\"},{\"attributes\":{\"formatter\":{\"id\":\"17212\",\"type\":\"BasicTickFormatter\"},\"ticker\":{\"id\":\"16748\",\"type\":\"BasicTicker\"}},\"id\":\"16747\",\"type\":\"LinearAxis\"},{\"attributes\":{},\"id\":\"16743\",\"type\":\"BasicTicker\"},{\"attributes\":{},\"id\":\"16757\",\"type\":\"HelpTool\"},{\"attributes\":{},\"id\":\"17216\",\"type\":\"UnionRenderers\"},{\"attributes\":{},\"id\":\"17217\",\"type\":\"Selection\"},{\"attributes\":{},\"id\":\"16753\",\"type\":\"WheelZoomTool\"},{\"attributes\":{\"text\":\"\"},\"id\":\"17209\",\"type\":\"Title\"},{\"attributes\":{},\"id\":\"16752\",\"type\":\"PanTool\"},{\"attributes\":{},\"id\":\"16755\",\"type\":\"SaveTool\"},{\"attributes\":{\"overlay\":{\"id\":\"17215\",\"type\":\"BoxAnnotation\"}},\"id\":\"16754\",\"type\":\"BoxZoomTool\"},{\"attributes\":{},\"id\":\"16756\",\"type\":\"ResetTool\"},{\"attributes\":{\"source\":{\"id\":\"16765\",\"type\":\"ColumnDataSource\"}},\"id\":\"16769\",\"type\":\"CDSView\"},{\"attributes\":{\"end_angle\":{\"units\":\"rad\",\"value\":4.8},\"fill_alpha\":{\"value\":0.1},\"fill_color\":{\"value\":\"#1f77b4\"},\"inner_radius\":{\"units\":\"data\",\"value\":0.1},\"line_alpha\":{\"value\":0.1},\"line_color\":{\"value\":\"#1f77b4\"},\"outer_radius\":{\"units\":\"data\",\"value\":0.25},\"start_angle\":{\"units\":\"rad\",\"value\":0.4},\"x\":{\"field\":\"x\"},\"y\":{\"field\":\"y\"}},\"id\":\"16767\",\"type\":\"AnnularWedge\"},{\"attributes\":{},\"id\":\"17214\",\"type\":\"BasicTickFormatter\"},{\"attributes\":{\"data_source\":{\"id\":\"16765\",\"type\":\"ColumnDataSource\"},\"glyph\":{\"id\":\"16766\",\"type\":\"AnnularWedge\"},\"hover_glyph\":null,\"muted_glyph\":null,\"nonselection_glyph\":{\"id\":\"16767\",\"type\":\"AnnularWedge\"},\"selection_glyph\":null,\"view\":{\"id\":\"16769\",\"type\":\"CDSView\"}},\"id\":\"16768\",\"type\":\"GlyphRenderer\"},{\"attributes\":{\"bottom_units\":\"screen\",\"fill_alpha\":{\"value\":0.5},\"fill_color\":{\"value\":\"lightgrey\"},\"left_units\":\"screen\",\"level\":\"overlay\",\"line_alpha\":{\"value\":1.0},\"line_color\":{\"value\":\"black\"},\"line_dash\":[4,4],\"line_width\":{\"value\":2},\"render_mode\":\"css\",\"right_units\":\"screen\",\"top_units\":\"screen\"},\"id\":\"17215\",\"type\":\"BoxAnnotation\"}],\"root_ids\":[\"16733\"]},\"title\":\"Bokeh Application\",\"version\":\"1.4.0\"}};\n",
       "  var render_items = [{\"docid\":\"7d08ec73-e5e4-4948-af83-3f024a3b93e6\",\"roots\":{\"16733\":\"3b24844d-70c6-461b-8912-510a96a776f4\"}}];\n",
       "  root.Bokeh.embed.embed_items_notebook(docs_json, render_items);\n",
       "\n",
       "  }\n",
       "  if (root.Bokeh !== undefined) {\n",
       "    embed_document(root);\n",
       "  } else {\n",
       "    var attempts = 0;\n",
       "    var timer = setInterval(function(root) {\n",
       "      if (root.Bokeh !== undefined) {\n",
       "        clearInterval(timer);\n",
       "        embed_document(root);\n",
       "      } else {\n",
       "        attempts++;\n",
       "        if (attempts > 100) {\n",
       "          clearInterval(timer);\n",
       "          console.log(\"Bokeh: ERROR: Unable to run BokehJS code because BokehJS library is missing\");\n",
       "        }\n",
       "      }\n",
       "    }, 10, root)\n",
       "  }\n",
       "})(window);"
      ],
      "application/vnd.bokehjs_exec.v0+json": ""
     },
     "metadata": {
      "application/vnd.bokehjs_exec.v0+json": {
       "id": "16733"
      }
     },
     "output_type": "display_data"
    }
   ],
   "source": [
    "p = figure(plot_width=400, plot_height=400)\n",
    "p.annular_wedge(x=[1, 2, 3], y=[1, 2, 3], inner_radius=0.1, outer_radius=0.25,\n",
    "                start_angle=0.4, end_angle=4.8, color=\"green\", alpha=0.6)\n",
    "\n",
    "show(p)"
   ]
  },
  {
   "cell_type": "code",
   "execution_count": 66,
   "metadata": {},
   "outputs": [
    {
     "data": {
      "text/html": [
       "\n",
       "\n",
       "\n",
       "\n",
       "\n",
       "\n",
       "  <div class=\"bk-root\" id=\"b3268451-4ead-4292-835b-d24e3827a38c\" data-root-id=\"17272\"></div>\n"
      ]
     },
     "metadata": {},
     "output_type": "display_data"
    },
    {
     "data": {
      "application/javascript": [
       "(function(root) {\n",
       "  function embed_document(root) {\n",
       "    \n",
       "  var docs_json = {\"b0784e1b-5610-4dbe-baed-ec0749f540dd\":{\"roots\":{\"references\":[{\"attributes\":{\"below\":[{\"id\":\"17281\",\"type\":\"LinearAxis\"}],\"center\":[{\"id\":\"17285\",\"type\":\"Grid\"},{\"id\":\"17290\",\"type\":\"Grid\"}],\"left\":[{\"id\":\"17286\",\"type\":\"LinearAxis\"}],\"plot_height\":400,\"plot_width\":400,\"renderers\":[{\"id\":\"17307\",\"type\":\"GlyphRenderer\"}],\"title\":{\"id\":\"17757\",\"type\":\"Title\"},\"toolbar\":{\"id\":\"17297\",\"type\":\"Toolbar\"},\"x_range\":{\"id\":\"17273\",\"type\":\"DataRange1d\"},\"x_scale\":{\"id\":\"17277\",\"type\":\"LinearScale\"},\"y_range\":{\"id\":\"17275\",\"type\":\"DataRange1d\"},\"y_scale\":{\"id\":\"17279\",\"type\":\"LinearScale\"}},\"id\":\"17272\",\"subtype\":\"Figure\",\"type\":\"Plot\"},{\"attributes\":{\"source\":{\"id\":\"17304\",\"type\":\"ColumnDataSource\"}},\"id\":\"17308\",\"type\":\"CDSView\"},{\"attributes\":{\"active_drag\":\"auto\",\"active_inspect\":\"auto\",\"active_multi\":null,\"active_scroll\":\"auto\",\"active_tap\":\"auto\",\"tools\":[{\"id\":\"17291\",\"type\":\"PanTool\"},{\"id\":\"17292\",\"type\":\"WheelZoomTool\"},{\"id\":\"17293\",\"type\":\"BoxZoomTool\"},{\"id\":\"17294\",\"type\":\"SaveTool\"},{\"id\":\"17295\",\"type\":\"ResetTool\"},{\"id\":\"17296\",\"type\":\"HelpTool\"}]},\"id\":\"17297\",\"type\":\"Toolbar\"},{\"attributes\":{},\"id\":\"17291\",\"type\":\"PanTool\"},{\"attributes\":{\"dimension\":1,\"ticker\":{\"id\":\"17287\",\"type\":\"BasicTicker\"}},\"id\":\"17290\",\"type\":\"Grid\"},{\"attributes\":{},\"id\":\"17292\",\"type\":\"WheelZoomTool\"},{\"attributes\":{\"overlay\":{\"id\":\"17763\",\"type\":\"BoxAnnotation\"}},\"id\":\"17293\",\"type\":\"BoxZoomTool\"},{\"attributes\":{},\"id\":\"17294\",\"type\":\"SaveTool\"},{\"attributes\":{},\"id\":\"17295\",\"type\":\"ResetTool\"},{\"attributes\":{},\"id\":\"17296\",\"type\":\"HelpTool\"},{\"attributes\":{\"data_source\":{\"id\":\"17304\",\"type\":\"ColumnDataSource\"},\"glyph\":{\"id\":\"17305\",\"type\":\"Annulus\"},\"hover_glyph\":null,\"muted_glyph\":null,\"nonselection_glyph\":{\"id\":\"17306\",\"type\":\"Annulus\"},\"selection_glyph\":null,\"view\":{\"id\":\"17308\",\"type\":\"CDSView\"}},\"id\":\"17307\",\"type\":\"GlyphRenderer\"},{\"attributes\":{\"fill_alpha\":{\"value\":0.1},\"fill_color\":{\"value\":\"#1f77b4\"},\"inner_radius\":{\"units\":\"data\",\"value\":0.1},\"line_alpha\":{\"value\":0.1},\"line_color\":{\"value\":\"#1f77b4\"},\"outer_radius\":{\"units\":\"data\",\"value\":0.25},\"x\":{\"field\":\"x\"},\"y\":{\"field\":\"y\"}},\"id\":\"17306\",\"type\":\"Annulus\"},{\"attributes\":{},\"id\":\"17764\",\"type\":\"UnionRenderers\"},{\"attributes\":{},\"id\":\"17765\",\"type\":\"Selection\"},{\"attributes\":{\"callback\":null},\"id\":\"17275\",\"type\":\"DataRange1d\"},{\"attributes\":{},\"id\":\"17287\",\"type\":\"BasicTicker\"},{\"attributes\":{\"formatter\":{\"id\":\"17762\",\"type\":\"BasicTickFormatter\"},\"ticker\":{\"id\":\"17282\",\"type\":\"BasicTicker\"}},\"id\":\"17281\",\"type\":\"LinearAxis\"},{\"attributes\":{},\"id\":\"17277\",\"type\":\"LinearScale\"},{\"attributes\":{\"callback\":null,\"data\":{\"x\":[1,2,3],\"y\":[1,2,3]},\"selected\":{\"id\":\"17765\",\"type\":\"Selection\"},\"selection_policy\":{\"id\":\"17764\",\"type\":\"UnionRenderers\"}},\"id\":\"17304\",\"type\":\"ColumnDataSource\"},{\"attributes\":{},\"id\":\"17282\",\"type\":\"BasicTicker\"},{\"attributes\":{},\"id\":\"17279\",\"type\":\"LinearScale\"},{\"attributes\":{\"callback\":null},\"id\":\"17273\",\"type\":\"DataRange1d\"},{\"attributes\":{\"ticker\":{\"id\":\"17282\",\"type\":\"BasicTicker\"}},\"id\":\"17285\",\"type\":\"Grid\"},{\"attributes\":{\"bottom_units\":\"screen\",\"fill_alpha\":{\"value\":0.5},\"fill_color\":{\"value\":\"lightgrey\"},\"left_units\":\"screen\",\"level\":\"overlay\",\"line_alpha\":{\"value\":1.0},\"line_color\":{\"value\":\"black\"},\"line_dash\":[4,4],\"line_width\":{\"value\":2},\"render_mode\":\"css\",\"right_units\":\"screen\",\"top_units\":\"screen\"},\"id\":\"17763\",\"type\":\"BoxAnnotation\"},{\"attributes\":{\"fill_alpha\":{\"value\":0.6},\"fill_color\":{\"value\":\"orange\"},\"inner_radius\":{\"units\":\"data\",\"value\":0.1},\"line_alpha\":{\"value\":0.6},\"line_color\":{\"value\":\"orange\"},\"outer_radius\":{\"units\":\"data\",\"value\":0.25},\"x\":{\"field\":\"x\"},\"y\":{\"field\":\"y\"}},\"id\":\"17305\",\"type\":\"Annulus\"},{\"attributes\":{},\"id\":\"17762\",\"type\":\"BasicTickFormatter\"},{\"attributes\":{},\"id\":\"17760\",\"type\":\"BasicTickFormatter\"},{\"attributes\":{\"text\":\"\"},\"id\":\"17757\",\"type\":\"Title\"},{\"attributes\":{\"formatter\":{\"id\":\"17760\",\"type\":\"BasicTickFormatter\"},\"ticker\":{\"id\":\"17287\",\"type\":\"BasicTicker\"}},\"id\":\"17286\",\"type\":\"LinearAxis\"}],\"root_ids\":[\"17272\"]},\"title\":\"Bokeh Application\",\"version\":\"1.4.0\"}};\n",
       "  var render_items = [{\"docid\":\"b0784e1b-5610-4dbe-baed-ec0749f540dd\",\"roots\":{\"17272\":\"b3268451-4ead-4292-835b-d24e3827a38c\"}}];\n",
       "  root.Bokeh.embed.embed_items_notebook(docs_json, render_items);\n",
       "\n",
       "  }\n",
       "  if (root.Bokeh !== undefined) {\n",
       "    embed_document(root);\n",
       "  } else {\n",
       "    var attempts = 0;\n",
       "    var timer = setInterval(function(root) {\n",
       "      if (root.Bokeh !== undefined) {\n",
       "        clearInterval(timer);\n",
       "        embed_document(root);\n",
       "      } else {\n",
       "        attempts++;\n",
       "        if (attempts > 100) {\n",
       "          clearInterval(timer);\n",
       "          console.log(\"Bokeh: ERROR: Unable to run BokehJS code because BokehJS library is missing\");\n",
       "        }\n",
       "      }\n",
       "    }, 10, root)\n",
       "  }\n",
       "})(window);"
      ],
      "application/vnd.bokehjs_exec.v0+json": ""
     },
     "metadata": {
      "application/vnd.bokehjs_exec.v0+json": {
       "id": "17272"
      }
     },
     "output_type": "display_data"
    }
   ],
   "source": [
    "p = figure(plot_width=400, plot_height=400)\n",
    "p.annulus(x=[1, 2, 3], y=[1, 2, 3], inner_radius=0.1, outer_radius=0.25,\n",
    "          color=\"orange\", alpha=0.6)\n",
    "\n",
    "show(p)"
   ]
  },
  {
   "cell_type": "markdown",
   "metadata": {},
   "source": [
    "### Combining Multiple Glyphs"
   ]
  },
  {
   "cell_type": "code",
   "execution_count": 67,
   "metadata": {},
   "outputs": [
    {
     "data": {
      "text/html": [
       "\n",
       "\n",
       "\n",
       "\n",
       "\n",
       "\n",
       "  <div class=\"bk-root\" id=\"e42bb9bf-daa0-4973-8aaa-ba1d3b5165c6\" data-root-id=\"17820\"></div>\n"
      ]
     },
     "metadata": {},
     "output_type": "display_data"
    },
    {
     "data": {
      "application/javascript": [
       "(function(root) {\n",
       "  function embed_document(root) {\n",
       "    \n",
       "  var docs_json = {\"9cce9a68-f4ce-4f5d-b4ce-7ce06dee6490\":{\"roots\":{\"references\":[{\"attributes\":{\"below\":[{\"id\":\"17829\",\"type\":\"LinearAxis\"}],\"center\":[{\"id\":\"17833\",\"type\":\"Grid\"},{\"id\":\"17838\",\"type\":\"Grid\"}],\"left\":[{\"id\":\"17834\",\"type\":\"LinearAxis\"}],\"plot_height\":400,\"plot_width\":500,\"renderers\":[{\"id\":\"17855\",\"type\":\"GlyphRenderer\"},{\"id\":\"17860\",\"type\":\"GlyphRenderer\"}],\"title\":{\"id\":\"18319\",\"type\":\"Title\"},\"toolbar\":{\"id\":\"17845\",\"type\":\"Toolbar\"},\"x_range\":{\"id\":\"17821\",\"type\":\"DataRange1d\"},\"x_scale\":{\"id\":\"17825\",\"type\":\"LinearScale\"},\"y_range\":{\"id\":\"17823\",\"type\":\"DataRange1d\"},\"y_scale\":{\"id\":\"17827\",\"type\":\"LinearScale\"}},\"id\":\"17820\",\"subtype\":\"Figure\",\"type\":\"Plot\"},{\"attributes\":{\"ticker\":{\"id\":\"17830\",\"type\":\"BasicTicker\"}},\"id\":\"17833\",\"type\":\"Grid\"},{\"attributes\":{},\"id\":\"17830\",\"type\":\"BasicTicker\"},{\"attributes\":{\"bottom_units\":\"screen\",\"fill_alpha\":{\"value\":0.5},\"fill_color\":{\"value\":\"lightgrey\"},\"left_units\":\"screen\",\"level\":\"overlay\",\"line_alpha\":{\"value\":1.0},\"line_color\":{\"value\":\"black\"},\"line_dash\":[4,4],\"line_width\":{\"value\":2},\"render_mode\":\"css\",\"right_units\":\"screen\",\"top_units\":\"screen\"},\"id\":\"18325\",\"type\":\"BoxAnnotation\"},{\"attributes\":{},\"id\":\"18328\",\"type\":\"UnionRenderers\"},{\"attributes\":{\"formatter\":{\"id\":\"18324\",\"type\":\"BasicTickFormatter\"},\"ticker\":{\"id\":\"17830\",\"type\":\"BasicTicker\"}},\"id\":\"17829\",\"type\":\"LinearAxis\"},{\"attributes\":{\"callback\":null},\"id\":\"17823\",\"type\":\"DataRange1d\"},{\"attributes\":{},\"id\":\"17827\",\"type\":\"LinearScale\"},{\"attributes\":{},\"id\":\"17825\",\"type\":\"LinearScale\"},{\"attributes\":{\"line_alpha\":0.1,\"line_color\":\"#1f77b4\",\"line_width\":2,\"x\":{\"field\":\"x\"},\"y\":{\"field\":\"y\"}},\"id\":\"17854\",\"type\":\"Line\"},{\"attributes\":{},\"id\":\"17835\",\"type\":\"BasicTicker\"},{\"attributes\":{\"formatter\":{\"id\":\"18322\",\"type\":\"BasicTickFormatter\"},\"ticker\":{\"id\":\"17835\",\"type\":\"BasicTicker\"}},\"id\":\"17834\",\"type\":\"LinearAxis\"},{\"attributes\":{\"dimension\":1,\"ticker\":{\"id\":\"17835\",\"type\":\"BasicTicker\"}},\"id\":\"17838\",\"type\":\"Grid\"},{\"attributes\":{\"source\":{\"id\":\"17852\",\"type\":\"ColumnDataSource\"}},\"id\":\"17856\",\"type\":\"CDSView\"},{\"attributes\":{\"active_drag\":\"auto\",\"active_inspect\":\"auto\",\"active_multi\":null,\"active_scroll\":\"auto\",\"active_tap\":\"auto\",\"tools\":[{\"id\":\"17839\",\"type\":\"PanTool\"},{\"id\":\"17840\",\"type\":\"WheelZoomTool\"},{\"id\":\"17841\",\"type\":\"BoxZoomTool\"},{\"id\":\"17842\",\"type\":\"SaveTool\"},{\"id\":\"17843\",\"type\":\"ResetTool\"},{\"id\":\"17844\",\"type\":\"HelpTool\"}]},\"id\":\"17845\",\"type\":\"Toolbar\"},{\"attributes\":{\"callback\":null,\"data\":{\"x\":[1,2,3,4,5],\"y\":[6,7,8,7,3]},\"selected\":{\"id\":\"18327\",\"type\":\"Selection\"},\"selection_policy\":{\"id\":\"18326\",\"type\":\"UnionRenderers\"}},\"id\":\"17852\",\"type\":\"ColumnDataSource\"},{\"attributes\":{\"fill_color\":{\"value\":\"white\"},\"line_color\":{\"value\":\"#1f77b4\"},\"size\":{\"units\":\"screen\",\"value\":8},\"x\":{\"field\":\"x\"},\"y\":{\"field\":\"y\"}},\"id\":\"17858\",\"type\":\"Circle\"},{\"attributes\":{},\"id\":\"18322\",\"type\":\"BasicTickFormatter\"},{\"attributes\":{\"text\":\"\"},\"id\":\"18319\",\"type\":\"Title\"},{\"attributes\":{},\"id\":\"17843\",\"type\":\"ResetTool\"},{\"attributes\":{\"line_color\":\"#1f77b4\",\"line_width\":2,\"x\":{\"field\":\"x\"},\"y\":{\"field\":\"y\"}},\"id\":\"17853\",\"type\":\"Line\"},{\"attributes\":{},\"id\":\"18327\",\"type\":\"Selection\"},{\"attributes\":{},\"id\":\"17842\",\"type\":\"SaveTool\"},{\"attributes\":{\"overlay\":{\"id\":\"18325\",\"type\":\"BoxAnnotation\"}},\"id\":\"17841\",\"type\":\"BoxZoomTool\"},{\"attributes\":{},\"id\":\"17840\",\"type\":\"WheelZoomTool\"},{\"attributes\":{},\"id\":\"17839\",\"type\":\"PanTool\"},{\"attributes\":{\"callback\":null,\"data\":{\"x\":[1,2,3,4,5],\"y\":[6,7,8,7,3]},\"selected\":{\"id\":\"18329\",\"type\":\"Selection\"},\"selection_policy\":{\"id\":\"18328\",\"type\":\"UnionRenderers\"}},\"id\":\"17857\",\"type\":\"ColumnDataSource\"},{\"attributes\":{},\"id\":\"17844\",\"type\":\"HelpTool\"},{\"attributes\":{\"data_source\":{\"id\":\"17852\",\"type\":\"ColumnDataSource\"},\"glyph\":{\"id\":\"17853\",\"type\":\"Line\"},\"hover_glyph\":null,\"muted_glyph\":null,\"nonselection_glyph\":{\"id\":\"17854\",\"type\":\"Line\"},\"selection_glyph\":null,\"view\":{\"id\":\"17856\",\"type\":\"CDSView\"}},\"id\":\"17855\",\"type\":\"GlyphRenderer\"},{\"attributes\":{\"fill_alpha\":{\"value\":0.1},\"fill_color\":{\"value\":\"#1f77b4\"},\"line_alpha\":{\"value\":0.1},\"line_color\":{\"value\":\"#1f77b4\"},\"size\":{\"units\":\"screen\",\"value\":8},\"x\":{\"field\":\"x\"},\"y\":{\"field\":\"y\"}},\"id\":\"17859\",\"type\":\"Circle\"},{\"attributes\":{\"data_source\":{\"id\":\"17857\",\"type\":\"ColumnDataSource\"},\"glyph\":{\"id\":\"17858\",\"type\":\"Circle\"},\"hover_glyph\":null,\"muted_glyph\":null,\"nonselection_glyph\":{\"id\":\"17859\",\"type\":\"Circle\"},\"selection_glyph\":null,\"view\":{\"id\":\"17861\",\"type\":\"CDSView\"}},\"id\":\"17860\",\"type\":\"GlyphRenderer\"},{\"attributes\":{},\"id\":\"18324\",\"type\":\"BasicTickFormatter\"},{\"attributes\":{\"source\":{\"id\":\"17857\",\"type\":\"ColumnDataSource\"}},\"id\":\"17861\",\"type\":\"CDSView\"},{\"attributes\":{\"callback\":null},\"id\":\"17821\",\"type\":\"DataRange1d\"},{\"attributes\":{},\"id\":\"18329\",\"type\":\"Selection\"},{\"attributes\":{},\"id\":\"18326\",\"type\":\"UnionRenderers\"}],\"root_ids\":[\"17820\"]},\"title\":\"Bokeh Application\",\"version\":\"1.4.0\"}};\n",
       "  var render_items = [{\"docid\":\"9cce9a68-f4ce-4f5d-b4ce-7ce06dee6490\",\"roots\":{\"17820\":\"e42bb9bf-daa0-4973-8aaa-ba1d3b5165c6\"}}];\n",
       "  root.Bokeh.embed.embed_items_notebook(docs_json, render_items);\n",
       "\n",
       "  }\n",
       "  if (root.Bokeh !== undefined) {\n",
       "    embed_document(root);\n",
       "  } else {\n",
       "    var attempts = 0;\n",
       "    var timer = setInterval(function(root) {\n",
       "      if (root.Bokeh !== undefined) {\n",
       "        clearInterval(timer);\n",
       "        embed_document(root);\n",
       "      } else {\n",
       "        attempts++;\n",
       "        if (attempts > 100) {\n",
       "          clearInterval(timer);\n",
       "          console.log(\"Bokeh: ERROR: Unable to run BokehJS code because BokehJS library is missing\");\n",
       "        }\n",
       "      }\n",
       "    }, 10, root)\n",
       "  }\n",
       "})(window);"
      ],
      "application/vnd.bokehjs_exec.v0+json": ""
     },
     "metadata": {
      "application/vnd.bokehjs_exec.v0+json": {
       "id": "17820"
      }
     },
     "output_type": "display_data"
    }
   ],
   "source": [
    "x = [1, 2, 3, 4, 5]\n",
    "y = [6, 7, 8, 7, 3]\n",
    "\n",
    "p = figure(plot_width=500, plot_height=400)\n",
    "\n",
    "p.line(x, y, line_width=2)\n",
    "p.circle(x, y, fill_color=\"white\", size=8)\n",
    "\n",
    "show(p)"
   ]
  },
  {
   "cell_type": "markdown",
   "metadata": {},
   "source": [
    "### Categorical Axes"
   ]
  },
  {
   "cell_type": "code",
   "execution_count": 68,
   "metadata": {},
   "outputs": [
    {
     "data": {
      "text/html": [
       "\n",
       "\n",
       "\n",
       "\n",
       "\n",
       "\n",
       "  <div class=\"bk-root\" id=\"0da499b4-aacc-482e-88e4-b53fcdec4fc5\" data-root-id=\"18396\"></div>\n"
      ]
     },
     "metadata": {},
     "output_type": "display_data"
    },
    {
     "data": {
      "application/javascript": [
       "(function(root) {\n",
       "  function embed_document(root) {\n",
       "    \n",
       "  var docs_json = {\"b804cf0c-d1c1-401b-93e7-19fd89aae450\":{\"roots\":{\"references\":[{\"attributes\":{\"below\":[{\"id\":\"18405\",\"type\":\"LinearAxis\"}],\"center\":[{\"id\":\"18409\",\"type\":\"Grid\"},{\"id\":\"18413\",\"type\":\"Grid\"}],\"left\":[{\"id\":\"18410\",\"type\":\"CategoricalAxis\"}],\"plot_height\":400,\"renderers\":[{\"id\":\"18430\",\"type\":\"GlyphRenderer\"}],\"title\":{\"id\":\"18900\",\"type\":\"Title\"},\"toolbar\":{\"id\":\"18420\",\"type\":\"Toolbar\"},\"x_range\":{\"id\":\"18397\",\"type\":\"DataRange1d\"},\"x_scale\":{\"id\":\"18401\",\"type\":\"LinearScale\"},\"y_range\":{\"id\":\"18399\",\"type\":\"FactorRange\"},\"y_scale\":{\"id\":\"18403\",\"type\":\"CategoricalScale\"}},\"id\":\"18396\",\"subtype\":\"Figure\",\"type\":\"Plot\"},{\"attributes\":{},\"id\":\"18908\",\"type\":\"Selection\"},{\"attributes\":{\"fill_color\":{\"value\":\"orange\"},\"line_color\":{\"value\":\"green\"},\"line_width\":{\"value\":3},\"size\":{\"units\":\"screen\",\"value\":15},\"x\":{\"field\":\"x\"},\"y\":{\"field\":\"y\"}},\"id\":\"18428\",\"type\":\"Circle\"},{\"attributes\":{\"source\":{\"id\":\"18427\",\"type\":\"ColumnDataSource\"}},\"id\":\"18431\",\"type\":\"CDSView\"},{\"attributes\":{\"callback\":null},\"id\":\"18397\",\"type\":\"DataRange1d\"},{\"attributes\":{},\"id\":\"18401\",\"type\":\"LinearScale\"},{\"attributes\":{},\"id\":\"18406\",\"type\":\"BasicTicker\"},{\"attributes\":{\"callback\":null,\"factors\":[\"a\",\"b\",\"c\",\"d\",\"e\",\"f\",\"g\",\"h\"]},\"id\":\"18399\",\"type\":\"FactorRange\"},{\"attributes\":{},\"id\":\"18403\",\"type\":\"CategoricalScale\"},{\"attributes\":{\"formatter\":{\"id\":\"18905\",\"type\":\"BasicTickFormatter\"},\"ticker\":{\"id\":\"18406\",\"type\":\"BasicTicker\"}},\"id\":\"18405\",\"type\":\"LinearAxis\"},{\"attributes\":{},\"id\":\"18411\",\"type\":\"CategoricalTicker\"},{\"attributes\":{\"ticker\":{\"id\":\"18406\",\"type\":\"BasicTicker\"}},\"id\":\"18409\",\"type\":\"Grid\"},{\"attributes\":{\"dimension\":1,\"ticker\":{\"id\":\"18411\",\"type\":\"CategoricalTicker\"}},\"id\":\"18413\",\"type\":\"Grid\"},{\"attributes\":{\"text\":\"\"},\"id\":\"18900\",\"type\":\"Title\"},{\"attributes\":{\"formatter\":{\"id\":\"18903\",\"type\":\"CategoricalTickFormatter\"},\"ticker\":{\"id\":\"18411\",\"type\":\"CategoricalTicker\"}},\"id\":\"18410\",\"type\":\"CategoricalAxis\"},{\"attributes\":{\"callback\":null,\"data\":{\"x\":[50,40,65,10,25,37,80,60],\"y\":[\"a\",\"b\",\"c\",\"d\",\"e\",\"f\",\"g\",\"h\"]},\"selected\":{\"id\":\"18908\",\"type\":\"Selection\"},\"selection_policy\":{\"id\":\"18907\",\"type\":\"UnionRenderers\"}},\"id\":\"18427\",\"type\":\"ColumnDataSource\"},{\"attributes\":{\"active_drag\":\"auto\",\"active_inspect\":\"auto\",\"active_multi\":null,\"active_scroll\":\"auto\",\"active_tap\":\"auto\",\"tools\":[{\"id\":\"18414\",\"type\":\"PanTool\"},{\"id\":\"18415\",\"type\":\"WheelZoomTool\"},{\"id\":\"18416\",\"type\":\"BoxZoomTool\"},{\"id\":\"18417\",\"type\":\"SaveTool\"},{\"id\":\"18418\",\"type\":\"ResetTool\"},{\"id\":\"18419\",\"type\":\"HelpTool\"}]},\"id\":\"18420\",\"type\":\"Toolbar\"},{\"attributes\":{},\"id\":\"18414\",\"type\":\"PanTool\"},{\"attributes\":{},\"id\":\"18415\",\"type\":\"WheelZoomTool\"},{\"attributes\":{\"overlay\":{\"id\":\"18906\",\"type\":\"BoxAnnotation\"}},\"id\":\"18416\",\"type\":\"BoxZoomTool\"},{\"attributes\":{},\"id\":\"18417\",\"type\":\"SaveTool\"},{\"attributes\":{},\"id\":\"18418\",\"type\":\"ResetTool\"},{\"attributes\":{\"bottom_units\":\"screen\",\"fill_alpha\":{\"value\":0.5},\"fill_color\":{\"value\":\"lightgrey\"},\"left_units\":\"screen\",\"level\":\"overlay\",\"line_alpha\":{\"value\":1.0},\"line_color\":{\"value\":\"black\"},\"line_dash\":[4,4],\"line_width\":{\"value\":2},\"render_mode\":\"css\",\"right_units\":\"screen\",\"top_units\":\"screen\"},\"id\":\"18906\",\"type\":\"BoxAnnotation\"},{\"attributes\":{},\"id\":\"18419\",\"type\":\"HelpTool\"},{\"attributes\":{},\"id\":\"18903\",\"type\":\"CategoricalTickFormatter\"},{\"attributes\":{\"fill_alpha\":{\"value\":0.1},\"fill_color\":{\"value\":\"#1f77b4\"},\"line_alpha\":{\"value\":0.1},\"line_color\":{\"value\":\"#1f77b4\"},\"line_width\":{\"value\":3},\"size\":{\"units\":\"screen\",\"value\":15},\"x\":{\"field\":\"x\"},\"y\":{\"field\":\"y\"}},\"id\":\"18429\",\"type\":\"Circle\"},{\"attributes\":{},\"id\":\"18905\",\"type\":\"BasicTickFormatter\"},{\"attributes\":{\"data_source\":{\"id\":\"18427\",\"type\":\"ColumnDataSource\"},\"glyph\":{\"id\":\"18428\",\"type\":\"Circle\"},\"hover_glyph\":null,\"muted_glyph\":null,\"nonselection_glyph\":{\"id\":\"18429\",\"type\":\"Circle\"},\"selection_glyph\":null,\"view\":{\"id\":\"18431\",\"type\":\"CDSView\"}},\"id\":\"18430\",\"type\":\"GlyphRenderer\"},{\"attributes\":{},\"id\":\"18907\",\"type\":\"UnionRenderers\"}],\"root_ids\":[\"18396\"]},\"title\":\"Bokeh Application\",\"version\":\"1.4.0\"}};\n",
       "  var render_items = [{\"docid\":\"b804cf0c-d1c1-401b-93e7-19fd89aae450\",\"roots\":{\"18396\":\"0da499b4-aacc-482e-88e4-b53fcdec4fc5\"}}];\n",
       "  root.Bokeh.embed.embed_items_notebook(docs_json, render_items);\n",
       "\n",
       "  }\n",
       "  if (root.Bokeh !== undefined) {\n",
       "    embed_document(root);\n",
       "  } else {\n",
       "    var attempts = 0;\n",
       "    var timer = setInterval(function(root) {\n",
       "      if (root.Bokeh !== undefined) {\n",
       "        clearInterval(timer);\n",
       "        embed_document(root);\n",
       "      } else {\n",
       "        attempts++;\n",
       "        if (attempts > 100) {\n",
       "          clearInterval(timer);\n",
       "          console.log(\"Bokeh: ERROR: Unable to run BokehJS code because BokehJS library is missing\");\n",
       "        }\n",
       "      }\n",
       "    }, 10, root)\n",
       "  }\n",
       "})(window);"
      ],
      "application/vnd.bokehjs_exec.v0+json": ""
     },
     "metadata": {
      "application/vnd.bokehjs_exec.v0+json": {
       "id": "18396"
      }
     },
     "output_type": "display_data"
    }
   ],
   "source": [
    "factors = [\"a\", \"b\", \"c\", \"d\", \"e\", \"f\", \"g\", \"h\"]\n",
    "x = [50, 40, 65, 10, 25, 37, 80, 60]\n",
    "\n",
    "p = figure(y_range = factors,plot_width=600,plot_height=400)\n",
    "p.circle(x, factors, size=15, fill_color=\"orange\", line_color=\"green\", line_width=3)\n",
    "\n",
    "show(p)"
   ]
  },
  {
   "cell_type": "markdown",
   "metadata": {},
   "source": [
    "### Datetime Axes"
   ]
  },
  {
   "cell_type": "code",
   "execution_count": 71,
   "metadata": {},
   "outputs": [
    {
     "data": {
      "text/html": [
       "\n",
       "\n",
       "\n",
       "\n",
       "\n",
       "\n",
       "  <div class=\"bk-root\" id=\"153231c8-24e0-42be-9816-f4a0e3d7dc9c\" data-root-id=\"19661\"></div>\n"
      ]
     },
     "metadata": {},
     "output_type": "display_data"
    },
    {
     "data": {
      "application/javascript": [
       "(function(root) {\n",
       "  function embed_document(root) {\n",
       "    \n",
       "  var docs_json = {\"9e9029fa-4136-47dc-9774-a26a5954fac1\":{\"roots\":{\"references\":[{\"attributes\":{\"below\":[{\"id\":\"19670\",\"type\":\"DatetimeAxis\"}],\"center\":[{\"id\":\"19674\",\"type\":\"Grid\"},{\"id\":\"19679\",\"type\":\"Grid\"}],\"left\":[{\"id\":\"19675\",\"type\":\"LinearAxis\"}],\"plot_height\":250,\"plot_width\":800,\"renderers\":[{\"id\":\"19696\",\"type\":\"GlyphRenderer\"}],\"title\":{\"id\":\"20196\",\"type\":\"Title\"},\"toolbar\":{\"id\":\"19686\",\"type\":\"Toolbar\"},\"x_range\":{\"id\":\"19662\",\"type\":\"DataRange1d\"},\"x_scale\":{\"id\":\"19666\",\"type\":\"LinearScale\"},\"y_range\":{\"id\":\"19664\",\"type\":\"DataRange1d\"},\"y_scale\":{\"id\":\"19668\",\"type\":\"LinearScale\"}},\"id\":\"19661\",\"subtype\":\"Figure\",\"type\":\"Plot\"},{\"attributes\":{},\"id\":\"19680\",\"type\":\"PanTool\"},{\"attributes\":{\"text\":\"\"},\"id\":\"20196\",\"type\":\"Title\"},{\"attributes\":{},\"id\":\"19666\",\"type\":\"LinearScale\"},{\"attributes\":{\"active_drag\":\"auto\",\"active_inspect\":\"auto\",\"active_multi\":null,\"active_scroll\":\"auto\",\"active_tap\":\"auto\",\"tools\":[{\"id\":\"19680\",\"type\":\"PanTool\"},{\"id\":\"19681\",\"type\":\"WheelZoomTool\"},{\"id\":\"19682\",\"type\":\"BoxZoomTool\"},{\"id\":\"19683\",\"type\":\"SaveTool\"},{\"id\":\"19684\",\"type\":\"ResetTool\"},{\"id\":\"19685\",\"type\":\"HelpTool\"}]},\"id\":\"19686\",\"type\":\"Toolbar\"},{\"attributes\":{},\"id\":\"19681\",\"type\":\"WheelZoomTool\"},{\"attributes\":{\"line_alpha\":0.1,\"line_color\":\"#1f77b4\",\"x\":{\"field\":\"x\"},\"y\":{\"field\":\"y\"}},\"id\":\"19695\",\"type\":\"Line\"},{\"attributes\":{\"ticker\":{\"id\":\"19671\",\"type\":\"DatetimeTicker\"}},\"id\":\"19674\",\"type\":\"Grid\"},{\"attributes\":{},\"id\":\"19685\",\"type\":\"HelpTool\"},{\"attributes\":{\"callback\":null,\"data\":{\"x\":{\"__ndarray__\":\"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\",\"dtype\":\"float64\",\"shape\":[3270]},\"y\":{\"__ndarray__\":\"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\",\"dtype\":\"float64\",\"shape\":[3270]}},\"selected\":{\"id\":\"20216\",\"type\":\"Selection\"},\"selection_policy\":{\"id\":\"20215\",\"type\":\"UnionRenderers\"}},\"id\":\"19693\",\"type\":\"ColumnDataSource\"},{\"attributes\":{\"dimension\":1,\"ticker\":{\"id\":\"19676\",\"type\":\"BasicTicker\"}},\"id\":\"19679\",\"type\":\"Grid\"},{\"attributes\":{},\"id\":\"19683\",\"type\":\"SaveTool\"},{\"attributes\":{\"formatter\":{\"id\":\"20199\",\"type\":\"BasicTickFormatter\"},\"ticker\":{\"id\":\"19676\",\"type\":\"BasicTicker\"}},\"id\":\"19675\",\"type\":\"LinearAxis\"},{\"attributes\":{\"overlay\":{\"id\":\"20214\",\"type\":\"BoxAnnotation\"}},\"id\":\"19682\",\"type\":\"BoxZoomTool\"},{\"attributes\":{\"callback\":null},\"id\":\"19662\",\"type\":\"DataRange1d\"},{\"attributes\":{},\"id\":\"19676\",\"type\":\"BasicTicker\"},{\"attributes\":{},\"id\":\"19684\",\"type\":\"ResetTool\"},{\"attributes\":{\"callback\":null},\"id\":\"19664\",\"type\":\"DataRange1d\"},{\"attributes\":{\"source\":{\"id\":\"19693\",\"type\":\"ColumnDataSource\"}},\"id\":\"19697\",\"type\":\"CDSView\"},{\"attributes\":{},\"id\":\"19668\",\"type\":\"LinearScale\"},{\"attributes\":{\"days\":[1,15]},\"id\":\"20208\",\"type\":\"DaysTicker\"},{\"attributes\":{\"formatter\":{\"id\":\"20201\",\"type\":\"DatetimeTickFormatter\"},\"ticker\":{\"id\":\"19671\",\"type\":\"DatetimeTicker\"}},\"id\":\"19670\",\"type\":\"DatetimeAxis\"},{\"attributes\":{},\"id\":\"20201\",\"type\":\"DatetimeTickFormatter\"},{\"attributes\":{\"num_minor_ticks\":5,\"tickers\":[{\"id\":\"20202\",\"type\":\"AdaptiveTicker\"},{\"id\":\"20203\",\"type\":\"AdaptiveTicker\"},{\"id\":\"20204\",\"type\":\"AdaptiveTicker\"},{\"id\":\"20205\",\"type\":\"DaysTicker\"},{\"id\":\"20206\",\"type\":\"DaysTicker\"},{\"id\":\"20207\",\"type\":\"DaysTicker\"},{\"id\":\"20208\",\"type\":\"DaysTicker\"},{\"id\":\"20209\",\"type\":\"MonthsTicker\"},{\"id\":\"20210\",\"type\":\"MonthsTicker\"},{\"id\":\"20211\",\"type\":\"MonthsTicker\"},{\"id\":\"20212\",\"type\":\"MonthsTicker\"},{\"id\":\"20213\",\"type\":\"YearsTicker\"}]},\"id\":\"19671\",\"type\":\"DatetimeTicker\"},{\"attributes\":{\"months\":[0,1,2,3,4,5,6,7,8,9,10,11]},\"id\":\"20209\",\"type\":\"MonthsTicker\"},{\"attributes\":{},\"id\":\"20199\",\"type\":\"BasicTickFormatter\"},{\"attributes\":{\"months\":[0,2,4,6,8,10]},\"id\":\"20210\",\"type\":\"MonthsTicker\"},{\"attributes\":{\"mantissas\":[1,2,5],\"max_interval\":500.0,\"num_minor_ticks\":0},\"id\":\"20202\",\"type\":\"AdaptiveTicker\"},{\"attributes\":{\"base\":24,\"mantissas\":[1,2,4,6,8,12],\"max_interval\":43200000.0,\"min_interval\":3600000.0,\"num_minor_ticks\":0},\"id\":\"20204\",\"type\":\"AdaptiveTicker\"},{\"attributes\":{\"days\":[1,8,15,22]},\"id\":\"20207\",\"type\":\"DaysTicker\"},{\"attributes\":{\"months\":[0,6]},\"id\":\"20212\",\"type\":\"MonthsTicker\"},{\"attributes\":{\"base\":60,\"mantissas\":[1,2,5,10,15,20,30],\"max_interval\":1800000.0,\"min_interval\":1000.0,\"num_minor_ticks\":0},\"id\":\"20203\",\"type\":\"AdaptiveTicker\"},{\"attributes\":{\"days\":[1,2,3,4,5,6,7,8,9,10,11,12,13,14,15,16,17,18,19,20,21,22,23,24,25,26,27,28,29,30,31]},\"id\":\"20205\",\"type\":\"DaysTicker\"},{\"attributes\":{\"months\":[0,4,8]},\"id\":\"20211\",\"type\":\"MonthsTicker\"},{\"attributes\":{\"bottom_units\":\"screen\",\"fill_alpha\":{\"value\":0.5},\"fill_color\":{\"value\":\"lightgrey\"},\"left_units\":\"screen\",\"level\":\"overlay\",\"line_alpha\":{\"value\":1.0},\"line_color\":{\"value\":\"black\"},\"line_dash\":[4,4],\"line_width\":{\"value\":2},\"render_mode\":\"css\",\"right_units\":\"screen\",\"top_units\":\"screen\"},\"id\":\"20214\",\"type\":\"BoxAnnotation\"},{\"attributes\":{\"days\":[1,4,7,10,13,16,19,22,25,28]},\"id\":\"20206\",\"type\":\"DaysTicker\"},{\"attributes\":{\"line_alpha\":0.5,\"line_color\":\"navy\",\"x\":{\"field\":\"x\"},\"y\":{\"field\":\"y\"}},\"id\":\"19694\",\"type\":\"Line\"},{\"attributes\":{},\"id\":\"20213\",\"type\":\"YearsTicker\"},{\"attributes\":{},\"id\":\"20215\",\"type\":\"UnionRenderers\"},{\"attributes\":{\"data_source\":{\"id\":\"19693\",\"type\":\"ColumnDataSource\"},\"glyph\":{\"id\":\"19694\",\"type\":\"Line\"},\"hover_glyph\":null,\"muted_glyph\":null,\"nonselection_glyph\":{\"id\":\"19695\",\"type\":\"Line\"},\"selection_glyph\":null,\"view\":{\"id\":\"19697\",\"type\":\"CDSView\"}},\"id\":\"19696\",\"type\":\"GlyphRenderer\"},{\"attributes\":{},\"id\":\"20216\",\"type\":\"Selection\"}],\"root_ids\":[\"19661\"]},\"title\":\"Bokeh Application\",\"version\":\"1.4.0\"}};\n",
       "  var render_items = [{\"docid\":\"9e9029fa-4136-47dc-9774-a26a5954fac1\",\"roots\":{\"19661\":\"153231c8-24e0-42be-9816-f4a0e3d7dc9c\"}}];\n",
       "  root.Bokeh.embed.embed_items_notebook(docs_json, render_items);\n",
       "\n",
       "  }\n",
       "  if (root.Bokeh !== undefined) {\n",
       "    embed_document(root);\n",
       "  } else {\n",
       "    var attempts = 0;\n",
       "    var timer = setInterval(function(root) {\n",
       "      if (root.Bokeh !== undefined) {\n",
       "        clearInterval(timer);\n",
       "        embed_document(root);\n",
       "      } else {\n",
       "        attempts++;\n",
       "        if (attempts > 100) {\n",
       "          clearInterval(timer);\n",
       "          console.log(\"Bokeh: ERROR: Unable to run BokehJS code because BokehJS library is missing\");\n",
       "        }\n",
       "      }\n",
       "    }, 10, root)\n",
       "  }\n",
       "})(window);"
      ],
      "application/vnd.bokehjs_exec.v0+json": ""
     },
     "metadata": {
      "application/vnd.bokehjs_exec.v0+json": {
       "id": "19661"
      }
     },
     "output_type": "display_data"
    }
   ],
   "source": [
    "import pandas as pd\n",
    "from bokeh.sampledata.stocks import AAPL\n",
    "\n",
    "df = pd.DataFrame(AAPL)\n",
    "df['date'] = pd.to_datetime(df['date'])\n",
    "\n",
    "p = figure(plot_width=800, plot_height=250, x_axis_type=\"datetime\")\n",
    "p.line(df['date'], df['close'], color='navy', alpha=0.5)\n",
    "\n",
    "show(p)"
   ]
  },
  {
   "cell_type": "code",
   "execution_count": null,
   "metadata": {},
   "outputs": [],
   "source": []
  }
 ],
 "metadata": {
  "kernelspec": {
   "display_name": "Python 3",
   "language": "python",
   "name": "python3"
  },
  "language_info": {
   "codemirror_mode": {
    "name": "ipython",
    "version": 3
   },
   "file_extension": ".py",
   "mimetype": "text/x-python",
   "name": "python",
   "nbconvert_exporter": "python",
   "pygments_lexer": "ipython3",
   "version": "3.7.2"
  }
 },
 "nbformat": 4,
 "nbformat_minor": 2
}
