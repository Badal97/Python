{
 "cells": [
  {
   "cell_type": "code",
   "execution_count": 2,
   "metadata": {},
   "outputs": [],
   "source": [
    "from bokeh.io import output_notebook,show\n",
    "from bokeh.plotting import figure"
   ]
  },
  {
   "cell_type": "code",
   "execution_count": 3,
   "metadata": {
    "scrolled": true
   },
   "outputs": [
    {
     "data": {
      "text/html": [
       "\n",
       "    <div class=\"bk-root\">\n",
       "        <a href=\"https://bokeh.org\" target=\"_blank\" class=\"bk-logo bk-logo-small bk-logo-notebook\"></a>\n",
       "        <span id=\"1001\">Loading BokehJS ...</span>\n",
       "    </div>"
      ]
     },
     "metadata": {},
     "output_type": "display_data"
    },
    {
     "data": {
      "application/javascript": [
       "\n",
       "(function(root) {\n",
       "  function now() {\n",
       "    return new Date();\n",
       "  }\n",
       "\n",
       "  var force = true;\n",
       "\n",
       "  if (typeof root._bokeh_onload_callbacks === \"undefined\" || force === true) {\n",
       "    root._bokeh_onload_callbacks = [];\n",
       "    root._bokeh_is_loading = undefined;\n",
       "  }\n",
       "\n",
       "  var JS_MIME_TYPE = 'application/javascript';\n",
       "  var HTML_MIME_TYPE = 'text/html';\n",
       "  var EXEC_MIME_TYPE = 'application/vnd.bokehjs_exec.v0+json';\n",
       "  var CLASS_NAME = 'output_bokeh rendered_html';\n",
       "\n",
       "  /**\n",
       "   * Render data to the DOM node\n",
       "   */\n",
       "  function render(props, node) {\n",
       "    var script = document.createElement(\"script\");\n",
       "    node.appendChild(script);\n",
       "  }\n",
       "\n",
       "  /**\n",
       "   * Handle when an output is cleared or removed\n",
       "   */\n",
       "  function handleClearOutput(event, handle) {\n",
       "    var cell = handle.cell;\n",
       "\n",
       "    var id = cell.output_area._bokeh_element_id;\n",
       "    var server_id = cell.output_area._bokeh_server_id;\n",
       "    // Clean up Bokeh references\n",
       "    if (id != null && id in Bokeh.index) {\n",
       "      Bokeh.index[id].model.document.clear();\n",
       "      delete Bokeh.index[id];\n",
       "    }\n",
       "\n",
       "    if (server_id !== undefined) {\n",
       "      // Clean up Bokeh references\n",
       "      var cmd = \"from bokeh.io.state import curstate; print(curstate().uuid_to_server['\" + server_id + \"'].get_sessions()[0].document.roots[0]._id)\";\n",
       "      cell.notebook.kernel.execute(cmd, {\n",
       "        iopub: {\n",
       "          output: function(msg) {\n",
       "            var id = msg.content.text.trim();\n",
       "            if (id in Bokeh.index) {\n",
       "              Bokeh.index[id].model.document.clear();\n",
       "              delete Bokeh.index[id];\n",
       "            }\n",
       "          }\n",
       "        }\n",
       "      });\n",
       "      // Destroy server and session\n",
       "      var cmd = \"import bokeh.io.notebook as ion; ion.destroy_server('\" + server_id + \"')\";\n",
       "      cell.notebook.kernel.execute(cmd);\n",
       "    }\n",
       "  }\n",
       "\n",
       "  /**\n",
       "   * Handle when a new output is added\n",
       "   */\n",
       "  function handleAddOutput(event, handle) {\n",
       "    var output_area = handle.output_area;\n",
       "    var output = handle.output;\n",
       "\n",
       "    // limit handleAddOutput to display_data with EXEC_MIME_TYPE content only\n",
       "    if ((output.output_type != \"display_data\") || (!output.data.hasOwnProperty(EXEC_MIME_TYPE))) {\n",
       "      return\n",
       "    }\n",
       "\n",
       "    var toinsert = output_area.element.find(\".\" + CLASS_NAME.split(' ')[0]);\n",
       "\n",
       "    if (output.metadata[EXEC_MIME_TYPE][\"id\"] !== undefined) {\n",
       "      toinsert[toinsert.length - 1].firstChild.textContent = output.data[JS_MIME_TYPE];\n",
       "      // store reference to embed id on output_area\n",
       "      output_area._bokeh_element_id = output.metadata[EXEC_MIME_TYPE][\"id\"];\n",
       "    }\n",
       "    if (output.metadata[EXEC_MIME_TYPE][\"server_id\"] !== undefined) {\n",
       "      var bk_div = document.createElement(\"div\");\n",
       "      bk_div.innerHTML = output.data[HTML_MIME_TYPE];\n",
       "      var script_attrs = bk_div.children[0].attributes;\n",
       "      for (var i = 0; i < script_attrs.length; i++) {\n",
       "        toinsert[toinsert.length - 1].firstChild.setAttribute(script_attrs[i].name, script_attrs[i].value);\n",
       "      }\n",
       "      // store reference to server id on output_area\n",
       "      output_area._bokeh_server_id = output.metadata[EXEC_MIME_TYPE][\"server_id\"];\n",
       "    }\n",
       "  }\n",
       "\n",
       "  function register_renderer(events, OutputArea) {\n",
       "\n",
       "    function append_mime(data, metadata, element) {\n",
       "      // create a DOM node to render to\n",
       "      var toinsert = this.create_output_subarea(\n",
       "        metadata,\n",
       "        CLASS_NAME,\n",
       "        EXEC_MIME_TYPE\n",
       "      );\n",
       "      this.keyboard_manager.register_events(toinsert);\n",
       "      // Render to node\n",
       "      var props = {data: data, metadata: metadata[EXEC_MIME_TYPE]};\n",
       "      render(props, toinsert[toinsert.length - 1]);\n",
       "      element.append(toinsert);\n",
       "      return toinsert\n",
       "    }\n",
       "\n",
       "    /* Handle when an output is cleared or removed */\n",
       "    events.on('clear_output.CodeCell', handleClearOutput);\n",
       "    events.on('delete.Cell', handleClearOutput);\n",
       "\n",
       "    /* Handle when a new output is added */\n",
       "    events.on('output_added.OutputArea', handleAddOutput);\n",
       "\n",
       "    /**\n",
       "     * Register the mime type and append_mime function with output_area\n",
       "     */\n",
       "    OutputArea.prototype.register_mime_type(EXEC_MIME_TYPE, append_mime, {\n",
       "      /* Is output safe? */\n",
       "      safe: true,\n",
       "      /* Index of renderer in `output_area.display_order` */\n",
       "      index: 0\n",
       "    });\n",
       "  }\n",
       "\n",
       "  // register the mime type if in Jupyter Notebook environment and previously unregistered\n",
       "  if (root.Jupyter !== undefined) {\n",
       "    var events = require('base/js/events');\n",
       "    var OutputArea = require('notebook/js/outputarea').OutputArea;\n",
       "\n",
       "    if (OutputArea.prototype.mime_types().indexOf(EXEC_MIME_TYPE) == -1) {\n",
       "      register_renderer(events, OutputArea);\n",
       "    }\n",
       "  }\n",
       "\n",
       "  \n",
       "  if (typeof (root._bokeh_timeout) === \"undefined\" || force === true) {\n",
       "    root._bokeh_timeout = Date.now() + 5000;\n",
       "    root._bokeh_failed_load = false;\n",
       "  }\n",
       "\n",
       "  var NB_LOAD_WARNING = {'data': {'text/html':\n",
       "     \"<div style='background-color: #fdd'>\\n\"+\n",
       "     \"<p>\\n\"+\n",
       "     \"BokehJS does not appear to have successfully loaded. If loading BokehJS from CDN, this \\n\"+\n",
       "     \"may be due to a slow or bad network connection. Possible fixes:\\n\"+\n",
       "     \"</p>\\n\"+\n",
       "     \"<ul>\\n\"+\n",
       "     \"<li>re-rerun `output_notebook()` to attempt to load from CDN again, or</li>\\n\"+\n",
       "     \"<li>use INLINE resources instead, as so:</li>\\n\"+\n",
       "     \"</ul>\\n\"+\n",
       "     \"<code>\\n\"+\n",
       "     \"from bokeh.resources import INLINE\\n\"+\n",
       "     \"output_notebook(resources=INLINE)\\n\"+\n",
       "     \"</code>\\n\"+\n",
       "     \"</div>\"}};\n",
       "\n",
       "  function display_loaded() {\n",
       "    var el = document.getElementById(\"1001\");\n",
       "    if (el != null) {\n",
       "      el.textContent = \"BokehJS is loading...\";\n",
       "    }\n",
       "    if (root.Bokeh !== undefined) {\n",
       "      if (el != null) {\n",
       "        el.textContent = \"BokehJS \" + root.Bokeh.version + \" successfully loaded.\";\n",
       "      }\n",
       "    } else if (Date.now() < root._bokeh_timeout) {\n",
       "      setTimeout(display_loaded, 100)\n",
       "    }\n",
       "  }\n",
       "\n",
       "\n",
       "  function run_callbacks() {\n",
       "    try {\n",
       "      root._bokeh_onload_callbacks.forEach(function(callback) {\n",
       "        if (callback != null)\n",
       "          callback();\n",
       "      });\n",
       "    } finally {\n",
       "      delete root._bokeh_onload_callbacks\n",
       "    }\n",
       "    console.debug(\"Bokeh: all callbacks have finished\");\n",
       "  }\n",
       "\n",
       "  function load_libs(css_urls, js_urls, callback) {\n",
       "    if (css_urls == null) css_urls = [];\n",
       "    if (js_urls == null) js_urls = [];\n",
       "\n",
       "    root._bokeh_onload_callbacks.push(callback);\n",
       "    if (root._bokeh_is_loading > 0) {\n",
       "      console.debug(\"Bokeh: BokehJS is being loaded, scheduling callback at\", now());\n",
       "      return null;\n",
       "    }\n",
       "    if (js_urls == null || js_urls.length === 0) {\n",
       "      run_callbacks();\n",
       "      return null;\n",
       "    }\n",
       "    console.debug(\"Bokeh: BokehJS not loaded, scheduling load and callback at\", now());\n",
       "    root._bokeh_is_loading = css_urls.length + js_urls.length;\n",
       "\n",
       "    function on_load() {\n",
       "      root._bokeh_is_loading--;\n",
       "      if (root._bokeh_is_loading === 0) {\n",
       "        console.debug(\"Bokeh: all BokehJS libraries/stylesheets loaded\");\n",
       "        run_callbacks()\n",
       "      }\n",
       "    }\n",
       "\n",
       "    function on_error() {\n",
       "      console.error(\"failed to load \" + url);\n",
       "    }\n",
       "\n",
       "    for (var i = 0; i < css_urls.length; i++) {\n",
       "      var url = css_urls[i];\n",
       "      const element = document.createElement(\"link\");\n",
       "      element.onload = on_load;\n",
       "      element.onerror = on_error;\n",
       "      element.rel = \"stylesheet\";\n",
       "      element.type = \"text/css\";\n",
       "      element.href = url;\n",
       "      console.debug(\"Bokeh: injecting link tag for BokehJS stylesheet: \", url);\n",
       "      document.body.appendChild(element);\n",
       "    }\n",
       "\n",
       "    for (var i = 0; i < js_urls.length; i++) {\n",
       "      var url = js_urls[i];\n",
       "      var element = document.createElement('script');\n",
       "      element.onload = on_load;\n",
       "      element.onerror = on_error;\n",
       "      element.async = false;\n",
       "      element.src = url;\n",
       "      console.debug(\"Bokeh: injecting script tag for BokehJS library: \", url);\n",
       "      document.head.appendChild(element);\n",
       "    }\n",
       "  };var element = document.getElementById(\"1001\");\n",
       "  if (element == null) {\n",
       "    console.error(\"Bokeh: ERROR: autoload.js configured with elementid '1001' but no matching script tag was found. \")\n",
       "    return false;\n",
       "  }\n",
       "\n",
       "  function inject_raw_css(css) {\n",
       "    const element = document.createElement(\"style\");\n",
       "    element.appendChild(document.createTextNode(css));\n",
       "    document.body.appendChild(element);\n",
       "  }\n",
       "\n",
       "  \n",
       "  var js_urls = [\"https://cdn.pydata.org/bokeh/release/bokeh-1.4.0.min.js\", \"https://cdn.pydata.org/bokeh/release/bokeh-widgets-1.4.0.min.js\", \"https://cdn.pydata.org/bokeh/release/bokeh-tables-1.4.0.min.js\", \"https://cdn.pydata.org/bokeh/release/bokeh-gl-1.4.0.min.js\"];\n",
       "  var css_urls = [];\n",
       "  \n",
       "\n",
       "  var inline_js = [\n",
       "    function(Bokeh) {\n",
       "      Bokeh.set_log_level(\"info\");\n",
       "    },\n",
       "    function(Bokeh) {\n",
       "    \n",
       "    \n",
       "    }\n",
       "  ];\n",
       "\n",
       "  function run_inline_js() {\n",
       "    \n",
       "    if (root.Bokeh !== undefined || force === true) {\n",
       "      \n",
       "    for (var i = 0; i < inline_js.length; i++) {\n",
       "      inline_js[i].call(root, root.Bokeh);\n",
       "    }\n",
       "    if (force === true) {\n",
       "        display_loaded();\n",
       "      }} else if (Date.now() < root._bokeh_timeout) {\n",
       "      setTimeout(run_inline_js, 100);\n",
       "    } else if (!root._bokeh_failed_load) {\n",
       "      console.log(\"Bokeh: BokehJS failed to load within specified timeout.\");\n",
       "      root._bokeh_failed_load = true;\n",
       "    } else if (force !== true) {\n",
       "      var cell = $(document.getElementById(\"1001\")).parents('.cell').data().cell;\n",
       "      cell.output_area.append_execute_result(NB_LOAD_WARNING)\n",
       "    }\n",
       "\n",
       "  }\n",
       "\n",
       "  if (root._bokeh_is_loading === 0) {\n",
       "    console.debug(\"Bokeh: BokehJS loaded, going straight to plotting\");\n",
       "    run_inline_js();\n",
       "  } else {\n",
       "    load_libs(css_urls, js_urls, function() {\n",
       "      console.debug(\"Bokeh: BokehJS plotting callback run at\", now());\n",
       "      run_inline_js();\n",
       "    });\n",
       "  }\n",
       "}(window));"
      ],
      "application/vnd.bokehjs_load.v0+json": "\n(function(root) {\n  function now() {\n    return new Date();\n  }\n\n  var force = true;\n\n  if (typeof root._bokeh_onload_callbacks === \"undefined\" || force === true) {\n    root._bokeh_onload_callbacks = [];\n    root._bokeh_is_loading = undefined;\n  }\n\n  \n\n  \n  if (typeof (root._bokeh_timeout) === \"undefined\" || force === true) {\n    root._bokeh_timeout = Date.now() + 5000;\n    root._bokeh_failed_load = false;\n  }\n\n  var NB_LOAD_WARNING = {'data': {'text/html':\n     \"<div style='background-color: #fdd'>\\n\"+\n     \"<p>\\n\"+\n     \"BokehJS does not appear to have successfully loaded. If loading BokehJS from CDN, this \\n\"+\n     \"may be due to a slow or bad network connection. Possible fixes:\\n\"+\n     \"</p>\\n\"+\n     \"<ul>\\n\"+\n     \"<li>re-rerun `output_notebook()` to attempt to load from CDN again, or</li>\\n\"+\n     \"<li>use INLINE resources instead, as so:</li>\\n\"+\n     \"</ul>\\n\"+\n     \"<code>\\n\"+\n     \"from bokeh.resources import INLINE\\n\"+\n     \"output_notebook(resources=INLINE)\\n\"+\n     \"</code>\\n\"+\n     \"</div>\"}};\n\n  function display_loaded() {\n    var el = document.getElementById(\"1001\");\n    if (el != null) {\n      el.textContent = \"BokehJS is loading...\";\n    }\n    if (root.Bokeh !== undefined) {\n      if (el != null) {\n        el.textContent = \"BokehJS \" + root.Bokeh.version + \" successfully loaded.\";\n      }\n    } else if (Date.now() < root._bokeh_timeout) {\n      setTimeout(display_loaded, 100)\n    }\n  }\n\n\n  function run_callbacks() {\n    try {\n      root._bokeh_onload_callbacks.forEach(function(callback) {\n        if (callback != null)\n          callback();\n      });\n    } finally {\n      delete root._bokeh_onload_callbacks\n    }\n    console.debug(\"Bokeh: all callbacks have finished\");\n  }\n\n  function load_libs(css_urls, js_urls, callback) {\n    if (css_urls == null) css_urls = [];\n    if (js_urls == null) js_urls = [];\n\n    root._bokeh_onload_callbacks.push(callback);\n    if (root._bokeh_is_loading > 0) {\n      console.debug(\"Bokeh: BokehJS is being loaded, scheduling callback at\", now());\n      return null;\n    }\n    if (js_urls == null || js_urls.length === 0) {\n      run_callbacks();\n      return null;\n    }\n    console.debug(\"Bokeh: BokehJS not loaded, scheduling load and callback at\", now());\n    root._bokeh_is_loading = css_urls.length + js_urls.length;\n\n    function on_load() {\n      root._bokeh_is_loading--;\n      if (root._bokeh_is_loading === 0) {\n        console.debug(\"Bokeh: all BokehJS libraries/stylesheets loaded\");\n        run_callbacks()\n      }\n    }\n\n    function on_error() {\n      console.error(\"failed to load \" + url);\n    }\n\n    for (var i = 0; i < css_urls.length; i++) {\n      var url = css_urls[i];\n      const element = document.createElement(\"link\");\n      element.onload = on_load;\n      element.onerror = on_error;\n      element.rel = \"stylesheet\";\n      element.type = \"text/css\";\n      element.href = url;\n      console.debug(\"Bokeh: injecting link tag for BokehJS stylesheet: \", url);\n      document.body.appendChild(element);\n    }\n\n    for (var i = 0; i < js_urls.length; i++) {\n      var url = js_urls[i];\n      var element = document.createElement('script');\n      element.onload = on_load;\n      element.onerror = on_error;\n      element.async = false;\n      element.src = url;\n      console.debug(\"Bokeh: injecting script tag for BokehJS library: \", url);\n      document.head.appendChild(element);\n    }\n  };var element = document.getElementById(\"1001\");\n  if (element == null) {\n    console.error(\"Bokeh: ERROR: autoload.js configured with elementid '1001' but no matching script tag was found. \")\n    return false;\n  }\n\n  function inject_raw_css(css) {\n    const element = document.createElement(\"style\");\n    element.appendChild(document.createTextNode(css));\n    document.body.appendChild(element);\n  }\n\n  \n  var js_urls = [\"https://cdn.pydata.org/bokeh/release/bokeh-1.4.0.min.js\", \"https://cdn.pydata.org/bokeh/release/bokeh-widgets-1.4.0.min.js\", \"https://cdn.pydata.org/bokeh/release/bokeh-tables-1.4.0.min.js\", \"https://cdn.pydata.org/bokeh/release/bokeh-gl-1.4.0.min.js\"];\n  var css_urls = [];\n  \n\n  var inline_js = [\n    function(Bokeh) {\n      Bokeh.set_log_level(\"info\");\n    },\n    function(Bokeh) {\n    \n    \n    }\n  ];\n\n  function run_inline_js() {\n    \n    if (root.Bokeh !== undefined || force === true) {\n      \n    for (var i = 0; i < inline_js.length; i++) {\n      inline_js[i].call(root, root.Bokeh);\n    }\n    if (force === true) {\n        display_loaded();\n      }} else if (Date.now() < root._bokeh_timeout) {\n      setTimeout(run_inline_js, 100);\n    } else if (!root._bokeh_failed_load) {\n      console.log(\"Bokeh: BokehJS failed to load within specified timeout.\");\n      root._bokeh_failed_load = true;\n    } else if (force !== true) {\n      var cell = $(document.getElementById(\"1001\")).parents('.cell').data().cell;\n      cell.output_area.append_execute_result(NB_LOAD_WARNING)\n    }\n\n  }\n\n  if (root._bokeh_is_loading === 0) {\n    console.debug(\"Bokeh: BokehJS loaded, going straight to plotting\");\n    run_inline_js();\n  } else {\n    load_libs(css_urls, js_urls, function() {\n      console.debug(\"Bokeh: BokehJS plotting callback run at\", now());\n      run_inline_js();\n    });\n  }\n}(window));"
     },
     "metadata": {},
     "output_type": "display_data"
    }
   ],
   "source": [
    "output_notebook()"
   ]
  },
  {
   "cell_type": "markdown",
   "metadata": {},
   "source": [
    "## Configuring Plot tools"
   ]
  },
  {
   "cell_type": "code",
   "execution_count": 13,
   "metadata": {},
   "outputs": [
    {
     "data": {
      "text/html": [
       "\n",
       "\n",
       "\n",
       "\n",
       "\n",
       "\n",
       "  <div class=\"bk-root\" id=\"1b9f0bb2-386b-4b82-b717-fdbcfe20b4a9\" data-root-id=\"2039\"></div>\n"
      ]
     },
     "metadata": {},
     "output_type": "display_data"
    },
    {
     "data": {
      "application/javascript": [
       "(function(root) {\n",
       "  function embed_document(root) {\n",
       "    \n",
       "  var docs_json = {\"67b78b4a-2a8e-4f0b-a51e-3952682d8407\":{\"roots\":{\"references\":[{\"attributes\":{\"below\":[{\"id\":\"2050\",\"type\":\"LinearAxis\"}],\"center\":[{\"id\":\"2054\",\"type\":\"Grid\"},{\"id\":\"2059\",\"type\":\"Grid\"}],\"left\":[{\"id\":\"2055\",\"type\":\"LinearAxis\"}],\"plot_height\":300,\"plot_width\":700,\"renderers\":[{\"id\":\"2076\",\"type\":\"GlyphRenderer\"}],\"title\":{\"id\":\"2040\",\"type\":\"Title\"},\"toolbar\":{\"id\":\"2066\",\"type\":\"Toolbar\"},\"toolbar_location\":\"above\",\"x_range\":{\"id\":\"2042\",\"type\":\"DataRange1d\"},\"x_scale\":{\"id\":\"2046\",\"type\":\"LinearScale\"},\"y_range\":{\"id\":\"2044\",\"type\":\"DataRange1d\"},\"y_scale\":{\"id\":\"2048\",\"type\":\"LinearScale\"}},\"id\":\"2039\",\"subtype\":\"Figure\",\"type\":\"Plot\"},{\"attributes\":{\"bottom_units\":\"screen\",\"fill_alpha\":{\"value\":0.5},\"fill_color\":{\"value\":\"lightgrey\"},\"left_units\":\"screen\",\"level\":\"overlay\",\"line_alpha\":{\"value\":1.0},\"line_color\":{\"value\":\"black\"},\"line_dash\":[4,4],\"line_width\":{\"value\":2},\"render_mode\":\"css\",\"right_units\":\"screen\",\"top_units\":\"screen\"},\"id\":\"2154\",\"type\":\"BoxAnnotation\"},{\"attributes\":{\"callback\":null},\"id\":\"2044\",\"type\":\"DataRange1d\"},{\"attributes\":{},\"id\":\"2046\",\"type\":\"LinearScale\"},{\"attributes\":{\"callback\":null},\"id\":\"2042\",\"type\":\"DataRange1d\"},{\"attributes\":{\"fill_color\":{\"value\":\"red\"},\"line_color\":{\"value\":\"red\"},\"size\":{\"units\":\"screen\",\"value\":15},\"x\":{\"field\":\"x\"},\"y\":{\"field\":\"y\"}},\"id\":\"2074\",\"type\":\"Circle\"},{\"attributes\":{\"fill_alpha\":{\"value\":0.1},\"fill_color\":{\"value\":\"#1f77b4\"},\"line_alpha\":{\"value\":0.1},\"line_color\":{\"value\":\"#1f77b4\"},\"size\":{\"units\":\"screen\",\"value\":15},\"x\":{\"field\":\"x\"},\"y\":{\"field\":\"y\"}},\"id\":\"2075\",\"type\":\"Circle\"},{\"attributes\":{\"text\":\"Plotting tool examples\"},\"id\":\"2040\",\"type\":\"Title\"},{\"attributes\":{},\"id\":\"2149\",\"type\":\"BasicTickFormatter\"},{\"attributes\":{\"active_drag\":\"auto\",\"active_inspect\":\"auto\",\"active_multi\":null,\"active_scroll\":\"auto\",\"active_tap\":\"auto\",\"tools\":[{\"id\":\"2060\",\"type\":\"PanTool\"},{\"id\":\"2061\",\"type\":\"WheelZoomTool\"},{\"id\":\"2062\",\"type\":\"BoxZoomTool\"},{\"id\":\"2063\",\"type\":\"SaveTool\"},{\"id\":\"2064\",\"type\":\"ResetTool\"},{\"id\":\"2065\",\"type\":\"HelpTool\"}]},\"id\":\"2066\",\"type\":\"Toolbar\"},{\"attributes\":{\"formatter\":{\"id\":\"2149\",\"type\":\"BasicTickFormatter\"},\"ticker\":{\"id\":\"2051\",\"type\":\"BasicTicker\"}},\"id\":\"2050\",\"type\":\"LinearAxis\"},{\"attributes\":{},\"id\":\"2151\",\"type\":\"BasicTickFormatter\"},{\"attributes\":{\"ticker\":{\"id\":\"2051\",\"type\":\"BasicTicker\"}},\"id\":\"2054\",\"type\":\"Grid\"},{\"attributes\":{},\"id\":\"2064\",\"type\":\"ResetTool\"},{\"attributes\":{},\"id\":\"2051\",\"type\":\"BasicTicker\"},{\"attributes\":{},\"id\":\"2056\",\"type\":\"BasicTicker\"},{\"attributes\":{},\"id\":\"2048\",\"type\":\"LinearScale\"},{\"attributes\":{\"formatter\":{\"id\":\"2151\",\"type\":\"BasicTickFormatter\"},\"ticker\":{\"id\":\"2056\",\"type\":\"BasicTicker\"}},\"id\":\"2055\",\"type\":\"LinearAxis\"},{\"attributes\":{\"dimension\":1,\"ticker\":{\"id\":\"2056\",\"type\":\"BasicTicker\"}},\"id\":\"2059\",\"type\":\"Grid\"},{\"attributes\":{},\"id\":\"2152\",\"type\":\"UnionRenderers\"},{\"attributes\":{},\"id\":\"2061\",\"type\":\"WheelZoomTool\"},{\"attributes\":{},\"id\":\"2060\",\"type\":\"PanTool\"},{\"attributes\":{\"source\":{\"id\":\"2073\",\"type\":\"ColumnDataSource\"}},\"id\":\"2077\",\"type\":\"CDSView\"},{\"attributes\":{\"callback\":null,\"data\":{\"x\":[1,2,3,4,5],\"y\":[5,3,2,4,6]},\"selected\":{\"id\":\"2153\",\"type\":\"Selection\"},\"selection_policy\":{\"id\":\"2152\",\"type\":\"UnionRenderers\"}},\"id\":\"2073\",\"type\":\"ColumnDataSource\"},{\"attributes\":{\"overlay\":{\"id\":\"2154\",\"type\":\"BoxAnnotation\"}},\"id\":\"2062\",\"type\":\"BoxZoomTool\"},{\"attributes\":{},\"id\":\"2153\",\"type\":\"Selection\"},{\"attributes\":{\"data_source\":{\"id\":\"2073\",\"type\":\"ColumnDataSource\"},\"glyph\":{\"id\":\"2074\",\"type\":\"Circle\"},\"hover_glyph\":null,\"muted_glyph\":null,\"nonselection_glyph\":{\"id\":\"2075\",\"type\":\"Circle\"},\"selection_glyph\":null,\"view\":{\"id\":\"2077\",\"type\":\"CDSView\"}},\"id\":\"2076\",\"type\":\"GlyphRenderer\"},{\"attributes\":{},\"id\":\"2063\",\"type\":\"SaveTool\"},{\"attributes\":{},\"id\":\"2065\",\"type\":\"HelpTool\"}],\"root_ids\":[\"2039\"]},\"title\":\"Bokeh Application\",\"version\":\"1.4.0\"}};\n",
       "  var render_items = [{\"docid\":\"67b78b4a-2a8e-4f0b-a51e-3952682d8407\",\"roots\":{\"2039\":\"1b9f0bb2-386b-4b82-b717-fdbcfe20b4a9\"}}];\n",
       "  root.Bokeh.embed.embed_items_notebook(docs_json, render_items);\n",
       "\n",
       "  }\n",
       "  if (root.Bokeh !== undefined) {\n",
       "    embed_document(root);\n",
       "  } else {\n",
       "    var attempts = 0;\n",
       "    var timer = setInterval(function(root) {\n",
       "      if (root.Bokeh !== undefined) {\n",
       "        clearInterval(timer);\n",
       "        embed_document(root);\n",
       "      } else {\n",
       "        attempts++;\n",
       "        if (attempts > 100) {\n",
       "          clearInterval(timer);\n",
       "          console.log(\"Bokeh: ERROR: Unable to run BokehJS code because BokehJS library is missing\");\n",
       "        }\n",
       "      }\n",
       "    }, 10, root)\n",
       "  }\n",
       "})(window);"
      ],
      "application/vnd.bokehjs_exec.v0+json": ""
     },
     "metadata": {
      "application/vnd.bokehjs_exec.v0+json": {
       "id": "2039"
      }
     },
     "output_type": "display_data"
    }
   ],
   "source": [
    "p = figure(plot_width=700, plot_height=300, title='Plotting tool examples',\n",
    "             toolbar_location=\"above\" )\n",
    "p.circle(x=[1,2,3,4,5], y=[5,3,2,4,6], size=15, color='red')\n",
    "show(p)"
   ]
  },
  {
   "cell_type": "code",
   "execution_count": 19,
   "metadata": {},
   "outputs": [
    {
     "data": {
      "text/html": [
       "\n",
       "\n",
       "\n",
       "\n",
       "\n",
       "\n",
       "  <div class=\"bk-root\" id=\"6e8bd555-8ca6-431b-aa3e-864ced1594f3\" data-root-id=\"2749\"></div>\n"
      ]
     },
     "metadata": {},
     "output_type": "display_data"
    },
    {
     "data": {
      "application/javascript": [
       "(function(root) {\n",
       "  function embed_document(root) {\n",
       "    \n",
       "  var docs_json = {\"93d64992-4ea9-48b2-a60e-d96b8a090a96\":{\"roots\":{\"references\":[{\"attributes\":{\"below\":[{\"id\":\"2760\",\"type\":\"LinearAxis\"}],\"center\":[{\"id\":\"2764\",\"type\":\"Grid\"},{\"id\":\"2769\",\"type\":\"Grid\"}],\"left\":[{\"id\":\"2765\",\"type\":\"LinearAxis\"}],\"plot_height\":300,\"plot_width\":700,\"renderers\":[{\"id\":\"2786\",\"type\":\"GlyphRenderer\"}],\"title\":{\"id\":\"2750\",\"type\":\"Title\"},\"toolbar\":{\"id\":\"2776\",\"type\":\"Toolbar\"},\"toolbar_location\":\"above\",\"x_range\":{\"id\":\"2752\",\"type\":\"DataRange1d\"},\"x_scale\":{\"id\":\"2756\",\"type\":\"LinearScale\"},\"y_range\":{\"id\":\"2754\",\"type\":\"DataRange1d\"},\"y_scale\":{\"id\":\"2758\",\"type\":\"LinearScale\"}},\"id\":\"2749\",\"subtype\":\"Figure\",\"type\":\"Plot\"},{\"attributes\":{},\"id\":\"2758\",\"type\":\"LinearScale\"},{\"attributes\":{\"fill_color\":{\"value\":\"yellow\"},\"line_color\":{\"value\":\"yellow\"},\"size\":{\"units\":\"screen\",\"value\":20},\"x\":{\"field\":\"x\"},\"y\":{\"field\":\"y\"}},\"id\":\"2784\",\"type\":\"Circle\"},{\"attributes\":{},\"id\":\"2756\",\"type\":\"LinearScale\"},{\"attributes\":{\"callback\":null},\"id\":\"2752\",\"type\":\"DataRange1d\"},{\"attributes\":{\"text\":\"Plotting tool examples\"},\"id\":\"2750\",\"type\":\"Title\"},{\"attributes\":{\"callback\":null,\"data\":{\"x\":[1,2,3,4,5],\"y\":[5,3,2,4,6]},\"selected\":{\"id\":\"2895\",\"type\":\"Selection\"},\"selection_policy\":{\"id\":\"2894\",\"type\":\"UnionRenderers\"}},\"id\":\"2783\",\"type\":\"ColumnDataSource\"},{\"attributes\":{\"fill_alpha\":{\"value\":0.1},\"fill_color\":{\"value\":\"#1f77b4\"},\"line_alpha\":{\"value\":0.1},\"line_color\":{\"value\":\"#1f77b4\"},\"size\":{\"units\":\"screen\",\"value\":20},\"x\":{\"field\":\"x\"},\"y\":{\"field\":\"y\"}},\"id\":\"2785\",\"type\":\"Circle\"},{\"attributes\":{\"callback\":null},\"id\":\"2754\",\"type\":\"DataRange1d\"},{\"attributes\":{},\"id\":\"2895\",\"type\":\"Selection\"},{\"attributes\":{},\"id\":\"2761\",\"type\":\"BasicTicker\"},{\"attributes\":{},\"id\":\"2766\",\"type\":\"BasicTicker\"},{\"attributes\":{\"formatter\":{\"id\":\"2891\",\"type\":\"BasicTickFormatter\"},\"ticker\":{\"id\":\"2761\",\"type\":\"BasicTicker\"}},\"id\":\"2760\",\"type\":\"LinearAxis\"},{\"attributes\":{\"ticker\":{\"id\":\"2761\",\"type\":\"BasicTicker\"}},\"id\":\"2764\",\"type\":\"Grid\"},{\"attributes\":{\"dimension\":1,\"ticker\":{\"id\":\"2766\",\"type\":\"BasicTicker\"}},\"id\":\"2769\",\"type\":\"Grid\"},{\"attributes\":{\"formatter\":{\"id\":\"2893\",\"type\":\"BasicTickFormatter\"},\"ticker\":{\"id\":\"2766\",\"type\":\"BasicTicker\"}},\"id\":\"2765\",\"type\":\"LinearAxis\"},{\"attributes\":{\"active_drag\":\"auto\",\"active_inspect\":\"auto\",\"active_multi\":null,\"active_scroll\":\"auto\",\"active_tap\":\"auto\",\"tools\":[{\"id\":\"2770\",\"type\":\"PanTool\"},{\"id\":\"2771\",\"type\":\"WheelZoomTool\"},{\"id\":\"2772\",\"type\":\"BoxZoomTool\"},{\"id\":\"2773\",\"type\":\"SaveTool\"},{\"id\":\"2774\",\"type\":\"ResetTool\"},{\"id\":\"2775\",\"type\":\"HelpTool\"}]},\"id\":\"2776\",\"type\":\"Toolbar\"},{\"attributes\":{\"overlay\":{\"id\":\"2896\",\"type\":\"BoxAnnotation\"}},\"id\":\"2772\",\"type\":\"BoxZoomTool\"},{\"attributes\":{},\"id\":\"2771\",\"type\":\"WheelZoomTool\"},{\"attributes\":{},\"id\":\"2770\",\"type\":\"PanTool\"},{\"attributes\":{},\"id\":\"2894\",\"type\":\"UnionRenderers\"},{\"attributes\":{\"source\":{\"id\":\"2783\",\"type\":\"ColumnDataSource\"}},\"id\":\"2787\",\"type\":\"CDSView\"},{\"attributes\":{},\"id\":\"2893\",\"type\":\"BasicTickFormatter\"},{\"attributes\":{},\"id\":\"2774\",\"type\":\"ResetTool\"},{\"attributes\":{},\"id\":\"2775\",\"type\":\"HelpTool\"},{\"attributes\":{\"bottom_units\":\"screen\",\"fill_alpha\":{\"value\":0.5},\"fill_color\":{\"value\":\"lightgrey\"},\"left_units\":\"screen\",\"level\":\"overlay\",\"line_alpha\":{\"value\":1.0},\"line_color\":{\"value\":\"black\"},\"line_dash\":[4,4],\"line_width\":{\"value\":2},\"render_mode\":\"css\",\"right_units\":\"screen\",\"top_units\":\"screen\"},\"id\":\"2896\",\"type\":\"BoxAnnotation\"},{\"attributes\":{},\"id\":\"2773\",\"type\":\"SaveTool\"},{\"attributes\":{\"data_source\":{\"id\":\"2783\",\"type\":\"ColumnDataSource\"},\"glyph\":{\"id\":\"2784\",\"type\":\"Circle\"},\"hover_glyph\":null,\"muted_glyph\":null,\"nonselection_glyph\":{\"id\":\"2785\",\"type\":\"Circle\"},\"selection_glyph\":null,\"view\":{\"id\":\"2787\",\"type\":\"CDSView\"}},\"id\":\"2786\",\"type\":\"GlyphRenderer\"},{\"attributes\":{},\"id\":\"2891\",\"type\":\"BasicTickFormatter\"}],\"root_ids\":[\"2749\"]},\"title\":\"Bokeh Application\",\"version\":\"1.4.0\"}};\n",
       "  var render_items = [{\"docid\":\"93d64992-4ea9-48b2-a60e-d96b8a090a96\",\"roots\":{\"2749\":\"6e8bd555-8ca6-431b-aa3e-864ced1594f3\"}}];\n",
       "  root.Bokeh.embed.embed_items_notebook(docs_json, render_items);\n",
       "\n",
       "  }\n",
       "  if (root.Bokeh !== undefined) {\n",
       "    embed_document(root);\n",
       "  } else {\n",
       "    var attempts = 0;\n",
       "    var timer = setInterval(function(root) {\n",
       "      if (root.Bokeh !== undefined) {\n",
       "        clearInterval(timer);\n",
       "        embed_document(root);\n",
       "      } else {\n",
       "        attempts++;\n",
       "        if (attempts > 100) {\n",
       "          clearInterval(timer);\n",
       "          console.log(\"Bokeh: ERROR: Unable to run BokehJS code because BokehJS library is missing\");\n",
       "        }\n",
       "      }\n",
       "    }, 10, root)\n",
       "  }\n",
       "})(window);"
      ],
      "application/vnd.bokehjs_exec.v0+json": ""
     },
     "metadata": {
      "application/vnd.bokehjs_exec.v0+json": {
       "id": "2749"
      }
     },
     "output_type": "display_data"
    }
   ],
   "source": [
    "p = figure(plot_width=700, plot_height=300, title='Plotting tool examples',\n",
    "             toolbar_location=\"above\",toolbar_sticky=True )\n",
    "p.circle(x=[1,2,3,4,5], y=[5,3,2,4,6], size=20, color='yellow')\n",
    "show(p)"
   ]
  },
  {
   "cell_type": "code",
   "execution_count": 20,
   "metadata": {},
   "outputs": [
    {
     "data": {
      "text/html": [
       "\n",
       "\n",
       "\n",
       "\n",
       "\n",
       "\n",
       "  <div class=\"bk-root\" id=\"ccde0d2e-84db-4388-a830-8bc9951d884d\" data-root-id=\"2946\"></div>\n"
      ]
     },
     "metadata": {},
     "output_type": "display_data"
    },
    {
     "data": {
      "application/javascript": [
       "(function(root) {\n",
       "  function embed_document(root) {\n",
       "    \n",
       "  var docs_json = {\"1c61a30f-2b53-4c62-9d01-da600f7c3e26\":{\"roots\":{\"references\":[{\"attributes\":{\"below\":[{\"id\":\"2957\",\"type\":\"LinearAxis\"}],\"center\":[{\"id\":\"2961\",\"type\":\"Grid\"},{\"id\":\"2966\",\"type\":\"Grid\"}],\"left\":[{\"id\":\"2962\",\"type\":\"LinearAxis\"}],\"plot_height\":400,\"plot_width\":700,\"renderers\":[{\"id\":\"2985\",\"type\":\"GlyphRenderer\"}],\"title\":{\"id\":\"2947\",\"type\":\"Title\"},\"toolbar\":{\"id\":\"2974\",\"type\":\"Toolbar\"},\"x_range\":{\"id\":\"2949\",\"type\":\"DataRange1d\"},\"x_scale\":{\"id\":\"2953\",\"type\":\"LinearScale\"},\"y_range\":{\"id\":\"2951\",\"type\":\"DataRange1d\"},\"y_scale\":{\"id\":\"2955\",\"type\":\"LinearScale\"}},\"id\":\"2946\",\"subtype\":\"Figure\",\"type\":\"Plot\"},{\"attributes\":{},\"id\":\"2958\",\"type\":\"BasicTicker\"},{\"attributes\":{\"ticker\":{\"id\":\"2958\",\"type\":\"BasicTicker\"}},\"id\":\"2961\",\"type\":\"Grid\"},{\"attributes\":{\"callback\":null},\"id\":\"2949\",\"type\":\"DataRange1d\"},{\"attributes\":{\"dimension\":1,\"ticker\":{\"id\":\"2963\",\"type\":\"BasicTicker\"}},\"id\":\"2966\",\"type\":\"Grid\"},{\"attributes\":{\"fill_color\":{\"value\":\"#1f77b4\"},\"line_color\":{\"value\":\"#1f77b4\"},\"size\":{\"units\":\"screen\",\"value\":20},\"x\":{\"field\":\"x\"},\"y\":{\"field\":\"y\"}},\"id\":\"2983\",\"type\":\"Circle\"},{\"attributes\":{},\"id\":\"2955\",\"type\":\"LinearScale\"},{\"attributes\":{},\"id\":\"2963\",\"type\":\"BasicTicker\"},{\"attributes\":{\"callback\":null},\"id\":\"2951\",\"type\":\"DataRange1d\"},{\"attributes\":{\"callback\":null,\"tooltips\":[[\"index\",\"$index\"],[\"(x,y)\",\"($x, $y)\"],[\"desc\",\"@desc\"]]},\"id\":\"2973\",\"type\":\"HoverTool\"},{\"attributes\":{\"formatter\":{\"id\":\"3098\",\"type\":\"BasicTickFormatter\"},\"ticker\":{\"id\":\"2958\",\"type\":\"BasicTicker\"}},\"id\":\"2957\",\"type\":\"LinearAxis\"},{\"attributes\":{},\"id\":\"2967\",\"type\":\"PanTool\"},{\"attributes\":{},\"id\":\"2968\",\"type\":\"WheelZoomTool\"},{\"attributes\":{\"overlay\":{\"id\":\"3103\",\"type\":\"BoxAnnotation\"}},\"id\":\"2969\",\"type\":\"BoxZoomTool\"},{\"attributes\":{},\"id\":\"2970\",\"type\":\"SaveTool\"},{\"attributes\":{},\"id\":\"2971\",\"type\":\"ResetTool\"},{\"attributes\":{\"fill_alpha\":{\"value\":0.1},\"fill_color\":{\"value\":\"#1f77b4\"},\"line_alpha\":{\"value\":0.1},\"line_color\":{\"value\":\"#1f77b4\"},\"size\":{\"units\":\"screen\",\"value\":20},\"x\":{\"field\":\"x\"},\"y\":{\"field\":\"y\"}},\"id\":\"2984\",\"type\":\"Circle\"},{\"attributes\":{},\"id\":\"2972\",\"type\":\"HelpTool\"},{\"attributes\":{\"text\":\"Mouse over the dots\"},\"id\":\"2947\",\"type\":\"Title\"},{\"attributes\":{},\"id\":\"3100\",\"type\":\"BasicTickFormatter\"},{\"attributes\":{\"active_drag\":\"auto\",\"active_inspect\":\"auto\",\"active_multi\":null,\"active_scroll\":\"auto\",\"active_tap\":\"auto\",\"tools\":[{\"id\":\"2967\",\"type\":\"PanTool\"},{\"id\":\"2968\",\"type\":\"WheelZoomTool\"},{\"id\":\"2969\",\"type\":\"BoxZoomTool\"},{\"id\":\"2970\",\"type\":\"SaveTool\"},{\"id\":\"2971\",\"type\":\"ResetTool\"},{\"id\":\"2972\",\"type\":\"HelpTool\"},{\"id\":\"2973\",\"type\":\"HoverTool\"}]},\"id\":\"2974\",\"type\":\"Toolbar\"},{\"attributes\":{\"source\":{\"id\":\"2945\",\"type\":\"ColumnDataSource\"}},\"id\":\"2986\",\"type\":\"CDSView\"},{\"attributes\":{},\"id\":\"3098\",\"type\":\"BasicTickFormatter\"},{\"attributes\":{\"data_source\":{\"id\":\"2945\",\"type\":\"ColumnDataSource\"},\"glyph\":{\"id\":\"2983\",\"type\":\"Circle\"},\"hover_glyph\":null,\"muted_glyph\":null,\"nonselection_glyph\":{\"id\":\"2984\",\"type\":\"Circle\"},\"selection_glyph\":null,\"view\":{\"id\":\"2986\",\"type\":\"CDSView\"}},\"id\":\"2985\",\"type\":\"GlyphRenderer\"},{\"attributes\":{},\"id\":\"3102\",\"type\":\"Selection\"},{\"attributes\":{\"bottom_units\":\"screen\",\"fill_alpha\":{\"value\":0.5},\"fill_color\":{\"value\":\"lightgrey\"},\"left_units\":\"screen\",\"level\":\"overlay\",\"line_alpha\":{\"value\":1.0},\"line_color\":{\"value\":\"black\"},\"line_dash\":[4,4],\"line_width\":{\"value\":2},\"render_mode\":\"css\",\"right_units\":\"screen\",\"top_units\":\"screen\"},\"id\":\"3103\",\"type\":\"BoxAnnotation\"},{\"attributes\":{},\"id\":\"3101\",\"type\":\"UnionRenderers\"},{\"attributes\":{\"formatter\":{\"id\":\"3100\",\"type\":\"BasicTickFormatter\"},\"ticker\":{\"id\":\"2963\",\"type\":\"BasicTicker\"}},\"id\":\"2962\",\"type\":\"LinearAxis\"},{\"attributes\":{\"callback\":null,\"data\":{\"desc\":[\"A\",\"b\",\"C\",\"D\",\"E\"],\"x\":[1,2,3,4,5],\"y\":[2,5,8,2,7]},\"selected\":{\"id\":\"3102\",\"type\":\"Selection\"},\"selection_policy\":{\"id\":\"3101\",\"type\":\"UnionRenderers\"}},\"id\":\"2945\",\"type\":\"ColumnDataSource\"},{\"attributes\":{},\"id\":\"2953\",\"type\":\"LinearScale\"}],\"root_ids\":[\"2946\"]},\"title\":\"Bokeh Application\",\"version\":\"1.4.0\"}};\n",
       "  var render_items = [{\"docid\":\"1c61a30f-2b53-4c62-9d01-da600f7c3e26\",\"roots\":{\"2946\":\"ccde0d2e-84db-4388-a830-8bc9951d884d\"}}];\n",
       "  root.Bokeh.embed.embed_items_notebook(docs_json, render_items);\n",
       "\n",
       "  }\n",
       "  if (root.Bokeh !== undefined) {\n",
       "    embed_document(root);\n",
       "  } else {\n",
       "    var attempts = 0;\n",
       "    var timer = setInterval(function(root) {\n",
       "      if (root.Bokeh !== undefined) {\n",
       "        clearInterval(timer);\n",
       "        embed_document(root);\n",
       "      } else {\n",
       "        attempts++;\n",
       "        if (attempts > 100) {\n",
       "          clearInterval(timer);\n",
       "          console.log(\"Bokeh: ERROR: Unable to run BokehJS code because BokehJS library is missing\");\n",
       "        }\n",
       "      }\n",
       "    }, 10, root)\n",
       "  }\n",
       "})(window);"
      ],
      "application/vnd.bokehjs_exec.v0+json": ""
     },
     "metadata": {
      "application/vnd.bokehjs_exec.v0+json": {
       "id": "2946"
      }
     },
     "output_type": "display_data"
    }
   ],
   "source": [
    "from bokeh.plotting import ColumnDataSource\n",
    "\n",
    "source = ColumnDataSource(data=dict(\n",
    "    x=[1, 2, 3, 4, 5],\n",
    "    y=[2, 5, 8, 2, 7],\n",
    "    desc=['A', 'b', 'C', 'D', 'E'],\n",
    "))\n",
    "\n",
    "TOOLTIPS = [\n",
    "           (\"index\", \"$index\"),\n",
    "           (\"(x,y)\", \"($x, $y)\"),\n",
    "           (\"desc\", \"@desc\"),\n",
    "           ]\n",
    "p = figure(plot_width=700, plot_height=400, tooltips=TOOLTIPS, title=\"Mouse over the dots\")\n",
    "p.circle('x', 'y', size=20, source=source)\n",
    "show(p)"
   ]
  },
  {
   "cell_type": "markdown",
   "metadata": {},
   "source": [
    "## Styling Visual Attributes"
   ]
  },
  {
   "cell_type": "markdown",
   "metadata": {},
   "source": [
    "### Using Palettes"
   ]
  },
  {
   "cell_type": "code",
   "execution_count": 21,
   "metadata": {},
   "outputs": [],
   "source": [
    "from bokeh.palettes import Spectral6"
   ]
  },
  {
   "cell_type": "code",
   "execution_count": 22,
   "metadata": {},
   "outputs": [
    {
     "data": {
      "text/plain": [
       "['#3288bd', '#99d594', '#e6f598', '#fee08b', '#fc8d59', '#d53e4f']"
      ]
     },
     "execution_count": 22,
     "metadata": {},
     "output_type": "execute_result"
    }
   ],
   "source": [
    "Spectral6"
   ]
  },
  {
   "cell_type": "code",
   "execution_count": 27,
   "metadata": {
    "scrolled": true
   },
   "outputs": [
    {
     "data": {
      "text/html": [
       "\n",
       "\n",
       "\n",
       "\n",
       "\n",
       "\n",
       "  <div class=\"bk-root\" id=\"189ecc24-87b6-4c2f-8a35-563d2cfe49eb\" data-root-id=\"4127\"></div>\n"
      ]
     },
     "metadata": {},
     "output_type": "display_data"
    },
    {
     "data": {
      "application/javascript": [
       "(function(root) {\n",
       "  function embed_document(root) {\n",
       "    \n",
       "  var docs_json = {\"7c780c83-88d9-4a00-923d-6e152daa096b\":{\"roots\":{\"references\":[{\"attributes\":{\"below\":[{\"id\":\"4138\",\"type\":\"LinearAxis\"}],\"center\":[{\"id\":\"4142\",\"type\":\"Grid\"},{\"id\":\"4147\",\"type\":\"Grid\"}],\"left\":[{\"id\":\"4143\",\"type\":\"LinearAxis\"}],\"plot_height\":300,\"renderers\":[{\"id\":\"4164\",\"type\":\"GlyphRenderer\"}],\"right\":[{\"id\":\"3193\",\"type\":\"ColorBar\"}],\"title\":{\"id\":\"4128\",\"type\":\"Title\"},\"toolbar\":{\"id\":\"4154\",\"type\":\"Toolbar\"},\"x_range\":{\"id\":\"4130\",\"type\":\"DataRange1d\"},\"x_scale\":{\"id\":\"4134\",\"type\":\"LinearScale\"},\"y_range\":{\"id\":\"4132\",\"type\":\"DataRange1d\"},\"y_scale\":{\"id\":\"4136\",\"type\":\"LinearScale\"}},\"id\":\"4127\",\"subtype\":\"Figure\",\"type\":\"Plot\"},{\"attributes\":{\"active_drag\":\"auto\",\"active_inspect\":\"auto\",\"active_multi\":null,\"active_scroll\":\"auto\",\"active_tap\":\"auto\",\"tools\":[{\"id\":\"4148\",\"type\":\"PanTool\"},{\"id\":\"4149\",\"type\":\"WheelZoomTool\"},{\"id\":\"4150\",\"type\":\"BoxZoomTool\"},{\"id\":\"4151\",\"type\":\"SaveTool\"},{\"id\":\"4152\",\"type\":\"ResetTool\"},{\"id\":\"4153\",\"type\":\"HelpTool\"}]},\"id\":\"4154\",\"type\":\"Toolbar\"},{\"attributes\":{\"text\":\"Linear Color Map Based on Y\"},\"id\":\"4128\",\"type\":\"Title\"},{\"attributes\":{},\"id\":\"4139\",\"type\":\"BasicTicker\"},{\"attributes\":{\"callback\":null},\"id\":\"4130\",\"type\":\"DataRange1d\"},{\"attributes\":{\"source\":{\"id\":\"4125\",\"type\":\"ColumnDataSource\"}},\"id\":\"4165\",\"type\":\"CDSView\"},{\"attributes\":{},\"id\":\"4331\",\"type\":\"Selection\"},{\"attributes\":{},\"id\":\"4134\",\"type\":\"LinearScale\"},{\"attributes\":{\"formatter\":{\"id\":\"4325\",\"type\":\"BasicTickFormatter\"},\"ticker\":{\"id\":\"4139\",\"type\":\"BasicTicker\"}},\"id\":\"4138\",\"type\":\"LinearAxis\"},{\"attributes\":{\"fill_alpha\":{\"value\":0.1},\"fill_color\":{\"value\":\"#1f77b4\"},\"line_alpha\":{\"value\":0.1},\"line_color\":{\"value\":\"#1f77b4\"},\"size\":{\"units\":\"screen\",\"value\":12},\"x\":{\"field\":\"x\"},\"y\":{\"field\":\"y\"}},\"id\":\"4163\",\"type\":\"Circle\"},{\"attributes\":{},\"id\":\"4136\",\"type\":\"LinearScale\"},{\"attributes\":{\"formatter\":{\"id\":\"4327\",\"type\":\"BasicTickFormatter\"},\"ticker\":{\"id\":\"4144\",\"type\":\"BasicTicker\"}},\"id\":\"4143\",\"type\":\"LinearAxis\"},{\"attributes\":{\"overlay\":{\"id\":\"4332\",\"type\":\"BoxAnnotation\"}},\"id\":\"4150\",\"type\":\"BoxZoomTool\"},{\"attributes\":{\"data_source\":{\"id\":\"4125\",\"type\":\"ColumnDataSource\"},\"glyph\":{\"id\":\"4162\",\"type\":\"Circle\"},\"hover_glyph\":null,\"muted_glyph\":null,\"nonselection_glyph\":{\"id\":\"4163\",\"type\":\"Circle\"},\"selection_glyph\":null,\"view\":{\"id\":\"4165\",\"type\":\"CDSView\"}},\"id\":\"4164\",\"type\":\"GlyphRenderer\"},{\"attributes\":{},\"id\":\"4152\",\"type\":\"ResetTool\"},{\"attributes\":{},\"id\":\"4151\",\"type\":\"SaveTool\"},{\"attributes\":{},\"id\":\"4330\",\"type\":\"UnionRenderers\"},{\"attributes\":{\"high\":10,\"low\":1,\"palette\":[\"#3288bd\",\"#99d594\",\"#e6f598\",\"#fee08b\",\"#fc8d59\",\"#d53e4f\"]},\"id\":\"3152\",\"type\":\"LinearColorMapper\"},{\"attributes\":{\"bottom_units\":\"screen\",\"fill_alpha\":{\"value\":0.5},\"fill_color\":{\"value\":\"lightgrey\"},\"left_units\":\"screen\",\"level\":\"overlay\",\"line_alpha\":{\"value\":1.0},\"line_color\":{\"value\":\"black\"},\"line_dash\":[4,4],\"line_width\":{\"value\":2},\"render_mode\":\"css\",\"right_units\":\"screen\",\"top_units\":\"screen\"},\"id\":\"4332\",\"type\":\"BoxAnnotation\"},{\"attributes\":{\"ticker\":{\"id\":\"4139\",\"type\":\"BasicTicker\"}},\"id\":\"4142\",\"type\":\"Grid\"},{\"attributes\":{},\"id\":\"4148\",\"type\":\"PanTool\"},{\"attributes\":{},\"id\":\"4144\",\"type\":\"BasicTicker\"},{\"attributes\":{},\"id\":\"4327\",\"type\":\"BasicTickFormatter\"},{\"attributes\":{\"fill_color\":{\"field\":\"y\",\"transform\":{\"id\":\"4126\",\"type\":\"LinearColorMapper\"}},\"line_color\":{\"field\":\"y\",\"transform\":{\"id\":\"4126\",\"type\":\"LinearColorMapper\"}},\"size\":{\"units\":\"screen\",\"value\":12},\"x\":{\"field\":\"x\"},\"y\":{\"field\":\"y\"}},\"id\":\"4162\",\"type\":\"Circle\"},{\"attributes\":{\"dimension\":1,\"ticker\":{\"id\":\"4144\",\"type\":\"BasicTicker\"}},\"id\":\"4147\",\"type\":\"Grid\"},{\"attributes\":{\"callback\":null,\"data\":{\"x\":[1,2,3,4,5,7,8,9,10],\"y\":[1,2,3,4,5,7,8,9,10]},\"selected\":{\"id\":\"4331\",\"type\":\"Selection\"},\"selection_policy\":{\"id\":\"4330\",\"type\":\"UnionRenderers\"}},\"id\":\"4125\",\"type\":\"ColumnDataSource\"},{\"attributes\":{},\"id\":\"3316\",\"type\":\"BasicTicker\"},{\"attributes\":{},\"id\":\"3317\",\"type\":\"BasicTickFormatter\"},{\"attributes\":{},\"id\":\"4153\",\"type\":\"HelpTool\"},{\"attributes\":{\"callback\":null},\"id\":\"4132\",\"type\":\"DataRange1d\"},{\"attributes\":{},\"id\":\"4325\",\"type\":\"BasicTickFormatter\"},{\"attributes\":{\"high\":10,\"low\":1,\"palette\":[\"#3288bd\",\"#99d594\",\"#e6f598\",\"#fee08b\",\"#fc8d59\",\"#d53e4f\"]},\"id\":\"4126\",\"type\":\"LinearColorMapper\"},{\"attributes\":{},\"id\":\"4149\",\"type\":\"WheelZoomTool\"},{\"attributes\":{\"color_mapper\":{\"id\":\"3152\",\"type\":\"LinearColorMapper\"},\"formatter\":{\"id\":\"3317\",\"type\":\"BasicTickFormatter\"},\"location\":[0,0],\"ticker\":{\"id\":\"3316\",\"type\":\"BasicTicker\"},\"width\":8},\"id\":\"3193\",\"type\":\"ColorBar\"}],\"root_ids\":[\"4127\"]},\"title\":\"Bokeh Application\",\"version\":\"1.4.0\"}};\n",
       "  var render_items = [{\"docid\":\"7c780c83-88d9-4a00-923d-6e152daa096b\",\"roots\":{\"4127\":\"189ecc24-87b6-4c2f-8a35-563d2cfe49eb\"}}];\n",
       "  root.Bokeh.embed.embed_items_notebook(docs_json, render_items);\n",
       "\n",
       "  }\n",
       "  if (root.Bokeh !== undefined) {\n",
       "    embed_document(root);\n",
       "  } else {\n",
       "    var attempts = 0;\n",
       "    var timer = setInterval(function(root) {\n",
       "      if (root.Bokeh !== undefined) {\n",
       "        clearInterval(timer);\n",
       "        embed_document(root);\n",
       "      } else {\n",
       "        attempts++;\n",
       "        if (attempts > 100) {\n",
       "          clearInterval(timer);\n",
       "          console.log(\"Bokeh: ERROR: Unable to run BokehJS code because BokehJS library is missing\");\n",
       "        }\n",
       "      }\n",
       "    }, 10, root)\n",
       "  }\n",
       "})(window);"
      ],
      "application/vnd.bokehjs_exec.v0+json": ""
     },
     "metadata": {
      "application/vnd.bokehjs_exec.v0+json": {
       "id": "4127"
      }
     },
     "output_type": "display_data"
    }
   ],
   "source": [
    "from bokeh.models import ColumnDataSource, ColorBar\n",
    "from bokeh.transform import linear_cmap\n",
    "\n",
    "\n",
    "x = [1,2,3,4,5,7,8,9,10]\n",
    "y = [1,2,3,4,5,7,8,9,10]\n",
    "source = ColumnDataSource(dict(x=x,y=y))\n",
    "\n",
    "#Use the field name of the column source\n",
    "mapper = linear_cmap(field_name='y', palette=Spectral6 ,low=min(y) ,high=max(y))\n",
    "\n",
    "p = figure(plot_width=600, plot_height=300, title=\"Linear Color Map Based on Y\")\n",
    "p.circle(x='x', y='y', line_color=mapper,color=mapper, fill_alpha=1, size=12, source=source)\n",
    "\n",
    "\n",
    "p.add_layout(color_bar, 'right')\n",
    "show(p)"
   ]
  },
  {
   "cell_type": "markdown",
   "metadata": {},
   "source": [
    "### Title"
   ]
  },
  {
   "cell_type": "code",
   "execution_count": 80,
   "metadata": {},
   "outputs": [
    {
     "data": {
      "text/html": [
       "\n",
       "\n",
       "\n",
       "\n",
       "\n",
       "\n",
       "  <div class=\"bk-root\" id=\"5610ca0a-c022-4133-9e2e-ed84f7fa3085\" data-root-id=\"21121\"></div>\n"
      ]
     },
     "metadata": {},
     "output_type": "display_data"
    },
    {
     "data": {
      "application/javascript": [
       "(function(root) {\n",
       "  function embed_document(root) {\n",
       "    \n",
       "  var docs_json = {\"b390ce59-b116-4d42-b935-fd0d53ca65c4\":{\"roots\":{\"references\":[{\"attributes\":{\"below\":[{\"id\":\"21132\",\"type\":\"LinearAxis\"}],\"center\":[{\"id\":\"21136\",\"type\":\"Grid\"},{\"id\":\"21141\",\"type\":\"Grid\"}],\"left\":[{\"id\":\"21137\",\"type\":\"LinearAxis\"}],\"plot_height\":300,\"plot_width\":300,\"renderers\":[{\"id\":\"21158\",\"type\":\"GlyphRenderer\"}],\"title\":{\"id\":\"21122\",\"type\":\"Title\"},\"toolbar\":{\"id\":\"21148\",\"type\":\"Toolbar\"},\"x_range\":{\"id\":\"21124\",\"type\":\"DataRange1d\"},\"x_scale\":{\"id\":\"21128\",\"type\":\"LinearScale\"},\"y_range\":{\"id\":\"21126\",\"type\":\"DataRange1d\"},\"y_scale\":{\"id\":\"21130\",\"type\":\"LinearScale\"}},\"id\":\"21121\",\"subtype\":\"Figure\",\"type\":\"Plot\"},{\"attributes\":{},\"id\":\"21147\",\"type\":\"HelpTool\"},{\"attributes\":{\"active_drag\":\"auto\",\"active_inspect\":\"auto\",\"active_multi\":null,\"active_scroll\":\"auto\",\"active_tap\":\"auto\",\"tools\":[{\"id\":\"21142\",\"type\":\"PanTool\"},{\"id\":\"21143\",\"type\":\"WheelZoomTool\"},{\"id\":\"21144\",\"type\":\"BoxZoomTool\"},{\"id\":\"21145\",\"type\":\"SaveTool\"},{\"id\":\"21146\",\"type\":\"ResetTool\"},{\"id\":\"21147\",\"type\":\"HelpTool\"}]},\"id\":\"21148\",\"type\":\"Toolbar\"},{\"attributes\":{\"callback\":null,\"data\":{\"x\":[1,2],\"y\":[3,4]},\"selected\":{\"id\":\"21716\",\"type\":\"Selection\"},\"selection_policy\":{\"id\":\"21715\",\"type\":\"UnionRenderers\"}},\"id\":\"21155\",\"type\":\"ColumnDataSource\"},{\"attributes\":{\"dimension\":1,\"ticker\":{\"id\":\"21138\",\"type\":\"BasicTicker\"}},\"id\":\"21141\",\"type\":\"Grid\"},{\"attributes\":{\"source\":{\"id\":\"21155\",\"type\":\"ColumnDataSource\"}},\"id\":\"21159\",\"type\":\"CDSView\"},{\"attributes\":{},\"id\":\"21128\",\"type\":\"LinearScale\"},{\"attributes\":{},\"id\":\"21714\",\"type\":\"BasicTickFormatter\"},{\"attributes\":{},\"id\":\"21143\",\"type\":\"WheelZoomTool\"},{\"attributes\":{\"bottom_units\":\"screen\",\"fill_alpha\":{\"value\":0.5},\"fill_color\":{\"value\":\"lightgrey\"},\"left_units\":\"screen\",\"level\":\"overlay\",\"line_alpha\":{\"value\":1.0},\"line_color\":{\"value\":\"black\"},\"line_dash\":[4,4],\"line_width\":{\"value\":2},\"render_mode\":\"css\",\"right_units\":\"screen\",\"top_units\":\"screen\"},\"id\":\"21717\",\"type\":\"BoxAnnotation\"},{\"attributes\":{},\"id\":\"21712\",\"type\":\"BasicTickFormatter\"},{\"attributes\":{\"formatter\":{\"id\":\"21714\",\"type\":\"BasicTickFormatter\"},\"ticker\":{\"id\":\"21138\",\"type\":\"BasicTicker\"}},\"id\":\"21137\",\"type\":\"LinearAxis\"},{\"attributes\":{\"fill_color\":{\"value\":\"#1f77b4\"},\"line_color\":{\"value\":\"#1f77b4\"},\"x\":{\"field\":\"x\"},\"y\":{\"field\":\"y\"}},\"id\":\"21156\",\"type\":\"Circle\"},{\"attributes\":{\"formatter\":{\"id\":\"21712\",\"type\":\"BasicTickFormatter\"},\"ticker\":{\"id\":\"21133\",\"type\":\"BasicTicker\"}},\"id\":\"21132\",\"type\":\"LinearAxis\"},{\"attributes\":{},\"id\":\"21146\",\"type\":\"ResetTool\"},{\"attributes\":{},\"id\":\"21145\",\"type\":\"SaveTool\"},{\"attributes\":{},\"id\":\"21138\",\"type\":\"BasicTicker\"},{\"attributes\":{\"callback\":null},\"id\":\"21124\",\"type\":\"DataRange1d\"},{\"attributes\":{\"callback\":null},\"id\":\"21126\",\"type\":\"DataRange1d\"},{\"attributes\":{\"overlay\":{\"id\":\"21717\",\"type\":\"BoxAnnotation\"}},\"id\":\"21144\",\"type\":\"BoxZoomTool\"},{\"attributes\":{\"text\":\"Basic Title\"},\"id\":\"21122\",\"type\":\"Title\"},{\"attributes\":{},\"id\":\"21142\",\"type\":\"PanTool\"},{\"attributes\":{\"ticker\":{\"id\":\"21133\",\"type\":\"BasicTicker\"}},\"id\":\"21136\",\"type\":\"Grid\"},{\"attributes\":{},\"id\":\"21716\",\"type\":\"Selection\"},{\"attributes\":{},\"id\":\"21130\",\"type\":\"LinearScale\"},{\"attributes\":{\"fill_alpha\":{\"value\":0.1},\"fill_color\":{\"value\":\"#1f77b4\"},\"line_alpha\":{\"value\":0.1},\"line_color\":{\"value\":\"#1f77b4\"},\"x\":{\"field\":\"x\"},\"y\":{\"field\":\"y\"}},\"id\":\"21157\",\"type\":\"Circle\"},{\"attributes\":{},\"id\":\"21715\",\"type\":\"UnionRenderers\"},{\"attributes\":{\"data_source\":{\"id\":\"21155\",\"type\":\"ColumnDataSource\"},\"glyph\":{\"id\":\"21156\",\"type\":\"Circle\"},\"hover_glyph\":null,\"muted_glyph\":null,\"nonselection_glyph\":{\"id\":\"21157\",\"type\":\"Circle\"},\"selection_glyph\":null,\"view\":{\"id\":\"21159\",\"type\":\"CDSView\"}},\"id\":\"21158\",\"type\":\"GlyphRenderer\"},{\"attributes\":{},\"id\":\"21133\",\"type\":\"BasicTicker\"}],\"root_ids\":[\"21121\"]},\"title\":\"Bokeh Application\",\"version\":\"1.4.0\"}};\n",
       "  var render_items = [{\"docid\":\"b390ce59-b116-4d42-b935-fd0d53ca65c4\",\"roots\":{\"21121\":\"5610ca0a-c022-4133-9e2e-ed84f7fa3085\"}}];\n",
       "  root.Bokeh.embed.embed_items_notebook(docs_json, render_items);\n",
       "\n",
       "  }\n",
       "  if (root.Bokeh !== undefined) {\n",
       "    embed_document(root);\n",
       "  } else {\n",
       "    var attempts = 0;\n",
       "    var timer = setInterval(function(root) {\n",
       "      if (root.Bokeh !== undefined) {\n",
       "        clearInterval(timer);\n",
       "        embed_document(root);\n",
       "      } else {\n",
       "        attempts++;\n",
       "        if (attempts > 100) {\n",
       "          clearInterval(timer);\n",
       "          console.log(\"Bokeh: ERROR: Unable to run BokehJS code because BokehJS library is missing\");\n",
       "        }\n",
       "      }\n",
       "    }, 10, root)\n",
       "  }\n",
       "})(window);"
      ],
      "application/vnd.bokehjs_exec.v0+json": ""
     },
     "metadata": {
      "application/vnd.bokehjs_exec.v0+json": {
       "id": "21121"
      }
     },
     "output_type": "display_data"
    }
   ],
   "source": [
    "p = figure(title=\"Basic Title\", plot_width=300, plot_height=300)\n",
    "p.circle([1,2], [3,4])\n",
    "show(p)"
   ]
  },
  {
   "cell_type": "code",
   "execution_count": 81,
   "metadata": {},
   "outputs": [
    {
     "data": {
      "text/html": [
       "\n",
       "\n",
       "\n",
       "\n",
       "\n",
       "\n",
       "  <div class=\"bk-root\" id=\"c1b61940-231c-4e53-bb15-2009339eac75\" data-root-id=\"21766\"></div>\n"
      ]
     },
     "metadata": {},
     "output_type": "display_data"
    },
    {
     "data": {
      "application/javascript": [
       "(function(root) {\n",
       "  function embed_document(root) {\n",
       "    \n",
       "  var docs_json = {\"b62274d2-0b1e-45c2-b9cf-bf008b6e7666\":{\"roots\":{\"references\":[{\"attributes\":{\"below\":[{\"id\":\"21777\",\"type\":\"LinearAxis\"}],\"center\":[{\"id\":\"21781\",\"type\":\"Grid\"},{\"id\":\"21786\",\"type\":\"Grid\"}],\"left\":[{\"id\":\"21782\",\"type\":\"LinearAxis\"}],\"plot_height\":300,\"plot_width\":300,\"renderers\":[{\"id\":\"21803\",\"type\":\"GlyphRenderer\"}],\"title\":{\"id\":\"21767\",\"type\":\"Title\"},\"title_location\":\"left\",\"toolbar\":{\"id\":\"21793\",\"type\":\"Toolbar\"},\"x_range\":{\"id\":\"21769\",\"type\":\"DataRange1d\"},\"x_scale\":{\"id\":\"21773\",\"type\":\"LinearScale\"},\"y_range\":{\"id\":\"21771\",\"type\":\"DataRange1d\"},\"y_scale\":{\"id\":\"21775\",\"type\":\"LinearScale\"}},\"id\":\"21766\",\"subtype\":\"Figure\",\"type\":\"Plot\"},{\"attributes\":{\"dimension\":1,\"ticker\":{\"id\":\"21783\",\"type\":\"BasicTicker\"}},\"id\":\"21786\",\"type\":\"Grid\"},{\"attributes\":{\"fill_color\":{\"value\":\"#1f77b4\"},\"line_color\":{\"value\":\"#1f77b4\"},\"x\":{\"field\":\"x\"},\"y\":{\"field\":\"y\"}},\"id\":\"21801\",\"type\":\"Circle\"},{\"attributes\":{},\"id\":\"21773\",\"type\":\"LinearScale\"},{\"attributes\":{\"callback\":null},\"id\":\"21769\",\"type\":\"DataRange1d\"},{\"attributes\":{\"text\":\"Left Title\"},\"id\":\"21767\",\"type\":\"Title\"},{\"attributes\":{},\"id\":\"22369\",\"type\":\"Selection\"},{\"attributes\":{},\"id\":\"21775\",\"type\":\"LinearScale\"},{\"attributes\":{},\"id\":\"21778\",\"type\":\"BasicTicker\"},{\"attributes\":{},\"id\":\"21783\",\"type\":\"BasicTicker\"},{\"attributes\":{\"formatter\":{\"id\":\"22365\",\"type\":\"BasicTickFormatter\"},\"ticker\":{\"id\":\"21778\",\"type\":\"BasicTicker\"}},\"id\":\"21777\",\"type\":\"LinearAxis\"},{\"attributes\":{\"callback\":null},\"id\":\"21771\",\"type\":\"DataRange1d\"},{\"attributes\":{\"ticker\":{\"id\":\"21778\",\"type\":\"BasicTicker\"}},\"id\":\"21781\",\"type\":\"Grid\"},{\"attributes\":{\"formatter\":{\"id\":\"22367\",\"type\":\"BasicTickFormatter\"},\"ticker\":{\"id\":\"21783\",\"type\":\"BasicTicker\"}},\"id\":\"21782\",\"type\":\"LinearAxis\"},{\"attributes\":{\"callback\":null,\"data\":{\"x\":[1,2],\"y\":[3,4]},\"selected\":{\"id\":\"22369\",\"type\":\"Selection\"},\"selection_policy\":{\"id\":\"22368\",\"type\":\"UnionRenderers\"}},\"id\":\"21800\",\"type\":\"ColumnDataSource\"},{\"attributes\":{\"overlay\":{\"id\":\"22370\",\"type\":\"BoxAnnotation\"}},\"id\":\"21789\",\"type\":\"BoxZoomTool\"},{\"attributes\":{\"active_drag\":\"auto\",\"active_inspect\":\"auto\",\"active_multi\":null,\"active_scroll\":\"auto\",\"active_tap\":\"auto\",\"tools\":[{\"id\":\"21787\",\"type\":\"PanTool\"},{\"id\":\"21788\",\"type\":\"WheelZoomTool\"},{\"id\":\"21789\",\"type\":\"BoxZoomTool\"},{\"id\":\"21790\",\"type\":\"SaveTool\"},{\"id\":\"21791\",\"type\":\"ResetTool\"},{\"id\":\"21792\",\"type\":\"HelpTool\"}]},\"id\":\"21793\",\"type\":\"Toolbar\"},{\"attributes\":{\"source\":{\"id\":\"21800\",\"type\":\"ColumnDataSource\"}},\"id\":\"21804\",\"type\":\"CDSView\"},{\"attributes\":{},\"id\":\"22368\",\"type\":\"UnionRenderers\"},{\"attributes\":{},\"id\":\"21787\",\"type\":\"PanTool\"},{\"attributes\":{},\"id\":\"21788\",\"type\":\"WheelZoomTool\"},{\"attributes\":{},\"id\":\"21791\",\"type\":\"ResetTool\"},{\"attributes\":{\"fill_alpha\":{\"value\":0.1},\"fill_color\":{\"value\":\"#1f77b4\"},\"line_alpha\":{\"value\":0.1},\"line_color\":{\"value\":\"#1f77b4\"},\"x\":{\"field\":\"x\"},\"y\":{\"field\":\"y\"}},\"id\":\"21802\",\"type\":\"Circle\"},{\"attributes\":{},\"id\":\"21790\",\"type\":\"SaveTool\"},{\"attributes\":{},\"id\":\"21792\",\"type\":\"HelpTool\"},{\"attributes\":{},\"id\":\"22367\",\"type\":\"BasicTickFormatter\"},{\"attributes\":{},\"id\":\"22365\",\"type\":\"BasicTickFormatter\"},{\"attributes\":{\"data_source\":{\"id\":\"21800\",\"type\":\"ColumnDataSource\"},\"glyph\":{\"id\":\"21801\",\"type\":\"Circle\"},\"hover_glyph\":null,\"muted_glyph\":null,\"nonselection_glyph\":{\"id\":\"21802\",\"type\":\"Circle\"},\"selection_glyph\":null,\"view\":{\"id\":\"21804\",\"type\":\"CDSView\"}},\"id\":\"21803\",\"type\":\"GlyphRenderer\"},{\"attributes\":{\"bottom_units\":\"screen\",\"fill_alpha\":{\"value\":0.5},\"fill_color\":{\"value\":\"lightgrey\"},\"left_units\":\"screen\",\"level\":\"overlay\",\"line_alpha\":{\"value\":1.0},\"line_color\":{\"value\":\"black\"},\"line_dash\":[4,4],\"line_width\":{\"value\":2},\"render_mode\":\"css\",\"right_units\":\"screen\",\"top_units\":\"screen\"},\"id\":\"22370\",\"type\":\"BoxAnnotation\"}],\"root_ids\":[\"21766\"]},\"title\":\"Bokeh Application\",\"version\":\"1.4.0\"}};\n",
       "  var render_items = [{\"docid\":\"b62274d2-0b1e-45c2-b9cf-bf008b6e7666\",\"roots\":{\"21766\":\"c1b61940-231c-4e53-bb15-2009339eac75\"}}];\n",
       "  root.Bokeh.embed.embed_items_notebook(docs_json, render_items);\n",
       "\n",
       "  }\n",
       "  if (root.Bokeh !== undefined) {\n",
       "    embed_document(root);\n",
       "  } else {\n",
       "    var attempts = 0;\n",
       "    var timer = setInterval(function(root) {\n",
       "      if (root.Bokeh !== undefined) {\n",
       "        clearInterval(timer);\n",
       "        embed_document(root);\n",
       "      } else {\n",
       "        attempts++;\n",
       "        if (attempts > 100) {\n",
       "          clearInterval(timer);\n",
       "          console.log(\"Bokeh: ERROR: Unable to run BokehJS code because BokehJS library is missing\");\n",
       "        }\n",
       "      }\n",
       "    }, 10, root)\n",
       "  }\n",
       "})(window);"
      ],
      "application/vnd.bokehjs_exec.v0+json": ""
     },
     "metadata": {
      "application/vnd.bokehjs_exec.v0+json": {
       "id": "21766"
      }
     },
     "output_type": "display_data"
    }
   ],
   "source": [
    "p = figure(title=\"Left Title\", title_location=\"left\", plot_width=300, plot_height=300)\n",
    "p.circle([1,2], [3,4])\n",
    "\n",
    "show(p)"
   ]
  },
  {
   "cell_type": "code",
   "execution_count": 82,
   "metadata": {},
   "outputs": [
    {
     "data": {
      "text/html": [
       "\n",
       "\n",
       "\n",
       "\n",
       "\n",
       "\n",
       "  <div class=\"bk-root\" id=\"c6bc1300-bc6b-4865-9246-a2a3258b58a6\" data-root-id=\"22419\"></div>\n"
      ]
     },
     "metadata": {},
     "output_type": "display_data"
    },
    {
     "data": {
      "application/javascript": [
       "(function(root) {\n",
       "  function embed_document(root) {\n",
       "    \n",
       "  var docs_json = {\"617b33a9-591b-4148-ba92-c3f2d958c218\":{\"roots\":{\"references\":[{\"attributes\":{\"below\":[{\"id\":\"22428\",\"type\":\"LinearAxis\"}],\"center\":[{\"id\":\"22432\",\"type\":\"Grid\"},{\"id\":\"22437\",\"type\":\"Grid\"}],\"left\":[{\"id\":\"22433\",\"type\":\"LinearAxis\"}],\"plot_height\":300,\"renderers\":[{\"id\":\"22454\",\"type\":\"GlyphRenderer\"}],\"title\":{\"id\":\"22456\",\"type\":\"Title\"},\"toolbar\":{\"id\":\"22444\",\"type\":\"Toolbar\"},\"x_range\":{\"id\":\"22420\",\"type\":\"DataRange1d\"},\"x_scale\":{\"id\":\"22424\",\"type\":\"LinearScale\"},\"y_range\":{\"id\":\"22422\",\"type\":\"DataRange1d\"},\"y_scale\":{\"id\":\"22426\",\"type\":\"LinearScale\"}},\"id\":\"22419\",\"subtype\":\"Figure\",\"type\":\"Plot\"},{\"attributes\":{},\"id\":\"22434\",\"type\":\"BasicTicker\"},{\"attributes\":{\"dimension\":1,\"ticker\":{\"id\":\"22434\",\"type\":\"BasicTicker\"}},\"id\":\"22437\",\"type\":\"Grid\"},{\"attributes\":{\"active_drag\":\"auto\",\"active_inspect\":\"auto\",\"active_multi\":null,\"active_scroll\":\"auto\",\"active_tap\":\"auto\",\"tools\":[{\"id\":\"22438\",\"type\":\"PanTool\"},{\"id\":\"22439\",\"type\":\"WheelZoomTool\"},{\"id\":\"22440\",\"type\":\"BoxZoomTool\"},{\"id\":\"22441\",\"type\":\"SaveTool\"},{\"id\":\"22442\",\"type\":\"ResetTool\"},{\"id\":\"22443\",\"type\":\"HelpTool\"}]},\"id\":\"22444\",\"type\":\"Toolbar\"},{\"attributes\":{\"callback\":null,\"data\":{\"x\":[1,2],\"y\":[3,4]},\"selected\":{\"id\":\"23034\",\"type\":\"Selection\"},\"selection_policy\":{\"id\":\"23033\",\"type\":\"UnionRenderers\"}},\"id\":\"22451\",\"type\":\"ColumnDataSource\"},{\"attributes\":{\"source\":{\"id\":\"22451\",\"type\":\"ColumnDataSource\"}},\"id\":\"22455\",\"type\":\"CDSView\"},{\"attributes\":{},\"id\":\"22438\",\"type\":\"PanTool\"},{\"attributes\":{},\"id\":\"22439\",\"type\":\"WheelZoomTool\"},{\"attributes\":{\"overlay\":{\"id\":\"23035\",\"type\":\"BoxAnnotation\"}},\"id\":\"22440\",\"type\":\"BoxZoomTool\"},{\"attributes\":{},\"id\":\"22441\",\"type\":\"SaveTool\"},{\"attributes\":{\"callback\":null},\"id\":\"22422\",\"type\":\"DataRange1d\"},{\"attributes\":{},\"id\":\"22426\",\"type\":\"LinearScale\"},{\"attributes\":{},\"id\":\"22442\",\"type\":\"ResetTool\"},{\"attributes\":{},\"id\":\"22443\",\"type\":\"HelpTool\"},{\"attributes\":{\"fill_alpha\":{\"value\":0.1},\"fill_color\":{\"value\":\"#1f77b4\"},\"line_alpha\":{\"value\":0.1},\"line_color\":{\"value\":\"#1f77b4\"},\"x\":{\"field\":\"x\"},\"y\":{\"field\":\"y\"}},\"id\":\"22453\",\"type\":\"Circle\"},{\"attributes\":{\"fill_color\":{\"value\":\"#1f77b4\"},\"line_color\":{\"value\":\"#1f77b4\"},\"x\":{\"field\":\"x\"},\"y\":{\"field\":\"y\"}},\"id\":\"22452\",\"type\":\"Circle\"},{\"attributes\":{\"data_source\":{\"id\":\"22451\",\"type\":\"ColumnDataSource\"},\"glyph\":{\"id\":\"22452\",\"type\":\"Circle\"},\"hover_glyph\":null,\"muted_glyph\":null,\"nonselection_glyph\":{\"id\":\"22453\",\"type\":\"Circle\"},\"selection_glyph\":null,\"view\":{\"id\":\"22455\",\"type\":\"CDSView\"}},\"id\":\"22454\",\"type\":\"GlyphRenderer\"},{\"attributes\":{\"align\":\"right\",\"background_fill_color\":{\"value\":\"#aaaaee\"},\"text\":\"Title With Options\",\"text_color\":{\"value\":\"orange\"},\"text_font_size\":{\"value\":\"25px\"}},\"id\":\"22456\",\"type\":\"Title\"},{\"attributes\":{\"formatter\":{\"id\":\"23032\",\"type\":\"BasicTickFormatter\"},\"ticker\":{\"id\":\"22434\",\"type\":\"BasicTicker\"}},\"id\":\"22433\",\"type\":\"LinearAxis\"},{\"attributes\":{\"bottom_units\":\"screen\",\"fill_alpha\":{\"value\":0.5},\"fill_color\":{\"value\":\"lightgrey\"},\"left_units\":\"screen\",\"level\":\"overlay\",\"line_alpha\":{\"value\":1.0},\"line_color\":{\"value\":\"black\"},\"line_dash\":[4,4],\"line_width\":{\"value\":2},\"render_mode\":\"css\",\"right_units\":\"screen\",\"top_units\":\"screen\"},\"id\":\"23035\",\"type\":\"BoxAnnotation\"},{\"attributes\":{\"formatter\":{\"id\":\"23030\",\"type\":\"BasicTickFormatter\"},\"ticker\":{\"id\":\"22429\",\"type\":\"BasicTicker\"}},\"id\":\"22428\",\"type\":\"LinearAxis\"},{\"attributes\":{},\"id\":\"22424\",\"type\":\"LinearScale\"},{\"attributes\":{},\"id\":\"23032\",\"type\":\"BasicTickFormatter\"},{\"attributes\":{},\"id\":\"23034\",\"type\":\"Selection\"},{\"attributes\":{\"ticker\":{\"id\":\"22429\",\"type\":\"BasicTicker\"}},\"id\":\"22432\",\"type\":\"Grid\"},{\"attributes\":{},\"id\":\"23030\",\"type\":\"BasicTickFormatter\"},{\"attributes\":{},\"id\":\"23033\",\"type\":\"UnionRenderers\"},{\"attributes\":{},\"id\":\"22429\",\"type\":\"BasicTicker\"},{\"attributes\":{\"callback\":null},\"id\":\"22420\",\"type\":\"DataRange1d\"}],\"root_ids\":[\"22419\"]},\"title\":\"Bokeh Application\",\"version\":\"1.4.0\"}};\n",
       "  var render_items = [{\"docid\":\"617b33a9-591b-4148-ba92-c3f2d958c218\",\"roots\":{\"22419\":\"c6bc1300-bc6b-4865-9246-a2a3258b58a6\"}}];\n",
       "  root.Bokeh.embed.embed_items_notebook(docs_json, render_items);\n",
       "\n",
       "  }\n",
       "  if (root.Bokeh !== undefined) {\n",
       "    embed_document(root);\n",
       "  } else {\n",
       "    var attempts = 0;\n",
       "    var timer = setInterval(function(root) {\n",
       "      if (root.Bokeh !== undefined) {\n",
       "        clearInterval(timer);\n",
       "        embed_document(root);\n",
       "      } else {\n",
       "        attempts++;\n",
       "        if (attempts > 100) {\n",
       "          clearInterval(timer);\n",
       "          console.log(\"Bokeh: ERROR: Unable to run BokehJS code because BokehJS library is missing\");\n",
       "        }\n",
       "      }\n",
       "    }, 10, root)\n",
       "  }\n",
       "})(window);"
      ],
      "application/vnd.bokehjs_exec.v0+json": ""
     },
     "metadata": {
      "application/vnd.bokehjs_exec.v0+json": {
       "id": "22419"
      }
     },
     "output_type": "display_data"
    }
   ],
   "source": [
    "p = figure(plot_width=600, plot_height=300)\n",
    "p.circle([1,2], [3,4])\n",
    "\n",
    "# configure visual properties on a plot's title attribute\n",
    "p.title.text = \"Title With Options\"\n",
    "p.title.align = \"right\"\n",
    "p.title.text_color = \"orange\"\n",
    "p.title.text_font_size = \"25px\"\n",
    "p.title.background_fill_color = \"#aaaaee\"\n",
    "\n",
    "show(p)"
   ]
  },
  {
   "cell_type": "code",
   "execution_count": null,
   "metadata": {},
   "outputs": [],
   "source": []
  },
  {
   "cell_type": "code",
   "execution_count": 45,
   "metadata": {},
   "outputs": [
    {
     "data": {
      "text/html": [
       "\n",
       "\n",
       "\n",
       "\n",
       "\n",
       "\n",
       "  <div class=\"bk-root\" id=\"5b386ceb-c291-4aef-838c-98601cb3f6b0\" data-root-id=\"8291\"></div>\n"
      ]
     },
     "metadata": {},
     "output_type": "display_data"
    },
    {
     "data": {
      "application/javascript": [
       "(function(root) {\n",
       "  function embed_document(root) {\n",
       "    \n",
       "  var docs_json = {\"049d51e2-ccbc-4b85-952e-bca82672bd24\":{\"roots\":{\"references\":[{\"attributes\":{\"below\":[{\"id\":\"8302\",\"type\":\"LinearAxis\"}],\"center\":[{\"id\":\"8306\",\"type\":\"Grid\"},{\"id\":\"8311\",\"type\":\"Grid\"}],\"left\":[{\"id\":\"8307\",\"type\":\"LinearAxis\"}],\"plot_height\":400,\"renderers\":[{\"id\":\"8328\",\"type\":\"GlyphRenderer\"}],\"title\":{\"id\":\"8292\",\"type\":\"Title\"},\"toolbar\":{\"id\":\"8318\",\"type\":\"Toolbar\"},\"x_range\":{\"id\":\"8294\",\"type\":\"DataRange1d\"},\"x_scale\":{\"id\":\"8298\",\"type\":\"LinearScale\"},\"y_range\":{\"id\":\"8296\",\"type\":\"DataRange1d\"},\"y_scale\":{\"id\":\"8300\",\"type\":\"LinearScale\"}},\"id\":\"8291\",\"subtype\":\"Figure\",\"type\":\"Plot\"},{\"attributes\":{\"align\":\"center\",\"text\":\"Some Title\",\"text_color\":{\"value\":\"olive\"},\"text_font\":\"times\",\"text_font_size\":{\"value\":\"20pt\"},\"text_font_style\":\"italic\"},\"id\":\"8292\",\"type\":\"Title\"},{\"attributes\":{\"callback\":null},\"id\":\"8294\",\"type\":\"DataRange1d\"},{\"attributes\":{},\"id\":\"8605\",\"type\":\"UnionRenderers\"},{\"attributes\":{},\"id\":\"8298\",\"type\":\"LinearScale\"},{\"attributes\":{\"callback\":null},\"id\":\"8296\",\"type\":\"DataRange1d\"},{\"attributes\":{},\"id\":\"8606\",\"type\":\"Selection\"},{\"attributes\":{},\"id\":\"8604\",\"type\":\"BasicTickFormatter\"},{\"attributes\":{},\"id\":\"8300\",\"type\":\"LinearScale\"},{\"attributes\":{\"formatter\":{\"id\":\"8602\",\"type\":\"BasicTickFormatter\"},\"ticker\":{\"id\":\"8303\",\"type\":\"BasicTicker\"}},\"id\":\"8302\",\"type\":\"LinearAxis\"},{\"attributes\":{},\"id\":\"8308\",\"type\":\"BasicTicker\"},{\"attributes\":{},\"id\":\"8303\",\"type\":\"BasicTicker\"},{\"attributes\":{\"ticker\":{\"id\":\"8303\",\"type\":\"BasicTicker\"}},\"id\":\"8306\",\"type\":\"Grid\"},{\"attributes\":{\"callback\":null,\"data\":{\"x\":[1,2,3,4,5],\"y\":[2,5,8,2,7]},\"selected\":{\"id\":\"8606\",\"type\":\"Selection\"},\"selection_policy\":{\"id\":\"8605\",\"type\":\"UnionRenderers\"}},\"id\":\"8325\",\"type\":\"ColumnDataSource\"},{\"attributes\":{\"dimension\":1,\"ticker\":{\"id\":\"8308\",\"type\":\"BasicTicker\"}},\"id\":\"8311\",\"type\":\"Grid\"},{\"attributes\":{\"formatter\":{\"id\":\"8604\",\"type\":\"BasicTickFormatter\"},\"ticker\":{\"id\":\"8308\",\"type\":\"BasicTicker\"}},\"id\":\"8307\",\"type\":\"LinearAxis\"},{\"attributes\":{\"active_drag\":\"auto\",\"active_inspect\":\"auto\",\"active_multi\":null,\"active_scroll\":\"auto\",\"active_tap\":\"auto\",\"tools\":[{\"id\":\"8312\",\"type\":\"PanTool\"},{\"id\":\"8313\",\"type\":\"WheelZoomTool\"},{\"id\":\"8314\",\"type\":\"BoxZoomTool\"},{\"id\":\"8315\",\"type\":\"SaveTool\"},{\"id\":\"8316\",\"type\":\"ResetTool\"},{\"id\":\"8317\",\"type\":\"HelpTool\"}]},\"id\":\"8318\",\"type\":\"Toolbar\"},{\"attributes\":{\"fill_alpha\":{\"value\":0.1},\"fill_color\":{\"value\":\"#1f77b4\"},\"line_alpha\":{\"value\":0.1},\"line_color\":{\"value\":\"#1f77b4\"},\"size\":{\"units\":\"screen\",\"value\":10},\"x\":{\"field\":\"x\"},\"y\":{\"field\":\"y\"}},\"id\":\"8327\",\"type\":\"Circle\"},{\"attributes\":{},\"id\":\"8312\",\"type\":\"PanTool\"},{\"attributes\":{},\"id\":\"8313\",\"type\":\"WheelZoomTool\"},{\"attributes\":{\"overlay\":{\"id\":\"8607\",\"type\":\"BoxAnnotation\"}},\"id\":\"8314\",\"type\":\"BoxZoomTool\"},{\"attributes\":{\"bottom_units\":\"screen\",\"fill_alpha\":{\"value\":0.5},\"fill_color\":{\"value\":\"lightgrey\"},\"left_units\":\"screen\",\"level\":\"overlay\",\"line_alpha\":{\"value\":1.0},\"line_color\":{\"value\":\"black\"},\"line_dash\":[4,4],\"line_width\":{\"value\":2},\"render_mode\":\"css\",\"right_units\":\"screen\",\"top_units\":\"screen\"},\"id\":\"8607\",\"type\":\"BoxAnnotation\"},{\"attributes\":{},\"id\":\"8315\",\"type\":\"SaveTool\"},{\"attributes\":{},\"id\":\"8316\",\"type\":\"ResetTool\"},{\"attributes\":{\"fill_color\":{\"value\":\"#1f77b4\"},\"line_color\":{\"value\":\"#1f77b4\"},\"size\":{\"units\":\"screen\",\"value\":10},\"x\":{\"field\":\"x\"},\"y\":{\"field\":\"y\"}},\"id\":\"8326\",\"type\":\"Circle\"},{\"attributes\":{},\"id\":\"8317\",\"type\":\"HelpTool\"},{\"attributes\":{\"source\":{\"id\":\"8325\",\"type\":\"ColumnDataSource\"}},\"id\":\"8329\",\"type\":\"CDSView\"},{\"attributes\":{},\"id\":\"8602\",\"type\":\"BasicTickFormatter\"},{\"attributes\":{\"data_source\":{\"id\":\"8325\",\"type\":\"ColumnDataSource\"},\"glyph\":{\"id\":\"8326\",\"type\":\"Circle\"},\"hover_glyph\":null,\"muted_glyph\":null,\"nonselection_glyph\":{\"id\":\"8327\",\"type\":\"Circle\"},\"selection_glyph\":null,\"view\":{\"id\":\"8329\",\"type\":\"CDSView\"}},\"id\":\"8328\",\"type\":\"GlyphRenderer\"}],\"root_ids\":[\"8291\"]},\"title\":\"Bokeh Application\",\"version\":\"1.4.0\"}};\n",
       "  var render_items = [{\"docid\":\"049d51e2-ccbc-4b85-952e-bca82672bd24\",\"roots\":{\"8291\":\"5b386ceb-c291-4aef-838c-98601cb3f6b0\"}}];\n",
       "  root.Bokeh.embed.embed_items_notebook(docs_json, render_items);\n",
       "\n",
       "  }\n",
       "  if (root.Bokeh !== undefined) {\n",
       "    embed_document(root);\n",
       "  } else {\n",
       "    var attempts = 0;\n",
       "    var timer = setInterval(function(root) {\n",
       "      if (root.Bokeh !== undefined) {\n",
       "        clearInterval(timer);\n",
       "        embed_document(root);\n",
       "      } else {\n",
       "        attempts++;\n",
       "        if (attempts > 100) {\n",
       "          clearInterval(timer);\n",
       "          console.log(\"Bokeh: ERROR: Unable to run BokehJS code because BokehJS library is missing\");\n",
       "        }\n",
       "      }\n",
       "    }, 10, root)\n",
       "  }\n",
       "})(window);"
      ],
      "application/vnd.bokehjs_exec.v0+json": ""
     },
     "metadata": {
      "application/vnd.bokehjs_exec.v0+json": {
       "id": "8291"
      }
     },
     "output_type": "display_data"
    }
   ],
   "source": [
    "p = figure(plot_width=600, plot_height=400, title=\"Some Title\")\n",
    "\n",
    "p.title.text_color = \"olive\"\n",
    "p.title.text_font = \"times\"\n",
    "p.title.text_font_style = \"italic\"\n",
    "p.title.text_font_size='20pt'\n",
    "p.title.align ='center'\n",
    "\n",
    "p.circle([1, 2, 3, 4, 5], [2, 5, 8, 2, 7], size=10)\n",
    "show(p)"
   ]
  },
  {
   "cell_type": "markdown",
   "metadata": {},
   "source": [
    "### Background"
   ]
  },
  {
   "cell_type": "code",
   "execution_count": 36,
   "metadata": {},
   "outputs": [
    {
     "data": {
      "text/html": [
       "\n",
       "\n",
       "\n",
       "\n",
       "\n",
       "\n",
       "  <div class=\"bk-root\" id=\"2ab2d1af-f523-4ac6-bf76-c915cae3563e\" data-root-id=\"5885\"></div>\n"
      ]
     },
     "metadata": {},
     "output_type": "display_data"
    },
    {
     "data": {
      "application/javascript": [
       "(function(root) {\n",
       "  function embed_document(root) {\n",
       "    \n",
       "  var docs_json = {\"149c0748-8a85-4c7b-bb6e-2212817e9ea0\":{\"roots\":{\"references\":[{\"attributes\":{\"background_fill_alpha\":{\"value\":0.5},\"background_fill_color\":{\"value\":\"beige\"},\"below\":[{\"id\":\"5894\",\"type\":\"LinearAxis\"}],\"center\":[{\"id\":\"5898\",\"type\":\"Grid\"},{\"id\":\"5903\",\"type\":\"Grid\"}],\"left\":[{\"id\":\"5899\",\"type\":\"LinearAxis\"}],\"plot_height\":400,\"renderers\":[{\"id\":\"5920\",\"type\":\"GlyphRenderer\"}],\"title\":{\"id\":\"6129\",\"type\":\"Title\"},\"toolbar\":{\"id\":\"5910\",\"type\":\"Toolbar\"},\"x_range\":{\"id\":\"5886\",\"type\":\"DataRange1d\"},\"x_scale\":{\"id\":\"5890\",\"type\":\"LinearScale\"},\"y_range\":{\"id\":\"5888\",\"type\":\"DataRange1d\"},\"y_scale\":{\"id\":\"5892\",\"type\":\"LinearScale\"}},\"id\":\"5885\",\"subtype\":\"Figure\",\"type\":\"Plot\"},{\"attributes\":{\"active_drag\":\"auto\",\"active_inspect\":\"auto\",\"active_multi\":null,\"active_scroll\":\"auto\",\"active_tap\":\"auto\",\"tools\":[{\"id\":\"5904\",\"type\":\"PanTool\"},{\"id\":\"5905\",\"type\":\"WheelZoomTool\"},{\"id\":\"5906\",\"type\":\"BoxZoomTool\"},{\"id\":\"5907\",\"type\":\"SaveTool\"},{\"id\":\"5908\",\"type\":\"ResetTool\"},{\"id\":\"5909\",\"type\":\"HelpTool\"}]},\"id\":\"5910\",\"type\":\"Toolbar\"},{\"attributes\":{},\"id\":\"5895\",\"type\":\"BasicTicker\"},{\"attributes\":{\"callback\":null},\"id\":\"5886\",\"type\":\"DataRange1d\"},{\"attributes\":{\"text\":\"\"},\"id\":\"6129\",\"type\":\"Title\"},{\"attributes\":{\"fill_alpha\":{\"value\":0.1},\"fill_color\":{\"value\":\"#1f77b4\"},\"line_alpha\":{\"value\":0.1},\"line_color\":{\"value\":\"#1f77b4\"},\"size\":{\"units\":\"screen\",\"value\":10},\"x\":{\"field\":\"x\"},\"y\":{\"field\":\"y\"}},\"id\":\"5919\",\"type\":\"Circle\"},{\"attributes\":{},\"id\":\"6134\",\"type\":\"BasicTickFormatter\"},{\"attributes\":{},\"id\":\"6136\",\"type\":\"Selection\"},{\"attributes\":{},\"id\":\"6132\",\"type\":\"BasicTickFormatter\"},{\"attributes\":{\"formatter\":{\"id\":\"6134\",\"type\":\"BasicTickFormatter\"},\"ticker\":{\"id\":\"5900\",\"type\":\"BasicTicker\"}},\"id\":\"5899\",\"type\":\"LinearAxis\"},{\"attributes\":{\"dimension\":1,\"ticker\":{\"id\":\"5900\",\"type\":\"BasicTicker\"}},\"id\":\"5903\",\"type\":\"Grid\"},{\"attributes\":{\"ticker\":{\"id\":\"5895\",\"type\":\"BasicTicker\"}},\"id\":\"5898\",\"type\":\"Grid\"},{\"attributes\":{\"callback\":null,\"data\":{\"x\":[1,2,3,4,5],\"y\":[2,5,8,2,7]},\"selected\":{\"id\":\"6136\",\"type\":\"Selection\"},\"selection_policy\":{\"id\":\"6135\",\"type\":\"UnionRenderers\"}},\"id\":\"5917\",\"type\":\"ColumnDataSource\"},{\"attributes\":{\"callback\":null},\"id\":\"5888\",\"type\":\"DataRange1d\"},{\"attributes\":{\"overlay\":{\"id\":\"6137\",\"type\":\"BoxAnnotation\"}},\"id\":\"5906\",\"type\":\"BoxZoomTool\"},{\"attributes\":{},\"id\":\"5905\",\"type\":\"WheelZoomTool\"},{\"attributes\":{},\"id\":\"5904\",\"type\":\"PanTool\"},{\"attributes\":{},\"id\":\"5907\",\"type\":\"SaveTool\"},{\"attributes\":{},\"id\":\"5908\",\"type\":\"ResetTool\"},{\"attributes\":{},\"id\":\"5890\",\"type\":\"LinearScale\"},{\"attributes\":{},\"id\":\"5892\",\"type\":\"LinearScale\"},{\"attributes\":{},\"id\":\"5909\",\"type\":\"HelpTool\"},{\"attributes\":{\"formatter\":{\"id\":\"6132\",\"type\":\"BasicTickFormatter\"},\"ticker\":{\"id\":\"5895\",\"type\":\"BasicTicker\"}},\"id\":\"5894\",\"type\":\"LinearAxis\"},{\"attributes\":{\"fill_color\":{\"value\":\"#1f77b4\"},\"line_color\":{\"value\":\"#1f77b4\"},\"size\":{\"units\":\"screen\",\"value\":10},\"x\":{\"field\":\"x\"},\"y\":{\"field\":\"y\"}},\"id\":\"5918\",\"type\":\"Circle\"},{\"attributes\":{\"data_source\":{\"id\":\"5917\",\"type\":\"ColumnDataSource\"},\"glyph\":{\"id\":\"5918\",\"type\":\"Circle\"},\"hover_glyph\":null,\"muted_glyph\":null,\"nonselection_glyph\":{\"id\":\"5919\",\"type\":\"Circle\"},\"selection_glyph\":null,\"view\":{\"id\":\"5921\",\"type\":\"CDSView\"}},\"id\":\"5920\",\"type\":\"GlyphRenderer\"},{\"attributes\":{},\"id\":\"6135\",\"type\":\"UnionRenderers\"},{\"attributes\":{\"bottom_units\":\"screen\",\"fill_alpha\":{\"value\":0.5},\"fill_color\":{\"value\":\"lightgrey\"},\"left_units\":\"screen\",\"level\":\"overlay\",\"line_alpha\":{\"value\":1.0},\"line_color\":{\"value\":\"black\"},\"line_dash\":[4,4],\"line_width\":{\"value\":2},\"render_mode\":\"css\",\"right_units\":\"screen\",\"top_units\":\"screen\"},\"id\":\"6137\",\"type\":\"BoxAnnotation\"},{\"attributes\":{\"source\":{\"id\":\"5917\",\"type\":\"ColumnDataSource\"}},\"id\":\"5921\",\"type\":\"CDSView\"},{\"attributes\":{},\"id\":\"5900\",\"type\":\"BasicTicker\"}],\"root_ids\":[\"5885\"]},\"title\":\"Bokeh Application\",\"version\":\"1.4.0\"}};\n",
       "  var render_items = [{\"docid\":\"149c0748-8a85-4c7b-bb6e-2212817e9ea0\",\"roots\":{\"5885\":\"2ab2d1af-f523-4ac6-bf76-c915cae3563e\"}}];\n",
       "  root.Bokeh.embed.embed_items_notebook(docs_json, render_items);\n",
       "\n",
       "  }\n",
       "  if (root.Bokeh !== undefined) {\n",
       "    embed_document(root);\n",
       "  } else {\n",
       "    var attempts = 0;\n",
       "    var timer = setInterval(function(root) {\n",
       "      if (root.Bokeh !== undefined) {\n",
       "        clearInterval(timer);\n",
       "        embed_document(root);\n",
       "      } else {\n",
       "        attempts++;\n",
       "        if (attempts > 100) {\n",
       "          clearInterval(timer);\n",
       "          console.log(\"Bokeh: ERROR: Unable to run BokehJS code because BokehJS library is missing\");\n",
       "        }\n",
       "      }\n",
       "    }, 10, root)\n",
       "  }\n",
       "})(window);"
      ],
      "application/vnd.bokehjs_exec.v0+json": ""
     },
     "metadata": {
      "application/vnd.bokehjs_exec.v0+json": {
       "id": "5885"
      }
     },
     "output_type": "display_data"
    }
   ],
   "source": [
    "p = figure(plot_width=600, plot_height=400)\n",
    "\n",
    "p.background_fill_color = \"beige\"\n",
    "p.background_fill_alpha = 0.5\n",
    "\n",
    "p.circle([1, 2, 3, 4, 5], [2, 5, 8, 2, 7], size=10)\n",
    "show(p)"
   ]
  },
  {
   "cell_type": "markdown",
   "metadata": {},
   "source": [
    "### Border"
   ]
  },
  {
   "cell_type": "code",
   "execution_count": 39,
   "metadata": {},
   "outputs": [
    {
     "data": {
      "text/html": [
       "\n",
       "\n",
       "\n",
       "\n",
       "\n",
       "\n",
       "  <div class=\"bk-root\" id=\"758df1f5-9ce3-487f-a547-5bbd8f44febc\" data-root-id=\"6833\"></div>\n"
      ]
     },
     "metadata": {},
     "output_type": "display_data"
    },
    {
     "data": {
      "application/javascript": [
       "(function(root) {\n",
       "  function embed_document(root) {\n",
       "    \n",
       "  var docs_json = {\"709ff052-76fa-4202-9108-df2ccded0e51\":{\"roots\":{\"references\":[{\"attributes\":{\"below\":[{\"id\":\"6842\",\"type\":\"LinearAxis\"}],\"border_fill_color\":{\"value\":\"whitesmoke\"},\"center\":[{\"id\":\"6846\",\"type\":\"Grid\"},{\"id\":\"6851\",\"type\":\"Grid\"}],\"left\":[{\"id\":\"6847\",\"type\":\"LinearAxis\"}],\"min_border_bottom\":40,\"min_border_left\":80,\"min_border_right\":80,\"min_border_top\":40,\"plot_height\":400,\"renderers\":[{\"id\":\"6868\",\"type\":\"GlyphRenderer\"}],\"title\":{\"id\":\"7104\",\"type\":\"Title\"},\"toolbar\":{\"id\":\"6858\",\"type\":\"Toolbar\"},\"x_range\":{\"id\":\"6834\",\"type\":\"DataRange1d\"},\"x_scale\":{\"id\":\"6838\",\"type\":\"LinearScale\"},\"y_range\":{\"id\":\"6836\",\"type\":\"DataRange1d\"},\"y_scale\":{\"id\":\"6840\",\"type\":\"LinearScale\"}},\"id\":\"6833\",\"subtype\":\"Figure\",\"type\":\"Plot\"},{\"attributes\":{\"callback\":null},\"id\":\"6834\",\"type\":\"DataRange1d\"},{\"attributes\":{\"dimension\":1,\"ticker\":{\"id\":\"6848\",\"type\":\"BasicTicker\"}},\"id\":\"6851\",\"type\":\"Grid\"},{\"attributes\":{\"ticker\":{\"id\":\"6843\",\"type\":\"BasicTicker\"}},\"id\":\"6846\",\"type\":\"Grid\"},{\"attributes\":{},\"id\":\"6838\",\"type\":\"LinearScale\"},{\"attributes\":{},\"id\":\"6843\",\"type\":\"BasicTicker\"},{\"attributes\":{},\"id\":\"6853\",\"type\":\"WheelZoomTool\"},{\"attributes\":{},\"id\":\"7109\",\"type\":\"BasicTickFormatter\"},{\"attributes\":{},\"id\":\"6852\",\"type\":\"PanTool\"},{\"attributes\":{},\"id\":\"6840\",\"type\":\"LinearScale\"},{\"attributes\":{},\"id\":\"6857\",\"type\":\"HelpTool\"},{\"attributes\":{\"data_source\":{\"id\":\"6865\",\"type\":\"ColumnDataSource\"},\"glyph\":{\"id\":\"6866\",\"type\":\"Circle\"},\"hover_glyph\":null,\"muted_glyph\":null,\"nonselection_glyph\":{\"id\":\"6867\",\"type\":\"Circle\"},\"selection_glyph\":null,\"view\":{\"id\":\"6869\",\"type\":\"CDSView\"}},\"id\":\"6868\",\"type\":\"GlyphRenderer\"},{\"attributes\":{\"callback\":null},\"id\":\"6836\",\"type\":\"DataRange1d\"},{\"attributes\":{},\"id\":\"7111\",\"type\":\"Selection\"},{\"attributes\":{\"source\":{\"id\":\"6865\",\"type\":\"ColumnDataSource\"}},\"id\":\"6869\",\"type\":\"CDSView\"},{\"attributes\":{\"formatter\":{\"id\":\"7109\",\"type\":\"BasicTickFormatter\"},\"ticker\":{\"id\":\"6848\",\"type\":\"BasicTicker\"}},\"id\":\"6847\",\"type\":\"LinearAxis\"},{\"attributes\":{\"fill_alpha\":{\"value\":0.1},\"fill_color\":{\"value\":\"#1f77b4\"},\"line_alpha\":{\"value\":0.1},\"line_color\":{\"value\":\"#1f77b4\"},\"size\":{\"units\":\"screen\",\"value\":10},\"x\":{\"field\":\"x\"},\"y\":{\"field\":\"y\"}},\"id\":\"6867\",\"type\":\"Circle\"},{\"attributes\":{},\"id\":\"6855\",\"type\":\"SaveTool\"},{\"attributes\":{\"text\":\"\"},\"id\":\"7104\",\"type\":\"Title\"},{\"attributes\":{},\"id\":\"6848\",\"type\":\"BasicTicker\"},{\"attributes\":{},\"id\":\"7107\",\"type\":\"BasicTickFormatter\"},{\"attributes\":{\"formatter\":{\"id\":\"7107\",\"type\":\"BasicTickFormatter\"},\"ticker\":{\"id\":\"6843\",\"type\":\"BasicTicker\"}},\"id\":\"6842\",\"type\":\"LinearAxis\"},{\"attributes\":{\"overlay\":{\"id\":\"7112\",\"type\":\"BoxAnnotation\"}},\"id\":\"6854\",\"type\":\"BoxZoomTool\"},{\"attributes\":{\"fill_color\":{\"value\":\"#1f77b4\"},\"line_color\":{\"value\":\"#1f77b4\"},\"size\":{\"units\":\"screen\",\"value\":10},\"x\":{\"field\":\"x\"},\"y\":{\"field\":\"y\"}},\"id\":\"6866\",\"type\":\"Circle\"},{\"attributes\":{},\"id\":\"7110\",\"type\":\"UnionRenderers\"},{\"attributes\":{\"bottom_units\":\"screen\",\"fill_alpha\":{\"value\":0.5},\"fill_color\":{\"value\":\"lightgrey\"},\"left_units\":\"screen\",\"level\":\"overlay\",\"line_alpha\":{\"value\":1.0},\"line_color\":{\"value\":\"black\"},\"line_dash\":[4,4],\"line_width\":{\"value\":2},\"render_mode\":\"css\",\"right_units\":\"screen\",\"top_units\":\"screen\"},\"id\":\"7112\",\"type\":\"BoxAnnotation\"},{\"attributes\":{},\"id\":\"6856\",\"type\":\"ResetTool\"},{\"attributes\":{\"callback\":null,\"data\":{\"x\":[1,2,3,4,5],\"y\":[2,5,8,2,7]},\"selected\":{\"id\":\"7111\",\"type\":\"Selection\"},\"selection_policy\":{\"id\":\"7110\",\"type\":\"UnionRenderers\"}},\"id\":\"6865\",\"type\":\"ColumnDataSource\"},{\"attributes\":{\"active_drag\":\"auto\",\"active_inspect\":\"auto\",\"active_multi\":null,\"active_scroll\":\"auto\",\"active_tap\":\"auto\",\"tools\":[{\"id\":\"6852\",\"type\":\"PanTool\"},{\"id\":\"6853\",\"type\":\"WheelZoomTool\"},{\"id\":\"6854\",\"type\":\"BoxZoomTool\"},{\"id\":\"6855\",\"type\":\"SaveTool\"},{\"id\":\"6856\",\"type\":\"ResetTool\"},{\"id\":\"6857\",\"type\":\"HelpTool\"}]},\"id\":\"6858\",\"type\":\"Toolbar\"}],\"root_ids\":[\"6833\"]},\"title\":\"Bokeh Application\",\"version\":\"1.4.0\"}};\n",
       "  var render_items = [{\"docid\":\"709ff052-76fa-4202-9108-df2ccded0e51\",\"roots\":{\"6833\":\"758df1f5-9ce3-487f-a547-5bbd8f44febc\"}}];\n",
       "  root.Bokeh.embed.embed_items_notebook(docs_json, render_items);\n",
       "\n",
       "  }\n",
       "  if (root.Bokeh !== undefined) {\n",
       "    embed_document(root);\n",
       "  } else {\n",
       "    var attempts = 0;\n",
       "    var timer = setInterval(function(root) {\n",
       "      if (root.Bokeh !== undefined) {\n",
       "        clearInterval(timer);\n",
       "        embed_document(root);\n",
       "      } else {\n",
       "        attempts++;\n",
       "        if (attempts > 100) {\n",
       "          clearInterval(timer);\n",
       "          console.log(\"Bokeh: ERROR: Unable to run BokehJS code because BokehJS library is missing\");\n",
       "        }\n",
       "      }\n",
       "    }, 10, root)\n",
       "  }\n",
       "})(window);"
      ],
      "application/vnd.bokehjs_exec.v0+json": ""
     },
     "metadata": {
      "application/vnd.bokehjs_exec.v0+json": {
       "id": "6833"
      }
     },
     "output_type": "display_data"
    }
   ],
   "source": [
    "p = figure(plot_width=600, plot_height=400)\n",
    "\n",
    "p.border_fill_color = \"whitesmoke\"\n",
    "p.min_border_left = 80\n",
    "p.min_border_right=80\n",
    "p.min_border_top=40\n",
    "p.min_border_bottom=40\n",
    "\n",
    "p.circle([1,2,3,4,5], [2,5,8,2,7], size=10)\n",
    "show(p)"
   ]
  },
  {
   "cell_type": "markdown",
   "metadata": {},
   "source": [
    "### Outline"
   ]
  },
  {
   "cell_type": "code",
   "execution_count": 42,
   "metadata": {},
   "outputs": [
    {
     "data": {
      "text/html": [
       "\n",
       "\n",
       "\n",
       "\n",
       "\n",
       "\n",
       "  <div class=\"bk-root\" id=\"04cc3d81-01d1-415f-a678-f74bc1de9eee\" data-root-id=\"7862\"></div>\n"
      ]
     },
     "metadata": {},
     "output_type": "display_data"
    },
    {
     "data": {
      "application/javascript": [
       "(function(root) {\n",
       "  function embed_document(root) {\n",
       "    \n",
       "  var docs_json = {\"f9774642-49f2-443f-be4b-423572edadb4\":{\"roots\":{\"references\":[{\"attributes\":{\"below\":[{\"id\":\"7871\",\"type\":\"LinearAxis\"}],\"center\":[{\"id\":\"7875\",\"type\":\"Grid\"},{\"id\":\"7880\",\"type\":\"Grid\"}],\"left\":[{\"id\":\"7876\",\"type\":\"LinearAxis\"}],\"outline_line_alpha\":{\"value\":0.3},\"outline_line_cap\":\"round\",\"outline_line_color\":{\"value\":\"navy\"},\"outline_line_dash\":[2,4],\"outline_line_width\":{\"value\":7},\"plot_height\":400,\"renderers\":[{\"id\":\"7897\",\"type\":\"GlyphRenderer\"}],\"title\":{\"id\":\"8160\",\"type\":\"Title\"},\"toolbar\":{\"id\":\"7887\",\"type\":\"Toolbar\"},\"x_range\":{\"id\":\"7863\",\"type\":\"DataRange1d\"},\"x_scale\":{\"id\":\"7867\",\"type\":\"LinearScale\"},\"y_range\":{\"id\":\"7865\",\"type\":\"DataRange1d\"},\"y_scale\":{\"id\":\"7869\",\"type\":\"LinearScale\"}},\"id\":\"7862\",\"subtype\":\"Figure\",\"type\":\"Plot\"},{\"attributes\":{},\"id\":\"7869\",\"type\":\"LinearScale\"},{\"attributes\":{\"callback\":null,\"data\":{\"x\":[1,2,3,4,5],\"y\":[2,5,8,2,7]},\"selected\":{\"id\":\"8167\",\"type\":\"Selection\"},\"selection_policy\":{\"id\":\"8166\",\"type\":\"UnionRenderers\"}},\"id\":\"7894\",\"type\":\"ColumnDataSource\"},{\"attributes\":{\"formatter\":{\"id\":\"8163\",\"type\":\"BasicTickFormatter\"},\"ticker\":{\"id\":\"7872\",\"type\":\"BasicTicker\"}},\"id\":\"7871\",\"type\":\"LinearAxis\"},{\"attributes\":{},\"id\":\"8165\",\"type\":\"BasicTickFormatter\"},{\"attributes\":{},\"id\":\"7877\",\"type\":\"BasicTicker\"},{\"attributes\":{\"ticker\":{\"id\":\"7872\",\"type\":\"BasicTicker\"}},\"id\":\"7875\",\"type\":\"Grid\"},{\"attributes\":{},\"id\":\"7872\",\"type\":\"BasicTicker\"},{\"attributes\":{\"active_drag\":\"auto\",\"active_inspect\":\"auto\",\"active_multi\":null,\"active_scroll\":\"auto\",\"active_tap\":\"auto\",\"tools\":[{\"id\":\"7881\",\"type\":\"PanTool\"},{\"id\":\"7882\",\"type\":\"WheelZoomTool\"},{\"id\":\"7883\",\"type\":\"BoxZoomTool\"},{\"id\":\"7884\",\"type\":\"SaveTool\"},{\"id\":\"7885\",\"type\":\"ResetTool\"},{\"id\":\"7886\",\"type\":\"HelpTool\"}]},\"id\":\"7887\",\"type\":\"Toolbar\"},{\"attributes\":{\"bottom_units\":\"screen\",\"fill_alpha\":{\"value\":0.5},\"fill_color\":{\"value\":\"lightgrey\"},\"left_units\":\"screen\",\"level\":\"overlay\",\"line_alpha\":{\"value\":1.0},\"line_color\":{\"value\":\"black\"},\"line_dash\":[4,4],\"line_width\":{\"value\":2},\"render_mode\":\"css\",\"right_units\":\"screen\",\"top_units\":\"screen\"},\"id\":\"8168\",\"type\":\"BoxAnnotation\"},{\"attributes\":{},\"id\":\"7881\",\"type\":\"PanTool\"},{\"attributes\":{\"text\":\"\"},\"id\":\"8160\",\"type\":\"Title\"},{\"attributes\":{\"formatter\":{\"id\":\"8165\",\"type\":\"BasicTickFormatter\"},\"ticker\":{\"id\":\"7877\",\"type\":\"BasicTicker\"}},\"id\":\"7876\",\"type\":\"LinearAxis\"},{\"attributes\":{\"dimension\":1,\"ticker\":{\"id\":\"7877\",\"type\":\"BasicTicker\"}},\"id\":\"7880\",\"type\":\"Grid\"},{\"attributes\":{\"overlay\":{\"id\":\"8168\",\"type\":\"BoxAnnotation\"}},\"id\":\"7883\",\"type\":\"BoxZoomTool\"},{\"attributes\":{},\"id\":\"8163\",\"type\":\"BasicTickFormatter\"},{\"attributes\":{},\"id\":\"7882\",\"type\":\"WheelZoomTool\"},{\"attributes\":{\"fill_alpha\":{\"value\":0.1},\"fill_color\":{\"value\":\"#1f77b4\"},\"line_alpha\":{\"value\":0.1},\"line_color\":{\"value\":\"#1f77b4\"},\"size\":{\"units\":\"screen\",\"value\":10},\"x\":{\"field\":\"x\"},\"y\":{\"field\":\"y\"}},\"id\":\"7896\",\"type\":\"Circle\"},{\"attributes\":{\"source\":{\"id\":\"7894\",\"type\":\"ColumnDataSource\"}},\"id\":\"7898\",\"type\":\"CDSView\"},{\"attributes\":{},\"id\":\"8166\",\"type\":\"UnionRenderers\"},{\"attributes\":{},\"id\":\"7867\",\"type\":\"LinearScale\"},{\"attributes\":{},\"id\":\"7885\",\"type\":\"ResetTool\"},{\"attributes\":{},\"id\":\"7886\",\"type\":\"HelpTool\"},{\"attributes\":{},\"id\":\"7884\",\"type\":\"SaveTool\"},{\"attributes\":{},\"id\":\"8167\",\"type\":\"Selection\"},{\"attributes\":{\"callback\":null},\"id\":\"7865\",\"type\":\"DataRange1d\"},{\"attributes\":{\"data_source\":{\"id\":\"7894\",\"type\":\"ColumnDataSource\"},\"glyph\":{\"id\":\"7895\",\"type\":\"Circle\"},\"hover_glyph\":null,\"muted_glyph\":null,\"nonselection_glyph\":{\"id\":\"7896\",\"type\":\"Circle\"},\"selection_glyph\":null,\"view\":{\"id\":\"7898\",\"type\":\"CDSView\"}},\"id\":\"7897\",\"type\":\"GlyphRenderer\"},{\"attributes\":{\"callback\":null},\"id\":\"7863\",\"type\":\"DataRange1d\"},{\"attributes\":{\"fill_color\":{\"value\":\"#1f77b4\"},\"line_color\":{\"value\":\"#1f77b4\"},\"size\":{\"units\":\"screen\",\"value\":10},\"x\":{\"field\":\"x\"},\"y\":{\"field\":\"y\"}},\"id\":\"7895\",\"type\":\"Circle\"}],\"root_ids\":[\"7862\"]},\"title\":\"Bokeh Application\",\"version\":\"1.4.0\"}};\n",
       "  var render_items = [{\"docid\":\"f9774642-49f2-443f-be4b-423572edadb4\",\"roots\":{\"7862\":\"04cc3d81-01d1-415f-a678-f74bc1de9eee\"}}];\n",
       "  root.Bokeh.embed.embed_items_notebook(docs_json, render_items);\n",
       "\n",
       "  }\n",
       "  if (root.Bokeh !== undefined) {\n",
       "    embed_document(root);\n",
       "  } else {\n",
       "    var attempts = 0;\n",
       "    var timer = setInterval(function(root) {\n",
       "      if (root.Bokeh !== undefined) {\n",
       "        clearInterval(timer);\n",
       "        embed_document(root);\n",
       "      } else {\n",
       "        attempts++;\n",
       "        if (attempts > 100) {\n",
       "          clearInterval(timer);\n",
       "          console.log(\"Bokeh: ERROR: Unable to run BokehJS code because BokehJS library is missing\");\n",
       "        }\n",
       "      }\n",
       "    }, 10, root)\n",
       "  }\n",
       "})(window);"
      ],
      "application/vnd.bokehjs_exec.v0+json": ""
     },
     "metadata": {
      "application/vnd.bokehjs_exec.v0+json": {
       "id": "7862"
      }
     },
     "output_type": "display_data"
    }
   ],
   "source": [
    "p = figure(plot_width=600, plot_height=400)\n",
    "\n",
    "p.outline_line_width = 7\n",
    "p.outline_line_alpha = 0.3\n",
    "p.outline_line_color = \"navy\"\n",
    "p.outline_line_cap = 'round'\n",
    "p.outline_line_dash = 'dotted'\n",
    "\n",
    "p.circle([1,2,3,4,5], [2,5,8,2,7], size=10)\n",
    "show(p)"
   ]
  },
  {
   "cell_type": "markdown",
   "metadata": {},
   "source": [
    "### Glyphs"
   ]
  },
  {
   "cell_type": "code",
   "execution_count": 47,
   "metadata": {},
   "outputs": [
    {
     "data": {
      "text/html": [
       "<div style=\"display: table;\"><div style=\"display: table-row;\"><div style=\"display: table-cell;\"><b title=\"bokeh.models.renderers.GlyphRenderer\">GlyphRenderer</b>(</div><div style=\"display: table-cell;\">id&nbsp;=&nbsp;'8659', <span id=\"8942\" style=\"cursor: pointer;\">&hellip;)</span></div></div><div class=\"8941\" style=\"display: none;\"><div style=\"display: table-cell;\"></div><div style=\"display: table-cell;\">data_source&nbsp;=&nbsp;ColumnDataSource(id='8656', ...),</div></div><div class=\"8941\" style=\"display: none;\"><div style=\"display: table-cell;\"></div><div style=\"display: table-cell;\">glyph&nbsp;=&nbsp;Circle(id='8657', ...),</div></div><div class=\"8941\" style=\"display: none;\"><div style=\"display: table-cell;\"></div><div style=\"display: table-cell;\">hover_glyph&nbsp;=&nbsp;None,</div></div><div class=\"8941\" style=\"display: none;\"><div style=\"display: table-cell;\"></div><div style=\"display: table-cell;\">js_event_callbacks&nbsp;=&nbsp;{},</div></div><div class=\"8941\" style=\"display: none;\"><div style=\"display: table-cell;\"></div><div style=\"display: table-cell;\">js_property_callbacks&nbsp;=&nbsp;{},</div></div><div class=\"8941\" style=\"display: none;\"><div style=\"display: table-cell;\"></div><div style=\"display: table-cell;\">level&nbsp;=&nbsp;'glyph',</div></div><div class=\"8941\" style=\"display: none;\"><div style=\"display: table-cell;\"></div><div style=\"display: table-cell;\">muted&nbsp;=&nbsp;False,</div></div><div class=\"8941\" style=\"display: none;\"><div style=\"display: table-cell;\"></div><div style=\"display: table-cell;\">muted_glyph&nbsp;=&nbsp;None,</div></div><div class=\"8941\" style=\"display: none;\"><div style=\"display: table-cell;\"></div><div style=\"display: table-cell;\">name&nbsp;=&nbsp;None,</div></div><div class=\"8941\" style=\"display: none;\"><div style=\"display: table-cell;\"></div><div style=\"display: table-cell;\">nonselection_glyph&nbsp;=&nbsp;Circle(id='8658', ...),</div></div><div class=\"8941\" style=\"display: none;\"><div style=\"display: table-cell;\"></div><div style=\"display: table-cell;\">selection_glyph&nbsp;=&nbsp;None,</div></div><div class=\"8941\" style=\"display: none;\"><div style=\"display: table-cell;\"></div><div style=\"display: table-cell;\">subscribed_events&nbsp;=&nbsp;[],</div></div><div class=\"8941\" style=\"display: none;\"><div style=\"display: table-cell;\"></div><div style=\"display: table-cell;\">tags&nbsp;=&nbsp;[],</div></div><div class=\"8941\" style=\"display: none;\"><div style=\"display: table-cell;\"></div><div style=\"display: table-cell;\">view&nbsp;=&nbsp;CDSView(id='8660', ...),</div></div><div class=\"8941\" style=\"display: none;\"><div style=\"display: table-cell;\"></div><div style=\"display: table-cell;\">visible&nbsp;=&nbsp;True,</div></div><div class=\"8941\" style=\"display: none;\"><div style=\"display: table-cell;\"></div><div style=\"display: table-cell;\">x_range_name&nbsp;=&nbsp;'default',</div></div><div class=\"8941\" style=\"display: none;\"><div style=\"display: table-cell;\"></div><div style=\"display: table-cell;\">y_range_name&nbsp;=&nbsp;'default')</div></div></div>\n",
       "<script>\n",
       "(function() {\n",
       "  var expanded = false;\n",
       "  var ellipsis = document.getElementById(\"8942\");\n",
       "  ellipsis.addEventListener(\"click\", function() {\n",
       "    var rows = document.getElementsByClassName(\"8941\");\n",
       "    for (var i = 0; i < rows.length; i++) {\n",
       "      var el = rows[i];\n",
       "      el.style.display = expanded ? \"none\" : \"table-row\";\n",
       "    }\n",
       "    ellipsis.innerHTML = expanded ? \"&hellip;)\" : \"&lsaquo;&lsaquo;&lsaquo;\";\n",
       "    expanded = !expanded;\n",
       "  });\n",
       "})();\n",
       "</script>\n"
      ],
      "text/plain": [
       "GlyphRenderer(id='8659', ...)"
      ]
     },
     "execution_count": 47,
     "metadata": {},
     "output_type": "execute_result"
    }
   ],
   "source": [
    "r = p.circle([1,2,3,4,5], [2,5,8,2,7])\n",
    "r"
   ]
  },
  {
   "cell_type": "code",
   "execution_count": 48,
   "metadata": {},
   "outputs": [
    {
     "data": {
      "text/html": [
       "<div style=\"display: table;\"><div style=\"display: table-row;\"><div style=\"display: table-cell;\"><b title=\"bokeh.models.markers.Circle\">Circle</b>(</div><div style=\"display: table-cell;\">id&nbsp;=&nbsp;'8657', <span id=\"8944\" style=\"cursor: pointer;\">&hellip;)</span></div></div><div class=\"8943\" style=\"display: none;\"><div style=\"display: table-cell;\"></div><div style=\"display: table-cell;\">angle&nbsp;=&nbsp;{'value': 0.0, 'units': 'rad'},</div></div><div class=\"8943\" style=\"display: none;\"><div style=\"display: table-cell;\"></div><div style=\"display: table-cell;\">fill_alpha&nbsp;=&nbsp;{'value': 1.0},</div></div><div class=\"8943\" style=\"display: none;\"><div style=\"display: table-cell;\"></div><div style=\"display: table-cell;\">fill_color&nbsp;=&nbsp;{'value': '#1f77b4'},</div></div><div class=\"8943\" style=\"display: none;\"><div style=\"display: table-cell;\"></div><div style=\"display: table-cell;\">js_event_callbacks&nbsp;=&nbsp;{},</div></div><div class=\"8943\" style=\"display: none;\"><div style=\"display: table-cell;\"></div><div style=\"display: table-cell;\">js_property_callbacks&nbsp;=&nbsp;{},</div></div><div class=\"8943\" style=\"display: none;\"><div style=\"display: table-cell;\"></div><div style=\"display: table-cell;\">line_alpha&nbsp;=&nbsp;{'value': 1.0},</div></div><div class=\"8943\" style=\"display: none;\"><div style=\"display: table-cell;\"></div><div style=\"display: table-cell;\">line_cap&nbsp;=&nbsp;'butt',</div></div><div class=\"8943\" style=\"display: none;\"><div style=\"display: table-cell;\"></div><div style=\"display: table-cell;\">line_color&nbsp;=&nbsp;{'value': '#1f77b4'},</div></div><div class=\"8943\" style=\"display: none;\"><div style=\"display: table-cell;\"></div><div style=\"display: table-cell;\">line_dash&nbsp;=&nbsp;[],</div></div><div class=\"8943\" style=\"display: none;\"><div style=\"display: table-cell;\"></div><div style=\"display: table-cell;\">line_dash_offset&nbsp;=&nbsp;0,</div></div><div class=\"8943\" style=\"display: none;\"><div style=\"display: table-cell;\"></div><div style=\"display: table-cell;\">line_join&nbsp;=&nbsp;'bevel',</div></div><div class=\"8943\" style=\"display: none;\"><div style=\"display: table-cell;\"></div><div style=\"display: table-cell;\">line_width&nbsp;=&nbsp;{'value': 1},</div></div><div class=\"8943\" style=\"display: none;\"><div style=\"display: table-cell;\"></div><div style=\"display: table-cell;\">name&nbsp;=&nbsp;None,</div></div><div class=\"8943\" style=\"display: none;\"><div style=\"display: table-cell;\"></div><div style=\"display: table-cell;\">radius&nbsp;=&nbsp;None,</div></div><div class=\"8943\" style=\"display: none;\"><div style=\"display: table-cell;\"></div><div style=\"display: table-cell;\">radius_dimension&nbsp;=&nbsp;'x',</div></div><div class=\"8943\" style=\"display: none;\"><div style=\"display: table-cell;\"></div><div style=\"display: table-cell;\">size&nbsp;=&nbsp;{'value': 4, 'units': 'screen'},</div></div><div class=\"8943\" style=\"display: none;\"><div style=\"display: table-cell;\"></div><div style=\"display: table-cell;\">subscribed_events&nbsp;=&nbsp;[],</div></div><div class=\"8943\" style=\"display: none;\"><div style=\"display: table-cell;\"></div><div style=\"display: table-cell;\">tags&nbsp;=&nbsp;[],</div></div><div class=\"8943\" style=\"display: none;\"><div style=\"display: table-cell;\"></div><div style=\"display: table-cell;\">x&nbsp;=&nbsp;{'field': 'x'},</div></div><div class=\"8943\" style=\"display: none;\"><div style=\"display: table-cell;\"></div><div style=\"display: table-cell;\">y&nbsp;=&nbsp;{'field': 'y'})</div></div></div>\n",
       "<script>\n",
       "(function() {\n",
       "  var expanded = false;\n",
       "  var ellipsis = document.getElementById(\"8944\");\n",
       "  ellipsis.addEventListener(\"click\", function() {\n",
       "    var rows = document.getElementsByClassName(\"8943\");\n",
       "    for (var i = 0; i < rows.length; i++) {\n",
       "      var el = rows[i];\n",
       "      el.style.display = expanded ? \"none\" : \"table-row\";\n",
       "    }\n",
       "    ellipsis.innerHTML = expanded ? \"&hellip;)\" : \"&lsaquo;&lsaquo;&lsaquo;\";\n",
       "    expanded = !expanded;\n",
       "  });\n",
       "})();\n",
       "</script>\n"
      ],
      "text/plain": [
       "Circle(id='8657', ...)"
      ]
     },
     "execution_count": 48,
     "metadata": {},
     "output_type": "execute_result"
    }
   ],
   "source": [
    "r.glyph"
   ]
  },
  {
   "cell_type": "code",
   "execution_count": 49,
   "metadata": {},
   "outputs": [
    {
     "data": {
      "text/html": [
       "\n",
       "\n",
       "\n",
       "\n",
       "\n",
       "\n",
       "  <div class=\"bk-root\" id=\"6d016049-347f-4759-ac4a-0072d55f247b\" data-root-id=\"8945\"></div>\n"
      ]
     },
     "metadata": {},
     "output_type": "display_data"
    },
    {
     "data": {
      "application/javascript": [
       "(function(root) {\n",
       "  function embed_document(root) {\n",
       "    \n",
       "  var docs_json = {\"4ca7c372-461b-478a-852c-fdf57d2d0f78\":{\"roots\":{\"references\":[{\"attributes\":{\"below\":[{\"id\":\"8954\",\"type\":\"LinearAxis\"}],\"center\":[{\"id\":\"8958\",\"type\":\"Grid\"},{\"id\":\"8963\",\"type\":\"Grid\"}],\"left\":[{\"id\":\"8959\",\"type\":\"LinearAxis\"}],\"plot_height\":400,\"renderers\":[{\"id\":\"8980\",\"type\":\"GlyphRenderer\"}],\"title\":{\"id\":\"9262\",\"type\":\"Title\"},\"toolbar\":{\"id\":\"8970\",\"type\":\"Toolbar\"},\"x_range\":{\"id\":\"8946\",\"type\":\"DataRange1d\"},\"x_scale\":{\"id\":\"8950\",\"type\":\"LinearScale\"},\"y_range\":{\"id\":\"8948\",\"type\":\"DataRange1d\"},\"y_scale\":{\"id\":\"8952\",\"type\":\"LinearScale\"}},\"id\":\"8945\",\"subtype\":\"Figure\",\"type\":\"Plot\"},{\"attributes\":{\"dimension\":1,\"ticker\":{\"id\":\"8960\",\"type\":\"BasicTicker\"}},\"id\":\"8963\",\"type\":\"Grid\"},{\"attributes\":{},\"id\":\"9268\",\"type\":\"UnionRenderers\"},{\"attributes\":{\"source\":{\"id\":\"8977\",\"type\":\"ColumnDataSource\"}},\"id\":\"8981\",\"type\":\"CDSView\"},{\"attributes\":{},\"id\":\"9269\",\"type\":\"Selection\"},{\"attributes\":{\"active_drag\":\"auto\",\"active_inspect\":\"auto\",\"active_multi\":null,\"active_scroll\":\"auto\",\"active_tap\":\"auto\",\"tools\":[{\"id\":\"8964\",\"type\":\"PanTool\"},{\"id\":\"8965\",\"type\":\"WheelZoomTool\"},{\"id\":\"8966\",\"type\":\"BoxZoomTool\"},{\"id\":\"8967\",\"type\":\"SaveTool\"},{\"id\":\"8968\",\"type\":\"ResetTool\"},{\"id\":\"8969\",\"type\":\"HelpTool\"}]},\"id\":\"8970\",\"type\":\"Toolbar\"},{\"attributes\":{\"bottom_units\":\"screen\",\"fill_alpha\":{\"value\":0.5},\"fill_color\":{\"value\":\"lightgrey\"},\"left_units\":\"screen\",\"level\":\"overlay\",\"line_alpha\":{\"value\":1.0},\"line_color\":{\"value\":\"black\"},\"line_dash\":[4,4],\"line_width\":{\"value\":2},\"render_mode\":\"css\",\"right_units\":\"screen\",\"top_units\":\"screen\"},\"id\":\"9270\",\"type\":\"BoxAnnotation\"},{\"attributes\":{\"text\":\"\"},\"id\":\"9262\",\"type\":\"Title\"},{\"attributes\":{},\"id\":\"8964\",\"type\":\"PanTool\"},{\"attributes\":{\"formatter\":{\"id\":\"9265\",\"type\":\"BasicTickFormatter\"},\"ticker\":{\"id\":\"8955\",\"type\":\"BasicTicker\"}},\"id\":\"8954\",\"type\":\"LinearAxis\"},{\"attributes\":{},\"id\":\"8965\",\"type\":\"WheelZoomTool\"},{\"attributes\":{\"overlay\":{\"id\":\"9270\",\"type\":\"BoxAnnotation\"}},\"id\":\"8966\",\"type\":\"BoxZoomTool\"},{\"attributes\":{},\"id\":\"8967\",\"type\":\"SaveTool\"},{\"attributes\":{},\"id\":\"8968\",\"type\":\"ResetTool\"},{\"attributes\":{\"fill_alpha\":{\"value\":0.1},\"fill_color\":{\"value\":\"#1f77b4\"},\"line_alpha\":{\"value\":0.1},\"line_color\":{\"value\":\"#1f77b4\"},\"x\":{\"field\":\"x\"},\"y\":{\"field\":\"y\"}},\"id\":\"8979\",\"type\":\"Circle\"},{\"attributes\":{},\"id\":\"8969\",\"type\":\"HelpTool\"},{\"attributes\":{\"callback\":null},\"id\":\"8948\",\"type\":\"DataRange1d\"},{\"attributes\":{},\"id\":\"8960\",\"type\":\"BasicTicker\"},{\"attributes\":{\"data_source\":{\"id\":\"8977\",\"type\":\"ColumnDataSource\"},\"glyph\":{\"id\":\"8978\",\"type\":\"Circle\"},\"hover_glyph\":null,\"muted_glyph\":null,\"nonselection_glyph\":{\"id\":\"8979\",\"type\":\"Circle\"},\"selection_glyph\":null,\"view\":{\"id\":\"8981\",\"type\":\"CDSView\"}},\"id\":\"8980\",\"type\":\"GlyphRenderer\"},{\"attributes\":{\"ticker\":{\"id\":\"8955\",\"type\":\"BasicTicker\"}},\"id\":\"8958\",\"type\":\"Grid\"},{\"attributes\":{},\"id\":\"8955\",\"type\":\"BasicTicker\"},{\"attributes\":{\"callback\":null},\"id\":\"8946\",\"type\":\"DataRange1d\"},{\"attributes\":{},\"id\":\"8950\",\"type\":\"LinearScale\"},{\"attributes\":{\"formatter\":{\"id\":\"9267\",\"type\":\"BasicTickFormatter\"},\"ticker\":{\"id\":\"8960\",\"type\":\"BasicTicker\"}},\"id\":\"8959\",\"type\":\"LinearAxis\"},{\"attributes\":{},\"id\":\"8952\",\"type\":\"LinearScale\"},{\"attributes\":{\"callback\":null,\"data\":{\"x\":[1,2,3,4,5],\"y\":[2,5,8,2,7]},\"selected\":{\"id\":\"9269\",\"type\":\"Selection\"},\"selection_policy\":{\"id\":\"9268\",\"type\":\"UnionRenderers\"}},\"id\":\"8977\",\"type\":\"ColumnDataSource\"},{\"attributes\":{},\"id\":\"9265\",\"type\":\"BasicTickFormatter\"},{\"attributes\":{},\"id\":\"9267\",\"type\":\"BasicTickFormatter\"},{\"attributes\":{\"fill_alpha\":{\"value\":0.2},\"fill_color\":{\"value\":\"#1f77b4\"},\"line_color\":{\"value\":\"firebrick\"},\"line_dash\":[6,3],\"line_width\":{\"value\":2},\"size\":{\"units\":\"screen\",\"value\":60},\"x\":{\"field\":\"x\"},\"y\":{\"field\":\"y\"}},\"id\":\"8978\",\"type\":\"Circle\"}],\"root_ids\":[\"8945\"]},\"title\":\"Bokeh Application\",\"version\":\"1.4.0\"}};\n",
       "  var render_items = [{\"docid\":\"4ca7c372-461b-478a-852c-fdf57d2d0f78\",\"roots\":{\"8945\":\"6d016049-347f-4759-ac4a-0072d55f247b\"}}];\n",
       "  root.Bokeh.embed.embed_items_notebook(docs_json, render_items);\n",
       "\n",
       "  }\n",
       "  if (root.Bokeh !== undefined) {\n",
       "    embed_document(root);\n",
       "  } else {\n",
       "    var attempts = 0;\n",
       "    var timer = setInterval(function(root) {\n",
       "      if (root.Bokeh !== undefined) {\n",
       "        clearInterval(timer);\n",
       "        embed_document(root);\n",
       "      } else {\n",
       "        attempts++;\n",
       "        if (attempts > 100) {\n",
       "          clearInterval(timer);\n",
       "          console.log(\"Bokeh: ERROR: Unable to run BokehJS code because BokehJS library is missing\");\n",
       "        }\n",
       "      }\n",
       "    }, 10, root)\n",
       "  }\n",
       "})(window);"
      ],
      "application/vnd.bokehjs_exec.v0+json": ""
     },
     "metadata": {
      "application/vnd.bokehjs_exec.v0+json": {
       "id": "8945"
      }
     },
     "output_type": "display_data"
    }
   ],
   "source": [
    "p = figure(plot_width=600, plot_height=400)\n",
    "r = p.circle([1,2,3,4,5], [2,5,8,2,7])\n",
    "\n",
    "glyph = r.glyph\n",
    "glyph.size = 60\n",
    "glyph.fill_alpha = 0.2\n",
    "glyph.line_color = \"firebrick\"\n",
    "glyph.line_dash = [6, 3]\n",
    "glyph.line_width = 2\n",
    "\n",
    "show(p)"
   ]
  },
  {
   "cell_type": "markdown",
   "metadata": {},
   "source": [
    "### Hover Inspections"
   ]
  },
  {
   "cell_type": "code",
   "execution_count": 50,
   "metadata": {},
   "outputs": [],
   "source": [
    "from bokeh.models import HoverTool\n",
    "from bokeh.sampledata.glucose import data"
   ]
  },
  {
   "cell_type": "code",
   "execution_count": 53,
   "metadata": {},
   "outputs": [
    {
     "data": {
      "text/html": [
       "\n",
       "\n",
       "\n",
       "\n",
       "\n",
       "\n",
       "  <div class=\"bk-root\" id=\"c41faa76-0daa-449e-8dc8-d5a676392c07\" data-root-id=\"10327\"></div>\n"
      ]
     },
     "metadata": {},
     "output_type": "display_data"
    },
    {
     "data": {
      "application/javascript": [
       "(function(root) {\n",
       "  function embed_document(root) {\n",
       "    \n",
       "  var docs_json = {\"935bbe98-0ca4-4f35-8c0b-4dc54e071066\":{\"roots\":{\"references\":[{\"attributes\":{\"below\":[{\"id\":\"10338\",\"type\":\"DatetimeAxis\"}],\"center\":[{\"id\":\"10342\",\"type\":\"Grid\"},{\"id\":\"10347\",\"type\":\"Grid\"}],\"left\":[{\"id\":\"10343\",\"type\":\"LinearAxis\"}],\"plot_height\":300,\"renderers\":[{\"id\":\"10364\",\"type\":\"GlyphRenderer\"},{\"id\":\"10370\",\"type\":\"GlyphRenderer\"}],\"title\":{\"id\":\"10328\",\"type\":\"Title\"},\"toolbar\":{\"id\":\"10354\",\"type\":\"Toolbar\"},\"x_range\":{\"id\":\"10330\",\"type\":\"DataRange1d\"},\"x_scale\":{\"id\":\"10334\",\"type\":\"LinearScale\"},\"y_range\":{\"id\":\"10332\",\"type\":\"DataRange1d\"},\"y_scale\":{\"id\":\"10336\",\"type\":\"LinearScale\"}},\"id\":\"10327\",\"subtype\":\"Figure\",\"type\":\"Plot\"},{\"attributes\":{},\"id\":\"10352\",\"type\":\"ResetTool\"},{\"attributes\":{\"months\":[0,1,2,3,4,5,6,7,8,9,10,11]},\"id\":\"10723\",\"type\":\"MonthsTicker\"},{\"attributes\":{\"line_alpha\":0.1,\"line_color\":\"#1f77b4\",\"line_dash\":[4,4],\"x\":{\"field\":\"x\"},\"y\":{\"field\":\"y\"}},\"id\":\"10363\",\"type\":\"Line\"},{\"attributes\":{\"months\":[0,2,4,6,8,10]},\"id\":\"10724\",\"type\":\"MonthsTicker\"},{\"attributes\":{\"base\":24,\"mantissas\":[1,2,4,6,8,12],\"max_interval\":43200000.0,\"min_interval\":3600000.0,\"num_minor_ticks\":0},\"id\":\"10718\",\"type\":\"AdaptiveTicker\"},{\"attributes\":{},\"id\":\"10713\",\"type\":\"Selection\"},{\"attributes\":{\"callback\":null,\"data\":{\"x\":{\"__ndarray__\":\"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\",\"dtype\":\"float64\",\"shape\":[288]},\"y\":[143,147,150,152,152,152,154,155,142,140,138,134,131,130,128,127,126,126,126,126,127,129,131,132,134,136,136,136,136,135,134,132,130,130,130,129,128,127,125,124,123,123,122,121,120,118,115,112,111,111,110,110,109,108,107,107,107,108,107,105,105,105,105,104,103,102,99,97,96,94,94,93,93,92,91,92,94,95,96,97,99,102,104,112,112,112,111,110,107,104,105,105,103,99,96,94,95,102,114,128,144,160,173,185,196,205,209,214,219,226,234,241,248,255,260,265,268,270,272,271,271,268,265,261,256,253,250,246,244,241,237,233,229,225,222,204,200,197,193,190,186,182,179,175,171,168,164,158,154,151,148,145,141,133,139,152,173,196,217,233,244,249,250,253,256,260,263,265,265,264,260,254,246,234,217,200,188,181,175,169,164,159,154,147,138,132,129,127,123,117,111,106,104,103,100,94,88,83,78,75,73,71,69,68,67,67,68,70,71,71,70,69,68,67,67,67,66,67,69,71,74,76,78,80,80,80,80,80,80,82,84,87,90,92,87,87,86,86,86,86,87,87,87,85,83,82,83,87,95,107,118,130,141,149,172,179,187,201,214,221,225,230,232,230,223,216,208,199,191,185,181,177,176,177,176,173,171,169,163,154,152,153,154,154,153,151,150,150]},\"selected\":{\"id\":\"10715\",\"type\":\"Selection\"},\"selection_policy\":{\"id\":\"10714\",\"type\":\"UnionRenderers\"}},\"id\":\"10366\",\"type\":\"ColumnDataSource\"},{\"attributes\":{},\"id\":\"10712\",\"type\":\"UnionRenderers\"},{\"attributes\":{\"data_source\":{\"id\":\"10361\",\"type\":\"ColumnDataSource\"},\"glyph\":{\"id\":\"10362\",\"type\":\"Line\"},\"hover_glyph\":null,\"muted_glyph\":null,\"nonselection_glyph\":{\"id\":\"10363\",\"type\":\"Line\"},\"selection_glyph\":null,\"view\":{\"id\":\"10365\",\"type\":\"CDSView\"}},\"id\":\"10364\",\"type\":\"GlyphRenderer\"},{\"attributes\":{\"fill_alpha\":{\"value\":0.1},\"fill_color\":{\"value\":\"#1f77b4\"},\"line_alpha\":{\"value\":0.1},\"line_color\":{\"value\":\"#1f77b4\"},\"size\":{\"units\":\"screen\",\"value\":20},\"x\":{\"field\":\"x\"},\"y\":{\"field\":\"y\"}},\"id\":\"10368\",\"type\":\"Circle\"},{\"attributes\":{\"source\":{\"id\":\"10366\",\"type\":\"ColumnDataSource\"}},\"id\":\"10371\",\"type\":\"CDSView\"},{\"attributes\":{},\"id\":\"10709\",\"type\":\"DatetimeTickFormatter\"},{\"attributes\":{},\"id\":\"10715\",\"type\":\"Selection\"},{\"attributes\":{\"fill_alpha\":{\"value\":0.3},\"fill_color\":{\"value\":\"firebrick\"},\"line_alpha\":{\"value\":0.3},\"line_color\":{\"value\":\"white\"},\"size\":{\"units\":\"screen\",\"value\":20},\"x\":{\"field\":\"x\"},\"y\":{\"field\":\"y\"}},\"id\":\"10369\",\"type\":\"Circle\"},{\"attributes\":{\"mantissas\":[1,2,5],\"max_interval\":500.0,\"num_minor_ticks\":0},\"id\":\"10716\",\"type\":\"AdaptiveTicker\"},{\"attributes\":{\"data_source\":{\"id\":\"10366\",\"type\":\"ColumnDataSource\"},\"glyph\":{\"id\":\"10367\",\"type\":\"Circle\"},\"hover_glyph\":{\"id\":\"10369\",\"type\":\"Circle\"},\"muted_glyph\":null,\"nonselection_glyph\":{\"id\":\"10368\",\"type\":\"Circle\"},\"selection_glyph\":null,\"view\":{\"id\":\"10371\",\"type\":\"CDSView\"}},\"id\":\"10370\",\"type\":\"GlyphRenderer\"},{\"attributes\":{\"callback\":null,\"mode\":\"hline\",\"renderers\":[{\"id\":\"10370\",\"type\":\"GlyphRenderer\"}],\"tooltips\":null},\"id\":\"10372\",\"type\":\"HoverTool\"},{\"attributes\":{\"base\":60,\"mantissas\":[1,2,5,10,15,20,30],\"max_interval\":1800000.0,\"min_interval\":1000.0,\"num_minor_ticks\":0},\"id\":\"10717\",\"type\":\"AdaptiveTicker\"},{\"attributes\":{\"months\":[0,4,8]},\"id\":\"10725\",\"type\":\"MonthsTicker\"},{\"attributes\":{\"text\":\"Hover over points\"},\"id\":\"10328\",\"type\":\"Title\"},{\"attributes\":{\"days\":[1,2,3,4,5,6,7,8,9,10,11,12,13,14,15,16,17,18,19,20,21,22,23,24,25,26,27,28,29,30,31]},\"id\":\"10719\",\"type\":\"DaysTicker\"},{\"attributes\":{\"num_minor_ticks\":5,\"tickers\":[{\"id\":\"10716\",\"type\":\"AdaptiveTicker\"},{\"id\":\"10717\",\"type\":\"AdaptiveTicker\"},{\"id\":\"10718\",\"type\":\"AdaptiveTicker\"},{\"id\":\"10719\",\"type\":\"DaysTicker\"},{\"id\":\"10720\",\"type\":\"DaysTicker\"},{\"id\":\"10721\",\"type\":\"DaysTicker\"},{\"id\":\"10722\",\"type\":\"DaysTicker\"},{\"id\":\"10723\",\"type\":\"MonthsTicker\"},{\"id\":\"10724\",\"type\":\"MonthsTicker\"},{\"id\":\"10725\",\"type\":\"MonthsTicker\"},{\"id\":\"10726\",\"type\":\"MonthsTicker\"},{\"id\":\"10727\",\"type\":\"YearsTicker\"}]},\"id\":\"10339\",\"type\":\"DatetimeTicker\"},{\"attributes\":{\"formatter\":{\"id\":\"10709\",\"type\":\"DatetimeTickFormatter\"},\"ticker\":{\"id\":\"10339\",\"type\":\"DatetimeTicker\"}},\"id\":\"10338\",\"type\":\"DatetimeAxis\"},{\"attributes\":{},\"id\":\"10351\",\"type\":\"SaveTool\"},{\"attributes\":{\"active_drag\":\"auto\",\"active_inspect\":\"auto\",\"active_multi\":null,\"active_scroll\":\"auto\",\"active_tap\":\"auto\",\"tools\":[{\"id\":\"10348\",\"type\":\"PanTool\"},{\"id\":\"10349\",\"type\":\"WheelZoomTool\"},{\"id\":\"10350\",\"type\":\"BoxZoomTool\"},{\"id\":\"10351\",\"type\":\"SaveTool\"},{\"id\":\"10352\",\"type\":\"ResetTool\"},{\"id\":\"10353\",\"type\":\"HelpTool\"},{\"id\":\"10372\",\"type\":\"HoverTool\"}]},\"id\":\"10354\",\"type\":\"Toolbar\"},{\"attributes\":{\"fill_alpha\":{\"value\":0.05},\"fill_color\":{\"value\":\"grey\"},\"line_color\":{\"value\":null},\"size\":{\"units\":\"screen\",\"value\":20},\"x\":{\"field\":\"x\"},\"y\":{\"field\":\"y\"}},\"id\":\"10367\",\"type\":\"Circle\"},{\"attributes\":{},\"id\":\"10334\",\"type\":\"LinearScale\"},{\"attributes\":{},\"id\":\"10714\",\"type\":\"UnionRenderers\"},{\"attributes\":{},\"id\":\"10353\",\"type\":\"HelpTool\"},{\"attributes\":{},\"id\":\"10711\",\"type\":\"BasicTickFormatter\"},{\"attributes\":{},\"id\":\"10727\",\"type\":\"YearsTicker\"},{\"attributes\":{\"callback\":null},\"id\":\"10330\",\"type\":\"DataRange1d\"},{\"attributes\":{\"callback\":null},\"id\":\"10332\",\"type\":\"DataRange1d\"},{\"attributes\":{\"overlay\":{\"id\":\"10728\",\"type\":\"BoxAnnotation\"}},\"id\":\"10350\",\"type\":\"BoxZoomTool\"},{\"attributes\":{\"days\":[1,8,15,22]},\"id\":\"10721\",\"type\":\"DaysTicker\"},{\"attributes\":{},\"id\":\"10349\",\"type\":\"WheelZoomTool\"},{\"attributes\":{\"bottom_units\":\"screen\",\"fill_alpha\":{\"value\":0.5},\"fill_color\":{\"value\":\"lightgrey\"},\"left_units\":\"screen\",\"level\":\"overlay\",\"line_alpha\":{\"value\":1.0},\"line_color\":{\"value\":\"black\"},\"line_dash\":[4,4],\"line_width\":{\"value\":2},\"render_mode\":\"css\",\"right_units\":\"screen\",\"top_units\":\"screen\"},\"id\":\"10728\",\"type\":\"BoxAnnotation\"},{\"attributes\":{},\"id\":\"10348\",\"type\":\"PanTool\"},{\"attributes\":{\"months\":[0,6]},\"id\":\"10726\",\"type\":\"MonthsTicker\"},{\"attributes\":{\"days\":[1,4,7,10,13,16,19,22,25,28]},\"id\":\"10720\",\"type\":\"DaysTicker\"},{\"attributes\":{\"formatter\":{\"id\":\"10711\",\"type\":\"BasicTickFormatter\"},\"ticker\":{\"id\":\"10344\",\"type\":\"BasicTicker\"}},\"id\":\"10343\",\"type\":\"LinearAxis\"},{\"attributes\":{},\"id\":\"10336\",\"type\":\"LinearScale\"},{\"attributes\":{\"dimension\":1,\"ticker\":{\"id\":\"10344\",\"type\":\"BasicTicker\"}},\"id\":\"10347\",\"type\":\"Grid\"},{\"attributes\":{\"days\":[1,15]},\"id\":\"10722\",\"type\":\"DaysTicker\"},{\"attributes\":{},\"id\":\"10344\",\"type\":\"BasicTicker\"},{\"attributes\":{\"ticker\":{\"id\":\"10339\",\"type\":\"DatetimeTicker\"}},\"id\":\"10342\",\"type\":\"Grid\"},{\"attributes\":{\"line_color\":\"gray\",\"line_dash\":[4,4],\"x\":{\"field\":\"x\"},\"y\":{\"field\":\"y\"}},\"id\":\"10362\",\"type\":\"Line\"},{\"attributes\":{\"callback\":null,\"data\":{\"x\":{\"__ndarray__\":\"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\",\"dtype\":\"float64\",\"shape\":[288]},\"y\":[143,147,150,152,152,152,154,155,142,140,138,134,131,130,128,127,126,126,126,126,127,129,131,132,134,136,136,136,136,135,134,132,130,130,130,129,128,127,125,124,123,123,122,121,120,118,115,112,111,111,110,110,109,108,107,107,107,108,107,105,105,105,105,104,103,102,99,97,96,94,94,93,93,92,91,92,94,95,96,97,99,102,104,112,112,112,111,110,107,104,105,105,103,99,96,94,95,102,114,128,144,160,173,185,196,205,209,214,219,226,234,241,248,255,260,265,268,270,272,271,271,268,265,261,256,253,250,246,244,241,237,233,229,225,222,204,200,197,193,190,186,182,179,175,171,168,164,158,154,151,148,145,141,133,139,152,173,196,217,233,244,249,250,253,256,260,263,265,265,264,260,254,246,234,217,200,188,181,175,169,164,159,154,147,138,132,129,127,123,117,111,106,104,103,100,94,88,83,78,75,73,71,69,68,67,67,68,70,71,71,70,69,68,67,67,67,66,67,69,71,74,76,78,80,80,80,80,80,80,82,84,87,90,92,87,87,86,86,86,86,87,87,87,85,83,82,83,87,95,107,118,130,141,149,172,179,187,201,214,221,225,230,232,230,223,216,208,199,191,185,181,177,176,177,176,173,171,169,163,154,152,153,154,154,153,151,150,150]},\"selected\":{\"id\":\"10713\",\"type\":\"Selection\"},\"selection_policy\":{\"id\":\"10712\",\"type\":\"UnionRenderers\"}},\"id\":\"10361\",\"type\":\"ColumnDataSource\"},{\"attributes\":{\"source\":{\"id\":\"10361\",\"type\":\"ColumnDataSource\"}},\"id\":\"10365\",\"type\":\"CDSView\"}],\"root_ids\":[\"10327\"]},\"title\":\"Bokeh Application\",\"version\":\"1.4.0\"}};\n",
       "  var render_items = [{\"docid\":\"935bbe98-0ca4-4f35-8c0b-4dc54e071066\",\"roots\":{\"10327\":\"c41faa76-0daa-449e-8dc8-d5a676392c07\"}}];\n",
       "  root.Bokeh.embed.embed_items_notebook(docs_json, render_items);\n",
       "\n",
       "  }\n",
       "  if (root.Bokeh !== undefined) {\n",
       "    embed_document(root);\n",
       "  } else {\n",
       "    var attempts = 0;\n",
       "    var timer = setInterval(function(root) {\n",
       "      if (root.Bokeh !== undefined) {\n",
       "        clearInterval(timer);\n",
       "        embed_document(root);\n",
       "      } else {\n",
       "        attempts++;\n",
       "        if (attempts > 100) {\n",
       "          clearInterval(timer);\n",
       "          console.log(\"Bokeh: ERROR: Unable to run BokehJS code because BokehJS library is missing\");\n",
       "        }\n",
       "      }\n",
       "    }, 10, root)\n",
       "  }\n",
       "})(window);"
      ],
      "application/vnd.bokehjs_exec.v0+json": ""
     },
     "metadata": {
      "application/vnd.bokehjs_exec.v0+json": {
       "id": "10327"
      }
     },
     "output_type": "display_data"
    }
   ],
   "source": [
    "subset = data.loc['2010-10-06']\n",
    "\n",
    "x, y = subset.index.to_series(), subset['glucose']\n",
    "\n",
    "p = figure(plot_width=600, plot_height=300, x_axis_type=\"datetime\",title='Hover over points')\n",
    "\n",
    "p.line(x, y, line_dash=\"4 4\", line_width=1, color='gray')\n",
    "\n",
    "cr = p.circle(x, y, size=20,\n",
    "                fill_color=\"grey\", hover_fill_color=\"firebrick\",\n",
    "                fill_alpha=0.05, hover_alpha=0.3,\n",
    "                line_color=None, hover_line_color=\"white\")\n",
    "\n",
    "p.add_tools(HoverTool(tooltips=None, renderers=[cr], mode='hline'))\n",
    "show(p)"
   ]
  },
  {
   "cell_type": "markdown",
   "metadata": {},
   "source": [
    "### Axes"
   ]
  },
  {
   "cell_type": "code",
   "execution_count": 54,
   "metadata": {},
   "outputs": [
    {
     "data": {
      "text/html": [
       "<div style=\"display: table;\"><div style=\"display: table-row;\"><div style=\"display: table-cell;\"><b title=\"bokeh.models.axes.DatetimeAxis\">DatetimeAxis</b>(</div><div style=\"display: table-cell;\">id&nbsp;=&nbsp;'10338', <span id=\"10862\" style=\"cursor: pointer;\">&hellip;)</span></div></div><div class=\"10861\" style=\"display: none;\"><div style=\"display: table-cell;\"></div><div style=\"display: table-cell;\">axis_label&nbsp;=&nbsp;'',</div></div><div class=\"10861\" style=\"display: none;\"><div style=\"display: table-cell;\"></div><div style=\"display: table-cell;\">axis_label_standoff&nbsp;=&nbsp;5,</div></div><div class=\"10861\" style=\"display: none;\"><div style=\"display: table-cell;\"></div><div style=\"display: table-cell;\">axis_label_text_align&nbsp;=&nbsp;'left',</div></div><div class=\"10861\" style=\"display: none;\"><div style=\"display: table-cell;\"></div><div style=\"display: table-cell;\">axis_label_text_alpha&nbsp;=&nbsp;{'value': 1.0},</div></div><div class=\"10861\" style=\"display: none;\"><div style=\"display: table-cell;\"></div><div style=\"display: table-cell;\">axis_label_text_baseline&nbsp;=&nbsp;'bottom',</div></div><div class=\"10861\" style=\"display: none;\"><div style=\"display: table-cell;\"></div><div style=\"display: table-cell;\">axis_label_text_color&nbsp;=&nbsp;{'value': '#444444'},</div></div><div class=\"10861\" style=\"display: none;\"><div style=\"display: table-cell;\"></div><div style=\"display: table-cell;\">axis_label_text_font&nbsp;=&nbsp;'helvetica',</div></div><div class=\"10861\" style=\"display: none;\"><div style=\"display: table-cell;\"></div><div style=\"display: table-cell;\">axis_label_text_font_size&nbsp;=&nbsp;{'value': '10pt'},</div></div><div class=\"10861\" style=\"display: none;\"><div style=\"display: table-cell;\"></div><div style=\"display: table-cell;\">axis_label_text_font_style&nbsp;=&nbsp;'italic',</div></div><div class=\"10861\" style=\"display: none;\"><div style=\"display: table-cell;\"></div><div style=\"display: table-cell;\">axis_label_text_line_height&nbsp;=&nbsp;1.2,</div></div><div class=\"10861\" style=\"display: none;\"><div style=\"display: table-cell;\"></div><div style=\"display: table-cell;\">axis_line_alpha&nbsp;=&nbsp;{'value': 1.0},</div></div><div class=\"10861\" style=\"display: none;\"><div style=\"display: table-cell;\"></div><div style=\"display: table-cell;\">axis_line_cap&nbsp;=&nbsp;'butt',</div></div><div class=\"10861\" style=\"display: none;\"><div style=\"display: table-cell;\"></div><div style=\"display: table-cell;\">axis_line_color&nbsp;=&nbsp;{'value': 'black'},</div></div><div class=\"10861\" style=\"display: none;\"><div style=\"display: table-cell;\"></div><div style=\"display: table-cell;\">axis_line_dash&nbsp;=&nbsp;[],</div></div><div class=\"10861\" style=\"display: none;\"><div style=\"display: table-cell;\"></div><div style=\"display: table-cell;\">axis_line_dash_offset&nbsp;=&nbsp;0,</div></div><div class=\"10861\" style=\"display: none;\"><div style=\"display: table-cell;\"></div><div style=\"display: table-cell;\">axis_line_join&nbsp;=&nbsp;'bevel',</div></div><div class=\"10861\" style=\"display: none;\"><div style=\"display: table-cell;\"></div><div style=\"display: table-cell;\">axis_line_width&nbsp;=&nbsp;{'value': 1},</div></div><div class=\"10861\" style=\"display: none;\"><div style=\"display: table-cell;\"></div><div style=\"display: table-cell;\">bounds&nbsp;=&nbsp;'auto',</div></div><div class=\"10861\" style=\"display: none;\"><div style=\"display: table-cell;\"></div><div style=\"display: table-cell;\">fixed_location&nbsp;=&nbsp;None,</div></div><div class=\"10861\" style=\"display: none;\"><div style=\"display: table-cell;\"></div><div style=\"display: table-cell;\">formatter&nbsp;=&nbsp;DatetimeTickFormatter(id='10709', ...),</div></div><div class=\"10861\" style=\"display: none;\"><div style=\"display: table-cell;\"></div><div style=\"display: table-cell;\">js_event_callbacks&nbsp;=&nbsp;{},</div></div><div class=\"10861\" style=\"display: none;\"><div style=\"display: table-cell;\"></div><div style=\"display: table-cell;\">js_property_callbacks&nbsp;=&nbsp;{},</div></div><div class=\"10861\" style=\"display: none;\"><div style=\"display: table-cell;\"></div><div style=\"display: table-cell;\">level&nbsp;=&nbsp;'overlay',</div></div><div class=\"10861\" style=\"display: none;\"><div style=\"display: table-cell;\"></div><div style=\"display: table-cell;\">major_label_orientation&nbsp;=&nbsp;'horizontal',</div></div><div class=\"10861\" style=\"display: none;\"><div style=\"display: table-cell;\"></div><div style=\"display: table-cell;\">major_label_overrides&nbsp;=&nbsp;{},</div></div><div class=\"10861\" style=\"display: none;\"><div style=\"display: table-cell;\"></div><div style=\"display: table-cell;\">major_label_standoff&nbsp;=&nbsp;5,</div></div><div class=\"10861\" style=\"display: none;\"><div style=\"display: table-cell;\"></div><div style=\"display: table-cell;\">major_label_text_align&nbsp;=&nbsp;'center',</div></div><div class=\"10861\" style=\"display: none;\"><div style=\"display: table-cell;\"></div><div style=\"display: table-cell;\">major_label_text_alpha&nbsp;=&nbsp;{'value': 1.0},</div></div><div class=\"10861\" style=\"display: none;\"><div style=\"display: table-cell;\"></div><div style=\"display: table-cell;\">major_label_text_baseline&nbsp;=&nbsp;'alphabetic',</div></div><div class=\"10861\" style=\"display: none;\"><div style=\"display: table-cell;\"></div><div style=\"display: table-cell;\">major_label_text_color&nbsp;=&nbsp;{'value': '#444444'},</div></div><div class=\"10861\" style=\"display: none;\"><div style=\"display: table-cell;\"></div><div style=\"display: table-cell;\">major_label_text_font&nbsp;=&nbsp;'helvetica',</div></div><div class=\"10861\" style=\"display: none;\"><div style=\"display: table-cell;\"></div><div style=\"display: table-cell;\">major_label_text_font_size&nbsp;=&nbsp;{'value': '8pt'},</div></div><div class=\"10861\" style=\"display: none;\"><div style=\"display: table-cell;\"></div><div style=\"display: table-cell;\">major_label_text_font_style&nbsp;=&nbsp;'normal',</div></div><div class=\"10861\" style=\"display: none;\"><div style=\"display: table-cell;\"></div><div style=\"display: table-cell;\">major_label_text_line_height&nbsp;=&nbsp;1.2,</div></div><div class=\"10861\" style=\"display: none;\"><div style=\"display: table-cell;\"></div><div style=\"display: table-cell;\">major_tick_in&nbsp;=&nbsp;2,</div></div><div class=\"10861\" style=\"display: none;\"><div style=\"display: table-cell;\"></div><div style=\"display: table-cell;\">major_tick_line_alpha&nbsp;=&nbsp;{'value': 1.0},</div></div><div class=\"10861\" style=\"display: none;\"><div style=\"display: table-cell;\"></div><div style=\"display: table-cell;\">major_tick_line_cap&nbsp;=&nbsp;'butt',</div></div><div class=\"10861\" style=\"display: none;\"><div style=\"display: table-cell;\"></div><div style=\"display: table-cell;\">major_tick_line_color&nbsp;=&nbsp;{'value': 'black'},</div></div><div class=\"10861\" style=\"display: none;\"><div style=\"display: table-cell;\"></div><div style=\"display: table-cell;\">major_tick_line_dash&nbsp;=&nbsp;[],</div></div><div class=\"10861\" style=\"display: none;\"><div style=\"display: table-cell;\"></div><div style=\"display: table-cell;\">major_tick_line_dash_offset&nbsp;=&nbsp;0,</div></div><div class=\"10861\" style=\"display: none;\"><div style=\"display: table-cell;\"></div><div style=\"display: table-cell;\">major_tick_line_join&nbsp;=&nbsp;'bevel',</div></div><div class=\"10861\" style=\"display: none;\"><div style=\"display: table-cell;\"></div><div style=\"display: table-cell;\">major_tick_line_width&nbsp;=&nbsp;{'value': 1},</div></div><div class=\"10861\" style=\"display: none;\"><div style=\"display: table-cell;\"></div><div style=\"display: table-cell;\">major_tick_out&nbsp;=&nbsp;6,</div></div><div class=\"10861\" style=\"display: none;\"><div style=\"display: table-cell;\"></div><div style=\"display: table-cell;\">minor_tick_in&nbsp;=&nbsp;0,</div></div><div class=\"10861\" style=\"display: none;\"><div style=\"display: table-cell;\"></div><div style=\"display: table-cell;\">minor_tick_line_alpha&nbsp;=&nbsp;{'value': 1.0},</div></div><div class=\"10861\" style=\"display: none;\"><div style=\"display: table-cell;\"></div><div style=\"display: table-cell;\">minor_tick_line_cap&nbsp;=&nbsp;'butt',</div></div><div class=\"10861\" style=\"display: none;\"><div style=\"display: table-cell;\"></div><div style=\"display: table-cell;\">minor_tick_line_color&nbsp;=&nbsp;{'value': 'black'},</div></div><div class=\"10861\" style=\"display: none;\"><div style=\"display: table-cell;\"></div><div style=\"display: table-cell;\">minor_tick_line_dash&nbsp;=&nbsp;[],</div></div><div class=\"10861\" style=\"display: none;\"><div style=\"display: table-cell;\"></div><div style=\"display: table-cell;\">minor_tick_line_dash_offset&nbsp;=&nbsp;0,</div></div><div class=\"10861\" style=\"display: none;\"><div style=\"display: table-cell;\"></div><div style=\"display: table-cell;\">minor_tick_line_join&nbsp;=&nbsp;'bevel',</div></div><div class=\"10861\" style=\"display: none;\"><div style=\"display: table-cell;\"></div><div style=\"display: table-cell;\">minor_tick_line_width&nbsp;=&nbsp;{'value': 1},</div></div><div class=\"10861\" style=\"display: none;\"><div style=\"display: table-cell;\"></div><div style=\"display: table-cell;\">minor_tick_out&nbsp;=&nbsp;4,</div></div><div class=\"10861\" style=\"display: none;\"><div style=\"display: table-cell;\"></div><div style=\"display: table-cell;\">name&nbsp;=&nbsp;None,</div></div><div class=\"10861\" style=\"display: none;\"><div style=\"display: table-cell;\"></div><div style=\"display: table-cell;\">subscribed_events&nbsp;=&nbsp;[],</div></div><div class=\"10861\" style=\"display: none;\"><div style=\"display: table-cell;\"></div><div style=\"display: table-cell;\">tags&nbsp;=&nbsp;[],</div></div><div class=\"10861\" style=\"display: none;\"><div style=\"display: table-cell;\"></div><div style=\"display: table-cell;\">ticker&nbsp;=&nbsp;DatetimeTicker(id='10339', ...),</div></div><div class=\"10861\" style=\"display: none;\"><div style=\"display: table-cell;\"></div><div style=\"display: table-cell;\">visible&nbsp;=&nbsp;True,</div></div><div class=\"10861\" style=\"display: none;\"><div style=\"display: table-cell;\"></div><div style=\"display: table-cell;\">x_range_name&nbsp;=&nbsp;'default',</div></div><div class=\"10861\" style=\"display: none;\"><div style=\"display: table-cell;\"></div><div style=\"display: table-cell;\">y_range_name&nbsp;=&nbsp;'default')</div></div></div>\n",
       "<script>\n",
       "(function() {\n",
       "  var expanded = false;\n",
       "  var ellipsis = document.getElementById(\"10862\");\n",
       "  ellipsis.addEventListener(\"click\", function() {\n",
       "    var rows = document.getElementsByClassName(\"10861\");\n",
       "    for (var i = 0; i < rows.length; i++) {\n",
       "      var el = rows[i];\n",
       "      el.style.display = expanded ? \"none\" : \"table-row\";\n",
       "    }\n",
       "    ellipsis.innerHTML = expanded ? \"&hellip;)\" : \"&lsaquo;&lsaquo;&lsaquo;\";\n",
       "    expanded = !expanded;\n",
       "  });\n",
       "})();\n",
       "</script>\n"
      ],
      "text/plain": [
       "[DatetimeAxis(id='10338', ...)]"
      ]
     },
     "execution_count": 54,
     "metadata": {},
     "output_type": "execute_result"
    }
   ],
   "source": [
    " p.xaxis"
   ]
  },
  {
   "cell_type": "code",
   "execution_count": 56,
   "metadata": {},
   "outputs": [
    {
     "data": {
      "text/html": [
       "\n",
       "\n",
       "\n",
       "\n",
       "\n",
       "\n",
       "  <div class=\"bk-root\" id=\"af4922a3-c7e6-4f9a-a13f-b0ca1ef9f3bb\" data-root-id=\"10865\"></div>\n"
      ]
     },
     "metadata": {},
     "output_type": "display_data"
    },
    {
     "data": {
      "application/javascript": [
       "(function(root) {\n",
       "  function embed_document(root) {\n",
       "    \n",
       "  var docs_json = {\"41e58167-7be8-4d2c-aa96-816ded9460ac\":{\"roots\":{\"references\":[{\"attributes\":{\"below\":[{\"id\":\"10874\",\"type\":\"LinearAxis\"}],\"center\":[{\"id\":\"10878\",\"type\":\"Grid\"},{\"id\":\"10883\",\"type\":\"Grid\"}],\"left\":[{\"id\":\"10879\",\"type\":\"LinearAxis\"}],\"plot_height\":400,\"renderers\":[{\"id\":\"10900\",\"type\":\"GlyphRenderer\"}],\"title\":{\"id\":\"11257\",\"type\":\"Title\"},\"toolbar\":{\"id\":\"10890\",\"type\":\"Toolbar\"},\"x_range\":{\"id\":\"10866\",\"type\":\"DataRange1d\"},\"x_scale\":{\"id\":\"10870\",\"type\":\"LinearScale\"},\"y_range\":{\"id\":\"10868\",\"type\":\"DataRange1d\"},\"y_scale\":{\"id\":\"10872\",\"type\":\"LinearScale\"}},\"id\":\"10865\",\"subtype\":\"Figure\",\"type\":\"Plot\"},{\"attributes\":{\"active_drag\":\"auto\",\"active_inspect\":\"auto\",\"active_multi\":null,\"active_scroll\":\"auto\",\"active_tap\":\"auto\",\"tools\":[{\"id\":\"10884\",\"type\":\"PanTool\"},{\"id\":\"10885\",\"type\":\"WheelZoomTool\"},{\"id\":\"10886\",\"type\":\"BoxZoomTool\"},{\"id\":\"10887\",\"type\":\"SaveTool\"},{\"id\":\"10888\",\"type\":\"ResetTool\"},{\"id\":\"10889\",\"type\":\"HelpTool\"}]},\"id\":\"10890\",\"type\":\"Toolbar\"},{\"attributes\":{},\"id\":\"10884\",\"type\":\"PanTool\"},{\"attributes\":{},\"id\":\"10885\",\"type\":\"WheelZoomTool\"},{\"attributes\":{},\"id\":\"11262\",\"type\":\"BasicTickFormatter\"},{\"attributes\":{\"overlay\":{\"id\":\"11265\",\"type\":\"BoxAnnotation\"}},\"id\":\"10886\",\"type\":\"BoxZoomTool\"},{\"attributes\":{\"axis_label\":\"Temperature\",\"axis_line_color\":{\"value\":\"red\"},\"axis_line_width\":{\"value\":3},\"formatter\":{\"id\":\"11260\",\"type\":\"BasicTickFormatter\"},\"minor_tick_in\":-3,\"minor_tick_out\":6,\"ticker\":{\"id\":\"10875\",\"type\":\"BasicTicker\"}},\"id\":\"10874\",\"type\":\"LinearAxis\"},{\"attributes\":{},\"id\":\"10887\",\"type\":\"SaveTool\"},{\"attributes\":{\"text\":\"\"},\"id\":\"11257\",\"type\":\"Title\"},{\"attributes\":{},\"id\":\"10888\",\"type\":\"ResetTool\"},{\"attributes\":{},\"id\":\"10889\",\"type\":\"HelpTool\"},{\"attributes\":{\"bottom_units\":\"screen\",\"fill_alpha\":{\"value\":0.5},\"fill_color\":{\"value\":\"lightgrey\"},\"left_units\":\"screen\",\"level\":\"overlay\",\"line_alpha\":{\"value\":1.0},\"line_color\":{\"value\":\"black\"},\"line_dash\":[4,4],\"line_width\":{\"value\":2},\"render_mode\":\"css\",\"right_units\":\"screen\",\"top_units\":\"screen\"},\"id\":\"11265\",\"type\":\"BoxAnnotation\"},{\"attributes\":{\"source\":{\"id\":\"10897\",\"type\":\"ColumnDataSource\"}},\"id\":\"10901\",\"type\":\"CDSView\"},{\"attributes\":{\"callback\":null,\"data\":{\"x\":[1,2,3,4,5],\"y\":[2,5,8,2,7]},\"selected\":{\"id\":\"11264\",\"type\":\"Selection\"},\"selection_policy\":{\"id\":\"11263\",\"type\":\"UnionRenderers\"}},\"id\":\"10897\",\"type\":\"ColumnDataSource\"},{\"attributes\":{\"data_source\":{\"id\":\"10897\",\"type\":\"ColumnDataSource\"},\"glyph\":{\"id\":\"10898\",\"type\":\"Circle\"},\"hover_glyph\":null,\"muted_glyph\":null,\"nonselection_glyph\":{\"id\":\"10899\",\"type\":\"Circle\"},\"selection_glyph\":null,\"view\":{\"id\":\"10901\",\"type\":\"CDSView\"}},\"id\":\"10900\",\"type\":\"GlyphRenderer\"},{\"attributes\":{\"callback\":null},\"id\":\"10868\",\"type\":\"DataRange1d\"},{\"attributes\":{\"fill_alpha\":{\"value\":0.1},\"fill_color\":{\"value\":\"#1f77b4\"},\"line_alpha\":{\"value\":0.1},\"line_color\":{\"value\":\"#1f77b4\"},\"size\":{\"units\":\"screen\",\"value\":10},\"x\":{\"field\":\"x\"},\"y\":{\"field\":\"y\"}},\"id\":\"10899\",\"type\":\"Circle\"},{\"attributes\":{},\"id\":\"11263\",\"type\":\"UnionRenderers\"},{\"attributes\":{},\"id\":\"10872\",\"type\":\"LinearScale\"},{\"attributes\":{\"callback\":null},\"id\":\"10866\",\"type\":\"DataRange1d\"},{\"attributes\":{},\"id\":\"11264\",\"type\":\"Selection\"},{\"attributes\":{},\"id\":\"11260\",\"type\":\"BasicTickFormatter\"},{\"attributes\":{\"ticker\":{\"id\":\"10875\",\"type\":\"BasicTicker\"}},\"id\":\"10878\",\"type\":\"Grid\"},{\"attributes\":{},\"id\":\"10875\",\"type\":\"BasicTicker\"},{\"attributes\":{\"fill_color\":{\"value\":\"#1f77b4\"},\"line_color\":{\"value\":\"#1f77b4\"},\"size\":{\"units\":\"screen\",\"value\":10},\"x\":{\"field\":\"x\"},\"y\":{\"field\":\"y\"}},\"id\":\"10898\",\"type\":\"Circle\"},{\"attributes\":{\"dimension\":1,\"ticker\":{\"id\":\"10880\",\"type\":\"BasicTicker\"}},\"id\":\"10883\",\"type\":\"Grid\"},{\"attributes\":{},\"id\":\"10870\",\"type\":\"LinearScale\"},{\"attributes\":{},\"id\":\"10880\",\"type\":\"BasicTicker\"},{\"attributes\":{\"axis_label\":\"Pressure\",\"formatter\":{\"id\":\"11262\",\"type\":\"BasicTickFormatter\"},\"major_label_orientation\":\"vertical\",\"major_label_text_color\":{\"value\":\"orange\"},\"minor_tick_in\":-3,\"minor_tick_out\":6,\"ticker\":{\"id\":\"10880\",\"type\":\"BasicTicker\"}},\"id\":\"10879\",\"type\":\"LinearAxis\"}],\"root_ids\":[\"10865\"]},\"title\":\"Bokeh Application\",\"version\":\"1.4.0\"}};\n",
       "  var render_items = [{\"docid\":\"41e58167-7be8-4d2c-aa96-816ded9460ac\",\"roots\":{\"10865\":\"af4922a3-c7e6-4f9a-a13f-b0ca1ef9f3bb\"}}];\n",
       "  root.Bokeh.embed.embed_items_notebook(docs_json, render_items);\n",
       "\n",
       "  }\n",
       "  if (root.Bokeh !== undefined) {\n",
       "    embed_document(root);\n",
       "  } else {\n",
       "    var attempts = 0;\n",
       "    var timer = setInterval(function(root) {\n",
       "      if (root.Bokeh !== undefined) {\n",
       "        clearInterval(timer);\n",
       "        embed_document(root);\n",
       "      } else {\n",
       "        attempts++;\n",
       "        if (attempts > 100) {\n",
       "          clearInterval(timer);\n",
       "          console.log(\"Bokeh: ERROR: Unable to run BokehJS code because BokehJS library is missing\");\n",
       "        }\n",
       "      }\n",
       "    }, 10, root)\n",
       "  }\n",
       "})(window);"
      ],
      "application/vnd.bokehjs_exec.v0+json": ""
     },
     "metadata": {
      "application/vnd.bokehjs_exec.v0+json": {
       "id": "10865"
      }
     },
     "output_type": "display_data"
    }
   ],
   "source": [
    "p = figure(plot_width=600, plot_height=400)\n",
    "p.circle([1,2,3,4,5], [2,5,8,2,7], size=10)\n",
    "\n",
    "# change just some things about the x-axes\n",
    "p.xaxis.axis_label = \"Temperature\"\n",
    "p.xaxis.axis_line_width = 3\n",
    "p.xaxis.axis_line_color = \"red\"\n",
    "\n",
    "# change just some things about the y-axes\n",
    "p.yaxis.axis_label = \"Pressure\"\n",
    "p.yaxis.major_label_text_color = \"orange\"\n",
    "p.yaxis.major_label_orientation = \"vertical\"\n",
    "\n",
    "# change things on all axes\n",
    "p.axis.minor_tick_in = -3\n",
    "p.axis.minor_tick_out = 6\n",
    "\n",
    "show(p)"
   ]
  },
  {
   "cell_type": "markdown",
   "metadata": {},
   "source": [
    "### Labels"
   ]
  },
  {
   "cell_type": "code",
   "execution_count": 59,
   "metadata": {},
   "outputs": [
    {
     "data": {
      "text/html": [
       "\n",
       "\n",
       "\n",
       "\n",
       "\n",
       "\n",
       "  <div class=\"bk-root\" id=\"5f4feaba-2197-4876-b2bd-451f1232b5e0\" data-root-id=\"12257\"></div>\n"
      ]
     },
     "metadata": {},
     "output_type": "display_data"
    },
    {
     "data": {
      "application/javascript": [
       "(function(root) {\n",
       "  function embed_document(root) {\n",
       "    \n",
       "  var docs_json = {\"29b96366-3560-4c5c-ae9d-23e2ab45e925\":{\"roots\":{\"references\":[{\"attributes\":{\"below\":[{\"id\":\"12266\",\"type\":\"LinearAxis\"}],\"center\":[{\"id\":\"12270\",\"type\":\"Grid\"},{\"id\":\"12275\",\"type\":\"Grid\"}],\"left\":[{\"id\":\"12271\",\"type\":\"LinearAxis\"}],\"plot_height\":400,\"renderers\":[{\"id\":\"12292\",\"type\":\"GlyphRenderer\"}],\"title\":{\"id\":\"12676\",\"type\":\"Title\"},\"toolbar\":{\"id\":\"12282\",\"type\":\"Toolbar\"},\"x_range\":{\"id\":\"12258\",\"type\":\"DataRange1d\"},\"x_scale\":{\"id\":\"12262\",\"type\":\"LinearScale\"},\"y_range\":{\"id\":\"12260\",\"type\":\"DataRange1d\"},\"y_scale\":{\"id\":\"12264\",\"type\":\"LinearScale\"}},\"id\":\"12257\",\"subtype\":\"Figure\",\"type\":\"Plot\"},{\"attributes\":{\"data_source\":{\"id\":\"12289\",\"type\":\"ColumnDataSource\"},\"glyph\":{\"id\":\"12290\",\"type\":\"Square\"},\"hover_glyph\":null,\"muted_glyph\":null,\"nonselection_glyph\":{\"id\":\"12291\",\"type\":\"Square\"},\"selection_glyph\":null,\"view\":{\"id\":\"12293\",\"type\":\"CDSView\"}},\"id\":\"12292\",\"type\":\"GlyphRenderer\"},{\"attributes\":{\"bottom_units\":\"screen\",\"fill_alpha\":{\"value\":0.5},\"fill_color\":{\"value\":\"lightgrey\"},\"left_units\":\"screen\",\"level\":\"overlay\",\"line_alpha\":{\"value\":1.0},\"line_color\":{\"value\":\"black\"},\"line_dash\":[4,4],\"line_width\":{\"value\":2},\"render_mode\":\"css\",\"right_units\":\"screen\",\"top_units\":\"screen\"},\"id\":\"12684\",\"type\":\"BoxAnnotation\"},{\"attributes\":{\"callback\":null},\"id\":\"12260\",\"type\":\"DataRange1d\"},{\"attributes\":{},\"id\":\"12272\",\"type\":\"BasicTicker\"},{\"attributes\":{},\"id\":\"12682\",\"type\":\"UnionRenderers\"},{\"attributes\":{},\"id\":\"12683\",\"type\":\"Selection\"},{\"attributes\":{\"axis_label\":\"Lot Number\",\"axis_label_standoff\":30,\"axis_label_text_color\":{\"value\":\"#aa6666\"},\"formatter\":{\"id\":\"12679\",\"type\":\"BasicTickFormatter\"},\"ticker\":{\"id\":\"12267\",\"type\":\"BasicTicker\"}},\"id\":\"12266\",\"type\":\"LinearAxis\"},{\"attributes\":{},\"id\":\"12262\",\"type\":\"LinearScale\"},{\"attributes\":{\"text\":\"\"},\"id\":\"12676\",\"type\":\"Title\"},{\"attributes\":{},\"id\":\"12264\",\"type\":\"LinearScale\"},{\"attributes\":{},\"id\":\"12267\",\"type\":\"BasicTicker\"},{\"attributes\":{\"callback\":null},\"id\":\"12258\",\"type\":\"DataRange1d\"},{\"attributes\":{\"fill_alpha\":{\"value\":0.1},\"fill_color\":{\"value\":\"#1f77b4\"},\"line_alpha\":{\"value\":0.1},\"line_color\":{\"value\":\"#1f77b4\"},\"size\":{\"units\":\"screen\",\"value\":10},\"x\":{\"field\":\"x\"},\"y\":{\"field\":\"y\"}},\"id\":\"12291\",\"type\":\"Square\"},{\"attributes\":{\"fill_color\":{\"value\":\"#1f77b4\"},\"line_color\":{\"value\":\"#1f77b4\"},\"size\":{\"units\":\"screen\",\"value\":10},\"x\":{\"field\":\"x\"},\"y\":{\"field\":\"y\"}},\"id\":\"12290\",\"type\":\"Square\"},{\"attributes\":{},\"id\":\"12681\",\"type\":\"BasicTickFormatter\"},{\"attributes\":{\"ticker\":{\"id\":\"12267\",\"type\":\"BasicTicker\"}},\"id\":\"12270\",\"type\":\"Grid\"},{\"attributes\":{\"axis_label\":\"Bin Count\",\"axis_label_text_font_size\":{\"value\":\"30px\"},\"formatter\":{\"id\":\"12681\",\"type\":\"BasicTickFormatter\"},\"ticker\":{\"id\":\"12272\",\"type\":\"BasicTicker\"}},\"id\":\"12271\",\"type\":\"LinearAxis\"},{\"attributes\":{\"dimension\":1,\"ticker\":{\"id\":\"12272\",\"type\":\"BasicTicker\"}},\"id\":\"12275\",\"type\":\"Grid\"},{\"attributes\":{\"active_drag\":\"auto\",\"active_inspect\":\"auto\",\"active_multi\":null,\"active_scroll\":\"auto\",\"active_tap\":\"auto\",\"tools\":[{\"id\":\"12276\",\"type\":\"PanTool\"},{\"id\":\"12277\",\"type\":\"WheelZoomTool\"},{\"id\":\"12278\",\"type\":\"BoxZoomTool\"},{\"id\":\"12279\",\"type\":\"SaveTool\"},{\"id\":\"12280\",\"type\":\"ResetTool\"},{\"id\":\"12281\",\"type\":\"HelpTool\"}]},\"id\":\"12282\",\"type\":\"Toolbar\"},{\"attributes\":{\"callback\":null,\"data\":{\"x\":[1,2,3,4,5],\"y\":[2,5,8,2,7]},\"selected\":{\"id\":\"12683\",\"type\":\"Selection\"},\"selection_policy\":{\"id\":\"12682\",\"type\":\"UnionRenderers\"}},\"id\":\"12289\",\"type\":\"ColumnDataSource\"},{\"attributes\":{},\"id\":\"12679\",\"type\":\"BasicTickFormatter\"},{\"attributes\":{},\"id\":\"12276\",\"type\":\"PanTool\"},{\"attributes\":{},\"id\":\"12280\",\"type\":\"ResetTool\"},{\"attributes\":{},\"id\":\"12279\",\"type\":\"SaveTool\"},{\"attributes\":{\"overlay\":{\"id\":\"12684\",\"type\":\"BoxAnnotation\"}},\"id\":\"12278\",\"type\":\"BoxZoomTool\"},{\"attributes\":{},\"id\":\"12277\",\"type\":\"WheelZoomTool\"},{\"attributes\":{},\"id\":\"12281\",\"type\":\"HelpTool\"},{\"attributes\":{\"source\":{\"id\":\"12289\",\"type\":\"ColumnDataSource\"}},\"id\":\"12293\",\"type\":\"CDSView\"}],\"root_ids\":[\"12257\"]},\"title\":\"Bokeh Application\",\"version\":\"1.4.0\"}};\n",
       "  var render_items = [{\"docid\":\"29b96366-3560-4c5c-ae9d-23e2ab45e925\",\"roots\":{\"12257\":\"5f4feaba-2197-4876-b2bd-451f1232b5e0\"}}];\n",
       "  root.Bokeh.embed.embed_items_notebook(docs_json, render_items);\n",
       "\n",
       "  }\n",
       "  if (root.Bokeh !== undefined) {\n",
       "    embed_document(root);\n",
       "  } else {\n",
       "    var attempts = 0;\n",
       "    var timer = setInterval(function(root) {\n",
       "      if (root.Bokeh !== undefined) {\n",
       "        clearInterval(timer);\n",
       "        embed_document(root);\n",
       "      } else {\n",
       "        attempts++;\n",
       "        if (attempts > 100) {\n",
       "          clearInterval(timer);\n",
       "          console.log(\"Bokeh: ERROR: Unable to run BokehJS code because BokehJS library is missing\");\n",
       "        }\n",
       "      }\n",
       "    }, 10, root)\n",
       "  }\n",
       "})(window);"
      ],
      "application/vnd.bokehjs_exec.v0+json": ""
     },
     "metadata": {
      "application/vnd.bokehjs_exec.v0+json": {
       "id": "12257"
      }
     },
     "output_type": "display_data"
    }
   ],
   "source": [
    "p = figure(plot_width=600, plot_height=400)\n",
    "p.square([1,2,3,4,5], [2,5,8,2,7], size=10)\n",
    "\n",
    "p.xaxis.axis_label = \"Lot Number\"\n",
    "p.xaxis.axis_label_text_color = \"#aa6666\"\n",
    "p.xaxis.axis_label_standoff = 30\n",
    "\n",
    "p.yaxis.axis_label = \"Bin Count\"\n",
    "p.yaxis.axis_label_text_font_style = \"italic\"\n",
    "p.yaxis.axis_label_text_font_size = '30px'\n",
    "show(p)"
   ]
  },
  {
   "cell_type": "markdown",
   "metadata": {},
   "source": [
    "### Bounds"
   ]
  },
  {
   "cell_type": "code",
   "execution_count": 61,
   "metadata": {},
   "outputs": [
    {
     "data": {
      "text/html": [
       "\n",
       "\n",
       "\n",
       "\n",
       "\n",
       "\n",
       "  <div class=\"bk-root\" id=\"6e91a0fd-40ef-4db1-9fc0-891b804228aa\" data-root-id=\"13230\"></div>\n"
      ]
     },
     "metadata": {},
     "output_type": "display_data"
    },
    {
     "data": {
      "application/javascript": [
       "(function(root) {\n",
       "  function embed_document(root) {\n",
       "    \n",
       "  var docs_json = {\"407f8416-f977-48b6-ae74-b4bb29a61429\":{\"roots\":{\"references\":[{\"attributes\":{\"below\":[{\"id\":\"13239\",\"type\":\"LinearAxis\"}],\"center\":[{\"id\":\"13243\",\"type\":\"Grid\"},{\"id\":\"13248\",\"type\":\"Grid\"}],\"left\":[{\"id\":\"13244\",\"type\":\"LinearAxis\"}],\"plot_height\":400,\"renderers\":[{\"id\":\"13265\",\"type\":\"GlyphRenderer\"}],\"title\":{\"id\":\"13667\",\"type\":\"Title\"},\"toolbar\":{\"id\":\"13255\",\"type\":\"Toolbar\"},\"x_range\":{\"id\":\"13231\",\"type\":\"DataRange1d\"},\"x_scale\":{\"id\":\"13235\",\"type\":\"LinearScale\"},\"y_range\":{\"id\":\"13233\",\"type\":\"DataRange1d\"},\"y_scale\":{\"id\":\"13237\",\"type\":\"LinearScale\"}},\"id\":\"13230\",\"subtype\":\"Figure\",\"type\":\"Plot\"},{\"attributes\":{\"dimension\":1,\"ticker\":{\"id\":\"13245\",\"type\":\"BasicTicker\"}},\"id\":\"13248\",\"type\":\"Grid\"},{\"attributes\":{\"callback\":null},\"id\":\"13231\",\"type\":\"DataRange1d\"},{\"attributes\":{},\"id\":\"13249\",\"type\":\"PanTool\"},{\"attributes\":{\"callback\":null,\"data\":{\"x\":[1,2,3,4,5],\"y\":[2,5,8,2,7]},\"selected\":{\"id\":\"13674\",\"type\":\"Selection\"},\"selection_policy\":{\"id\":\"13673\",\"type\":\"UnionRenderers\"}},\"id\":\"13262\",\"type\":\"ColumnDataSource\"},{\"attributes\":{\"active_drag\":\"auto\",\"active_inspect\":\"auto\",\"active_multi\":null,\"active_scroll\":\"auto\",\"active_tap\":\"auto\",\"tools\":[{\"id\":\"13249\",\"type\":\"PanTool\"},{\"id\":\"13250\",\"type\":\"WheelZoomTool\"},{\"id\":\"13251\",\"type\":\"BoxZoomTool\"},{\"id\":\"13252\",\"type\":\"SaveTool\"},{\"id\":\"13253\",\"type\":\"ResetTool\"},{\"id\":\"13254\",\"type\":\"HelpTool\"}]},\"id\":\"13255\",\"type\":\"Toolbar\"},{\"attributes\":{\"formatter\":{\"id\":\"13672\",\"type\":\"BasicTickFormatter\"},\"ticker\":{\"id\":\"13245\",\"type\":\"BasicTicker\"}},\"id\":\"13244\",\"type\":\"LinearAxis\"},{\"attributes\":{\"fill_alpha\":{\"value\":0.1},\"fill_color\":{\"value\":\"#1f77b4\"},\"line_alpha\":{\"value\":0.1},\"line_color\":{\"value\":\"#1f77b4\"},\"size\":{\"units\":\"screen\",\"value\":10},\"x\":{\"field\":\"x\"},\"y\":{\"field\":\"y\"}},\"id\":\"13264\",\"type\":\"Circle\"},{\"attributes\":{},\"id\":\"13254\",\"type\":\"HelpTool\"},{\"attributes\":{\"text\":\"\"},\"id\":\"13667\",\"type\":\"Title\"},{\"attributes\":{\"overlay\":{\"id\":\"13675\",\"type\":\"BoxAnnotation\"}},\"id\":\"13251\",\"type\":\"BoxZoomTool\"},{\"attributes\":{},\"id\":\"13252\",\"type\":\"SaveTool\"},{\"attributes\":{},\"id\":\"13253\",\"type\":\"ResetTool\"},{\"attributes\":{},\"id\":\"13672\",\"type\":\"BasicTickFormatter\"},{\"attributes\":{\"callback\":null},\"id\":\"13233\",\"type\":\"DataRange1d\"},{\"attributes\":{},\"id\":\"13670\",\"type\":\"BasicTickFormatter\"},{\"attributes\":{},\"id\":\"13250\",\"type\":\"WheelZoomTool\"},{\"attributes\":{\"data_source\":{\"id\":\"13262\",\"type\":\"ColumnDataSource\"},\"glyph\":{\"id\":\"13263\",\"type\":\"Circle\"},\"hover_glyph\":null,\"muted_glyph\":null,\"nonselection_glyph\":{\"id\":\"13264\",\"type\":\"Circle\"},\"selection_glyph\":null,\"view\":{\"id\":\"13266\",\"type\":\"CDSView\"}},\"id\":\"13265\",\"type\":\"GlyphRenderer\"},{\"attributes\":{},\"id\":\"13240\",\"type\":\"BasicTicker\"},{\"attributes\":{},\"id\":\"13237\",\"type\":\"LinearScale\"},{\"attributes\":{},\"id\":\"13245\",\"type\":\"BasicTicker\"},{\"attributes\":{},\"id\":\"13235\",\"type\":\"LinearScale\"},{\"attributes\":{\"source\":{\"id\":\"13262\",\"type\":\"ColumnDataSource\"}},\"id\":\"13266\",\"type\":\"CDSView\"},{\"attributes\":{\"bottom_units\":\"screen\",\"fill_alpha\":{\"value\":0.5},\"fill_color\":{\"value\":\"lightgrey\"},\"left_units\":\"screen\",\"level\":\"overlay\",\"line_alpha\":{\"value\":1.0},\"line_color\":{\"value\":\"black\"},\"line_dash\":[4,4],\"line_width\":{\"value\":2},\"render_mode\":\"css\",\"right_units\":\"screen\",\"top_units\":\"screen\"},\"id\":\"13675\",\"type\":\"BoxAnnotation\"},{\"attributes\":{\"ticker\":{\"id\":\"13240\",\"type\":\"BasicTicker\"}},\"id\":\"13243\",\"type\":\"Grid\"},{\"attributes\":{},\"id\":\"13673\",\"type\":\"UnionRenderers\"},{\"attributes\":{},\"id\":\"13674\",\"type\":\"Selection\"},{\"attributes\":{\"bounds\":[2,4],\"formatter\":{\"id\":\"13670\",\"type\":\"BasicTickFormatter\"},\"ticker\":{\"id\":\"13240\",\"type\":\"BasicTicker\"}},\"id\":\"13239\",\"type\":\"LinearAxis\"},{\"attributes\":{\"fill_color\":{\"value\":\"#1f77b4\"},\"line_color\":{\"value\":\"#1f77b4\"},\"size\":{\"units\":\"screen\",\"value\":10},\"x\":{\"field\":\"x\"},\"y\":{\"field\":\"y\"}},\"id\":\"13263\",\"type\":\"Circle\"}],\"root_ids\":[\"13230\"]},\"title\":\"Bokeh Application\",\"version\":\"1.4.0\"}};\n",
       "  var render_items = [{\"docid\":\"407f8416-f977-48b6-ae74-b4bb29a61429\",\"roots\":{\"13230\":\"6e91a0fd-40ef-4db1-9fc0-891b804228aa\"}}];\n",
       "  root.Bokeh.embed.embed_items_notebook(docs_json, render_items);\n",
       "\n",
       "  }\n",
       "  if (root.Bokeh !== undefined) {\n",
       "    embed_document(root);\n",
       "  } else {\n",
       "    var attempts = 0;\n",
       "    var timer = setInterval(function(root) {\n",
       "      if (root.Bokeh !== undefined) {\n",
       "        clearInterval(timer);\n",
       "        embed_document(root);\n",
       "      } else {\n",
       "        attempts++;\n",
       "        if (attempts > 100) {\n",
       "          clearInterval(timer);\n",
       "          console.log(\"Bokeh: ERROR: Unable to run BokehJS code because BokehJS library is missing\");\n",
       "        }\n",
       "      }\n",
       "    }, 10, root)\n",
       "  }\n",
       "})(window);"
      ],
      "application/vnd.bokehjs_exec.v0+json": ""
     },
     "metadata": {
      "application/vnd.bokehjs_exec.v0+json": {
       "id": "13230"
      }
     },
     "output_type": "display_data"
    }
   ],
   "source": [
    "p = figure(plot_width=600, plot_height=400)\n",
    "p.circle([1,2,3,4,5], [2,5,8,2,7], size=10)\n",
    "\n",
    "p.xaxis.bounds = (2, 4)\n",
    "show(p)"
   ]
  },
  {
   "cell_type": "markdown",
   "metadata": {},
   "source": [
    "### Tickers"
   ]
  },
  {
   "cell_type": "code",
   "execution_count": 62,
   "metadata": {
    "scrolled": true
   },
   "outputs": [
    {
     "data": {
      "text/html": [
       "\n",
       "\n",
       "\n",
       "\n",
       "\n",
       "\n",
       "  <div class=\"bk-root\" id=\"6c1ff0ca-c01d-4ef7-9351-f281503f4e09\" data-root-id=\"13730\"></div>\n"
      ]
     },
     "metadata": {},
     "output_type": "display_data"
    },
    {
     "data": {
      "application/javascript": [
       "(function(root) {\n",
       "  function embed_document(root) {\n",
       "    \n",
       "  var docs_json = {\"3bd1de7a-8fb8-4b60-adf3-4547cfe047f5\":{\"roots\":{\"references\":[{\"attributes\":{\"below\":[{\"id\":\"13739\",\"type\":\"LinearAxis\"}],\"center\":[{\"id\":\"13743\",\"type\":\"Grid\"},{\"id\":\"13748\",\"type\":\"Grid\"}],\"left\":[{\"id\":\"13744\",\"type\":\"LinearAxis\"}],\"plot_height\":400,\"plot_width\":400,\"renderers\":[{\"id\":\"13765\",\"type\":\"GlyphRenderer\"}],\"title\":{\"id\":\"14178\",\"type\":\"Title\"},\"toolbar\":{\"id\":\"13755\",\"type\":\"Toolbar\"},\"x_range\":{\"id\":\"13731\",\"type\":\"DataRange1d\"},\"x_scale\":{\"id\":\"13735\",\"type\":\"LinearScale\"},\"y_range\":{\"id\":\"13733\",\"type\":\"DataRange1d\"},\"y_scale\":{\"id\":\"13737\",\"type\":\"LinearScale\"}},\"id\":\"13730\",\"subtype\":\"Figure\",\"type\":\"Plot\"},{\"attributes\":{\"callback\":null},\"id\":\"13731\",\"type\":\"DataRange1d\"},{\"attributes\":{},\"id\":\"14184\",\"type\":\"Selection\"},{\"attributes\":{\"text\":\"\"},\"id\":\"14178\",\"type\":\"Title\"},{\"attributes\":{},\"id\":\"13735\",\"type\":\"LinearScale\"},{\"attributes\":{\"callback\":null},\"id\":\"13733\",\"type\":\"DataRange1d\"},{\"attributes\":{\"active_drag\":\"auto\",\"active_inspect\":\"auto\",\"active_multi\":null,\"active_scroll\":\"auto\",\"active_tap\":\"auto\",\"tools\":[{\"id\":\"13749\",\"type\":\"PanTool\"},{\"id\":\"13750\",\"type\":\"WheelZoomTool\"},{\"id\":\"13751\",\"type\":\"BoxZoomTool\"},{\"id\":\"13752\",\"type\":\"SaveTool\"},{\"id\":\"13753\",\"type\":\"ResetTool\"},{\"id\":\"13754\",\"type\":\"HelpTool\"}]},\"id\":\"13755\",\"type\":\"Toolbar\"},{\"attributes\":{\"dimension\":1,\"ticker\":{\"id\":\"13745\",\"type\":\"BasicTicker\"}},\"id\":\"13748\",\"type\":\"Grid\"},{\"attributes\":{},\"id\":\"13737\",\"type\":\"LinearScale\"},{\"attributes\":{},\"id\":\"14180\",\"type\":\"BasicTickFormatter\"},{\"attributes\":{\"ticks\":[2,3.5,4]},\"id\":\"13767\",\"type\":\"FixedTicker\"},{\"attributes\":{},\"id\":\"13740\",\"type\":\"BasicTicker\"},{\"attributes\":{\"formatter\":{\"id\":\"14182\",\"type\":\"BasicTickFormatter\"},\"ticker\":{\"id\":\"13745\",\"type\":\"BasicTicker\"}},\"id\":\"13744\",\"type\":\"LinearAxis\"},{\"attributes\":{\"ticker\":{\"id\":\"13740\",\"type\":\"BasicTicker\"}},\"id\":\"13743\",\"type\":\"Grid\"},{\"attributes\":{\"formatter\":{\"id\":\"14180\",\"type\":\"BasicTickFormatter\"},\"ticker\":{\"id\":\"13767\",\"type\":\"FixedTicker\"}},\"id\":\"13739\",\"type\":\"LinearAxis\"},{\"attributes\":{},\"id\":\"13745\",\"type\":\"BasicTicker\"},{\"attributes\":{\"callback\":null,\"data\":{\"x\":[1,2,3,4,5],\"y\":[2,5,8,2,7]},\"selected\":{\"id\":\"14184\",\"type\":\"Selection\"},\"selection_policy\":{\"id\":\"14183\",\"type\":\"UnionRenderers\"}},\"id\":\"13762\",\"type\":\"ColumnDataSource\"},{\"attributes\":{},\"id\":\"13750\",\"type\":\"WheelZoomTool\"},{\"attributes\":{\"fill_color\":{\"value\":\"#1f77b4\"},\"line_color\":{\"value\":\"#1f77b4\"},\"size\":{\"units\":\"screen\",\"value\":10},\"x\":{\"field\":\"x\"},\"y\":{\"field\":\"y\"}},\"id\":\"13763\",\"type\":\"Circle\"},{\"attributes\":{},\"id\":\"13752\",\"type\":\"SaveTool\"},{\"attributes\":{},\"id\":\"13749\",\"type\":\"PanTool\"},{\"attributes\":{},\"id\":\"14183\",\"type\":\"UnionRenderers\"},{\"attributes\":{\"bottom_units\":\"screen\",\"fill_alpha\":{\"value\":0.5},\"fill_color\":{\"value\":\"lightgrey\"},\"left_units\":\"screen\",\"level\":\"overlay\",\"line_alpha\":{\"value\":1.0},\"line_color\":{\"value\":\"black\"},\"line_dash\":[4,4],\"line_width\":{\"value\":2},\"render_mode\":\"css\",\"right_units\":\"screen\",\"top_units\":\"screen\"},\"id\":\"14185\",\"type\":\"BoxAnnotation\"},{\"attributes\":{},\"id\":\"13754\",\"type\":\"HelpTool\"},{\"attributes\":{},\"id\":\"13753\",\"type\":\"ResetTool\"},{\"attributes\":{},\"id\":\"14182\",\"type\":\"BasicTickFormatter\"},{\"attributes\":{\"overlay\":{\"id\":\"14185\",\"type\":\"BoxAnnotation\"}},\"id\":\"13751\",\"type\":\"BoxZoomTool\"},{\"attributes\":{\"source\":{\"id\":\"13762\",\"type\":\"ColumnDataSource\"}},\"id\":\"13766\",\"type\":\"CDSView\"},{\"attributes\":{\"fill_alpha\":{\"value\":0.1},\"fill_color\":{\"value\":\"#1f77b4\"},\"line_alpha\":{\"value\":0.1},\"line_color\":{\"value\":\"#1f77b4\"},\"size\":{\"units\":\"screen\",\"value\":10},\"x\":{\"field\":\"x\"},\"y\":{\"field\":\"y\"}},\"id\":\"13764\",\"type\":\"Circle\"},{\"attributes\":{\"data_source\":{\"id\":\"13762\",\"type\":\"ColumnDataSource\"},\"glyph\":{\"id\":\"13763\",\"type\":\"Circle\"},\"hover_glyph\":null,\"muted_glyph\":null,\"nonselection_glyph\":{\"id\":\"13764\",\"type\":\"Circle\"},\"selection_glyph\":null,\"view\":{\"id\":\"13766\",\"type\":\"CDSView\"}},\"id\":\"13765\",\"type\":\"GlyphRenderer\"}],\"root_ids\":[\"13730\"]},\"title\":\"Bokeh Application\",\"version\":\"1.4.0\"}};\n",
       "  var render_items = [{\"docid\":\"3bd1de7a-8fb8-4b60-adf3-4547cfe047f5\",\"roots\":{\"13730\":\"6c1ff0ca-c01d-4ef7-9351-f281503f4e09\"}}];\n",
       "  root.Bokeh.embed.embed_items_notebook(docs_json, render_items);\n",
       "\n",
       "  }\n",
       "  if (root.Bokeh !== undefined) {\n",
       "    embed_document(root);\n",
       "  } else {\n",
       "    var attempts = 0;\n",
       "    var timer = setInterval(function(root) {\n",
       "      if (root.Bokeh !== undefined) {\n",
       "        clearInterval(timer);\n",
       "        embed_document(root);\n",
       "      } else {\n",
       "        attempts++;\n",
       "        if (attempts > 100) {\n",
       "          clearInterval(timer);\n",
       "          console.log(\"Bokeh: ERROR: Unable to run BokehJS code because BokehJS library is missing\");\n",
       "        }\n",
       "      }\n",
       "    }, 10, root)\n",
       "  }\n",
       "})(window);"
      ],
      "application/vnd.bokehjs_exec.v0+json": ""
     },
     "metadata": {
      "application/vnd.bokehjs_exec.v0+json": {
       "id": "13730"
      }
     },
     "output_type": "display_data"
    }
   ],
   "source": [
    "p = figure(plot_width=400, plot_height=400)\n",
    "p.circle([1,2,3,4,5], [2,5,8,2,7], size=10)\n",
    "\n",
    "p.xaxis.ticker = [2, 3.5, 4]\n",
    "show(p)"
   ]
  },
  {
   "cell_type": "markdown",
   "metadata": {},
   "source": [
    "### Numerical Tick Formatter"
   ]
  },
  {
   "cell_type": "code",
   "execution_count": 64,
   "metadata": {},
   "outputs": [
    {
     "data": {
      "text/html": [
       "\n",
       "\n",
       "\n",
       "\n",
       "\n",
       "\n",
       "  <div class=\"bk-root\" id=\"75510f3e-bbed-4743-8079-b06685441922\" data-root-id=\"14741\"></div>\n"
      ]
     },
     "metadata": {},
     "output_type": "display_data"
    },
    {
     "data": {
      "application/javascript": [
       "(function(root) {\n",
       "  function embed_document(root) {\n",
       "    \n",
       "  var docs_json = {\"4db101f0-8e2c-48ed-9024-00c86bd8c832\":{\"roots\":{\"references\":[{\"attributes\":{\"below\":[{\"id\":\"14750\",\"type\":\"LinearAxis\"}],\"center\":[{\"id\":\"14754\",\"type\":\"Grid\"},{\"id\":\"14759\",\"type\":\"Grid\"}],\"left\":[{\"id\":\"14755\",\"type\":\"LinearAxis\"}],\"plot_height\":400,\"renderers\":[{\"id\":\"14776\",\"type\":\"GlyphRenderer\"}],\"title\":{\"id\":\"15206\",\"type\":\"Title\"},\"toolbar\":{\"id\":\"14766\",\"type\":\"Toolbar\"},\"x_range\":{\"id\":\"14742\",\"type\":\"DataRange1d\"},\"x_scale\":{\"id\":\"14746\",\"type\":\"LinearScale\"},\"y_range\":{\"id\":\"14744\",\"type\":\"DataRange1d\"},\"y_scale\":{\"id\":\"14748\",\"type\":\"LinearScale\"}},\"id\":\"14741\",\"subtype\":\"Figure\",\"type\":\"Plot\"},{\"attributes\":{\"callback\":null},\"id\":\"14744\",\"type\":\"DataRange1d\"},{\"attributes\":{},\"id\":\"14746\",\"type\":\"LinearScale\"},{\"attributes\":{\"bottom_units\":\"screen\",\"fill_alpha\":{\"value\":0.5},\"fill_color\":{\"value\":\"lightgrey\"},\"left_units\":\"screen\",\"level\":\"overlay\",\"line_alpha\":{\"value\":1.0},\"line_color\":{\"value\":\"black\"},\"line_dash\":[4,4],\"line_width\":{\"value\":2},\"render_mode\":\"css\",\"right_units\":\"screen\",\"top_units\":\"screen\"},\"id\":\"15212\",\"type\":\"BoxAnnotation\"},{\"attributes\":{\"callback\":null},\"id\":\"14742\",\"type\":\"DataRange1d\"},{\"attributes\":{},\"id\":\"14748\",\"type\":\"LinearScale\"},{\"attributes\":{},\"id\":\"15210\",\"type\":\"UnionRenderers\"},{\"attributes\":{\"fill_color\":{\"value\":\"#1f77b4\"},\"line_color\":{\"value\":\"#1f77b4\"},\"size\":{\"units\":\"screen\",\"value\":10},\"x\":{\"field\":\"x\"},\"y\":{\"field\":\"y\"}},\"id\":\"14774\",\"type\":\"Circle\"},{\"attributes\":{\"ticker\":{\"id\":\"14751\",\"type\":\"BasicTicker\"}},\"id\":\"14754\",\"type\":\"Grid\"},{\"attributes\":{\"format\":\"$0.00\"},\"id\":\"14780\",\"type\":\"NumeralTickFormatter\"},{\"attributes\":{},\"id\":\"14756\",\"type\":\"BasicTicker\"},{\"attributes\":{},\"id\":\"14751\",\"type\":\"BasicTicker\"},{\"attributes\":{\"formatter\":{\"id\":\"14778\",\"type\":\"NumeralTickFormatter\"},\"ticker\":{\"id\":\"14751\",\"type\":\"BasicTicker\"}},\"id\":\"14750\",\"type\":\"LinearAxis\"},{\"attributes\":{\"dimension\":1,\"ticker\":{\"id\":\"14756\",\"type\":\"BasicTicker\"}},\"id\":\"14759\",\"type\":\"Grid\"},{\"attributes\":{\"formatter\":{\"id\":\"14780\",\"type\":\"NumeralTickFormatter\"},\"ticker\":{\"id\":\"14756\",\"type\":\"BasicTicker\"}},\"id\":\"14755\",\"type\":\"LinearAxis\"},{\"attributes\":{\"callback\":null,\"data\":{\"x\":[1,2,3,4,5],\"y\":[2,5,8,2,7]},\"selected\":{\"id\":\"15211\",\"type\":\"Selection\"},\"selection_policy\":{\"id\":\"15210\",\"type\":\"UnionRenderers\"}},\"id\":\"14773\",\"type\":\"ColumnDataSource\"},{\"attributes\":{},\"id\":\"14764\",\"type\":\"ResetTool\"},{\"attributes\":{\"active_drag\":\"auto\",\"active_inspect\":\"auto\",\"active_multi\":null,\"active_scroll\":\"auto\",\"active_tap\":\"auto\",\"tools\":[{\"id\":\"14760\",\"type\":\"PanTool\"},{\"id\":\"14761\",\"type\":\"WheelZoomTool\"},{\"id\":\"14762\",\"type\":\"BoxZoomTool\"},{\"id\":\"14763\",\"type\":\"SaveTool\"},{\"id\":\"14764\",\"type\":\"ResetTool\"},{\"id\":\"14765\",\"type\":\"HelpTool\"}]},\"id\":\"14766\",\"type\":\"Toolbar\"},{\"attributes\":{\"format\":\"0.0%\"},\"id\":\"14778\",\"type\":\"NumeralTickFormatter\"},{\"attributes\":{},\"id\":\"14761\",\"type\":\"WheelZoomTool\"},{\"attributes\":{},\"id\":\"14760\",\"type\":\"PanTool\"},{\"attributes\":{},\"id\":\"14765\",\"type\":\"HelpTool\"},{\"attributes\":{},\"id\":\"14763\",\"type\":\"SaveTool\"},{\"attributes\":{\"overlay\":{\"id\":\"15212\",\"type\":\"BoxAnnotation\"}},\"id\":\"14762\",\"type\":\"BoxZoomTool\"},{\"attributes\":{},\"id\":\"15211\",\"type\":\"Selection\"},{\"attributes\":{\"data_source\":{\"id\":\"14773\",\"type\":\"ColumnDataSource\"},\"glyph\":{\"id\":\"14774\",\"type\":\"Circle\"},\"hover_glyph\":null,\"muted_glyph\":null,\"nonselection_glyph\":{\"id\":\"14775\",\"type\":\"Circle\"},\"selection_glyph\":null,\"view\":{\"id\":\"14777\",\"type\":\"CDSView\"}},\"id\":\"14776\",\"type\":\"GlyphRenderer\"},{\"attributes\":{\"fill_alpha\":{\"value\":0.1},\"fill_color\":{\"value\":\"#1f77b4\"},\"line_alpha\":{\"value\":0.1},\"line_color\":{\"value\":\"#1f77b4\"},\"size\":{\"units\":\"screen\",\"value\":10},\"x\":{\"field\":\"x\"},\"y\":{\"field\":\"y\"}},\"id\":\"14775\",\"type\":\"Circle\"},{\"attributes\":{\"source\":{\"id\":\"14773\",\"type\":\"ColumnDataSource\"}},\"id\":\"14777\",\"type\":\"CDSView\"},{\"attributes\":{\"text\":\"\"},\"id\":\"15206\",\"type\":\"Title\"}],\"root_ids\":[\"14741\"]},\"title\":\"Bokeh Application\",\"version\":\"1.4.0\"}};\n",
       "  var render_items = [{\"docid\":\"4db101f0-8e2c-48ed-9024-00c86bd8c832\",\"roots\":{\"14741\":\"75510f3e-bbed-4743-8079-b06685441922\"}}];\n",
       "  root.Bokeh.embed.embed_items_notebook(docs_json, render_items);\n",
       "\n",
       "  }\n",
       "  if (root.Bokeh !== undefined) {\n",
       "    embed_document(root);\n",
       "  } else {\n",
       "    var attempts = 0;\n",
       "    var timer = setInterval(function(root) {\n",
       "      if (root.Bokeh !== undefined) {\n",
       "        clearInterval(timer);\n",
       "        embed_document(root);\n",
       "      } else {\n",
       "        attempts++;\n",
       "        if (attempts > 100) {\n",
       "          clearInterval(timer);\n",
       "          console.log(\"Bokeh: ERROR: Unable to run BokehJS code because BokehJS library is missing\");\n",
       "        }\n",
       "      }\n",
       "    }, 10, root)\n",
       "  }\n",
       "})(window);"
      ],
      "application/vnd.bokehjs_exec.v0+json": ""
     },
     "metadata": {
      "application/vnd.bokehjs_exec.v0+json": {
       "id": "14741"
      }
     },
     "output_type": "display_data"
    }
   ],
   "source": [
    "from bokeh.models import NumeralTickFormatter\n",
    "\n",
    "p = figure(plot_width=600, plot_height=400)\n",
    "p.circle([1,2,3,4,5], [2,5,8,2,7], size=10)\n",
    "\n",
    "p.xaxis[0].formatter = NumeralTickFormatter(format=\"0.0%\")\n",
    "p.yaxis[0].formatter = NumeralTickFormatter(format=\"$0.00\")\n",
    "\n",
    "show(p)"
   ]
  },
  {
   "cell_type": "markdown",
   "metadata": {},
   "source": [
    "### Grids"
   ]
  },
  {
   "cell_type": "code",
   "execution_count": 65,
   "metadata": {},
   "outputs": [
    {
     "data": {
      "text/plain": [
       "[Grid(id='14754', ...), Grid(id='14759', ...)]"
      ]
     },
     "execution_count": 65,
     "metadata": {},
     "output_type": "execute_result"
    }
   ],
   "source": [
    "p.grid"
   ]
  },
  {
   "cell_type": "code",
   "execution_count": 70,
   "metadata": {},
   "outputs": [
    {
     "data": {
      "text/html": [
       "\n",
       "\n",
       "\n",
       "\n",
       "\n",
       "\n",
       "  <div class=\"bk-root\" id=\"437839ae-f177-4a0a-b264-737c8b644034\" data-root-id=\"15786\"></div>\n"
      ]
     },
     "metadata": {},
     "output_type": "display_data"
    },
    {
     "data": {
      "application/javascript": [
       "(function(root) {\n",
       "  function embed_document(root) {\n",
       "    \n",
       "  var docs_json = {\"4a94f133-666e-4eea-a195-e5db5ca61cd1\":{\"roots\":{\"references\":[{\"attributes\":{\"below\":[{\"id\":\"15795\",\"type\":\"LinearAxis\"}],\"center\":[{\"id\":\"15799\",\"type\":\"Grid\"},{\"id\":\"15804\",\"type\":\"Grid\"}],\"left\":[{\"id\":\"15800\",\"type\":\"LinearAxis\"}],\"plot_height\":400,\"plot_width\":400,\"renderers\":[{\"id\":\"15821\",\"type\":\"GlyphRenderer\"}],\"title\":{\"id\":\"16263\",\"type\":\"Title\"},\"toolbar\":{\"id\":\"15811\",\"type\":\"Toolbar\"},\"x_range\":{\"id\":\"15787\",\"type\":\"DataRange1d\"},\"x_scale\":{\"id\":\"15791\",\"type\":\"LinearScale\"},\"y_range\":{\"id\":\"15789\",\"type\":\"DataRange1d\"},\"y_scale\":{\"id\":\"15793\",\"type\":\"LinearScale\"}},\"id\":\"15786\",\"subtype\":\"Figure\",\"type\":\"Plot\"},{\"attributes\":{},\"id\":\"16266\",\"type\":\"BasicTickFormatter\"},{\"attributes\":{},\"id\":\"15796\",\"type\":\"BasicTicker\"},{\"attributes\":{\"bottom_units\":\"screen\",\"fill_alpha\":{\"value\":0.5},\"fill_color\":{\"value\":\"lightgrey\"},\"left_units\":\"screen\",\"level\":\"overlay\",\"line_alpha\":{\"value\":1.0},\"line_color\":{\"value\":\"black\"},\"line_dash\":[4,4],\"line_width\":{\"value\":2},\"render_mode\":\"css\",\"right_units\":\"screen\",\"top_units\":\"screen\"},\"id\":\"16271\",\"type\":\"BoxAnnotation\"},{\"attributes\":{},\"id\":\"16270\",\"type\":\"Selection\"},{\"attributes\":{},\"id\":\"15791\",\"type\":\"LinearScale\"},{\"attributes\":{},\"id\":\"15793\",\"type\":\"LinearScale\"},{\"attributes\":{},\"id\":\"15801\",\"type\":\"BasicTicker\"},{\"attributes\":{\"formatter\":{\"id\":\"16266\",\"type\":\"BasicTickFormatter\"},\"ticker\":{\"id\":\"15796\",\"type\":\"BasicTicker\"}},\"id\":\"15795\",\"type\":\"LinearAxis\"},{\"attributes\":{\"grid_line_color\":null,\"ticker\":{\"id\":\"15796\",\"type\":\"BasicTicker\"}},\"id\":\"15799\",\"type\":\"Grid\"},{\"attributes\":{\"callback\":null,\"data\":{\"x\":[1,2,3,4,5],\"y\":[2,5,8,2,7]},\"selected\":{\"id\":\"16270\",\"type\":\"Selection\"},\"selection_policy\":{\"id\":\"16269\",\"type\":\"UnionRenderers\"}},\"id\":\"15818\",\"type\":\"ColumnDataSource\"},{\"attributes\":{\"dimension\":1,\"grid_line_alpha\":0.8,\"grid_line_dash\":[6,4],\"ticker\":{\"id\":\"15801\",\"type\":\"BasicTicker\"}},\"id\":\"15804\",\"type\":\"Grid\"},{\"attributes\":{\"active_drag\":\"auto\",\"active_inspect\":\"auto\",\"active_multi\":null,\"active_scroll\":\"auto\",\"active_tap\":\"auto\",\"tools\":[{\"id\":\"15805\",\"type\":\"PanTool\"},{\"id\":\"15806\",\"type\":\"WheelZoomTool\"},{\"id\":\"15807\",\"type\":\"BoxZoomTool\"},{\"id\":\"15808\",\"type\":\"SaveTool\"},{\"id\":\"15809\",\"type\":\"ResetTool\"},{\"id\":\"15810\",\"type\":\"HelpTool\"}]},\"id\":\"15811\",\"type\":\"Toolbar\"},{\"attributes\":{\"formatter\":{\"id\":\"16268\",\"type\":\"BasicTickFormatter\"},\"ticker\":{\"id\":\"15801\",\"type\":\"BasicTicker\"}},\"id\":\"15800\",\"type\":\"LinearAxis\"},{\"attributes\":{\"fill_alpha\":{\"value\":0.1},\"fill_color\":{\"value\":\"#1f77b4\"},\"line_alpha\":{\"value\":0.1},\"line_color\":{\"value\":\"#1f77b4\"},\"size\":{\"units\":\"screen\",\"value\":10},\"x\":{\"field\":\"x\"},\"y\":{\"field\":\"y\"}},\"id\":\"15820\",\"type\":\"Circle\"},{\"attributes\":{},\"id\":\"15810\",\"type\":\"HelpTool\"},{\"attributes\":{\"overlay\":{\"id\":\"16271\",\"type\":\"BoxAnnotation\"}},\"id\":\"15807\",\"type\":\"BoxZoomTool\"},{\"attributes\":{\"fill_color\":{\"value\":\"#1f77b4\"},\"line_color\":{\"value\":\"#1f77b4\"},\"size\":{\"units\":\"screen\",\"value\":10},\"x\":{\"field\":\"x\"},\"y\":{\"field\":\"y\"}},\"id\":\"15819\",\"type\":\"Circle\"},{\"attributes\":{},\"id\":\"16268\",\"type\":\"BasicTickFormatter\"},{\"attributes\":{},\"id\":\"15808\",\"type\":\"SaveTool\"},{\"attributes\":{\"callback\":null},\"id\":\"15789\",\"type\":\"DataRange1d\"},{\"attributes\":{},\"id\":\"15809\",\"type\":\"ResetTool\"},{\"attributes\":{},\"id\":\"15805\",\"type\":\"PanTool\"},{\"attributes\":{},\"id\":\"15806\",\"type\":\"WheelZoomTool\"},{\"attributes\":{},\"id\":\"16269\",\"type\":\"UnionRenderers\"},{\"attributes\":{\"callback\":null},\"id\":\"15787\",\"type\":\"DataRange1d\"},{\"attributes\":{\"data_source\":{\"id\":\"15818\",\"type\":\"ColumnDataSource\"},\"glyph\":{\"id\":\"15819\",\"type\":\"Circle\"},\"hover_glyph\":null,\"muted_glyph\":null,\"nonselection_glyph\":{\"id\":\"15820\",\"type\":\"Circle\"},\"selection_glyph\":null,\"view\":{\"id\":\"15822\",\"type\":\"CDSView\"}},\"id\":\"15821\",\"type\":\"GlyphRenderer\"},{\"attributes\":{\"text\":\"\"},\"id\":\"16263\",\"type\":\"Title\"},{\"attributes\":{\"source\":{\"id\":\"15818\",\"type\":\"ColumnDataSource\"}},\"id\":\"15822\",\"type\":\"CDSView\"}],\"root_ids\":[\"15786\"]},\"title\":\"Bokeh Application\",\"version\":\"1.4.0\"}};\n",
       "  var render_items = [{\"docid\":\"4a94f133-666e-4eea-a195-e5db5ca61cd1\",\"roots\":{\"15786\":\"437839ae-f177-4a0a-b264-737c8b644034\"}}];\n",
       "  root.Bokeh.embed.embed_items_notebook(docs_json, render_items);\n",
       "\n",
       "  }\n",
       "  if (root.Bokeh !== undefined) {\n",
       "    embed_document(root);\n",
       "  } else {\n",
       "    var attempts = 0;\n",
       "    var timer = setInterval(function(root) {\n",
       "      if (root.Bokeh !== undefined) {\n",
       "        clearInterval(timer);\n",
       "        embed_document(root);\n",
       "      } else {\n",
       "        attempts++;\n",
       "        if (attempts > 100) {\n",
       "          clearInterval(timer);\n",
       "          console.log(\"Bokeh: ERROR: Unable to run BokehJS code because BokehJS library is missing\");\n",
       "        }\n",
       "      }\n",
       "    }, 10, root)\n",
       "  }\n",
       "})(window);"
      ],
      "application/vnd.bokehjs_exec.v0+json": ""
     },
     "metadata": {
      "application/vnd.bokehjs_exec.v0+json": {
       "id": "15786"
      }
     },
     "output_type": "display_data"
    }
   ],
   "source": [
    "p = figure(plot_width=400, plot_height=400)\n",
    "p.circle([1,2,3,4,5], [2,5,8,2,7], size=10)\n",
    "\n",
    "# change just some things about the x-grid\n",
    "p.xgrid.grid_line_color = None\n",
    "\n",
    "# change just some things about the y-grid\n",
    "p.ygrid.grid_line_alpha = 0.8\n",
    "p.ygrid.grid_line_dash = [6, 4]\n",
    "\n",
    "show(p)"
   ]
  },
  {
   "cell_type": "markdown",
   "metadata": {},
   "source": [
    "### Bands"
   ]
  },
  {
   "cell_type": "code",
   "execution_count": 71,
   "metadata": {},
   "outputs": [
    {
     "data": {
      "text/html": [
       "\n",
       "\n",
       "\n",
       "\n",
       "\n",
       "\n",
       "  <div class=\"bk-root\" id=\"dc80e400-ae6b-46be-976d-3d260ccc2220\" data-root-id=\"16326\"></div>\n"
      ]
     },
     "metadata": {},
     "output_type": "display_data"
    },
    {
     "data": {
      "application/javascript": [
       "(function(root) {\n",
       "  function embed_document(root) {\n",
       "    \n",
       "  var docs_json = {\"007547ab-ab39-4b97-a090-a9ec47ee7a2e\":{\"roots\":{\"references\":[{\"attributes\":{\"below\":[{\"id\":\"16335\",\"type\":\"LinearAxis\"}],\"center\":[{\"id\":\"16339\",\"type\":\"Grid\"},{\"id\":\"16344\",\"type\":\"Grid\"}],\"left\":[{\"id\":\"16340\",\"type\":\"LinearAxis\"}],\"plot_height\":250,\"renderers\":[{\"id\":\"16349\",\"type\":\"GlyphRenderer\"}],\"title\":{\"id\":\"16803\",\"type\":\"Title\"},\"toolbar\":{\"id\":\"16345\",\"type\":\"Toolbar\"},\"toolbar_location\":null,\"x_range\":{\"id\":\"16327\",\"type\":\"Range1d\"},\"x_scale\":{\"id\":\"16331\",\"type\":\"LinearScale\"},\"y_range\":{\"id\":\"16329\",\"type\":\"DataRange1d\"},\"y_scale\":{\"id\":\"16333\",\"type\":\"LinearScale\"}},\"id\":\"16326\",\"subtype\":\"Figure\",\"type\":\"Plot\"},{\"attributes\":{},\"id\":\"16333\",\"type\":\"LinearScale\"},{\"attributes\":{\"formatter\":{\"id\":\"16805\",\"type\":\"BasicTickFormatter\"},\"ticker\":{\"id\":\"16351\",\"type\":\"FixedTicker\"}},\"id\":\"16335\",\"type\":\"LinearAxis\"},{\"attributes\":{},\"id\":\"16341\",\"type\":\"BasicTicker\"},{\"attributes\":{\"band_hatch_alpha\":0.6,\"band_hatch_color\":\"lightgrey\",\"band_hatch_pattern\":\"/\",\"band_hatch_scale\":10,\"band_hatch_weight\":0.5,\"ticker\":{\"id\":\"16353\",\"type\":\"FixedTicker\"}},\"id\":\"16339\",\"type\":\"Grid\"},{\"attributes\":{\"dimension\":1,\"grid_line_color\":null,\"ticker\":{\"id\":\"16341\",\"type\":\"BasicTicker\"}},\"id\":\"16344\",\"type\":\"Grid\"},{\"attributes\":{\"text\":\"\"},\"id\":\"16803\",\"type\":\"Title\"},{\"attributes\":{\"formatter\":{\"id\":\"16807\",\"type\":\"BasicTickFormatter\"},\"ticker\":{\"id\":\"16341\",\"type\":\"BasicTicker\"}},\"id\":\"16340\",\"type\":\"LinearAxis\"},{\"attributes\":{\"active_drag\":\"auto\",\"active_inspect\":\"auto\",\"active_multi\":null,\"active_scroll\":\"auto\",\"active_tap\":\"auto\"},\"id\":\"16345\",\"type\":\"Toolbar\"},{\"attributes\":{\"source\":{\"id\":\"16346\",\"type\":\"ColumnDataSource\"}},\"id\":\"16350\",\"type\":\"CDSView\"},{\"attributes\":{\"line_alpha\":0.1,\"line_color\":\"#1f77b4\",\"x\":{\"field\":\"x\"},\"y\":{\"field\":\"y\"}},\"id\":\"16348\",\"type\":\"Line\"},{\"attributes\":{},\"id\":\"16805\",\"type\":\"BasicTickFormatter\"},{\"attributes\":{\"data_source\":{\"id\":\"16346\",\"type\":\"ColumnDataSource\"},\"glyph\":{\"id\":\"16347\",\"type\":\"Line\"},\"hover_glyph\":null,\"muted_glyph\":null,\"nonselection_glyph\":{\"id\":\"16348\",\"type\":\"Line\"},\"selection_glyph\":null,\"view\":{\"id\":\"16350\",\"type\":\"CDSView\"}},\"id\":\"16349\",\"type\":\"GlyphRenderer\"},{\"attributes\":{},\"id\":\"16808\",\"type\":\"UnionRenderers\"},{\"attributes\":{\"ticks\":[0,2,4,6,8,10]},\"id\":\"16351\",\"type\":\"FixedTicker\"},{\"attributes\":{},\"id\":\"16809\",\"type\":\"Selection\"},{\"attributes\":{\"ticks\":[0,2,4,6,8,10]},\"id\":\"16353\",\"type\":\"FixedTicker\"},{\"attributes\":{\"line_color\":\"#1f77b4\",\"x\":{\"field\":\"x\"},\"y\":{\"field\":\"y\"}},\"id\":\"16347\",\"type\":\"Line\"},{\"attributes\":{\"callback\":null,\"data\":{\"x\":[0,1,2,3,4,5,6,7,8,9,10],\"y\":[1,3,4,3,1,2,6,5,2,3,4]},\"selected\":{\"id\":\"16809\",\"type\":\"Selection\"},\"selection_policy\":{\"id\":\"16808\",\"type\":\"UnionRenderers\"}},\"id\":\"16346\",\"type\":\"ColumnDataSource\"},{\"attributes\":{\"callback\":null,\"end\":10},\"id\":\"16327\",\"type\":\"Range1d\"},{\"attributes\":{\"callback\":null},\"id\":\"16329\",\"type\":\"DataRange1d\"},{\"attributes\":{},\"id\":\"16807\",\"type\":\"BasicTickFormatter\"},{\"attributes\":{},\"id\":\"16331\",\"type\":\"LinearScale\"}],\"root_ids\":[\"16326\"]},\"title\":\"Bokeh Application\",\"version\":\"1.4.0\"}};\n",
       "  var render_items = [{\"docid\":\"007547ab-ab39-4b97-a090-a9ec47ee7a2e\",\"roots\":{\"16326\":\"dc80e400-ae6b-46be-976d-3d260ccc2220\"}}];\n",
       "  root.Bokeh.embed.embed_items_notebook(docs_json, render_items);\n",
       "\n",
       "  }\n",
       "  if (root.Bokeh !== undefined) {\n",
       "    embed_document(root);\n",
       "  } else {\n",
       "    var attempts = 0;\n",
       "    var timer = setInterval(function(root) {\n",
       "      if (root.Bokeh !== undefined) {\n",
       "        clearInterval(timer);\n",
       "        embed_document(root);\n",
       "      } else {\n",
       "        attempts++;\n",
       "        if (attempts > 100) {\n",
       "          clearInterval(timer);\n",
       "          console.log(\"Bokeh: ERROR: Unable to run BokehJS code because BokehJS library is missing\");\n",
       "        }\n",
       "      }\n",
       "    }, 10, root)\n",
       "  }\n",
       "})(window);"
      ],
      "application/vnd.bokehjs_exec.v0+json": ""
     },
     "metadata": {
      "application/vnd.bokehjs_exec.v0+json": {
       "id": "16326"
      }
     },
     "output_type": "display_data"
    }
   ],
   "source": [
    "p = figure(plot_height=250, plot_width=600, x_range=(0, 10), tools=\"\", toolbar_location=None)\n",
    "p.line(x=[0,1,2,3,4,5,6,7,8,9,10], y=[1,3,4,3,1,2,6,5,2,3,4])\n",
    "\n",
    "p.ygrid.grid_line_color = None\n",
    "\n",
    "ticks = [0, 2, 4, 6, 8, 10]\n",
    "p.xaxis[0].ticker = ticks\n",
    "p.xgrid[0].ticker = ticks\n",
    "\n",
    "p.xgrid.band_hatch_pattern = \"/\"\n",
    "p.xgrid.band_hatch_alpha = 0.6\n",
    "p.xgrid.band_hatch_color = \"lightgrey\"\n",
    "p.xgrid.band_hatch_weight = 0.5\n",
    "p.xgrid.band_hatch_scale = 10\n",
    "\n",
    "show(p)"
   ]
  },
  {
   "cell_type": "markdown",
   "metadata": {},
   "source": [
    "### Legends"
   ]
  },
  {
   "cell_type": "code",
   "execution_count": 72,
   "metadata": {
    "scrolled": true
   },
   "outputs": [
    {
     "data": {
      "text/plain": [
       "[]"
      ]
     },
     "execution_count": 72,
     "metadata": {},
     "output_type": "execute_result"
    }
   ],
   "source": [
    " p.legend"
   ]
  },
  {
   "cell_type": "code",
   "execution_count": 79,
   "metadata": {},
   "outputs": [
    {
     "data": {
      "text/html": [
       "\n",
       "\n",
       "\n",
       "\n",
       "\n",
       "\n",
       "  <div class=\"bk-root\" id=\"a805c9cb-5285-4560-b196-fdc249899b70\" data-root-id=\"20477\"></div>\n"
      ]
     },
     "metadata": {},
     "output_type": "display_data"
    },
    {
     "data": {
      "application/javascript": [
       "(function(root) {\n",
       "  function embed_document(root) {\n",
       "    \n",
       "  var docs_json = {\"8e11da9f-29d1-48ec-84f0-2fed5cbeb24a\":{\"roots\":{\"references\":[{\"attributes\":{\"below\":[{\"id\":\"20486\",\"type\":\"LinearAxis\"}],\"center\":[{\"id\":\"20490\",\"type\":\"Grid\"},{\"id\":\"20495\",\"type\":\"Grid\"},{\"id\":\"20516\",\"type\":\"Legend\"}],\"left\":[{\"id\":\"20491\",\"type\":\"LinearAxis\"}],\"renderers\":[{\"id\":\"20512\",\"type\":\"GlyphRenderer\"}],\"title\":{\"id\":\"21058\",\"type\":\"Title\"},\"toolbar\":{\"id\":\"20502\",\"type\":\"Toolbar\"},\"x_range\":{\"id\":\"20478\",\"type\":\"DataRange1d\"},\"x_scale\":{\"id\":\"20482\",\"type\":\"LinearScale\"},\"y_range\":{\"id\":\"20480\",\"type\":\"DataRange1d\"},\"y_scale\":{\"id\":\"20484\",\"type\":\"LinearScale\"}},\"id\":\"20477\",\"subtype\":\"Figure\",\"type\":\"Plot\"},{\"attributes\":{},\"id\":\"20484\",\"type\":\"LinearScale\"},{\"attributes\":{},\"id\":\"20496\",\"type\":\"PanTool\"},{\"attributes\":{},\"id\":\"20501\",\"type\":\"HelpTool\"},{\"attributes\":{},\"id\":\"20487\",\"type\":\"BasicTicker\"},{\"attributes\":{},\"id\":\"20500\",\"type\":\"ResetTool\"},{\"attributes\":{},\"id\":\"20492\",\"type\":\"BasicTicker\"},{\"attributes\":{\"data_source\":{\"id\":\"20509\",\"type\":\"ColumnDataSource\"},\"glyph\":{\"id\":\"20510\",\"type\":\"MultiLine\"},\"hover_glyph\":null,\"muted_glyph\":null,\"nonselection_glyph\":{\"id\":\"20511\",\"type\":\"MultiLine\"},\"selection_glyph\":null,\"view\":{\"id\":\"20513\",\"type\":\"CDSView\"}},\"id\":\"20512\",\"type\":\"GlyphRenderer\"},{\"attributes\":{\"formatter\":{\"id\":\"21061\",\"type\":\"BasicTickFormatter\"},\"ticker\":{\"id\":\"20487\",\"type\":\"BasicTicker\"}},\"id\":\"20486\",\"type\":\"LinearAxis\"},{\"attributes\":{},\"id\":\"21065\",\"type\":\"Selection\"},{\"attributes\":{\"items\":[{\"id\":\"20514\",\"type\":\"LegendItem\"},{\"id\":\"20515\",\"type\":\"LegendItem\"}]},\"id\":\"20516\",\"type\":\"Legend\"},{\"attributes\":{\"callback\":null},\"id\":\"20478\",\"type\":\"DataRange1d\"},{\"attributes\":{},\"id\":\"20482\",\"type\":\"LinearScale\"},{\"attributes\":{\"index\":1,\"label\":{\"value\":\"red\"},\"renderers\":[{\"id\":\"20512\",\"type\":\"GlyphRenderer\"}]},\"id\":\"20515\",\"type\":\"LegendItem\"},{\"attributes\":{\"callback\":null,\"data\":{\"line_color\":[\"orange\",\"red\"],\"xs\":[[1,2,3],[1,2,3]],\"ys\":[[1,3,2],[3,4,3]]},\"selected\":{\"id\":\"21065\",\"type\":\"Selection\"},\"selection_policy\":{\"id\":\"21064\",\"type\":\"UnionRenderers\"}},\"id\":\"20509\",\"type\":\"ColumnDataSource\"},{\"attributes\":{\"active_drag\":\"auto\",\"active_inspect\":\"auto\",\"active_multi\":null,\"active_scroll\":\"auto\",\"active_tap\":\"auto\",\"tools\":[{\"id\":\"20496\",\"type\":\"PanTool\"},{\"id\":\"20497\",\"type\":\"WheelZoomTool\"},{\"id\":\"20498\",\"type\":\"BoxZoomTool\"},{\"id\":\"20499\",\"type\":\"SaveTool\"},{\"id\":\"20500\",\"type\":\"ResetTool\"},{\"id\":\"20501\",\"type\":\"HelpTool\"}]},\"id\":\"20502\",\"type\":\"Toolbar\"},{\"attributes\":{\"callback\":null},\"id\":\"20480\",\"type\":\"DataRange1d\"},{\"attributes\":{\"line_color\":{\"field\":\"line_color\"},\"line_width\":{\"value\":4},\"xs\":{\"field\":\"xs\"},\"ys\":{\"field\":\"ys\"}},\"id\":\"20510\",\"type\":\"MultiLine\"},{\"attributes\":{\"text\":\"\"},\"id\":\"21058\",\"type\":\"Title\"},{\"attributes\":{\"index\":0,\"label\":{\"value\":\"orange\"},\"renderers\":[{\"id\":\"20512\",\"type\":\"GlyphRenderer\"}]},\"id\":\"20514\",\"type\":\"LegendItem\"},{\"attributes\":{\"line_alpha\":{\"value\":0.1},\"line_color\":{\"value\":\"#1f77b4\"},\"line_width\":{\"value\":4},\"xs\":{\"field\":\"xs\"},\"ys\":{\"field\":\"ys\"}},\"id\":\"20511\",\"type\":\"MultiLine\"},{\"attributes\":{},\"id\":\"21063\",\"type\":\"BasicTickFormatter\"},{\"attributes\":{},\"id\":\"21061\",\"type\":\"BasicTickFormatter\"},{\"attributes\":{\"ticker\":{\"id\":\"20487\",\"type\":\"BasicTicker\"}},\"id\":\"20490\",\"type\":\"Grid\"},{\"attributes\":{},\"id\":\"21064\",\"type\":\"UnionRenderers\"},{\"attributes\":{\"overlay\":{\"id\":\"21066\",\"type\":\"BoxAnnotation\"}},\"id\":\"20498\",\"type\":\"BoxZoomTool\"},{\"attributes\":{},\"id\":\"20499\",\"type\":\"SaveTool\"},{\"attributes\":{\"bottom_units\":\"screen\",\"fill_alpha\":{\"value\":0.5},\"fill_color\":{\"value\":\"lightgrey\"},\"left_units\":\"screen\",\"level\":\"overlay\",\"line_alpha\":{\"value\":1.0},\"line_color\":{\"value\":\"black\"},\"line_dash\":[4,4],\"line_width\":{\"value\":2},\"render_mode\":\"css\",\"right_units\":\"screen\",\"top_units\":\"screen\"},\"id\":\"21066\",\"type\":\"BoxAnnotation\"},{\"attributes\":{},\"id\":\"20497\",\"type\":\"WheelZoomTool\"},{\"attributes\":{\"dimension\":1,\"ticker\":{\"id\":\"20492\",\"type\":\"BasicTicker\"}},\"id\":\"20495\",\"type\":\"Grid\"},{\"attributes\":{\"formatter\":{\"id\":\"21063\",\"type\":\"BasicTickFormatter\"},\"ticker\":{\"id\":\"20492\",\"type\":\"BasicTicker\"}},\"id\":\"20491\",\"type\":\"LinearAxis\"},{\"attributes\":{\"source\":{\"id\":\"20509\",\"type\":\"ColumnDataSource\"}},\"id\":\"20513\",\"type\":\"CDSView\"}],\"root_ids\":[\"20477\"]},\"title\":\"Bokeh Application\",\"version\":\"1.4.0\"}};\n",
       "  var render_items = [{\"docid\":\"8e11da9f-29d1-48ec-84f0-2fed5cbeb24a\",\"roots\":{\"20477\":\"a805c9cb-5285-4560-b196-fdc249899b70\"}}];\n",
       "  root.Bokeh.embed.embed_items_notebook(docs_json, render_items);\n",
       "\n",
       "  }\n",
       "  if (root.Bokeh !== undefined) {\n",
       "    embed_document(root);\n",
       "  } else {\n",
       "    var attempts = 0;\n",
       "    var timer = setInterval(function(root) {\n",
       "      if (root.Bokeh !== undefined) {\n",
       "        clearInterval(timer);\n",
       "        embed_document(root);\n",
       "      } else {\n",
       "        attempts++;\n",
       "        if (attempts > 100) {\n",
       "          clearInterval(timer);\n",
       "          console.log(\"Bokeh: ERROR: Unable to run BokehJS code because BokehJS library is missing\");\n",
       "        }\n",
       "      }\n",
       "    }, 10, root)\n",
       "  }\n",
       "})(window);"
      ],
      "application/vnd.bokehjs_exec.v0+json": ""
     },
     "metadata": {
      "application/vnd.bokehjs_exec.v0+json": {
       "id": "20477"
      }
     },
     "output_type": "display_data"
    }
   ],
   "source": [
    "from bokeh.models import Legend, LegendItem\n",
    "\n",
    "p = figure()\n",
    "r = p.multi_line([[1,2,3], [1,2,3]], [[1,3,2], [3,4,3]],\n",
    "                 color=[\"orange\", \"red\"], line_width=4)\n",
    "\n",
    "legend = Legend(items=[\n",
    "    LegendItem(label=\"orange\", renderers=[r], index=0),\n",
    "    LegendItem(label=\"red\", renderers=[r], index=1),\n",
    "])\n",
    "p.add_layout(legend)\n",
    "\n",
    "show(p)"
   ]
  },
  {
   "cell_type": "code",
   "execution_count": 73,
   "metadata": {},
   "outputs": [],
   "source": [
    "import numpy as np"
   ]
  },
  {
   "cell_type": "code",
   "execution_count": 77,
   "metadata": {},
   "outputs": [
    {
     "data": {
      "text/html": [
       "\n",
       "\n",
       "\n",
       "\n",
       "\n",
       "\n",
       "  <div class=\"bk-root\" id=\"b92707f2-0512-495d-bd29-bd809b231d6f\" data-root-id=\"18976\"></div>\n"
      ]
     },
     "metadata": {},
     "output_type": "display_data"
    },
    {
     "data": {
      "application/javascript": [
       "(function(root) {\n",
       "  function embed_document(root) {\n",
       "    \n",
       "  var docs_json = {\"a2bb66fb-7ea2-4115-a91c-6365ba4d43d9\":{\"roots\":{\"references\":[{\"attributes\":{\"below\":[{\"id\":\"18985\",\"type\":\"LinearAxis\"}],\"center\":[{\"id\":\"18989\",\"type\":\"Grid\"},{\"id\":\"18994\",\"type\":\"Grid\"},{\"id\":\"19020\",\"type\":\"Legend\"}],\"left\":[{\"id\":\"18990\",\"type\":\"LinearAxis\"}],\"plot_height\":350,\"plot_width\":700,\"renderers\":[{\"id\":\"19011\",\"type\":\"GlyphRenderer\"},{\"id\":\"19025\",\"type\":\"GlyphRenderer\"},{\"id\":\"19039\",\"type\":\"GlyphRenderer\"},{\"id\":\"19056\",\"type\":\"GlyphRenderer\"},{\"id\":\"19075\",\"type\":\"GlyphRenderer\"}],\"title\":{\"id\":\"19013\",\"type\":\"Title\"},\"toolbar\":{\"id\":\"19001\",\"type\":\"Toolbar\"},\"x_range\":{\"id\":\"18977\",\"type\":\"DataRange1d\"},\"x_scale\":{\"id\":\"18981\",\"type\":\"LinearScale\"},\"y_range\":{\"id\":\"18979\",\"type\":\"DataRange1d\"},\"y_scale\":{\"id\":\"18983\",\"type\":\"LinearScale\"}},\"id\":\"18976\",\"subtype\":\"Figure\",\"type\":\"Plot\"},{\"attributes\":{\"callback\":null,\"data\":{\"x\":{\"__ndarray__\":\"AAAAAAAAAACRGkt8Vz/AP5EaS3xXP9A/2qdwOgNf2D+RGkt8Vz/gPzXhXVstT+Q/2qdwOgNf6D9+boMZ2W7sP5EaS3xXP/A/433Ua0JH8j814V1bLU/0P4dE50oYV/Y/2qdwOgNf+D8sC/op7mb6P35ugxnZbvw/0NEMCcR2/j+RGkt8Vz8AQDrMD/RMQwFA433Ua0JHAkCML5njN0sDQDXhXVstTwRA3pIi0yJTBUCHROdKGFcGQDD2q8INWwdA2qdwOgNfCECDWTWy+GIJQCwL+inuZgpA1by+oeNqC0B+boMZ2W4MQCcgSJHOcg1A0NEMCcR2DkB5g9GAuXoPQJEaS3xXPxBAZnMtOFLBEEA6zA/0TEMRQA8l8q9HxRFA433Ua0JHEkC41rYnPckSQIwvmeM3SxNAYYh7nzLNE0A14V1bLU8UQAo6QBco0RRA3pIi0yJTFUCz6wSPHdUVQIdE50oYVxZAXJ3JBhPZFkAw9qvCDVsXQAVPjn4I3RdA2qdwOgNfGECuAFP2/eAYQINZNbL4YhlAV7IXbvPkGUAsC/op7mYaQABk3OXo6BpA1by+oeNqG0CpFaFd3uwbQH5ugxnZbhxAUsdl1dPwHEAnIEiRznIdQPt4Kk3J9B1A0NEMCcR2HkCkKu/EvvgeQHmD0YC5eh9ATdyzPLT8H0CRGkt8Vz8gQPtGPNpUgCBAZnMtOFLBIEDQnx6WTwIhQDrMD/RMQyFApPgAUkqEIUAPJfKvR8UhQHlR4w1FBiJA433Ua0JHIkBNqsXJP4giQLjWtic9ySJAIgOohToKI0CML5njN0sjQPZbikE1jCNAYYh7nzLNI0DLtGz9Lw4kQDXhXVstTyRAoA1PuSqQJEAKOkAXKNEkQHRmMXUlEiVA3pIi0yJTJUBJvxMxIJQlQLPrBI8d1SVAHRj27BoWJkCHROdKGFcmQPJw2KgVmCZAXJ3JBhPZJkDGybpkEBonQDD2q8INWydAmyKdIAucJ0AFT45+CN0nQG97f9wFHihA2qdwOgNfKEBE1GGYAKAoQK4AU/b94ChAGC1EVPshKUA=\",\"dtype\":\"float64\",\"shape\":[100]},\"y\":{\"__ndarray__\":\"AAAAAAAAAADoxQO0RU7YP+dMxoI2HOg//C5K/vzW8T/Tua6vYlb3P+nH5xKndfw/AFIvb9iPAEBm8BjVpKACQNka5Ym2ZARADqEya8fUBUD+Gu1b6+oGQBHVYKmoogdAYgGEegr5B0DMzIX9rOwHQM+xeSHDfQdA1L6JxBWuBkB9BRBa/IAFQO0A3yZP+wNAeZ5rTFMjAkDe5Qz1oAAAQDnpZxcIOPs/tv7u/6/+9T/6iGdXvmrwP2wf+wVaJuU/5X710zFA0j+uSTsu9124v2QnUqkVVt6/o9Qx/NsL679m4Ulpoj7zvxQdiFoRqPi/bDUKCPCr/b/J7VIByxoBwPGhyyYpGQPAgTlCLtzIBMCuGkzd8SIGwAOBBKLYIQfAMzIqg3bBB8BzaxsFOv8HwKfUGL4k2gfAJ8c7bs9SB8BSNUOKZ2sGwCX1VkOmJwXAMfGzMMGMA8AkU27aVKEBwC4hWvuS2v6/DwQZ9WTz+b9lsKPjUaH0v8Yvs7GI9O2/YIF44Akr4r8GSRAz01rIvzJJEDPTWsg/aoF44Akr4j/QL7OxiPTtP1+wo+NRofQ/FAQZ9WTz+T8oIVr7ktr+PyVTbtpUoQFAMPGzMMGMA0Am9VZDpicFQFE1Q4pnawZAKMc7bs9SB0Cn1Bi+JNoHQHNrGwU6/wdANDIqg3bBB0ACgQSi2CEHQLAaTN3xIgZAfTlCLtzIBEDwocsmKRkDQMntUgHLGgFAcTUKCPCr/T8MHYhaEaj4P2HhSWmiPvM/pNQx/NsL6z99J1KpFVbeP/ZIOy73Xbg/+n710zFA0r9fH/sFWiblv+6IZ1e+avC/uv7u/6/+9b846WcXCDj7v9vlDPWgAADAfJ5rTFMjAsDuAN8mT/sDwH0FEFr8gAXA076JxBWuBsDQsXkhw30HwMzMhf2s7AfAYgGEegr5B8AS1WCpqKIHwPwa7Vvr6gbADqEya8fUBcDaGuWJtmQEwGnwGNWkoALA/VEvb9iPAMDpx+cSp3X8v9e5rq9iVve/8C5K/vzW8b/bTMaCNhzov+rFA7RFTti/CoqeTDl52rw=\",\"dtype\":\"float64\",\"shape\":[100]}},\"selected\":{\"id\":\"19090\",\"type\":\"Selection\"},\"selection_policy\":{\"id\":\"19089\",\"type\":\"UnionRenderers\"}},\"id\":\"19053\",\"type\":\"ColumnDataSource\"},{\"attributes\":{\"active_drag\":\"auto\",\"active_inspect\":\"auto\",\"active_multi\":null,\"active_scroll\":\"auto\",\"active_tap\":\"auto\",\"tools\":[{\"id\":\"18995\",\"type\":\"PanTool\"},{\"id\":\"18996\",\"type\":\"WheelZoomTool\"},{\"id\":\"18997\",\"type\":\"BoxZoomTool\"},{\"id\":\"18998\",\"type\":\"SaveTool\"},{\"id\":\"18999\",\"type\":\"ResetTool\"},{\"id\":\"19000\",\"type\":\"HelpTool\"}]},\"id\":\"19001\",\"type\":\"Toolbar\"},{\"attributes\":{\"data_source\":{\"id\":\"19053\",\"type\":\"ColumnDataSource\"},\"glyph\":{\"id\":\"19054\",\"type\":\"Square\"},\"hover_glyph\":null,\"muted_glyph\":null,\"nonselection_glyph\":{\"id\":\"19055\",\"type\":\"Square\"},\"selection_glyph\":null,\"view\":{\"id\":\"19057\",\"type\":\"CDSView\"}},\"id\":\"19056\",\"type\":\"GlyphRenderer\"},{\"attributes\":{\"line_color\":\"orange\",\"line_dash\":[4,4],\"line_width\":2,\"x\":{\"field\":\"x\"},\"y\":{\"field\":\"y\"}},\"id\":\"19037\",\"type\":\"Line\"},{\"attributes\":{\"data_source\":{\"id\":\"19008\",\"type\":\"ColumnDataSource\"},\"glyph\":{\"id\":\"19009\",\"type\":\"Circle\"},\"hover_glyph\":null,\"muted_glyph\":null,\"nonselection_glyph\":{\"id\":\"19010\",\"type\":\"Circle\"},\"selection_glyph\":null,\"view\":{\"id\":\"19012\",\"type\":\"CDSView\"}},\"id\":\"19011\",\"type\":\"GlyphRenderer\"},{\"attributes\":{},\"id\":\"18995\",\"type\":\"PanTool\"},{\"attributes\":{},\"id\":\"19068\",\"type\":\"UnionRenderers\"},{\"attributes\":{\"label\":{\"value\":\"3*sin(x)\"},\"renderers\":[{\"id\":\"19056\",\"type\":\"GlyphRenderer\"},{\"id\":\"19075\",\"type\":\"GlyphRenderer\"}]},\"id\":\"19071\",\"type\":\"LegendItem\"},{\"attributes\":{},\"id\":\"18996\",\"type\":\"WheelZoomTool\"},{\"attributes\":{},\"id\":\"18981\",\"type\":\"LinearScale\"},{\"attributes\":{\"overlay\":{\"id\":\"19019\",\"type\":\"BoxAnnotation\"}},\"id\":\"18997\",\"type\":\"BoxZoomTool\"},{\"attributes\":{},\"id\":\"18998\",\"type\":\"SaveTool\"},{\"attributes\":{},\"id\":\"19069\",\"type\":\"Selection\"},{\"attributes\":{\"source\":{\"id\":\"19022\",\"type\":\"ColumnDataSource\"}},\"id\":\"19026\",\"type\":\"CDSView\"},{\"attributes\":{\"callback\":null,\"data\":{\"x\":{\"__ndarray__\":\"AAAAAAAAAACRGkt8Vz/AP5EaS3xXP9A/2qdwOgNf2D+RGkt8Vz/gPzXhXVstT+Q/2qdwOgNf6D9+boMZ2W7sP5EaS3xXP/A/433Ua0JH8j814V1bLU/0P4dE50oYV/Y/2qdwOgNf+D8sC/op7mb6P35ugxnZbvw/0NEMCcR2/j+RGkt8Vz8AQDrMD/RMQwFA433Ua0JHAkCML5njN0sDQDXhXVstTwRA3pIi0yJTBUCHROdKGFcGQDD2q8INWwdA2qdwOgNfCECDWTWy+GIJQCwL+inuZgpA1by+oeNqC0B+boMZ2W4MQCcgSJHOcg1A0NEMCcR2DkB5g9GAuXoPQJEaS3xXPxBAZnMtOFLBEEA6zA/0TEMRQA8l8q9HxRFA433Ua0JHEkC41rYnPckSQIwvmeM3SxNAYYh7nzLNE0A14V1bLU8UQAo6QBco0RRA3pIi0yJTFUCz6wSPHdUVQIdE50oYVxZAXJ3JBhPZFkAw9qvCDVsXQAVPjn4I3RdA2qdwOgNfGECuAFP2/eAYQINZNbL4YhlAV7IXbvPkGUAsC/op7mYaQABk3OXo6BpA1by+oeNqG0CpFaFd3uwbQH5ugxnZbhxAUsdl1dPwHEAnIEiRznIdQPt4Kk3J9B1A0NEMCcR2HkCkKu/EvvgeQHmD0YC5eh9ATdyzPLT8H0CRGkt8Vz8gQPtGPNpUgCBAZnMtOFLBIEDQnx6WTwIhQDrMD/RMQyFApPgAUkqEIUAPJfKvR8UhQHlR4w1FBiJA433Ua0JHIkBNqsXJP4giQLjWtic9ySJAIgOohToKI0CML5njN0sjQPZbikE1jCNAYYh7nzLNI0DLtGz9Lw4kQDXhXVstTyRAoA1PuSqQJEAKOkAXKNEkQHRmMXUlEiVA3pIi0yJTJUBJvxMxIJQlQLPrBI8d1SVAHRj27BoWJkCHROdKGFcmQPJw2KgVmCZAXJ3JBhPZJkDGybpkEBonQDD2q8INWydAmyKdIAucJ0AFT45+CN0nQG97f9wFHihA2qdwOgNfKEBE1GGYAKAoQK4AU/b94ChAGC1EVPshKUA=\",\"dtype\":\"float64\",\"shape\":[100]},\"y\":{\"__ndarray__\":\"AAAAAAAAAADoxQO0RU7YP+dMxoI2HOg//C5K/vzW8T/Tua6vYlb3P+nH5xKndfw/AFIvb9iPAEBm8BjVpKACQNka5Ym2ZARADqEya8fUBUD+Gu1b6+oGQBHVYKmoogdAYgGEegr5B0DMzIX9rOwHQM+xeSHDfQdA1L6JxBWuBkB9BRBa/IAFQO0A3yZP+wNAeZ5rTFMjAkDe5Qz1oAAAQDnpZxcIOPs/tv7u/6/+9T/6iGdXvmrwP2wf+wVaJuU/5X710zFA0j+uSTsu9124v2QnUqkVVt6/o9Qx/NsL679m4Ulpoj7zvxQdiFoRqPi/bDUKCPCr/b/J7VIByxoBwPGhyyYpGQPAgTlCLtzIBMCuGkzd8SIGwAOBBKLYIQfAMzIqg3bBB8BzaxsFOv8HwKfUGL4k2gfAJ8c7bs9SB8BSNUOKZ2sGwCX1VkOmJwXAMfGzMMGMA8AkU27aVKEBwC4hWvuS2v6/DwQZ9WTz+b9lsKPjUaH0v8Yvs7GI9O2/YIF44Akr4r8GSRAz01rIvzJJEDPTWsg/aoF44Akr4j/QL7OxiPTtP1+wo+NRofQ/FAQZ9WTz+T8oIVr7ktr+PyVTbtpUoQFAMPGzMMGMA0Am9VZDpicFQFE1Q4pnawZAKMc7bs9SB0Cn1Bi+JNoHQHNrGwU6/wdANDIqg3bBB0ACgQSi2CEHQLAaTN3xIgZAfTlCLtzIBEDwocsmKRkDQMntUgHLGgFAcTUKCPCr/T8MHYhaEaj4P2HhSWmiPvM/pNQx/NsL6z99J1KpFVbeP/ZIOy73Xbg/+n710zFA0r9fH/sFWiblv+6IZ1e+avC/uv7u/6/+9b846WcXCDj7v9vlDPWgAADAfJ5rTFMjAsDuAN8mT/sDwH0FEFr8gAXA076JxBWuBsDQsXkhw30HwMzMhf2s7AfAYgGEegr5B8AS1WCpqKIHwPwa7Vvr6gbADqEya8fUBcDaGuWJtmQEwGnwGNWkoALA/VEvb9iPAMDpx+cSp3X8v9e5rq9iVve/8C5K/vzW8b/bTMaCNhzov+rFA7RFTti/CoqeTDl52rw=\",\"dtype\":\"float64\",\"shape\":[100]}},\"selected\":{\"id\":\"19614\",\"type\":\"Selection\"},\"selection_policy\":{\"id\":\"19613\",\"type\":\"UnionRenderers\"}},\"id\":\"19072\",\"type\":\"ColumnDataSource\"},{\"attributes\":{},\"id\":\"19613\",\"type\":\"UnionRenderers\"},{\"attributes\":{\"source\":{\"id\":\"19072\",\"type\":\"ColumnDataSource\"}},\"id\":\"19076\",\"type\":\"CDSView\"},{\"attributes\":{\"line_alpha\":0.1,\"line_color\":\"#1f77b4\",\"x\":{\"field\":\"x\"},\"y\":{\"field\":\"y\"}},\"id\":\"19074\",\"type\":\"Line\"},{\"attributes\":{},\"id\":\"18999\",\"type\":\"ResetTool\"},{\"attributes\":{\"source\":{\"id\":\"19008\",\"type\":\"ColumnDataSource\"}},\"id\":\"19012\",\"type\":\"CDSView\"},{\"attributes\":{},\"id\":\"18986\",\"type\":\"BasicTicker\"},{\"attributes\":{\"data_source\":{\"id\":\"19072\",\"type\":\"ColumnDataSource\"},\"glyph\":{\"id\":\"19073\",\"type\":\"Line\"},\"hover_glyph\":null,\"muted_glyph\":null,\"nonselection_glyph\":{\"id\":\"19074\",\"type\":\"Line\"},\"selection_glyph\":null,\"view\":{\"id\":\"19076\",\"type\":\"CDSView\"}},\"id\":\"19075\",\"type\":\"GlyphRenderer\"},{\"attributes\":{\"callback\":null,\"data\":{\"x\":{\"__ndarray__\":\"AAAAAAAAAACRGkt8Vz/AP5EaS3xXP9A/2qdwOgNf2D+RGkt8Vz/gPzXhXVstT+Q/2qdwOgNf6D9+boMZ2W7sP5EaS3xXP/A/433Ua0JH8j814V1bLU/0P4dE50oYV/Y/2qdwOgNf+D8sC/op7mb6P35ugxnZbvw/0NEMCcR2/j+RGkt8Vz8AQDrMD/RMQwFA433Ua0JHAkCML5njN0sDQDXhXVstTwRA3pIi0yJTBUCHROdKGFcGQDD2q8INWwdA2qdwOgNfCECDWTWy+GIJQCwL+inuZgpA1by+oeNqC0B+boMZ2W4MQCcgSJHOcg1A0NEMCcR2DkB5g9GAuXoPQJEaS3xXPxBAZnMtOFLBEEA6zA/0TEMRQA8l8q9HxRFA433Ua0JHEkC41rYnPckSQIwvmeM3SxNAYYh7nzLNE0A14V1bLU8UQAo6QBco0RRA3pIi0yJTFUCz6wSPHdUVQIdE50oYVxZAXJ3JBhPZFkAw9qvCDVsXQAVPjn4I3RdA2qdwOgNfGECuAFP2/eAYQINZNbL4YhlAV7IXbvPkGUAsC/op7mYaQABk3OXo6BpA1by+oeNqG0CpFaFd3uwbQH5ugxnZbhxAUsdl1dPwHEAnIEiRznIdQPt4Kk3J9B1A0NEMCcR2HkCkKu/EvvgeQHmD0YC5eh9ATdyzPLT8H0CRGkt8Vz8gQPtGPNpUgCBAZnMtOFLBIEDQnx6WTwIhQDrMD/RMQyFApPgAUkqEIUAPJfKvR8UhQHlR4w1FBiJA433Ua0JHIkBNqsXJP4giQLjWtic9ySJAIgOohToKI0CML5njN0sjQPZbikE1jCNAYYh7nzLNI0DLtGz9Lw4kQDXhXVstTyRAoA1PuSqQJEAKOkAXKNEkQHRmMXUlEiVA3pIi0yJTJUBJvxMxIJQlQLPrBI8d1SVAHRj27BoWJkCHROdKGFcmQPJw2KgVmCZAXJ3JBhPZJkDGybpkEBonQDD2q8INWydAmyKdIAucJ0AFT45+CN0nQG97f9wFHihA2qdwOgNfKEBE1GGYAKAoQK4AU/b94ChAGC1EVPshKUA=\",\"dtype\":\"float64\",\"shape\":[100]},\"y\":{\"__ndarray__\":\"AAAAAAAAAADwgwJ4LjTAP5qI2QHPEtA/+5MNU1HJ1z8ZTT7q2B3fP0aFmgwa+eI/ABg/lCAV5j+IQCEcMdboP3fOhmLzMOs/EyzujrQb7T/9Izwlj47uPxccgYyLg+8/g6xao7j27z9mZrL8O+bvP7+X94FZUu8/xVNiW3I97j9RB8Ai+6vsP5FWKYlppOo/oSg6uxkv6D/Th2bxK1blPyZGRbpaJeI/8qg+VZVT3T/4C4p0qOPVP+UppLIiM8w/3FNHxZdVuD/J23zJpD6gv+3ENsZjOcS/wo12/ecH0r/dgWKM2KjZv2MTsJELcOC/83ixWvXH47+358MBZM7mv5eCD4nhdum/rExY6Hq267+TIxAn7YPtvwSssILL1+6/70I4BJ6s77/vOc8G+P7vvzTGy1KGze+/3176khQZ77/C8a4NiuTtvzGcHq/dNOy/l0FFlgER6r+FGZN4xoHnvx8WPFK3keS/Cli7+O1M4b+HQNqEwoHbv9kfIiFb+NO/gKyggGI5yL8EhrXMjDywvyGGtcyMPLA/jqyggGI5yD/gHyIhW/jTP39A2oTCgds/DVi7+O1M4T8bFjxSt5HkP4cZk3jGgec/lUFFlgER6j8ynB6v3TTsP8Hxrg2K5O0/4F76khQZ7z80xstShs3vP+85zwb4/u8/8EI4BJ6s7z8DrLCCy9fuP5UjECftg+0/p0xY6Hq26z+Vgg+J4XbpP7fnwwFkzuY/9nixWvXH4z9dE7CRC3DgP9eBYozYqNk/w412/ecH0j/+xDbGYznEP0/bfMmkPqA/+FNHxZdVuL/UKaSyIjPMv+gLinSo49W/+Kg+VZVT3b8lRkW6WiXiv8+HZvErVuW/pig6uxkv6L+TVimJaaTqv1EHwCL7q+y/xFNiW3I97r/Al/eBWVLvv2Zmsvw75u+/g6xao7j2778YHIGMi4Pvv/sjPCWPju6/EyzujrQb7b94zoZi8zDrv4xAIRwx1ui//Bc/lCAV5r9GhZoMGvnivx9NPurYHd+/65MNU1HJ17+SiNkBzxLQv/GDAnguNMC/B1wUMyamwbw=\",\"dtype\":\"float64\",\"shape\":[100]}},\"selected\":{\"id\":\"19034\",\"type\":\"Selection\"},\"selection_policy\":{\"id\":\"19033\",\"type\":\"UnionRenderers\"}},\"id\":\"19008\",\"type\":\"ColumnDataSource\"},{\"attributes\":{\"fill_color\":{\"value\":null},\"line_color\":{\"value\":\"green\"},\"x\":{\"field\":\"x\"},\"y\":{\"field\":\"y\"}},\"id\":\"19054\",\"type\":\"Square\"},{\"attributes\":{\"label\":{\"value\":\"2*sin(x)\"},\"renderers\":[{\"id\":\"19039\",\"type\":\"GlyphRenderer\"}]},\"id\":\"19052\",\"type\":\"LegendItem\"},{\"attributes\":{\"data_source\":{\"id\":\"19022\",\"type\":\"ColumnDataSource\"},\"glyph\":{\"id\":\"19023\",\"type\":\"Line\"},\"hover_glyph\":null,\"muted_glyph\":null,\"nonselection_glyph\":{\"id\":\"19024\",\"type\":\"Line\"},\"selection_glyph\":null,\"view\":{\"id\":\"19026\",\"type\":\"CDSView\"}},\"id\":\"19025\",\"type\":\"GlyphRenderer\"},{\"attributes\":{},\"id\":\"19000\",\"type\":\"HelpTool\"},{\"attributes\":{\"dimension\":1,\"ticker\":{\"id\":\"18991\",\"type\":\"BasicTicker\"}},\"id\":\"18994\",\"type\":\"Grid\"},{\"attributes\":{\"text\":\"\"},\"id\":\"19013\",\"type\":\"Title\"},{\"attributes\":{\"callback\":null},\"id\":\"18977\",\"type\":\"DataRange1d\"},{\"attributes\":{\"fill_alpha\":{\"value\":0.1},\"fill_color\":{\"value\":\"#1f77b4\"},\"line_alpha\":{\"value\":0.1},\"line_color\":{\"value\":\"#1f77b4\"},\"x\":{\"field\":\"x\"},\"y\":{\"field\":\"y\"}},\"id\":\"19010\",\"type\":\"Circle\"},{\"attributes\":{\"line_color\":\"#1f77b4\",\"x\":{\"field\":\"x\"},\"y\":{\"field\":\"y\"}},\"id\":\"19023\",\"type\":\"Line\"},{\"attributes\":{\"items\":[{\"id\":\"19021\",\"type\":\"LegendItem\"},{\"id\":\"19052\",\"type\":\"LegendItem\"},{\"id\":\"19071\",\"type\":\"LegendItem\"}],\"location\":\"bottom_left\"},\"id\":\"19020\",\"type\":\"Legend\"},{\"attributes\":{},\"id\":\"19049\",\"type\":\"UnionRenderers\"},{\"attributes\":{\"bottom_units\":\"screen\",\"fill_alpha\":{\"value\":0.5},\"fill_color\":{\"value\":\"lightgrey\"},\"left_units\":\"screen\",\"level\":\"overlay\",\"line_alpha\":{\"value\":1.0},\"line_color\":{\"value\":\"black\"},\"line_dash\":[4,4],\"line_width\":{\"value\":2},\"render_mode\":\"css\",\"right_units\":\"screen\",\"top_units\":\"screen\"},\"id\":\"19019\",\"type\":\"BoxAnnotation\"},{\"attributes\":{\"formatter\":{\"id\":\"19016\",\"type\":\"BasicTickFormatter\"},\"ticker\":{\"id\":\"18986\",\"type\":\"BasicTicker\"}},\"id\":\"18985\",\"type\":\"LinearAxis\"},{\"attributes\":{\"line_alpha\":0.1,\"line_color\":\"#1f77b4\",\"x\":{\"field\":\"x\"},\"y\":{\"field\":\"y\"}},\"id\":\"19024\",\"type\":\"Line\"},{\"attributes\":{},\"id\":\"19016\",\"type\":\"BasicTickFormatter\"},{\"attributes\":{},\"id\":\"19018\",\"type\":\"BasicTickFormatter\"},{\"attributes\":{},\"id\":\"19614\",\"type\":\"Selection\"},{\"attributes\":{\"fill_color\":{\"value\":\"#1f77b4\"},\"line_color\":{\"value\":\"#1f77b4\"},\"x\":{\"field\":\"x\"},\"y\":{\"field\":\"y\"}},\"id\":\"19009\",\"type\":\"Circle\"},{\"attributes\":{\"label\":{\"value\":\"sin(x)\"},\"renderers\":[{\"id\":\"19011\",\"type\":\"GlyphRenderer\"},{\"id\":\"19025\",\"type\":\"GlyphRenderer\"}]},\"id\":\"19021\",\"type\":\"LegendItem\"},{\"attributes\":{\"callback\":null},\"id\":\"18979\",\"type\":\"DataRange1d\"},{\"attributes\":{\"callback\":null,\"data\":{\"x\":{\"__ndarray__\":\"AAAAAAAAAACRGkt8Vz/AP5EaS3xXP9A/2qdwOgNf2D+RGkt8Vz/gPzXhXVstT+Q/2qdwOgNf6D9+boMZ2W7sP5EaS3xXP/A/433Ua0JH8j814V1bLU/0P4dE50oYV/Y/2qdwOgNf+D8sC/op7mb6P35ugxnZbvw/0NEMCcR2/j+RGkt8Vz8AQDrMD/RMQwFA433Ua0JHAkCML5njN0sDQDXhXVstTwRA3pIi0yJTBUCHROdKGFcGQDD2q8INWwdA2qdwOgNfCECDWTWy+GIJQCwL+inuZgpA1by+oeNqC0B+boMZ2W4MQCcgSJHOcg1A0NEMCcR2DkB5g9GAuXoPQJEaS3xXPxBAZnMtOFLBEEA6zA/0TEMRQA8l8q9HxRFA433Ua0JHEkC41rYnPckSQIwvmeM3SxNAYYh7nzLNE0A14V1bLU8UQAo6QBco0RRA3pIi0yJTFUCz6wSPHdUVQIdE50oYVxZAXJ3JBhPZFkAw9qvCDVsXQAVPjn4I3RdA2qdwOgNfGECuAFP2/eAYQINZNbL4YhlAV7IXbvPkGUAsC/op7mYaQABk3OXo6BpA1by+oeNqG0CpFaFd3uwbQH5ugxnZbhxAUsdl1dPwHEAnIEiRznIdQPt4Kk3J9B1A0NEMCcR2HkCkKu/EvvgeQHmD0YC5eh9ATdyzPLT8H0CRGkt8Vz8gQPtGPNpUgCBAZnMtOFLBIEDQnx6WTwIhQDrMD/RMQyFApPgAUkqEIUAPJfKvR8UhQHlR4w1FBiJA433Ua0JHIkBNqsXJP4giQLjWtic9ySJAIgOohToKI0CML5njN0sjQPZbikE1jCNAYYh7nzLNI0DLtGz9Lw4kQDXhXVstTyRAoA1PuSqQJEAKOkAXKNEkQHRmMXUlEiVA3pIi0yJTJUBJvxMxIJQlQLPrBI8d1SVAHRj27BoWJkCHROdKGFcmQPJw2KgVmCZAXJ3JBhPZJkDGybpkEBonQDD2q8INWydAmyKdIAucJ0AFT45+CN0nQG97f9wFHihA2qdwOgNfKEBE1GGYAKAoQK4AU/b94ChAGC1EVPshKUA=\",\"dtype\":\"float64\",\"shape\":[100]},\"y\":{\"__ndarray__\":\"AAAAAAAAAADwgwJ4LjTQP5qI2QHPEuA/+5MNU1HJ5z8ZTT7q2B3vP0aFmgwa+fI/ABg/lCAV9j+IQCEcMdb4P3fOhmLzMPs/EyzujrQb/T/9Izwlj47+PxccgYyLg/8/g6xao7j2/z9mZrL8O+b/P7+X94FZUv8/xVNiW3I9/j9RB8Ai+6v8P5FWKYlppPo/oSg6uxkv+D/Th2bxK1b1PyZGRbpaJfI/8qg+VZVT7T/4C4p0qOPlP+UppLIiM9w/3FNHxZdVyD/J23zJpD6wv+3ENsZjOdS/wo12/ecH4r/dgWKM2Kjpv2MTsJELcPC/83ixWvXH87+358MBZM72v5eCD4nhdvm/rExY6Hq2+7+TIxAn7YP9vwSssILL1/6/70I4BJ6s/7/vOc8G+P7/vzTGy1KGzf+/3176khQZ/7/C8a4NiuT9vzGcHq/dNPy/l0FFlgER+r+FGZN4xoH3vx8WPFK3kfS/Cli7+O1M8b+HQNqEwoHrv9kfIiFb+OO/gKyggGI52L8EhrXMjDzAvyGGtcyMPMA/jqyggGI52D/gHyIhW/jjP39A2oTCges/DVi7+O1M8T8bFjxSt5H0P4cZk3jGgfc/lUFFlgER+j8ynB6v3TT8P8Hxrg2K5P0/4F76khQZ/z80xstShs3/P+85zwb4/v8/8EI4BJ6s/z8DrLCCy9f+P5UjECftg/0/p0xY6Hq2+z+Vgg+J4Xb5P7fnwwFkzvY/9nixWvXH8z9dE7CRC3DwP9eBYozYqOk/w412/ecH4j/+xDbGYznUP0/bfMmkPrA/+FNHxZdVyL/UKaSyIjPcv+gLinSo4+W/+Kg+VZVT7b8lRkW6WiXyv8+HZvErVvW/pig6uxkv+L+TVimJaaT6v1EHwCL7q/y/xFNiW3I9/r/Al/eBWVL/v2Zmsvw75v+/g6xao7j2/78YHIGMi4P/v/sjPCWPjv6/EyzujrQb/b94zoZi8zD7v4xAIRwx1vi//Bc/lCAV9r9GhZoMGvnyvx9NPurYHe+/65MNU1HJ57+SiNkBzxLgv/GDAnguNNC/B1wUMyam0bw=\",\"dtype\":\"float64\",\"shape\":[100]}},\"selected\":{\"id\":\"19069\",\"type\":\"Selection\"},\"selection_policy\":{\"id\":\"19068\",\"type\":\"UnionRenderers\"}},\"id\":\"19036\",\"type\":\"ColumnDataSource\"},{\"attributes\":{\"callback\":null,\"data\":{\"x\":{\"__ndarray__\":\"AAAAAAAAAACRGkt8Vz/AP5EaS3xXP9A/2qdwOgNf2D+RGkt8Vz/gPzXhXVstT+Q/2qdwOgNf6D9+boMZ2W7sP5EaS3xXP/A/433Ua0JH8j814V1bLU/0P4dE50oYV/Y/2qdwOgNf+D8sC/op7mb6P35ugxnZbvw/0NEMCcR2/j+RGkt8Vz8AQDrMD/RMQwFA433Ua0JHAkCML5njN0sDQDXhXVstTwRA3pIi0yJTBUCHROdKGFcGQDD2q8INWwdA2qdwOgNfCECDWTWy+GIJQCwL+inuZgpA1by+oeNqC0B+boMZ2W4MQCcgSJHOcg1A0NEMCcR2DkB5g9GAuXoPQJEaS3xXPxBAZnMtOFLBEEA6zA/0TEMRQA8l8q9HxRFA433Ua0JHEkC41rYnPckSQIwvmeM3SxNAYYh7nzLNE0A14V1bLU8UQAo6QBco0RRA3pIi0yJTFUCz6wSPHdUVQIdE50oYVxZAXJ3JBhPZFkAw9qvCDVsXQAVPjn4I3RdA2qdwOgNfGECuAFP2/eAYQINZNbL4YhlAV7IXbvPkGUAsC/op7mYaQABk3OXo6BpA1by+oeNqG0CpFaFd3uwbQH5ugxnZbhxAUsdl1dPwHEAnIEiRznIdQPt4Kk3J9B1A0NEMCcR2HkCkKu/EvvgeQHmD0YC5eh9ATdyzPLT8H0CRGkt8Vz8gQPtGPNpUgCBAZnMtOFLBIEDQnx6WTwIhQDrMD/RMQyFApPgAUkqEIUAPJfKvR8UhQHlR4w1FBiJA433Ua0JHIkBNqsXJP4giQLjWtic9ySJAIgOohToKI0CML5njN0sjQPZbikE1jCNAYYh7nzLNI0DLtGz9Lw4kQDXhXVstTyRAoA1PuSqQJEAKOkAXKNEkQHRmMXUlEiVA3pIi0yJTJUBJvxMxIJQlQLPrBI8d1SVAHRj27BoWJkCHROdKGFcmQPJw2KgVmCZAXJ3JBhPZJkDGybpkEBonQDD2q8INWydAmyKdIAucJ0AFT45+CN0nQG97f9wFHihA2qdwOgNfKEBE1GGYAKAoQK4AU/b94ChAGC1EVPshKUA=\",\"dtype\":\"float64\",\"shape\":[100]},\"y\":{\"__ndarray__\":\"AAAAAAAAAADwgwJ4LjTAP5qI2QHPEtA/+5MNU1HJ1z8ZTT7q2B3fP0aFmgwa+eI/ABg/lCAV5j+IQCEcMdboP3fOhmLzMOs/EyzujrQb7T/9Izwlj47uPxccgYyLg+8/g6xao7j27z9mZrL8O+bvP7+X94FZUu8/xVNiW3I97j9RB8Ai+6vsP5FWKYlppOo/oSg6uxkv6D/Th2bxK1blPyZGRbpaJeI/8qg+VZVT3T/4C4p0qOPVP+UppLIiM8w/3FNHxZdVuD/J23zJpD6gv+3ENsZjOcS/wo12/ecH0r/dgWKM2KjZv2MTsJELcOC/83ixWvXH47+358MBZM7mv5eCD4nhdum/rExY6Hq267+TIxAn7YPtvwSssILL1+6/70I4BJ6s77/vOc8G+P7vvzTGy1KGze+/3176khQZ77/C8a4NiuTtvzGcHq/dNOy/l0FFlgER6r+FGZN4xoHnvx8WPFK3keS/Cli7+O1M4b+HQNqEwoHbv9kfIiFb+NO/gKyggGI5yL8EhrXMjDywvyGGtcyMPLA/jqyggGI5yD/gHyIhW/jTP39A2oTCgds/DVi7+O1M4T8bFjxSt5HkP4cZk3jGgec/lUFFlgER6j8ynB6v3TTsP8Hxrg2K5O0/4F76khQZ7z80xstShs3vP+85zwb4/u8/8EI4BJ6s7z8DrLCCy9fuP5UjECftg+0/p0xY6Hq26z+Vgg+J4XbpP7fnwwFkzuY/9nixWvXH4z9dE7CRC3DgP9eBYozYqNk/w412/ecH0j/+xDbGYznEP0/bfMmkPqA/+FNHxZdVuL/UKaSyIjPMv+gLinSo49W/+Kg+VZVT3b8lRkW6WiXiv8+HZvErVuW/pig6uxkv6L+TVimJaaTqv1EHwCL7q+y/xFNiW3I97r/Al/eBWVLvv2Zmsvw75u+/g6xao7j2778YHIGMi4Pvv/sjPCWPju6/EyzujrQb7b94zoZi8zDrv4xAIRwx1ui//Bc/lCAV5r9GhZoMGvnivx9NPurYHd+/65MNU1HJ17+SiNkBzxLQv/GDAnguNMC/B1wUMyamwbw=\",\"dtype\":\"float64\",\"shape\":[100]}},\"selected\":{\"id\":\"19050\",\"type\":\"Selection\"},\"selection_policy\":{\"id\":\"19049\",\"type\":\"UnionRenderers\"}},\"id\":\"19022\",\"type\":\"ColumnDataSource\"},{\"attributes\":{},\"id\":\"19034\",\"type\":\"Selection\"},{\"attributes\":{},\"id\":\"19033\",\"type\":\"UnionRenderers\"},{\"attributes\":{\"formatter\":{\"id\":\"19018\",\"type\":\"BasicTickFormatter\"},\"ticker\":{\"id\":\"18991\",\"type\":\"BasicTicker\"}},\"id\":\"18990\",\"type\":\"LinearAxis\"},{\"attributes\":{\"line_alpha\":0.1,\"line_color\":\"#1f77b4\",\"line_dash\":[4,4],\"line_width\":2,\"x\":{\"field\":\"x\"},\"y\":{\"field\":\"y\"}},\"id\":\"19038\",\"type\":\"Line\"},{\"attributes\":{},\"id\":\"18991\",\"type\":\"BasicTicker\"},{\"attributes\":{},\"id\":\"18983\",\"type\":\"LinearScale\"},{\"attributes\":{},\"id\":\"19090\",\"type\":\"Selection\"},{\"attributes\":{\"source\":{\"id\":\"19036\",\"type\":\"ColumnDataSource\"}},\"id\":\"19040\",\"type\":\"CDSView\"},{\"attributes\":{\"data_source\":{\"id\":\"19036\",\"type\":\"ColumnDataSource\"},\"glyph\":{\"id\":\"19037\",\"type\":\"Line\"},\"hover_glyph\":null,\"muted_glyph\":null,\"nonselection_glyph\":{\"id\":\"19038\",\"type\":\"Line\"},\"selection_glyph\":null,\"view\":{\"id\":\"19040\",\"type\":\"CDSView\"}},\"id\":\"19039\",\"type\":\"GlyphRenderer\"},{\"attributes\":{\"source\":{\"id\":\"19053\",\"type\":\"ColumnDataSource\"}},\"id\":\"19057\",\"type\":\"CDSView\"},{\"attributes\":{},\"id\":\"19089\",\"type\":\"UnionRenderers\"},{\"attributes\":{},\"id\":\"19050\",\"type\":\"Selection\"},{\"attributes\":{\"line_color\":\"green\",\"x\":{\"field\":\"x\"},\"y\":{\"field\":\"y\"}},\"id\":\"19073\",\"type\":\"Line\"},{\"attributes\":{\"ticker\":{\"id\":\"18986\",\"type\":\"BasicTicker\"}},\"id\":\"18989\",\"type\":\"Grid\"},{\"attributes\":{\"fill_alpha\":{\"value\":0.1},\"fill_color\":{\"value\":\"#1f77b4\"},\"line_alpha\":{\"value\":0.1},\"line_color\":{\"value\":\"#1f77b4\"},\"x\":{\"field\":\"x\"},\"y\":{\"field\":\"y\"}},\"id\":\"19055\",\"type\":\"Square\"}],\"root_ids\":[\"18976\"]},\"title\":\"Bokeh Application\",\"version\":\"1.4.0\"}};\n",
       "  var render_items = [{\"docid\":\"a2bb66fb-7ea2-4115-a91c-6365ba4d43d9\",\"roots\":{\"18976\":\"b92707f2-0512-495d-bd29-bd809b231d6f\"}}];\n",
       "  root.Bokeh.embed.embed_items_notebook(docs_json, render_items);\n",
       "\n",
       "  }\n",
       "  if (root.Bokeh !== undefined) {\n",
       "    embed_document(root);\n",
       "  } else {\n",
       "    var attempts = 0;\n",
       "    var timer = setInterval(function(root) {\n",
       "      if (root.Bokeh !== undefined) {\n",
       "        clearInterval(timer);\n",
       "        embed_document(root);\n",
       "      } else {\n",
       "        attempts++;\n",
       "        if (attempts > 100) {\n",
       "          clearInterval(timer);\n",
       "          console.log(\"Bokeh: ERROR: Unable to run BokehJS code because BokehJS library is missing\");\n",
       "        }\n",
       "      }\n",
       "    }, 10, root)\n",
       "  }\n",
       "})(window);"
      ],
      "application/vnd.bokehjs_exec.v0+json": ""
     },
     "metadata": {
      "application/vnd.bokehjs_exec.v0+json": {
       "id": "18976"
      }
     },
     "output_type": "display_data"
    }
   ],
   "source": [
    "x = np.linspace(0, 4*np.pi, 100)\n",
    "y = np.sin(x)\n",
    "\n",
    "p = figure(plot_height=350, plot_width=700)\n",
    "\n",
    "p.circle(x, y, legend_label=\"sin(x)\")\n",
    "p.line(x, y, legend_label=\"sin(x)\")\n",
    "\n",
    "p.line(x, 2*y, legend_label=\"2*sin(x)\", line_dash=[4, 4], line_color=\"orange\", line_width=2)\n",
    "\n",
    "p.square(x, 3*y, legend_label=\"3*sin(x)\", fill_color=None, line_color=\"green\")\n",
    "p.line(x, 3*y, legend_label=\"3*sin(x)\", line_color=\"green\")\n",
    "\n",
    "p.legend.location = \"bottom_left\"\n",
    "show(p)"
   ]
  },
  {
   "cell_type": "markdown",
   "metadata": {},
   "source": [
    "### Orientation"
   ]
  },
  {
   "cell_type": "code",
   "execution_count": 78,
   "metadata": {},
   "outputs": [
    {
     "data": {
      "text/html": [
       "\n",
       "\n",
       "\n",
       "\n",
       "\n",
       "\n",
       "  <div class=\"bk-root\" id=\"11d40cca-d723-454e-b3cb-0f4c8399ddd3\" data-root-id=\"19718\"></div>\n"
      ]
     },
     "metadata": {},
     "output_type": "display_data"
    },
    {
     "data": {
      "application/javascript": [
       "(function(root) {\n",
       "  function embed_document(root) {\n",
       "    \n",
       "  var docs_json = {\"c477d34b-7141-4852-8c86-7184e7e671bd\":{\"roots\":{\"references\":[{\"attributes\":{\"below\":[{\"id\":\"19727\",\"type\":\"LinearAxis\"}],\"center\":[{\"id\":\"19731\",\"type\":\"Grid\"},{\"id\":\"19736\",\"type\":\"Grid\"},{\"id\":\"19762\",\"type\":\"Legend\"}],\"left\":[{\"id\":\"19732\",\"type\":\"LinearAxis\"}],\"renderers\":[{\"id\":\"19753\",\"type\":\"GlyphRenderer\"},{\"id\":\"19767\",\"type\":\"GlyphRenderer\"},{\"id\":\"19781\",\"type\":\"GlyphRenderer\"},{\"id\":\"19798\",\"type\":\"GlyphRenderer\"},{\"id\":\"19817\",\"type\":\"GlyphRenderer\"}],\"title\":{\"id\":\"19755\",\"type\":\"Title\"},\"toolbar\":{\"id\":\"19743\",\"type\":\"Toolbar\"},\"x_range\":{\"id\":\"19719\",\"type\":\"DataRange1d\"},\"x_scale\":{\"id\":\"19723\",\"type\":\"LinearScale\"},\"y_range\":{\"id\":\"19721\",\"type\":\"DataRange1d\"},\"y_scale\":{\"id\":\"19725\",\"type\":\"LinearScale\"}},\"id\":\"19718\",\"subtype\":\"Figure\",\"type\":\"Plot\"},{\"attributes\":{},\"id\":\"19776\",\"type\":\"Selection\"},{\"attributes\":{},\"id\":\"19832\",\"type\":\"Selection\"},{\"attributes\":{\"active_drag\":\"auto\",\"active_inspect\":\"auto\",\"active_multi\":null,\"active_scroll\":\"auto\",\"active_tap\":\"auto\",\"tools\":[{\"id\":\"19737\",\"type\":\"PanTool\"},{\"id\":\"19738\",\"type\":\"WheelZoomTool\"},{\"id\":\"19739\",\"type\":\"BoxZoomTool\"},{\"id\":\"19740\",\"type\":\"SaveTool\"},{\"id\":\"19741\",\"type\":\"ResetTool\"},{\"id\":\"19742\",\"type\":\"HelpTool\"}]},\"id\":\"19743\",\"type\":\"Toolbar\"},{\"attributes\":{},\"id\":\"19737\",\"type\":\"PanTool\"},{\"attributes\":{},\"id\":\"19831\",\"type\":\"UnionRenderers\"},{\"attributes\":{},\"id\":\"19738\",\"type\":\"WheelZoomTool\"},{\"attributes\":{\"overlay\":{\"id\":\"19761\",\"type\":\"BoxAnnotation\"}},\"id\":\"19739\",\"type\":\"BoxZoomTool\"},{\"attributes\":{\"callback\":null,\"data\":{\"x\":{\"__ndarray__\":\"AAAAAAAAAACRGkt8Vz/AP5EaS3xXP9A/2qdwOgNf2D+RGkt8Vz/gPzXhXVstT+Q/2qdwOgNf6D9+boMZ2W7sP5EaS3xXP/A/433Ua0JH8j814V1bLU/0P4dE50oYV/Y/2qdwOgNf+D8sC/op7mb6P35ugxnZbvw/0NEMCcR2/j+RGkt8Vz8AQDrMD/RMQwFA433Ua0JHAkCML5njN0sDQDXhXVstTwRA3pIi0yJTBUCHROdKGFcGQDD2q8INWwdA2qdwOgNfCECDWTWy+GIJQCwL+inuZgpA1by+oeNqC0B+boMZ2W4MQCcgSJHOcg1A0NEMCcR2DkB5g9GAuXoPQJEaS3xXPxBAZnMtOFLBEEA6zA/0TEMRQA8l8q9HxRFA433Ua0JHEkC41rYnPckSQIwvmeM3SxNAYYh7nzLNE0A14V1bLU8UQAo6QBco0RRA3pIi0yJTFUCz6wSPHdUVQIdE50oYVxZAXJ3JBhPZFkAw9qvCDVsXQAVPjn4I3RdA2qdwOgNfGECuAFP2/eAYQINZNbL4YhlAV7IXbvPkGUAsC/op7mYaQABk3OXo6BpA1by+oeNqG0CpFaFd3uwbQH5ugxnZbhxAUsdl1dPwHEAnIEiRznIdQPt4Kk3J9B1A0NEMCcR2HkCkKu/EvvgeQHmD0YC5eh9ATdyzPLT8H0CRGkt8Vz8gQPtGPNpUgCBAZnMtOFLBIEDQnx6WTwIhQDrMD/RMQyFApPgAUkqEIUAPJfKvR8UhQHlR4w1FBiJA433Ua0JHIkBNqsXJP4giQLjWtic9ySJAIgOohToKI0CML5njN0sjQPZbikE1jCNAYYh7nzLNI0DLtGz9Lw4kQDXhXVstTyRAoA1PuSqQJEAKOkAXKNEkQHRmMXUlEiVA3pIi0yJTJUBJvxMxIJQlQLPrBI8d1SVAHRj27BoWJkCHROdKGFcmQPJw2KgVmCZAXJ3JBhPZJkDGybpkEBonQDD2q8INWydAmyKdIAucJ0AFT45+CN0nQG97f9wFHihA2qdwOgNfKEBE1GGYAKAoQK4AU/b94ChAGC1EVPshKUA=\",\"dtype\":\"float64\",\"shape\":[100]},\"y\":{\"__ndarray__\":\"AAAAAAAAAADwgwJ4LjTAP5qI2QHPEtA/+5MNU1HJ1z8ZTT7q2B3fP0aFmgwa+eI/ABg/lCAV5j+IQCEcMdboP3fOhmLzMOs/EyzujrQb7T/9Izwlj47uPxccgYyLg+8/g6xao7j27z9mZrL8O+bvP7+X94FZUu8/xVNiW3I97j9RB8Ai+6vsP5FWKYlppOo/oSg6uxkv6D/Th2bxK1blPyZGRbpaJeI/8qg+VZVT3T/4C4p0qOPVP+UppLIiM8w/3FNHxZdVuD/J23zJpD6gv+3ENsZjOcS/wo12/ecH0r/dgWKM2KjZv2MTsJELcOC/83ixWvXH47+358MBZM7mv5eCD4nhdum/rExY6Hq267+TIxAn7YPtvwSssILL1+6/70I4BJ6s77/vOc8G+P7vvzTGy1KGze+/3176khQZ77/C8a4NiuTtvzGcHq/dNOy/l0FFlgER6r+FGZN4xoHnvx8WPFK3keS/Cli7+O1M4b+HQNqEwoHbv9kfIiFb+NO/gKyggGI5yL8EhrXMjDywvyGGtcyMPLA/jqyggGI5yD/gHyIhW/jTP39A2oTCgds/DVi7+O1M4T8bFjxSt5HkP4cZk3jGgec/lUFFlgER6j8ynB6v3TTsP8Hxrg2K5O0/4F76khQZ7z80xstShs3vP+85zwb4/u8/8EI4BJ6s7z8DrLCCy9fuP5UjECftg+0/p0xY6Hq26z+Vgg+J4XbpP7fnwwFkzuY/9nixWvXH4z9dE7CRC3DgP9eBYozYqNk/w412/ecH0j/+xDbGYznEP0/bfMmkPqA/+FNHxZdVuL/UKaSyIjPMv+gLinSo49W/+Kg+VZVT3b8lRkW6WiXiv8+HZvErVuW/pig6uxkv6L+TVimJaaTqv1EHwCL7q+y/xFNiW3I97r/Al/eBWVLvv2Zmsvw75u+/g6xao7j2778YHIGMi4Pvv/sjPCWPju6/EyzujrQb7b94zoZi8zDrv4xAIRwx1ui//Bc/lCAV5r9GhZoMGvnivx9NPurYHd+/65MNU1HJ17+SiNkBzxLQv/GDAnguNMC/B1wUMyamwbw=\",\"dtype\":\"float64\",\"shape\":[100]}},\"selected\":{\"id\":\"19776\",\"type\":\"Selection\"},\"selection_policy\":{\"id\":\"19775\",\"type\":\"UnionRenderers\"}},\"id\":\"19750\",\"type\":\"ColumnDataSource\"},{\"attributes\":{},\"id\":\"19740\",\"type\":\"SaveTool\"},{\"attributes\":{},\"id\":\"20372\",\"type\":\"UnionRenderers\"},{\"attributes\":{},\"id\":\"19741\",\"type\":\"ResetTool\"},{\"attributes\":{\"source\":{\"id\":\"19750\",\"type\":\"ColumnDataSource\"}},\"id\":\"19754\",\"type\":\"CDSView\"},{\"attributes\":{},\"id\":\"19742\",\"type\":\"HelpTool\"},{\"attributes\":{\"dimension\":1,\"ticker\":{\"id\":\"19733\",\"type\":\"BasicTicker\"}},\"id\":\"19736\",\"type\":\"Grid\"},{\"attributes\":{\"formatter\":{\"id\":\"19760\",\"type\":\"BasicTickFormatter\"},\"ticker\":{\"id\":\"19733\",\"type\":\"BasicTicker\"}},\"id\":\"19732\",\"type\":\"LinearAxis\"},{\"attributes\":{},\"id\":\"19733\",\"type\":\"BasicTicker\"},{\"attributes\":{\"data_source\":{\"id\":\"19750\",\"type\":\"ColumnDataSource\"},\"glyph\":{\"id\":\"19751\",\"type\":\"Circle\"},\"hover_glyph\":null,\"muted_glyph\":null,\"nonselection_glyph\":{\"id\":\"19752\",\"type\":\"Circle\"},\"selection_glyph\":null,\"view\":{\"id\":\"19754\",\"type\":\"CDSView\"}},\"id\":\"19753\",\"type\":\"GlyphRenderer\"},{\"attributes\":{},\"id\":\"20373\",\"type\":\"Selection\"},{\"attributes\":{\"fill_color\":{\"value\":\"#1f77b4\"},\"line_color\":{\"value\":\"#1f77b4\"},\"x\":{\"field\":\"x\"},\"y\":{\"field\":\"y\"}},\"id\":\"19751\",\"type\":\"Circle\"},{\"attributes\":{\"data_source\":{\"id\":\"19764\",\"type\":\"ColumnDataSource\"},\"glyph\":{\"id\":\"19765\",\"type\":\"Line\"},\"hover_glyph\":null,\"muted_glyph\":null,\"nonselection_glyph\":{\"id\":\"19766\",\"type\":\"Line\"},\"selection_glyph\":null,\"view\":{\"id\":\"19768\",\"type\":\"CDSView\"}},\"id\":\"19767\",\"type\":\"GlyphRenderer\"},{\"attributes\":{},\"id\":\"19810\",\"type\":\"UnionRenderers\"},{\"attributes\":{\"source\":{\"id\":\"19764\",\"type\":\"ColumnDataSource\"}},\"id\":\"19768\",\"type\":\"CDSView\"},{\"attributes\":{\"text\":\"\"},\"id\":\"19755\",\"type\":\"Title\"},{\"attributes\":{},\"id\":\"19775\",\"type\":\"UnionRenderers\"},{\"attributes\":{\"callback\":null,\"data\":{\"x\":{\"__ndarray__\":\"AAAAAAAAAACRGkt8Vz/AP5EaS3xXP9A/2qdwOgNf2D+RGkt8Vz/gPzXhXVstT+Q/2qdwOgNf6D9+boMZ2W7sP5EaS3xXP/A/433Ua0JH8j814V1bLU/0P4dE50oYV/Y/2qdwOgNf+D8sC/op7mb6P35ugxnZbvw/0NEMCcR2/j+RGkt8Vz8AQDrMD/RMQwFA433Ua0JHAkCML5njN0sDQDXhXVstTwRA3pIi0yJTBUCHROdKGFcGQDD2q8INWwdA2qdwOgNfCECDWTWy+GIJQCwL+inuZgpA1by+oeNqC0B+boMZ2W4MQCcgSJHOcg1A0NEMCcR2DkB5g9GAuXoPQJEaS3xXPxBAZnMtOFLBEEA6zA/0TEMRQA8l8q9HxRFA433Ua0JHEkC41rYnPckSQIwvmeM3SxNAYYh7nzLNE0A14V1bLU8UQAo6QBco0RRA3pIi0yJTFUCz6wSPHdUVQIdE50oYVxZAXJ3JBhPZFkAw9qvCDVsXQAVPjn4I3RdA2qdwOgNfGECuAFP2/eAYQINZNbL4YhlAV7IXbvPkGUAsC/op7mYaQABk3OXo6BpA1by+oeNqG0CpFaFd3uwbQH5ugxnZbhxAUsdl1dPwHEAnIEiRznIdQPt4Kk3J9B1A0NEMCcR2HkCkKu/EvvgeQHmD0YC5eh9ATdyzPLT8H0CRGkt8Vz8gQPtGPNpUgCBAZnMtOFLBIEDQnx6WTwIhQDrMD/RMQyFApPgAUkqEIUAPJfKvR8UhQHlR4w1FBiJA433Ua0JHIkBNqsXJP4giQLjWtic9ySJAIgOohToKI0CML5njN0sjQPZbikE1jCNAYYh7nzLNI0DLtGz9Lw4kQDXhXVstTyRAoA1PuSqQJEAKOkAXKNEkQHRmMXUlEiVA3pIi0yJTJUBJvxMxIJQlQLPrBI8d1SVAHRj27BoWJkCHROdKGFcmQPJw2KgVmCZAXJ3JBhPZJkDGybpkEBonQDD2q8INWydAmyKdIAucJ0AFT45+CN0nQG97f9wFHihA2qdwOgNfKEBE1GGYAKAoQK4AU/b94ChAGC1EVPshKUA=\",\"dtype\":\"float64\",\"shape\":[100]},\"y\":{\"__ndarray__\":\"AAAAAAAAAADwgwJ4LjTQP5qI2QHPEuA/+5MNU1HJ5z8ZTT7q2B3vP0aFmgwa+fI/ABg/lCAV9j+IQCEcMdb4P3fOhmLzMPs/EyzujrQb/T/9Izwlj47+PxccgYyLg/8/g6xao7j2/z9mZrL8O+b/P7+X94FZUv8/xVNiW3I9/j9RB8Ai+6v8P5FWKYlppPo/oSg6uxkv+D/Th2bxK1b1PyZGRbpaJfI/8qg+VZVT7T/4C4p0qOPlP+UppLIiM9w/3FNHxZdVyD/J23zJpD6wv+3ENsZjOdS/wo12/ecH4r/dgWKM2Kjpv2MTsJELcPC/83ixWvXH87+358MBZM72v5eCD4nhdvm/rExY6Hq2+7+TIxAn7YP9vwSssILL1/6/70I4BJ6s/7/vOc8G+P7/vzTGy1KGzf+/3176khQZ/7/C8a4NiuT9vzGcHq/dNPy/l0FFlgER+r+FGZN4xoH3vx8WPFK3kfS/Cli7+O1M8b+HQNqEwoHrv9kfIiFb+OO/gKyggGI52L8EhrXMjDzAvyGGtcyMPMA/jqyggGI52D/gHyIhW/jjP39A2oTCges/DVi7+O1M8T8bFjxSt5H0P4cZk3jGgfc/lUFFlgER+j8ynB6v3TT8P8Hxrg2K5P0/4F76khQZ/z80xstShs3/P+85zwb4/v8/8EI4BJ6s/z8DrLCCy9f+P5UjECftg/0/p0xY6Hq2+z+Vgg+J4Xb5P7fnwwFkzvY/9nixWvXH8z9dE7CRC3DwP9eBYozYqOk/w412/ecH4j/+xDbGYznUP0/bfMmkPrA/+FNHxZdVyL/UKaSyIjPcv+gLinSo4+W/+Kg+VZVT7b8lRkW6WiXyv8+HZvErVvW/pig6uxkv+L+TVimJaaT6v1EHwCL7q/y/xFNiW3I9/r/Al/eBWVL/v2Zmsvw75v+/g6xao7j2/78YHIGMi4P/v/sjPCWPjv6/EyzujrQb/b94zoZi8zD7v4xAIRwx1vi//Bc/lCAV9r9GhZoMGvnyvx9NPurYHe+/65MNU1HJ57+SiNkBzxLgv/GDAnguNNC/B1wUMyam0bw=\",\"dtype\":\"float64\",\"shape\":[100]}},\"selected\":{\"id\":\"19811\",\"type\":\"Selection\"},\"selection_policy\":{\"id\":\"19810\",\"type\":\"UnionRenderers\"}},\"id\":\"19778\",\"type\":\"ColumnDataSource\"},{\"attributes\":{\"items\":[{\"id\":\"19763\",\"type\":\"LegendItem\"},{\"id\":\"19794\",\"type\":\"LegendItem\"},{\"id\":\"19813\",\"type\":\"LegendItem\"}],\"orientation\":\"horizontal\"},\"id\":\"19762\",\"type\":\"Legend\"},{\"attributes\":{\"formatter\":{\"id\":\"19758\",\"type\":\"BasicTickFormatter\"},\"ticker\":{\"id\":\"19728\",\"type\":\"BasicTicker\"}},\"id\":\"19727\",\"type\":\"LinearAxis\"},{\"attributes\":{\"line_color\":\"#1f77b4\",\"x\":{\"field\":\"x\"},\"y\":{\"field\":\"y\"}},\"id\":\"19765\",\"type\":\"Line\"},{\"attributes\":{\"bottom_units\":\"screen\",\"fill_alpha\":{\"value\":0.5},\"fill_color\":{\"value\":\"lightgrey\"},\"left_units\":\"screen\",\"level\":\"overlay\",\"line_alpha\":{\"value\":1.0},\"line_color\":{\"value\":\"black\"},\"line_dash\":[4,4],\"line_width\":{\"value\":2},\"render_mode\":\"css\",\"right_units\":\"screen\",\"top_units\":\"screen\"},\"id\":\"19761\",\"type\":\"BoxAnnotation\"},{\"attributes\":{\"fill_color\":{\"value\":null},\"line_color\":{\"value\":\"green\"},\"x\":{\"field\":\"x\"},\"y\":{\"field\":\"y\"}},\"id\":\"19796\",\"type\":\"Square\"},{\"attributes\":{},\"id\":\"19758\",\"type\":\"BasicTickFormatter\"},{\"attributes\":{\"ticker\":{\"id\":\"19728\",\"type\":\"BasicTicker\"}},\"id\":\"19731\",\"type\":\"Grid\"},{\"attributes\":{},\"id\":\"19760\",\"type\":\"BasicTickFormatter\"},{\"attributes\":{\"label\":{\"value\":\"sin(x)\"},\"renderers\":[{\"id\":\"19753\",\"type\":\"GlyphRenderer\"},{\"id\":\"19767\",\"type\":\"GlyphRenderer\"}]},\"id\":\"19763\",\"type\":\"LegendItem\"},{\"attributes\":{},\"id\":\"19723\",\"type\":\"LinearScale\"},{\"attributes\":{\"line_alpha\":0.1,\"line_color\":\"#1f77b4\",\"line_dash\":[4,4],\"line_width\":2,\"x\":{\"field\":\"x\"},\"y\":{\"field\":\"y\"}},\"id\":\"19780\",\"type\":\"Line\"},{\"attributes\":{},\"id\":\"19728\",\"type\":\"BasicTicker\"},{\"attributes\":{\"callback\":null,\"data\":{\"x\":{\"__ndarray__\":\"AAAAAAAAAACRGkt8Vz/AP5EaS3xXP9A/2qdwOgNf2D+RGkt8Vz/gPzXhXVstT+Q/2qdwOgNf6D9+boMZ2W7sP5EaS3xXP/A/433Ua0JH8j814V1bLU/0P4dE50oYV/Y/2qdwOgNf+D8sC/op7mb6P35ugxnZbvw/0NEMCcR2/j+RGkt8Vz8AQDrMD/RMQwFA433Ua0JHAkCML5njN0sDQDXhXVstTwRA3pIi0yJTBUCHROdKGFcGQDD2q8INWwdA2qdwOgNfCECDWTWy+GIJQCwL+inuZgpA1by+oeNqC0B+boMZ2W4MQCcgSJHOcg1A0NEMCcR2DkB5g9GAuXoPQJEaS3xXPxBAZnMtOFLBEEA6zA/0TEMRQA8l8q9HxRFA433Ua0JHEkC41rYnPckSQIwvmeM3SxNAYYh7nzLNE0A14V1bLU8UQAo6QBco0RRA3pIi0yJTFUCz6wSPHdUVQIdE50oYVxZAXJ3JBhPZFkAw9qvCDVsXQAVPjn4I3RdA2qdwOgNfGECuAFP2/eAYQINZNbL4YhlAV7IXbvPkGUAsC/op7mYaQABk3OXo6BpA1by+oeNqG0CpFaFd3uwbQH5ugxnZbhxAUsdl1dPwHEAnIEiRznIdQPt4Kk3J9B1A0NEMCcR2HkCkKu/EvvgeQHmD0YC5eh9ATdyzPLT8H0CRGkt8Vz8gQPtGPNpUgCBAZnMtOFLBIEDQnx6WTwIhQDrMD/RMQyFApPgAUkqEIUAPJfKvR8UhQHlR4w1FBiJA433Ua0JHIkBNqsXJP4giQLjWtic9ySJAIgOohToKI0CML5njN0sjQPZbikE1jCNAYYh7nzLNI0DLtGz9Lw4kQDXhXVstTyRAoA1PuSqQJEAKOkAXKNEkQHRmMXUlEiVA3pIi0yJTJUBJvxMxIJQlQLPrBI8d1SVAHRj27BoWJkCHROdKGFcmQPJw2KgVmCZAXJ3JBhPZJkDGybpkEBonQDD2q8INWydAmyKdIAucJ0AFT45+CN0nQG97f9wFHihA2qdwOgNfKEBE1GGYAKAoQK4AU/b94ChAGC1EVPshKUA=\",\"dtype\":\"float64\",\"shape\":[100]},\"y\":{\"__ndarray__\":\"AAAAAAAAAADwgwJ4LjTAP5qI2QHPEtA/+5MNU1HJ1z8ZTT7q2B3fP0aFmgwa+eI/ABg/lCAV5j+IQCEcMdboP3fOhmLzMOs/EyzujrQb7T/9Izwlj47uPxccgYyLg+8/g6xao7j27z9mZrL8O+bvP7+X94FZUu8/xVNiW3I97j9RB8Ai+6vsP5FWKYlppOo/oSg6uxkv6D/Th2bxK1blPyZGRbpaJeI/8qg+VZVT3T/4C4p0qOPVP+UppLIiM8w/3FNHxZdVuD/J23zJpD6gv+3ENsZjOcS/wo12/ecH0r/dgWKM2KjZv2MTsJELcOC/83ixWvXH47+358MBZM7mv5eCD4nhdum/rExY6Hq267+TIxAn7YPtvwSssILL1+6/70I4BJ6s77/vOc8G+P7vvzTGy1KGze+/3176khQZ77/C8a4NiuTtvzGcHq/dNOy/l0FFlgER6r+FGZN4xoHnvx8WPFK3keS/Cli7+O1M4b+HQNqEwoHbv9kfIiFb+NO/gKyggGI5yL8EhrXMjDywvyGGtcyMPLA/jqyggGI5yD/gHyIhW/jTP39A2oTCgds/DVi7+O1M4T8bFjxSt5HkP4cZk3jGgec/lUFFlgER6j8ynB6v3TTsP8Hxrg2K5O0/4F76khQZ7z80xstShs3vP+85zwb4/u8/8EI4BJ6s7z8DrLCCy9fuP5UjECftg+0/p0xY6Hq26z+Vgg+J4XbpP7fnwwFkzuY/9nixWvXH4z9dE7CRC3DgP9eBYozYqNk/w412/ecH0j/+xDbGYznEP0/bfMmkPqA/+FNHxZdVuL/UKaSyIjPMv+gLinSo49W/+Kg+VZVT3b8lRkW6WiXiv8+HZvErVuW/pig6uxkv6L+TVimJaaTqv1EHwCL7q+y/xFNiW3I97r/Al/eBWVLvv2Zmsvw75u+/g6xao7j2778YHIGMi4Pvv/sjPCWPju6/EyzujrQb7b94zoZi8zDrv4xAIRwx1ui//Bc/lCAV5r9GhZoMGvnivx9NPurYHd+/65MNU1HJ17+SiNkBzxLQv/GDAnguNMC/B1wUMyamwbw=\",\"dtype\":\"float64\",\"shape\":[100]}},\"selected\":{\"id\":\"19792\",\"type\":\"Selection\"},\"selection_policy\":{\"id\":\"19791\",\"type\":\"UnionRenderers\"}},\"id\":\"19764\",\"type\":\"ColumnDataSource\"},{\"attributes\":{\"source\":{\"id\":\"19795\",\"type\":\"ColumnDataSource\"}},\"id\":\"19799\",\"type\":\"CDSView\"},{\"attributes\":{},\"id\":\"19725\",\"type\":\"LinearScale\"},{\"attributes\":{\"line_alpha\":0.1,\"line_color\":\"#1f77b4\",\"x\":{\"field\":\"x\"},\"y\":{\"field\":\"y\"}},\"id\":\"19766\",\"type\":\"Line\"},{\"attributes\":{\"data_source\":{\"id\":\"19778\",\"type\":\"ColumnDataSource\"},\"glyph\":{\"id\":\"19779\",\"type\":\"Line\"},\"hover_glyph\":null,\"muted_glyph\":null,\"nonselection_glyph\":{\"id\":\"19780\",\"type\":\"Line\"},\"selection_glyph\":null,\"view\":{\"id\":\"19782\",\"type\":\"CDSView\"}},\"id\":\"19781\",\"type\":\"GlyphRenderer\"},{\"attributes\":{\"callback\":null},\"id\":\"19721\",\"type\":\"DataRange1d\"},{\"attributes\":{},\"id\":\"19792\",\"type\":\"Selection\"},{\"attributes\":{\"callback\":null},\"id\":\"19719\",\"type\":\"DataRange1d\"},{\"attributes\":{},\"id\":\"19791\",\"type\":\"UnionRenderers\"},{\"attributes\":{},\"id\":\"19811\",\"type\":\"Selection\"},{\"attributes\":{\"callback\":null,\"data\":{\"x\":{\"__ndarray__\":\"AAAAAAAAAACRGkt8Vz/AP5EaS3xXP9A/2qdwOgNf2D+RGkt8Vz/gPzXhXVstT+Q/2qdwOgNf6D9+boMZ2W7sP5EaS3xXP/A/433Ua0JH8j814V1bLU/0P4dE50oYV/Y/2qdwOgNf+D8sC/op7mb6P35ugxnZbvw/0NEMCcR2/j+RGkt8Vz8AQDrMD/RMQwFA433Ua0JHAkCML5njN0sDQDXhXVstTwRA3pIi0yJTBUCHROdKGFcGQDD2q8INWwdA2qdwOgNfCECDWTWy+GIJQCwL+inuZgpA1by+oeNqC0B+boMZ2W4MQCcgSJHOcg1A0NEMCcR2DkB5g9GAuXoPQJEaS3xXPxBAZnMtOFLBEEA6zA/0TEMRQA8l8q9HxRFA433Ua0JHEkC41rYnPckSQIwvmeM3SxNAYYh7nzLNE0A14V1bLU8UQAo6QBco0RRA3pIi0yJTFUCz6wSPHdUVQIdE50oYVxZAXJ3JBhPZFkAw9qvCDVsXQAVPjn4I3RdA2qdwOgNfGECuAFP2/eAYQINZNbL4YhlAV7IXbvPkGUAsC/op7mYaQABk3OXo6BpA1by+oeNqG0CpFaFd3uwbQH5ugxnZbhxAUsdl1dPwHEAnIEiRznIdQPt4Kk3J9B1A0NEMCcR2HkCkKu/EvvgeQHmD0YC5eh9ATdyzPLT8H0CRGkt8Vz8gQPtGPNpUgCBAZnMtOFLBIEDQnx6WTwIhQDrMD/RMQyFApPgAUkqEIUAPJfKvR8UhQHlR4w1FBiJA433Ua0JHIkBNqsXJP4giQLjWtic9ySJAIgOohToKI0CML5njN0sjQPZbikE1jCNAYYh7nzLNI0DLtGz9Lw4kQDXhXVstTyRAoA1PuSqQJEAKOkAXKNEkQHRmMXUlEiVA3pIi0yJTJUBJvxMxIJQlQLPrBI8d1SVAHRj27BoWJkCHROdKGFcmQPJw2KgVmCZAXJ3JBhPZJkDGybpkEBonQDD2q8INWydAmyKdIAucJ0AFT45+CN0nQG97f9wFHihA2qdwOgNfKEBE1GGYAKAoQK4AU/b94ChAGC1EVPshKUA=\",\"dtype\":\"float64\",\"shape\":[100]},\"y\":{\"__ndarray__\":\"AAAAAAAAAADoxQO0RU7YP+dMxoI2HOg//C5K/vzW8T/Tua6vYlb3P+nH5xKndfw/AFIvb9iPAEBm8BjVpKACQNka5Ym2ZARADqEya8fUBUD+Gu1b6+oGQBHVYKmoogdAYgGEegr5B0DMzIX9rOwHQM+xeSHDfQdA1L6JxBWuBkB9BRBa/IAFQO0A3yZP+wNAeZ5rTFMjAkDe5Qz1oAAAQDnpZxcIOPs/tv7u/6/+9T/6iGdXvmrwP2wf+wVaJuU/5X710zFA0j+uSTsu9124v2QnUqkVVt6/o9Qx/NsL679m4Ulpoj7zvxQdiFoRqPi/bDUKCPCr/b/J7VIByxoBwPGhyyYpGQPAgTlCLtzIBMCuGkzd8SIGwAOBBKLYIQfAMzIqg3bBB8BzaxsFOv8HwKfUGL4k2gfAJ8c7bs9SB8BSNUOKZ2sGwCX1VkOmJwXAMfGzMMGMA8AkU27aVKEBwC4hWvuS2v6/DwQZ9WTz+b9lsKPjUaH0v8Yvs7GI9O2/YIF44Akr4r8GSRAz01rIvzJJEDPTWsg/aoF44Akr4j/QL7OxiPTtP1+wo+NRofQ/FAQZ9WTz+T8oIVr7ktr+PyVTbtpUoQFAMPGzMMGMA0Am9VZDpicFQFE1Q4pnawZAKMc7bs9SB0Cn1Bi+JNoHQHNrGwU6/wdANDIqg3bBB0ACgQSi2CEHQLAaTN3xIgZAfTlCLtzIBEDwocsmKRkDQMntUgHLGgFAcTUKCPCr/T8MHYhaEaj4P2HhSWmiPvM/pNQx/NsL6z99J1KpFVbeP/ZIOy73Xbg/+n710zFA0r9fH/sFWiblv+6IZ1e+avC/uv7u/6/+9b846WcXCDj7v9vlDPWgAADAfJ5rTFMjAsDuAN8mT/sDwH0FEFr8gAXA076JxBWuBsDQsXkhw30HwMzMhf2s7AfAYgGEegr5B8AS1WCpqKIHwPwa7Vvr6gbADqEya8fUBcDaGuWJtmQEwGnwGNWkoALA/VEvb9iPAMDpx+cSp3X8v9e5rq9iVve/8C5K/vzW8b/bTMaCNhzov+rFA7RFTti/CoqeTDl52rw=\",\"dtype\":\"float64\",\"shape\":[100]}},\"selected\":{\"id\":\"19832\",\"type\":\"Selection\"},\"selection_policy\":{\"id\":\"19831\",\"type\":\"UnionRenderers\"}},\"id\":\"19795\",\"type\":\"ColumnDataSource\"},{\"attributes\":{\"line_color\":\"green\",\"x\":{\"field\":\"x\"},\"y\":{\"field\":\"y\"}},\"id\":\"19815\",\"type\":\"Line\"},{\"attributes\":{\"label\":{\"value\":\"3*sin(x)\"},\"renderers\":[{\"id\":\"19798\",\"type\":\"GlyphRenderer\"},{\"id\":\"19817\",\"type\":\"GlyphRenderer\"}]},\"id\":\"19813\",\"type\":\"LegendItem\"},{\"attributes\":{\"callback\":null,\"data\":{\"x\":{\"__ndarray__\":\"AAAAAAAAAACRGkt8Vz/AP5EaS3xXP9A/2qdwOgNf2D+RGkt8Vz/gPzXhXVstT+Q/2qdwOgNf6D9+boMZ2W7sP5EaS3xXP/A/433Ua0JH8j814V1bLU/0P4dE50oYV/Y/2qdwOgNf+D8sC/op7mb6P35ugxnZbvw/0NEMCcR2/j+RGkt8Vz8AQDrMD/RMQwFA433Ua0JHAkCML5njN0sDQDXhXVstTwRA3pIi0yJTBUCHROdKGFcGQDD2q8INWwdA2qdwOgNfCECDWTWy+GIJQCwL+inuZgpA1by+oeNqC0B+boMZ2W4MQCcgSJHOcg1A0NEMCcR2DkB5g9GAuXoPQJEaS3xXPxBAZnMtOFLBEEA6zA/0TEMRQA8l8q9HxRFA433Ua0JHEkC41rYnPckSQIwvmeM3SxNAYYh7nzLNE0A14V1bLU8UQAo6QBco0RRA3pIi0yJTFUCz6wSPHdUVQIdE50oYVxZAXJ3JBhPZFkAw9qvCDVsXQAVPjn4I3RdA2qdwOgNfGECuAFP2/eAYQINZNbL4YhlAV7IXbvPkGUAsC/op7mYaQABk3OXo6BpA1by+oeNqG0CpFaFd3uwbQH5ugxnZbhxAUsdl1dPwHEAnIEiRznIdQPt4Kk3J9B1A0NEMCcR2HkCkKu/EvvgeQHmD0YC5eh9ATdyzPLT8H0CRGkt8Vz8gQPtGPNpUgCBAZnMtOFLBIEDQnx6WTwIhQDrMD/RMQyFApPgAUkqEIUAPJfKvR8UhQHlR4w1FBiJA433Ua0JHIkBNqsXJP4giQLjWtic9ySJAIgOohToKI0CML5njN0sjQPZbikE1jCNAYYh7nzLNI0DLtGz9Lw4kQDXhXVstTyRAoA1PuSqQJEAKOkAXKNEkQHRmMXUlEiVA3pIi0yJTJUBJvxMxIJQlQLPrBI8d1SVAHRj27BoWJkCHROdKGFcmQPJw2KgVmCZAXJ3JBhPZJkDGybpkEBonQDD2q8INWydAmyKdIAucJ0AFT45+CN0nQG97f9wFHihA2qdwOgNfKEBE1GGYAKAoQK4AU/b94ChAGC1EVPshKUA=\",\"dtype\":\"float64\",\"shape\":[100]},\"y\":{\"__ndarray__\":\"AAAAAAAAAADoxQO0RU7YP+dMxoI2HOg//C5K/vzW8T/Tua6vYlb3P+nH5xKndfw/AFIvb9iPAEBm8BjVpKACQNka5Ym2ZARADqEya8fUBUD+Gu1b6+oGQBHVYKmoogdAYgGEegr5B0DMzIX9rOwHQM+xeSHDfQdA1L6JxBWuBkB9BRBa/IAFQO0A3yZP+wNAeZ5rTFMjAkDe5Qz1oAAAQDnpZxcIOPs/tv7u/6/+9T/6iGdXvmrwP2wf+wVaJuU/5X710zFA0j+uSTsu9124v2QnUqkVVt6/o9Qx/NsL679m4Ulpoj7zvxQdiFoRqPi/bDUKCPCr/b/J7VIByxoBwPGhyyYpGQPAgTlCLtzIBMCuGkzd8SIGwAOBBKLYIQfAMzIqg3bBB8BzaxsFOv8HwKfUGL4k2gfAJ8c7bs9SB8BSNUOKZ2sGwCX1VkOmJwXAMfGzMMGMA8AkU27aVKEBwC4hWvuS2v6/DwQZ9WTz+b9lsKPjUaH0v8Yvs7GI9O2/YIF44Akr4r8GSRAz01rIvzJJEDPTWsg/aoF44Akr4j/QL7OxiPTtP1+wo+NRofQ/FAQZ9WTz+T8oIVr7ktr+PyVTbtpUoQFAMPGzMMGMA0Am9VZDpicFQFE1Q4pnawZAKMc7bs9SB0Cn1Bi+JNoHQHNrGwU6/wdANDIqg3bBB0ACgQSi2CEHQLAaTN3xIgZAfTlCLtzIBEDwocsmKRkDQMntUgHLGgFAcTUKCPCr/T8MHYhaEaj4P2HhSWmiPvM/pNQx/NsL6z99J1KpFVbeP/ZIOy73Xbg/+n710zFA0r9fH/sFWiblv+6IZ1e+avC/uv7u/6/+9b846WcXCDj7v9vlDPWgAADAfJ5rTFMjAsDuAN8mT/sDwH0FEFr8gAXA076JxBWuBsDQsXkhw30HwMzMhf2s7AfAYgGEegr5B8AS1WCpqKIHwPwa7Vvr6gbADqEya8fUBcDaGuWJtmQEwGnwGNWkoALA/VEvb9iPAMDpx+cSp3X8v9e5rq9iVve/8C5K/vzW8b/bTMaCNhzov+rFA7RFTti/CoqeTDl52rw=\",\"dtype\":\"float64\",\"shape\":[100]}},\"selected\":{\"id\":\"20373\",\"type\":\"Selection\"},\"selection_policy\":{\"id\":\"20372\",\"type\":\"UnionRenderers\"}},\"id\":\"19814\",\"type\":\"ColumnDataSource\"},{\"attributes\":{\"data_source\":{\"id\":\"19795\",\"type\":\"ColumnDataSource\"},\"glyph\":{\"id\":\"19796\",\"type\":\"Square\"},\"hover_glyph\":null,\"muted_glyph\":null,\"nonselection_glyph\":{\"id\":\"19797\",\"type\":\"Square\"},\"selection_glyph\":null,\"view\":{\"id\":\"19799\",\"type\":\"CDSView\"}},\"id\":\"19798\",\"type\":\"GlyphRenderer\"},{\"attributes\":{\"fill_alpha\":{\"value\":0.1},\"fill_color\":{\"value\":\"#1f77b4\"},\"line_alpha\":{\"value\":0.1},\"line_color\":{\"value\":\"#1f77b4\"},\"x\":{\"field\":\"x\"},\"y\":{\"field\":\"y\"}},\"id\":\"19752\",\"type\":\"Circle\"},{\"attributes\":{\"source\":{\"id\":\"19778\",\"type\":\"ColumnDataSource\"}},\"id\":\"19782\",\"type\":\"CDSView\"},{\"attributes\":{\"fill_alpha\":{\"value\":0.1},\"fill_color\":{\"value\":\"#1f77b4\"},\"line_alpha\":{\"value\":0.1},\"line_color\":{\"value\":\"#1f77b4\"},\"x\":{\"field\":\"x\"},\"y\":{\"field\":\"y\"}},\"id\":\"19797\",\"type\":\"Square\"},{\"attributes\":{\"source\":{\"id\":\"19814\",\"type\":\"ColumnDataSource\"}},\"id\":\"19818\",\"type\":\"CDSView\"},{\"attributes\":{\"line_alpha\":0.1,\"line_color\":\"#1f77b4\",\"x\":{\"field\":\"x\"},\"y\":{\"field\":\"y\"}},\"id\":\"19816\",\"type\":\"Line\"},{\"attributes\":{\"label\":{\"value\":\"2*sin(x)\"},\"renderers\":[{\"id\":\"19781\",\"type\":\"GlyphRenderer\"}]},\"id\":\"19794\",\"type\":\"LegendItem\"},{\"attributes\":{\"data_source\":{\"id\":\"19814\",\"type\":\"ColumnDataSource\"},\"glyph\":{\"id\":\"19815\",\"type\":\"Line\"},\"hover_glyph\":null,\"muted_glyph\":null,\"nonselection_glyph\":{\"id\":\"19816\",\"type\":\"Line\"},\"selection_glyph\":null,\"view\":{\"id\":\"19818\",\"type\":\"CDSView\"}},\"id\":\"19817\",\"type\":\"GlyphRenderer\"},{\"attributes\":{\"line_color\":\"orange\",\"line_dash\":[4,4],\"line_width\":2,\"x\":{\"field\":\"x\"},\"y\":{\"field\":\"y\"}},\"id\":\"19779\",\"type\":\"Line\"}],\"root_ids\":[\"19718\"]},\"title\":\"Bokeh Application\",\"version\":\"1.4.0\"}};\n",
       "  var render_items = [{\"docid\":\"c477d34b-7141-4852-8c86-7184e7e671bd\",\"roots\":{\"19718\":\"11d40cca-d723-454e-b3cb-0f4c8399ddd3\"}}];\n",
       "  root.Bokeh.embed.embed_items_notebook(docs_json, render_items);\n",
       "\n",
       "  }\n",
       "  if (root.Bokeh !== undefined) {\n",
       "    embed_document(root);\n",
       "  } else {\n",
       "    var attempts = 0;\n",
       "    var timer = setInterval(function(root) {\n",
       "      if (root.Bokeh !== undefined) {\n",
       "        clearInterval(timer);\n",
       "        embed_document(root);\n",
       "      } else {\n",
       "        attempts++;\n",
       "        if (attempts > 100) {\n",
       "          clearInterval(timer);\n",
       "          console.log(\"Bokeh: ERROR: Unable to run BokehJS code because BokehJS library is missing\");\n",
       "        }\n",
       "      }\n",
       "    }, 10, root)\n",
       "  }\n",
       "})(window);"
      ],
      "application/vnd.bokehjs_exec.v0+json": ""
     },
     "metadata": {
      "application/vnd.bokehjs_exec.v0+json": {
       "id": "19718"
      }
     },
     "output_type": "display_data"
    }
   ],
   "source": [
    "x = np.linspace(0, 4*np.pi, 100)\n",
    "y = np.sin(x)\n",
    "\n",
    "p = figure()\n",
    "\n",
    "p.circle(x, y, legend_label=\"sin(x)\")\n",
    "p.line(x, y, legend_label=\"sin(x)\")\n",
    "\n",
    "p.line(x, 2*y, legend_label=\"2*sin(x)\", line_dash=[4, 4], line_color=\"orange\", line_width=2)\n",
    "\n",
    "p.square(x, 3*y, legend_label=\"3*sin(x)\", fill_color=None, line_color=\"green\")\n",
    "p.line(x, 3*y, legend_label=\"3*sin(x)\", line_color=\"green\")\n",
    "\n",
    "p.legend.orientation = \"horizontal\"\n",
    "\n",
    "show(p)"
   ]
  },
  {
   "cell_type": "code",
   "execution_count": null,
   "metadata": {},
   "outputs": [],
   "source": []
  },
  {
   "cell_type": "code",
   "execution_count": null,
   "metadata": {},
   "outputs": [],
   "source": []
  }
 ],
 "metadata": {
  "kernelspec": {
   "display_name": "Python 3",
   "language": "python",
   "name": "python3"
  },
  "language_info": {
   "codemirror_mode": {
    "name": "ipython",
    "version": 3
   },
   "file_extension": ".py",
   "mimetype": "text/x-python",
   "name": "python",
   "nbconvert_exporter": "python",
   "pygments_lexer": "ipython3",
   "version": "3.7.2"
  }
 },
 "nbformat": 4,
 "nbformat_minor": 2
}
