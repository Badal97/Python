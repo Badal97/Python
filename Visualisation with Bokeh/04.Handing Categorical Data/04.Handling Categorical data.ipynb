{
 "cells": [
  {
   "cell_type": "code",
   "execution_count": 1,
   "metadata": {},
   "outputs": [],
   "source": [
    "import numpy as np\n",
    "import pandas as pd\n",
    "from bokeh.io import show, output_notebook\n",
    "from bokeh.plotting import figure"
   ]
  },
  {
   "cell_type": "code",
   "execution_count": 2,
   "metadata": {},
   "outputs": [
    {
     "data": {
      "text/html": [
       "\n",
       "    <div class=\"bk-root\">\n",
       "        <a href=\"https://bokeh.org\" target=\"_blank\" class=\"bk-logo bk-logo-small bk-logo-notebook\"></a>\n",
       "        <span id=\"1001\">Loading BokehJS ...</span>\n",
       "    </div>"
      ]
     },
     "metadata": {},
     "output_type": "display_data"
    },
    {
     "data": {
      "application/javascript": [
       "\n",
       "(function(root) {\n",
       "  function now() {\n",
       "    return new Date();\n",
       "  }\n",
       "\n",
       "  var force = true;\n",
       "\n",
       "  if (typeof root._bokeh_onload_callbacks === \"undefined\" || force === true) {\n",
       "    root._bokeh_onload_callbacks = [];\n",
       "    root._bokeh_is_loading = undefined;\n",
       "  }\n",
       "\n",
       "  var JS_MIME_TYPE = 'application/javascript';\n",
       "  var HTML_MIME_TYPE = 'text/html';\n",
       "  var EXEC_MIME_TYPE = 'application/vnd.bokehjs_exec.v0+json';\n",
       "  var CLASS_NAME = 'output_bokeh rendered_html';\n",
       "\n",
       "  /**\n",
       "   * Render data to the DOM node\n",
       "   */\n",
       "  function render(props, node) {\n",
       "    var script = document.createElement(\"script\");\n",
       "    node.appendChild(script);\n",
       "  }\n",
       "\n",
       "  /**\n",
       "   * Handle when an output is cleared or removed\n",
       "   */\n",
       "  function handleClearOutput(event, handle) {\n",
       "    var cell = handle.cell;\n",
       "\n",
       "    var id = cell.output_area._bokeh_element_id;\n",
       "    var server_id = cell.output_area._bokeh_server_id;\n",
       "    // Clean up Bokeh references\n",
       "    if (id != null && id in Bokeh.index) {\n",
       "      Bokeh.index[id].model.document.clear();\n",
       "      delete Bokeh.index[id];\n",
       "    }\n",
       "\n",
       "    if (server_id !== undefined) {\n",
       "      // Clean up Bokeh references\n",
       "      var cmd = \"from bokeh.io.state import curstate; print(curstate().uuid_to_server['\" + server_id + \"'].get_sessions()[0].document.roots[0]._id)\";\n",
       "      cell.notebook.kernel.execute(cmd, {\n",
       "        iopub: {\n",
       "          output: function(msg) {\n",
       "            var id = msg.content.text.trim();\n",
       "            if (id in Bokeh.index) {\n",
       "              Bokeh.index[id].model.document.clear();\n",
       "              delete Bokeh.index[id];\n",
       "            }\n",
       "          }\n",
       "        }\n",
       "      });\n",
       "      // Destroy server and session\n",
       "      var cmd = \"import bokeh.io.notebook as ion; ion.destroy_server('\" + server_id + \"')\";\n",
       "      cell.notebook.kernel.execute(cmd);\n",
       "    }\n",
       "  }\n",
       "\n",
       "  /**\n",
       "   * Handle when a new output is added\n",
       "   */\n",
       "  function handleAddOutput(event, handle) {\n",
       "    var output_area = handle.output_area;\n",
       "    var output = handle.output;\n",
       "\n",
       "    // limit handleAddOutput to display_data with EXEC_MIME_TYPE content only\n",
       "    if ((output.output_type != \"display_data\") || (!output.data.hasOwnProperty(EXEC_MIME_TYPE))) {\n",
       "      return\n",
       "    }\n",
       "\n",
       "    var toinsert = output_area.element.find(\".\" + CLASS_NAME.split(' ')[0]);\n",
       "\n",
       "    if (output.metadata[EXEC_MIME_TYPE][\"id\"] !== undefined) {\n",
       "      toinsert[toinsert.length - 1].firstChild.textContent = output.data[JS_MIME_TYPE];\n",
       "      // store reference to embed id on output_area\n",
       "      output_area._bokeh_element_id = output.metadata[EXEC_MIME_TYPE][\"id\"];\n",
       "    }\n",
       "    if (output.metadata[EXEC_MIME_TYPE][\"server_id\"] !== undefined) {\n",
       "      var bk_div = document.createElement(\"div\");\n",
       "      bk_div.innerHTML = output.data[HTML_MIME_TYPE];\n",
       "      var script_attrs = bk_div.children[0].attributes;\n",
       "      for (var i = 0; i < script_attrs.length; i++) {\n",
       "        toinsert[toinsert.length - 1].firstChild.setAttribute(script_attrs[i].name, script_attrs[i].value);\n",
       "      }\n",
       "      // store reference to server id on output_area\n",
       "      output_area._bokeh_server_id = output.metadata[EXEC_MIME_TYPE][\"server_id\"];\n",
       "    }\n",
       "  }\n",
       "\n",
       "  function register_renderer(events, OutputArea) {\n",
       "\n",
       "    function append_mime(data, metadata, element) {\n",
       "      // create a DOM node to render to\n",
       "      var toinsert = this.create_output_subarea(\n",
       "        metadata,\n",
       "        CLASS_NAME,\n",
       "        EXEC_MIME_TYPE\n",
       "      );\n",
       "      this.keyboard_manager.register_events(toinsert);\n",
       "      // Render to node\n",
       "      var props = {data: data, metadata: metadata[EXEC_MIME_TYPE]};\n",
       "      render(props, toinsert[toinsert.length - 1]);\n",
       "      element.append(toinsert);\n",
       "      return toinsert\n",
       "    }\n",
       "\n",
       "    /* Handle when an output is cleared or removed */\n",
       "    events.on('clear_output.CodeCell', handleClearOutput);\n",
       "    events.on('delete.Cell', handleClearOutput);\n",
       "\n",
       "    /* Handle when a new output is added */\n",
       "    events.on('output_added.OutputArea', handleAddOutput);\n",
       "\n",
       "    /**\n",
       "     * Register the mime type and append_mime function with output_area\n",
       "     */\n",
       "    OutputArea.prototype.register_mime_type(EXEC_MIME_TYPE, append_mime, {\n",
       "      /* Is output safe? */\n",
       "      safe: true,\n",
       "      /* Index of renderer in `output_area.display_order` */\n",
       "      index: 0\n",
       "    });\n",
       "  }\n",
       "\n",
       "  // register the mime type if in Jupyter Notebook environment and previously unregistered\n",
       "  if (root.Jupyter !== undefined) {\n",
       "    var events = require('base/js/events');\n",
       "    var OutputArea = require('notebook/js/outputarea').OutputArea;\n",
       "\n",
       "    if (OutputArea.prototype.mime_types().indexOf(EXEC_MIME_TYPE) == -1) {\n",
       "      register_renderer(events, OutputArea);\n",
       "    }\n",
       "  }\n",
       "\n",
       "  \n",
       "  if (typeof (root._bokeh_timeout) === \"undefined\" || force === true) {\n",
       "    root._bokeh_timeout = Date.now() + 5000;\n",
       "    root._bokeh_failed_load = false;\n",
       "  }\n",
       "\n",
       "  var NB_LOAD_WARNING = {'data': {'text/html':\n",
       "     \"<div style='background-color: #fdd'>\\n\"+\n",
       "     \"<p>\\n\"+\n",
       "     \"BokehJS does not appear to have successfully loaded. If loading BokehJS from CDN, this \\n\"+\n",
       "     \"may be due to a slow or bad network connection. Possible fixes:\\n\"+\n",
       "     \"</p>\\n\"+\n",
       "     \"<ul>\\n\"+\n",
       "     \"<li>re-rerun `output_notebook()` to attempt to load from CDN again, or</li>\\n\"+\n",
       "     \"<li>use INLINE resources instead, as so:</li>\\n\"+\n",
       "     \"</ul>\\n\"+\n",
       "     \"<code>\\n\"+\n",
       "     \"from bokeh.resources import INLINE\\n\"+\n",
       "     \"output_notebook(resources=INLINE)\\n\"+\n",
       "     \"</code>\\n\"+\n",
       "     \"</div>\"}};\n",
       "\n",
       "  function display_loaded() {\n",
       "    var el = document.getElementById(\"1001\");\n",
       "    if (el != null) {\n",
       "      el.textContent = \"BokehJS is loading...\";\n",
       "    }\n",
       "    if (root.Bokeh !== undefined) {\n",
       "      if (el != null) {\n",
       "        el.textContent = \"BokehJS \" + root.Bokeh.version + \" successfully loaded.\";\n",
       "      }\n",
       "    } else if (Date.now() < root._bokeh_timeout) {\n",
       "      setTimeout(display_loaded, 100)\n",
       "    }\n",
       "  }\n",
       "\n",
       "\n",
       "  function run_callbacks() {\n",
       "    try {\n",
       "      root._bokeh_onload_callbacks.forEach(function(callback) {\n",
       "        if (callback != null)\n",
       "          callback();\n",
       "      });\n",
       "    } finally {\n",
       "      delete root._bokeh_onload_callbacks\n",
       "    }\n",
       "    console.debug(\"Bokeh: all callbacks have finished\");\n",
       "  }\n",
       "\n",
       "  function load_libs(css_urls, js_urls, callback) {\n",
       "    if (css_urls == null) css_urls = [];\n",
       "    if (js_urls == null) js_urls = [];\n",
       "\n",
       "    root._bokeh_onload_callbacks.push(callback);\n",
       "    if (root._bokeh_is_loading > 0) {\n",
       "      console.debug(\"Bokeh: BokehJS is being loaded, scheduling callback at\", now());\n",
       "      return null;\n",
       "    }\n",
       "    if (js_urls == null || js_urls.length === 0) {\n",
       "      run_callbacks();\n",
       "      return null;\n",
       "    }\n",
       "    console.debug(\"Bokeh: BokehJS not loaded, scheduling load and callback at\", now());\n",
       "    root._bokeh_is_loading = css_urls.length + js_urls.length;\n",
       "\n",
       "    function on_load() {\n",
       "      root._bokeh_is_loading--;\n",
       "      if (root._bokeh_is_loading === 0) {\n",
       "        console.debug(\"Bokeh: all BokehJS libraries/stylesheets loaded\");\n",
       "        run_callbacks()\n",
       "      }\n",
       "    }\n",
       "\n",
       "    function on_error() {\n",
       "      console.error(\"failed to load \" + url);\n",
       "    }\n",
       "\n",
       "    for (var i = 0; i < css_urls.length; i++) {\n",
       "      var url = css_urls[i];\n",
       "      const element = document.createElement(\"link\");\n",
       "      element.onload = on_load;\n",
       "      element.onerror = on_error;\n",
       "      element.rel = \"stylesheet\";\n",
       "      element.type = \"text/css\";\n",
       "      element.href = url;\n",
       "      console.debug(\"Bokeh: injecting link tag for BokehJS stylesheet: \", url);\n",
       "      document.body.appendChild(element);\n",
       "    }\n",
       "\n",
       "    for (var i = 0; i < js_urls.length; i++) {\n",
       "      var url = js_urls[i];\n",
       "      var element = document.createElement('script');\n",
       "      element.onload = on_load;\n",
       "      element.onerror = on_error;\n",
       "      element.async = false;\n",
       "      element.src = url;\n",
       "      console.debug(\"Bokeh: injecting script tag for BokehJS library: \", url);\n",
       "      document.head.appendChild(element);\n",
       "    }\n",
       "  };var element = document.getElementById(\"1001\");\n",
       "  if (element == null) {\n",
       "    console.error(\"Bokeh: ERROR: autoload.js configured with elementid '1001' but no matching script tag was found. \")\n",
       "    return false;\n",
       "  }\n",
       "\n",
       "  function inject_raw_css(css) {\n",
       "    const element = document.createElement(\"style\");\n",
       "    element.appendChild(document.createTextNode(css));\n",
       "    document.body.appendChild(element);\n",
       "  }\n",
       "\n",
       "  \n",
       "  var js_urls = [\"https://cdn.pydata.org/bokeh/release/bokeh-1.4.0.min.js\", \"https://cdn.pydata.org/bokeh/release/bokeh-widgets-1.4.0.min.js\", \"https://cdn.pydata.org/bokeh/release/bokeh-tables-1.4.0.min.js\", \"https://cdn.pydata.org/bokeh/release/bokeh-gl-1.4.0.min.js\"];\n",
       "  var css_urls = [];\n",
       "  \n",
       "\n",
       "  var inline_js = [\n",
       "    function(Bokeh) {\n",
       "      Bokeh.set_log_level(\"info\");\n",
       "    },\n",
       "    function(Bokeh) {\n",
       "    \n",
       "    \n",
       "    }\n",
       "  ];\n",
       "\n",
       "  function run_inline_js() {\n",
       "    \n",
       "    if (root.Bokeh !== undefined || force === true) {\n",
       "      \n",
       "    for (var i = 0; i < inline_js.length; i++) {\n",
       "      inline_js[i].call(root, root.Bokeh);\n",
       "    }\n",
       "    if (force === true) {\n",
       "        display_loaded();\n",
       "      }} else if (Date.now() < root._bokeh_timeout) {\n",
       "      setTimeout(run_inline_js, 100);\n",
       "    } else if (!root._bokeh_failed_load) {\n",
       "      console.log(\"Bokeh: BokehJS failed to load within specified timeout.\");\n",
       "      root._bokeh_failed_load = true;\n",
       "    } else if (force !== true) {\n",
       "      var cell = $(document.getElementById(\"1001\")).parents('.cell').data().cell;\n",
       "      cell.output_area.append_execute_result(NB_LOAD_WARNING)\n",
       "    }\n",
       "\n",
       "  }\n",
       "\n",
       "  if (root._bokeh_is_loading === 0) {\n",
       "    console.debug(\"Bokeh: BokehJS loaded, going straight to plotting\");\n",
       "    run_inline_js();\n",
       "  } else {\n",
       "    load_libs(css_urls, js_urls, function() {\n",
       "      console.debug(\"Bokeh: BokehJS plotting callback run at\", now());\n",
       "      run_inline_js();\n",
       "    });\n",
       "  }\n",
       "}(window));"
      ],
      "application/vnd.bokehjs_load.v0+json": "\n(function(root) {\n  function now() {\n    return new Date();\n  }\n\n  var force = true;\n\n  if (typeof root._bokeh_onload_callbacks === \"undefined\" || force === true) {\n    root._bokeh_onload_callbacks = [];\n    root._bokeh_is_loading = undefined;\n  }\n\n  \n\n  \n  if (typeof (root._bokeh_timeout) === \"undefined\" || force === true) {\n    root._bokeh_timeout = Date.now() + 5000;\n    root._bokeh_failed_load = false;\n  }\n\n  var NB_LOAD_WARNING = {'data': {'text/html':\n     \"<div style='background-color: #fdd'>\\n\"+\n     \"<p>\\n\"+\n     \"BokehJS does not appear to have successfully loaded. If loading BokehJS from CDN, this \\n\"+\n     \"may be due to a slow or bad network connection. Possible fixes:\\n\"+\n     \"</p>\\n\"+\n     \"<ul>\\n\"+\n     \"<li>re-rerun `output_notebook()` to attempt to load from CDN again, or</li>\\n\"+\n     \"<li>use INLINE resources instead, as so:</li>\\n\"+\n     \"</ul>\\n\"+\n     \"<code>\\n\"+\n     \"from bokeh.resources import INLINE\\n\"+\n     \"output_notebook(resources=INLINE)\\n\"+\n     \"</code>\\n\"+\n     \"</div>\"}};\n\n  function display_loaded() {\n    var el = document.getElementById(\"1001\");\n    if (el != null) {\n      el.textContent = \"BokehJS is loading...\";\n    }\n    if (root.Bokeh !== undefined) {\n      if (el != null) {\n        el.textContent = \"BokehJS \" + root.Bokeh.version + \" successfully loaded.\";\n      }\n    } else if (Date.now() < root._bokeh_timeout) {\n      setTimeout(display_loaded, 100)\n    }\n  }\n\n\n  function run_callbacks() {\n    try {\n      root._bokeh_onload_callbacks.forEach(function(callback) {\n        if (callback != null)\n          callback();\n      });\n    } finally {\n      delete root._bokeh_onload_callbacks\n    }\n    console.debug(\"Bokeh: all callbacks have finished\");\n  }\n\n  function load_libs(css_urls, js_urls, callback) {\n    if (css_urls == null) css_urls = [];\n    if (js_urls == null) js_urls = [];\n\n    root._bokeh_onload_callbacks.push(callback);\n    if (root._bokeh_is_loading > 0) {\n      console.debug(\"Bokeh: BokehJS is being loaded, scheduling callback at\", now());\n      return null;\n    }\n    if (js_urls == null || js_urls.length === 0) {\n      run_callbacks();\n      return null;\n    }\n    console.debug(\"Bokeh: BokehJS not loaded, scheduling load and callback at\", now());\n    root._bokeh_is_loading = css_urls.length + js_urls.length;\n\n    function on_load() {\n      root._bokeh_is_loading--;\n      if (root._bokeh_is_loading === 0) {\n        console.debug(\"Bokeh: all BokehJS libraries/stylesheets loaded\");\n        run_callbacks()\n      }\n    }\n\n    function on_error() {\n      console.error(\"failed to load \" + url);\n    }\n\n    for (var i = 0; i < css_urls.length; i++) {\n      var url = css_urls[i];\n      const element = document.createElement(\"link\");\n      element.onload = on_load;\n      element.onerror = on_error;\n      element.rel = \"stylesheet\";\n      element.type = \"text/css\";\n      element.href = url;\n      console.debug(\"Bokeh: injecting link tag for BokehJS stylesheet: \", url);\n      document.body.appendChild(element);\n    }\n\n    for (var i = 0; i < js_urls.length; i++) {\n      var url = js_urls[i];\n      var element = document.createElement('script');\n      element.onload = on_load;\n      element.onerror = on_error;\n      element.async = false;\n      element.src = url;\n      console.debug(\"Bokeh: injecting script tag for BokehJS library: \", url);\n      document.head.appendChild(element);\n    }\n  };var element = document.getElementById(\"1001\");\n  if (element == null) {\n    console.error(\"Bokeh: ERROR: autoload.js configured with elementid '1001' but no matching script tag was found. \")\n    return false;\n  }\n\n  function inject_raw_css(css) {\n    const element = document.createElement(\"style\");\n    element.appendChild(document.createTextNode(css));\n    document.body.appendChild(element);\n  }\n\n  \n  var js_urls = [\"https://cdn.pydata.org/bokeh/release/bokeh-1.4.0.min.js\", \"https://cdn.pydata.org/bokeh/release/bokeh-widgets-1.4.0.min.js\", \"https://cdn.pydata.org/bokeh/release/bokeh-tables-1.4.0.min.js\", \"https://cdn.pydata.org/bokeh/release/bokeh-gl-1.4.0.min.js\"];\n  var css_urls = [];\n  \n\n  var inline_js = [\n    function(Bokeh) {\n      Bokeh.set_log_level(\"info\");\n    },\n    function(Bokeh) {\n    \n    \n    }\n  ];\n\n  function run_inline_js() {\n    \n    if (root.Bokeh !== undefined || force === true) {\n      \n    for (var i = 0; i < inline_js.length; i++) {\n      inline_js[i].call(root, root.Bokeh);\n    }\n    if (force === true) {\n        display_loaded();\n      }} else if (Date.now() < root._bokeh_timeout) {\n      setTimeout(run_inline_js, 100);\n    } else if (!root._bokeh_failed_load) {\n      console.log(\"Bokeh: BokehJS failed to load within specified timeout.\");\n      root._bokeh_failed_load = true;\n    } else if (force !== true) {\n      var cell = $(document.getElementById(\"1001\")).parents('.cell').data().cell;\n      cell.output_area.append_execute_result(NB_LOAD_WARNING)\n    }\n\n  }\n\n  if (root._bokeh_is_loading === 0) {\n    console.debug(\"Bokeh: BokehJS loaded, going straight to plotting\");\n    run_inline_js();\n  } else {\n    load_libs(css_urls, js_urls, function() {\n      console.debug(\"Bokeh: BokehJS plotting callback run at\", now());\n      run_inline_js();\n    });\n  }\n}(window));"
     },
     "metadata": {},
     "output_type": "display_data"
    }
   ],
   "source": [
    "output_notebook()"
   ]
  },
  {
   "cell_type": "markdown",
   "metadata": {},
   "source": [
    "### Bar"
   ]
  },
  {
   "cell_type": "code",
   "execution_count": 4,
   "metadata": {},
   "outputs": [
    {
     "data": {
      "text/html": [
       "\n",
       "\n",
       "\n",
       "\n",
       "\n",
       "\n",
       "  <div class=\"bk-root\" id=\"b4e9bda1-42df-409e-8bc0-7fe6dfa95ce3\" data-root-id=\"1077\"></div>\n"
      ]
     },
     "metadata": {},
     "output_type": "display_data"
    },
    {
     "data": {
      "application/javascript": [
       "(function(root) {\n",
       "  function embed_document(root) {\n",
       "    \n",
       "  var docs_json = {\"4a397126-d747-4a60-9a24-ae529ecaedad\":{\"roots\":{\"references\":[{\"attributes\":{\"below\":[{\"id\":\"1088\",\"type\":\"CategoricalAxis\"}],\"center\":[{\"id\":\"1091\",\"type\":\"Grid\"},{\"id\":\"1096\",\"type\":\"Grid\"}],\"left\":[{\"id\":\"1092\",\"type\":\"LinearAxis\"}],\"plot_height\":250,\"renderers\":[{\"id\":\"1101\",\"type\":\"GlyphRenderer\"}],\"title\":{\"id\":\"1078\",\"type\":\"Title\"},\"toolbar\":{\"id\":\"1097\",\"type\":\"Toolbar\"},\"toolbar_location\":null,\"x_range\":{\"id\":\"1080\",\"type\":\"FactorRange\"},\"x_scale\":{\"id\":\"1084\",\"type\":\"CategoricalScale\"},\"y_range\":{\"id\":\"1082\",\"type\":\"DataRange1d\"},\"y_scale\":{\"id\":\"1086\",\"type\":\"LinearScale\"}},\"id\":\"1077\",\"subtype\":\"Figure\",\"type\":\"Plot\"},{\"attributes\":{\"text\":\"Fruit Counts\"},\"id\":\"1078\",\"type\":\"Title\"},{\"attributes\":{\"callback\":null,\"factors\":[\"Apples\",\"Pears\",\"Nectarines\",\"Plums\",\"Grapes\",\"Strawberries\"]},\"id\":\"1080\",\"type\":\"FactorRange\"},{\"attributes\":{\"formatter\":{\"id\":\"1112\",\"type\":\"CategoricalTickFormatter\"},\"ticker\":{\"id\":\"1089\",\"type\":\"CategoricalTicker\"}},\"id\":\"1088\",\"type\":\"CategoricalAxis\"},{\"attributes\":{},\"id\":\"1084\",\"type\":\"CategoricalScale\"},{\"attributes\":{\"callback\":null,\"start\":0},\"id\":\"1082\",\"type\":\"DataRange1d\"},{\"attributes\":{\"grid_line_color\":null,\"ticker\":{\"id\":\"1089\",\"type\":\"CategoricalTicker\"}},\"id\":\"1091\",\"type\":\"Grid\"},{\"attributes\":{},\"id\":\"1086\",\"type\":\"LinearScale\"},{\"attributes\":{},\"id\":\"1089\",\"type\":\"CategoricalTicker\"},{\"attributes\":{},\"id\":\"1115\",\"type\":\"Selection\"},{\"attributes\":{},\"id\":\"1093\",\"type\":\"BasicTicker\"},{\"attributes\":{\"active_drag\":\"auto\",\"active_inspect\":\"auto\",\"active_multi\":null,\"active_scroll\":\"auto\",\"active_tap\":\"auto\"},\"id\":\"1097\",\"type\":\"Toolbar\"},{\"attributes\":{\"data_source\":{\"id\":\"1098\",\"type\":\"ColumnDataSource\"},\"glyph\":{\"id\":\"1099\",\"type\":\"VBar\"},\"hover_glyph\":null,\"muted_glyph\":null,\"nonselection_glyph\":{\"id\":\"1100\",\"type\":\"VBar\"},\"selection_glyph\":null,\"view\":{\"id\":\"1102\",\"type\":\"CDSView\"}},\"id\":\"1101\",\"type\":\"GlyphRenderer\"},{\"attributes\":{\"callback\":null,\"data\":{\"top\":[5,3,4,2,4,6],\"x\":[\"Apples\",\"Pears\",\"Nectarines\",\"Plums\",\"Grapes\",\"Strawberries\"]},\"selected\":{\"id\":\"1115\",\"type\":\"Selection\"},\"selection_policy\":{\"id\":\"1116\",\"type\":\"UnionRenderers\"}},\"id\":\"1098\",\"type\":\"ColumnDataSource\"},{\"attributes\":{\"dimension\":1,\"ticker\":{\"id\":\"1093\",\"type\":\"BasicTicker\"}},\"id\":\"1096\",\"type\":\"Grid\"},{\"attributes\":{\"fill_alpha\":{\"value\":0.1},\"fill_color\":{\"value\":\"#1f77b4\"},\"line_alpha\":{\"value\":0.1},\"line_color\":{\"value\":\"#1f77b4\"},\"top\":{\"field\":\"top\"},\"width\":{\"value\":0.9},\"x\":{\"field\":\"x\"}},\"id\":\"1100\",\"type\":\"VBar\"},{\"attributes\":{\"source\":{\"id\":\"1098\",\"type\":\"ColumnDataSource\"}},\"id\":\"1102\",\"type\":\"CDSView\"},{\"attributes\":{\"formatter\":{\"id\":\"1114\",\"type\":\"BasicTickFormatter\"},\"ticker\":{\"id\":\"1093\",\"type\":\"BasicTicker\"}},\"id\":\"1092\",\"type\":\"LinearAxis\"},{\"attributes\":{\"fill_color\":{\"value\":\"#1f77b4\"},\"line_color\":{\"value\":\"#1f77b4\"},\"top\":{\"field\":\"top\"},\"width\":{\"value\":0.9},\"x\":{\"field\":\"x\"}},\"id\":\"1099\",\"type\":\"VBar\"},{\"attributes\":{},\"id\":\"1116\",\"type\":\"UnionRenderers\"},{\"attributes\":{},\"id\":\"1114\",\"type\":\"BasicTickFormatter\"},{\"attributes\":{},\"id\":\"1112\",\"type\":\"CategoricalTickFormatter\"}],\"root_ids\":[\"1077\"]},\"title\":\"Bokeh Application\",\"version\":\"1.4.0\"}};\n",
       "  var render_items = [{\"docid\":\"4a397126-d747-4a60-9a24-ae529ecaedad\",\"roots\":{\"1077\":\"b4e9bda1-42df-409e-8bc0-7fe6dfa95ce3\"}}];\n",
       "  root.Bokeh.embed.embed_items_notebook(docs_json, render_items);\n",
       "\n",
       "  }\n",
       "  if (root.Bokeh !== undefined) {\n",
       "    embed_document(root);\n",
       "  } else {\n",
       "    var attempts = 0;\n",
       "    var timer = setInterval(function(root) {\n",
       "      if (root.Bokeh !== undefined) {\n",
       "        clearInterval(timer);\n",
       "        embed_document(root);\n",
       "      } else {\n",
       "        attempts++;\n",
       "        if (attempts > 100) {\n",
       "          clearInterval(timer);\n",
       "          console.log(\"Bokeh: ERROR: Unable to run BokehJS code because BokehJS library is missing\");\n",
       "        }\n",
       "      }\n",
       "    }, 10, root)\n",
       "  }\n",
       "})(window);"
      ],
      "application/vnd.bokehjs_exec.v0+json": ""
     },
     "metadata": {
      "application/vnd.bokehjs_exec.v0+json": {
       "id": "1077"
      }
     },
     "output_type": "display_data"
    }
   ],
   "source": [
    "fruits = ['Apples', 'Pears', 'Nectarines', 'Plums', 'Grapes', 'Strawberries']\n",
    "counts = [5, 3, 4, 2, 4, 6]\n",
    "\n",
    "p = figure(x_range=fruits, plot_height=250, title=\"Fruit Counts\",toolbar_location=None, tools=\"\")\n",
    "p.vbar(x=fruits, top=counts, width=0.9)\n",
    "\n",
    "p.xgrid.grid_line_color = None\n",
    "p.y_range.start = 0\n",
    "\n",
    "show(p)"
   ]
  },
  {
   "cell_type": "code",
   "execution_count": 7,
   "metadata": {},
   "outputs": [
    {
     "data": {
      "text/html": [
       "\n",
       "\n",
       "\n",
       "\n",
       "\n",
       "\n",
       "  <div class=\"bk-root\" id=\"d34dcc55-f84f-4f28-806f-f3909f4a35a8\" data-root-id=\"1267\"></div>\n"
      ]
     },
     "metadata": {},
     "output_type": "display_data"
    },
    {
     "data": {
      "application/javascript": [
       "(function(root) {\n",
       "  function embed_document(root) {\n",
       "    \n",
       "  var docs_json = {\"4bded9cc-05f4-4685-9cd3-11b58a245fc1\":{\"roots\":{\"references\":[{\"attributes\":{\"below\":[{\"id\":\"1278\",\"type\":\"CategoricalAxis\"}],\"center\":[{\"id\":\"1281\",\"type\":\"Grid\"},{\"id\":\"1286\",\"type\":\"Grid\"}],\"left\":[{\"id\":\"1282\",\"type\":\"LinearAxis\"}],\"plot_height\":350,\"renderers\":[{\"id\":\"1303\",\"type\":\"GlyphRenderer\"}],\"title\":{\"id\":\"1268\",\"type\":\"Title\"},\"toolbar\":{\"id\":\"1293\",\"type\":\"Toolbar\"},\"x_range\":{\"id\":\"1270\",\"type\":\"FactorRange\"},\"x_scale\":{\"id\":\"1274\",\"type\":\"CategoricalScale\"},\"y_range\":{\"id\":\"1272\",\"type\":\"DataRange1d\"},\"y_scale\":{\"id\":\"1276\",\"type\":\"LinearScale\"}},\"id\":\"1267\",\"subtype\":\"Figure\",\"type\":\"Plot\"},{\"attributes\":{},\"id\":\"1274\",\"type\":\"CategoricalScale\"},{\"attributes\":{\"active_drag\":\"auto\",\"active_inspect\":\"auto\",\"active_multi\":null,\"active_scroll\":\"auto\",\"active_tap\":\"auto\",\"tools\":[{\"id\":\"1287\",\"type\":\"PanTool\"},{\"id\":\"1288\",\"type\":\"WheelZoomTool\"},{\"id\":\"1289\",\"type\":\"BoxZoomTool\"},{\"id\":\"1290\",\"type\":\"SaveTool\"},{\"id\":\"1291\",\"type\":\"ResetTool\"},{\"id\":\"1292\",\"type\":\"HelpTool\"}]},\"id\":\"1293\",\"type\":\"Toolbar\"},{\"attributes\":{},\"id\":\"1279\",\"type\":\"CategoricalTicker\"},{\"attributes\":{\"formatter\":{\"id\":\"1329\",\"type\":\"CategoricalTickFormatter\"},\"ticker\":{\"id\":\"1279\",\"type\":\"CategoricalTicker\"}},\"id\":\"1278\",\"type\":\"CategoricalAxis\"},{\"attributes\":{},\"id\":\"1276\",\"type\":\"LinearScale\"},{\"attributes\":{},\"id\":\"1283\",\"type\":\"BasicTicker\"},{\"attributes\":{\"callback\":null,\"data\":{\"top\":[5,3,4,2,4,6],\"x\":[\"Apples\",\"Pears\",\"Nectarines\",\"Plums\",\"Grapes\",\"Strawberries\"]},\"selected\":{\"id\":\"1332\",\"type\":\"Selection\"},\"selection_policy\":{\"id\":\"1333\",\"type\":\"UnionRenderers\"}},\"id\":\"1300\",\"type\":\"ColumnDataSource\"},{\"attributes\":{},\"id\":\"1287\",\"type\":\"PanTool\"},{\"attributes\":{\"dimension\":1,\"ticker\":{\"id\":\"1283\",\"type\":\"BasicTicker\"}},\"id\":\"1286\",\"type\":\"Grid\"},{\"attributes\":{},\"id\":\"1288\",\"type\":\"WheelZoomTool\"},{\"attributes\":{\"grid_line_color\":null,\"ticker\":{\"id\":\"1279\",\"type\":\"CategoricalTicker\"}},\"id\":\"1281\",\"type\":\"Grid\"},{\"attributes\":{\"formatter\":{\"id\":\"1331\",\"type\":\"BasicTickFormatter\"},\"ticker\":{\"id\":\"1283\",\"type\":\"BasicTicker\"}},\"id\":\"1282\",\"type\":\"LinearAxis\"},{\"attributes\":{\"fill_color\":{\"value\":\"#1f77b4\"},\"line_color\":{\"value\":\"#1f77b4\"},\"top\":{\"field\":\"top\"},\"width\":{\"value\":0.9},\"x\":{\"field\":\"x\"}},\"id\":\"1301\",\"type\":\"VBar\"},{\"attributes\":{\"overlay\":{\"id\":\"1334\",\"type\":\"BoxAnnotation\"}},\"id\":\"1289\",\"type\":\"BoxZoomTool\"},{\"attributes\":{},\"id\":\"1291\",\"type\":\"ResetTool\"},{\"attributes\":{\"fill_alpha\":{\"value\":0.1},\"fill_color\":{\"value\":\"#1f77b4\"},\"line_alpha\":{\"value\":0.1},\"line_color\":{\"value\":\"#1f77b4\"},\"top\":{\"field\":\"top\"},\"width\":{\"value\":0.9},\"x\":{\"field\":\"x\"}},\"id\":\"1302\",\"type\":\"VBar\"},{\"attributes\":{\"callback\":null,\"start\":0},\"id\":\"1272\",\"type\":\"DataRange1d\"},{\"attributes\":{},\"id\":\"1290\",\"type\":\"SaveTool\"},{\"attributes\":{},\"id\":\"1292\",\"type\":\"HelpTool\"},{\"attributes\":{\"source\":{\"id\":\"1300\",\"type\":\"ColumnDataSource\"}},\"id\":\"1304\",\"type\":\"CDSView\"},{\"attributes\":{},\"id\":\"1332\",\"type\":\"Selection\"},{\"attributes\":{\"data_source\":{\"id\":\"1300\",\"type\":\"ColumnDataSource\"},\"glyph\":{\"id\":\"1301\",\"type\":\"VBar\"},\"hover_glyph\":null,\"muted_glyph\":null,\"nonselection_glyph\":{\"id\":\"1302\",\"type\":\"VBar\"},\"selection_glyph\":null,\"view\":{\"id\":\"1304\",\"type\":\"CDSView\"}},\"id\":\"1303\",\"type\":\"GlyphRenderer\"},{\"attributes\":{},\"id\":\"1329\",\"type\":\"CategoricalTickFormatter\"},{\"attributes\":{},\"id\":\"1331\",\"type\":\"BasicTickFormatter\"},{\"attributes\":{\"text\":\"Fruit Counts\"},\"id\":\"1268\",\"type\":\"Title\"},{\"attributes\":{},\"id\":\"1333\",\"type\":\"UnionRenderers\"},{\"attributes\":{\"callback\":null,\"factors\":[\"Plums\",\"Pears\",\"Nectarines\",\"Grapes\",\"Apples\",\"Strawberries\"]},\"id\":\"1270\",\"type\":\"FactorRange\"},{\"attributes\":{\"bottom_units\":\"screen\",\"fill_alpha\":{\"value\":0.5},\"fill_color\":{\"value\":\"lightgrey\"},\"left_units\":\"screen\",\"level\":\"overlay\",\"line_alpha\":{\"value\":1.0},\"line_color\":{\"value\":\"black\"},\"line_dash\":[4,4],\"line_width\":{\"value\":2},\"render_mode\":\"css\",\"right_units\":\"screen\",\"top_units\":\"screen\"},\"id\":\"1334\",\"type\":\"BoxAnnotation\"}],\"root_ids\":[\"1267\"]},\"title\":\"Bokeh Application\",\"version\":\"1.4.0\"}};\n",
       "  var render_items = [{\"docid\":\"4bded9cc-05f4-4685-9cd3-11b58a245fc1\",\"roots\":{\"1267\":\"d34dcc55-f84f-4f28-806f-f3909f4a35a8\"}}];\n",
       "  root.Bokeh.embed.embed_items_notebook(docs_json, render_items);\n",
       "\n",
       "  }\n",
       "  if (root.Bokeh !== undefined) {\n",
       "    embed_document(root);\n",
       "  } else {\n",
       "    var attempts = 0;\n",
       "    var timer = setInterval(function(root) {\n",
       "      if (root.Bokeh !== undefined) {\n",
       "        clearInterval(timer);\n",
       "        embed_document(root);\n",
       "      } else {\n",
       "        attempts++;\n",
       "        if (attempts > 100) {\n",
       "          clearInterval(timer);\n",
       "          console.log(\"Bokeh: ERROR: Unable to run BokehJS code because BokehJS library is missing\");\n",
       "        }\n",
       "      }\n",
       "    }, 10, root)\n",
       "  }\n",
       "})(window);"
      ],
      "application/vnd.bokehjs_exec.v0+json": ""
     },
     "metadata": {
      "application/vnd.bokehjs_exec.v0+json": {
       "id": "1267"
      }
     },
     "output_type": "display_data"
    }
   ],
   "source": [
    "sorted_fruits = sorted(fruits, key=lambda x: counts[fruits.index(x)])\n",
    "\n",
    "p = figure(x_range=sorted_fruits, plot_height=350, title=\"Fruit Counts\")\n",
    "p.vbar(x=fruits, top=counts, width=0.9)\n",
    "\n",
    "p.xgrid.grid_line_color = None\n",
    "p.y_range.start = 0\n",
    "\n",
    "show(p)"
   ]
  },
  {
   "cell_type": "code",
   "execution_count": 21,
   "metadata": {},
   "outputs": [
    {
     "data": {
      "text/html": [
       "\n",
       "\n",
       "\n",
       "\n",
       "\n",
       "\n",
       "  <div class=\"bk-root\" id=\"7a7a2e97-fb57-45fd-b860-5bae1fe7ec99\" data-root-id=\"2624\"></div>\n"
      ]
     },
     "metadata": {},
     "output_type": "display_data"
    },
    {
     "data": {
      "application/javascript": [
       "(function(root) {\n",
       "  function embed_document(root) {\n",
       "    \n",
       "  var docs_json = {\"909381e2-cb47-423d-b3e4-98d62e74c30b\":{\"roots\":{\"references\":[{\"attributes\":{\"below\":[{\"id\":\"2635\",\"type\":\"CategoricalAxis\"}],\"center\":[{\"id\":\"2638\",\"type\":\"Grid\"},{\"id\":\"2643\",\"type\":\"Grid\"},{\"id\":\"2668\",\"type\":\"Legend\"}],\"left\":[{\"id\":\"2639\",\"type\":\"LinearAxis\"}],\"plot_height\":350,\"renderers\":[{\"id\":\"2660\",\"type\":\"GlyphRenderer\"}],\"title\":{\"id\":\"2625\",\"type\":\"Title\"},\"toolbar\":{\"id\":\"2650\",\"type\":\"Toolbar\"},\"x_range\":{\"id\":\"2627\",\"type\":\"FactorRange\"},\"x_scale\":{\"id\":\"2631\",\"type\":\"CategoricalScale\"},\"y_range\":{\"id\":\"2629\",\"type\":\"Range1d\"},\"y_scale\":{\"id\":\"2633\",\"type\":\"LinearScale\"}},\"id\":\"2624\",\"subtype\":\"Figure\",\"type\":\"Plot\"},{\"attributes\":{\"dimension\":1,\"ticker\":{\"id\":\"2640\",\"type\":\"BasicTicker\"}},\"id\":\"2643\",\"type\":\"Grid\"},{\"attributes\":{},\"id\":\"2640\",\"type\":\"BasicTicker\"},{\"attributes\":{},\"id\":\"2770\",\"type\":\"Selection\"},{\"attributes\":{\"callback\":null,\"factors\":[\"Apples\",\"Pears\",\"Nectarines\",\"Plums\",\"Grapes\",\"Strawberries\"]},\"id\":\"2627\",\"type\":\"FactorRange\"},{\"attributes\":{\"callback\":null,\"end\":9},\"id\":\"2629\",\"type\":\"Range1d\"},{\"attributes\":{},\"id\":\"2633\",\"type\":\"LinearScale\"},{\"attributes\":{\"text\":\"Fruit Counts\"},\"id\":\"2625\",\"type\":\"Title\"},{\"attributes\":{\"fill_color\":{\"field\":\"color\"},\"line_color\":{\"field\":\"color\"},\"top\":{\"field\":\"counts\"},\"width\":{\"value\":0.9},\"x\":{\"field\":\"fruits\"}},\"id\":\"2658\",\"type\":\"VBar\"},{\"attributes\":{},\"id\":\"2647\",\"type\":\"SaveTool\"},{\"attributes\":{\"fill_alpha\":{\"value\":0.1},\"fill_color\":{\"value\":\"#1f77b4\"},\"line_alpha\":{\"value\":0.1},\"line_color\":{\"value\":\"#1f77b4\"},\"top\":{\"field\":\"counts\"},\"width\":{\"value\":0.9},\"x\":{\"field\":\"fruits\"}},\"id\":\"2659\",\"type\":\"VBar\"},{\"attributes\":{},\"id\":\"2666\",\"type\":\"BasicTickFormatter\"},{\"attributes\":{\"formatter\":{\"id\":\"2664\",\"type\":\"CategoricalTickFormatter\"},\"ticker\":{\"id\":\"2636\",\"type\":\"CategoricalTicker\"}},\"id\":\"2635\",\"type\":\"CategoricalAxis\"},{\"attributes\":{},\"id\":\"2636\",\"type\":\"CategoricalTicker\"},{\"attributes\":{\"active_drag\":\"auto\",\"active_inspect\":\"auto\",\"active_multi\":null,\"active_scroll\":\"auto\",\"active_tap\":\"auto\",\"tools\":[{\"id\":\"2644\",\"type\":\"PanTool\"},{\"id\":\"2645\",\"type\":\"WheelZoomTool\"},{\"id\":\"2646\",\"type\":\"BoxZoomTool\"},{\"id\":\"2647\",\"type\":\"SaveTool\"},{\"id\":\"2648\",\"type\":\"ResetTool\"},{\"id\":\"2649\",\"type\":\"HelpTool\"}]},\"id\":\"2650\",\"type\":\"Toolbar\"},{\"attributes\":{},\"id\":\"2649\",\"type\":\"HelpTool\"},{\"attributes\":{\"data_source\":{\"id\":\"2623\",\"type\":\"ColumnDataSource\"},\"glyph\":{\"id\":\"2658\",\"type\":\"VBar\"},\"hover_glyph\":null,\"muted_glyph\":null,\"nonselection_glyph\":{\"id\":\"2659\",\"type\":\"VBar\"},\"selection_glyph\":null,\"view\":{\"id\":\"2661\",\"type\":\"CDSView\"}},\"id\":\"2660\",\"type\":\"GlyphRenderer\"},{\"attributes\":{\"formatter\":{\"id\":\"2666\",\"type\":\"BasicTickFormatter\"},\"ticker\":{\"id\":\"2640\",\"type\":\"BasicTicker\"}},\"id\":\"2639\",\"type\":\"LinearAxis\"},{\"attributes\":{\"overlay\":{\"id\":\"2667\",\"type\":\"BoxAnnotation\"}},\"id\":\"2646\",\"type\":\"BoxZoomTool\"},{\"attributes\":{},\"id\":\"2648\",\"type\":\"ResetTool\"},{\"attributes\":{\"grid_line_color\":null,\"ticker\":{\"id\":\"2636\",\"type\":\"CategoricalTicker\"}},\"id\":\"2638\",\"type\":\"Grid\"},{\"attributes\":{\"bottom_units\":\"screen\",\"fill_alpha\":{\"value\":0.5},\"fill_color\":{\"value\":\"lightgrey\"},\"left_units\":\"screen\",\"level\":\"overlay\",\"line_alpha\":{\"value\":1.0},\"line_color\":{\"value\":\"black\"},\"line_dash\":[4,4],\"line_width\":{\"value\":2},\"render_mode\":\"css\",\"right_units\":\"screen\",\"top_units\":\"screen\"},\"id\":\"2667\",\"type\":\"BoxAnnotation\"},{\"attributes\":{\"items\":[{\"id\":\"2669\",\"type\":\"LegendItem\"}],\"location\":\"top_center\",\"orientation\":\"horizontal\"},\"id\":\"2668\",\"type\":\"Legend\"},{\"attributes\":{\"callback\":null,\"data\":{\"color\":[\"#3288bd\",\"#99d594\",\"#e6f598\",\"#fee08b\",\"#fc8d59\",\"#d53e4f\"],\"counts\":[5,3,4,2,4,6],\"fruits\":[\"Apples\",\"Pears\",\"Nectarines\",\"Plums\",\"Grapes\",\"Strawberries\"]},\"selected\":{\"id\":\"2770\",\"type\":\"Selection\"},\"selection_policy\":{\"id\":\"2771\",\"type\":\"UnionRenderers\"}},\"id\":\"2623\",\"type\":\"ColumnDataSource\"},{\"attributes\":{\"source\":{\"id\":\"2623\",\"type\":\"ColumnDataSource\"}},\"id\":\"2661\",\"type\":\"CDSView\"},{\"attributes\":{},\"id\":\"2631\",\"type\":\"CategoricalScale\"},{\"attributes\":{},\"id\":\"2664\",\"type\":\"CategoricalTickFormatter\"},{\"attributes\":{\"label\":{\"field\":\"fruits\"},\"renderers\":[{\"id\":\"2660\",\"type\":\"GlyphRenderer\"}]},\"id\":\"2669\",\"type\":\"LegendItem\"},{\"attributes\":{},\"id\":\"2644\",\"type\":\"PanTool\"},{\"attributes\":{},\"id\":\"2771\",\"type\":\"UnionRenderers\"},{\"attributes\":{},\"id\":\"2645\",\"type\":\"WheelZoomTool\"}],\"root_ids\":[\"2624\"]},\"title\":\"Bokeh Application\",\"version\":\"1.4.0\"}};\n",
       "  var render_items = [{\"docid\":\"909381e2-cb47-423d-b3e4-98d62e74c30b\",\"roots\":{\"2624\":\"7a7a2e97-fb57-45fd-b860-5bae1fe7ec99\"}}];\n",
       "  root.Bokeh.embed.embed_items_notebook(docs_json, render_items);\n",
       "\n",
       "  }\n",
       "  if (root.Bokeh !== undefined) {\n",
       "    embed_document(root);\n",
       "  } else {\n",
       "    var attempts = 0;\n",
       "    var timer = setInterval(function(root) {\n",
       "      if (root.Bokeh !== undefined) {\n",
       "        clearInterval(timer);\n",
       "        embed_document(root);\n",
       "      } else {\n",
       "        attempts++;\n",
       "        if (attempts > 100) {\n",
       "          clearInterval(timer);\n",
       "          console.log(\"Bokeh: ERROR: Unable to run BokehJS code because BokehJS library is missing\");\n",
       "        }\n",
       "      }\n",
       "    }, 10, root)\n",
       "  }\n",
       "})(window);"
      ],
      "application/vnd.bokehjs_exec.v0+json": ""
     },
     "metadata": {
      "application/vnd.bokehjs_exec.v0+json": {
       "id": "2624"
      }
     },
     "output_type": "display_data"
    }
   ],
   "source": [
    "from bokeh.models import ColumnDataSource, FactorRange\n",
    "from bokeh.palettes import Spectral6\n",
    "\n",
    "fruits = ['Apples', 'Pears', 'Nectarines', 'Plums', 'Grapes', 'Strawberries']\n",
    "counts = [5, 3, 4, 2, 4, 6]\n",
    "\n",
    "source = ColumnDataSource(data=dict(fruits=fruits, counts=counts, color=Spectral6))\n",
    "\n",
    "p = figure(x_range=fruits, y_range=(0,9), plot_height=350, title=\"Fruit Counts\", )\n",
    "p.vbar(x='fruits', top='counts', width=0.9, color='color', legend_field=\"fruits\", source=source)\n",
    "\n",
    "p.xgrid.grid_line_color = None\n",
    "p.legend.orientation = \"horizontal\"\n",
    "p.legend.location = \"top_center\"\n",
    "\n",
    "show(p)"
   ]
  },
  {
   "cell_type": "code",
   "execution_count": 22,
   "metadata": {},
   "outputs": [
    {
     "data": {
      "text/html": [
       "\n",
       "\n",
       "\n",
       "\n",
       "\n",
       "\n",
       "  <div class=\"bk-root\" id=\"01fed735-6724-4749-870f-311a2bbe2366\" data-root-id=\"2822\"></div>\n"
      ]
     },
     "metadata": {},
     "output_type": "display_data"
    },
    {
     "data": {
      "application/javascript": [
       "(function(root) {\n",
       "  function embed_document(root) {\n",
       "    \n",
       "  var docs_json = {\"96a0168c-edbb-4f96-9f22-1e15ed2bb2d7\":{\"roots\":{\"references\":[{\"attributes\":{\"below\":[{\"id\":\"2833\",\"type\":\"CategoricalAxis\"}],\"center\":[{\"id\":\"2836\",\"type\":\"Grid\"},{\"id\":\"2841\",\"type\":\"Grid\"},{\"id\":\"2867\",\"type\":\"Legend\"}],\"left\":[{\"id\":\"2837\",\"type\":\"LinearAxis\"}],\"plot_height\":350,\"renderers\":[{\"id\":\"2859\",\"type\":\"GlyphRenderer\"}],\"title\":{\"id\":\"2823\",\"type\":\"Title\"},\"toolbar\":{\"id\":\"2848\",\"type\":\"Toolbar\"},\"x_range\":{\"id\":\"2825\",\"type\":\"FactorRange\"},\"x_scale\":{\"id\":\"2829\",\"type\":\"CategoricalScale\"},\"y_range\":{\"id\":\"2827\",\"type\":\"DataRange1d\"},\"y_scale\":{\"id\":\"2831\",\"type\":\"LinearScale\"}},\"id\":\"2822\",\"subtype\":\"Figure\",\"type\":\"Plot\"},{\"attributes\":{\"text\":\"Fruit Counts\"},\"id\":\"2823\",\"type\":\"Title\"},{\"attributes\":{\"dimension\":1,\"ticker\":{\"id\":\"2838\",\"type\":\"BasicTicker\"}},\"id\":\"2841\",\"type\":\"Grid\"},{\"attributes\":{\"formatter\":{\"id\":\"2865\",\"type\":\"BasicTickFormatter\"},\"ticker\":{\"id\":\"2838\",\"type\":\"BasicTicker\"}},\"id\":\"2837\",\"type\":\"LinearAxis\"},{\"attributes\":{\"items\":[{\"id\":\"2868\",\"type\":\"LegendItem\"}],\"location\":\"top_center\",\"orientation\":\"horizontal\"},\"id\":\"2867\",\"type\":\"Legend\"},{\"attributes\":{},\"id\":\"2831\",\"type\":\"LinearScale\"},{\"attributes\":{\"fill_color\":{\"field\":\"fruits\",\"transform\":{\"id\":\"2855\",\"type\":\"CategoricalColorMapper\"}},\"line_color\":{\"value\":\"white\"},\"top\":{\"field\":\"counts\"},\"width\":{\"value\":0.9},\"x\":{\"field\":\"fruits\"}},\"id\":\"2857\",\"type\":\"VBar\"},{\"attributes\":{\"active_drag\":\"auto\",\"active_inspect\":\"auto\",\"active_multi\":null,\"active_scroll\":\"auto\",\"active_tap\":\"auto\",\"tools\":[{\"id\":\"2842\",\"type\":\"PanTool\"},{\"id\":\"2843\",\"type\":\"WheelZoomTool\"},{\"id\":\"2844\",\"type\":\"BoxZoomTool\"},{\"id\":\"2845\",\"type\":\"SaveTool\"},{\"id\":\"2846\",\"type\":\"ResetTool\"},{\"id\":\"2847\",\"type\":\"HelpTool\"}]},\"id\":\"2848\",\"type\":\"Toolbar\"},{\"attributes\":{\"label\":{\"field\":\"fruits\"},\"renderers\":[{\"id\":\"2859\",\"type\":\"GlyphRenderer\"}]},\"id\":\"2868\",\"type\":\"LegendItem\"},{\"attributes\":{},\"id\":\"2842\",\"type\":\"PanTool\"},{\"attributes\":{},\"id\":\"2843\",\"type\":\"WheelZoomTool\"},{\"attributes\":{},\"id\":\"2978\",\"type\":\"UnionRenderers\"},{\"attributes\":{\"overlay\":{\"id\":\"2866\",\"type\":\"BoxAnnotation\"}},\"id\":\"2844\",\"type\":\"BoxZoomTool\"},{\"attributes\":{},\"id\":\"2845\",\"type\":\"SaveTool\"},{\"attributes\":{},\"id\":\"2846\",\"type\":\"ResetTool\"},{\"attributes\":{},\"id\":\"2847\",\"type\":\"HelpTool\"},{\"attributes\":{\"callback\":null,\"data\":{\"counts\":[5,3,4,2,4,6],\"fruits\":[\"Apples\",\"Pears\",\"Nectarines\",\"Plums\",\"Grapes\",\"Strawberries\"]},\"selected\":{\"id\":\"2977\",\"type\":\"Selection\"},\"selection_policy\":{\"id\":\"2978\",\"type\":\"UnionRenderers\"}},\"id\":\"2821\",\"type\":\"ColumnDataSource\"},{\"attributes\":{\"data_source\":{\"id\":\"2821\",\"type\":\"ColumnDataSource\"},\"glyph\":{\"id\":\"2857\",\"type\":\"VBar\"},\"hover_glyph\":null,\"muted_glyph\":null,\"nonselection_glyph\":{\"id\":\"2858\",\"type\":\"VBar\"},\"selection_glyph\":null,\"view\":{\"id\":\"2860\",\"type\":\"CDSView\"}},\"id\":\"2859\",\"type\":\"GlyphRenderer\"},{\"attributes\":{\"fill_alpha\":{\"value\":0.1},\"fill_color\":{\"value\":\"#1f77b4\"},\"line_alpha\":{\"value\":0.1},\"line_color\":{\"value\":\"#1f77b4\"},\"top\":{\"field\":\"counts\"},\"width\":{\"value\":0.9},\"x\":{\"field\":\"fruits\"}},\"id\":\"2858\",\"type\":\"VBar\"},{\"attributes\":{\"source\":{\"id\":\"2821\",\"type\":\"ColumnDataSource\"}},\"id\":\"2860\",\"type\":\"CDSView\"},{\"attributes\":{},\"id\":\"2863\",\"type\":\"CategoricalTickFormatter\"},{\"attributes\":{\"bottom_units\":\"screen\",\"fill_alpha\":{\"value\":0.5},\"fill_color\":{\"value\":\"lightgrey\"},\"left_units\":\"screen\",\"level\":\"overlay\",\"line_alpha\":{\"value\":1.0},\"line_color\":{\"value\":\"black\"},\"line_dash\":[4,4],\"line_width\":{\"value\":2},\"render_mode\":\"css\",\"right_units\":\"screen\",\"top_units\":\"screen\"},\"id\":\"2866\",\"type\":\"BoxAnnotation\"},{\"attributes\":{},\"id\":\"2865\",\"type\":\"BasicTickFormatter\"},{\"attributes\":{},\"id\":\"2829\",\"type\":\"CategoricalScale\"},{\"attributes\":{\"grid_line_color\":null,\"ticker\":{\"id\":\"2834\",\"type\":\"CategoricalTicker\"}},\"id\":\"2836\",\"type\":\"Grid\"},{\"attributes\":{},\"id\":\"2977\",\"type\":\"Selection\"},{\"attributes\":{\"factors\":[\"Apples\",\"Pears\",\"Nectarines\",\"Plums\",\"Grapes\",\"Strawberries\"],\"palette\":[\"#3288bd\",\"#99d594\",\"#e6f598\",\"#fee08b\",\"#fc8d59\",\"#d53e4f\"]},\"id\":\"2855\",\"type\":\"CategoricalColorMapper\"},{\"attributes\":{\"callback\":null,\"end\":9,\"start\":0},\"id\":\"2827\",\"type\":\"DataRange1d\"},{\"attributes\":{},\"id\":\"2838\",\"type\":\"BasicTicker\"},{\"attributes\":{},\"id\":\"2834\",\"type\":\"CategoricalTicker\"},{\"attributes\":{\"formatter\":{\"id\":\"2863\",\"type\":\"CategoricalTickFormatter\"},\"ticker\":{\"id\":\"2834\",\"type\":\"CategoricalTicker\"}},\"id\":\"2833\",\"type\":\"CategoricalAxis\"},{\"attributes\":{\"callback\":null,\"factors\":[\"Apples\",\"Pears\",\"Nectarines\",\"Plums\",\"Grapes\",\"Strawberries\"]},\"id\":\"2825\",\"type\":\"FactorRange\"}],\"root_ids\":[\"2822\"]},\"title\":\"Bokeh Application\",\"version\":\"1.4.0\"}};\n",
       "  var render_items = [{\"docid\":\"96a0168c-edbb-4f96-9f22-1e15ed2bb2d7\",\"roots\":{\"2822\":\"01fed735-6724-4749-870f-311a2bbe2366\"}}];\n",
       "  root.Bokeh.embed.embed_items_notebook(docs_json, render_items);\n",
       "\n",
       "  }\n",
       "  if (root.Bokeh !== undefined) {\n",
       "    embed_document(root);\n",
       "  } else {\n",
       "    var attempts = 0;\n",
       "    var timer = setInterval(function(root) {\n",
       "      if (root.Bokeh !== undefined) {\n",
       "        clearInterval(timer);\n",
       "        embed_document(root);\n",
       "      } else {\n",
       "        attempts++;\n",
       "        if (attempts > 100) {\n",
       "          clearInterval(timer);\n",
       "          console.log(\"Bokeh: ERROR: Unable to run BokehJS code because BokehJS library is missing\");\n",
       "        }\n",
       "      }\n",
       "    }, 10, root)\n",
       "  }\n",
       "})(window);"
      ],
      "application/vnd.bokehjs_exec.v0+json": ""
     },
     "metadata": {
      "application/vnd.bokehjs_exec.v0+json": {
       "id": "2822"
      }
     },
     "output_type": "display_data"
    }
   ],
   "source": [
    "from bokeh.transform import factor_cmap\n",
    "\n",
    "source = ColumnDataSource(data=dict(fruits=fruits, counts=counts))\n",
    "\n",
    "p = figure(x_range=fruits, plot_height=350, title=\"Fruit Counts\")\n",
    "p.vbar(x='fruits', top='counts', width=0.9, source=source, legend_field=\"fruits\",\n",
    "       line_color='white', fill_color=factor_cmap('fruits', palette=Spectral6, factors=fruits))\n",
    "\n",
    "p.xgrid.grid_line_color = None\n",
    "p.y_range.start = 0\n",
    "p.y_range.end = 9\n",
    "p.legend.orientation = \"horizontal\"\n",
    "p.legend.location = \"top_center\"\n",
    "\n",
    "show(p)"
   ]
  },
  {
   "cell_type": "code",
   "execution_count": 23,
   "metadata": {},
   "outputs": [
    {
     "data": {
      "text/html": [
       "\n",
       "\n",
       "\n",
       "\n",
       "\n",
       "\n",
       "  <div class=\"bk-root\" id=\"55407cce-4a2f-4ab8-bad3-0e9fa14d1735\" data-root-id=\"3028\"></div>\n"
      ]
     },
     "metadata": {},
     "output_type": "display_data"
    },
    {
     "data": {
      "application/javascript": [
       "(function(root) {\n",
       "  function embed_document(root) {\n",
       "    \n",
       "  var docs_json = {\"c68403dd-8a6d-4ff1-821b-21df0cecaf82\":{\"roots\":{\"references\":[{\"attributes\":{\"below\":[{\"id\":\"3039\",\"type\":\"CategoricalAxis\"}],\"center\":[{\"id\":\"3042\",\"type\":\"Grid\"},{\"id\":\"3047\",\"type\":\"Grid\"},{\"id\":\"3079\",\"type\":\"Legend\"}],\"left\":[{\"id\":\"3043\",\"type\":\"LinearAxis\"}],\"plot_height\":350,\"renderers\":[{\"id\":\"3071\",\"type\":\"GlyphRenderer\"},{\"id\":\"3085\",\"type\":\"GlyphRenderer\"},{\"id\":\"3100\",\"type\":\"GlyphRenderer\"}],\"title\":{\"id\":\"3029\",\"type\":\"Title\"},\"toolbar\":{\"id\":\"3054\",\"type\":\"Toolbar\"},\"x_range\":{\"id\":\"3031\",\"type\":\"FactorRange\"},\"x_scale\":{\"id\":\"3035\",\"type\":\"CategoricalScale\"},\"y_range\":{\"id\":\"3033\",\"type\":\"DataRange1d\"},\"y_scale\":{\"id\":\"3037\",\"type\":\"LinearScale\"}},\"id\":\"3028\",\"subtype\":\"Figure\",\"type\":\"Plot\"},{\"attributes\":{\"callback\":null,\"start\":0},\"id\":\"3033\",\"type\":\"DataRange1d\"},{\"attributes\":{\"fields\":[\"2015\",\"2016\",\"2017\"]},\"id\":\"3066\",\"type\":\"Stack\"},{\"attributes\":{\"formatter\":{\"id\":\"3075\",\"type\":\"CategoricalTickFormatter\"},\"ticker\":{\"id\":\"3040\",\"type\":\"CategoricalTicker\"}},\"id\":\"3039\",\"type\":\"CategoricalAxis\"},{\"attributes\":{},\"id\":\"3075\",\"type\":\"CategoricalTickFormatter\"},{\"attributes\":{\"source\":{\"id\":\"3067\",\"type\":\"ColumnDataSource\"}},\"id\":\"3072\",\"type\":\"CDSView\"},{\"attributes\":{\"data_source\":{\"id\":\"3067\",\"type\":\"ColumnDataSource\"},\"glyph\":{\"id\":\"3069\",\"type\":\"VBar\"},\"hover_glyph\":null,\"muted_glyph\":null,\"name\":\"2015\",\"nonselection_glyph\":{\"id\":\"3070\",\"type\":\"VBar\"},\"selection_glyph\":null,\"view\":{\"id\":\"3072\",\"type\":\"CDSView\"}},\"id\":\"3071\",\"type\":\"GlyphRenderer\"},{\"attributes\":{},\"id\":\"3092\",\"type\":\"Selection\"},{\"attributes\":{\"bottom\":{\"expr\":{\"id\":\"3061\",\"type\":\"Stack\"}},\"fill_color\":{\"value\":\"#c9d9d3\"},\"line_color\":{\"value\":\"#c9d9d3\"},\"top\":{\"expr\":{\"id\":\"3062\",\"type\":\"Stack\"}},\"width\":{\"value\":0.9},\"x\":{\"field\":\"fruits\"}},\"id\":\"3069\",\"type\":\"VBar\"},{\"attributes\":{\"bottom_units\":\"screen\",\"fill_alpha\":{\"value\":0.5},\"fill_color\":{\"value\":\"lightgrey\"},\"left_units\":\"screen\",\"level\":\"overlay\",\"line_alpha\":{\"value\":1.0},\"line_color\":{\"value\":\"black\"},\"line_dash\":[4,4],\"line_width\":{\"value\":2},\"render_mode\":\"css\",\"right_units\":\"screen\",\"top_units\":\"screen\"},\"id\":\"3078\",\"type\":\"BoxAnnotation\"},{\"attributes\":{},\"id\":\"3077\",\"type\":\"BasicTickFormatter\"},{\"attributes\":{\"overlay\":{\"id\":\"3078\",\"type\":\"BoxAnnotation\"}},\"id\":\"3050\",\"type\":\"BoxZoomTool\"},{\"attributes\":{\"source\":{\"id\":\"3081\",\"type\":\"ColumnDataSource\"}},\"id\":\"3086\",\"type\":\"CDSView\"},{\"attributes\":{\"label\":{\"value\":\"2016\"},\"renderers\":[{\"id\":\"3085\",\"type\":\"GlyphRenderer\"}]},\"id\":\"3095\",\"type\":\"LegendItem\"},{\"attributes\":{},\"id\":\"3093\",\"type\":\"UnionRenderers\"},{\"attributes\":{},\"id\":\"3048\",\"type\":\"PanTool\"},{\"attributes\":{\"callback\":null,\"data\":{\"2015\":[2,1,4,3,2,4],\"2016\":[5,3,4,2,4,6],\"2017\":[3,2,4,4,5,3],\"fruits\":[\"Apples\",\"Pears\",\"Nectarines\",\"Plums\",\"Grapes\",\"Strawberries\"]},\"selected\":{\"id\":\"3233\",\"type\":\"Selection\"},\"selection_policy\":{\"id\":\"3234\",\"type\":\"UnionRenderers\"}},\"id\":\"3096\",\"type\":\"ColumnDataSource\"},{\"attributes\":{\"bottom\":{\"expr\":{\"id\":\"3063\",\"type\":\"Stack\"}},\"fill_color\":{\"value\":\"#718dbf\"},\"line_color\":{\"value\":\"#718dbf\"},\"top\":{\"expr\":{\"id\":\"3064\",\"type\":\"Stack\"}},\"width\":{\"value\":0.9},\"x\":{\"field\":\"fruits\"}},\"id\":\"3083\",\"type\":\"VBar\"},{\"attributes\":{\"bottom\":{\"expr\":{\"id\":\"3065\",\"type\":\"Stack\"}},\"fill_color\":{\"value\":\"#e84d60\"},\"line_color\":{\"value\":\"#e84d60\"},\"top\":{\"expr\":{\"id\":\"3066\",\"type\":\"Stack\"}},\"width\":{\"value\":0.9},\"x\":{\"field\":\"fruits\"}},\"id\":\"3098\",\"type\":\"VBar\"},{\"attributes\":{\"source\":{\"id\":\"3096\",\"type\":\"ColumnDataSource\"}},\"id\":\"3101\",\"type\":\"CDSView\"},{\"attributes\":{\"dimension\":1,\"ticker\":{\"id\":\"3044\",\"type\":\"BasicTicker\"}},\"id\":\"3047\",\"type\":\"Grid\"},{\"attributes\":{\"bottom\":{\"expr\":{\"id\":\"3065\",\"type\":\"Stack\"}},\"fill_alpha\":{\"value\":0.1},\"fill_color\":{\"value\":\"#1f77b4\"},\"line_alpha\":{\"value\":0.1},\"line_color\":{\"value\":\"#1f77b4\"},\"top\":{\"expr\":{\"id\":\"3066\",\"type\":\"Stack\"}},\"width\":{\"value\":0.9},\"x\":{\"field\":\"fruits\"}},\"id\":\"3099\",\"type\":\"VBar\"},{\"attributes\":{},\"id\":\"3109\",\"type\":\"Selection\"},{\"attributes\":{\"data_source\":{\"id\":\"3096\",\"type\":\"ColumnDataSource\"},\"glyph\":{\"id\":\"3098\",\"type\":\"VBar\"},\"hover_glyph\":null,\"muted_glyph\":null,\"name\":\"2017\",\"nonselection_glyph\":{\"id\":\"3099\",\"type\":\"VBar\"},\"selection_glyph\":null,\"view\":{\"id\":\"3101\",\"type\":\"CDSView\"}},\"id\":\"3100\",\"type\":\"GlyphRenderer\"},{\"attributes\":{\"text\":\"Fruit Counts by Year\"},\"id\":\"3029\",\"type\":\"Title\"},{\"attributes\":{\"active_drag\":\"auto\",\"active_inspect\":\"auto\",\"active_multi\":null,\"active_scroll\":\"auto\",\"active_tap\":\"auto\",\"tools\":[{\"id\":\"3048\",\"type\":\"PanTool\"},{\"id\":\"3049\",\"type\":\"WheelZoomTool\"},{\"id\":\"3050\",\"type\":\"BoxZoomTool\"},{\"id\":\"3051\",\"type\":\"SaveTool\"},{\"id\":\"3052\",\"type\":\"ResetTool\"},{\"id\":\"3053\",\"type\":\"HelpTool\"}]},\"id\":\"3054\",\"type\":\"Toolbar\"},{\"attributes\":{\"fields\":[]},\"id\":\"3061\",\"type\":\"Stack\"},{\"attributes\":{\"label\":{\"value\":\"2017\"},\"renderers\":[{\"id\":\"3100\",\"type\":\"GlyphRenderer\"}]},\"id\":\"3112\",\"type\":\"LegendItem\"},{\"attributes\":{\"bottom\":{\"expr\":{\"id\":\"3061\",\"type\":\"Stack\"}},\"fill_alpha\":{\"value\":0.1},\"fill_color\":{\"value\":\"#1f77b4\"},\"line_alpha\":{\"value\":0.1},\"line_color\":{\"value\":\"#1f77b4\"},\"top\":{\"expr\":{\"id\":\"3062\",\"type\":\"Stack\"}},\"width\":{\"value\":0.9},\"x\":{\"field\":\"fruits\"}},\"id\":\"3070\",\"type\":\"VBar\"},{\"attributes\":{},\"id\":\"3052\",\"type\":\"ResetTool\"},{\"attributes\":{},\"id\":\"3110\",\"type\":\"UnionRenderers\"},{\"attributes\":{\"formatter\":{\"id\":\"3077\",\"type\":\"BasicTickFormatter\"},\"ticker\":{\"id\":\"3044\",\"type\":\"BasicTicker\"}},\"id\":\"3043\",\"type\":\"LinearAxis\"},{\"attributes\":{\"label\":{\"value\":\"2015\"},\"renderers\":[{\"id\":\"3071\",\"type\":\"GlyphRenderer\"}]},\"id\":\"3080\",\"type\":\"LegendItem\"},{\"attributes\":{},\"id\":\"3234\",\"type\":\"UnionRenderers\"},{\"attributes\":{\"bottom\":{\"expr\":{\"id\":\"3063\",\"type\":\"Stack\"}},\"fill_alpha\":{\"value\":0.1},\"fill_color\":{\"value\":\"#1f77b4\"},\"line_alpha\":{\"value\":0.1},\"line_color\":{\"value\":\"#1f77b4\"},\"top\":{\"expr\":{\"id\":\"3064\",\"type\":\"Stack\"}},\"width\":{\"value\":0.9},\"x\":{\"field\":\"fruits\"}},\"id\":\"3084\",\"type\":\"VBar\"},{\"attributes\":{},\"id\":\"3233\",\"type\":\"Selection\"},{\"attributes\":{},\"id\":\"3051\",\"type\":\"SaveTool\"},{\"attributes\":{},\"id\":\"3053\",\"type\":\"HelpTool\"},{\"attributes\":{\"callback\":null,\"factors\":[\"Apples\",\"Pears\",\"Nectarines\",\"Plums\",\"Grapes\",\"Strawberries\"],\"range_padding\":0.1},\"id\":\"3031\",\"type\":\"FactorRange\"},{\"attributes\":{},\"id\":\"3049\",\"type\":\"WheelZoomTool\"},{\"attributes\":{\"items\":[{\"id\":\"3080\",\"type\":\"LegendItem\"},{\"id\":\"3095\",\"type\":\"LegendItem\"},{\"id\":\"3112\",\"type\":\"LegendItem\"}],\"location\":\"top_left\",\"orientation\":\"horizontal\"},\"id\":\"3079\",\"type\":\"Legend\"},{\"attributes\":{\"fields\":[\"2015\",\"2016\"]},\"id\":\"3065\",\"type\":\"Stack\"},{\"attributes\":{\"callback\":null,\"data\":{\"2015\":[2,1,4,3,2,4],\"2016\":[5,3,4,2,4,6],\"2017\":[3,2,4,4,5,3],\"fruits\":[\"Apples\",\"Pears\",\"Nectarines\",\"Plums\",\"Grapes\",\"Strawberries\"]},\"selected\":{\"id\":\"3109\",\"type\":\"Selection\"},\"selection_policy\":{\"id\":\"3110\",\"type\":\"UnionRenderers\"}},\"id\":\"3081\",\"type\":\"ColumnDataSource\"},{\"attributes\":{\"callback\":null,\"data\":{\"2015\":[2,1,4,3,2,4],\"2016\":[5,3,4,2,4,6],\"2017\":[3,2,4,4,5,3],\"fruits\":[\"Apples\",\"Pears\",\"Nectarines\",\"Plums\",\"Grapes\",\"Strawberries\"]},\"selected\":{\"id\":\"3092\",\"type\":\"Selection\"},\"selection_policy\":{\"id\":\"3093\",\"type\":\"UnionRenderers\"}},\"id\":\"3067\",\"type\":\"ColumnDataSource\"},{\"attributes\":{\"data_source\":{\"id\":\"3081\",\"type\":\"ColumnDataSource\"},\"glyph\":{\"id\":\"3083\",\"type\":\"VBar\"},\"hover_glyph\":null,\"muted_glyph\":null,\"name\":\"2016\",\"nonselection_glyph\":{\"id\":\"3084\",\"type\":\"VBar\"},\"selection_glyph\":null,\"view\":{\"id\":\"3086\",\"type\":\"CDSView\"}},\"id\":\"3085\",\"type\":\"GlyphRenderer\"},{\"attributes\":{\"fields\":[\"2015\",\"2016\"]},\"id\":\"3064\",\"type\":\"Stack\"},{\"attributes\":{},\"id\":\"3044\",\"type\":\"BasicTicker\"},{\"attributes\":{},\"id\":\"3035\",\"type\":\"CategoricalScale\"},{\"attributes\":{},\"id\":\"3037\",\"type\":\"LinearScale\"},{\"attributes\":{},\"id\":\"3040\",\"type\":\"CategoricalTicker\"},{\"attributes\":{\"ticker\":{\"id\":\"3040\",\"type\":\"CategoricalTicker\"}},\"id\":\"3042\",\"type\":\"Grid\"},{\"attributes\":{\"fields\":[\"2015\"]},\"id\":\"3062\",\"type\":\"Stack\"},{\"attributes\":{\"fields\":[\"2015\"]},\"id\":\"3063\",\"type\":\"Stack\"}],\"root_ids\":[\"3028\"]},\"title\":\"Bokeh Application\",\"version\":\"1.4.0\"}};\n",
       "  var render_items = [{\"docid\":\"c68403dd-8a6d-4ff1-821b-21df0cecaf82\",\"roots\":{\"3028\":\"55407cce-4a2f-4ab8-bad3-0e9fa14d1735\"}}];\n",
       "  root.Bokeh.embed.embed_items_notebook(docs_json, render_items);\n",
       "\n",
       "  }\n",
       "  if (root.Bokeh !== undefined) {\n",
       "    embed_document(root);\n",
       "  } else {\n",
       "    var attempts = 0;\n",
       "    var timer = setInterval(function(root) {\n",
       "      if (root.Bokeh !== undefined) {\n",
       "        clearInterval(timer);\n",
       "        embed_document(root);\n",
       "      } else {\n",
       "        attempts++;\n",
       "        if (attempts > 100) {\n",
       "          clearInterval(timer);\n",
       "          console.log(\"Bokeh: ERROR: Unable to run BokehJS code because BokehJS library is missing\");\n",
       "        }\n",
       "      }\n",
       "    }, 10, root)\n",
       "  }\n",
       "})(window);"
      ],
      "application/vnd.bokehjs_exec.v0+json": ""
     },
     "metadata": {
      "application/vnd.bokehjs_exec.v0+json": {
       "id": "3028"
      }
     },
     "output_type": "display_data"
    }
   ],
   "source": [
    "fruits = ['Apples', 'Pears', 'Nectarines', 'Plums', 'Grapes', 'Strawberries']\n",
    "years = [\"2015\", \"2016\", \"2017\"]\n",
    "colors = [\"#c9d9d3\", \"#718dbf\", \"#e84d60\"]\n",
    "\n",
    "data = {'fruits' : fruits,\n",
    "        '2015'   : [2, 1, 4, 3, 2, 4],\n",
    "        '2016'   : [5, 3, 4, 2, 4, 6],\n",
    "        '2017'   : [3, 2, 4, 4, 5, 3]}\n",
    "p = figure(x_range=fruits, plot_height=350, title=\"Fruit Counts by Year\")\n",
    "p.vbar_stack(years, x='fruits', width=0.9, color=colors, source=data, legend_label=years)\n",
    "\n",
    "p.y_range.start = 0\n",
    "p.x_range.range_padding = 0.1\n",
    "p.legend.location = \"top_left\"\n",
    "p.legend.orientation = \"horizontal\"\n",
    "\n",
    "show(p)"
   ]
  },
  {
   "cell_type": "code",
   "execution_count": 24,
   "metadata": {},
   "outputs": [
    {
     "data": {
      "text/html": [
       "\n",
       "\n",
       "\n",
       "\n",
       "\n",
       "\n",
       "  <div class=\"bk-root\" id=\"e97cfe31-418e-4a8c-9235-0b37cb7e701d\" data-root-id=\"3308\"></div>\n"
      ]
     },
     "metadata": {},
     "output_type": "display_data"
    },
    {
     "data": {
      "application/javascript": [
       "(function(root) {\n",
       "  function embed_document(root) {\n",
       "    \n",
       "  var docs_json = {\"bfab6bf8-6c43-40ec-a17e-e2f28a64c35b\":{\"roots\":{\"references\":[{\"attributes\":{\"below\":[{\"id\":\"3319\",\"type\":\"CategoricalAxis\"}],\"center\":[{\"id\":\"3322\",\"type\":\"Grid\"},{\"id\":\"3327\",\"type\":\"Grid\"},{\"id\":\"3348\",\"type\":\"Legend\"}],\"left\":[{\"id\":\"3323\",\"type\":\"LinearAxis\"}],\"outline_line_color\":{\"value\":null},\"plot_height\":250,\"renderers\":[{\"id\":\"3341\",\"type\":\"GlyphRenderer\"},{\"id\":\"3354\",\"type\":\"GlyphRenderer\"},{\"id\":\"3368\",\"type\":\"GlyphRenderer\"}],\"title\":{\"id\":\"3309\",\"type\":\"Title\"},\"toolbar\":{\"id\":\"3329\",\"type\":\"Toolbar\"},\"toolbar_location\":null,\"x_range\":{\"id\":\"3311\",\"type\":\"FactorRange\"},\"x_scale\":{\"id\":\"3315\",\"type\":\"CategoricalScale\"},\"y_range\":{\"id\":\"3313\",\"type\":\"DataRange1d\"},\"y_scale\":{\"id\":\"3317\",\"type\":\"LinearScale\"}},\"id\":\"3308\",\"subtype\":\"Figure\",\"type\":\"Plot\"},{\"attributes\":{\"callback\":null,\"tooltips\":\"$name @fruits: @$name\"},\"id\":\"3328\",\"type\":\"HoverTool\"},{\"attributes\":{\"source\":{\"id\":\"3350\",\"type\":\"ColumnDataSource\"}},\"id\":\"3355\",\"type\":\"CDSView\"},{\"attributes\":{\"items\":[{\"id\":\"3349\",\"type\":\"LegendItem\"},{\"id\":\"3363\",\"type\":\"LegendItem\"},{\"id\":\"3379\",\"type\":\"LegendItem\"}],\"location\":\"top_left\",\"orientation\":\"horizontal\"},\"id\":\"3348\",\"type\":\"Legend\"},{\"attributes\":{\"data_source\":{\"id\":\"3337\",\"type\":\"ColumnDataSource\"},\"glyph\":{\"id\":\"3339\",\"type\":\"VBar\"},\"hover_glyph\":null,\"muted_glyph\":null,\"name\":\"2015\",\"nonselection_glyph\":{\"id\":\"3340\",\"type\":\"VBar\"},\"selection_glyph\":null,\"view\":{\"id\":\"3342\",\"type\":\"CDSView\"}},\"id\":\"3341\",\"type\":\"GlyphRenderer\"},{\"attributes\":{},\"id\":\"3345\",\"type\":\"CategoricalTickFormatter\"},{\"attributes\":{\"bottom\":{\"expr\":{\"id\":\"3333\",\"type\":\"Stack\"}},\"fill_color\":{\"value\":\"#718dbf\"},\"line_color\":{\"value\":\"#718dbf\"},\"top\":{\"expr\":{\"id\":\"3334\",\"type\":\"Stack\"}},\"width\":{\"value\":0.9},\"x\":{\"field\":\"fruits\"}},\"id\":\"3352\",\"type\":\"VBar\"},{\"attributes\":{\"data_source\":{\"id\":\"3350\",\"type\":\"ColumnDataSource\"},\"glyph\":{\"id\":\"3352\",\"type\":\"VBar\"},\"hover_glyph\":null,\"muted_glyph\":null,\"name\":\"2016\",\"nonselection_glyph\":{\"id\":\"3353\",\"type\":\"VBar\"},\"selection_glyph\":null,\"view\":{\"id\":\"3355\",\"type\":\"CDSView\"}},\"id\":\"3354\",\"type\":\"GlyphRenderer\"},{\"attributes\":{},\"id\":\"3361\",\"type\":\"Selection\"},{\"attributes\":{\"bottom\":{\"expr\":{\"id\":\"3331\",\"type\":\"Stack\"}},\"fill_color\":{\"value\":\"#c9d9d3\"},\"line_color\":{\"value\":\"#c9d9d3\"},\"top\":{\"expr\":{\"id\":\"3332\",\"type\":\"Stack\"}},\"width\":{\"value\":0.9},\"x\":{\"field\":\"fruits\"}},\"id\":\"3339\",\"type\":\"VBar\"},{\"attributes\":{\"active_drag\":\"auto\",\"active_inspect\":\"auto\",\"active_multi\":null,\"active_scroll\":\"auto\",\"active_tap\":\"auto\",\"tools\":[{\"id\":\"3328\",\"type\":\"HoverTool\"}]},\"id\":\"3329\",\"type\":\"Toolbar\"},{\"attributes\":{\"callback\":null,\"data\":{\"2015\":[2,1,4,3,2,4],\"2016\":[5,3,4,2,4,6],\"2017\":[3,2,4,4,5,3],\"fruits\":[\"Apples\",\"Pears\",\"Nectarines\",\"Plums\",\"Grapes\",\"Strawberries\"]},\"selected\":{\"id\":\"3361\",\"type\":\"Selection\"},\"selection_policy\":{\"id\":\"3362\",\"type\":\"UnionRenderers\"}},\"id\":\"3337\",\"type\":\"ColumnDataSource\"},{\"attributes\":{\"callback\":null,\"factors\":[\"Apples\",\"Pears\",\"Nectarines\",\"Plums\",\"Grapes\",\"Strawberries\"],\"range_padding\":0.1},\"id\":\"3311\",\"type\":\"FactorRange\"},{\"attributes\":{\"source\":{\"id\":\"3337\",\"type\":\"ColumnDataSource\"}},\"id\":\"3342\",\"type\":\"CDSView\"},{\"attributes\":{},\"id\":\"3315\",\"type\":\"CategoricalScale\"},{\"attributes\":{\"bottom\":{\"expr\":{\"id\":\"3333\",\"type\":\"Stack\"}},\"fill_alpha\":{\"value\":0.1},\"fill_color\":{\"value\":\"#1f77b4\"},\"line_alpha\":{\"value\":0.1},\"line_color\":{\"value\":\"#1f77b4\"},\"top\":{\"expr\":{\"id\":\"3334\",\"type\":\"Stack\"}},\"width\":{\"value\":0.9},\"x\":{\"field\":\"fruits\"}},\"id\":\"3353\",\"type\":\"VBar\"},{\"attributes\":{\"fields\":[\"2015\",\"2016\",\"2017\"]},\"id\":\"3336\",\"type\":\"Stack\"},{\"attributes\":{\"fields\":[\"2015\",\"2016\"]},\"id\":\"3335\",\"type\":\"Stack\"},{\"attributes\":{\"fields\":[\"2015\"]},\"id\":\"3333\",\"type\":\"Stack\"},{\"attributes\":{},\"id\":\"3317\",\"type\":\"LinearScale\"},{\"attributes\":{},\"id\":\"3513\",\"type\":\"UnionRenderers\"},{\"attributes\":{\"bottom\":{\"expr\":{\"id\":\"3335\",\"type\":\"Stack\"}},\"fill_alpha\":{\"value\":0.1},\"fill_color\":{\"value\":\"#1f77b4\"},\"line_alpha\":{\"value\":0.1},\"line_color\":{\"value\":\"#1f77b4\"},\"top\":{\"expr\":{\"id\":\"3336\",\"type\":\"Stack\"}},\"width\":{\"value\":0.9},\"x\":{\"field\":\"fruits\"}},\"id\":\"3367\",\"type\":\"VBar\"},{\"attributes\":{},\"id\":\"3324\",\"type\":\"BasicTicker\"},{\"attributes\":{\"data_source\":{\"id\":\"3364\",\"type\":\"ColumnDataSource\"},\"glyph\":{\"id\":\"3366\",\"type\":\"VBar\"},\"hover_glyph\":null,\"muted_glyph\":null,\"name\":\"2017\",\"nonselection_glyph\":{\"id\":\"3367\",\"type\":\"VBar\"},\"selection_glyph\":null,\"view\":{\"id\":\"3369\",\"type\":\"CDSView\"}},\"id\":\"3368\",\"type\":\"GlyphRenderer\"},{\"attributes\":{\"label\":{\"value\":\"2016\"},\"renderers\":[{\"id\":\"3354\",\"type\":\"GlyphRenderer\"}]},\"id\":\"3363\",\"type\":\"LegendItem\"},{\"attributes\":{\"fields\":[]},\"id\":\"3331\",\"type\":\"Stack\"},{\"attributes\":{\"callback\":null,\"data\":{\"2015\":[2,1,4,3,2,4],\"2016\":[5,3,4,2,4,6],\"2017\":[3,2,4,4,5,3],\"fruits\":[\"Apples\",\"Pears\",\"Nectarines\",\"Plums\",\"Grapes\",\"Strawberries\"]},\"selected\":{\"id\":\"3377\",\"type\":\"Selection\"},\"selection_policy\":{\"id\":\"3378\",\"type\":\"UnionRenderers\"}},\"id\":\"3350\",\"type\":\"ColumnDataSource\"},{\"attributes\":{\"formatter\":{\"id\":\"3347\",\"type\":\"BasicTickFormatter\"},\"minor_tick_line_color\":{\"value\":null},\"ticker\":{\"id\":\"3324\",\"type\":\"BasicTicker\"}},\"id\":\"3323\",\"type\":\"LinearAxis\"},{\"attributes\":{},\"id\":\"3377\",\"type\":\"Selection\"},{\"attributes\":{\"label\":{\"value\":\"2017\"},\"renderers\":[{\"id\":\"3368\",\"type\":\"GlyphRenderer\"}]},\"id\":\"3379\",\"type\":\"LegendItem\"},{\"attributes\":{\"fields\":[\"2015\"]},\"id\":\"3332\",\"type\":\"Stack\"},{\"attributes\":{},\"id\":\"3362\",\"type\":\"UnionRenderers\"},{\"attributes\":{},\"id\":\"3378\",\"type\":\"UnionRenderers\"},{\"attributes\":{\"grid_line_color\":null,\"ticker\":{\"id\":\"3320\",\"type\":\"CategoricalTicker\"}},\"id\":\"3322\",\"type\":\"Grid\"},{\"attributes\":{\"fields\":[\"2015\",\"2016\"]},\"id\":\"3334\",\"type\":\"Stack\"},{\"attributes\":{\"callback\":null,\"start\":0},\"id\":\"3313\",\"type\":\"DataRange1d\"},{\"attributes\":{},\"id\":\"3347\",\"type\":\"BasicTickFormatter\"},{\"attributes\":{},\"id\":\"3512\",\"type\":\"Selection\"},{\"attributes\":{\"source\":{\"id\":\"3364\",\"type\":\"ColumnDataSource\"}},\"id\":\"3369\",\"type\":\"CDSView\"},{\"attributes\":{\"bottom\":{\"expr\":{\"id\":\"3335\",\"type\":\"Stack\"}},\"fill_color\":{\"value\":\"#e84d60\"},\"line_color\":{\"value\":\"#e84d60\"},\"top\":{\"expr\":{\"id\":\"3336\",\"type\":\"Stack\"}},\"width\":{\"value\":0.9},\"x\":{\"field\":\"fruits\"}},\"id\":\"3366\",\"type\":\"VBar\"},{\"attributes\":{\"label\":{\"value\":\"2015\"},\"renderers\":[{\"id\":\"3341\",\"type\":\"GlyphRenderer\"}]},\"id\":\"3349\",\"type\":\"LegendItem\"},{\"attributes\":{\"bottom\":{\"expr\":{\"id\":\"3331\",\"type\":\"Stack\"}},\"fill_alpha\":{\"value\":0.1},\"fill_color\":{\"value\":\"#1f77b4\"},\"line_alpha\":{\"value\":0.1},\"line_color\":{\"value\":\"#1f77b4\"},\"top\":{\"expr\":{\"id\":\"3332\",\"type\":\"Stack\"}},\"width\":{\"value\":0.9},\"x\":{\"field\":\"fruits\"}},\"id\":\"3340\",\"type\":\"VBar\"},{\"attributes\":{\"dimension\":1,\"ticker\":{\"id\":\"3324\",\"type\":\"BasicTicker\"}},\"id\":\"3327\",\"type\":\"Grid\"},{\"attributes\":{\"callback\":null,\"data\":{\"2015\":[2,1,4,3,2,4],\"2016\":[5,3,4,2,4,6],\"2017\":[3,2,4,4,5,3],\"fruits\":[\"Apples\",\"Pears\",\"Nectarines\",\"Plums\",\"Grapes\",\"Strawberries\"]},\"selected\":{\"id\":\"3512\",\"type\":\"Selection\"},\"selection_policy\":{\"id\":\"3513\",\"type\":\"UnionRenderers\"}},\"id\":\"3364\",\"type\":\"ColumnDataSource\"},{\"attributes\":{\"text\":\"Fruit Counts by Year\"},\"id\":\"3309\",\"type\":\"Title\"},{\"attributes\":{},\"id\":\"3320\",\"type\":\"CategoricalTicker\"},{\"attributes\":{\"formatter\":{\"id\":\"3345\",\"type\":\"CategoricalTickFormatter\"},\"minor_tick_line_color\":{\"value\":null},\"ticker\":{\"id\":\"3320\",\"type\":\"CategoricalTicker\"}},\"id\":\"3319\",\"type\":\"CategoricalAxis\"}],\"root_ids\":[\"3308\"]},\"title\":\"Bokeh Application\",\"version\":\"1.4.0\"}};\n",
       "  var render_items = [{\"docid\":\"bfab6bf8-6c43-40ec-a17e-e2f28a64c35b\",\"roots\":{\"3308\":\"e97cfe31-418e-4a8c-9235-0b37cb7e701d\"}}];\n",
       "  root.Bokeh.embed.embed_items_notebook(docs_json, render_items);\n",
       "\n",
       "  }\n",
       "  if (root.Bokeh !== undefined) {\n",
       "    embed_document(root);\n",
       "  } else {\n",
       "    var attempts = 0;\n",
       "    var timer = setInterval(function(root) {\n",
       "      if (root.Bokeh !== undefined) {\n",
       "        clearInterval(timer);\n",
       "        embed_document(root);\n",
       "      } else {\n",
       "        attempts++;\n",
       "        if (attempts > 100) {\n",
       "          clearInterval(timer);\n",
       "          console.log(\"Bokeh: ERROR: Unable to run BokehJS code because BokehJS library is missing\");\n",
       "        }\n",
       "      }\n",
       "    }, 10, root)\n",
       "  }\n",
       "})(window);"
      ],
      "application/vnd.bokehjs_exec.v0+json": ""
     },
     "metadata": {
      "application/vnd.bokehjs_exec.v0+json": {
       "id": "3308"
      }
     },
     "output_type": "display_data"
    }
   ],
   "source": [
    "p = figure(x_range=fruits, plot_height=250, title=\"Fruit Counts by Year\",\n",
    "           toolbar_location=None, tools=\"hover\", tooltips=\"$name @fruits: @$name\")\n",
    "\n",
    "p.vbar_stack(years, x='fruits', width=0.9, color=colors, source=data, legend_label=years)\n",
    "\n",
    "p.y_range.start = 0\n",
    "p.x_range.range_padding = 0.1\n",
    "p.xgrid.grid_line_color = None\n",
    "p.axis.minor_tick_line_color = None\n",
    "p.outline_line_color = None\n",
    "p.legend.location = \"top_left\"\n",
    "p.legend.orientation = \"horizontal\"\n",
    "\n",
    "show(p)"
   ]
  },
  {
   "cell_type": "code",
   "execution_count": 26,
   "metadata": {},
   "outputs": [
    {
     "data": {
      "text/html": [
       "\n",
       "\n",
       "\n",
       "\n",
       "\n",
       "\n",
       "  <div class=\"bk-root\" id=\"22f386e3-c2ed-4f97-b072-316e3c55a914\" data-root-id=\"3811\"></div>\n"
      ]
     },
     "metadata": {},
     "output_type": "display_data"
    },
    {
     "data": {
      "application/javascript": [
       "(function(root) {\n",
       "  function embed_document(root) {\n",
       "    \n",
       "  var docs_json = {\"45186132-c8f1-434c-b527-c495cd012b99\":{\"roots\":{\"references\":[{\"attributes\":{\"below\":[{\"id\":\"3821\",\"type\":\"CategoricalAxis\"}],\"center\":[{\"id\":\"3824\",\"type\":\"Grid\"},{\"id\":\"3829\",\"type\":\"Grid\"}],\"left\":[{\"id\":\"3825\",\"type\":\"LinearAxis\"}],\"plot_height\":350,\"renderers\":[{\"id\":\"3846\",\"type\":\"GlyphRenderer\"}],\"title\":{\"id\":\"3812\",\"type\":\"Title\"},\"toolbar\":{\"id\":\"3836\",\"type\":\"Toolbar\"},\"x_range\":{\"id\":\"3810\",\"type\":\"FactorRange\"},\"x_scale\":{\"id\":\"3817\",\"type\":\"CategoricalScale\"},\"y_range\":{\"id\":\"3815\",\"type\":\"DataRange1d\"},\"y_scale\":{\"id\":\"3819\",\"type\":\"LinearScale\"}},\"id\":\"3811\",\"subtype\":\"Figure\",\"type\":\"Plot\"},{\"attributes\":{\"overlay\":{\"id\":\"3997\",\"type\":\"BoxAnnotation\"}},\"id\":\"3832\",\"type\":\"BoxZoomTool\"},{\"attributes\":{\"callback\":null,\"factors\":[[\"Apples\",\"2015\"],[\"Apples\",\"2016\"],[\"Apples\",\"2017\"],[\"Pears\",\"2015\"],[\"Pears\",\"2016\"],[\"Pears\",\"2017\"],[\"Nectarines\",\"2015\"],[\"Nectarines\",\"2016\"],[\"Nectarines\",\"2017\"],[\"Plums\",\"2015\"],[\"Plums\",\"2016\"],[\"Plums\",\"2017\"],[\"Grapes\",\"2015\"],[\"Grapes\",\"2016\"],[\"Grapes\",\"2017\"],[\"Strawberries\",\"2015\"],[\"Strawberries\",\"2016\"],[\"Strawberries\",\"2017\"]],\"range_padding\":0.1},\"id\":\"3810\",\"type\":\"FactorRange\"},{\"attributes\":{},\"id\":\"3831\",\"type\":\"WheelZoomTool\"},{\"attributes\":{},\"id\":\"3995\",\"type\":\"Selection\"},{\"attributes\":{\"bottom_units\":\"screen\",\"fill_alpha\":{\"value\":0.5},\"fill_color\":{\"value\":\"lightgrey\"},\"left_units\":\"screen\",\"level\":\"overlay\",\"line_alpha\":{\"value\":1.0},\"line_color\":{\"value\":\"black\"},\"line_dash\":[4,4],\"line_width\":{\"value\":2},\"render_mode\":\"css\",\"right_units\":\"screen\",\"top_units\":\"screen\"},\"id\":\"3997\",\"type\":\"BoxAnnotation\"},{\"attributes\":{},\"id\":\"3992\",\"type\":\"CategoricalTickFormatter\"},{\"attributes\":{},\"id\":\"3996\",\"type\":\"UnionRenderers\"},{\"attributes\":{\"active_drag\":\"auto\",\"active_inspect\":\"auto\",\"active_multi\":null,\"active_scroll\":\"auto\",\"active_tap\":\"auto\",\"tools\":[{\"id\":\"3830\",\"type\":\"PanTool\"},{\"id\":\"3831\",\"type\":\"WheelZoomTool\"},{\"id\":\"3832\",\"type\":\"BoxZoomTool\"},{\"id\":\"3833\",\"type\":\"SaveTool\"},{\"id\":\"3834\",\"type\":\"ResetTool\"},{\"id\":\"3835\",\"type\":\"HelpTool\"}]},\"id\":\"3836\",\"type\":\"Toolbar\"},{\"attributes\":{},\"id\":\"3834\",\"type\":\"ResetTool\"},{\"attributes\":{\"dimension\":1,\"ticker\":{\"id\":\"3826\",\"type\":\"BasicTicker\"}},\"id\":\"3829\",\"type\":\"Grid\"},{\"attributes\":{\"fill_color\":{\"value\":\"#1f77b4\"},\"line_color\":{\"value\":\"#1f77b4\"},\"top\":{\"field\":\"counts\"},\"width\":{\"value\":0.9},\"x\":{\"field\":\"x\"}},\"id\":\"3844\",\"type\":\"VBar\"},{\"attributes\":{\"source\":{\"id\":\"3809\",\"type\":\"ColumnDataSource\"}},\"id\":\"3847\",\"type\":\"CDSView\"},{\"attributes\":{},\"id\":\"3817\",\"type\":\"CategoricalScale\"},{\"attributes\":{\"data_source\":{\"id\":\"3809\",\"type\":\"ColumnDataSource\"},\"glyph\":{\"id\":\"3844\",\"type\":\"VBar\"},\"hover_glyph\":null,\"muted_glyph\":null,\"nonselection_glyph\":{\"id\":\"3845\",\"type\":\"VBar\"},\"selection_glyph\":null,\"view\":{\"id\":\"3847\",\"type\":\"CDSView\"}},\"id\":\"3846\",\"type\":\"GlyphRenderer\"},{\"attributes\":{},\"id\":\"3833\",\"type\":\"SaveTool\"},{\"attributes\":{},\"id\":\"3835\",\"type\":\"HelpTool\"},{\"attributes\":{\"callback\":null,\"data\":{\"counts\":[2,5,3,1,3,2,4,4,4,3,2,4,2,4,5,4,6,3],\"x\":[[\"Apples\",\"2015\"],[\"Apples\",\"2016\"],[\"Apples\",\"2017\"],[\"Pears\",\"2015\"],[\"Pears\",\"2016\"],[\"Pears\",\"2017\"],[\"Nectarines\",\"2015\"],[\"Nectarines\",\"2016\"],[\"Nectarines\",\"2017\"],[\"Plums\",\"2015\"],[\"Plums\",\"2016\"],[\"Plums\",\"2017\"],[\"Grapes\",\"2015\"],[\"Grapes\",\"2016\"],[\"Grapes\",\"2017\"],[\"Strawberries\",\"2015\"],[\"Strawberries\",\"2016\"],[\"Strawberries\",\"2017\"]]},\"selected\":{\"id\":\"3995\",\"type\":\"Selection\"},\"selection_policy\":{\"id\":\"3996\",\"type\":\"UnionRenderers\"}},\"id\":\"3809\",\"type\":\"ColumnDataSource\"},{\"attributes\":{},\"id\":\"3822\",\"type\":\"CategoricalTicker\"},{\"attributes\":{\"text\":\"Fruit Counts by Year\"},\"id\":\"3812\",\"type\":\"Title\"},{\"attributes\":{},\"id\":\"3826\",\"type\":\"BasicTicker\"},{\"attributes\":{},\"id\":\"3994\",\"type\":\"BasicTickFormatter\"},{\"attributes\":{\"callback\":null,\"start\":0},\"id\":\"3815\",\"type\":\"DataRange1d\"},{\"attributes\":{\"fill_alpha\":{\"value\":0.1},\"fill_color\":{\"value\":\"#1f77b4\"},\"line_alpha\":{\"value\":0.1},\"line_color\":{\"value\":\"#1f77b4\"},\"top\":{\"field\":\"counts\"},\"width\":{\"value\":0.9},\"x\":{\"field\":\"x\"}},\"id\":\"3845\",\"type\":\"VBar\"},{\"attributes\":{},\"id\":\"3819\",\"type\":\"LinearScale\"},{\"attributes\":{},\"id\":\"3830\",\"type\":\"PanTool\"},{\"attributes\":{\"grid_line_color\":null,\"ticker\":{\"id\":\"3822\",\"type\":\"CategoricalTicker\"}},\"id\":\"3824\",\"type\":\"Grid\"},{\"attributes\":{\"formatter\":{\"id\":\"3992\",\"type\":\"CategoricalTickFormatter\"},\"major_label_orientation\":1,\"ticker\":{\"id\":\"3822\",\"type\":\"CategoricalTicker\"}},\"id\":\"3821\",\"type\":\"CategoricalAxis\"},{\"attributes\":{\"formatter\":{\"id\":\"3994\",\"type\":\"BasicTickFormatter\"},\"ticker\":{\"id\":\"3826\",\"type\":\"BasicTicker\"}},\"id\":\"3825\",\"type\":\"LinearAxis\"}],\"root_ids\":[\"3811\"]},\"title\":\"Bokeh Application\",\"version\":\"1.4.0\"}};\n",
       "  var render_items = [{\"docid\":\"45186132-c8f1-434c-b527-c495cd012b99\",\"roots\":{\"3811\":\"22f386e3-c2ed-4f97-b072-316e3c55a914\"}}];\n",
       "  root.Bokeh.embed.embed_items_notebook(docs_json, render_items);\n",
       "\n",
       "  }\n",
       "  if (root.Bokeh !== undefined) {\n",
       "    embed_document(root);\n",
       "  } else {\n",
       "    var attempts = 0;\n",
       "    var timer = setInterval(function(root) {\n",
       "      if (root.Bokeh !== undefined) {\n",
       "        clearInterval(timer);\n",
       "        embed_document(root);\n",
       "      } else {\n",
       "        attempts++;\n",
       "        if (attempts > 100) {\n",
       "          clearInterval(timer);\n",
       "          console.log(\"Bokeh: ERROR: Unable to run BokehJS code because BokehJS library is missing\");\n",
       "        }\n",
       "      }\n",
       "    }, 10, root)\n",
       "  }\n",
       "})(window);"
      ],
      "application/vnd.bokehjs_exec.v0+json": ""
     },
     "metadata": {
      "application/vnd.bokehjs_exec.v0+json": {
       "id": "3811"
      }
     },
     "output_type": "display_data"
    }
   ],
   "source": [
    "x = [ (fruit, year) for fruit in fruits for year in years ]\n",
    "counts = sum(zip(data['2015'], data['2016'], data['2017']), ()) # like an hstack\n",
    "\n",
    "source = ColumnDataSource(data=dict(x=x, counts=counts))\n",
    "\n",
    "p = figure(x_range=FactorRange(*x), plot_height=350, title=\"Fruit Counts by Year\")\n",
    "p.vbar(x='x', top='counts', width=0.9, source=source)\n",
    "\n",
    "p.y_range.start = 0\n",
    "p.x_range.range_padding = 0.1\n",
    "p.xaxis.major_label_orientation = 1\n",
    "p.xgrid.grid_line_color = None\n",
    "\n",
    "show(p)"
   ]
  },
  {
   "cell_type": "code",
   "execution_count": 29,
   "metadata": {},
   "outputs": [
    {
     "data": {
      "text/plain": [
       "'p.vbar(x=\\'x\\', top=\\'counts\\', width=0.9, source=source, line_color=\"white\",\\n       fill_color=factor_cmap(\\'x\\', palette=palette, factors=years, start=1, end=2))'"
      ]
     },
     "execution_count": 29,
     "metadata": {},
     "output_type": "execute_result"
    }
   ],
   "source": [
    "\n",
    "'''p.vbar(x='x', top='counts', width=0.9, source=source, line_color=\"white\",\n",
    "       fill_color=factor_cmap('x', palette=palette, factors=years, start=1, end=2))'''"
   ]
  },
  {
   "cell_type": "code",
   "execution_count": 30,
   "metadata": {},
   "outputs": [],
   "source": [
    "from bokeh.plotting import figure\n",
    "from bokeh.transform import dodge"
   ]
  },
  {
   "cell_type": "code",
   "execution_count": 31,
   "metadata": {},
   "outputs": [
    {
     "data": {
      "text/html": [
       "\n",
       "\n",
       "\n",
       "\n",
       "\n",
       "\n",
       "  <div class=\"bk-root\" id=\"171d15e2-a1fa-4256-8b69-0e748d44cb3b\" data-root-id=\"4047\"></div>\n"
      ]
     },
     "metadata": {},
     "output_type": "display_data"
    },
    {
     "data": {
      "application/javascript": [
       "(function(root) {\n",
       "  function embed_document(root) {\n",
       "    \n",
       "  var docs_json = {\"56e85115-c614-4b9d-8432-93f5efc39134\":{\"roots\":{\"references\":[{\"attributes\":{\"below\":[{\"id\":\"4058\",\"type\":\"CategoricalAxis\"}],\"center\":[{\"id\":\"4061\",\"type\":\"Grid\"},{\"id\":\"4066\",\"type\":\"Grid\"},{\"id\":\"4079\",\"type\":\"Legend\"}],\"left\":[{\"id\":\"4062\",\"type\":\"LinearAxis\"}],\"plot_height\":250,\"renderers\":[{\"id\":\"4072\",\"type\":\"GlyphRenderer\"},{\"id\":\"4085\",\"type\":\"GlyphRenderer\"},{\"id\":\"4099\",\"type\":\"GlyphRenderer\"}],\"title\":{\"id\":\"4048\",\"type\":\"Title\"},\"toolbar\":{\"id\":\"4067\",\"type\":\"Toolbar\"},\"toolbar_location\":null,\"x_range\":{\"id\":\"4050\",\"type\":\"FactorRange\"},\"x_scale\":{\"id\":\"4054\",\"type\":\"CategoricalScale\"},\"y_range\":{\"id\":\"4052\",\"type\":\"Range1d\"},\"y_scale\":{\"id\":\"4056\",\"type\":\"LinearScale\"}},\"id\":\"4047\",\"subtype\":\"Figure\",\"type\":\"Plot\"},{\"attributes\":{\"callback\":null,\"factors\":[\"Apples\",\"Pears\",\"Nectarines\",\"Plums\",\"Grapes\",\"Strawberries\"],\"range_padding\":0.1},\"id\":\"4050\",\"type\":\"FactorRange\"},{\"attributes\":{},\"id\":\"4063\",\"type\":\"BasicTicker\"},{\"attributes\":{\"dimension\":1,\"ticker\":{\"id\":\"4063\",\"type\":\"BasicTicker\"}},\"id\":\"4066\",\"type\":\"Grid\"},{\"attributes\":{\"grid_line_color\":null,\"ticker\":{\"id\":\"4059\",\"type\":\"CategoricalTicker\"}},\"id\":\"4061\",\"type\":\"Grid\"},{\"attributes\":{\"callback\":null,\"end\":10},\"id\":\"4052\",\"type\":\"Range1d\"},{\"attributes\":{\"formatter\":{\"id\":\"4076\",\"type\":\"CategoricalTickFormatter\"},\"ticker\":{\"id\":\"4059\",\"type\":\"CategoricalTicker\"}},\"id\":\"4058\",\"type\":\"CategoricalAxis\"},{\"attributes\":{\"range\":{\"id\":\"4050\",\"type\":\"FactorRange\"},\"value\":-0.25},\"id\":\"4068\",\"type\":\"Dodge\"},{\"attributes\":{\"items\":[{\"id\":\"4080\",\"type\":\"LegendItem\"},{\"id\":\"4094\",\"type\":\"LegendItem\"},{\"id\":\"4108\",\"type\":\"LegendItem\"}],\"location\":\"top_left\",\"orientation\":\"horizontal\"},\"id\":\"4079\",\"type\":\"Legend\"},{\"attributes\":{},\"id\":\"4059\",\"type\":\"CategoricalTicker\"},{\"attributes\":{},\"id\":\"4078\",\"type\":\"BasicTickFormatter\"},{\"attributes\":{\"label\":{\"value\":\"2015\"},\"renderers\":[{\"id\":\"4072\",\"type\":\"GlyphRenderer\"}]},\"id\":\"4080\",\"type\":\"LegendItem\"},{\"attributes\":{\"source\":{\"id\":\"4046\",\"type\":\"ColumnDataSource\"}},\"id\":\"4073\",\"type\":\"CDSView\"},{\"attributes\":{\"fill_color\":{\"value\":\"#718dbf\"},\"line_color\":{\"value\":\"#718dbf\"},\"top\":{\"field\":\"2016\"},\"width\":{\"value\":0.2},\"x\":{\"field\":\"fruits\",\"transform\":{\"id\":\"4081\",\"type\":\"Dodge\"}}},\"id\":\"4083\",\"type\":\"VBar\"},{\"attributes\":{\"fill_alpha\":{\"value\":0.1},\"fill_color\":{\"value\":\"#1f77b4\"},\"line_alpha\":{\"value\":0.1},\"line_color\":{\"value\":\"#1f77b4\"},\"top\":{\"field\":\"2016\"},\"width\":{\"value\":0.2},\"x\":{\"field\":\"fruits\",\"transform\":{\"id\":\"4081\",\"type\":\"Dodge\"}}},\"id\":\"4084\",\"type\":\"VBar\"},{\"attributes\":{\"fill_color\":{\"value\":\"#e84d60\"},\"line_color\":{\"value\":\"#e84d60\"},\"top\":{\"field\":\"2017\"},\"width\":{\"value\":0.2},\"x\":{\"field\":\"fruits\",\"transform\":{\"id\":\"4095\",\"type\":\"Dodge\"}}},\"id\":\"4097\",\"type\":\"VBar\"},{\"attributes\":{\"data_source\":{\"id\":\"4046\",\"type\":\"ColumnDataSource\"},\"glyph\":{\"id\":\"4083\",\"type\":\"VBar\"},\"hover_glyph\":null,\"muted_glyph\":null,\"nonselection_glyph\":{\"id\":\"4084\",\"type\":\"VBar\"},\"selection_glyph\":null,\"view\":{\"id\":\"4086\",\"type\":\"CDSView\"}},\"id\":\"4085\",\"type\":\"GlyphRenderer\"},{\"attributes\":{\"label\":{\"value\":\"2017\"},\"renderers\":[{\"id\":\"4099\",\"type\":\"GlyphRenderer\"}]},\"id\":\"4108\",\"type\":\"LegendItem\"},{\"attributes\":{},\"id\":\"4054\",\"type\":\"CategoricalScale\"},{\"attributes\":{\"source\":{\"id\":\"4046\",\"type\":\"ColumnDataSource\"}},\"id\":\"4086\",\"type\":\"CDSView\"},{\"attributes\":{},\"id\":\"4092\",\"type\":\"Selection\"},{\"attributes\":{\"label\":{\"value\":\"2016\"},\"renderers\":[{\"id\":\"4085\",\"type\":\"GlyphRenderer\"}]},\"id\":\"4094\",\"type\":\"LegendItem\"},{\"attributes\":{},\"id\":\"4093\",\"type\":\"UnionRenderers\"},{\"attributes\":{\"data_source\":{\"id\":\"4046\",\"type\":\"ColumnDataSource\"},\"glyph\":{\"id\":\"4070\",\"type\":\"VBar\"},\"hover_glyph\":null,\"muted_glyph\":null,\"nonselection_glyph\":{\"id\":\"4071\",\"type\":\"VBar\"},\"selection_glyph\":null,\"view\":{\"id\":\"4073\",\"type\":\"CDSView\"}},\"id\":\"4072\",\"type\":\"GlyphRenderer\"},{\"attributes\":{\"active_drag\":\"auto\",\"active_inspect\":\"auto\",\"active_multi\":null,\"active_scroll\":\"auto\",\"active_tap\":\"auto\"},\"id\":\"4067\",\"type\":\"Toolbar\"},{\"attributes\":{\"fill_alpha\":{\"value\":0.1},\"fill_color\":{\"value\":\"#1f77b4\"},\"line_alpha\":{\"value\":0.1},\"line_color\":{\"value\":\"#1f77b4\"},\"top\":{\"field\":\"2017\"},\"width\":{\"value\":0.2},\"x\":{\"field\":\"fruits\",\"transform\":{\"id\":\"4095\",\"type\":\"Dodge\"}}},\"id\":\"4098\",\"type\":\"VBar\"},{\"attributes\":{\"range\":{\"id\":\"4050\",\"type\":\"FactorRange\"}},\"id\":\"4081\",\"type\":\"Dodge\"},{\"attributes\":{\"data_source\":{\"id\":\"4046\",\"type\":\"ColumnDataSource\"},\"glyph\":{\"id\":\"4097\",\"type\":\"VBar\"},\"hover_glyph\":null,\"muted_glyph\":null,\"nonselection_glyph\":{\"id\":\"4098\",\"type\":\"VBar\"},\"selection_glyph\":null,\"view\":{\"id\":\"4100\",\"type\":\"CDSView\"}},\"id\":\"4099\",\"type\":\"GlyphRenderer\"},{\"attributes\":{\"source\":{\"id\":\"4046\",\"type\":\"ColumnDataSource\"}},\"id\":\"4100\",\"type\":\"CDSView\"},{\"attributes\":{\"fill_alpha\":{\"value\":0.1},\"fill_color\":{\"value\":\"#1f77b4\"},\"line_alpha\":{\"value\":0.1},\"line_color\":{\"value\":\"#1f77b4\"},\"top\":{\"field\":\"2015\"},\"width\":{\"value\":0.2},\"x\":{\"field\":\"fruits\",\"transform\":{\"id\":\"4068\",\"type\":\"Dodge\"}}},\"id\":\"4071\",\"type\":\"VBar\"},{\"attributes\":{\"callback\":null,\"data\":{\"2015\":[2,1,4,3,2,4],\"2016\":[5,3,3,2,4,6],\"2017\":[3,2,4,4,5,3],\"fruits\":[\"Apples\",\"Pears\",\"Nectarines\",\"Plums\",\"Grapes\",\"Strawberries\"]},\"selected\":{\"id\":\"4092\",\"type\":\"Selection\"},\"selection_policy\":{\"id\":\"4093\",\"type\":\"UnionRenderers\"}},\"id\":\"4046\",\"type\":\"ColumnDataSource\"},{\"attributes\":{\"formatter\":{\"id\":\"4078\",\"type\":\"BasicTickFormatter\"},\"ticker\":{\"id\":\"4063\",\"type\":\"BasicTicker\"}},\"id\":\"4062\",\"type\":\"LinearAxis\"},{\"attributes\":{\"range\":{\"id\":\"4050\",\"type\":\"FactorRange\"},\"value\":0.25},\"id\":\"4095\",\"type\":\"Dodge\"},{\"attributes\":{\"text\":\"Fruit Counts by Year\"},\"id\":\"4048\",\"type\":\"Title\"},{\"attributes\":{},\"id\":\"4056\",\"type\":\"LinearScale\"},{\"attributes\":{\"fill_color\":{\"value\":\"#c9d9d3\"},\"line_color\":{\"value\":\"#c9d9d3\"},\"top\":{\"field\":\"2015\"},\"width\":{\"value\":0.2},\"x\":{\"field\":\"fruits\",\"transform\":{\"id\":\"4068\",\"type\":\"Dodge\"}}},\"id\":\"4070\",\"type\":\"VBar\"},{\"attributes\":{},\"id\":\"4076\",\"type\":\"CategoricalTickFormatter\"}],\"root_ids\":[\"4047\"]},\"title\":\"Bokeh Application\",\"version\":\"1.4.0\"}};\n",
       "  var render_items = [{\"docid\":\"56e85115-c614-4b9d-8432-93f5efc39134\",\"roots\":{\"4047\":\"171d15e2-a1fa-4256-8b69-0e748d44cb3b\"}}];\n",
       "  root.Bokeh.embed.embed_items_notebook(docs_json, render_items);\n",
       "\n",
       "  }\n",
       "  if (root.Bokeh !== undefined) {\n",
       "    embed_document(root);\n",
       "  } else {\n",
       "    var attempts = 0;\n",
       "    var timer = setInterval(function(root) {\n",
       "      if (root.Bokeh !== undefined) {\n",
       "        clearInterval(timer);\n",
       "        embed_document(root);\n",
       "      } else {\n",
       "        attempts++;\n",
       "        if (attempts > 100) {\n",
       "          clearInterval(timer);\n",
       "          console.log(\"Bokeh: ERROR: Unable to run BokehJS code because BokehJS library is missing\");\n",
       "        }\n",
       "      }\n",
       "    }, 10, root)\n",
       "  }\n",
       "})(window);"
      ],
      "application/vnd.bokehjs_exec.v0+json": ""
     },
     "metadata": {
      "application/vnd.bokehjs_exec.v0+json": {
       "id": "4047"
      }
     },
     "output_type": "display_data"
    }
   ],
   "source": [
    "fruits = ['Apples', 'Pears', 'Nectarines', 'Plums', 'Grapes', 'Strawberries']\n",
    "years = ['2015', '2016', '2017']\n",
    "\n",
    "data = {'fruits' : fruits,\n",
    "        '2015'   : [2, 1, 4, 3, 2, 4],\n",
    "        '2016'   : [5, 3, 3, 2, 4, 6],\n",
    "        '2017'   : [3, 2, 4, 4, 5, 3]}\n",
    "\n",
    "source = ColumnDataSource(data=data)\n",
    "\n",
    "p = figure(x_range=fruits, y_range=(0, 10), plot_height=250, title=\"Fruit Counts by Year\",\n",
    "           toolbar_location=None, tools=\"\")\n",
    "\n",
    "p.vbar(x=dodge('fruits', -0.25, range=p.x_range), top='2015', width=0.2, source=source,\n",
    "       color=\"#c9d9d3\", legend_label=\"2015\")\n",
    "\n",
    "p.vbar(x=dodge('fruits',  0.0,  range=p.x_range), top='2016', width=0.2, source=source,\n",
    "       color=\"#718dbf\", legend_label=\"2016\")\n",
    "\n",
    "p.vbar(x=dodge('fruits',  0.25, range=p.x_range), top='2017', width=0.2, source=source,\n",
    "       color=\"#e84d60\", legend_label=\"2017\")\n",
    "\n",
    "p.x_range.range_padding = 0.1\n",
    "p.xgrid.grid_line_color = None\n",
    "p.legend.location = \"top_left\"\n",
    "p.legend.orientation = \"horizontal\"\n",
    "\n",
    "show(p)"
   ]
  },
  {
   "cell_type": "code",
   "execution_count": 32,
   "metadata": {},
   "outputs": [
    {
     "data": {
      "text/html": [
       "\n",
       "\n",
       "\n",
       "\n",
       "\n",
       "\n",
       "  <div class=\"bk-root\" id=\"249e0e25-9add-45ea-b1f4-8e17114b3c35\" data-root-id=\"4310\"></div>\n"
      ]
     },
     "metadata": {},
     "output_type": "display_data"
    },
    {
     "data": {
      "application/javascript": [
       "(function(root) {\n",
       "  function embed_document(root) {\n",
       "    \n",
       "  var docs_json = {\"73edaf62-1110-449e-91c1-c6ac7539acab\":{\"roots\":{\"references\":[{\"attributes\":{\"below\":[{\"id\":\"4318\",\"type\":\"CategoricalAxis\"}],\"center\":[{\"id\":\"4321\",\"type\":\"Grid\"},{\"id\":\"4326\",\"type\":\"Grid\"},{\"id\":\"4356\",\"type\":\"Legend\"}],\"left\":[{\"id\":\"4322\",\"type\":\"LinearAxis\"}],\"plot_height\":250,\"renderers\":[{\"id\":\"4347\",\"type\":\"GlyphRenderer\"},{\"id\":\"4361\",\"type\":\"GlyphRenderer\"}],\"title\":{\"id\":\"4349\",\"type\":\"Title\"},\"toolbar\":{\"id\":\"4333\",\"type\":\"Toolbar\"},\"x_range\":{\"id\":\"4309\",\"type\":\"FactorRange\"},\"x_scale\":{\"id\":\"4314\",\"type\":\"CategoricalScale\"},\"y_range\":{\"id\":\"4312\",\"type\":\"DataRange1d\"},\"y_scale\":{\"id\":\"4316\",\"type\":\"LinearScale\"}},\"id\":\"4310\",\"subtype\":\"Figure\",\"type\":\"Plot\"},{\"attributes\":{},\"id\":\"4370\",\"type\":\"UnionRenderers\"},{\"attributes\":{\"callback\":null,\"end\":18,\"start\":0},\"id\":\"4312\",\"type\":\"DataRange1d\"},{\"attributes\":{\"label\":{\"value\":\"west\"},\"renderers\":[{\"id\":\"4361\",\"type\":\"GlyphRenderer\"}]},\"id\":\"4372\",\"type\":\"LegendItem\"},{\"attributes\":{},\"id\":\"4314\",\"type\":\"CategoricalScale\"},{\"attributes\":{\"label\":{\"value\":\"east\"},\"renderers\":[{\"id\":\"4347\",\"type\":\"GlyphRenderer\"}]},\"id\":\"4357\",\"type\":\"LegendItem\"},{\"attributes\":{},\"id\":\"4316\",\"type\":\"LinearScale\"},{\"attributes\":{\"formatter\":{\"id\":\"4352\",\"type\":\"CategoricalTickFormatter\"},\"major_label_orientation\":1,\"ticker\":{\"id\":\"4319\",\"type\":\"CategoricalTicker\"}},\"id\":\"4318\",\"type\":\"CategoricalAxis\"},{\"attributes\":{},\"id\":\"4323\",\"type\":\"BasicTicker\"},{\"attributes\":{},\"id\":\"4319\",\"type\":\"CategoricalTicker\"},{\"attributes\":{\"grid_line_color\":null,\"ticker\":{\"id\":\"4319\",\"type\":\"CategoricalTicker\"}},\"id\":\"4321\",\"type\":\"Grid\"},{\"attributes\":{\"fields\":[\"east\"]},\"id\":\"4341\",\"type\":\"Stack\"},{\"attributes\":{\"dimension\":1,\"ticker\":{\"id\":\"4323\",\"type\":\"BasicTicker\"}},\"id\":\"4326\",\"type\":\"Grid\"},{\"attributes\":{\"formatter\":{\"id\":\"4354\",\"type\":\"BasicTickFormatter\"},\"ticker\":{\"id\":\"4323\",\"type\":\"BasicTicker\"}},\"id\":\"4322\",\"type\":\"LinearAxis\"},{\"attributes\":{},\"id\":\"4354\",\"type\":\"BasicTickFormatter\"},{\"attributes\":{\"fields\":[]},\"id\":\"4340\",\"type\":\"Stack\"},{\"attributes\":{\"active_drag\":\"auto\",\"active_inspect\":\"auto\",\"active_multi\":null,\"active_scroll\":\"auto\",\"active_tap\":\"auto\",\"tools\":[{\"id\":\"4327\",\"type\":\"PanTool\"},{\"id\":\"4328\",\"type\":\"WheelZoomTool\"},{\"id\":\"4329\",\"type\":\"BoxZoomTool\"},{\"id\":\"4330\",\"type\":\"SaveTool\"},{\"id\":\"4331\",\"type\":\"ResetTool\"},{\"id\":\"4332\",\"type\":\"HelpTool\"}]},\"id\":\"4333\",\"type\":\"Toolbar\"},{\"attributes\":{},\"id\":\"4327\",\"type\":\"PanTool\"},{\"attributes\":{},\"id\":\"4328\",\"type\":\"WheelZoomTool\"},{\"attributes\":{\"overlay\":{\"id\":\"4355\",\"type\":\"BoxAnnotation\"}},\"id\":\"4329\",\"type\":\"BoxZoomTool\"},{\"attributes\":{},\"id\":\"4330\",\"type\":\"SaveTool\"},{\"attributes\":{},\"id\":\"4331\",\"type\":\"ResetTool\"},{\"attributes\":{},\"id\":\"4332\",\"type\":\"HelpTool\"},{\"attributes\":{\"callback\":null,\"data\":{\"east\":[5,5,6,5,5,4,5,6,7,8,6,9],\"west\":[5,7,9,4,5,4,7,7,7,6,6,7],\"x\":[[\"Q1\",\"jan\"],[\"Q1\",\"feb\"],[\"Q1\",\"mar\"],[\"Q2\",\"apr\"],[\"Q2\",\"may\"],[\"Q2\",\"jun\"],[\"Q3\",\"jul\"],[\"Q3\",\"aug\"],[\"Q3\",\"sep\"],[\"Q4\",\"oct\"],[\"Q4\",\"nov\"],[\"Q4\",\"dec\"]]},\"selected\":{\"id\":\"4369\",\"type\":\"Selection\"},\"selection_policy\":{\"id\":\"4370\",\"type\":\"UnionRenderers\"}},\"id\":\"4308\",\"type\":\"ColumnDataSource\"},{\"attributes\":{\"items\":[{\"id\":\"4357\",\"type\":\"LegendItem\"},{\"id\":\"4372\",\"type\":\"LegendItem\"}],\"location\":\"top_center\",\"orientation\":\"horizontal\"},\"id\":\"4356\",\"type\":\"Legend\"},{\"attributes\":{\"fields\":[\"east\",\"west\"]},\"id\":\"4343\",\"type\":\"Stack\"},{\"attributes\":{\"bottom\":{\"expr\":{\"id\":\"4340\",\"type\":\"Stack\"}},\"fill_alpha\":{\"value\":0.5},\"fill_color\":{\"value\":\"blue\"},\"line_alpha\":{\"value\":0.5},\"line_color\":{\"value\":\"blue\"},\"top\":{\"expr\":{\"id\":\"4341\",\"type\":\"Stack\"}},\"width\":{\"value\":0.9},\"x\":{\"field\":\"x\"}},\"id\":\"4345\",\"type\":\"VBar\"},{\"attributes\":{\"source\":{\"id\":\"4308\",\"type\":\"ColumnDataSource\"}},\"id\":\"4348\",\"type\":\"CDSView\"},{\"attributes\":{\"fields\":[\"east\"]},\"id\":\"4342\",\"type\":\"Stack\"},{\"attributes\":{\"bottom\":{\"expr\":{\"id\":\"4342\",\"type\":\"Stack\"}},\"fill_alpha\":{\"value\":0.1},\"fill_color\":{\"value\":\"#1f77b4\"},\"line_alpha\":{\"value\":0.1},\"line_color\":{\"value\":\"#1f77b4\"},\"top\":{\"expr\":{\"id\":\"4343\",\"type\":\"Stack\"}},\"width\":{\"value\":0.9},\"x\":{\"field\":\"x\"}},\"id\":\"4360\",\"type\":\"VBar\"},{\"attributes\":{\"bottom\":{\"expr\":{\"id\":\"4340\",\"type\":\"Stack\"}},\"fill_alpha\":{\"value\":0.1},\"fill_color\":{\"value\":\"#1f77b4\"},\"line_alpha\":{\"value\":0.1},\"line_color\":{\"value\":\"#1f77b4\"},\"top\":{\"expr\":{\"id\":\"4341\",\"type\":\"Stack\"}},\"width\":{\"value\":0.9},\"x\":{\"field\":\"x\"}},\"id\":\"4346\",\"type\":\"VBar\"},{\"attributes\":{\"data_source\":{\"id\":\"4308\",\"type\":\"ColumnDataSource\"},\"glyph\":{\"id\":\"4345\",\"type\":\"VBar\"},\"hover_glyph\":null,\"muted_glyph\":null,\"name\":\"east\",\"nonselection_glyph\":{\"id\":\"4346\",\"type\":\"VBar\"},\"selection_glyph\":null,\"view\":{\"id\":\"4348\",\"type\":\"CDSView\"}},\"id\":\"4347\",\"type\":\"GlyphRenderer\"},{\"attributes\":{\"text\":\"\"},\"id\":\"4349\",\"type\":\"Title\"},{\"attributes\":{},\"id\":\"4369\",\"type\":\"Selection\"},{\"attributes\":{\"callback\":null,\"factors\":[[\"Q1\",\"jan\"],[\"Q1\",\"feb\"],[\"Q1\",\"mar\"],[\"Q2\",\"apr\"],[\"Q2\",\"may\"],[\"Q2\",\"jun\"],[\"Q3\",\"jul\"],[\"Q3\",\"aug\"],[\"Q3\",\"sep\"],[\"Q4\",\"oct\"],[\"Q4\",\"nov\"],[\"Q4\",\"dec\"]],\"range_padding\":0.1},\"id\":\"4309\",\"type\":\"FactorRange\"},{\"attributes\":{\"bottom\":{\"expr\":{\"id\":\"4342\",\"type\":\"Stack\"}},\"fill_alpha\":{\"value\":0.5},\"fill_color\":{\"value\":\"red\"},\"line_alpha\":{\"value\":0.5},\"line_color\":{\"value\":\"red\"},\"top\":{\"expr\":{\"id\":\"4343\",\"type\":\"Stack\"}},\"width\":{\"value\":0.9},\"x\":{\"field\":\"x\"}},\"id\":\"4359\",\"type\":\"VBar\"},{\"attributes\":{},\"id\":\"4352\",\"type\":\"CategoricalTickFormatter\"},{\"attributes\":{\"bottom_units\":\"screen\",\"fill_alpha\":{\"value\":0.5},\"fill_color\":{\"value\":\"lightgrey\"},\"left_units\":\"screen\",\"level\":\"overlay\",\"line_alpha\":{\"value\":1.0},\"line_color\":{\"value\":\"black\"},\"line_dash\":[4,4],\"line_width\":{\"value\":2},\"render_mode\":\"css\",\"right_units\":\"screen\",\"top_units\":\"screen\"},\"id\":\"4355\",\"type\":\"BoxAnnotation\"},{\"attributes\":{\"data_source\":{\"id\":\"4308\",\"type\":\"ColumnDataSource\"},\"glyph\":{\"id\":\"4359\",\"type\":\"VBar\"},\"hover_glyph\":null,\"muted_glyph\":null,\"name\":\"west\",\"nonselection_glyph\":{\"id\":\"4360\",\"type\":\"VBar\"},\"selection_glyph\":null,\"view\":{\"id\":\"4362\",\"type\":\"CDSView\"}},\"id\":\"4361\",\"type\":\"GlyphRenderer\"},{\"attributes\":{\"source\":{\"id\":\"4308\",\"type\":\"ColumnDataSource\"}},\"id\":\"4362\",\"type\":\"CDSView\"}],\"root_ids\":[\"4310\"]},\"title\":\"Bokeh Application\",\"version\":\"1.4.0\"}};\n",
       "  var render_items = [{\"docid\":\"73edaf62-1110-449e-91c1-c6ac7539acab\",\"roots\":{\"4310\":\"249e0e25-9add-45ea-b1f4-8e17114b3c35\"}}];\n",
       "  root.Bokeh.embed.embed_items_notebook(docs_json, render_items);\n",
       "\n",
       "  }\n",
       "  if (root.Bokeh !== undefined) {\n",
       "    embed_document(root);\n",
       "  } else {\n",
       "    var attempts = 0;\n",
       "    var timer = setInterval(function(root) {\n",
       "      if (root.Bokeh !== undefined) {\n",
       "        clearInterval(timer);\n",
       "        embed_document(root);\n",
       "      } else {\n",
       "        attempts++;\n",
       "        if (attempts > 100) {\n",
       "          clearInterval(timer);\n",
       "          console.log(\"Bokeh: ERROR: Unable to run BokehJS code because BokehJS library is missing\");\n",
       "        }\n",
       "      }\n",
       "    }, 10, root)\n",
       "  }\n",
       "})(window);"
      ],
      "application/vnd.bokehjs_exec.v0+json": ""
     },
     "metadata": {
      "application/vnd.bokehjs_exec.v0+json": {
       "id": "4310"
      }
     },
     "output_type": "display_data"
    }
   ],
   "source": [
    "factors = [\n",
    "    (\"Q1\", \"jan\"), (\"Q1\", \"feb\"), (\"Q1\", \"mar\"),\n",
    "    (\"Q2\", \"apr\"), (\"Q2\", \"may\"), (\"Q2\", \"jun\"),\n",
    "    (\"Q3\", \"jul\"), (\"Q3\", \"aug\"), (\"Q3\", \"sep\"),\n",
    "    (\"Q4\", \"oct\"), (\"Q4\", \"nov\"), (\"Q4\", \"dec\"),\n",
    "\n",
    "]\n",
    "\n",
    "regions = ['east', 'west']\n",
    "\n",
    "source = ColumnDataSource(data=dict(\n",
    "    x=factors,\n",
    "    east=[ 5, 5, 6, 5, 5, 4, 5, 6, 7, 8, 6, 9 ],\n",
    "    west=[ 5, 7, 9, 4, 5, 4, 7, 7, 7, 6, 6, 7 ],\n",
    "))\n",
    "\n",
    "p = figure(x_range=FactorRange(*factors), plot_height=250,)\n",
    "p.vbar_stack(regions, x='x', width=0.9, alpha=0.5, color=[\"blue\", \"red\"], source=source,\n",
    "             legend_label=regions)\n",
    "\n",
    "p.y_range.start = 0\n",
    "p.y_range.end = 18\n",
    "p.x_range.range_padding = 0.1\n",
    "p.xaxis.major_label_orientation = 1\n",
    "p.xgrid.grid_line_color = None\n",
    "p.legend.location = \"top_center\"\n",
    "p.legend.orientation = \"horizontal\"\n",
    "\n",
    "show(p)"
   ]
  },
  {
   "cell_type": "code",
   "execution_count": null,
   "metadata": {},
   "outputs": [],
   "source": []
  },
  {
   "cell_type": "code",
   "execution_count": null,
   "metadata": {},
   "outputs": [],
   "source": []
  }
 ],
 "metadata": {
  "kernelspec": {
   "display_name": "Python 3",
   "language": "python",
   "name": "python3"
  },
  "language_info": {
   "codemirror_mode": {
    "name": "ipython",
    "version": 3
   },
   "file_extension": ".py",
   "mimetype": "text/x-python",
   "name": "python",
   "nbconvert_exporter": "python",
   "pygments_lexer": "ipython3",
   "version": "3.7.2"
  }
 },
 "nbformat": 4,
 "nbformat_minor": 2
}
